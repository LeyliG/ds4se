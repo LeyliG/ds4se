{
 "cells": [
  {
   "cell_type": "code",
   "execution_count": null,
   "metadata": {},
   "outputs": [],
   "source": [
    "# default_exp mining.unsupervised.traceability.ida"
   ]
  },
  {
   "cell_type": "markdown",
   "metadata": {},
   "source": [
    "# Initial Data Analysis for Software Traceability [IDA]\n",
    "\n",
    "> This module is dedicated for IDA \n",
    ">\n",
    "> Maintained by @danaderp Jun 2020"
   ]
  },
  {
   "cell_type": "markdown",
   "metadata": {},
   "source": [
    "The most important distinction between the initial data analysis phase and the main analysis phase, is that during initial data analysis one refrains from any analysis that is aimed at answering the original research question. IDA is guided by these topics:\n",
    "- Quality of the data: frequency counts, descriptive statistics (mean, standard deviation, median), normality (skewness, kurtosis, frequency histograms), n variables are compared with coding schemes of variables external to the dataset. [todo] here we should define which Initial Data Analysis are going to be applied to software artifacts \n",
    "- Quality of measurements: the quality of the measurement instruments should only be checked during IDA. Analysis of homogeneity (internal consistency), which gives an indication of the reliability of a measurement instrument \n",
    "- Initial transformations: consider to run pre-processings to clean and enhance the quality of the data\n",
    "- Check randomization procedure: check representation of the data or stratification \n",
    "- Characteristics of data sample: the structure of the sample must be accurately described, for instance, 1) the basic statistics of important variables, 2) scatter plots, 3) correlations and associations, 4) cross-tabulations"
   ]
  },
  {
   "cell_type": "code",
   "execution_count": null,
   "metadata": {},
   "outputs": [],
   "source": []
  }
 ],
 "metadata": {
  "kernelspec": {
   "display_name": "Python 3",
   "language": "python",
   "name": "python3"
  }
 },
 "nbformat": 4,
 "nbformat_minor": 2
}
