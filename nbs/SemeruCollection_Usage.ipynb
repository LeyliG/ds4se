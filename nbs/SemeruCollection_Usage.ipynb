{
 "cells": [
  {
   "cell_type": "markdown",
   "metadata": {},
   "source": [
    "# Getting Started\n",
    "### Necessary Imports\n",
    "To run the SemeruCollection code, you will also need to use the pymongo MongoClient object. Documentation on MongoClients can be found here, https://api.mongodb.com/python/current/api/pymongo/mongo_client.html#pymongo.mongo_client.MongoClient , but in general MongoClients allow connections to Mongo instances and all databases on those instances. "
   ]
  },
  {
   "cell_type": "code",
   "execution_count": 3,
   "metadata": {},
   "outputs": [],
   "source": [
    "from pymongo import MongoClient\n",
    "from DatabaseManagement.Semeru_Collection import SemeruCollection"
   ]
  },
  {
   "cell_type": "markdown",
   "metadata": {},
   "source": [
    "### Instantiate a SemeruCollection object\n",
    "SemeruCollection objects inherit from Pymongo Collection objects, documentation here: https://api.mongodb.com/python/current/api/pymongo/collection.html#pymongo.collection.Collection . All functions possible for a pymongo collection object are possible for a SemeruCollection object. SemeruCollections have custom definitions for the following methods: \n",
    "* `def insert_one(self, document, bypass_document_validation=False, session=None)`\n",
    "* `def delete_one(self, filter, collation=None, session=None)`\n",
    "\n",
    "and have the additional methods:\n",
    "\n",
    "* `def run_transformation(self, query, function, transformation_collection_name)`\n",
    "* and the static method `def link_ground_truth(id_1, collection_1, id_2, collection_2):`"
   ]
  },
  {
   "cell_type": "code",
   "execution_count": 7,
   "metadata": {},
   "outputs": [],
   "source": [
    "# Set the client to the URI and port of your database. \n",
    "# This line will throw an error if you do not have a mongo database set up on your machine\n",
    "client = MongoClient('localhost', 27017)\n",
    "\n",
    "# Set the name of the database\n",
    "db = client.test # This syntax is equivalent to: db = client[\"test\"]\n",
    "\n",
    "\n",
    "test = SemeruCollection(database=db, name=\"source_raw\", raw_schema=\"./DatabaseManagement/raw_schema.json\", transform_schema=\"./DatabaseManagement/transformed_schema.json\")"
   ]
  },
  {
   "cell_type": "code",
   "execution_count": null,
   "metadata": {},
   "outputs": [],
   "source": []
  }
 ],
 "metadata": {
  "kernelspec": {
   "display_name": "Artificial-Code-Gen",
   "language": "python",
   "name": "artificial-code-gen"
  },
  "language_info": {
   "codemirror_mode": {
    "name": "ipython",
    "version": 3
   },
   "file_extension": ".py",
   "mimetype": "text/x-python",
   "name": "python",
   "nbconvert_exporter": "python",
   "pygments_lexer": "ipython3",
   "version": "3.7.4"
  }
 },
 "nbformat": 4,
 "nbformat_minor": 2
}
