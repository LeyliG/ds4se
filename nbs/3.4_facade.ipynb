{
 "cells": [
  {
   "cell_type": "code",
   "execution_count": null,
   "metadata": {},
   "outputs": [],
   "source": [
    "# default_exp facade"
   ]
  },
  {
   "cell_type": "code",
   "execution_count": null,
   "metadata": {},
   "outputs": [],
   "source": [
    "import random\n",
    "from nbdev.showdoc import *"
   ]
  },
  {
   "cell_type": "code",
   "execution_count": null,
   "metadata": {},
   "outputs": [],
   "source": []
  },
  {
   "cell_type": "code",
   "execution_count": null,
   "metadata": {},
   "outputs": [],
   "source": [
    "#export\n",
    "def TraceLinkValue(filename, source, technique):\n",
    "    value = random.randint(0,1)\n",
    "    return value\n",
    "\n",
    "#export\n",
    "def NumDoc(source, target):\n",
    "    source_doc = random.randint(100,200)\n",
    "    target_doc = random.randint(100,200)\n",
    "    difference = source_doc - target_doc\n",
    "    return [source_doc, target_doc, difference, -difference]\n",
    "   \n",
    "#export\n",
    "def VocabSize(source, target):\n",
    "    source_size = random.randint(100,200)\n",
    "    target_size = random.randint(100,200)\n",
    "    difference = source_size - target_size\n",
    "    return [source_size, target_size, difference, -difference]  \n",
    "\n",
    "#export\n",
    "def AverageToken(source, target):\n",
    "    source_token = random.randint(100,200)\n",
    "    target_token = random.randint(100,200)\n",
    "    difference = source_token - target_token\n",
    "    return [source_token, target_token, difference, -difference]\n",
    "\n",
    "#export\n",
    "def Vocab(filename):\n",
    "    total = 1000\n",
    "    vocab_dict = dict()\n",
    "    tmp1 = random.randint(100,200)\n",
    "    tmp2 = random.randint(100,200)\n",
    "    tmp3 = random.randint(100,200)\n",
    "    vocab_dict[\"est\"] = [tmp1, tmp1/total]\n",
    "    vocab_dict[\"http\"] = [tmp2, tmp2/total]\n",
    "    vocab_dict[\"frequnecy\"] = [tmp3, tmp3/total]\n",
    "    return vocab_dict\n",
    "    \n",
    "    \n",
    "#export\n",
    "def VocabShared(source, target):\n",
    "    total = 1000\n",
    "    vocab_dict = dict()\n",
    "    tmp1 = random.randint(100,200)\n",
    "    tmp2 = random.randint(100,200)\n",
    "    tmp3 = random.randint(100,200)\n",
    "    vocab_dict[\"est\"] = [tmp1, tmp1/total]\n",
    "    vocab_dict[\"http\"] = [tmp2, tmp2/total]\n",
    "    vocab_dict[\"frequnecy\"] = [tmp3, tmp3/total]\n",
    "    return vocab_dict    \n",
    "    \n",
    "#export\n",
    "def SharedVocabSize(source, target):\n",
    "    shared_size = random.randint(100,200)\n",
    "    return shared_size\n",
    "\n",
    "#export\n",
    "def MutualInformation(source, target):\n",
    "    mutual_information = random.randint(100,200)\n",
    "    return mutual_information\n",
    "    \n",
    "#export\n",
    "def CrossEntropy(source, target):\n",
    "    cross_entropy = random.randint(100,200)\n",
    "    return cross_entropy\n",
    "    \n",
    "#export\n",
    "def KLDivergence(source, target):\n",
    "    divergence = random.randint(100,200)\n",
    "    return divergence"
   ]
  },
  {
   "cell_type": "code",
   "execution_count": null,
   "metadata": {},
   "outputs": [],
   "source": [
    "# nbdev_build_docs\n",
    "# notebook2script()"
   ]
  },
  {
   "cell_type": "code",
   "execution_count": null,
   "metadata": {},
   "outputs": [],
   "source": []
  },
  {
   "cell_type": "code",
   "execution_count": null,
   "metadata": {},
   "outputs": [],
   "source": [
    "#FacadeTest\n",
    "#Test case for proto TLV\n",
    "\n",
    "#Prototype should print a 0 or 1. Input values aren't used\n",
    "testTLV = TraceLinkValue(0,1,1)\n",
    "assert((testTLV == 0) or (testTLV == 1))"
   ]
  },
  {
   "cell_type": "code",
   "execution_count": null,
   "metadata": {},
   "outputs": [],
   "source": []
  },
  {
   "cell_type": "code",
   "execution_count": null,
   "metadata": {},
   "outputs": [],
   "source": [
    "#FacadeTest\n",
    "#Test Case for Proto NumDoc\n",
    "\n",
    "#Prototype should print an array based on the randomly generated numbers. Input values aren't used.\n",
    "testND = NumDoc(100,10000000)\n",
    "assert(isinstance(testND, list))"
   ]
  },
  {
   "cell_type": "code",
   "execution_count": null,
   "metadata": {},
   "outputs": [],
   "source": []
  },
  {
   "cell_type": "code",
   "execution_count": null,
   "metadata": {},
   "outputs": [],
   "source": [
    "#FacadeTest\n",
    "#Test case for Vocab size\n",
    "\n",
    "#Prototype should return an array based on random number values. Inputs aren't used.\n",
    "testVS = VocabSize(100,100000)\n",
    "assert(isinstance(testVS, list))"
   ]
  },
  {
   "cell_type": "code",
   "execution_count": null,
   "metadata": {},
   "outputs": [],
   "source": []
  },
  {
   "cell_type": "code",
   "execution_count": null,
   "metadata": {},
   "outputs": [],
   "source": [
    "#FacadeTest\n",
    "#Test Case for AverageToken\n",
    "\n",
    "#Prototype should return an array/list. Inputs aren't used\n",
    "testAT = AverageToken(100,100)\n",
    "assert(isinstance(testAT, list))"
   ]
  },
  {
   "cell_type": "code",
   "execution_count": null,
   "metadata": {},
   "outputs": [],
   "source": []
  },
  {
   "cell_type": "code",
   "execution_count": null,
   "metadata": {},
   "outputs": [],
   "source": [
    "#FacadeTest\n",
    "#Test Case for Vocab\n",
    "\n",
    "#Prototype Vocab should return dictionary type. \n",
    "#Will expand to test dictionary values once presets can be generated and tested\n",
    "testVocab = Vocab(\"file\")\n",
    "\n",
    "assert(isinstance(testVocab,dict))"
   ]
  },
  {
   "cell_type": "code",
   "execution_count": null,
   "metadata": {},
   "outputs": [],
   "source": []
  },
  {
   "cell_type": "code",
   "execution_count": null,
   "metadata": {},
   "outputs": [],
   "source": [
    "#FacadeTest\n",
    "#Test VocabShared\n",
    "\n",
    "#Prototype should show a dictionary\n",
    "#Test will be expanded to verify frequency verification in two samples\n",
    "testVocabS = VocabShared(\"source\",\"target\")\n",
    "assert(isinstance(testVocabS,dict))\n"
   ]
  },
  {
   "cell_type": "code",
   "execution_count": null,
   "metadata": {},
   "outputs": [],
   "source": []
  },
  {
   "cell_type": "code",
   "execution_count": null,
   "metadata": {},
   "outputs": [],
   "source": [
    "#FacadeTest\n",
    "#Test Shared vocab size\n",
    "\n",
    "#Prototype should return an i\n",
    "testSVS = SharedVocabSize(\"source\",\"target\")\n",
    "assert(testSVS in range(100,200))"
   ]
  },
  {
   "cell_type": "code",
   "execution_count": null,
   "metadata": {},
   "outputs": [],
   "source": []
  },
  {
   "cell_type": "code",
   "execution_count": null,
   "metadata": {},
   "outputs": [],
   "source": [
    "#FacadeTest\n",
    "#TEst Mutual information\n",
    "\n",
    "#Proto mutual information should get an int\n",
    "testMutualInfo = MutualInformation(\"source\",\"target\")\n",
    "assert(testMutualInfo in range(100,200))"
   ]
  },
  {
   "cell_type": "code",
   "execution_count": null,
   "metadata": {},
   "outputs": [],
   "source": []
  },
  {
   "cell_type": "code",
   "execution_count": null,
   "metadata": {},
   "outputs": [],
   "source": [
    "#FacadeTest\n",
    "#Test Cross Entropy\n",
    "\n",
    "#Proto cross Entropy should return an int\n",
    "testCrossEntropy = CrossEntropy(\"Sauce\",\"Target\")\n",
    "assert(testCrossEntropy in range(100,200))\n",
    "\n",
    "#Eventually cross entropy will properly implement Entropy calculation and the test will compare a known/predicted entropy\n",
    "# to a calculated value\n"
   ]
  },
  {
   "cell_type": "code",
   "execution_count": null,
   "metadata": {},
   "outputs": [],
   "source": []
  },
  {
   "cell_type": "code",
   "execution_count": null,
   "metadata": {},
   "outputs": [],
   "source": [
    "#FacadeTest\n",
    "#Test KLDivergence\n",
    "\n",
    "#Proto KLDivegence will return an random int\n",
    "testKLDiver = KLDivergence(\"source\",\"target\")\n",
    "assert(testKLDiver in range(100,200))"
   ]
  },
  {
   "cell_type": "code",
   "execution_count": null,
   "metadata": {},
   "outputs": [],
   "source": []
  }
 ],
 "metadata": {
  "kernelspec": {
   "display_name": "Python 3",
   "language": "python",
   "name": "python3"
  }
 },
 "nbformat": 4,
 "nbformat_minor": 4
}
