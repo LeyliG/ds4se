{
 "cells": [
  {
   "cell_type": "code",
   "execution_count": 2,
   "metadata": {},
   "outputs": [],
   "source": [
    "# default_exp facade"
   ]
  },
  {
   "cell_type": "code",
   "execution_count": 10,
   "metadata": {},
   "outputs": [
    {
     "name": "stdout",
     "output_type": "stream",
     "text": [
      "Requirement already satisfied: nbdev in /Users/danielquiroga/anaconda3/lib/python3.7/site-packages (1.1.4)\n",
      "Requirement already satisfied: fastcore>=1.2.0 in /Users/danielquiroga/anaconda3/lib/python3.7/site-packages (from nbdev) (1.2.0)\n",
      "Requirement already satisfied: pyyaml in /Users/danielquiroga/anaconda3/lib/python3.7/site-packages (from nbdev) (5.3)\n",
      "Requirement already satisfied: packaging in /Users/danielquiroga/anaconda3/lib/python3.7/site-packages (from nbdev) (20.1)\n",
      "Requirement already satisfied: jupyter-client in /Users/danielquiroga/anaconda3/lib/python3.7/site-packages (from nbdev) (5.3.4)\n",
      "Requirement already satisfied: nbconvert<6 in /Users/danielquiroga/anaconda3/lib/python3.7/site-packages (from nbdev) (5.6.1)\n",
      "Requirement already satisfied: ipykernel in /Users/danielquiroga/anaconda3/lib/python3.7/site-packages (from nbdev) (5.1.4)\n",
      "Requirement already satisfied: nbformat>=4.4.0 in /Users/danielquiroga/anaconda3/lib/python3.7/site-packages (from nbdev) (5.0.4)\n",
      "Requirement already satisfied: pip in /Users/danielquiroga/anaconda3/lib/python3.7/site-packages (from nbdev) (20.2.3)\n",
      "Requirement already satisfied: six in /Users/danielquiroga/anaconda3/lib/python3.7/site-packages (from packaging->nbdev) (1.14.0)\n",
      "Requirement already satisfied: pyparsing>=2.0.2 in /Users/danielquiroga/anaconda3/lib/python3.7/site-packages (from packaging->nbdev) (2.4.6)\n",
      "Requirement already satisfied: python-dateutil>=2.1 in /Users/danielquiroga/anaconda3/lib/python3.7/site-packages (from jupyter-client->nbdev) (2.8.1)\n",
      "Requirement already satisfied: jupyter-core>=4.6.0 in /Users/danielquiroga/anaconda3/lib/python3.7/site-packages (from jupyter-client->nbdev) (4.6.1)\n",
      "Requirement already satisfied: tornado>=4.1 in /Users/danielquiroga/anaconda3/lib/python3.7/site-packages (from jupyter-client->nbdev) (6.0.3)\n",
      "Requirement already satisfied: traitlets in /Users/danielquiroga/anaconda3/lib/python3.7/site-packages (from jupyter-client->nbdev) (4.3.3)\n",
      "Requirement already satisfied: pyzmq>=13 in /Users/danielquiroga/anaconda3/lib/python3.7/site-packages (from jupyter-client->nbdev) (18.1.1)\n",
      "Requirement already satisfied: jinja2>=2.4 in /Users/danielquiroga/anaconda3/lib/python3.7/site-packages (from nbconvert<6->nbdev) (2.11.1)\n",
      "Requirement already satisfied: bleach in /Users/danielquiroga/anaconda3/lib/python3.7/site-packages (from nbconvert<6->nbdev) (3.1.0)\n",
      "Requirement already satisfied: entrypoints>=0.2.2 in /Users/danielquiroga/anaconda3/lib/python3.7/site-packages (from nbconvert<6->nbdev) (0.3)\n",
      "Requirement already satisfied: pygments in /Users/danielquiroga/anaconda3/lib/python3.7/site-packages (from nbconvert<6->nbdev) (2.5.2)\n",
      "Requirement already satisfied: mistune<2,>=0.8.1 in /Users/danielquiroga/anaconda3/lib/python3.7/site-packages (from nbconvert<6->nbdev) (0.8.4)\n",
      "Requirement already satisfied: pandocfilters>=1.4.1 in /Users/danielquiroga/anaconda3/lib/python3.7/site-packages (from nbconvert<6->nbdev) (1.4.2)\n",
      "Requirement already satisfied: defusedxml in /Users/danielquiroga/anaconda3/lib/python3.7/site-packages (from nbconvert<6->nbdev) (0.6.0)\n",
      "Requirement already satisfied: testpath in /Users/danielquiroga/anaconda3/lib/python3.7/site-packages (from nbconvert<6->nbdev) (0.4.4)\n",
      "Requirement already satisfied: ipython>=5.0.0 in /Users/danielquiroga/anaconda3/lib/python3.7/site-packages (from ipykernel->nbdev) (7.18.1)\n",
      "Requirement already satisfied: appnope; platform_system == \"Darwin\" in /Users/danielquiroga/anaconda3/lib/python3.7/site-packages (from ipykernel->nbdev) (0.1.0)\n",
      "Requirement already satisfied: jsonschema!=2.5.0,>=2.4 in /Users/danielquiroga/anaconda3/lib/python3.7/site-packages (from nbformat>=4.4.0->nbdev) (3.2.0)\n",
      "Requirement already satisfied: ipython-genutils in /Users/danielquiroga/anaconda3/lib/python3.7/site-packages (from nbformat>=4.4.0->nbdev) (0.2.0)\n",
      "Requirement already satisfied: decorator in /Users/danielquiroga/anaconda3/lib/python3.7/site-packages (from traitlets->jupyter-client->nbdev) (4.4.1)\n",
      "Requirement already satisfied: MarkupSafe>=0.23 in /Users/danielquiroga/anaconda3/lib/python3.7/site-packages (from jinja2>=2.4->nbconvert<6->nbdev) (1.1.1)\n",
      "Requirement already satisfied: webencodings in /Users/danielquiroga/anaconda3/lib/python3.7/site-packages (from bleach->nbconvert<6->nbdev) (0.5.1)\n",
      "Requirement already satisfied: jedi>=0.10 in /Users/danielquiroga/anaconda3/lib/python3.7/site-packages (from ipython>=5.0.0->ipykernel->nbdev) (0.14.1)\n",
      "Requirement already satisfied: setuptools>=18.5 in /Users/danielquiroga/anaconda3/lib/python3.7/site-packages (from ipython>=5.0.0->ipykernel->nbdev) (50.3.0)\n",
      "Requirement already satisfied: backcall in /Users/danielquiroga/anaconda3/lib/python3.7/site-packages (from ipython>=5.0.0->ipykernel->nbdev) (0.1.0)\n",
      "Requirement already satisfied: pexpect>4.3; sys_platform != \"win32\" in /Users/danielquiroga/anaconda3/lib/python3.7/site-packages (from ipython>=5.0.0->ipykernel->nbdev) (4.8.0)\n",
      "Requirement already satisfied: prompt-toolkit!=3.0.0,!=3.0.1,<3.1.0,>=2.0.0 in /Users/danielquiroga/anaconda3/lib/python3.7/site-packages (from ipython>=5.0.0->ipykernel->nbdev) (3.0.3)\n",
      "Requirement already satisfied: pickleshare in /Users/danielquiroga/anaconda3/lib/python3.7/site-packages (from ipython>=5.0.0->ipykernel->nbdev) (0.7.5)\n",
      "Requirement already satisfied: importlib-metadata; python_version < \"3.8\" in /Users/danielquiroga/anaconda3/lib/python3.7/site-packages (from jsonschema!=2.5.0,>=2.4->nbformat>=4.4.0->nbdev) (1.5.0)\n",
      "Requirement already satisfied: pyrsistent>=0.14.0 in /Users/danielquiroga/anaconda3/lib/python3.7/site-packages (from jsonschema!=2.5.0,>=2.4->nbformat>=4.4.0->nbdev) (0.15.7)\n",
      "Requirement already satisfied: attrs>=17.4.0 in /Users/danielquiroga/anaconda3/lib/python3.7/site-packages (from jsonschema!=2.5.0,>=2.4->nbformat>=4.4.0->nbdev) (19.3.0)\n",
      "Requirement already satisfied: parso>=0.5.0 in /Users/danielquiroga/anaconda3/lib/python3.7/site-packages (from jedi>=0.10->ipython>=5.0.0->ipykernel->nbdev) (0.5.2)\n",
      "Requirement already satisfied: ptyprocess>=0.5 in /Users/danielquiroga/anaconda3/lib/python3.7/site-packages (from pexpect>4.3; sys_platform != \"win32\"->ipython>=5.0.0->ipykernel->nbdev) (0.6.0)\n",
      "Requirement already satisfied: wcwidth in /Users/danielquiroga/anaconda3/lib/python3.7/site-packages (from prompt-toolkit!=3.0.0,!=3.0.1,<3.1.0,>=2.0.0->ipython>=5.0.0->ipykernel->nbdev) (0.1.8)\n",
      "Requirement already satisfied: zipp>=0.5 in /Users/danielquiroga/anaconda3/lib/python3.7/site-packages (from importlib-metadata; python_version < \"3.8\"->jsonschema!=2.5.0,>=2.4->nbformat>=4.4.0->nbdev) (2.2.0)\n",
      "\u001b[33mWARNING: You are using pip version 20.2.3; however, version 20.2.4 is available.\n",
      "You should consider upgrading via the '/Users/danielquiroga/anaconda3/bin/python -m pip install --upgrade pip' command.\u001b[0m\n",
      "Requirement already satisfied: sentencepiece in /Users/danielquiroga/anaconda3/lib/python3.7/site-packages (0.1.91)\n",
      "\u001b[33mWARNING: You are using pip version 20.2.3; however, version 20.2.4 is available.\n",
      "You should consider upgrading via the '/Users/danielquiroga/anaconda3/bin/python -m pip install --upgrade pip' command.\u001b[0m\n",
      "Collecting dit\n",
      "  Downloading dit-1.2.3-py2.py3-none-any.whl (397 kB)\n",
      "\u001b[K     |████████████████████████████████| 397 kB 1.4 MB/s eta 0:00:01\n",
      "\u001b[?25hCollecting debtcollector\n",
      "  Downloading debtcollector-2.2.0-py3-none-any.whl (20 kB)\n",
      "Collecting boltons\n",
      "  Downloading boltons-20.2.1-py2.py3-none-any.whl (170 kB)\n",
      "\u001b[K     |████████████████████████████████| 170 kB 2.9 MB/s eta 0:00:01\n",
      "\u001b[?25hRequirement already satisfied: contextlib2 in /Users/danielquiroga/anaconda3/lib/python3.7/site-packages (from dit) (0.6.0.post1)\n",
      "Collecting prettytable\n",
      "  Downloading prettytable-1.0.1-py2.py3-none-any.whl (22 kB)\n",
      "Requirement already satisfied: networkx in /Users/danielquiroga/anaconda3/lib/python3.7/site-packages (from dit) (2.4)\n",
      "Requirement already satisfied: scipy>=0.15.0 in /Users/danielquiroga/anaconda3/lib/python3.7/site-packages (from dit) (1.4.1)\n",
      "Requirement already satisfied: six>=1.4.0 in /Users/danielquiroga/anaconda3/lib/python3.7/site-packages (from dit) (1.14.0)\n",
      "Requirement already satisfied: numpy>=1.11 in /Users/danielquiroga/anaconda3/lib/python3.7/site-packages (from dit) (1.18.1)\n"
     ]
    },
    {
     "name": "stdout",
     "output_type": "stream",
     "text": [
      "Requirement already satisfied: wrapt>=1.7.0 in /Users/danielquiroga/anaconda3/lib/python3.7/site-packages (from debtcollector->dit) (1.11.2)\n",
      "Collecting pbr!=2.1.0,>=2.0.0\n",
      "  Downloading pbr-5.5.0-py2.py3-none-any.whl (106 kB)\n",
      "\u001b[K     |████████████████████████████████| 106 kB 4.9 MB/s eta 0:00:01\n",
      "\u001b[?25hRequirement already satisfied: wcwidth in /Users/danielquiroga/anaconda3/lib/python3.7/site-packages (from prettytable->dit) (0.1.8)\n",
      "Requirement already satisfied: setuptools in /Users/danielquiroga/anaconda3/lib/python3.7/site-packages (from prettytable->dit) (50.3.0)\n",
      "Requirement already satisfied: decorator>=4.3.0 in /Users/danielquiroga/anaconda3/lib/python3.7/site-packages (from networkx->dit) (4.4.1)\n",
      "Installing collected packages: pbr, debtcollector, boltons, prettytable, dit\n",
      "Successfully installed boltons-20.2.1 debtcollector-2.2.0 dit-1.2.3 pbr-5.5.0 prettytable-1.0.1\n",
      "\u001b[33mWARNING: You are using pip version 20.2.3; however, version 20.2.4 is available.\n",
      "You should consider upgrading via the '/Users/danielquiroga/anaconda3/bin/python -m pip install --upgrade pip' command.\u001b[0m\n"
     ]
    }
   ],
   "source": [
    "!pip install nbdev\n",
    "!pip install sentencepiece\n",
    "!pip install dit"
   ]
  },
  {
   "cell_type": "code",
   "execution_count": 14,
   "metadata": {},
   "outputs": [],
   "source": [
    "import random\n",
    "from nbdev.showdoc import *\n",
    "#from ds4se.mgmnt.prep.bpe import *\n",
    "#from ds4se.exp.info import *\n",
    "#from ds4se.desc.stats import *\n",
    "import pandas as pd\n",
    "import sentencepiece as sp\n",
    "from pathlib import Path\n",
    "from collections import Counter\n",
    "from ds4se.mining.unsupervised.traceability.eval import *"
   ]
  },
  {
   "cell_type": "code",
   "execution_count": 15,
   "metadata": {},
   "outputs": [],
   "source": [
    "import pandas as pd"
   ]
  },
  {
   "cell_type": "code",
   "execution_count": 16,
   "metadata": {},
   "outputs": [],
   "source": [
    "#export\n",
    "def TraceLinkValue(source, target, technique):\n",
    "    #param source\n",
    "    #param target\n",
    "    #param technique\n",
    "    #return \n",
    "    \n",
    "    #TODO make the string saved and then return the path to that string\n",
    "    sourcePath = \"path/to/something\"#this is where we save the passed in source\n",
    "    targetPath = \"./something\"\n",
    "    \n",
    "    if (technique == \"VSM\"):\n",
    "        pass\n",
    "    if (technique == \"LDA\"):\n",
    "        pass\n",
    "    if (technique == \"orthogonal\"):\n",
    "        pass\n",
    "    if (technique == \"LSA\"):\n",
    "        pass\n",
    "    if (technique == \"JS\"):\n",
    "        pass\n",
    "    if (technique == \"word2vec\"):\n",
    "        parameter = {\n",
    "            \"vectorizationType\": VectorizationType.word2vec,\n",
    "            \"linkType\": LinkType.req2tc,\n",
    "            \"system\": 'libest',\n",
    "            \"path_to_trained_model\": 'test_data/models/word2vec_libest.model',\n",
    "            \"source_path\": sourcePath,\n",
    "            \"target_path\": targetPath,\n",
    "            \"system_path\": '/tf/main/benchmarking/traceability/testbeds/nltk/[libest-pre-all].csv',\n",
    "            \"saving_path\": 'test_data/',\n",
    "            \"names\": ['Source','Target','Linked?']\n",
    "        }\n",
    "        pass\n",
    "    if (technique == \"doc2vec\"):\n",
    "        parameter = {\n",
    "            \"vectorizationType\": VectorizationType.doc2vec,\n",
    "            \"linkType\": LinkType.req2tc,\n",
    "            \"system\": 'libest',\n",
    "            \"path_to_trained_model\": 'test_data/models/doc2vec_libest.model',\n",
    "            \"source_path\": source,\n",
    "            \"target_path\": target,\n",
    "            \"system_path\": '/tf/main/benchmarking/traceability/testbeds/nltk/[libest-pre-all].csv',\n",
    "            \"saving_path\": 'test_data/',\n",
    "            \"names\": ['Source','Target','Linked?']\n",
    "        }\n",
    "        pass\n",
    "    value = random.randint(0,1)/100\n",
    "    \n",
    "    return value\n",
    "\n",
    "#export\n",
    "def NumDoc(source, target):\n",
    "    source_doc = source.shape[0]\n",
    "    target_doc = target.shape[0]\n",
    "    difference = source_doc - target_doc\n",
    "    return [source_doc, target_doc, difference, -difference]\n",
    "   \n",
    "#export\n",
    "def VocabSize(source, target):\n",
    "    source_list = preprocess(source)\n",
    "    target_list = preprocess(target)\n",
    "    source_size = len(source_list[0])\n",
    "    target_size = len(target_list[0])\n",
    "    difference = source_size - target_size\n",
    "    return [source_size, target_size, difference, -difference]  \n",
    "\n",
    "#export\n",
    "def AverageToken(source, target):\n",
    "    source_doc = source.shape[0]\n",
    "    target_doc = target.shape[0]\n",
    "    \n",
    "    source_list = preprocess(source)\n",
    "    target_list = preprocess(target)\n",
    "    \n",
    "    source_total_token = sum(source_list[0].values())\n",
    "    target_total_token = sum(target_list[0].values())\n",
    "\n",
    "    source_token = source_total_token/source_doc\n",
    "    target_token = target_total_token/target_doc\n",
    "    difference = source_token - target_token\n",
    "    return [source_token, target_token, difference, -difference]\n",
    "\n",
    "#export\n",
    "def Vocab(artifacts_df):\n",
    "    #we can add a parameter for user to specify the number of most frequent token to return\n",
    "    cnts = preprocess(artifacts_df)\n",
    "    vocab_list = cnts[0].most_common(3)\n",
    "    total = sum(cnts[0].values())\n",
    "    vocab_dict = dict()\n",
    "    vocab_dict[vocab_list[0][0]] = [vocab_list[0][1], vocab_list[0][1]/total]\n",
    "    vocab_dict[vocab_list[1][0]] = [vocab_list[1][1], vocab_list[1][1]/total]\n",
    "    vocab_dict[vocab_list[2][0]] = [vocab_list[2][1], vocab_list[2][1]/total]\n",
    "\n",
    "    return vocab_dict\n",
    "    \n",
    "    \n",
    "#export\n",
    "def VocabShared(source, target):\n",
    "    df = pd.concat([source, target])\n",
    "    return Vocab(df) \n",
    "    \n",
    "#export\n",
    "def SharedVocabSize(source, target):\n",
    "    df = pd.concat([source, target])\n",
    "    df_counts = preprocess(df)\n",
    "    shared_size = len(df_counts[0])\n",
    "    return shared_size\n",
    "\n",
    "#export\n",
    "def MutualInformation(source, target):\n",
    "    mutual_information = random.randint(100,200)\n",
    "    return mutual_information\n",
    "    \n",
    "#export\n",
    "def CrossEntropy(source, target):\n",
    "    cross_entropy = random.randint(100,200)\n",
    "    cross_entropy = get_system_entropy_from_df(source, \"col1\",)\n",
    "    return cross_entropy\n",
    "    \n",
    "#export\n",
    "def KLDivergence(source, target):\n",
    "    divergence = random.randint(100,200)\n",
    "    return divergence\n",
    "\n",
    "#export\n",
    "def get_docs(df, spm):\n",
    "    docs = []\n",
    "    for fn in df[\"col1\"]:\n",
    "        docs += spm.EncodeAsPieces(fn)\n",
    "    return docs\n",
    "\n",
    "#export\n",
    "def get_counters(docs):\n",
    "    doc_cnts = []\n",
    "    cnt = Counter()\n",
    "    for tok in docs:\n",
    "        cnt[tok] += 1 \n",
    "        doc_cnts.append(cnt)\n",
    "    return doc_cnts\n",
    "\n",
    "#export\n",
    "def preprocess(artifacts_df):\n",
    "    spm = sp.SentencePieceProcessor()\n",
    "    output = Path('test_data\\models')\n",
    "    system_name = \"test\"\n",
    "    spm.Load(f\"{output / system_name}.model\")\n",
    "    docs = get_docs(artifacts_df,spm)\n",
    "    cnts = get_counters(docs)\n",
    "    return cnts"
   ]
  },
  {
   "cell_type": "code",
   "execution_count": 272,
   "metadata": {},
   "outputs": [],
   "source": [
    "# df = pd.DataFrame({\n",
    "#     \"col1\": [\"one, two two am one,\"]})\n",
    "# df2 = pd.DataFrame({\n",
    "#     \"col1\": [\"this is a requirement yes or no two two two two one,\"]})\n",
    "# frames = [df, df2]\n",
    "# df3 = pd.concat(frames)\n",
    "# VocabShared(df,df2)"
   ]
  },
  {
   "cell_type": "code",
   "execution_count": 135,
   "metadata": {},
   "outputs": [],
   "source": [
    "# import pandas as pd\n",
    "# import sentencepiece as sp\n",
    "# from pathlib import Path\n",
    "# from collections import Counter\n",
    "\n",
    "\n",
    "# df = pd.DataFrame({\n",
    "#     \"col1\": [\"this is a sentence\", \"this is another sentence\"],\n",
    "#     \"col2\": [\"one more\", \"this is the last sentence\"],\n",
    "# })\n"
   ]
  },
  {
   "cell_type": "code",
   "execution_count": 136,
   "metadata": {},
   "outputs": [],
   "source": [
    "# def get_docs(df, spm):\n",
    "#     docs = []\n",
    "#     for fn in df[\"col1\"]:\n",
    "#         docs += spm.EncodeAsPieces(fn)\n",
    "#     return docs\n",
    "# d = {'col1': [\"one requirement, i want this and that and this\", \"this is is is is a new requirement\"], 'col2': [3, 4]}\n",
    "# df = pd.DataFrame(data=d)\n",
    "\n",
    "\n",
    "# docs"
   ]
  },
  {
   "cell_type": "code",
   "execution_count": 148,
   "metadata": {},
   "outputs": [
    {
     "data": {
      "text/plain": [
       "34"
      ]
     },
     "execution_count": 148,
     "metadata": {},
     "output_type": "execute_result"
    }
   ],
   "source": [
    "def get_counters(docs):\n",
    "    doc_cnts = []\n",
    "    cnt = Counter()\n",
    "    for tok in docs:\n",
    "        cnt[tok] += 1 \n",
    "        doc_cnts.append(cnt)\n",
    "    return doc_cnts\n",
    "\n",
    "req_cnts = get_counters(docs)\n",
    "list = req_cnts[0].most_common(2)\n",
    "sum(req_cnts[0].values())\n"
   ]
  },
  {
   "cell_type": "code",
   "execution_count": 93,
   "metadata": {},
   "outputs": [],
   "source": [
    "# nbdev_build_docs\n",
    "# notebook2script()"
   ]
  },
  {
   "cell_type": "code",
   "execution_count": null,
   "metadata": {},
   "outputs": [],
   "source": [
    "#FacadeTest\n",
    "#Test case for proto TLV\n",
    "\n",
    "#Prototype should print a value between 0 or 1. Input values aren't used\n",
    "testTLV = TraceLinkValue(0,1,1)\n",
    "assert((testTLV == 0) or (testTLV == 1))"
   ]
  },
  {
   "cell_type": "code",
   "execution_count": null,
   "metadata": {},
   "outputs": [],
   "source": []
  },
  {
   "cell_type": "code",
   "execution_count": null,
   "metadata": {},
   "outputs": [],
   "source": [
    "#FacadeTest\n",
    "#Test Case for Proto NumDoc\n",
    "\n",
    "#Prototype should print an array based on the randomly generated numbers. Input values aren't used.\n",
    "testND = NumDoc(100,10000000)\n",
    "assert(isinstance(testND, list))"
   ]
  },
  {
   "cell_type": "code",
   "execution_count": null,
   "metadata": {},
   "outputs": [],
   "source": []
  },
  {
   "cell_type": "code",
   "execution_count": null,
   "metadata": {},
   "outputs": [],
   "source": [
    "#FacadeTest\n",
    "#Test case for Vocab size\n",
    "\n",
    "#Prototype should return an array based on random number values. Inputs aren't used.\n",
    "testVS = VocabSize(100,100000)\n",
    "assert(isinstance(testVS, list))"
   ]
  },
  {
   "cell_type": "code",
   "execution_count": null,
   "metadata": {},
   "outputs": [],
   "source": []
  },
  {
   "cell_type": "code",
   "execution_count": null,
   "metadata": {},
   "outputs": [],
   "source": [
    "#FacadeTest\n",
    "#Test Case for AverageToken\n",
    "\n",
    "#Prototype should return an array/list. Inputs aren't used\n",
    "testAT = AverageToken(100,100)\n",
    "assert(isinstance(testAT, list))"
   ]
  },
  {
   "cell_type": "code",
   "execution_count": null,
   "metadata": {},
   "outputs": [],
   "source": []
  },
  {
   "cell_type": "code",
   "execution_count": null,
   "metadata": {},
   "outputs": [],
   "source": [
    "#FacadeTest\n",
    "#Test Case for Vocab\n",
    "\n",
    "#Prototype Vocab should return dictionary type. \n",
    "#Will expand to test dictionary values once presets can be generated and tested\n",
    "testVocab = Vocab(\"file\")\n",
    "\n",
    "assert(isinstance(testVocab,dict))"
   ]
  },
  {
   "cell_type": "code",
   "execution_count": null,
   "metadata": {},
   "outputs": [],
   "source": []
  },
  {
   "cell_type": "code",
   "execution_count": null,
   "metadata": {},
   "outputs": [],
   "source": [
    "#FacadeTest\n",
    "#Test VocabShared\n",
    "\n",
    "#Prototype should show a dictionary\n",
    "#Test will be expanded to verify frequency verification in two samples\n",
    "testVocabS = VocabShared(\"source\",\"target\")\n",
    "assert(isinstance(testVocabS,dict))\n"
   ]
  },
  {
   "cell_type": "code",
   "execution_count": null,
   "metadata": {},
   "outputs": [],
   "source": []
  },
  {
   "cell_type": "code",
   "execution_count": null,
   "metadata": {},
   "outputs": [],
   "source": [
    "#FacadeTest\n",
    "#Test Shared vocab size\n",
    "\n",
    "#Prototype should return an i\n",
    "testSVS = SharedVocabSize(\"source\",\"target\")\n",
    "assert(testSVS in range(100,200))"
   ]
  },
  {
   "cell_type": "code",
   "execution_count": null,
   "metadata": {},
   "outputs": [],
   "source": []
  },
  {
   "cell_type": "code",
   "execution_count": null,
   "metadata": {},
   "outputs": [],
   "source": [
    "#FacadeTest\n",
    "#TEst Mutual information\n",
    "\n",
    "#Proto mutual information should get an int\n",
    "testMutualInfo = MutualInformation(\"source\",\"target\")\n",
    "assert(testMutualInfo in range(100,200))"
   ]
  },
  {
   "cell_type": "code",
   "execution_count": null,
   "metadata": {},
   "outputs": [],
   "source": []
  },
  {
   "cell_type": "code",
   "execution_count": null,
   "metadata": {},
   "outputs": [],
   "source": [
    "#FacadeTest\n",
    "#Test Cross Entropy\n",
    "\n",
    "#Proto cross Entropy should return an int\n",
    "testCrossEntropy = CrossEntropy(\"Sauce\",\"Target\")\n",
    "assert(testCrossEntropy in range(100,200))\n",
    "\n",
    "#Eventually cross entropy will properly implement Entropy calculation and the test will compare a known/predicted entropy\n",
    "# to a calculated value\n"
   ]
  },
  {
   "cell_type": "code",
   "execution_count": null,
   "metadata": {},
   "outputs": [],
   "source": []
  },
  {
   "cell_type": "code",
   "execution_count": null,
   "metadata": {},
   "outputs": [],
   "source": [
    "#FacadeTest\n",
    "#Test KLDivergence\n",
    "\n",
    "#Proto KLDivegence will return an random int\n",
    "testKLDiver = KLDivergence(\"source\",\"target\")\n",
    "assert(testKLDiver in range(100,200))"
   ]
  },
  {
   "cell_type": "code",
   "execution_count": null,
   "metadata": {},
   "outputs": [],
   "source": []
  }
 ],
 "metadata": {
  "kernelspec": {
   "display_name": "Python 3",
   "language": "python",
   "name": "python3"
  },
  "language_info": {
   "codemirror_mode": {
    "name": "ipython",
    "version": 3
   },
   "file_extension": ".py",
   "mimetype": "text/x-python",
   "name": "python",
   "nbconvert_exporter": "python",
   "pygments_lexer": "ipython3",
   "version": "3.7.6"
  }
 },
 "nbformat": 4,
 "nbformat_minor": 4
}
