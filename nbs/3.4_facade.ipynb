{
 "cells": [
  {
   "cell_type": "code",
   "execution_count": null,
   "metadata": {},
   "outputs": [],
   "source": [
    "# default_exp facade"
   ]
  },
  {
   "cell_type": "code",
   "execution_count": null,
   "metadata": {},
   "outputs": [],
   "source": [
    "#hide\n",
    "from nbdev.showdoc import *"
   ]
  },
  {
   "cell_type": "code",
   "execution_count": null,
   "metadata": {},
   "outputs": [],
   "source": [
    "#export\n",
    "import random"
   ]
  },
  {
   "cell_type": "code",
   "execution_count": null,
   "metadata": {},
   "outputs": [],
   "source": [
    "#export\n",
    "def TraceLinkValue(filename, source, technique):\n",
    "    value = random.randint(0,100)\n",
    "    return value/100\n",
    "\n",
    "#export\n",
    "def NumDoc(source, target):\n",
    "    source_doc = random.randint(100,200)\n",
    "    target_doc = random.randint(100,200)\n",
    "    difference = source_doc - target_doc\n",
    "    return [source_doc, target_doc, difference, -difference]\n",
    "   \n",
    "#export\n",
    "def VocabSize(source, target):\n",
    "    source_size = random.randint(100,200)\n",
    "    target_size = random.randint(100,200)\n",
    "    difference = source_size - target_size\n",
    "    return [source_size, target_size, difference, -difference]  \n",
    "\n",
    "#export\n",
    "def AverageToken(source, target):\n",
    "    source_token = random.randint(100,200)\n",
    "    target_token = random.randint(100,200)\n",
    "    difference = source_token - target_token\n",
    "    return [source_token, target_token, difference, -difference]\n",
    "\n",
    "#export\n",
    "def Vocab(filename):\n",
    "    total = 1000\n",
    "    vocab_dict = dict()\n",
    "    tmp1 = random.randint(100,200)\n",
    "    tmp2 = random.randint(100,200)\n",
    "    tmp3 = random.randint(100,200)\n",
    "    vocab_dict[\"est\"] = [tmp1, tmp1/total]\n",
    "    vocab_dict[\"http\"] = [tmp2, tmp2/total]\n",
    "    vocab_dict[\"frequnecy\"] = [tmp3, tmp3/total]\n",
    "    return vocab_dict\n",
    "    \n",
    "    \n",
    "#export\n",
    "def VocabShared(source, target):\n",
    "    total = 1000\n",
    "    vocab_dict = dict()\n",
    "    tmp1 = random.randint(100,200)\n",
    "    tmp2 = random.randint(100,200)\n",
    "    tmp3 = random.randint(100,200)\n",
    "    vocab_dict[\"est\"] = [tmp1, tmp1/total]\n",
    "    vocab_dict[\"http\"] = [tmp2, tmp2/total]\n",
    "    vocab_dict[\"frequnecy\"] = [tmp3, tmp3/total]\n",
    "    return vocab_dict    \n",
    "    \n",
    "#export\n",
    "def SharedVocabSize(source, target):\n",
    "    shared_size = random.randint(100,200)\n",
    "    return shared_size\n",
    "\n",
    "#export\n",
    "def MutualInformation(source, target):\n",
    "    mutual_information = random.randint(100,200)\n",
    "    return mutual_information\n",
    "    \n",
    "#export\n",
    "def CrossEntropy(source, target):\n",
    "    cross_entropy = random.randint(100,200)\n",
    "    return cross_entropy\n",
    "    \n",
    "#export\n",
    "def KLDivergence(source, target):\n",
    "    divergence = random.randint(100,200)\n",
    "    return divergence"
   ]
  },
  {
   "cell_type": "code",
   "execution_count": null,
   "metadata": {},
   "outputs": [
    {
     "data": {
      "text/plain": [
       "0.38"
      ]
     },
     "execution_count": null,
     "metadata": {},
     "output_type": "execute_result"
    }
   ],
   "source": [
    "# nbdev_build_docs\n",
    "# notebook2script()\n"
   ]
  }
 ],
 "metadata": {
  "kernelspec": {
   "display_name": "Python 3",
   "language": "python",
   "name": "python3"
  }
 },
 "nbformat": 4,
 "nbformat_minor": 4
}
