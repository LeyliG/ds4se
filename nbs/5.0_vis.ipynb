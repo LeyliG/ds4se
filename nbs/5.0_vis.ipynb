{
 "cells": [
  {
   "cell_type": "code",
   "execution_count": null,
   "metadata": {},
   "outputs": [],
   "source": [
    "# default_exp vis"
   ]
  },
  {
   "cell_type": "markdown",
   "metadata": {},
   "source": [
    "# Exploration of your data\n",
    "\n",
    "> This module comprises all the statistical and inference techniques to describe the inner properties of software data. The submodules might include:\n",
    ">\n",
    "> - Descriptive statistics\n",
    "> - Software Metrics\n",
    "> - Information Theory\n",
    "> - Learning Principels Detection (Occams' Razor, Biased data, and Data Snooping)\n",
    "> - Inference: Probabilistic and Causal"
   ]
  },
  {
   "cell_type": "code",
   "execution_count": null,
   "metadata": {},
   "outputs": [
    {
     "name": "stdout",
     "output_type": "stream",
     "text": [
      "Requirement already satisfied: dit in /usr/local/lib/python3.6/dist-packages (1.2.3)\n",
      "Requirement already satisfied: scipy>=0.15.0 in /usr/local/lib/python3.6/dist-packages (from dit) (1.4.1)\n",
      "Requirement already satisfied: networkx in /usr/local/lib/python3.6/dist-packages (from dit) (2.4)\n",
      "Requirement already satisfied: contextlib2 in /usr/local/lib/python3.6/dist-packages (from dit) (0.5.5)\n",
      "Requirement already satisfied: numpy>=1.11 in /usr/local/lib/python3.6/dist-packages (from dit) (1.17.5)\n",
      "Requirement already satisfied: boltons in /usr/local/lib/python3.6/dist-packages (from dit) (20.0.0)\n",
      "Requirement already satisfied: debtcollector in /usr/local/lib/python3.6/dist-packages (from dit) (2.0.0)\n",
      "Requirement already satisfied: six>=1.4.0 in /usr/local/lib/python3.6/dist-packages (from dit) (1.12.0)\n",
      "Requirement already satisfied: prettytable in /usr/local/lib/python3.6/dist-packages (from dit) (0.7.2)\n",
      "Requirement already satisfied: decorator>=4.3.0 in /usr/local/lib/python3.6/dist-packages (from networkx->dit) (4.4.1)\n",
      "Requirement already satisfied: wrapt>=1.7.0 in /usr/local/lib/python3.6/dist-packages (from debtcollector->dit) (1.11.2)\n",
      "Requirement already satisfied: pbr!=2.1.0,>=2.0.0 in /usr/local/lib/python3.6/dist-packages (from debtcollector->dit) (5.4.4)\n",
      "Requirement already satisfied: sentencepiece in /usr/local/lib/python3.6/dist-packages (0.1.85)\n"
     ]
    }
   ],
   "source": [
    "!pip install dit\n",
    "!pip install sentencepiece"
   ]
  },
  {
   "cell_type": "code",
   "execution_count": null,
   "metadata": {},
   "outputs": [],
   "source": [
    "# export\n",
    "# Imports\n",
    "import matplotlib.pyplot as plt\n",
    "import numpy as np\n",
    "\n",
    "from ds4se.desc.stats import *\n",
    "from mpl_toolkits.mplot3d import Axes3D\n",
    "from scipy.interpolate import griddata\n",
    "from sklearn.decomposition import PCA\n",
    "from sklearn.manifold import TSNE"
   ]
  },
  {
   "cell_type": "code",
   "execution_count": null,
   "metadata": {},
   "outputs": [],
   "source": [
    "#hide\n",
    "from nbdev.showdoc import *"
   ]
  },
  {
   "cell_type": "code",
   "execution_count": null,
   "metadata": {},
   "outputs": [],
   "source": [
    "#export\n",
    "def get_contours(x_range, y_range, delta):\n",
    "    x = np.arange(x_range[0], x_range[1], delta)\n",
    "    y = np.arange(x_range[0], x_range[1], delta)\n",
    "    X, Y = np.meshgrid(x, y)\n",
    "    Z = X + Y\n",
    "    \n",
    "    return X, Y, Z"
   ]
  },
  {
   "cell_type": "code",
   "execution_count": null,
   "metadata": {},
   "outputs": [],
   "source": [
    "#export\n",
    "def visualize_gt_ngt(gt, ngt, title, y_label):\n",
    "    plt.title(title)\n",
    "    plt.xlim(2, 15)\n",
    "    plt.xlabel('req entropy')\n",
    "    \n",
    "    plt.ylim(2, 15)\n",
    "    plt.ylabel(f'{y_label} entropy')\n",
    "    plt.gca().set_aspect('equal', adjustable='box')\n",
    "    \n",
    "#     xi = np.linspace(2, 10, 10)\n",
    "#     yi = np.linspace(2, 10, 10)\n",
    "#     zi = griddata((gt[0], gt[1]), gt[1], (xi[None,:], yi[:,None]), method='linear')\n",
    "    X, Y, Z = get_contours([1, 16], [1, 16], 1)\n",
    "    plt.contourf(X, Y, Z, levels = 20, cmap = 'gray')\n",
    "    \n",
    "#     plt.tricontour(gt[0], gt[1])\n",
    "    plt.scatter(ngt[0], ngt[1], c='r', label='non-groundtruth', alpha = 0.5)\n",
    "    plt.scatter(gt[0], gt[1], c='b', label='groundtruth', alpha = 0.5)\n",
    "    \n",
    "    plt.legend()\n",
    "    plt.show()"
   ]
  },
  {
   "cell_type": "code",
   "execution_count": null,
   "metadata": {},
   "outputs": [],
   "source": [
    "#export\n",
    "def visualize_events(events, color, title, label):\n",
    "    plt.title(title)\n",
    "    maxi, mini, μ, med, σ, med_σ = get_desc_stats(events)\n",
    "    text = f'Max: {maxi:.3f}\\nMin: {mini:.3f}\\nMean: {μ:.3f}\\nMed: {med:.3f}\\nStDev: {σ:.3f}\\nMAD: {med_σ:.3f}'\n",
    "    plt.gcf().text(0.02, 0.35, text, fontsize=14)\n",
    "    plt.hlines(1,0,1)\n",
    "    plt.gca().yaxis.set_major_locator(plt.NullLocator())\n",
    "    plt.eventplot(events, orientation='horizontal', colors=color, alpha = 0.5, label=label)\n",
    "    plt.subplots_adjust(left=0.25)\n",
    "    plt.legend()\n",
    "    plt.show()"
   ]
  },
  {
   "cell_type": "code",
   "execution_count": null,
   "metadata": {},
   "outputs": [],
   "source": [
    "#export\n",
    "def plot_counts(counts, x_label, y_label, top_k = 30):\n",
    "    labels, values = zip(*counts.most_common()[:top_k])\n",
    "\n",
    "    indexes = np.arange(len(labels))\n",
    "    width = 0.5\n",
    "    plt.figure(num=None, figsize=(22, 4), dpi=60, facecolor='w', edgecolor='k')\n",
    "    plt.xlabel(x_label)\n",
    "    plt.ylabel(y_label)\n",
    "    plt.bar(indexes, values, width, align = 'center')\n",
    "    plt.xticks(indexes, labels)\n",
    "    plt.show()"
   ]
  },
  {
   "cell_type": "code",
   "execution_count": null,
   "metadata": {},
   "outputs": [
    {
     "data": {
      "image/png": "[encoded data removed]",
      "text/plain": [
       "<Figure size 432x288 with 1 Axes>"
      ]
     },
     "metadata": {
      "tags": []
     },
     "output_type": "display_data"
    }
   ],
   "source": [
    "# Create a histogram of the entropy distribution\n",
    "plt.hist(LIB_entropies, bins = 20)\n",
    "plt.ylabel(\"Num Files\")\n",
    "plt.xlabel(\"Entropy\")\n",
    "plt.show()"
   ]
  },
  {
   "cell_type": "code",
   "execution_count": null,
   "metadata": {},
   "outputs": [],
   "source": []
  },
  {
   "cell_type": "code",
   "execution_count": null,
   "metadata": {},
   "outputs": [],
   "source": [
    "# export\n",
    "def vis_3d(gt, ngt, src_dtype, trgt_dtype):\n",
    "    fig = plt.figure()\n",
    "    ax = fig.add_subplot(111, projection='3d')\n",
    "    plt.xlim(1, 15)\n",
    "    plt.ylim(1, 15)\n",
    "    ax.scatter(gt[0], gt[1], gt[2], c='b', marker='o')\n",
    "    ax.scatter(ngt[0], ngt[1], ngt[2], c='r', marker='^')\n",
    "\n",
    "    ax.set_xlabel(src_dtype)\n",
    "    ax.set_ylabel(trgt_dtype)\n",
    "    ax.set_zlabel('Word Mover Distance')\n",
    "    \n",
    "    ax.invert_yaxis()\n",
    "    ax.set_zlim(0, 1)\n",
    "\n",
    "    plt.show()"
   ]
  },
  {
   "cell_type": "code",
   "execution_count": null,
   "metadata": {},
   "outputs": [],
   "source": [
    "# export\n",
    "# Uses PCA first and then t-SNE\n",
    "def reduce_dims(doc_vecs, dims = 2):\n",
    "    # hyperparameters from https://towardsdatascience.com/visualising-high-dimensional-datasets-using-pca-and-t-sne-in-python-8ef87e7915b\n",
    "\n",
    "    pca = PCA(n_components=30)\n",
    "    pca_features = pca.fit_transform(doc_vecs)\n",
    "\n",
    "    tsne = TSNE(n_components=dims, verbose=1, perplexity=40, n_iter=300)\n",
    "    tsne_features = tsne.fit_transform(doc_vecs)\n",
    "    \n",
    "    return tsne_features"
   ]
  },
  {
   "cell_type": "code",
   "execution_count": null,
   "metadata": {},
   "outputs": [],
   "source": [
    "# export\n",
    "def clusterize_w_entropy(gt_doc_vecs, ngt_doc_vecs, gt_entropies, ngt_entropies):\n",
    "    gt_reduced_vecs = reduce_dims(gt_doc_vecs)\n",
    "    ngt_reduced_vecs = reduce_dims(ngt_doc_vecs)\n",
    "    \n",
    "    fig = plt.figure()\n",
    "    ax = fig.add_subplot(111, projection='3d')\n",
    "    ax.scatter(gt_reduced_vecs[:, 0], gt_reduced_vecs[:, 1], gt_entropies, c='b', marker='o')\n",
    "    ax.scatter(ngt_reduced_vecs[:, 0], ngt_reduced_vecs[:, 1], ngt_entropies, c='r', marker='^')\n",
    "\n",
    "#     ax.set_xlabel(src_dtype)\n",
    "#     ax.set_ylabel(trgt_dtype)\n",
    "    ax.set_zlabel('Entropy')\n",
    "    \n",
    "    ax.invert_yaxis()\n",
    "\n",
    "    plt.show()"
   ]
  },
  {
   "cell_type": "code",
   "execution_count": null,
   "metadata": {},
   "outputs": [
    {
     "data": {
      "text/html": [
       "<div>\n",
       "<style scoped>\n",
       "    .dataframe tbody tr th:only-of-type {\n",
       "        vertical-align: middle;\n",
       "    }\n",
       "\n",
       "    .dataframe tbody tr th {\n",
       "        vertical-align: top;\n",
       "    }\n",
       "\n",
       "    .dataframe thead th {\n",
       "        text-align: right;\n",
       "    }\n",
       "</style>\n",
       "<table border=\"1\" class=\"dataframe\">\n",
       "  <thead>\n",
       "    <tr style=\"text-align: right;\">\n",
       "      <th></th>\n",
       "      <th>src_dtype</th>\n",
       "      <th>trgt_dtype</th>\n",
       "      <th>src_file</th>\n",
       "      <th>trgt_file</th>\n",
       "      <th>src_doc</th>\n",
       "      <th>trgt_doc</th>\n",
       "      <th>src_vec</th>\n",
       "      <th>trgt_vec</th>\n",
       "      <th>wmd</th>\n",
       "      <th>ground_truth</th>\n",
       "    </tr>\n",
       "  </thead>\n",
       "  <tbody>\n",
       "    <tr>\n",
       "      <th>0</th>\n",
       "      <td>req</td>\n",
       "      <td>src</td>\n",
       "      <td>test_data/LibEST_semeru_format/requirements/RQ...</td>\n",
       "      <td>test_data/LibEST_semeru_format/source_code/est.h</td>\n",
       "      <td>requir server key generat follow exampl valid ...</td>\n",
       "      <td>file est est public api enrol secur transport ...</td>\n",
       "      <td>[0.00314126, -0.11988081, -0.28746873, 0.01172...</td>\n",
       "      <td>[-0.01909254, -0.12634756, -0.2693117, 0.01079...</td>\n",
       "      <td>0.340562</td>\n",
       "      <td>0</td>\n",
       "    </tr>\n",
       "    <tr>\n",
       "      <th>1</th>\n",
       "      <td>req</td>\n",
       "      <td>src</td>\n",
       "      <td>test_data/LibEST_semeru_format/requirements/RQ...</td>\n",
       "      <td>test_data/LibEST_semeru_format/source_code/est...</td>\n",
       "      <td>requir certif less tls mutual authent certif l...</td>\n",
       "      <td>static pthread pthread self void return get cu...</td>\n",
       "      <td>[0.03502419, -0.11070093, -0.26910967, 0.00777...</td>\n",
       "      <td>[-0.01663938, -0.12135821, -0.279722, 0.009708...</td>\n",
       "      <td>0.410977</td>\n",
       "      <td>0</td>\n",
       "    </tr>\n",
       "    <tr>\n",
       "      <th>2</th>\n",
       "      <td>req</td>\n",
       "      <td>src</td>\n",
       "      <td>test_data/LibEST_semeru_format/requirements/RQ...</td>\n",
       "      <td>test_data/LibEST_semeru_format/source_code/est...</td>\n",
       "      <td>requir client use implicit databas est client ...</td>\n",
       "      <td>prototyp privat est server part public api voi...</td>\n",
       "      <td>[0.02980203, -0.11710332, -0.26550922, 0.00489...</td>\n",
       "      <td>[-0.03448066, -0.14800207, -0.26153752, 0.0186...</td>\n",
       "      <td>0.386474</td>\n",
       "      <td>0</td>\n",
       "    </tr>\n",
       "    <tr>\n",
       "      <th>3</th>\n",
       "      <td>req</td>\n",
       "      <td>src</td>\n",
       "      <td>test_data/LibEST_semeru_format/requirements/RQ...</td>\n",
       "      <td>test_data/LibEST_semeru_format/source_code/est...</td>\n",
       "      <td>requir inform refer idev ieee standard associ ...</td>\n",
       "      <td>libest test api void est log est log level lvl...</td>\n",
       "      <td>[0.01319338, -0.11533403, -0.2819848, 0.009903...</td>\n",
       "      <td>[-0.04279312, -0.12860508, -0.2682275, 0.00651...</td>\n",
       "      <td>0.447825</td>\n",
       "      <td>0</td>\n",
       "    </tr>\n",
       "    <tr>\n",
       "      <th>4</th>\n",
       "      <td>req</td>\n",
       "      <td>src</td>\n",
       "      <td>test_data/LibEST_semeru_format/requirements/RQ...</td>\n",
       "      <td>test_data/LibEST_semeru_format/source_code/est...</td>\n",
       "      <td>requir tls client authent recommend method ide...</td>\n",
       "      <td>tcw err tcw connect tcw sock sock tcw opt opt ...</td>\n",
       "      <td>[0.03560031, -0.11806617, -0.2603899, 0.008908...</td>\n",
       "      <td>[-0.02559054, -0.11442585, -0.285615, 0.005884...</td>\n",
       "      <td>0.532702</td>\n",
       "      <td>0</td>\n",
       "    </tr>\n",
       "  </tbody>\n",
       "</table>\n",
       "</div>"
      ],
      "text/plain": [
       "  src_dtype trgt_dtype                                           src_file  \\\n",
       "0       req        src  test_data/LibEST_semeru_format/requirements/RQ...   \n",
       "1       req        src  test_data/LibEST_semeru_format/requirements/RQ...   \n",
       "2       req        src  test_data/LibEST_semeru_format/requirements/RQ...   \n",
       "3       req        src  test_data/LibEST_semeru_format/requirements/RQ...   \n",
       "4       req        src  test_data/LibEST_semeru_format/requirements/RQ...   \n",
       "\n",
       "                                           trgt_file  \\\n",
       "0   test_data/LibEST_semeru_format/source_code/est.h   \n",
       "1  test_data/LibEST_semeru_format/source_code/est...   \n",
       "2  test_data/LibEST_semeru_format/source_code/est...   \n",
       "3  test_data/LibEST_semeru_format/source_code/est...   \n",
       "4  test_data/LibEST_semeru_format/source_code/est...   \n",
       "\n",
       "                                             src_doc  \\\n",
       "0  requir server key generat follow exampl valid ...   \n",
       "1  requir certif less tls mutual authent certif l...   \n",
       "2  requir client use implicit databas est client ...   \n",
       "3  requir inform refer idev ieee standard associ ...   \n",
       "4  requir tls client authent recommend method ide...   \n",
       "\n",
       "                                            trgt_doc  \\\n",
       "0  file est est public api enrol secur transport ...   \n",
       "1  static pthread pthread self void return get cu...   \n",
       "2  prototyp privat est server part public api voi...   \n",
       "3  libest test api void est log est log level lvl...   \n",
       "4  tcw err tcw connect tcw sock sock tcw opt opt ...   \n",
       "\n",
       "                                             src_vec  \\\n",
       "0  [0.00314126, -0.11988081, -0.28746873, 0.01172...   \n",
       "1  [0.03502419, -0.11070093, -0.26910967, 0.00777...   \n",
       "2  [0.02980203, -0.11710332, -0.26550922, 0.00489...   \n",
       "3  [0.01319338, -0.11533403, -0.2819848, 0.009903...   \n",
       "4  [0.03560031, -0.11806617, -0.2603899, 0.008908...   \n",
       "\n",
       "                                            trgt_vec       wmd  ground_truth  \n",
       "0  [-0.01909254, -0.12634756, -0.2693117, 0.01079...  0.340562             0  \n",
       "1  [-0.01663938, -0.12135821, -0.279722, 0.009708...  0.410977             0  \n",
       "2  [-0.03448066, -0.14800207, -0.26153752, 0.0186...  0.386474             0  \n",
       "3  [-0.04279312, -0.12860508, -0.2682275, 0.00651...  0.447825             0  \n",
       "4  [-0.02559054, -0.11442585, -0.285615, 0.005884...  0.532702             0  "
      ]
     },
     "execution_count": null,
     "metadata": {},
     "output_type": "execute_result"
    }
   ],
   "source": [
    "# hide\n",
    "from pathlib import Path\n",
    "import pandas as pd\n",
    "import numpy as np\n",
    "\n",
    "def makeArray(text):\n",
    "    return np.fromstring(text[1:-1],sep=' ')\n",
    "\n",
    "path = Path('/tf/main/benchmarking/traceability/testbeds/nltk')\n",
    "req2src = pd.read_csv(path/'libest_req2src.csv')#, dtype={'src_vec': np.float32, 'trgt_vec': np.float32})\n",
    "req2src['src_vec'] = req2src['src_vec'].apply(makeArray)\n",
    "req2src['trgt_vec'] = req2src['trgt_vec'].apply(makeArray)\n",
    "req2src.head()"
   ]
  },
  {
   "cell_type": "code",
   "execution_count": null,
   "metadata": {},
   "outputs": [],
   "source": [
    "# hide\n",
    "gt = req2src.loc[req2src.ground_truth == 1]\n",
    "ngt = req2src.loc[req2src.ground_truth == 0]"
   ]
  },
  {
   "cell_type": "code",
   "execution_count": null,
   "metadata": {},
   "outputs": [
    {
     "name": "stdout",
     "output_type": "stream",
     "text": [
      "[t-SNE] Computing 29 nearest neighbors...\n",
      "[t-SNE] Indexed 30 samples in 0.000s...\n",
      "[t-SNE] Computed neighbors for 30 samples in 0.001s...\n",
      "[t-SNE] Computed conditional probabilities for sample 30 / 30\n",
      "[t-SNE] Mean sigma: 1125899906842624.000000\n",
      "[t-SNE] KL divergence after 250 iterations with early exaggeration: 43.595665\n",
      "[t-SNE] KL divergence after 300 iterations: 0.521973\n",
      "[t-SNE] Computing 69 nearest neighbors...\n",
      "[t-SNE] Indexed 70 samples in 0.000s...\n",
      "[t-SNE] Computed neighbors for 70 samples in 0.001s...\n",
      "[t-SNE] Computed conditional probabilities for sample 70 / 70\n",
      "[t-SNE] Mean sigma: 0.073296\n",
      "[t-SNE] KL divergence after 250 iterations with early exaggeration: 49.149498\n",
      "[t-SNE] KL divergence after 300 iterations: 0.862208\n"
     ]
    },
    {
     "data": {
      "image/png": "[encoded data removed]",
      "text/plain": [
       "<Figure size 432x288 with 1 Axes>"
      ]
     },
     "metadata": {
      "needs_background": "light"
     },
     "output_type": "display_data"
    }
   ],
   "source": [
    "# hide\n",
    "clusterize_w_entropy(np.stack(gt.src_vec.to_list()), np.stack(ngt.src_vec.to_list()), gt.wmd.values, ngt.wmd.values)"
   ]
  },
  {
   "cell_type": "code",
   "execution_count": null,
   "metadata": {},
   "outputs": [
    {
     "name": "stdout",
     "output_type": "stream",
     "text": [
      "Converted 0.0_mgmnt.prep.i.ipynb.\n",
      "Converted 0.1_mgmnt.prep.conv.ipynb.\n",
      "Converted 0.2_mgmnt.db.mongo.ipynb.\n",
      "Converted 0.3_mgmnt.prep.bpe.ipynb.\n",
      "Converted 0.4_mgmnt.corpus.ipynb.\n",
      "Converted 0.5_mgmnt.prep.traceability.ipynb.\n",
      "Converted 0.6_mgmnt.prep.nltk.ipynb.\n",
      "Converted 1.0_exp.i.ipynb.\n",
      "Converted 1.1_exp.info-[inspect]-Copy1.ipynb.\n",
      "Converted 1.1_exp.info-[inspect].ipynb.\n",
      "Converted 1.1_exp.info.ipynb.\n",
      "This cell doesn't have an export destination and was ignored:\n",
      " \n",
      "Warning: Exporting to \"None.py\" but this module is not part of this build\n",
      "Converted 1.2_exp.csnc.ipynb.\n",
      "Converted 1.2_exp.gen.code.ipynb.\n",
      "Converted 1.3_exp.csnc_python.ipynb.\n",
      "Converted 2.0_repr.i.ipynb.\n",
      "Converted 2.1_repr.codeberta.ipynb.\n",
      "Converted 2.1_repr.roberta.train.ipynb.\n",
      "Converted 2.2_repr.roberta.eval.ipynb.\n",
      "Converted 2.3_repr.word2vec.train.ipynb.\n",
      "Converted 2.6_repr.word2vec.eval.ipynb.\n",
      "Converted 2.7_repr.distmetrics.ipynb.\n",
      "Converted 3.0_mining.ir.model.ipynb.\n",
      "Converted 3.0_mining.unsupervised.traceability.ida.ipynb.\n",
      "Converted 3.1_mining.ir.i.ipynb.\n",
      "Converted 3.1_mining.unsupervised.traceability.eda.ipynb.\n",
      "Converted 3.2_mining.unsupervised.eval.ipynb.\n",
      "Converted 3.2_mining.unsupervised.traceability.approach.cisco.ipynb.\n",
      "Converted 3.2_mining.unsupervised.traceability.approach.ipynb.\n",
      "Converted 3.3_mining.unsupervised.traceability.eval.ipynb.\n",
      "Converted 3.4_facade.ipynb.\n",
      "Converted 4.0_benchmark.i.ipynb.\n",
      "Converted 4.1_benchmark.traceability.ipynb.\n",
      "Converted 4.2_benchmark.codegen.ipynb.\n",
      "Converted 5.0_vis.ipynb.\n",
      "Converted 6.0_desc.stats.ipynb.\n",
      "Converted 6.1_desc.metrics.se.ipynb.\n",
      "Converted 6.2_desc.metrics.java.ipynb.\n",
      "Converted 6.2_desc.metrics.main.ipynb.\n",
      "Converted 7.0_inf.i.ipynb.\n",
      "Converted 7.1_inf.bayesian.ipynb.\n",
      "Converted 7.2_inf.causal.ipynb.\n",
      "Converted 7.3_statistical_analysis.ipynb.\n",
      "Converted aa_blog.example.ipynb.\n",
      "Converted ab_templates.example.ipynb.\n",
      "Converted ac_emp.eval.pp1.rq1.ipynb.\n",
      "Converted ad_emp.eval.pp1.rq2.ipynb.\n",
      "Converted ae_emp.eval.pp1.rq3.ipynb.\n",
      "Converted af_emp.eval.pp1.rq4.ipynb.\n",
      "Converted index.ipynb.\n",
      "Converted Testmetrics.ipynb.\n"
     ]
    }
   ],
   "source": [
    "from nbdev.export import notebook2script\n",
    "notebook2script()"
   ]
  },
  {
   "cell_type": "code",
   "execution_count": null,
   "metadata": {},
   "outputs": [],
   "source": []
  }
 ],
 "metadata": {
  "kernelspec": {
   "display_name": "Python 3",
   "language": "python",
   "name": "python3"
  }
 },
 "nbformat": 4,
 "nbformat_minor": 1
}
