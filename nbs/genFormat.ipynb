{
 "cells": [
  {
   "cell_type": "code",
   "execution_count": null,
   "metadata": {},
   "outputs": [],
   "source": [
    "# default_exp genFormat.py"
   ]
  },
  {
   "cell_type": "markdown",
   "metadata": {},
   "source": [
    "# General rules\n",
    "\n",
    "> 1. Flag all cells in some way.\n",
    "> 2. Don't commit or push cells that fail.\n",
    "> 3. Follow good organizational practices. (My recommended form below and you can see an example in 6.0)\n",
    "> 4. Always rebuild the library and commit all notebooks\n",
    "> 5. IMPORTANT: MAKE SURE YOU INSTALL GITHOOKS BEFORE PUSHING"
   ]
  },
  {
   "cell_type": "markdown",
   "metadata": {},
   "source": [
    "##### In file I'll walk you through some basic recommended structure practices that will help CI build correctly - Alex"
   ]
  },
  {
   "cell_type": "code",
   "execution_count": null,
   "metadata": {},
   "outputs": [],
   "source": [
    "# export\n",
    "\n",
    "#imports\n",
    "import math"
   ]
  },
  {
   "cell_type": "markdown",
   "metadata": {},
   "source": [
    "###### The first comment is always the flag which will decide how nbdev treats the cell, from there you should comment as you would in any python file. Define your method/ function and comment it as you normally would"
   ]
  },
  {
   "cell_type": "code",
   "execution_count": null,
   "metadata": {},
   "outputs": [],
   "source": [
    "#export\n",
    "\n",
    "def askGroot(Question):\n",
    "    \n",
    "    if(type(Question) == str):\n",
    "        response = \"I am Groot\"\n",
    "    else:\n",
    "        response = \"i am groot?\"\n",
    "    return response"
   ]
  },
  {
   "cell_type": "markdown",
   "metadata": {},
   "source": [
    "###### In the cell immediately following the method/function is where you define your tests. Lead with the testing flag that you add to the settings.ini and then define all your tests for the method within that one cell."
   ]
  },
  {
   "cell_type": "code",
   "execution_count": null,
   "metadata": {},
   "outputs": [],
   "source": [
    "#SomeTestFlag\n",
    "\n",
    "\n",
    "answer = askGroot(\"What's the weather\")\n",
    "expected = \"I am Groot\"\n",
    "assert(answer == expected)\n",
    "\n",
    "answer = askGroot(12)\n",
    "expected = \"i am groot?\"\n",
    "assert(answer == expected)"
   ]
  },
  {
   "cell_type": "code",
   "execution_count": null,
   "metadata": {},
   "outputs": [],
   "source": []
  }
 ],
 "metadata": {
  "kernelspec": {
   "display_name": "Python 3",
   "language": "python",
   "name": "python3"
  }
 },
 "nbformat": 4,
 "nbformat_minor": 2
}
