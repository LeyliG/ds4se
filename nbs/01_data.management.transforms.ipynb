{
 "cells": [
  {
   "cell_type": "code",
   "execution_count": null,
   "metadata": {},
   "outputs": [],
   "source": [
    "# default_exp data.management.transforms"
   ]
  },
  {
   "cell_type": "markdown",
   "metadata": {},
   "source": [
    "# Data Management Transforms\n",
    "\n",
    "> This module contains all of the transforms that can be applied to code related data."
   ]
  },
  {
   "cell_type": "code",
   "execution_count": null,
   "metadata": {},
   "outputs": [],
   "source": [
    "# export\n",
    "import pandas as pd\n",
    "\n",
    "from fast_trees.core import FastParser\n",
    "from typing import Dict, Callable, List, Optional"
   ]
  },
  {
   "cell_type": "code",
   "execution_count": null,
   "metadata": {},
   "outputs": [],
   "source": [
    "# hide\n",
    "from nbdev.showdoc import *"
   ]
  },
  {
   "cell_type": "code",
   "execution_count": null,
   "metadata": {},
   "outputs": [
    {
     "data": {
      "text/html": [
       "<div>\n",
       "<style scoped>\n",
       "    .dataframe tbody tr th:only-of-type {\n",
       "        vertical-align: middle;\n",
       "    }\n",
       "\n",
       "    .dataframe tbody tr th {\n",
       "        vertical-align: top;\n",
       "    }\n",
       "\n",
       "    .dataframe thead th {\n",
       "        text-align: right;\n",
       "    }\n",
       "</style>\n",
       "<table border=\"1\" class=\"dataframe\">\n",
       "  <thead>\n",
       "    <tr style=\"text-align: right;\">\n",
       "      <th></th>\n",
       "      <th>code</th>\n",
       "      <th>docstring</th>\n",
       "    </tr>\n",
       "  </thead>\n",
       "  <tbody>\n",
       "    <tr>\n",
       "      <th>0</th>\n",
       "      <td>protected final void bindIndexed(Configuration...</td>\n",
       "      <td>Bind indexed elements to the supplied collecti...</td>\n",
       "    </tr>\n",
       "    <tr>\n",
       "      <th>1</th>\n",
       "      <td>public void setServletRegistrationBeans(\\n\\t\\t...</td>\n",
       "      <td>Set {@link ServletRegistrationBean}s that the ...</td>\n",
       "    </tr>\n",
       "    <tr>\n",
       "      <th>2</th>\n",
       "      <td>public void addServletRegistrationBeans(\\n\\t\\t...</td>\n",
       "      <td>Add {@link ServletRegistrationBean}s for the f...</td>\n",
       "    </tr>\n",
       "    <tr>\n",
       "      <th>3</th>\n",
       "      <td>public void setServletNames(Collection&lt;String&gt;...</td>\n",
       "      <td>Set servlet names that the filter will be regi...</td>\n",
       "    </tr>\n",
       "    <tr>\n",
       "      <th>4</th>\n",
       "      <td>public void addServletNames(String... servletN...</td>\n",
       "      <td>Add servlet names for the filter.\\n@param serv...</td>\n",
       "    </tr>\n",
       "  </tbody>\n",
       "</table>\n",
       "</div>"
      ],
      "text/plain": [
       "                                                code  \\\n",
       "0  protected final void bindIndexed(Configuration...   \n",
       "1  public void setServletRegistrationBeans(\\n\\t\\t...   \n",
       "2  public void addServletRegistrationBeans(\\n\\t\\t...   \n",
       "3  public void setServletNames(Collection<String>...   \n",
       "4  public void addServletNames(String... servletN...   \n",
       "\n",
       "                                           docstring  \n",
       "0  Bind indexed elements to the supplied collecti...  \n",
       "1  Set {@link ServletRegistrationBean}s that the ...  \n",
       "2  Add {@link ServletRegistrationBean}s for the f...  \n",
       "3  Set servlet names that the filter will be regi...  \n",
       "4  Add servlet names for the filter.\\n@param serv...  "
      ]
     },
     "execution_count": null,
     "metadata": {},
     "output_type": "execute_result"
    }
   ],
   "source": [
    "# hide\n",
    "from ds4se.data.core import get_dataframes, get_datasets\n",
    "from pathlib import Path\n",
    "\n",
    "path = Path(\"/home/nathan/Downloads/\")\n",
    "df_trn, df_val, df_tst = get_dataframes(path / \"java/final/jsonl\")\n",
    "\n",
    "n = 100\n",
    "df_trn = df_trn.head(n)\n",
    "df_val = df_val.head(n)\n",
    "df_tst = df_tst.head(n)\n",
    "df_trn.head()"
   ]
  },
  {
   "cell_type": "code",
   "execution_count": null,
   "metadata": {},
   "outputs": [],
   "source": [
    "# export\n",
    "def transform_df(\n",
    "    df: pd.DataFrame, transform_fn: Callable, col: str, n: Optional[int] = None\n",
    ") -> pd.DataFrame:\n",
    "    \"\"\"\n",
    "    Transform the given pandas dataframe using the given transformation.\n",
    "\n",
    "    :param df: the dataframe containing each method to be transformed\n",
    "    :param transform_fn: the transformation that will be applied to each example in the dataframe\n",
    "    :param col: the column to get the examples from\n",
    "    :param n: the number of examples to evaluate. If none, the entire dataframe will be used\n",
    "    :returns: returns a modified dataframe with the examples transformed\n",
    "    \"\"\"\n",
    "    if n is None:\n",
    "        n = len(df)\n",
    "\n",
    "    df = df.iloc[:n].copy()\n",
    "    df[col] = df[col].apply(transform_fn)\n",
    "\n",
    "    return df"
   ]
  },
  {
   "cell_type": "code",
   "execution_count": null,
   "metadata": {},
   "outputs": [],
   "source": [
    "# export\n",
    "def filter_df(\n",
    "    df: pd.DataFrame, filter_fn: Callable, col: str, n: Optional[int] = None\n",
    ") -> pd.DataFrame:\n",
    "    \"\"\"\n",
    "    Filter the given pandas dataframe using the given transformation.\n",
    "\n",
    "    :param df: the dataframe containing each method to be transformed\n",
    "    :param filter_fn: the filter function that will be applied to each method in the dataframe\n",
    "    :param col: the column to get the examples from\n",
    "    :param n: the number of examples to evaluate. If none, the entire dataframe will be used\n",
    "    :returns: returns a modified dataframe with the rows filtered\n",
    "    \"\"\"\n",
    "    if n is None:\n",
    "        n = len(df)\n",
    "\n",
    "    df = df.iloc[:n].copy()\n",
    "    df = df[df[col].apply(filter_fn)]\n",
    "\n",
    "    return df"
   ]
  },
  {
   "cell_type": "markdown",
   "metadata": {},
   "source": [
    "# Semantic Preserving\n",
    "Semantic preserving transformations do not change the functionality or meaning of a piece of data, e.g., comment removal."
   ]
  },
  {
   "cell_type": "markdown",
   "metadata": {},
   "source": [
    "## Source Code"
   ]
  },
  {
   "cell_type": "code",
   "execution_count": null,
   "metadata": {},
   "outputs": [],
   "source": [
    "# export\n",
    "def is_ascii(mthd: str) -> bool:\n",
    "    \"\"\"\n",
    "    Check if the given method contains only ASCII characters. From https://stackoverflow.com/a/27084708/5768407.\n",
    "\n",
    "    :param mthd: the method to verify contains only ASCII characters\n",
    "    :returns: returns a boolean representing whether or not the given method contains only ASCII characters\n",
    "    \"\"\"\n",
    "    try:\n",
    "        mthd.encode(encoding=\"utf-8\").decode(\"ascii\")\n",
    "    except UnicodeDecodeError:\n",
    "        return False\n",
    "    else:\n",
    "        return True"
   ]
  },
  {
   "cell_type": "code",
   "execution_count": null,
   "metadata": {},
   "outputs": [],
   "source": [
    "# tst\n",
    "df_fake = pd.DataFrame([\"this is a test\", \"भारत test\"], columns=[\"code\"])\n",
    "\n",
    "NON_ASCII_DF = pd.DataFrame([\"this is a test\"], columns=[\"code\"])\n",
    "df_non_ascii = filter_df(df_fake, is_ascii, \"code\")\n",
    "\n",
    "assert (NON_ASCII_DF == df_non_ascii).all().all()"
   ]
  },
  {
   "cell_type": "code",
   "execution_count": null,
   "metadata": {},
   "outputs": [],
   "source": [
    "# export\n",
    "def remove_comments(parser: FastParser, example: str) -> str:\n",
    "    inline_comments = parser.get_method_inline_comments(example)\n",
    "    for c in inline_comments:\n",
    "        example = example.replace(c, \"\")\n",
    "\n",
    "    return example"
   ]
  },
  {
   "cell_type": "code",
   "execution_count": null,
   "metadata": {},
   "outputs": [
    {
     "name": "stdout",
     "output_type": "stream",
     "text": [
      "Repo already exists, continuing.\n"
     ]
    }
   ],
   "source": [
    "# tst\n",
    "df_fake = pd.DataFrame(\n",
    "    [\n",
    "        \"\"\"public static void main(String[] args) {\n",
    "    // inline comment\n",
    "    System.out.println(\"Hello, world!\")\n",
    "    /**\n",
    "        multi-line inline comment\n",
    "    */\n",
    "}\"\"\"\n",
    "    ],\n",
    "    columns=[\"code\"],\n",
    ")\n",
    "\n",
    "NO_COMMENTS_DF = pd.DataFrame(\n",
    "    [\n",
    "        \"\"\"public static void main(String[] args) {\n",
    "    \n",
    "    System.out.println(\"Hello, world!\")\n",
    "    \n",
    "}\"\"\"\n",
    "    ],\n",
    "    columns=[\"code\"],\n",
    ")\n",
    "\n",
    "parser = FastParser(\"java\")\n",
    "df_no_comments = transform_df(\n",
    "    df_fake, lambda example: remove_comments(parser, example), \"code\"\n",
    ")\n",
    "\n",
    "assert (NO_COMMENTS_DF == df_no_comments).all().all()"
   ]
  },
  {
   "cell_type": "markdown",
   "metadata": {},
   "source": [
    "# Non-Semantic Preserving"
   ]
  },
  {
   "cell_type": "markdown",
   "metadata": {},
   "source": [
    "## Source Code"
   ]
  },
  {
   "cell_type": "code",
   "execution_count": null,
   "metadata": {},
   "outputs": [],
   "source": []
  },
  {
   "cell_type": "markdown",
   "metadata": {},
   "source": [
    "# Pipeline\n",
    "Composes multiple transformations to apply to a set of data"
   ]
  },
  {
   "cell_type": "code",
   "execution_count": null,
   "metadata": {},
   "outputs": [],
   "source": []
  }
 ],
 "metadata": {
  "kernelspec": {
   "display_name": "Python 3",
   "language": "python",
   "name": "python3"
  }
 },
 "nbformat": 4,
 "nbformat_minor": 4
}
