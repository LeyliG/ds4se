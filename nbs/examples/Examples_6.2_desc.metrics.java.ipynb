{
 "cells": [
  {
   "cell_type": "code",
   "execution_count": null,
   "metadata": {},
   "outputs": [],
   "source": [
    "# export\n",
    "# Imports\n",
    "import pandas as pd\n",
    "from numpy import mean, std\n",
    "from statistics import median\n",
    "from scipy.stats import sem, t\n",
    "import lizard\n",
    "import matplotlib.pyplot as plt\n",
    "from tree_sitter import Language, Parser, Node\n",
    "#Decoding files\n",
    "import chardet\n",
    "from bs4 import UnicodeDammit\n",
    "\n",
    "\n",
    "# TODO: Remove when mongo call is implemented\n",
    "import os\n",
    "\n",
    "from ds4se.desc.metrics import java\n",
    "############################################################"
   ]
  },
  {
   "cell_type": "markdown",
   "metadata": {},
   "source": [
    "# --get_unicode(file_path) usage example--"
   ]
  },
  {
   "cell_type": "code",
   "execution_count": null,
   "metadata": {},
   "outputs": [
    {
     "name": "stdout",
     "output_type": "stream",
     "text": [
      "ascii\n",
      "Hello, this is a test file\n"
     ]
    },
    {
     "data": {
      "text/plain": [
       "'Note, the function detects ascii instead of utf-8 because \\nascii is a more specific subset of utf-8 which is still able \\nto completely decode this file. Similar inaccuracies occur with \\nmany encodings but will not affect program results.'"
      ]
     },
     "execution_count": null,
     "metadata": {},
     "output_type": "execute_result"
    }
   ],
   "source": [
    "#export\n",
    "# --get_unicode(file_path) usage example--\n",
    "# Setting up test data\n",
    "file_path = \"test_utf_8_file.txt\"\n",
    "with open(file_path, 'w', encoding=\"utf-8\") as f:\n",
    "    f.write(\"Hello, this is a test file\")\n",
    "# Calling function\n",
    "text, encoding = java.get_unicode(file_path)\n",
    "# Cleanup\n",
    "os.remove(file_path)\n",
    "# Displaying output\n",
    "print(encoding)\n",
    "print(text)\n",
    "\"\"\"Note, the function detects ascii instead of utf-8 because \n",
    "ascii is a more specific subset of utf-8 which is still able \n",
    "to completely decode this file. Similar inaccuracies occur with \n",
    "many encodings but will not affect program results.\"\"\"\n",
    "############################################################"
   ]
  },
  {
   "cell_type": "markdown",
   "metadata": {},
   "source": [
    "# --simulate_getting_dataframes_from_mongo(folder_path) usage example--"
   ]
  },
  {
   "cell_type": "code",
   "execution_count": null,
   "metadata": {},
   "outputs": [
    {
     "data": {
      "text/html": [
       "<div>\n",
       "<style scoped>\n",
       "    .dataframe tbody tr th:only-of-type {\n",
       "        vertical-align: middle;\n",
       "    }\n",
       "\n",
       "    .dataframe tbody tr th {\n",
       "        vertical-align: top;\n",
       "    }\n",
       "\n",
       "    .dataframe thead th {\n",
       "        text-align: right;\n",
       "    }\n",
       "</style>\n",
       "<table border=\"1\" class=\"dataframe\">\n",
       "  <thead>\n",
       "    <tr style=\"text-align: right;\">\n",
       "      <th></th>\n",
       "      <th>system</th>\n",
       "      <th>name</th>\n",
       "      <th>ground_truth</th>\n",
       "      <th>contents</th>\n",
       "      <th>encoding</th>\n",
       "    </tr>\n",
       "  </thead>\n",
       "  <tbody>\n",
       "    <tr>\n",
       "      <th>0</th>\n",
       "      <td>None</td>\n",
       "      <td>test_file.txt</td>\n",
       "      <td>src</td>\n",
       "      <td>Hello, this is a test file</td>\n",
       "      <td>ascii</td>\n",
       "    </tr>\n",
       "  </tbody>\n",
       "</table>\n",
       "</div>"
      ],
      "text/plain": [
       "  system           name ground_truth                    contents encoding\n",
       "0   None  test_file.txt          src  Hello, this is a test file    ascii"
      ]
     },
     "execution_count": null,
     "metadata": {},
     "output_type": "execute_result"
    }
   ],
   "source": [
    "#export\n",
    "#--simulate_getting_dataframes_from_mongo(folder_path) usage example--\n",
    "# Setting up test data\n",
    "file_path = \"test_file.txt\"\n",
    "folder_path = \"test_dir\"\n",
    "if(not folder_path):\n",
    "    os.mkdir(folder_path)\n",
    "with open(os.path.join(folder_path, file_path), 'w') as f:\n",
    "    f.write(\"Hello, this is a test file\")\n",
    "# Calling function\n",
    "pd_dataframe = java.simulate_getting_dataframes_from_mongo(folder_path)\n",
    "# Cleanup\n",
    "os.remove(os.path.join(folder_path,file_path))\n",
    "os.rmdir(folder_path)\n",
    "# Displaying output\n",
    "pd.set_option('display.expand_frame_repr', False)\n",
    "pd_dataframe.head()\n",
    "############################################################"
   ]
  },
  {
   "cell_type": "markdown",
   "metadata": {},
   "source": [
    "# --add_mccabe_metrics(df, data_col, name_col) usage example--"
   ]
  },
  {
   "cell_type": "code",
   "execution_count": null,
   "metadata": {},
   "outputs": [
    {
     "data": {
      "text/html": [
       "<div>\n",
       "<style scoped>\n",
       "    .dataframe tbody tr th:only-of-type {\n",
       "        vertical-align: middle;\n",
       "    }\n",
       "\n",
       "    .dataframe tbody tr th {\n",
       "        vertical-align: top;\n",
       "    }\n",
       "\n",
       "    .dataframe thead th {\n",
       "        text-align: right;\n",
       "    }\n",
       "</style>\n",
       "<table border=\"1\" class=\"dataframe\">\n",
       "  <thead>\n",
       "    <tr style=\"text-align: right;\">\n",
       "      <th></th>\n",
       "      <th>system</th>\n",
       "      <th>name</th>\n",
       "      <th>ground_truth</th>\n",
       "      <th>contents</th>\n",
       "      <th>encoding</th>\n",
       "      <th>num_funcs</th>\n",
       "      <th>class_ccn</th>\n",
       "      <th>avg_func_ccn</th>\n",
       "      <th>avg_func_nloc</th>\n",
       "    </tr>\n",
       "  </thead>\n",
       "  <tbody>\n",
       "    <tr>\n",
       "      <th>0</th>\n",
       "      <td>None</td>\n",
       "      <td>test_java_file.java</td>\n",
       "      <td>src</td>\n",
       "      <td>public int main() {}</td>\n",
       "      <td>ascii</td>\n",
       "      <td>[1]</td>\n",
       "      <td>[1]</td>\n",
       "      <td>[1.0]</td>\n",
       "      <td>[1.0]</td>\n",
       "    </tr>\n",
       "  </tbody>\n",
       "</table>\n",
       "</div>"
      ],
      "text/plain": [
       "  system                 name ground_truth              contents encoding num_funcs class_ccn avg_func_ccn avg_func_nloc\n",
       "0   None  test_java_file.java          src  public int main() {}    ascii       [1]       [1]        [1.0]         [1.0]"
      ]
     },
     "execution_count": null,
     "metadata": {},
     "output_type": "execute_result"
    }
   ],
   "source": [
    "#export\n",
    "#--add_mccabe_metrics(df, data_col, name_col) usage example--\n",
    "# Setting up test data\n",
    "file_path = \"test_java_file.java\"\n",
    "folder_path = \"test_dir\"\n",
    "if(not folder_path):\n",
    "    os.mkdir(folder_path)\n",
    "with open(os.path.join(folder_path, file_path), 'w') as f:\n",
    "    f.write(\"public int main() {}\")\n",
    "# Calling function\n",
    "pd_dataframe = java.simulate_getting_dataframes_from_mongo(folder_path)\n",
    "pd_dataframe = java.add_mccabe_metrics(pd_dataframe, \"contents\", \"name\")\n",
    "# Cleanup\n",
    "os.remove(os.path.join(folder_path,file_path))\n",
    "os.rmdir(folder_path)\n",
    "# Displaying output\n",
    "pd.set_option('display.expand_frame_repr', False)\n",
    "pd_dataframe.head()\n",
    "############################################################"
   ]
  },
  {
   "cell_type": "markdown",
   "metadata": {},
   "source": [
    "# --add_lcom5(df, col) usage example--"
   ]
  },
  {
   "cell_type": "code",
   "execution_count": null,
   "metadata": {},
   "outputs": [
    {
     "ename": "FileNotFoundError",
     "evalue": "[Errno 2] No such file or directory: 'tree-sitter-java/src/parser.c'",
     "output_type": "error",
     "traceback": [
      "\u001b[0;31m---------------------------------------------------------------------------\u001b[0m",
      "\u001b[0;31mFileNotFoundError\u001b[0m                         Traceback (most recent call last)",
      "\u001b[0;32m<ipython-input-28-b3709d0f6aa6>\u001b[0m in \u001b[0;36m<module>\u001b[0;34m\u001b[0m\n\u001b[1;32m     10\u001b[0m \u001b[0;31m# Calling function\u001b[0m\u001b[0;34m\u001b[0m\u001b[0;34m\u001b[0m\u001b[0;34m\u001b[0m\u001b[0m\n\u001b[1;32m     11\u001b[0m \u001b[0mpd_dataframe\u001b[0m \u001b[0;34m=\u001b[0m \u001b[0mjava\u001b[0m\u001b[0;34m.\u001b[0m\u001b[0msimulate_getting_dataframes_from_mongo\u001b[0m\u001b[0;34m(\u001b[0m\u001b[0mfolder_path\u001b[0m\u001b[0;34m)\u001b[0m\u001b[0;34m\u001b[0m\u001b[0;34m\u001b[0m\u001b[0m\n\u001b[0;32m---> 12\u001b[0;31m \u001b[0mpd_dataframe\u001b[0m \u001b[0;34m=\u001b[0m \u001b[0mjava\u001b[0m\u001b[0;34m.\u001b[0m\u001b[0madd_lcom5\u001b[0m\u001b[0;34m(\u001b[0m\u001b[0mpd_dataframe\u001b[0m\u001b[0;34m,\u001b[0m \u001b[0;34m\"contents\"\u001b[0m\u001b[0;34m)\u001b[0m\u001b[0;34m\u001b[0m\u001b[0;34m\u001b[0m\u001b[0m\n\u001b[0m\u001b[1;32m     13\u001b[0m \u001b[0;31m# Cleanup\u001b[0m\u001b[0;34m\u001b[0m\u001b[0;34m\u001b[0m\u001b[0;34m\u001b[0m\u001b[0m\n\u001b[1;32m     14\u001b[0m \u001b[0mos\u001b[0m\u001b[0;34m.\u001b[0m\u001b[0mremove\u001b[0m\u001b[0;34m(\u001b[0m\u001b[0mos\u001b[0m\u001b[0;34m.\u001b[0m\u001b[0mpath\u001b[0m\u001b[0;34m.\u001b[0m\u001b[0mjoin\u001b[0m\u001b[0;34m(\u001b[0m\u001b[0mfolder_path\u001b[0m\u001b[0;34m,\u001b[0m\u001b[0mfile_path\u001b[0m\u001b[0;34m)\u001b[0m\u001b[0;34m)\u001b[0m\u001b[0;34m\u001b[0m\u001b[0;34m\u001b[0m\u001b[0m\n",
      "\u001b[0;32m~/opt/anaconda3/lib/python3.8/site-packages/ds4se-0.0.1-py3.8.egg/ds4se/desc/metrics/java.py\u001b[0m in \u001b[0;36madd_lcom5\u001b[0;34m(df, col)\u001b[0m\n\u001b[1;32m    267\u001b[0m \u001b[0;32mdef\u001b[0m \u001b[0madd_lcom5\u001b[0m\u001b[0;34m(\u001b[0m\u001b[0mdf\u001b[0m\u001b[0;34m,\u001b[0m \u001b[0mcol\u001b[0m\u001b[0;34m)\u001b[0m\u001b[0;34m:\u001b[0m\u001b[0;34m\u001b[0m\u001b[0;34m\u001b[0m\u001b[0m\n\u001b[1;32m    268\u001b[0m     \u001b[0;34m\"\"\"Adds a column with the LCOM5 of each class of each file to a dataframe\"\"\"\u001b[0m\u001b[0;34m\u001b[0m\u001b[0;34m\u001b[0m\u001b[0m\n\u001b[0;32m--> 269\u001b[0;31m     \u001b[0mlang_builds\u001b[0m \u001b[0;34m=\u001b[0m \u001b[0mcreate_parser_builds\u001b[0m\u001b[0;34m(\u001b[0m\u001b[0;34m)\u001b[0m\u001b[0;34m\u001b[0m\u001b[0;34m\u001b[0m\u001b[0m\n\u001b[0m\u001b[1;32m    270\u001b[0m     \u001b[0mparser\u001b[0m \u001b[0;34m=\u001b[0m \u001b[0mParser\u001b[0m\u001b[0;34m(\u001b[0m\u001b[0;34m)\u001b[0m\u001b[0;34m\u001b[0m\u001b[0;34m\u001b[0m\u001b[0m\n\u001b[1;32m    271\u001b[0m     \u001b[0mclass_lcom5\u001b[0m \u001b[0;34m=\u001b[0m \u001b[0;34m[\u001b[0m\u001b[0;34m]\u001b[0m\u001b[0;34m\u001b[0m\u001b[0;34m\u001b[0m\u001b[0m\n",
      "\u001b[0;32m~/opt/anaconda3/lib/python3.8/site-packages/ds4se-0.0.1-py3.8.egg/ds4se/desc/metrics/java.py\u001b[0m in \u001b[0;36mcreate_parser_builds\u001b[0;34m(path)\u001b[0m\n\u001b[1;32m    111\u001b[0m \u001b[0;32mdef\u001b[0m \u001b[0mcreate_parser_builds\u001b[0m\u001b[0;34m(\u001b[0m\u001b[0mpath\u001b[0m\u001b[0;34m=\u001b[0m\u001b[0;32mNone\u001b[0m\u001b[0;34m)\u001b[0m\u001b[0;34m:\u001b[0m\u001b[0;34m\u001b[0m\u001b[0;34m\u001b[0m\u001b[0m\n\u001b[1;32m    112\u001b[0m     \u001b[0;34m\"\"\"Creates a dictionary of tree-sitter parsers for select languages\"\"\"\u001b[0m\u001b[0;34m\u001b[0m\u001b[0;34m\u001b[0m\u001b[0m\n\u001b[0;32m--> 113\u001b[0;31m     Language.build_library(\n\u001b[0m\u001b[1;32m    114\u001b[0m         \u001b[0;31m# Store the library in the `build` directory\u001b[0m\u001b[0;34m\u001b[0m\u001b[0;34m\u001b[0m\u001b[0;34m\u001b[0m\u001b[0m\n\u001b[1;32m    115\u001b[0m         \u001b[0;34m'build/my-languages.so'\u001b[0m\u001b[0;34m,\u001b[0m\u001b[0;34m\u001b[0m\u001b[0;34m\u001b[0m\u001b[0m\n",
      "\u001b[0;32m~/opt/anaconda3/lib/python3.8/site-packages/tree_sitter/__init__.py\u001b[0m in \u001b[0;36mbuild_library\u001b[0;34m(output_path, repo_paths)\u001b[0m\n\u001b[1;32m     39\u001b[0m             \u001b[0;32melif\u001b[0m \u001b[0mpath\u001b[0m\u001b[0;34m.\u001b[0m\u001b[0mexists\u001b[0m\u001b[0;34m(\u001b[0m\u001b[0mpath\u001b[0m\u001b[0;34m.\u001b[0m\u001b[0mjoin\u001b[0m\u001b[0;34m(\u001b[0m\u001b[0msrc_path\u001b[0m\u001b[0;34m,\u001b[0m \u001b[0;34m\"scanner.c\"\u001b[0m\u001b[0;34m)\u001b[0m\u001b[0;34m)\u001b[0m\u001b[0;34m:\u001b[0m\u001b[0;34m\u001b[0m\u001b[0;34m\u001b[0m\u001b[0m\n\u001b[1;32m     40\u001b[0m                 \u001b[0msource_paths\u001b[0m\u001b[0;34m.\u001b[0m\u001b[0mappend\u001b[0m\u001b[0;34m(\u001b[0m\u001b[0mpath\u001b[0m\u001b[0;34m.\u001b[0m\u001b[0mjoin\u001b[0m\u001b[0;34m(\u001b[0m\u001b[0msrc_path\u001b[0m\u001b[0;34m,\u001b[0m \u001b[0;34m\"scanner.c\"\u001b[0m\u001b[0;34m)\u001b[0m\u001b[0;34m)\u001b[0m\u001b[0;34m\u001b[0m\u001b[0;34m\u001b[0m\u001b[0m\n\u001b[0;32m---> 41\u001b[0;31m         source_mtimes = [path.getmtime(__file__)] + [\n\u001b[0m\u001b[1;32m     42\u001b[0m             \u001b[0mpath\u001b[0m\u001b[0;34m.\u001b[0m\u001b[0mgetmtime\u001b[0m\u001b[0;34m(\u001b[0m\u001b[0mpath_\u001b[0m\u001b[0;34m)\u001b[0m \u001b[0;32mfor\u001b[0m \u001b[0mpath_\u001b[0m \u001b[0;32min\u001b[0m \u001b[0msource_paths\u001b[0m\u001b[0;34m\u001b[0m\u001b[0;34m\u001b[0m\u001b[0m\n\u001b[1;32m     43\u001b[0m         ]\n",
      "\u001b[0;32m~/opt/anaconda3/lib/python3.8/site-packages/tree_sitter/__init__.py\u001b[0m in \u001b[0;36m<listcomp>\u001b[0;34m(.0)\u001b[0m\n\u001b[1;32m     40\u001b[0m                 \u001b[0msource_paths\u001b[0m\u001b[0;34m.\u001b[0m\u001b[0mappend\u001b[0m\u001b[0;34m(\u001b[0m\u001b[0mpath\u001b[0m\u001b[0;34m.\u001b[0m\u001b[0mjoin\u001b[0m\u001b[0;34m(\u001b[0m\u001b[0msrc_path\u001b[0m\u001b[0;34m,\u001b[0m \u001b[0;34m\"scanner.c\"\u001b[0m\u001b[0;34m)\u001b[0m\u001b[0;34m)\u001b[0m\u001b[0;34m\u001b[0m\u001b[0;34m\u001b[0m\u001b[0m\n\u001b[1;32m     41\u001b[0m         source_mtimes = [path.getmtime(__file__)] + [\n\u001b[0;32m---> 42\u001b[0;31m             \u001b[0mpath\u001b[0m\u001b[0;34m.\u001b[0m\u001b[0mgetmtime\u001b[0m\u001b[0;34m(\u001b[0m\u001b[0mpath_\u001b[0m\u001b[0;34m)\u001b[0m \u001b[0;32mfor\u001b[0m \u001b[0mpath_\u001b[0m \u001b[0;32min\u001b[0m \u001b[0msource_paths\u001b[0m\u001b[0;34m\u001b[0m\u001b[0;34m\u001b[0m\u001b[0m\n\u001b[0m\u001b[1;32m     43\u001b[0m         ]\n\u001b[1;32m     44\u001b[0m \u001b[0;34m\u001b[0m\u001b[0m\n",
      "\u001b[0;32m~/opt/anaconda3/lib/python3.8/genericpath.py\u001b[0m in \u001b[0;36mgetmtime\u001b[0;34m(filename)\u001b[0m\n\u001b[1;32m     53\u001b[0m \u001b[0;32mdef\u001b[0m \u001b[0mgetmtime\u001b[0m\u001b[0;34m(\u001b[0m\u001b[0mfilename\u001b[0m\u001b[0;34m)\u001b[0m\u001b[0;34m:\u001b[0m\u001b[0;34m\u001b[0m\u001b[0;34m\u001b[0m\u001b[0m\n\u001b[1;32m     54\u001b[0m     \u001b[0;34m\"\"\"Return the last modification time of a file, reported by os.stat().\"\"\"\u001b[0m\u001b[0;34m\u001b[0m\u001b[0;34m\u001b[0m\u001b[0m\n\u001b[0;32m---> 55\u001b[0;31m     \u001b[0;32mreturn\u001b[0m \u001b[0mos\u001b[0m\u001b[0;34m.\u001b[0m\u001b[0mstat\u001b[0m\u001b[0;34m(\u001b[0m\u001b[0mfilename\u001b[0m\u001b[0;34m)\u001b[0m\u001b[0;34m.\u001b[0m\u001b[0mst_mtime\u001b[0m\u001b[0;34m\u001b[0m\u001b[0;34m\u001b[0m\u001b[0m\n\u001b[0m\u001b[1;32m     56\u001b[0m \u001b[0;34m\u001b[0m\u001b[0m\n\u001b[1;32m     57\u001b[0m \u001b[0;34m\u001b[0m\u001b[0m\n",
      "\u001b[0;31mFileNotFoundError\u001b[0m: [Errno 2] No such file or directory: 'tree-sitter-java/src/parser.c'"
     ]
    }
   ],
   "source": [
    "#export\n",
    "#--add_lcom5(df, col) usage example--\n",
    "# Setting up test data\n",
    "file_path = \"test_java_file.java\"\n",
    "folder_path = \"test_dir\"\n",
    "if(not folder_path):\n",
    "    os.mkdir(folder_path)\n",
    "with open(os.path.join(folder_path, file_path), 'w') as f:\n",
    "    f.write(\"class SomeClass {int var, i, able; public int main() {return 0;} public void helper() {return i;}}\")\n",
    "# Calling function\n",
    "pd_dataframe = java.simulate_getting_dataframes_from_mongo(folder_path)\n",
    "pd_dataframe = java.add_lcom5(pd_dataframe, \"contents\")\n",
    "# Cleanup\n",
    "os.remove(os.path.join(folder_path,file_path))\n",
    "os.rmdir(folder_path)\n",
    "# Displaying output\n",
    "pd.set_option('display.expand_frame_repr', False)\n",
    "pd_dataframe.head()\n",
    "############################################################"
   ]
  },
  {
   "cell_type": "markdown",
   "metadata": {},
   "source": [
    "# --flatten_lol(list_list) usage example--"
   ]
  },
  {
   "cell_type": "code",
   "execution_count": null,
   "metadata": {},
   "outputs": [
    {
     "name": "stdout",
     "output_type": "stream",
     "text": [
      "[1, 2, 3, 5, 6, 7, 'apple', 'pear', 'banana']\n"
     ]
    }
   ],
   "source": [
    "#export\n",
    "# --flatten_lol(list_list) usage example--\n",
    "# Setting up test data\n",
    "list_of_lists = [[1, 2, 3], [5, 6, 7], [\"apple\", \"pear\", \"banana\"]]\n",
    "# Calling function\n",
    "flattened = java.flatten_lol(list_of_lists)\n",
    "# Displaying output\n",
    "print(flattened)\n",
    "############################################################"
   ]
  },
  {
   "cell_type": "markdown",
   "metadata": {},
   "source": [
    "# --display_numeric_col_stats(col, conf = 0.95, sig_figs = 4, clean=True, verbose_clean=False) usage example--"
   ]
  },
  {
   "cell_type": "code",
   "execution_count": null,
   "metadata": {},
   "outputs": [
    {
     "name": "stdout",
     "output_type": "stream",
     "text": [
      "Min = 1\n",
      "Max = 5\n",
      "Average = 3.0\n",
      "Median = 3\n",
      "Standard Deviation = 1.1952\n",
      "0.95 of data points fall between 1.806 and 4.194\n"
     ]
    },
    {
     "data": {
      "text/plain": [
       "'Note: the function ignores not-numeric entries, so apple, \\npear and banana do not create issues'"
      ]
     },
     "execution_count": null,
     "metadata": {},
     "output_type": "execute_result"
    }
   ],
   "source": [
    "#export\n",
    "# --display_numeric_col_stats(col, conf = 0.95, sig_figs = 4, clean=True, verbose_clean=False) usage example--\n",
    "# Setting up test data\n",
    "data = [[1, 2, 3], [3, 3, 4, 5], [\"apple\" \"banana\"]]\n",
    "flat_data = java.flatten_lol(data)\n",
    "# Calling function\n",
    "java.display_numeric_col_stats(flat_data)\n",
    "\"\"\"Note: the function ignores not-numeric entries, so apple, \n",
    "pear and banana do not create issues\"\"\"\n",
    "############################################################"
   ]
  },
  {
   "cell_type": "markdown",
   "metadata": {},
   "source": [
    "# --display_numeric_col_hist(col, col_name=\"measure\", num_bins=None, clean=True, verbose_clean=False) usage example--"
   ]
  },
  {
   "cell_type": "code",
   "execution_count": null,
   "metadata": {},
   "outputs": [
    {
     "data": {
      "image/png": "[encoded data removed]",
      "text/plain": [
       "<Figure size 432x288 with 1 Axes>"
      ]
     },
     "metadata": {
      "needs_background": "light"
     },
     "output_type": "display_data"
    },
    {
     "data": {
      "text/plain": [
       "'Note: the function ignores not-numeric entries, so apple, \\npear and banana do not create issues'"
      ]
     },
     "execution_count": null,
     "metadata": {},
     "output_type": "execute_result"
    }
   ],
   "source": [
    "#export\n",
    "# --display_numeric_col_hist(col, col_name=\"measure\", num_bins=None, clean=True, verbose_clean=False) usage example--\n",
    "# Setting up test data\n",
    "data = [[1, 2, 3], [3, 3, 4, 5], [\"apple\" \"banana\"]]\n",
    "flat_data = java.flatten_lol(data)\n",
    "# Calling function\n",
    "java.display_numeric_col_hist(flat_data, \"Test Data\", num_bins=5)\n",
    "\"\"\"Note: the function ignores not-numeric entries, so apple, \n",
    "pear and banana do not create issues\"\"\"\n",
    "############################################################"
   ]
  },
  {
   "cell_type": "markdown",
   "metadata": {},
   "source": [
    "# Analysis Visualization"
   ]
  },
  {
   "cell_type": "code",
   "execution_count": null,
   "metadata": {},
   "outputs": [
    {
     "ename": "FileNotFoundError",
     "evalue": "[Errno 2] No such file or directory: '../data_management/traceability_data/raw/SMOS_semeru_format/source_code'",
     "output_type": "error",
     "traceback": [
      "\u001b[0;31m---------------------------------------------------------------------------\u001b[0m",
      "\u001b[0;31mFileNotFoundError\u001b[0m                         Traceback (most recent call last)",
      "\u001b[0;32m<ipython-input-37-a3a5fcf616c1>\u001b[0m in \u001b[0;36m<module>\u001b[0;34m\u001b[0m\n\u001b[1;32m      2\u001b[0m \u001b[0;31m# Retrieve the data\u001b[0m\u001b[0;34m\u001b[0m\u001b[0;34m\u001b[0m\u001b[0;34m\u001b[0m\u001b[0m\n\u001b[1;32m      3\u001b[0m \u001b[0mpath\u001b[0m \u001b[0;34m=\u001b[0m \u001b[0;34m\"../data_management/traceability_data/raw/SMOS_semeru_format/source_code\"\u001b[0m\u001b[0;34m\u001b[0m\u001b[0;34m\u001b[0m\u001b[0m\n\u001b[0;32m----> 4\u001b[0;31m \u001b[0mcorpus_df\u001b[0m \u001b[0;34m=\u001b[0m \u001b[0mjava\u001b[0m\u001b[0;34m.\u001b[0m\u001b[0msimulate_getting_dataframes_from_mongo\u001b[0m\u001b[0;34m(\u001b[0m\u001b[0mpath\u001b[0m\u001b[0;34m)\u001b[0m\u001b[0;34m\u001b[0m\u001b[0;34m\u001b[0m\u001b[0m\n\u001b[0m\u001b[1;32m      5\u001b[0m \u001b[0mtotal_file_count\u001b[0m \u001b[0;34m=\u001b[0m \u001b[0mlen\u001b[0m\u001b[0;34m(\u001b[0m\u001b[0mcorpus_df\u001b[0m\u001b[0;34m)\u001b[0m\u001b[0;34m\u001b[0m\u001b[0;34m\u001b[0m\u001b[0m\n\u001b[1;32m      6\u001b[0m \u001b[0mprint\u001b[0m\u001b[0;34m(\u001b[0m\u001b[0;34m\"Total files:\"\u001b[0m\u001b[0;34m,\u001b[0m \u001b[0mtotal_file_count\u001b[0m\u001b[0;34m)\u001b[0m\u001b[0;34m\u001b[0m\u001b[0;34m\u001b[0m\u001b[0m\n",
      "\u001b[0;32m~/opt/anaconda3/lib/python3.8/site-packages/ds4se-0.0.1-py3.8.egg/ds4se/desc/metrics/java.py\u001b[0m in \u001b[0;36msimulate_getting_dataframes_from_mongo\u001b[0;34m(folder_path)\u001b[0m\n\u001b[1;32m     54\u001b[0m     \u001b[0;34m\"\"\"Loads files from a specified folder into a pandas dataframe\"\"\"\u001b[0m\u001b[0;34m\u001b[0m\u001b[0;34m\u001b[0m\u001b[0m\n\u001b[1;32m     55\u001b[0m     \u001b[0mcorpus_data\u001b[0m \u001b[0;34m=\u001b[0m \u001b[0;34m{\u001b[0m\u001b[0;34m\"system\"\u001b[0m\u001b[0;34m:\u001b[0m \u001b[0;34m[\u001b[0m\u001b[0;34m]\u001b[0m\u001b[0;34m,\u001b[0m \u001b[0;34m\"name\"\u001b[0m\u001b[0;34m:\u001b[0m \u001b[0;34m[\u001b[0m\u001b[0;34m]\u001b[0m\u001b[0;34m,\u001b[0m \u001b[0;34m\"ground_truth\"\u001b[0m\u001b[0;34m:\u001b[0m \u001b[0;34m[\u001b[0m\u001b[0;34m]\u001b[0m\u001b[0;34m,\u001b[0m \u001b[0;34m\"contents\"\u001b[0m\u001b[0;34m:\u001b[0m \u001b[0;34m[\u001b[0m\u001b[0;34m]\u001b[0m\u001b[0;34m,\u001b[0m \u001b[0;34m\"encoding\"\u001b[0m\u001b[0;34m:\u001b[0m \u001b[0;34m[\u001b[0m\u001b[0;34m]\u001b[0m\u001b[0;34m}\u001b[0m\u001b[0;34m\u001b[0m\u001b[0;34m\u001b[0m\u001b[0m\n\u001b[0;32m---> 56\u001b[0;31m     \u001b[0;32mfor\u001b[0m \u001b[0mfile\u001b[0m \u001b[0;32min\u001b[0m \u001b[0mos\u001b[0m\u001b[0;34m.\u001b[0m\u001b[0mlistdir\u001b[0m\u001b[0;34m(\u001b[0m\u001b[0mfolder_path\u001b[0m\u001b[0;34m)\u001b[0m\u001b[0;34m:\u001b[0m\u001b[0;34m\u001b[0m\u001b[0;34m\u001b[0m\u001b[0m\n\u001b[0m\u001b[1;32m     57\u001b[0m         \u001b[0;32mif\u001b[0m \u001b[0;32mnot\u001b[0m \u001b[0mos\u001b[0m\u001b[0;34m.\u001b[0m\u001b[0mpath\u001b[0m\u001b[0;34m.\u001b[0m\u001b[0misdir\u001b[0m\u001b[0;34m(\u001b[0m\u001b[0mos\u001b[0m\u001b[0;34m.\u001b[0m\u001b[0mpath\u001b[0m\u001b[0;34m.\u001b[0m\u001b[0mjoin\u001b[0m\u001b[0;34m(\u001b[0m\u001b[0mfolder_path\u001b[0m\u001b[0;34m,\u001b[0m \u001b[0mfile\u001b[0m\u001b[0;34m)\u001b[0m\u001b[0;34m)\u001b[0m \u001b[0;32mand\u001b[0m \u001b[0mfile\u001b[0m \u001b[0;34m!=\u001b[0m \u001b[0;34m\".DS_Store\"\u001b[0m\u001b[0;34m:\u001b[0m\u001b[0;34m\u001b[0m\u001b[0;34m\u001b[0m\u001b[0m\n\u001b[1;32m     58\u001b[0m             \u001b[0mcorpus_data\u001b[0m\u001b[0;34m[\u001b[0m\u001b[0;34m\"system\"\u001b[0m\u001b[0;34m]\u001b[0m\u001b[0;34m.\u001b[0m\u001b[0mappend\u001b[0m\u001b[0;34m(\u001b[0m\u001b[0;32mNone\u001b[0m\u001b[0;34m)\u001b[0m\u001b[0;34m\u001b[0m\u001b[0;34m\u001b[0m\u001b[0m\n",
      "\u001b[0;31mFileNotFoundError\u001b[0m: [Errno 2] No such file or directory: '../data_management/traceability_data/raw/SMOS_semeru_format/source_code'"
     ]
    }
   ],
   "source": [
    "#export\n",
    "# Retrieve the data\n",
    "path = \"../data_management/traceability_data/raw/SMOS_semeru_format/source_code\"\n",
    "corpus_df = java.simulate_getting_dataframes_from_mongo(path)\n",
    "total_file_count = len(corpus_df)\n",
    "print(\"Total files:\", total_file_count)"
   ]
  },
  {
   "cell_type": "code",
   "execution_count": null,
   "metadata": {},
   "outputs": [
    {
     "ename": "NameError",
     "evalue": "name 'corpus_df' is not defined",
     "output_type": "error",
     "traceback": [
      "\u001b[0;31m---------------------------------------------------------------------------\u001b[0m",
      "\u001b[0;31mNameError\u001b[0m                                 Traceback (most recent call last)",
      "\u001b[0;32m<ipython-input-39-bc5ec2f51f32>\u001b[0m in \u001b[0;36m<module>\u001b[0;34m\u001b[0m\n\u001b[1;32m      1\u001b[0m \u001b[0;31m#export\u001b[0m\u001b[0;34m\u001b[0m\u001b[0;34m\u001b[0m\u001b[0;34m\u001b[0m\u001b[0m\n\u001b[1;32m      2\u001b[0m \u001b[0;31m# Add the new metric columns to the corpus dataframe\u001b[0m\u001b[0;34m\u001b[0m\u001b[0;34m\u001b[0m\u001b[0;34m\u001b[0m\u001b[0m\n\u001b[0;32m----> 3\u001b[0;31m \u001b[0mcorpus_df\u001b[0m \u001b[0;34m=\u001b[0m \u001b[0mjava\u001b[0m\u001b[0;34m.\u001b[0m\u001b[0madd_mccabe_metrics\u001b[0m\u001b[0;34m(\u001b[0m\u001b[0mcorpus_df\u001b[0m\u001b[0;34m,\u001b[0m \u001b[0;34m'contents'\u001b[0m\u001b[0;34m,\u001b[0m \u001b[0;34m'name'\u001b[0m\u001b[0;34m)\u001b[0m\u001b[0;34m\u001b[0m\u001b[0;34m\u001b[0m\u001b[0m\n\u001b[0m\u001b[1;32m      4\u001b[0m \u001b[0mcorpus_df\u001b[0m \u001b[0;34m=\u001b[0m \u001b[0mjava\u001b[0m\u001b[0;34m.\u001b[0m\u001b[0madd_lcom5\u001b[0m\u001b[0;34m(\u001b[0m\u001b[0mcorpus_df\u001b[0m\u001b[0;34m,\u001b[0m \u001b[0;34m'contents'\u001b[0m\u001b[0;34m)\u001b[0m\u001b[0;34m\u001b[0m\u001b[0;34m\u001b[0m\u001b[0m\n\u001b[1;32m      5\u001b[0m \u001b[0mpd\u001b[0m\u001b[0;34m.\u001b[0m\u001b[0mset_option\u001b[0m\u001b[0;34m(\u001b[0m\u001b[0;34m'display.expand_frame_repr'\u001b[0m\u001b[0;34m,\u001b[0m \u001b[0;32mFalse\u001b[0m\u001b[0;34m)\u001b[0m\u001b[0;34m\u001b[0m\u001b[0;34m\u001b[0m\u001b[0m\n",
      "\u001b[0;31mNameError\u001b[0m: name 'corpus_df' is not defined"
     ]
    }
   ],
   "source": [
    "#export\n",
    "# Add the new metric columns to the corpus dataframe\n",
    "corpus_df = java.add_mccabe_metrics(corpus_df, 'contents', 'name')\n",
    "corpus_df = java.add_lcom5(corpus_df, 'contents')\n",
    "pd.set_option('display.expand_frame_repr', False)\n",
    "corpus_df.head(15)"
   ]
  },
  {
   "cell_type": "code",
   "execution_count": null,
   "metadata": {},
   "outputs": [
    {
     "ename": "NameError",
     "evalue": "name 'display_numeric_col_hist' is not defined",
     "output_type": "error",
     "traceback": [
      "\u001b[0;31m---------------------------------------------------------------------------\u001b[0m",
      "\u001b[0;31mNameError\u001b[0m                                 Traceback (most recent call last)",
      "\u001b[0;32m<ipython-input-12-a5bb1c98094a>\u001b[0m in \u001b[0;36m<module>\u001b[0;34m\u001b[0m\n\u001b[1;32m      1\u001b[0m \u001b[0;31m# Print statistical information about the number of functions per class\u001b[0m\u001b[0;34m\u001b[0m\u001b[0;34m\u001b[0m\u001b[0;34m\u001b[0m\u001b[0m\n\u001b[0;32m----> 2\u001b[0;31m \u001b[0mdisplay_numeric_col_hist\u001b[0m\u001b[0;34m(\u001b[0m\u001b[0mflatten_lol\u001b[0m\u001b[0;34m(\u001b[0m\u001b[0mcorpus_df\u001b[0m\u001b[0;34m[\u001b[0m\u001b[0;34m'num_funcs'\u001b[0m\u001b[0;34m]\u001b[0m\u001b[0;34m)\u001b[0m\u001b[0;34m,\u001b[0m \u001b[0;34m\"Class Number of Methods\"\u001b[0m\u001b[0;34m)\u001b[0m\u001b[0;34m\u001b[0m\u001b[0;34m\u001b[0m\u001b[0m\n\u001b[0m\u001b[1;32m      3\u001b[0m \u001b[0mdisplay_numeric_col_stats\u001b[0m\u001b[0;34m(\u001b[0m\u001b[0mflatten_lol\u001b[0m\u001b[0;34m(\u001b[0m\u001b[0mcorpus_df\u001b[0m\u001b[0;34m[\u001b[0m\u001b[0;34m'num_funcs'\u001b[0m\u001b[0;34m]\u001b[0m\u001b[0;34m)\u001b[0m\u001b[0;34m)\u001b[0m\u001b[0;34m\u001b[0m\u001b[0;34m\u001b[0m\u001b[0m\n",
      "\u001b[0;31mNameError\u001b[0m: name 'display_numeric_col_hist' is not defined"
     ]
    }
   ],
   "source": [
    "#export\n",
    "# Print statistical information about the number of functions per class\n",
    "java.display_numeric_col_hist(flatten_lol(corpus_df['num_funcs']), \"Class Number of Methods\")\n",
    "java.display_numeric_col_stats(flatten_lol(corpus_df['num_funcs']))"
   ]
  },
  {
   "cell_type": "code",
   "execution_count": null,
   "metadata": {},
   "outputs": [
    {
     "ename": "NameError",
     "evalue": "name 'display_numeric_col_hist' is not defined",
     "output_type": "error",
     "traceback": [
      "\u001b[0;31m---------------------------------------------------------------------------\u001b[0m",
      "\u001b[0;31mNameError\u001b[0m                                 Traceback (most recent call last)",
      "\u001b[0;32m<ipython-input-13-ff9897e0dde1>\u001b[0m in \u001b[0;36m<module>\u001b[0;34m\u001b[0m\n\u001b[1;32m      1\u001b[0m \u001b[0;31m# Print statistical information about the cyclomatic complexity per class\u001b[0m\u001b[0;34m\u001b[0m\u001b[0;34m\u001b[0m\u001b[0;34m\u001b[0m\u001b[0m\n\u001b[0;32m----> 2\u001b[0;31m \u001b[0mdisplay_numeric_col_hist\u001b[0m\u001b[0;34m(\u001b[0m\u001b[0mflatten_lol\u001b[0m\u001b[0;34m(\u001b[0m\u001b[0mcorpus_df\u001b[0m\u001b[0;34m[\u001b[0m\u001b[0;34m'class_ccn'\u001b[0m\u001b[0;34m]\u001b[0m\u001b[0;34m)\u001b[0m\u001b[0;34m,\u001b[0m \u001b[0;34m\"Class Cyclomatic Complexity\"\u001b[0m\u001b[0;34m)\u001b[0m\u001b[0;34m\u001b[0m\u001b[0;34m\u001b[0m\u001b[0m\n\u001b[0m\u001b[1;32m      3\u001b[0m \u001b[0mdisplay_numeric_col_stats\u001b[0m\u001b[0;34m(\u001b[0m\u001b[0mflatten_lol\u001b[0m\u001b[0;34m(\u001b[0m\u001b[0mcorpus_df\u001b[0m\u001b[0;34m[\u001b[0m\u001b[0;34m'class_ccn'\u001b[0m\u001b[0;34m]\u001b[0m\u001b[0;34m)\u001b[0m\u001b[0;34m)\u001b[0m\u001b[0;34m\u001b[0m\u001b[0;34m\u001b[0m\u001b[0m\n",
      "\u001b[0;31mNameError\u001b[0m: name 'display_numeric_col_hist' is not defined"
     ]
    }
   ],
   "source": [
    "#export\n",
    "# Print statistical information about the cyclomatic complexity per class\n",
    "java.display_numeric_col_hist(flatten_lol(corpus_df['class_ccn']), \"Class Cyclomatic Complexity\")\n",
    "java.display_numeric_col_stats(flatten_lol(corpus_df['class_ccn']))"
   ]
  },
  {
   "cell_type": "code",
   "execution_count": null,
   "metadata": {},
   "outputs": [
    {
     "ename": "NameError",
     "evalue": "name 'display_numeric_col_hist' is not defined",
     "output_type": "error",
     "traceback": [
      "\u001b[0;31m---------------------------------------------------------------------------\u001b[0m",
      "\u001b[0;31mNameError\u001b[0m                                 Traceback (most recent call last)",
      "\u001b[0;32m<ipython-input-14-5149e1350663>\u001b[0m in \u001b[0;36m<module>\u001b[0;34m\u001b[0m\n\u001b[1;32m      1\u001b[0m \u001b[0;31m# Print statistical information about the average cyclomatic complexity of functions in each class\u001b[0m\u001b[0;34m\u001b[0m\u001b[0;34m\u001b[0m\u001b[0;34m\u001b[0m\u001b[0m\n\u001b[0;32m----> 2\u001b[0;31m \u001b[0mdisplay_numeric_col_hist\u001b[0m\u001b[0;34m(\u001b[0m\u001b[0mflatten_lol\u001b[0m\u001b[0;34m(\u001b[0m\u001b[0mcorpus_df\u001b[0m\u001b[0;34m[\u001b[0m\u001b[0;34m'avg_func_ccn'\u001b[0m\u001b[0;34m]\u001b[0m\u001b[0;34m)\u001b[0m\u001b[0;34m,\u001b[0m \u001b[0;34m\"Avg Method Cyclomatic Complexity\"\u001b[0m\u001b[0;34m)\u001b[0m\u001b[0;34m\u001b[0m\u001b[0;34m\u001b[0m\u001b[0m\n\u001b[0m\u001b[1;32m      3\u001b[0m \u001b[0mdisplay_numeric_col_stats\u001b[0m\u001b[0;34m(\u001b[0m\u001b[0mflatten_lol\u001b[0m\u001b[0;34m(\u001b[0m\u001b[0mcorpus_df\u001b[0m\u001b[0;34m[\u001b[0m\u001b[0;34m'avg_func_ccn'\u001b[0m\u001b[0;34m]\u001b[0m\u001b[0;34m)\u001b[0m\u001b[0;34m)\u001b[0m\u001b[0;34m\u001b[0m\u001b[0;34m\u001b[0m\u001b[0m\n",
      "\u001b[0;31mNameError\u001b[0m: name 'display_numeric_col_hist' is not defined"
     ]
    }
   ],
   "source": [
    "#export\n",
    "# Print statistical information about the average cyclomatic complexity of functions in each class\n",
    "java.display_numeric_col_hist(flatten_lol(corpus_df['avg_func_ccn']), \"Avg Method Cyclomatic Complexity\")\n",
    "java.display_numeric_col_stats(flatten_lol(corpus_df['avg_func_ccn']))"
   ]
  },
  {
   "cell_type": "code",
   "execution_count": null,
   "metadata": {},
   "outputs": [
    {
     "ename": "NameError",
     "evalue": "name 'display_numeric_col_hist' is not defined",
     "output_type": "error",
     "traceback": [
      "\u001b[0;31m---------------------------------------------------------------------------\u001b[0m",
      "\u001b[0;31mNameError\u001b[0m                                 Traceback (most recent call last)",
      "\u001b[0;32m<ipython-input-15-ef0aa2467762>\u001b[0m in \u001b[0;36m<module>\u001b[0;34m\u001b[0m\n\u001b[1;32m      1\u001b[0m \u001b[0;31m# Print statistical information about the average number of lines of code for functions in each class\u001b[0m\u001b[0;34m\u001b[0m\u001b[0;34m\u001b[0m\u001b[0;34m\u001b[0m\u001b[0m\n\u001b[0;32m----> 2\u001b[0;31m \u001b[0mdisplay_numeric_col_hist\u001b[0m\u001b[0;34m(\u001b[0m\u001b[0mflatten_lol\u001b[0m\u001b[0;34m(\u001b[0m\u001b[0mcorpus_df\u001b[0m\u001b[0;34m[\u001b[0m\u001b[0;34m'avg_func_nloc'\u001b[0m\u001b[0;34m]\u001b[0m\u001b[0;34m)\u001b[0m\u001b[0;34m,\u001b[0m \u001b[0;34m\"Average Method Lines of Code\"\u001b[0m\u001b[0;34m)\u001b[0m\u001b[0;34m\u001b[0m\u001b[0;34m\u001b[0m\u001b[0m\n\u001b[0m\u001b[1;32m      3\u001b[0m \u001b[0mdisplay_numeric_col_stats\u001b[0m\u001b[0;34m(\u001b[0m\u001b[0mflatten_lol\u001b[0m\u001b[0;34m(\u001b[0m\u001b[0mcorpus_df\u001b[0m\u001b[0;34m[\u001b[0m\u001b[0;34m'avg_func_nloc'\u001b[0m\u001b[0;34m]\u001b[0m\u001b[0;34m)\u001b[0m\u001b[0;34m)\u001b[0m\u001b[0;34m\u001b[0m\u001b[0;34m\u001b[0m\u001b[0m\n",
      "\u001b[0;31mNameError\u001b[0m: name 'display_numeric_col_hist' is not defined"
     ]
    }
   ],
   "source": [
    "#export\n",
    "# Print statistical information about the average number of lines of code for functions in each class\n",
    "java.display_numeric_col_hist(flatten_lol(corpus_df['avg_func_nloc']), \"Average Method Lines of Code\")\n",
    "java.display_numeric_col_stats(flatten_lol(corpus_df['avg_func_nloc']))"
   ]
  },
  {
   "cell_type": "code",
   "execution_count": null,
   "metadata": {},
   "outputs": [
    {
     "ename": "NameError",
     "evalue": "name 'display_numeric_col_hist' is not defined",
     "output_type": "error",
     "traceback": [
      "\u001b[0;31m---------------------------------------------------------------------------\u001b[0m",
      "\u001b[0;31mNameError\u001b[0m                                 Traceback (most recent call last)",
      "\u001b[0;32m<ipython-input-16-e7c015f1620f>\u001b[0m in \u001b[0;36m<module>\u001b[0;34m\u001b[0m\n\u001b[1;32m      1\u001b[0m \u001b[0;31m# Print statistical information about the LCOM5 of each class\u001b[0m\u001b[0;34m\u001b[0m\u001b[0;34m\u001b[0m\u001b[0;34m\u001b[0m\u001b[0m\n\u001b[0;32m----> 2\u001b[0;31m \u001b[0mdisplay_numeric_col_hist\u001b[0m\u001b[0;34m(\u001b[0m\u001b[0mflatten_lol\u001b[0m\u001b[0;34m(\u001b[0m\u001b[0mcorpus_df\u001b[0m\u001b[0;34m[\u001b[0m\u001b[0;34m'class_lcom5'\u001b[0m\u001b[0;34m]\u001b[0m\u001b[0;34m)\u001b[0m\u001b[0;34m,\u001b[0m \u001b[0;34m\"Class LCOM5\"\u001b[0m\u001b[0;34m)\u001b[0m\u001b[0;34m\u001b[0m\u001b[0;34m\u001b[0m\u001b[0m\n\u001b[0m\u001b[1;32m      3\u001b[0m \u001b[0mdisplay_numeric_col_stats\u001b[0m\u001b[0;34m(\u001b[0m\u001b[0mflatten_lol\u001b[0m\u001b[0;34m(\u001b[0m\u001b[0mcorpus_df\u001b[0m\u001b[0;34m[\u001b[0m\u001b[0;34m'class_lcom5'\u001b[0m\u001b[0;34m]\u001b[0m\u001b[0;34m)\u001b[0m\u001b[0;34m)\u001b[0m\u001b[0;34m\u001b[0m\u001b[0;34m\u001b[0m\u001b[0m\n",
      "\u001b[0;31mNameError\u001b[0m: name 'display_numeric_col_hist' is not defined"
     ]
    }
   ],
   "source": [
    "#export\n",
    "# Print statistical information about the LCOM5 of each class\n",
    "java.display_numeric_col_hist(flatten_lol(corpus_df['class_lcom5']), \"Class LCOM5\")\n",
    "java.display_numeric_col_stats(flatten_lol(corpus_df['class_lcom5']))"
   ]
  },
  {
   "cell_type": "code",
   "execution_count": null,
   "metadata": {},
   "outputs": [],
   "source": []
  }
 ],
 "metadata": {
  "kernelspec": {
   "display_name": "Python 3",
   "language": "python",
   "name": "python3"
  }
 },
 "nbformat": 4,
 "nbformat_minor": 4
}
