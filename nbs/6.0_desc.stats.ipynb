{
 "cells": [
  {
   "cell_type": "code",
   "execution_count": null,
   "metadata": {},
   "outputs": [],
   "source": [
    "# default_exp desc.stats"
   ]
  },
  {
   "cell_type": "markdown",
   "metadata": {},
   "source": [
    "# Exploration Statistics\n",
    "\n",
    "> This module comprises all the functions for calculating descriptive statistics."
   ]
  },
  {
   "cell_type": "code",
   "execution_count": null,
   "metadata": {},
   "outputs": [],
   "source": [
    "# hide\n",
    "\n",
    "#once something has been installed I think it would be good form to comment it out before you commit and push. Just in case\n",
    "#!pip install dit\n",
    "#!pip install sentencepiece"
   ]
  },
  {
   "cell_type": "code",
   "execution_count": null,
   "metadata": {},
   "outputs": [],
   "source": [
    "# export\n",
    "# Imports\n",
    "from scipy.stats import sem, t, median_abs_deviation as mad\n",
    "from statistics import mean, median, stdev\n",
    "import math"
   ]
  },
  {
   "cell_type": "code",
   "execution_count": null,
   "metadata": {},
   "outputs": [],
   "source": [
    "# hide\n",
    "\n",
    "from nbdev.showdoc import *\n",
    "from ds4se.desc.stats import *"
   ]
  },
  {
   "cell_type": "code",
   "execution_count": null,
   "metadata": {},
   "outputs": [],
   "source": [
    "# hide\n",
    "\n",
    "#Testing List\n",
    "l = [1, 2, 4, 8, 7, 10]"
   ]
  },
  {
   "cell_type": "markdown",
   "metadata": {},
   "source": [
    "# Get_desc_stats & test"
   ]
  },
  {
   "cell_type": "code",
   "execution_count": null,
   "metadata": {},
   "outputs": [],
   "source": [
    "#export\n",
    "def get_desc_stats(l):\n",
    "    return max(l), min(l), mean(l), median(l), stdev(l), mad(l)"
   ]
  },
  {
   "cell_type": "code",
   "execution_count": null,
   "metadata": {},
   "outputs": [],
   "source": [
    "#TestStats\n",
    "\n",
    "#Here we test get desc stats\n",
    "testGDS = get_desc_stats(l)\n",
    "\n",
    "#Expected results\n",
    "#max = 10\n",
    "#min = 1\n",
    "#mean = 5.33\n",
    "#median = 5.5?\n",
    "#std = 3.559?\n",
    "#MAD = 4.44708?\n",
    "\n",
    "assert(testGDS[0] == 10)\n",
    "assert(testGDS[1] == 1)\n",
    "assert(round(testGDS[2],2) == 5.33)\n",
    "assert(round(testGDS[3],2) == 5.5)\n",
    "assert(round(testGDS[4],2) == 3.56)\n",
    "assert(round(testGDS[5],2) == 3)"
   ]
  },
  {
   "cell_type": "markdown",
   "metadata": {},
   "source": [
    "# Confidence_interval & test"
   ]
  },
  {
   "cell_type": "code",
   "execution_count": null,
   "metadata": {},
   "outputs": [],
   "source": [
    "#export\n",
    "def confidence_interval(l, c = 0.95):\n",
    "    n = len(l)\n",
    "    m = mean(l)\n",
    "    std_err = sem(l)\n",
    "    h = std_err * t.ppf((1 + c) / 2, n - 1)\n",
    "\n",
    "    start = m - h\n",
    "    end = m + h\n",
    "    \n",
    "    return start, end"
   ]
  },
  {
   "cell_type": "code",
   "execution_count": null,
   "metadata": {},
   "outputs": [],
   "source": [
    "#TestStats\n",
    "\n",
    "#Test confidence Interval\n",
    "testCI = confidence_interval(l)\n",
    "\n",
    "assert(testCI[0] == 1.598364516031722)"
   ]
  },
  {
   "cell_type": "markdown",
   "metadata": {},
   "source": [
    "# Report_stats & test"
   ]
  },
  {
   "cell_type": "code",
   "execution_count": null,
   "metadata": {},
   "outputs": [],
   "source": [
    "#export\n",
    "def report_stats(l, c = 0.95):\n",
    "    mini, maxi, μ, med, σ, med_σ = get_desc_stats(l)\n",
    "    print(\"Max:\", mini)\n",
    "    print(\"Min:\", maxi)\n",
    "    print(\"Average:\", μ)\n",
    "    print(\"Median:\", med)\n",
    "    print(\"Standard Deviation:\", σ)\n",
    "    print(\"Median Absolute Deviation:\", med_σ)\n",
    "\n",
    "    start, end = confidence_interval(l, c = 0.95)\n",
    "    print(f\"{int(c * 100)}% of the data fall within {start} and {end}\")"
   ]
  },
  {
   "cell_type": "code",
   "execution_count": null,
   "metadata": {},
   "outputs": [
    {
     "name": "stdout",
     "output_type": "stream",
     "text": [
      "Max: 10\n",
      "Min: 1\n",
      "Average: 5.333333333333333\n",
      "Median: 5.5\n",
      "Standard Deviation: 3.559026084010437\n",
      "Median Absolute Deviation: 3.0\n",
      "95% of the data fall within 1.598364516031722 and 9.068302150634944\n"
     ]
    }
   ],
   "source": [
    "#hide\n",
    "\n",
    "report_stats(l)"
   ]
  },
  {
   "cell_type": "code",
   "execution_count": null,
   "metadata": {},
   "outputs": [
    {
     "name": "stdout",
     "output_type": "stream",
     "text": [
      "Converted 00_data.preprocessing.ipynb.\n",
      "Converted 01_data.exploratory.information.ipynb.\n",
      "Converted 01_data.exploratory.ipynb.\n",
      "Converted 02_data.management.ipynb.\n",
      "Converted 03_data.representation.ipynb.\n",
      "Converted 04_templates.example.ipynb.\n",
      "Converted 05_blog.example.ipynb.\n",
      "Converted 06_benchmark.traceability.ipynb.\n",
      "Converted 07_model.train.ipynb.\n",
      "Converted 08_data.exploratory.information.ipynb.\n",
      "Converted 09_data.exploratory.stats.ipynb.\n",
      "Converted 10_data.exploratory.visualize.ipynb.\n",
      "Converted index.ipynb.\n"
     ]
    }
   ],
   "source": [
    "# hide\n",
    "\n",
    "from nbdev.export import notebook2script\n",
    "notebook2script()"
   ]
  },
  {
   "cell_type": "code",
   "execution_count": null,
   "metadata": {},
   "outputs": [],
   "source": []
  },
  {
   "cell_type": "code",
   "execution_count": null,
   "metadata": {},
   "outputs": [],
   "source": [
    "\n"
   ]
  },
  {
   "cell_type": "code",
   "execution_count": null,
   "metadata": {},
   "outputs": [],
   "source": []
  }
 ],
 "metadata": {
  "kernelspec": {
   "display_name": "Python 3",
   "language": "python",
   "name": "python3"
  }
 },
 "nbformat": 4,
 "nbformat_minor": 1
}
