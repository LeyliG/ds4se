{
 "cells": [
  {
   "cell_type": "code",
   "execution_count": 1,
   "metadata": {},
   "outputs": [],
   "source": [
    "# default_exp desc.stats"
   ]
  },
  {
   "cell_type": "markdown",
   "metadata": {},
   "source": [
    "# Exploration Statistics\n",
    "\n",
    "> This module comprises all the functions for calculating descriptive statistics."
   ]
  },
  {
   "cell_type": "code",
   "execution_count": 18,
   "metadata": {},
   "outputs": [],
   "source": [
    "# export\n",
    "# Imports\n",
    "from scipy.stats import sem, t, median_abs_deviation as mad\n",
    "from statistics import mean, median, stdev\n",
    "import math"
   ]
  },
  {
   "cell_type": "code",
   "execution_count": 19,
   "metadata": {},
   "outputs": [],
   "source": [
    "#hide\n",
    "from nbdev.showdoc import *"
   ]
  },
  {
   "cell_type": "code",
   "execution_count": 20,
   "metadata": {},
   "outputs": [],
   "source": [
    "#Testing List\n",
    "l = [1, 2, 4, 8, 7, 10]"
   ]
  },
  {
   "cell_type": "markdown",
   "metadata": {},
   "source": [
    "# Get_desc_stats & test"
   ]
  },
  {
   "cell_type": "code",
   "execution_count": 21,
   "metadata": {},
   "outputs": [],
   "source": [
    "#export\n",
    "def get_desc_stats(l):\n",
    "    return max(l), min(l), mean(l), median(l), stdev(l), mad(l)"
   ]
  },
  {
   "cell_type": "code",
   "execution_count": 30,
   "metadata": {},
   "outputs": [],
   "source": [
    "#Here we test get desc stats\n",
    "testGDS = get_desc_stats(l)\n",
    "\n",
    "#Expected results\n",
    "#max = 10\n",
    "#min = 1\n",
    "#mean = 5.33\n",
    "#median = 5.5?\n",
    "#std = 3.559?\n",
    "#MAD = 4.44708?\n",
    "\n",
    "assert(testGDS[0] == 10)\n",
    "assert(testGDS[1] == 1)\n",
    "assert(round(testGDS[2],2) == 5.33)\n",
    "assert(round(testGDS[3],2) == 5.5)\n",
    "assert(round(testGDS[4],2) == 3.56)\n",
    "assert(round(testGDS[5],2) == 3)"
   ]
  },
  {
   "cell_type": "markdown",
   "metadata": {},
   "source": [
    "# Confidence_interval & test"
   ]
  },
  {
   "cell_type": "code",
   "execution_count": 31,
   "metadata": {},
   "outputs": [],
   "source": [
    "#export\n",
    "def confidence_interval(l, c = 0.95):\n",
    "    n = len(l)\n",
    "    m = mean(l)\n",
    "    std_err = sem(l)\n",
    "    h = std_err * t.ppf((1 + c) / 2, n - 1)\n",
    "\n",
    "    start = m - h\n",
    "    end = m + h\n",
    "    \n",
    "    return start, end"
   ]
  },
  {
   "cell_type": "code",
   "execution_count": 32,
   "metadata": {},
   "outputs": [],
   "source": [
    "#TestStats\n",
    "#Test confidence Interval\n",
    "testCI = confidence_interval(l)\n",
    "\n",
    "assert(testCI[0] == 1.598364516031722)"
   ]
  },
  {
   "cell_type": "markdown",
   "metadata": {},
   "source": [
    "# Report_stats & test"
   ]
  },
  {
   "cell_type": "code",
   "execution_count": 33,
   "metadata": {},
   "outputs": [],
   "source": [
    "#export\n",
    "def report_stats(l, c = 0.95):\n",
    "    mini, maxi, μ, med, σ, med_σ = get_desc_stats(l)\n",
    "    print(\"Max:\", mini)\n",
    "    print(\"Min:\", maxi)\n",
    "    print(\"Average:\", μ)\n",
    "    print(\"Median:\", med)\n",
    "    print(\"Standard Deviation:\", σ)\n",
    "    print(\"Median Absolute Deviation:\", med_σ)\n",
    "\n",
    "    start, end = confidence_interval(l, c = 0.95)\n",
    "    print(f\"{int(c * 100)}% of the data fall within {start} and {end}\")"
   ]
  },
  {
   "cell_type": "code",
   "execution_count": 34,
   "metadata": {},
   "outputs": [
    {
     "name": "stdout",
     "output_type": "stream",
     "text": [
      "Max: 10\n",
      "Min: 1\n",
      "Average: 5.333333333333333\n",
      "Median: 5.5\n",
      "Standard Deviation: 3.559026084010437\n",
      "Median Absolute Deviation: 3.0\n",
      "95% of the data fall within 1.598364516031722 and 9.068302150634944\n"
     ]
    }
   ],
   "source": [
    "report_stats(l)"
   ]
  },
  {
   "cell_type": "code",
   "execution_count": null,
   "metadata": {},
   "outputs": [],
   "source": []
  }
 ],
 "metadata": {
  "kernelspec": {
   "display_name": "Python 3",
   "language": "python",
   "name": "python3"
  },
  "language_info": {
   "codemirror_mode": {
    "name": "ipython",
    "version": 3
   },
   "file_extension": ".py",
   "mimetype": "text/x-python",
   "name": "python",
   "nbconvert_exporter": "python",
   "pygments_lexer": "ipython3",
   "version": "3.8.3"
  }
 },
 "nbformat": 4,
 "nbformat_minor": 1
}
