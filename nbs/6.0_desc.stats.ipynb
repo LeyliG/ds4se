{
 "cells": [
  {
   "cell_type": "code",
   "execution_count": null,
   "metadata": {},
   "outputs": [],
   "source": [
    "# default_exp desc.stats"
   ]
  },
  {
   "cell_type": "markdown",
   "metadata": {},
   "source": [
    "# Exploration Statistics\n",
    "\n",
    "> This module comprises all the functions for calculating descriptive statistics."
   ]
  },
  {
   "cell_type": "code",
   "execution_count": null,
   "metadata": {},
   "outputs": [],
   "source": [
    "# export\n",
    "# Imports\n",
    "from scipy.stats import sem, t, median_absolute_deviation as mad\n",
    "from statistics import mean, median, stdev"
   ]
  },
  {
   "cell_type": "code",
   "execution_count": null,
   "metadata": {},
   "outputs": [],
   "source": [
    "#hide\n",
    "from nbdev.showdoc import *"
   ]
  },
  {
   "cell_type": "code",
   "execution_count": null,
   "metadata": {},
   "outputs": [],
   "source": [
    "#export\n",
    "def get_desc_stats(l):\n",
    "    return max(l), min(l), mean(l), median(l), stdev(l), mad(l)"
   ]
  },
  {
   "cell_type": "code",
   "execution_count": null,
   "metadata": {},
   "outputs": [],
   "source": [
    "#export\n",
    "def confidence_interval(l, c = 0.95):\n",
    "    n = len(l)\n",
    "    m = mean(l)\n",
    "    std_err = sem(l)\n",
    "    h = std_err * t.ppf((1 + c) / 2, n - 1)\n",
    "\n",
    "    start = m - h\n",
    "    end = m + h\n",
    "    \n",
    "    return start, end"
   ]
  },
  {
   "cell_type": "code",
   "execution_count": null,
   "metadata": {},
   "outputs": [],
   "source": [
    "#export\n",
    "def report_stats(l, c = 0.95):\n",
    "    mini, maxi, μ, med, σ, med_σ = get_desc_stats(l)\n",
    "    print(\"Max:\", mini)\n",
    "    print(\"Min:\", maxi)\n",
    "    print(\"Average:\", μ)\n",
    "    print(\"Median:\", med)\n",
    "    print(\"Standard Deviation:\", σ)\n",
    "    print(\"Median Absolute Deviation:\", med_σ)\n",
    "\n",
    "    start, end = confidence_interval(l, c = 0.95)\n",
    "    print(f\"{int(c * 100)}% of the data fall within {start} and {end}\")"
   ]
  },
  {
   "cell_type": "code",
   "execution_count": null,
   "metadata": {},
   "outputs": [],
   "source": []
  }
 ],
 "metadata": {
  "kernelspec": {
   "display_name": "Python 3",
   "language": "python",
   "name": "python3"
  }
 },
 "nbformat": 4,
 "nbformat_minor": 1
}
