{
 "cells": [
  {
   "cell_type": "code",
   "execution_count": null,
   "metadata": {},
   "outputs": [],
   "source": [
    "# default_exp exp.csnc.java"
   ]
  },
  {
   "cell_type": "markdown",
   "metadata": {},
   "source": [
    "# Data exploration (taken from CodeSearchNet challenge)"
   ]
  },
  {
   "cell_type": "code",
   "execution_count": null,
   "metadata": {},
   "outputs": [],
   "source": [
    "import json\n",
    "\n",
    "import pandas as pd\n",
    "from pathlib import Path\n",
    "pd.set_option('max_colwidth',300)\n",
    "from pprint import pprint\n",
    "import re"
   ]
  },
  {
   "cell_type": "markdown",
   "metadata": {},
   "source": [
    "## Preview dataset"
   ]
  },
  {
   "cell_type": "markdown",
   "metadata": {},
   "source": [
    "Download specific java dataset"
   ]
  },
  {
   "cell_type": "code",
   "execution_count": null,
   "metadata": {},
   "outputs": [
    {
     "name": "stdout",
     "output_type": "stream",
     "text": [
      "--2020-05-24 21:32:35--  https://s3.amazonaws.com/code-search-net/CodeSearchNet/v2/java.zip\n",
      "Resolving s3.amazonaws.com (s3.amazonaws.com)... 52.216.79.38\n",
      "Connecting to s3.amazonaws.com (s3.amazonaws.com)|52.216.79.38|:443... connected.\n",
      "HTTP request sent, awaiting response... 200 OK\n",
      "Length: 1060569153 (1011M) [application/zip]\n",
      "Saving to: ‘java.zip’\n",
      "\n",
      "java.zip            100%[===================>]   1011M  11.3MB/s    in 92s     \n",
      "\n",
      "2020-05-24 21:34:08 (11.0 MB/s) - ‘java.zip’ saved [1060569153/1060569153]\n",
      "\n"
     ]
    }
   ],
   "source": [
    "!wget https://s3.amazonaws.com/code-search-net/CodeSearchNet/v2/java.zip"
   ]
  },
  {
   "cell_type": "code",
   "execution_count": null,
   "metadata": {},
   "outputs": [
    {
     "name": "stdout",
     "output_type": "stream",
     "text": [
      "Archive:  java.zip\n",
      "   creating: java/\n",
      "   creating: java/final/\n",
      "   creating: java/final/jsonl/\n",
      "   creating: java/final/jsonl/train/\n",
      "  inflating: java/final/jsonl/train/java_train_12.jsonl.gz  \n",
      "  inflating: java/final/jsonl/train/java_train_9.jsonl.gz  \n",
      "  inflating: java/final/jsonl/train/java_train_3.jsonl.gz  \n",
      "  inflating: java/final/jsonl/train/java_train_5.jsonl.gz  \n",
      "  inflating: java/final/jsonl/train/java_train_7.jsonl.gz  \n",
      "  inflating: java/final/jsonl/train/java_train_1.jsonl.gz  \n",
      "  inflating: java/final/jsonl/train/java_train_10.jsonl.gz  \n",
      "  inflating: java/final/jsonl/train/java_train_14.jsonl.gz  \n",
      "  inflating: java/final/jsonl/train/java_train_0.jsonl.gz  \n",
      "  inflating: java/final/jsonl/train/java_train_6.jsonl.gz  \n",
      "  inflating: java/final/jsonl/train/java_train_8.jsonl.gz  \n",
      "  inflating: java/final/jsonl/train/java_train_15.jsonl.gz  \n",
      "  inflating: java/final/jsonl/train/java_train_2.jsonl.gz  \n",
      "  inflating: java/final/jsonl/train/java_train_4.jsonl.gz  \n",
      "  inflating: java/final/jsonl/train/java_train_13.jsonl.gz  \n",
      "  inflating: java/final/jsonl/train/java_train_11.jsonl.gz  \n",
      "   creating: java/final/jsonl/test/\n",
      "  inflating: java/final/jsonl/test/java_test_0.jsonl.gz  \n",
      "   creating: java/final/jsonl/valid/\n",
      "  inflating: java/final/jsonl/valid/java_valid_0.jsonl.gz  \n",
      "  inflating: java_dedupe_definitions_v2.pkl  \n",
      "  inflating: java_licenses.pkl       \n"
     ]
    }
   ],
   "source": [
    "!unzip java.zip"
   ]
  },
  {
   "cell_type": "code",
   "execution_count": null,
   "metadata": {},
   "outputs": [],
   "source": [
    "!gzip -d java/final/jsonl/test/java_test_0.jsonl.gz"
   ]
  },
  {
   "cell_type": "code",
   "execution_count": null,
   "metadata": {},
   "outputs": [
    {
     "data": {
      "text/plain": [
       "'{\"repo\": \"ReactiveX/RxJava\", \"path\": \"src/main/java/io/reactivex/internal/observers/QueueDrainObserver.java\", \"func_name\": \"QueueDrainObserver.fastPathOrderedEmit\", \"original_string\": \"protected final void fastPathOrderedEmit(U value, boolean delayError, Disposable disposable) {\\\\n        final Observer<? super V> observer = downstream;\\\\n        final SimplePlainQueue<U> q = queue;\\\\n\\\\n        if (wip.get() == 0 && wip.compareAndSet(0, 1)) {\\\\n            if (q.isEmpty()) {\\\\n                accept(observer, value);\\\\n                if (leave(-1) == 0) {\\\\n                    return;\\\\n                }\\\\n            } else {\\\\n                q.offer(value);\\\\n            }\\\\n        } else {\\\\n            q.offer(value);\\\\n            if (!enter()) {\\\\n                return;\\\\n            }\\\\n        }\\\\n        QueueDrainHelper.drainLoop(q, observer, delayError, disposable, this);\\\\n    }\", \"language\": \"java\", \"code\": \"protected final void fastPathOrderedEmit(U value, boolean delayError, Disposable disposable) {\\\\n        final Observer<? super V> observer = downstream;\\\\n        final SimplePlainQueue<U> q = queue;\\\\n\\\\n        if (wip.get() == 0 && wip.compareAndSet(0, 1)) {\\\\n            if (q.isEmpty()) {\\\\n                accept(observer, value);\\\\n                if (leave(-1) == 0) {\\\\n                    return;\\\\n                }\\\\n            } else {\\\\n                q.offer(value);\\\\n            }\\\\n        } else {\\\\n            q.offer(value);\\\\n            if (!enter()) {\\\\n                return;\\\\n            }\\\\n        }\\\\n        QueueDrainHelper.drainLoop(q, observer, delayError, disposable, this);\\\\n    }\", \"code_tokens\": [\"protected\", \"final\", \"void\", \"fastPathOrderedEmit\", \"(\", \"U\", \"value\", \",\", \"boolean\", \"delayError\", \",\", \"Disposable\", \"disposable\", \")\", \"{\", \"final\", \"Observer\", \"<\", \"?\", \"super\", \"V\", \">\", \"observer\", \"=\", \"downstream\", \";\", \"final\", \"SimplePlainQueue\", \"<\", \"U\", \">\", \"q\", \"=\", \"queue\", \";\", \"if\", \"(\", \"wip\", \".\", \"get\", \"(\", \")\", \"==\", \"0\", \"&&\", \"wip\", \".\", \"compareAndSet\", \"(\", \"0\", \",\", \"1\", \")\", \")\", \"{\", \"if\", \"(\", \"q\", \".\", \"isEmpty\", \"(\", \")\", \")\", \"{\", \"accept\", \"(\", \"observer\", \",\", \"value\", \")\", \";\", \"if\", \"(\", \"leave\", \"(\", \"-\", \"1\", \")\", \"==\", \"0\", \")\", \"{\", \"return\", \";\", \"}\", \"}\", \"else\", \"{\", \"q\", \".\", \"offer\", \"(\", \"value\", \")\", \";\", \"}\", \"}\", \"else\", \"{\", \"q\", \".\", \"offer\", \"(\", \"value\", \")\", \";\", \"if\", \"(\", \"!\", \"enter\", \"(\", \")\", \")\", \"{\", \"return\", \";\", \"}\", \"}\", \"QueueDrainHelper\", \".\", \"drainLoop\", \"(\", \"q\", \",\", \"observer\", \",\", \"delayError\", \",\", \"disposable\", \",\", \"this\", \")\", \";\", \"}\"], \"docstring\": \"Makes sure the fast-path emits in order.\\\\n@param value the value to emit or queue up\\\\n@param delayError if true, errors are delayed until the source has terminated\\\\n@param disposable the resource to dispose if the drain terminates\", \"docstring_tokens\": [\"Makes\", \"sure\", \"the\", \"fast\", \"-\", \"path\", \"emits\", \"in\", \"order\", \".\"], \"sha\": \"ac84182aa2bd866b53e01c8e3fe99683b882c60e\", \"url\": \"https://github.com/ReactiveX/RxJava/blob/ac84182aa2bd866b53e01c8e3fe99683b882c60e/src/main/java/io/reactivex/internal/observers/QueueDrainObserver.java#L88-L108\", \"partition\": \"test\"}\\n'"
      ]
     },
     "execution_count": null,
     "metadata": {},
     "output_type": "execute_result"
    }
   ],
   "source": [
    "with open('test_data/java/final/jsonl/test/java_test_0.jsonl', 'r') as f:\n",
    "    sample_file = f.readlines()\n",
    "sample_file[0]"
   ]
  },
  {
   "cell_type": "code",
   "execution_count": null,
   "metadata": {},
   "outputs": [
    {
     "name": "stdout",
     "output_type": "stream",
     "text": [
      "<class 'list'>\n",
      "26909\n"
     ]
    }
   ],
   "source": [
    "print(type(sample_file))\n",
    "print(len(sample_file))"
   ]
  },
  {
   "cell_type": "code",
   "execution_count": null,
   "metadata": {},
   "outputs": [
    {
     "name": "stdout",
     "output_type": "stream",
     "text": [
      "Pretty printing has been turned OFF\n"
     ]
    }
   ],
   "source": [
    "pprint(json.loads(sample_file[0]))"
   ]
  },
  {
   "cell_type": "markdown",
   "metadata": {},
   "source": [
    "## Exploring the full DataSet"
   ]
  },
  {
   "cell_type": "code",
   "execution_count": null,
   "metadata": {},
   "outputs": [
    {
     "name": "stdout",
     "output_type": "stream",
     "text": [
      "_sp_bpe_modal.model  _sp_bpe_modal.vocab  final  text.txt\r\n"
     ]
    }
   ],
   "source": [
    "!ls test_data/java/"
   ]
  },
  {
   "cell_type": "code",
   "execution_count": null,
   "metadata": {},
   "outputs": [
    {
     "name": "stdout",
     "output_type": "stream",
     "text": [
      "test  train  valid\r\n"
     ]
    }
   ],
   "source": [
    "!ls test_data/java/final/jsonl"
   ]
  },
  {
   "cell_type": "code",
   "execution_count": null,
   "metadata": {},
   "outputs": [],
   "source": [
    "java_files = sorted(Path('test_data/java/final/jsonl/').glob('**/*.gz'))"
   ]
  },
  {
   "cell_type": "code",
   "execution_count": null,
   "metadata": {},
   "outputs": [
    {
     "data": {
      "text/plain": [
       "[PosixPath('test_data/java/final/jsonl/test/java_test_0.jsonl')]"
      ]
     },
     "execution_count": null,
     "metadata": {},
     "output_type": "execute_result"
    }
   ],
   "source": [
    "java_test_files"
   ]
  },
  {
   "cell_type": "code",
   "execution_count": null,
   "metadata": {},
   "outputs": [
    {
     "name": "stdout",
     "output_type": "stream",
     "text": [
      "Total of related java files: 18\n"
     ]
    }
   ],
   "source": [
    "print('Total of related java files: {}'.format(len(java_files)))"
   ]
  },
  {
   "cell_type": "code",
   "execution_count": null,
   "metadata": {},
   "outputs": [
    {
     "name": "stdout",
     "output_type": "stream",
     "text": [
      "[PosixPath('test_data/java/final/jsonl/test/java_test_0.jsonl.gz'),\n",
      " PosixPath('test_data/java/final/jsonl/train/java_train_0.jsonl.gz'),\n",
      " PosixPath('test_data/java/final/jsonl/train/java_train_1.jsonl.gz'),\n",
      " PosixPath('test_data/java/final/jsonl/train/java_train_10.jsonl.gz'),\n",
      " PosixPath('test_data/java/final/jsonl/train/java_train_11.jsonl.gz'),\n",
      " PosixPath('test_data/java/final/jsonl/train/java_train_12.jsonl.gz'),\n",
      " PosixPath('test_data/java/final/jsonl/train/java_train_13.jsonl.gz'),\n",
      " PosixPath('test_data/java/final/jsonl/train/java_train_14.jsonl.gz'),\n",
      " PosixPath('test_data/java/final/jsonl/train/java_train_15.jsonl.gz'),\n",
      " PosixPath('test_data/java/final/jsonl/train/java_train_2.jsonl.gz'),\n",
      " PosixPath('test_data/java/final/jsonl/train/java_train_3.jsonl.gz'),\n",
      " PosixPath('test_data/java/final/jsonl/train/java_train_4.jsonl.gz'),\n",
      " PosixPath('test_data/java/final/jsonl/train/java_train_5.jsonl.gz'),\n",
      " PosixPath('test_data/java/final/jsonl/train/java_train_6.jsonl.gz'),\n",
      " PosixPath('test_data/java/final/jsonl/train/java_train_7.jsonl.gz'),\n",
      " PosixPath('test_data/java/final/jsonl/train/java_train_8.jsonl.gz'),\n",
      " PosixPath('test_data/java/final/jsonl/train/java_train_9.jsonl.gz'),\n",
      " PosixPath('test_data/java/final/jsonl/valid/java_valid_0.jsonl.gz')]\n"
     ]
    }
   ],
   "source": [
    "pprint(java_files)"
   ]
  },
  {
   "cell_type": "code",
   "execution_count": null,
   "metadata": {},
   "outputs": [],
   "source": [
    "columns_long_list = ['repo', 'path', 'url', 'code', \n",
    "                     'code_tokens', 'docstring', 'docstring_tokens', \n",
    "                     'language', 'partition']\n",
    "\n",
    "columns_short_list = ['code_tokens', 'docstring_tokens', \n",
    "                      'language', 'partition']\n",
    "\n",
    "# export\n",
    "def jsonl_list_to_dataframe(file_list, columns=columns_long_list):\n",
    "    \"\"\"Load a list of jsonl.gz files into a pandas DataFrame.\"\"\"\n",
    "    return pd.concat([pd.read_json(f, \n",
    "                                   orient='records', \n",
    "                                   compression='gzip',\n",
    "                                   lines=True)[columns] \n",
    "                      for f in file_list], sort=False)\n",
    "\n",
    "# export\n",
    "def plain_json_list_to_dataframe(file_list, columns):\n",
    "    '''Load a list of jsonl files into a pandas DaraFrame.'''\n",
    "    return pd.concat([pd.read_json(f,\n",
    "                                   orients='records',\n",
    "                                   compression=None,\n",
    "                                   lines=True)[columns]\n",
    "                         for f in file_list], sort=False)"
   ]
  },
  {
   "cell_type": "code",
   "execution_count": null,
   "metadata": {},
   "outputs": [],
   "source": [
    "java_df = jsonl_list_to_dataframe(java_files)"
   ]
  },
  {
   "cell_type": "code",
   "execution_count": null,
   "metadata": {},
   "outputs": [
    {
     "data": {
      "text/html": [
       "<div>\n",
       "<style scoped>\n",
       "    .dataframe tbody tr th:only-of-type {\n",
       "        vertical-align: middle;\n",
       "    }\n",
       "\n",
       "    .dataframe tbody tr th {\n",
       "        vertical-align: top;\n",
       "    }\n",
       "\n",
       "    .dataframe thead th {\n",
       "        text-align: right;\n",
       "    }\n",
       "</style>\n",
       "<table border=\"1\" class=\"dataframe\">\n",
       "  <thead>\n",
       "    <tr style=\"text-align: right;\">\n",
       "      <th></th>\n",
       "      <th>repo</th>\n",
       "      <th>path</th>\n",
       "      <th>url</th>\n",
       "      <th>code</th>\n",
       "      <th>code_tokens</th>\n",
       "      <th>docstring</th>\n",
       "      <th>docstring_tokens</th>\n",
       "      <th>language</th>\n",
       "      <th>partition</th>\n",
       "    </tr>\n",
       "  </thead>\n",
       "  <tbody>\n",
       "    <tr>\n",
       "      <th>0</th>\n",
       "      <td>ReactiveX/RxJava</td>\n",
       "      <td>src/main/java/io/reactivex/internal/observers/QueueDrainObserver.java</td>\n",
       "      <td>https://github.com/ReactiveX/RxJava/blob/ac84182aa2bd866b53e01c8e3fe99683b882c60e/src/main/java/io/reactivex/internal/observers/QueueDrainObserver.java#L88-L108</td>\n",
       "      <td>protected final void fastPathOrderedEmit(U value, boolean delayError, Disposable disposable) {\\n        final Observer&lt;? super V&gt; observer = downstream;\\n        final SimplePlainQueue&lt;U&gt; q = queue;\\n\\n        if (wip.get() == 0 &amp;&amp; wip.compareAndSet(0, 1)) {\\n            if (q.isEmpty()) {\\n    ...</td>\n",
       "      <td>[protected, final, void, fastPathOrderedEmit, (, U, value, ,, boolean, delayError, ,, Disposable, disposable, ), {, final, Observer, &lt;, ?, super, V, &gt;, observer, =, downstream, ;, final, SimplePlainQueue, &lt;, U, &gt;, q, =, queue, ;, if, (, wip, ., get, (, ), ==, 0, &amp;&amp;, wip, ., compareAndSet, (, 0, ...</td>\n",
       "      <td>Makes sure the fast-path emits in order.\\n@param value the value to emit or queue up\\n@param delayError if true, errors are delayed until the source has terminated\\n@param disposable the resource to dispose if the drain terminates</td>\n",
       "      <td>[Makes, sure, the, fast, -, path, emits, in, order, .]</td>\n",
       "      <td>java</td>\n",
       "      <td>test</td>\n",
       "    </tr>\n",
       "    <tr>\n",
       "      <th>1</th>\n",
       "      <td>ReactiveX/RxJava</td>\n",
       "      <td>src/main/java/io/reactivex/Observable.java</td>\n",
       "      <td>https://github.com/ReactiveX/RxJava/blob/ac84182aa2bd866b53e01c8e3fe99683b882c60e/src/main/java/io/reactivex/Observable.java#L118-L124</td>\n",
       "      <td>@CheckReturnValue\\n    @NonNull\\n    @SchedulerSupport(SchedulerSupport.NONE)\\n    public static &lt;T&gt; Observable&lt;T&gt; amb(Iterable&lt;? extends ObservableSource&lt;? extends T&gt;&gt; sources) {\\n        ObjectHelper.requireNonNull(sources, \"sources is null\");\\n        return RxJavaPlugins.onAssembly(new Obser...</td>\n",
       "      <td>[@, CheckReturnValue, @, NonNull, @, SchedulerSupport, (, SchedulerSupport, ., NONE, ), public, static, &lt;, T, &gt;, Observable, &lt;, T, &gt;, amb, (, Iterable, &lt;, ?, extends, ObservableSource, &lt;, ?, extends, T, &gt;, &gt;, sources, ), {, ObjectHelper, ., requireNonNull, (, sources, ,, \"sources is null\", ), ;,...</td>\n",
       "      <td>Mirrors the one ObservableSource in an Iterable of several ObservableSources that first either emits an item or sends\\na termination notification.\\n&lt;p&gt;\\n&lt;img width=\"640\" height=\"385\" src=\"https://raw.github.com/wiki/ReactiveX/RxJava/images/rx-operators/amb.png\" alt=\"\"&gt;\\n&lt;dl&gt;\\n&lt;dt&gt;&lt;b&gt;Scheduler:&lt;/...</td>\n",
       "      <td>[Mirrors, the, one, ObservableSource, in, an, Iterable, of, several, ObservableSources, that, first, either, emits, an, item, or, sends, a, termination, notification, ., &lt;p, &gt;, &lt;img, width, =, 640, height, =, 385, src, =, https, :, //, raw, ., github, ., com, /, wiki, /, ReactiveX, /, RxJava, /,...</td>\n",
       "      <td>java</td>\n",
       "      <td>test</td>\n",
       "    </tr>\n",
       "    <tr>\n",
       "      <th>2</th>\n",
       "      <td>ReactiveX/RxJava</td>\n",
       "      <td>src/main/java/io/reactivex/Observable.java</td>\n",
       "      <td>https://github.com/ReactiveX/RxJava/blob/ac84182aa2bd866b53e01c8e3fe99683b882c60e/src/main/java/io/reactivex/Observable.java#L144-L158</td>\n",
       "      <td>@SuppressWarnings(\"unchecked\")\\n    @CheckReturnValue\\n    @NonNull\\n    @SchedulerSupport(SchedulerSupport.NONE)\\n    public static &lt;T&gt; Observable&lt;T&gt; ambArray(ObservableSource&lt;? extends T&gt;... sources) {\\n        ObjectHelper.requireNonNull(sources, \"sources is null\");\\n        int len = sources...</td>\n",
       "      <td>[@, SuppressWarnings, (, \"unchecked\", ), @, CheckReturnValue, @, NonNull, @, SchedulerSupport, (, SchedulerSupport, ., NONE, ), public, static, &lt;, T, &gt;, Observable, &lt;, T, &gt;, ambArray, (, ObservableSource, &lt;, ?, extends, T, &gt;, ..., sources, ), {, ObjectHelper, ., requireNonNull, (, sources, ,, \"s...</td>\n",
       "      <td>Mirrors the one ObservableSource in an array of several ObservableSources that first either emits an item or sends\\na termination notification.\\n&lt;p&gt;\\n&lt;img width=\"640\" height=\"385\" src=\"https://raw.github.com/wiki/ReactiveX/RxJava/images/rx-operators/amb.png\" alt=\"\"&gt;\\n&lt;dl&gt;\\n&lt;dt&gt;&lt;b&gt;Scheduler:&lt;/b&gt;&lt;...</td>\n",
       "      <td>[Mirrors, the, one, ObservableSource, in, an, array, of, several, ObservableSources, that, first, either, emits, an, item, or, sends, a, termination, notification, ., &lt;p, &gt;, &lt;img, width, =, 640, height, =, 385, src, =, https, :, //, raw, ., github, ., com, /, wiki, /, ReactiveX, /, RxJava, /, im...</td>\n",
       "      <td>java</td>\n",
       "      <td>test</td>\n",
       "    </tr>\n",
       "    <tr>\n",
       "      <th>3</th>\n",
       "      <td>ReactiveX/RxJava</td>\n",
       "      <td>src/main/java/io/reactivex/Observable.java</td>\n",
       "      <td>https://github.com/ReactiveX/RxJava/blob/ac84182aa2bd866b53e01c8e3fe99683b882c60e/src/main/java/io/reactivex/Observable.java#L1099-L1106</td>\n",
       "      <td>@SuppressWarnings({ \"unchecked\", \"rawtypes\" })\\n    @CheckReturnValue\\n    @NonNull\\n    @SchedulerSupport(SchedulerSupport.NONE)\\n    public static &lt;T&gt; Observable&lt;T&gt; concat(Iterable&lt;? extends ObservableSource&lt;? extends T&gt;&gt; sources) {\\n        ObjectHelper.requireNonNull(sources, \"sources is nul...</td>\n",
       "      <td>[@, SuppressWarnings, (, {, \"unchecked\", ,, \"rawtypes\", }, ), @, CheckReturnValue, @, NonNull, @, SchedulerSupport, (, SchedulerSupport, ., NONE, ), public, static, &lt;, T, &gt;, Observable, &lt;, T, &gt;, concat, (, Iterable, &lt;, ?, extends, ObservableSource, &lt;, ?, extends, T, &gt;, &gt;, sources, ), {, ObjectHe...</td>\n",
       "      <td>Concatenates elements of each ObservableSource provided via an Iterable sequence into a single sequence\\nof elements without interleaving them.\\n&lt;p&gt;\\n&lt;img width=\"640\" height=\"380\" src=\"https://raw.github.com/wiki/ReactiveX/RxJava/images/rx-operators/concat.png\" alt=\"\"&gt;\\n&lt;dl&gt;\\n&lt;dt&gt;&lt;b&gt;Scheduler:&lt;/...</td>\n",
       "      <td>[Concatenates, elements, of, each, ObservableSource, provided, via, an, Iterable, sequence, into, a, single, sequence, of, elements, without, interleaving, them, ., &lt;p, &gt;, &lt;img, width, =, 640, height, =, 380, src, =, https, :, //, raw, ., github, ., com, /, wiki, /, ReactiveX, /, RxJava, /, imag...</td>\n",
       "      <td>java</td>\n",
       "      <td>test</td>\n",
       "    </tr>\n",
       "    <tr>\n",
       "      <th>4</th>\n",
       "      <td>ReactiveX/RxJava</td>\n",
       "      <td>src/main/java/io/reactivex/Observable.java</td>\n",
       "      <td>https://github.com/ReactiveX/RxJava/blob/ac84182aa2bd866b53e01c8e3fe99683b882c60e/src/main/java/io/reactivex/Observable.java#L1150-L1158</td>\n",
       "      <td>@SuppressWarnings({ \"unchecked\", \"rawtypes\" })\\n    @CheckReturnValue\\n    @NonNull\\n    @SchedulerSupport(SchedulerSupport.NONE)\\n    public static &lt;T&gt; Observable&lt;T&gt; concat(ObservableSource&lt;? extends ObservableSource&lt;? extends T&gt;&gt; sources, int prefetch) {\\n        ObjectHelper.requireNonNull(so...</td>\n",
       "      <td>[@, SuppressWarnings, (, {, \"unchecked\", ,, \"rawtypes\", }, ), @, CheckReturnValue, @, NonNull, @, SchedulerSupport, (, SchedulerSupport, ., NONE, ), public, static, &lt;, T, &gt;, Observable, &lt;, T, &gt;, concat, (, ObservableSource, &lt;, ?, extends, ObservableSource, &lt;, ?, extends, T, &gt;, &gt;, sources, ,, int...</td>\n",
       "      <td>Returns an Observable that emits the items emitted by each of the ObservableSources emitted by the source\\nObservableSource, one after the other, without interleaving them.\\n&lt;p&gt;\\n&lt;img width=\"640\" height=\"380\" src=\"https://raw.github.com/wiki/ReactiveX/RxJava/images/rx-operators/concat.png\" alt=\"...</td>\n",
       "      <td>[Returns, an, Observable, that, emits, the, items, emitted, by, each, of, the, ObservableSources, emitted, by, the, source, ObservableSource, one, after, the, other, without, interleaving, them, ., &lt;p, &gt;, &lt;img, width, =, 640, height, =, 380, src, =, https, :, //, raw, ., github, ., com, /, wiki,...</td>\n",
       "      <td>java</td>\n",
       "      <td>test</td>\n",
       "    </tr>\n",
       "  </tbody>\n",
       "</table>\n",
       "</div>"
      ],
      "text/plain": [
       "               repo  \\\n",
       "0  ReactiveX/RxJava   \n",
       "1  ReactiveX/RxJava   \n",
       "2  ReactiveX/RxJava   \n",
       "3  ReactiveX/RxJava   \n",
       "4  ReactiveX/RxJava   \n",
       "\n",
       "                                                                    path  \\\n",
       "0  src/main/java/io/reactivex/internal/observers/QueueDrainObserver.java   \n",
       "1                             src/main/java/io/reactivex/Observable.java   \n",
       "2                             src/main/java/io/reactivex/Observable.java   \n",
       "3                             src/main/java/io/reactivex/Observable.java   \n",
       "4                             src/main/java/io/reactivex/Observable.java   \n",
       "\n",
       "                                                                                                                                                                url  \\\n",
       "0  https://github.com/ReactiveX/RxJava/blob/ac84182aa2bd866b53e01c8e3fe99683b882c60e/src/main/java/io/reactivex/internal/observers/QueueDrainObserver.java#L88-L108   \n",
       "1                            https://github.com/ReactiveX/RxJava/blob/ac84182aa2bd866b53e01c8e3fe99683b882c60e/src/main/java/io/reactivex/Observable.java#L118-L124   \n",
       "2                            https://github.com/ReactiveX/RxJava/blob/ac84182aa2bd866b53e01c8e3fe99683b882c60e/src/main/java/io/reactivex/Observable.java#L144-L158   \n",
       "3                          https://github.com/ReactiveX/RxJava/blob/ac84182aa2bd866b53e01c8e3fe99683b882c60e/src/main/java/io/reactivex/Observable.java#L1099-L1106   \n",
       "4                          https://github.com/ReactiveX/RxJava/blob/ac84182aa2bd866b53e01c8e3fe99683b882c60e/src/main/java/io/reactivex/Observable.java#L1150-L1158   \n",
       "\n",
       "                                                                                                                                                                                                                                                                                                          code  \\\n",
       "0  protected final void fastPathOrderedEmit(U value, boolean delayError, Disposable disposable) {\\n        final Observer<? super V> observer = downstream;\\n        final SimplePlainQueue<U> q = queue;\\n\\n        if (wip.get() == 0 && wip.compareAndSet(0, 1)) {\\n            if (q.isEmpty()) {\\n    ...   \n",
       "1  @CheckReturnValue\\n    @NonNull\\n    @SchedulerSupport(SchedulerSupport.NONE)\\n    public static <T> Observable<T> amb(Iterable<? extends ObservableSource<? extends T>> sources) {\\n        ObjectHelper.requireNonNull(sources, \"sources is null\");\\n        return RxJavaPlugins.onAssembly(new Obser...   \n",
       "2  @SuppressWarnings(\"unchecked\")\\n    @CheckReturnValue\\n    @NonNull\\n    @SchedulerSupport(SchedulerSupport.NONE)\\n    public static <T> Observable<T> ambArray(ObservableSource<? extends T>... sources) {\\n        ObjectHelper.requireNonNull(sources, \"sources is null\");\\n        int len = sources...   \n",
       "3  @SuppressWarnings({ \"unchecked\", \"rawtypes\" })\\n    @CheckReturnValue\\n    @NonNull\\n    @SchedulerSupport(SchedulerSupport.NONE)\\n    public static <T> Observable<T> concat(Iterable<? extends ObservableSource<? extends T>> sources) {\\n        ObjectHelper.requireNonNull(sources, \"sources is nul...   \n",
       "4  @SuppressWarnings({ \"unchecked\", \"rawtypes\" })\\n    @CheckReturnValue\\n    @NonNull\\n    @SchedulerSupport(SchedulerSupport.NONE)\\n    public static <T> Observable<T> concat(ObservableSource<? extends ObservableSource<? extends T>> sources, int prefetch) {\\n        ObjectHelper.requireNonNull(so...   \n",
       "\n",
       "                                                                                                                                                                                                                                                                                                   code_tokens  \\\n",
       "0  [protected, final, void, fastPathOrderedEmit, (, U, value, ,, boolean, delayError, ,, Disposable, disposable, ), {, final, Observer, <, ?, super, V, >, observer, =, downstream, ;, final, SimplePlainQueue, <, U, >, q, =, queue, ;, if, (, wip, ., get, (, ), ==, 0, &&, wip, ., compareAndSet, (, 0, ...   \n",
       "1  [@, CheckReturnValue, @, NonNull, @, SchedulerSupport, (, SchedulerSupport, ., NONE, ), public, static, <, T, >, Observable, <, T, >, amb, (, Iterable, <, ?, extends, ObservableSource, <, ?, extends, T, >, >, sources, ), {, ObjectHelper, ., requireNonNull, (, sources, ,, \"sources is null\", ), ;,...   \n",
       "2  [@, SuppressWarnings, (, \"unchecked\", ), @, CheckReturnValue, @, NonNull, @, SchedulerSupport, (, SchedulerSupport, ., NONE, ), public, static, <, T, >, Observable, <, T, >, ambArray, (, ObservableSource, <, ?, extends, T, >, ..., sources, ), {, ObjectHelper, ., requireNonNull, (, sources, ,, \"s...   \n",
       "3  [@, SuppressWarnings, (, {, \"unchecked\", ,, \"rawtypes\", }, ), @, CheckReturnValue, @, NonNull, @, SchedulerSupport, (, SchedulerSupport, ., NONE, ), public, static, <, T, >, Observable, <, T, >, concat, (, Iterable, <, ?, extends, ObservableSource, <, ?, extends, T, >, >, sources, ), {, ObjectHe...   \n",
       "4  [@, SuppressWarnings, (, {, \"unchecked\", ,, \"rawtypes\", }, ), @, CheckReturnValue, @, NonNull, @, SchedulerSupport, (, SchedulerSupport, ., NONE, ), public, static, <, T, >, Observable, <, T, >, concat, (, ObservableSource, <, ?, extends, ObservableSource, <, ?, extends, T, >, >, sources, ,, int...   \n",
       "\n",
       "                                                                                                                                                                                                                                                                                                     docstring  \\\n",
       "0                                                                       Makes sure the fast-path emits in order.\\n@param value the value to emit or queue up\\n@param delayError if true, errors are delayed until the source has terminated\\n@param disposable the resource to dispose if the drain terminates   \n",
       "1  Mirrors the one ObservableSource in an Iterable of several ObservableSources that first either emits an item or sends\\na termination notification.\\n<p>\\n<img width=\"640\" height=\"385\" src=\"https://raw.github.com/wiki/ReactiveX/RxJava/images/rx-operators/amb.png\" alt=\"\">\\n<dl>\\n<dt><b>Scheduler:</...   \n",
       "2  Mirrors the one ObservableSource in an array of several ObservableSources that first either emits an item or sends\\na termination notification.\\n<p>\\n<img width=\"640\" height=\"385\" src=\"https://raw.github.com/wiki/ReactiveX/RxJava/images/rx-operators/amb.png\" alt=\"\">\\n<dl>\\n<dt><b>Scheduler:</b><...   \n",
       "3  Concatenates elements of each ObservableSource provided via an Iterable sequence into a single sequence\\nof elements without interleaving them.\\n<p>\\n<img width=\"640\" height=\"380\" src=\"https://raw.github.com/wiki/ReactiveX/RxJava/images/rx-operators/concat.png\" alt=\"\">\\n<dl>\\n<dt><b>Scheduler:</...   \n",
       "4  Returns an Observable that emits the items emitted by each of the ObservableSources emitted by the source\\nObservableSource, one after the other, without interleaving them.\\n<p>\\n<img width=\"640\" height=\"380\" src=\"https://raw.github.com/wiki/ReactiveX/RxJava/images/rx-operators/concat.png\" alt=\"...   \n",
       "\n",
       "                                                                                                                                                                                                                                                                                              docstring_tokens  \\\n",
       "0                                                                                                                                                                                                                                                       [Makes, sure, the, fast, -, path, emits, in, order, .]   \n",
       "1  [Mirrors, the, one, ObservableSource, in, an, Iterable, of, several, ObservableSources, that, first, either, emits, an, item, or, sends, a, termination, notification, ., <p, >, <img, width, =, 640, height, =, 385, src, =, https, :, //, raw, ., github, ., com, /, wiki, /, ReactiveX, /, RxJava, /,...   \n",
       "2  [Mirrors, the, one, ObservableSource, in, an, array, of, several, ObservableSources, that, first, either, emits, an, item, or, sends, a, termination, notification, ., <p, >, <img, width, =, 640, height, =, 385, src, =, https, :, //, raw, ., github, ., com, /, wiki, /, ReactiveX, /, RxJava, /, im...   \n",
       "3  [Concatenates, elements, of, each, ObservableSource, provided, via, an, Iterable, sequence, into, a, single, sequence, of, elements, without, interleaving, them, ., <p, >, <img, width, =, 640, height, =, 380, src, =, https, :, //, raw, ., github, ., com, /, wiki, /, ReactiveX, /, RxJava, /, imag...   \n",
       "4  [Returns, an, Observable, that, emits, the, items, emitted, by, each, of, the, ObservableSources, emitted, by, the, source, ObservableSource, one, after, the, other, without, interleaving, them, ., <p, >, <img, width, =, 640, height, =, 380, src, =, https, :, //, raw, ., github, ., com, /, wiki,...   \n",
       "\n",
       "  language partition  \n",
       "0     java      test  \n",
       "1     java      test  \n",
       "2     java      test  \n",
       "3     java      test  \n",
       "4     java      test  "
      ]
     },
     "execution_count": null,
     "metadata": {},
     "output_type": "execute_result"
    }
   ],
   "source": [
    "java_df.head()"
   ]
  },
  {
   "cell_type": "code",
   "execution_count": null,
   "metadata": {},
   "outputs": [
    {
     "data": {
      "text/plain": [
       "Index(['repo', 'path', 'url', 'code', 'code_tokens', 'docstring',\n",
       "       'docstring_tokens', 'language', 'partition'],\n",
       "      dtype='object')"
      ]
     },
     "execution_count": null,
     "metadata": {},
     "output_type": "execute_result"
    }
   ],
   "source": [
    "java_df.columns"
   ]
  },
  {
   "cell_type": "code",
   "execution_count": null,
   "metadata": {},
   "outputs": [
    {
     "data": {
      "text/plain": [
       "array(['test', 'train', 'valid'], dtype=object)"
      ]
     },
     "execution_count": null,
     "metadata": {},
     "output_type": "execute_result"
    }
   ],
   "source": [
    "java_df['partition'].unique()"
   ]
  },
  {
   "cell_type": "markdown",
   "metadata": {},
   "source": [
    "## Summary stats."
   ]
  },
  {
   "cell_type": "code",
   "execution_count": null,
   "metadata": {},
   "outputs": [
    {
     "data": {
      "text/plain": [
       "train    454451\n",
       "test      26909\n",
       "valid     15328\n",
       "Name: partition, dtype: int64"
      ]
     },
     "execution_count": null,
     "metadata": {},
     "output_type": "execute_result"
    }
   ],
   "source": [
    "java_df.partition.value_counts()"
   ]
  },
  {
   "cell_type": "code",
   "execution_count": null,
   "metadata": {},
   "outputs": [
    {
     "data": {
      "text/plain": [
       "partition  language\n",
       "test       java         26909\n",
       "train      java        454451\n",
       "valid      java         15328\n",
       "Name: code_tokens, dtype: int64"
      ]
     },
     "execution_count": null,
     "metadata": {},
     "output_type": "execute_result"
    }
   ],
   "source": [
    "java_df.groupby(['partition', 'language'])['code_tokens'].count()"
   ]
  },
  {
   "cell_type": "code",
   "execution_count": null,
   "metadata": {},
   "outputs": [],
   "source": [
    "java_df['code_len'] = java_df.code_tokens.apply(lambda x: len(x))\n",
    "java_df['query_len'] = java_df.docstring_tokens.apply(lambda x: len(x))"
   ]
  },
  {
   "cell_type": "markdown",
   "metadata": {},
   "source": [
    "Tokens Length Percentile "
   ]
  },
  {
   "cell_type": "code",
   "execution_count": null,
   "metadata": {},
   "outputs": [],
   "source": [
    "code_len_summary = java_df.groupby('language')['code_len'].quantile([.5, .7, .8, .9, .95])"
   ]
  },
  {
   "cell_type": "code",
   "execution_count": null,
   "metadata": {},
   "outputs": [
    {
     "data": {
      "text/html": [
       "<div>\n",
       "<style scoped>\n",
       "    .dataframe tbody tr th:only-of-type {\n",
       "        vertical-align: middle;\n",
       "    }\n",
       "\n",
       "    .dataframe tbody tr th {\n",
       "        vertical-align: top;\n",
       "    }\n",
       "\n",
       "    .dataframe thead th {\n",
       "        text-align: right;\n",
       "    }\n",
       "</style>\n",
       "<table border=\"1\" class=\"dataframe\">\n",
       "  <thead>\n",
       "    <tr style=\"text-align: right;\">\n",
       "      <th></th>\n",
       "      <th></th>\n",
       "      <th>code_len</th>\n",
       "    </tr>\n",
       "    <tr>\n",
       "      <th>language</th>\n",
       "      <th></th>\n",
       "      <th></th>\n",
       "    </tr>\n",
       "  </thead>\n",
       "  <tbody>\n",
       "    <tr>\n",
       "      <th rowspan=\"5\" valign=\"top\">java</th>\n",
       "      <th>0.50</th>\n",
       "      <td>66.0</td>\n",
       "    </tr>\n",
       "    <tr>\n",
       "      <th>0.70</th>\n",
       "      <td>104.0</td>\n",
       "    </tr>\n",
       "    <tr>\n",
       "      <th>0.80</th>\n",
       "      <td>142.0</td>\n",
       "    </tr>\n",
       "    <tr>\n",
       "      <th>0.90</th>\n",
       "      <td>224.0</td>\n",
       "    </tr>\n",
       "    <tr>\n",
       "      <th>0.95</th>\n",
       "      <td>331.0</td>\n",
       "    </tr>\n",
       "  </tbody>\n",
       "</table>\n",
       "</div>"
      ],
      "text/plain": [
       "               code_len\n",
       "language               \n",
       "java     0.50      66.0\n",
       "         0.70     104.0\n",
       "         0.80     142.0\n",
       "         0.90     224.0\n",
       "         0.95     331.0"
      ]
     },
     "metadata": {},
     "output_type": "display_data"
    }
   ],
   "source": [
    "display(pd.DataFrame(code_len_summary))"
   ]
  },
  {
   "cell_type": "markdown",
   "metadata": {},
   "source": [
    "Query length percentile by language"
   ]
  },
  {
   "cell_type": "code",
   "execution_count": null,
   "metadata": {},
   "outputs": [
    {
     "data": {
      "text/html": [
       "<div>\n",
       "<style scoped>\n",
       "    .dataframe tbody tr th:only-of-type {\n",
       "        vertical-align: middle;\n",
       "    }\n",
       "\n",
       "    .dataframe tbody tr th {\n",
       "        vertical-align: top;\n",
       "    }\n",
       "\n",
       "    .dataframe thead th {\n",
       "        text-align: right;\n",
       "    }\n",
       "</style>\n",
       "<table border=\"1\" class=\"dataframe\">\n",
       "  <thead>\n",
       "    <tr style=\"text-align: right;\">\n",
       "      <th></th>\n",
       "      <th></th>\n",
       "      <th>query_len</th>\n",
       "    </tr>\n",
       "    <tr>\n",
       "      <th>language</th>\n",
       "      <th></th>\n",
       "      <th></th>\n",
       "    </tr>\n",
       "  </thead>\n",
       "  <tbody>\n",
       "    <tr>\n",
       "      <th rowspan=\"5\" valign=\"top\">java</th>\n",
       "      <th>0.50</th>\n",
       "      <td>11.0</td>\n",
       "    </tr>\n",
       "    <tr>\n",
       "      <th>0.70</th>\n",
       "      <td>18.0</td>\n",
       "    </tr>\n",
       "    <tr>\n",
       "      <th>0.80</th>\n",
       "      <td>25.0</td>\n",
       "    </tr>\n",
       "    <tr>\n",
       "      <th>0.90</th>\n",
       "      <td>39.0</td>\n",
       "    </tr>\n",
       "    <tr>\n",
       "      <th>0.95</th>\n",
       "      <td>61.0</td>\n",
       "    </tr>\n",
       "  </tbody>\n",
       "</table>\n",
       "</div>"
      ],
      "text/plain": [
       "               query_len\n",
       "language                \n",
       "java     0.50       11.0\n",
       "         0.70       18.0\n",
       "         0.80       25.0\n",
       "         0.90       39.0\n",
       "         0.95       61.0"
      ]
     },
     "metadata": {},
     "output_type": "display_data"
    }
   ],
   "source": [
    "query_len_summary = java_df.groupby('language')['query_len'].quantile([.5, .7, .8, .9, .95])\n",
    "display(pd.DataFrame(query_len_summary))"
   ]
  },
  {
   "cell_type": "code",
   "execution_count": null,
   "metadata": {},
   "outputs": [
    {
     "data": {
      "text/plain": [
       "(496688, 11)"
      ]
     },
     "execution_count": null,
     "metadata": {},
     "output_type": "execute_result"
    }
   ],
   "source": [
    "java_df.shape"
   ]
  },
  {
   "cell_type": "markdown",
   "metadata": {},
   "source": [
    "## EDA using spark\n",
    "Basic word countings of millions of files (case study) by @danaderp"
   ]
  },
  {
   "cell_type": "code",
   "execution_count": null,
   "metadata": {},
   "outputs": [],
   "source": [
    "from pyspark import SparkContext, SparkConf"
   ]
  },
  {
   "cell_type": "code",
   "execution_count": null,
   "metadata": {},
   "outputs": [],
   "source": [
    "appName = None\n",
    "master = None"
   ]
  },
  {
   "cell_type": "code",
   "execution_count": null,
   "metadata": {},
   "outputs": [
    {
     "ename": "NameError",
     "evalue": "name 'spark' is not defined",
     "output_type": "error",
     "traceback": [
      "\u001b[0;31m---------------------------------------------------------------------------\u001b[0m",
      "\u001b[0;31mNameError\u001b[0m                                 Traceback (most recent call last)",
      "\u001b[0;32m<ipython-input-7-b09deea08559>\u001b[0m in \u001b[0;36m<module>\u001b[0;34m\u001b[0m\n\u001b[0;32m----> 1\u001b[0;31m \u001b[0mtextFile\u001b[0m \u001b[0;34m=\u001b[0m \u001b[0mspark\u001b[0m\u001b[0;34m.\u001b[0m\u001b[0mread\u001b[0m\u001b[0;34m.\u001b[0m\u001b[0mtext\u001b[0m\u001b[0;34m(\u001b[0m\u001b[0;34m\"Readme.txt\"\u001b[0m\u001b[0;34m)\u001b[0m\u001b[0;34m\u001b[0m\u001b[0;34m\u001b[0m\u001b[0m\n\u001b[0m",
      "\u001b[0;31mNameError\u001b[0m: name 'spark' is not defined"
     ]
    }
   ],
   "source": [
    "textFile = spark.read.text(\"Readme.txt\")"
   ]
  },
  {
   "cell_type": "markdown",
   "metadata": {},
   "source": [
    "The first thing a Spark program must do is to create a SparkContext object, which tells Spark how to access a cluster. To create a SparkContext you first need to build a SparkConf object that contains information about your application.\n"
   ]
  },
  {
   "cell_type": "code",
   "execution_count": null,
   "metadata": {},
   "outputs": [],
   "source": [
    "conf = SparkConf().setAppName(appName).setMaster(master)"
   ]
  },
  {
   "cell_type": "code",
   "execution_count": null,
   "metadata": {},
   "outputs": [
    {
     "ename": "Exception",
     "evalue": "Java gateway process exited before sending its port number",
     "output_type": "error",
     "traceback": [
      "\u001b[0;31m---------------------------------------------------------------------------\u001b[0m",
      "\u001b[0;31mException\u001b[0m                                 Traceback (most recent call last)",
      "\u001b[0;32m<ipython-input-6-66f9c693822e>\u001b[0m in \u001b[0;36m<module>\u001b[0;34m\u001b[0m\n\u001b[0;32m----> 1\u001b[0;31m \u001b[0msc\u001b[0m \u001b[0;34m=\u001b[0m \u001b[0mSparkContext\u001b[0m\u001b[0;34m(\u001b[0m\u001b[0mconf\u001b[0m\u001b[0;34m=\u001b[0m\u001b[0mconf\u001b[0m\u001b[0;34m)\u001b[0m\u001b[0;34m\u001b[0m\u001b[0;34m\u001b[0m\u001b[0m\n\u001b[0m",
      "\u001b[0;32m/usr/local/lib/python3.6/dist-packages/pyspark/context.py\u001b[0m in \u001b[0;36m__init__\u001b[0;34m(self, master, appName, sparkHome, pyFiles, environment, batchSize, serializer, conf, gateway, jsc, profiler_cls)\u001b[0m\n\u001b[1;32m    131\u001b[0m                 \" is not allowed as it is a security risk.\")\n\u001b[1;32m    132\u001b[0m \u001b[0;34m\u001b[0m\u001b[0m\n\u001b[0;32m--> 133\u001b[0;31m         \u001b[0mSparkContext\u001b[0m\u001b[0;34m.\u001b[0m\u001b[0m_ensure_initialized\u001b[0m\u001b[0;34m(\u001b[0m\u001b[0mself\u001b[0m\u001b[0;34m,\u001b[0m \u001b[0mgateway\u001b[0m\u001b[0;34m=\u001b[0m\u001b[0mgateway\u001b[0m\u001b[0;34m,\u001b[0m \u001b[0mconf\u001b[0m\u001b[0;34m=\u001b[0m\u001b[0mconf\u001b[0m\u001b[0;34m)\u001b[0m\u001b[0;34m\u001b[0m\u001b[0;34m\u001b[0m\u001b[0m\n\u001b[0m\u001b[1;32m    134\u001b[0m         \u001b[0;32mtry\u001b[0m\u001b[0;34m:\u001b[0m\u001b[0;34m\u001b[0m\u001b[0;34m\u001b[0m\u001b[0m\n\u001b[1;32m    135\u001b[0m             self._do_init(master, appName, sparkHome, pyFiles, environment, batchSize, serializer,\n",
      "\u001b[0;32m/usr/local/lib/python3.6/dist-packages/pyspark/context.py\u001b[0m in \u001b[0;36m_ensure_initialized\u001b[0;34m(cls, instance, gateway, conf)\u001b[0m\n\u001b[1;32m    323\u001b[0m         \u001b[0;32mwith\u001b[0m \u001b[0mSparkContext\u001b[0m\u001b[0;34m.\u001b[0m\u001b[0m_lock\u001b[0m\u001b[0;34m:\u001b[0m\u001b[0;34m\u001b[0m\u001b[0;34m\u001b[0m\u001b[0m\n\u001b[1;32m    324\u001b[0m             \u001b[0;32mif\u001b[0m \u001b[0;32mnot\u001b[0m \u001b[0mSparkContext\u001b[0m\u001b[0;34m.\u001b[0m\u001b[0m_gateway\u001b[0m\u001b[0;34m:\u001b[0m\u001b[0;34m\u001b[0m\u001b[0;34m\u001b[0m\u001b[0m\n\u001b[0;32m--> 325\u001b[0;31m                 \u001b[0mSparkContext\u001b[0m\u001b[0;34m.\u001b[0m\u001b[0m_gateway\u001b[0m \u001b[0;34m=\u001b[0m \u001b[0mgateway\u001b[0m \u001b[0;32mor\u001b[0m \u001b[0mlaunch_gateway\u001b[0m\u001b[0;34m(\u001b[0m\u001b[0mconf\u001b[0m\u001b[0;34m)\u001b[0m\u001b[0;34m\u001b[0m\u001b[0;34m\u001b[0m\u001b[0m\n\u001b[0m\u001b[1;32m    326\u001b[0m                 \u001b[0mSparkContext\u001b[0m\u001b[0;34m.\u001b[0m\u001b[0m_jvm\u001b[0m \u001b[0;34m=\u001b[0m \u001b[0mSparkContext\u001b[0m\u001b[0;34m.\u001b[0m\u001b[0m_gateway\u001b[0m\u001b[0;34m.\u001b[0m\u001b[0mjvm\u001b[0m\u001b[0;34m\u001b[0m\u001b[0;34m\u001b[0m\u001b[0m\n\u001b[1;32m    327\u001b[0m \u001b[0;34m\u001b[0m\u001b[0m\n",
      "\u001b[0;32m/usr/local/lib/python3.6/dist-packages/pyspark/java_gateway.py\u001b[0m in \u001b[0;36mlaunch_gateway\u001b[0;34m(conf, popen_kwargs)\u001b[0m\n\u001b[1;32m    103\u001b[0m \u001b[0;34m\u001b[0m\u001b[0m\n\u001b[1;32m    104\u001b[0m             \u001b[0;32mif\u001b[0m \u001b[0;32mnot\u001b[0m \u001b[0mos\u001b[0m\u001b[0;34m.\u001b[0m\u001b[0mpath\u001b[0m\u001b[0;34m.\u001b[0m\u001b[0misfile\u001b[0m\u001b[0;34m(\u001b[0m\u001b[0mconn_info_file\u001b[0m\u001b[0;34m)\u001b[0m\u001b[0;34m:\u001b[0m\u001b[0;34m\u001b[0m\u001b[0;34m\u001b[0m\u001b[0m\n\u001b[0;32m--> 105\u001b[0;31m                 \u001b[0;32mraise\u001b[0m \u001b[0mException\u001b[0m\u001b[0;34m(\u001b[0m\u001b[0;34m\"Java gateway process exited before sending its port number\"\u001b[0m\u001b[0;34m)\u001b[0m\u001b[0;34m\u001b[0m\u001b[0;34m\u001b[0m\u001b[0m\n\u001b[0m\u001b[1;32m    106\u001b[0m \u001b[0;34m\u001b[0m\u001b[0m\n\u001b[1;32m    107\u001b[0m             \u001b[0;32mwith\u001b[0m \u001b[0mopen\u001b[0m\u001b[0;34m(\u001b[0m\u001b[0mconn_info_file\u001b[0m\u001b[0;34m,\u001b[0m \u001b[0;34m\"rb\"\u001b[0m\u001b[0;34m)\u001b[0m \u001b[0;32mas\u001b[0m \u001b[0minfo\u001b[0m\u001b[0;34m:\u001b[0m\u001b[0;34m\u001b[0m\u001b[0;34m\u001b[0m\u001b[0m\n",
      "\u001b[0;31mException\u001b[0m: Java gateway process exited before sending its port number"
     ]
    }
   ],
   "source": [
    "sc = SparkContext(conf=conf)"
   ]
  },
  {
   "cell_type": "markdown",
   "metadata": {},
   "source": [
    "## Data transformation"
   ]
  },
  {
   "cell_type": "code",
   "execution_count": null,
   "metadata": {},
   "outputs": [
    {
     "name": "stdout",
     "output_type": "stream",
     "text": [
      "Index(['repo', 'path', 'url', 'code', 'code_tokens', 'docstring',\n",
      "       'docstring_tokens', 'language', 'partition', 'code_len', 'query_len'],\n",
      "      dtype='object')\n"
     ]
    }
   ],
   "source": [
    "pprint(java_df.columns)"
   ]
  },
  {
   "cell_type": "code",
   "execution_count": null,
   "metadata": {},
   "outputs": [],
   "source": [
    "src_code_columns = ['code', 'code_tokens', 'code_len','partition']"
   ]
  },
  {
   "cell_type": "code",
   "execution_count": null,
   "metadata": {},
   "outputs": [],
   "source": [
    "java_src_code_df = java_df[src_code_columns]"
   ]
  },
  {
   "cell_type": "code",
   "execution_count": null,
   "metadata": {},
   "outputs": [
    {
     "data": {
      "text/plain": [
       "Index(['code', 'code_tokens', 'code_len', 'partition'], dtype='object')"
      ]
     },
     "execution_count": null,
     "metadata": {},
     "output_type": "execute_result"
    }
   ],
   "source": [
    "java_src_code_df.columns"
   ]
  },
  {
   "cell_type": "code",
   "execution_count": null,
   "metadata": {},
   "outputs": [
    {
     "data": {
      "text/plain": [
       "(496688, 4)"
      ]
     },
     "execution_count": null,
     "metadata": {},
     "output_type": "execute_result"
    }
   ],
   "source": [
    "java_src_code_df.shape"
   ]
  },
  {
   "cell_type": "markdown",
   "metadata": {},
   "source": [
    "Visualizing examples"
   ]
  },
  {
   "cell_type": "code",
   "execution_count": null,
   "metadata": {},
   "outputs": [
    {
     "data": {
      "text/plain": [
       "0    protected final void fastPathOrderedEmit(U value, boolean delayError, Disposable disposable) {\\n        final Observer<? super V> observer = downstream;\\n        final SimplePlainQueue<U> q = queue;\\n\\n        if (wip.get() == 0 && wip.compareAndSet(0, 1)) {\\n            if (q.isEmpty()) {\\n    ...\n",
       "1    @CheckReturnValue\\n    @NonNull\\n    @SchedulerSupport(SchedulerSupport.NONE)\\n    public static <T> Observable<T> amb(Iterable<? extends ObservableSource<? extends T>> sources) {\\n        ObjectHelper.requireNonNull(sources, \"sources is null\");\\n        return RxJavaPlugins.onAssembly(new Obser...\n",
       "2    @SuppressWarnings(\"unchecked\")\\n    @CheckReturnValue\\n    @NonNull\\n    @SchedulerSupport(SchedulerSupport.NONE)\\n    public static <T> Observable<T> ambArray(ObservableSource<? extends T>... sources) {\\n        ObjectHelper.requireNonNull(sources, \"sources is null\");\\n        int len = sources...\n",
       "3    @SuppressWarnings({ \"unchecked\", \"rawtypes\" })\\n    @CheckReturnValue\\n    @NonNull\\n    @SchedulerSupport(SchedulerSupport.NONE)\\n    public static <T> Observable<T> concat(Iterable<? extends ObservableSource<? extends T>> sources) {\\n        ObjectHelper.requireNonNull(sources, \"sources is nul...\n",
       "4    @SuppressWarnings({ \"unchecked\", \"rawtypes\" })\\n    @CheckReturnValue\\n    @NonNull\\n    @SchedulerSupport(SchedulerSupport.NONE)\\n    public static <T> Observable<T> concat(ObservableSource<? extends ObservableSource<? extends T>> sources, int prefetch) {\\n        ObjectHelper.requireNonNull(so...\n",
       "5    @SuppressWarnings({ \"unchecked\", \"rawtypes\" })\\n    @CheckReturnValue\\n    @SchedulerSupport(SchedulerSupport.NONE)\\n    public static <T> Observable<T> concatArray(ObservableSource<? extends T>... sources) {\\n        if (sources.length == 0) {\\n            return empty();\\n        } else\\n     ...\n",
       "6    @SuppressWarnings({ \"unchecked\" })\\n    @CheckReturnValue\\n    @SchedulerSupport(SchedulerSupport.NONE)\\n    public static <T> Observable<T> concatArrayDelayError(ObservableSource<? extends T>... sources) {\\n        if (sources.length == 0) {\\n            return empty();\\n        } else\\n       ...\n",
       "7                                                                @CheckReturnValue\\n    @SchedulerSupport(SchedulerSupport.NONE)\\n    public static <T> Observable<T> concatArrayEager(ObservableSource<? extends T>... sources) {\\n        return concatArrayEager(bufferSize(), bufferSize(), sources);\\n    }\n",
       "8    @SuppressWarnings({ \"rawtypes\", \"unchecked\" })\\n    @CheckReturnValue\\n    @SchedulerSupport(SchedulerSupport.NONE)\\n    public static <T> Observable<T> concatArrayEager(int maxConcurrency, int prefetch, ObservableSource<? extends T>... sources) {\\n        return fromArray(sources).concatMapEage...\n",
       "9    @SuppressWarnings({ \"rawtypes\", \"unchecked\" })\\n    @CheckReturnValue\\n    @SchedulerSupport(SchedulerSupport.NONE)\\n    public static <T> Observable<T> concatArrayEagerDelayError(int maxConcurrency, int prefetch, ObservableSource<? extends T>... sources) {\\n        return fromArray(sources).con...\n",
       "Name: code, dtype: object"
      ]
     },
     "execution_count": null,
     "metadata": {},
     "output_type": "execute_result"
    }
   ],
   "source": [
    "java_src_code_df[:10]['code']"
   ]
  },
  {
   "cell_type": "code",
   "execution_count": null,
   "metadata": {},
   "outputs": [],
   "source": [
    "data_type_new_column = ['src' for x in range(java_src_code_df.shape[0])]"
   ]
  },
  {
   "cell_type": "code",
   "execution_count": null,
   "metadata": {},
   "outputs": [
    {
     "data": {
      "text/plain": [
       "496688"
      ]
     },
     "execution_count": null,
     "metadata": {},
     "output_type": "execute_result"
    }
   ],
   "source": [
    "len(data_type_new_column)"
   ]
  },
  {
   "cell_type": "code",
   "execution_count": null,
   "metadata": {},
   "outputs": [
    {
     "name": "stderr",
     "output_type": "stream",
     "text": [
      "/usr/local/lib/python3.6/dist-packages/pandas/core/indexing.py:845: SettingWithCopyWarning: \n",
      "A value is trying to be set on a copy of a slice from a DataFrame.\n",
      "Try using .loc[row_indexer,col_indexer] = value instead\n",
      "\n",
      "See the caveats in the documentation: https://pandas.pydata.org/pandas-docs/stable/user_guide/indexing.html#returning-a-view-versus-a-copy\n",
      "  self.obj[key] = _infer_fill_value(value)\n",
      "/usr/local/lib/python3.6/dist-packages/pandas/core/indexing.py:966: SettingWithCopyWarning: \n",
      "A value is trying to be set on a copy of a slice from a DataFrame.\n",
      "Try using .loc[row_indexer,col_indexer] = value instead\n",
      "\n",
      "See the caveats in the documentation: https://pandas.pydata.org/pandas-docs/stable/user_guide/indexing.html#returning-a-view-versus-a-copy\n",
      "  self.obj[item] = s\n"
     ]
    }
   ],
   "source": [
    "java_src_code_df.loc[:,'data_type'] = data_type_new_column"
   ]
  },
  {
   "cell_type": "code",
   "execution_count": null,
   "metadata": {},
   "outputs": [
    {
     "data": {
      "text/html": [
       "<div>\n",
       "<style scoped>\n",
       "    .dataframe tbody tr th:only-of-type {\n",
       "        vertical-align: middle;\n",
       "    }\n",
       "\n",
       "    .dataframe tbody tr th {\n",
       "        vertical-align: top;\n",
       "    }\n",
       "\n",
       "    .dataframe thead th {\n",
       "        text-align: right;\n",
       "    }\n",
       "</style>\n",
       "<table border=\"1\" class=\"dataframe\">\n",
       "  <thead>\n",
       "    <tr style=\"text-align: right;\">\n",
       "      <th></th>\n",
       "      <th>code</th>\n",
       "      <th>code_tokens</th>\n",
       "      <th>code_len</th>\n",
       "      <th>partition</th>\n",
       "      <th>data_type</th>\n",
       "    </tr>\n",
       "  </thead>\n",
       "  <tbody>\n",
       "    <tr>\n",
       "      <th>0</th>\n",
       "      <td>protected final void fastPathOrderedEmit(U value, boolean delayError, Disposable disposable) {\\n        final Observer&lt;? super V&gt; observer = downstream;\\n        final SimplePlainQueue&lt;U&gt; q = queue;\\n\\n        if (wip.get() == 0 &amp;&amp; wip.compareAndSet(0, 1)) {\\n            if (q.isEmpty()) {\\n    ...</td>\n",
       "      <td>[protected, final, void, fastPathOrderedEmit, (, U, value, ,, boolean, delayError, ,, Disposable, disposable, ), {, final, Observer, &lt;, ?, super, V, &gt;, observer, =, downstream, ;, final, SimplePlainQueue, &lt;, U, &gt;, q, =, queue, ;, if, (, wip, ., get, (, ), ==, 0, &amp;&amp;, wip, ., compareAndSet, (, 0, ...</td>\n",
       "      <td>134</td>\n",
       "      <td>test</td>\n",
       "      <td>src</td>\n",
       "    </tr>\n",
       "    <tr>\n",
       "      <th>1</th>\n",
       "      <td>@CheckReturnValue\\n    @NonNull\\n    @SchedulerSupport(SchedulerSupport.NONE)\\n    public static &lt;T&gt; Observable&lt;T&gt; amb(Iterable&lt;? extends ObservableSource&lt;? extends T&gt;&gt; sources) {\\n        ObjectHelper.requireNonNull(sources, \"sources is null\");\\n        return RxJavaPlugins.onAssembly(new Obser...</td>\n",
       "      <td>[@, CheckReturnValue, @, NonNull, @, SchedulerSupport, (, SchedulerSupport, ., NONE, ), public, static, &lt;, T, &gt;, Observable, &lt;, T, &gt;, amb, (, Iterable, &lt;, ?, extends, ObservableSource, &lt;, ?, extends, T, &gt;, &gt;, sources, ), {, ObjectHelper, ., requireNonNull, (, sources, ,, \"sources is null\", ), ;,...</td>\n",
       "      <td>63</td>\n",
       "      <td>test</td>\n",
       "      <td>src</td>\n",
       "    </tr>\n",
       "    <tr>\n",
       "      <th>2</th>\n",
       "      <td>@SuppressWarnings(\"unchecked\")\\n    @CheckReturnValue\\n    @NonNull\\n    @SchedulerSupport(SchedulerSupport.NONE)\\n    public static &lt;T&gt; Observable&lt;T&gt; ambArray(ObservableSource&lt;? extends T&gt;... sources) {\\n        ObjectHelper.requireNonNull(sources, \"sources is null\");\\n        int len = sources...</td>\n",
       "      <td>[@, SuppressWarnings, (, \"unchecked\", ), @, CheckReturnValue, @, NonNull, @, SchedulerSupport, (, SchedulerSupport, ., NONE, ), public, static, &lt;, T, &gt;, Observable, &lt;, T, &gt;, ambArray, (, ObservableSource, &lt;, ?, extends, T, &gt;, ..., sources, ), {, ObjectHelper, ., requireNonNull, (, sources, ,, \"s...</td>\n",
       "      <td>107</td>\n",
       "      <td>test</td>\n",
       "      <td>src</td>\n",
       "    </tr>\n",
       "    <tr>\n",
       "      <th>3</th>\n",
       "      <td>@SuppressWarnings({ \"unchecked\", \"rawtypes\" })\\n    @CheckReturnValue\\n    @NonNull\\n    @SchedulerSupport(SchedulerSupport.NONE)\\n    public static &lt;T&gt; Observable&lt;T&gt; concat(Iterable&lt;? extends ObservableSource&lt;? extends T&gt;&gt; sources) {\\n        ObjectHelper.requireNonNull(sources, \"sources is nul...</td>\n",
       "      <td>[@, SuppressWarnings, (, {, \"unchecked\", ,, \"rawtypes\", }, ), @, CheckReturnValue, @, NonNull, @, SchedulerSupport, (, SchedulerSupport, ., NONE, ), public, static, &lt;, T, &gt;, Observable, &lt;, T, &gt;, concat, (, Iterable, &lt;, ?, extends, ObservableSource, &lt;, ?, extends, T, &gt;, &gt;, sources, ), {, ObjectHe...</td>\n",
       "      <td>79</td>\n",
       "      <td>test</td>\n",
       "      <td>src</td>\n",
       "    </tr>\n",
       "    <tr>\n",
       "      <th>4</th>\n",
       "      <td>@SuppressWarnings({ \"unchecked\", \"rawtypes\" })\\n    @CheckReturnValue\\n    @NonNull\\n    @SchedulerSupport(SchedulerSupport.NONE)\\n    public static &lt;T&gt; Observable&lt;T&gt; concat(ObservableSource&lt;? extends ObservableSource&lt;? extends T&gt;&gt; sources, int prefetch) {\\n        ObjectHelper.requireNonNull(so...</td>\n",
       "      <td>[@, SuppressWarnings, (, {, \"unchecked\", ,, \"rawtypes\", }, ), @, CheckReturnValue, @, NonNull, @, SchedulerSupport, (, SchedulerSupport, ., NONE, ), public, static, &lt;, T, &gt;, Observable, &lt;, T, &gt;, concat, (, ObservableSource, &lt;, ?, extends, ObservableSource, &lt;, ?, extends, T, &gt;, &gt;, sources, ,, int...</td>\n",
       "      <td>91</td>\n",
       "      <td>test</td>\n",
       "      <td>src</td>\n",
       "    </tr>\n",
       "  </tbody>\n",
       "</table>\n",
       "</div>"
      ],
      "text/plain": [
       "                                                                                                                                                                                                                                                                                                          code  \\\n",
       "0  protected final void fastPathOrderedEmit(U value, boolean delayError, Disposable disposable) {\\n        final Observer<? super V> observer = downstream;\\n        final SimplePlainQueue<U> q = queue;\\n\\n        if (wip.get() == 0 && wip.compareAndSet(0, 1)) {\\n            if (q.isEmpty()) {\\n    ...   \n",
       "1  @CheckReturnValue\\n    @NonNull\\n    @SchedulerSupport(SchedulerSupport.NONE)\\n    public static <T> Observable<T> amb(Iterable<? extends ObservableSource<? extends T>> sources) {\\n        ObjectHelper.requireNonNull(sources, \"sources is null\");\\n        return RxJavaPlugins.onAssembly(new Obser...   \n",
       "2  @SuppressWarnings(\"unchecked\")\\n    @CheckReturnValue\\n    @NonNull\\n    @SchedulerSupport(SchedulerSupport.NONE)\\n    public static <T> Observable<T> ambArray(ObservableSource<? extends T>... sources) {\\n        ObjectHelper.requireNonNull(sources, \"sources is null\");\\n        int len = sources...   \n",
       "3  @SuppressWarnings({ \"unchecked\", \"rawtypes\" })\\n    @CheckReturnValue\\n    @NonNull\\n    @SchedulerSupport(SchedulerSupport.NONE)\\n    public static <T> Observable<T> concat(Iterable<? extends ObservableSource<? extends T>> sources) {\\n        ObjectHelper.requireNonNull(sources, \"sources is nul...   \n",
       "4  @SuppressWarnings({ \"unchecked\", \"rawtypes\" })\\n    @CheckReturnValue\\n    @NonNull\\n    @SchedulerSupport(SchedulerSupport.NONE)\\n    public static <T> Observable<T> concat(ObservableSource<? extends ObservableSource<? extends T>> sources, int prefetch) {\\n        ObjectHelper.requireNonNull(so...   \n",
       "\n",
       "                                                                                                                                                                                                                                                                                                   code_tokens  \\\n",
       "0  [protected, final, void, fastPathOrderedEmit, (, U, value, ,, boolean, delayError, ,, Disposable, disposable, ), {, final, Observer, <, ?, super, V, >, observer, =, downstream, ;, final, SimplePlainQueue, <, U, >, q, =, queue, ;, if, (, wip, ., get, (, ), ==, 0, &&, wip, ., compareAndSet, (, 0, ...   \n",
       "1  [@, CheckReturnValue, @, NonNull, @, SchedulerSupport, (, SchedulerSupport, ., NONE, ), public, static, <, T, >, Observable, <, T, >, amb, (, Iterable, <, ?, extends, ObservableSource, <, ?, extends, T, >, >, sources, ), {, ObjectHelper, ., requireNonNull, (, sources, ,, \"sources is null\", ), ;,...   \n",
       "2  [@, SuppressWarnings, (, \"unchecked\", ), @, CheckReturnValue, @, NonNull, @, SchedulerSupport, (, SchedulerSupport, ., NONE, ), public, static, <, T, >, Observable, <, T, >, ambArray, (, ObservableSource, <, ?, extends, T, >, ..., sources, ), {, ObjectHelper, ., requireNonNull, (, sources, ,, \"s...   \n",
       "3  [@, SuppressWarnings, (, {, \"unchecked\", ,, \"rawtypes\", }, ), @, CheckReturnValue, @, NonNull, @, SchedulerSupport, (, SchedulerSupport, ., NONE, ), public, static, <, T, >, Observable, <, T, >, concat, (, Iterable, <, ?, extends, ObservableSource, <, ?, extends, T, >, >, sources, ), {, ObjectHe...   \n",
       "4  [@, SuppressWarnings, (, {, \"unchecked\", ,, \"rawtypes\", }, ), @, CheckReturnValue, @, NonNull, @, SchedulerSupport, (, SchedulerSupport, ., NONE, ), public, static, <, T, >, Observable, <, T, >, concat, (, ObservableSource, <, ?, extends, ObservableSource, <, ?, extends, T, >, >, sources, ,, int...   \n",
       "\n",
       "   code_len partition data_type  \n",
       "0       134      test       src  \n",
       "1        63      test       src  \n",
       "2       107      test       src  \n",
       "3        79      test       src  \n",
       "4        91      test       src  "
      ]
     },
     "execution_count": null,
     "metadata": {},
     "output_type": "execute_result"
    }
   ],
   "source": [
    "java_src_code_df.head()"
   ]
  },
  {
   "cell_type": "markdown",
   "metadata": {},
   "source": [
    "## Data cleaning"
   ]
  },
  {
   "cell_type": "markdown",
   "metadata": {},
   "source": [
    "Remove functions with syntax errors"
   ]
  },
  {
   "cell_type": "code",
   "execution_count": null,
   "metadata": {},
   "outputs": [
    {
     "name": "stdout",
     "output_type": "stream",
     "text": [
      "Collecting radon\n",
      "  Downloading radon-4.1.0-py2.py3-none-any.whl (49 kB)\n",
      "\u001b[K     |████████████████████████████████| 49 kB 1.7 MB/s eta 0:00:011\n",
      "\u001b[?25hCollecting flake8-polyfill\n",
      "  Downloading flake8_polyfill-1.0.2-py2.py3-none-any.whl (7.3 kB)\n",
      "Collecting colorama==0.4.1\n",
      "  Downloading colorama-0.4.1-py2.py3-none-any.whl (15 kB)\n",
      "Collecting mando<0.7,>=0.6\n",
      "  Downloading mando-0.6.4-py2.py3-none-any.whl (29 kB)\n",
      "Collecting future\n",
      "  Downloading future-0.18.2.tar.gz (829 kB)\n",
      "\u001b[K     |████████████████████████████████| 829 kB 8.0 MB/s eta 0:00:01\n",
      "\u001b[?25hCollecting flake8\n",
      "  Downloading flake8-3.8.3-py2.py3-none-any.whl (72 kB)\n",
      "\u001b[K     |████████████████████████████████| 72 kB 391 kB/s  eta 0:00:01\n",
      "\u001b[?25hRequirement already satisfied: six in /usr/lib/python3/dist-packages (from mando<0.7,>=0.6->radon) (1.11.0)\n",
      "Collecting pycodestyle<2.7.0,>=2.6.0a1\n",
      "  Downloading pycodestyle-2.6.0-py2.py3-none-any.whl (41 kB)\n",
      "\u001b[K     |████████████████████████████████| 41 kB 128 kB/s  eta 0:00:01\n",
      "\u001b[?25hCollecting mccabe<0.7.0,>=0.6.0\n",
      "  Downloading mccabe-0.6.1-py2.py3-none-any.whl (8.6 kB)\n",
      "Collecting importlib-metadata; python_version < \"3.8\"\n",
      "  Downloading importlib_metadata-1.6.1-py2.py3-none-any.whl (31 kB)\n",
      "Collecting pyflakes<2.3.0,>=2.2.0\n",
      "  Downloading pyflakes-2.2.0-py2.py3-none-any.whl (66 kB)\n",
      "\u001b[K     |████████████████████████████████| 66 kB 1.6 MB/s  eta 0:00:01\n",
      "\u001b[?25hCollecting zipp>=0.5\n",
      "  Downloading zipp-3.1.0-py3-none-any.whl (4.9 kB)\n",
      "Building wheels for collected packages: future\n",
      "  Building wheel for future (setup.py) ... \u001b[?25ldone\n",
      "\u001b[?25h  Created wheel for future: filename=future-0.18.2-py3-none-any.whl size=493275 sha256=2d8b0760b8922fe773e7f6b43088cb12678c5a7065dbbdbc5f0afee420f0553f\n",
      "  Stored in directory: /root/.cache/pip/wheels/6e/9c/ed/4499c9865ac1002697793e0ae05ba6be33553d098f3347fb94\n",
      "Successfully built future\n",
      "Installing collected packages: pycodestyle, mccabe, zipp, importlib-metadata, pyflakes, flake8, flake8-polyfill, colorama, mando, future, radon\n",
      "Successfully installed colorama-0.4.1 flake8-3.8.3 flake8-polyfill-1.0.2 future-0.18.2 importlib-metadata-1.6.1 mando-0.6.4 mccabe-0.6.1 pycodestyle-2.6.0 pyflakes-2.2.0 radon-4.1.0 zipp-3.1.0\n",
      "\u001b[33mWARNING: You are using pip version 20.0.2; however, version 20.1.1 is available.\n",
      "You should consider upgrading via the '/usr/bin/python3 -m pip install --upgrade pip' command.\u001b[0m\n"
     ]
    }
   ],
   "source": [
    "!pip install radon"
   ]
  },
  {
   "cell_type": "code",
   "execution_count": null,
   "metadata": {},
   "outputs": [
    {
     "data": {
      "text/plain": [
       "(4697, 4)"
      ]
     },
     "execution_count": null,
     "metadata": {},
     "output_type": "execute_result"
    }
   ],
   "source": [
    "java_code_df.shape"
   ]
  },
  {
   "cell_type": "code",
   "execution_count": null,
   "metadata": {},
   "outputs": [
    {
     "data": {
      "text/plain": [
       "pandas.core.series.Series"
      ]
     },
     "execution_count": null,
     "metadata": {},
     "output_type": "execute_result"
    }
   ],
   "source": [
    "type(java_code_df['code'][9071])"
   ]
  },
  {
   "cell_type": "code",
   "execution_count": null,
   "metadata": {},
   "outputs": [
    {
     "data": {
      "text/plain": [
       "9071    public Job withOutputGroupDetails(OutputGroupDetail... outputGroupDetails) {\\n        if (this.outputGroupDetails == null) {\\n            setOutputGroupDetails(new java.util.ArrayList<OutputGroupDetail>(outputGroupDetails.length));\\n        }\\n        for (OutputGroupDetail ele : outputGroupDeta...\n",
       "9071                                                                           void collectVertices(final List<ManagementVertex> vertices) {\\n\\n\\t\\tfinal Iterator<ManagementGroupVertex> it = this.groupVertices.iterator();\\n\\n\\t\\twhile (it.hasNext()) {\\n\\t\\t\\tit.next().collectVertices(vertices);\\n\\t\\t}\\n\\t}\n",
       "Name: code, dtype: object"
      ]
     },
     "execution_count": null,
     "metadata": {},
     "output_type": "execute_result"
    }
   ],
   "source": [
    "java_code_df['code'][9071]"
   ]
  },
  {
   "cell_type": "markdown",
   "metadata": {},
   "source": [
    "## Exploratory analysis"
   ]
  },
  {
   "cell_type": "code",
   "execution_count": null,
   "metadata": {},
   "outputs": [],
   "source": [
    "# export\n",
    "# Imports\n",
    "import dit\n",
    "import math\n",
    "import os\n",
    "import logging\n",
    "\n",
    "import matplotlib.pyplot as plt\n",
    "import pandas as pd\n",
    "import sentencepiece as sp\n",
    "\n",
    "from collections import Counter\n",
    "from pathlib import Path\n",
    "from scipy.stats import sem, t\n",
    "from statistics import mean, median, stdev\n",
    "from tqdm.notebook import tqdm\n",
    "\n",
    "# ds4se\n",
    "from ds4se.mgmnt.prep.bpe import *\n",
    "from ds4se.exp.info import *\n",
    "from ds4se.desc.stats import *"
   ]
  },
  {
   "cell_type": "code",
   "execution_count": null,
   "metadata": {},
   "outputs": [],
   "source": [
    "java_path = Path('test_data/java/')"
   ]
  },
  {
   "cell_type": "code",
   "execution_count": null,
   "metadata": {},
   "outputs": [],
   "source": [
    "n_sample = int(len(code_df)*0.01)"
   ]
  },
  {
   "cell_type": "code",
   "execution_count": null,
   "metadata": {},
   "outputs": [],
   "source": [
    "sample_code_df = code_df.sample(n=n_sample)"
   ]
  },
  {
   "cell_type": "code",
   "execution_count": null,
   "metadata": {},
   "outputs": [
    {
     "data": {
      "text/plain": [
       "(4542, 9)"
      ]
     },
     "execution_count": null,
     "metadata": {},
     "output_type": "execute_result"
    }
   ],
   "source": [
    "sample_code_df.shape"
   ]
  },
  {
   "cell_type": "code",
   "execution_count": null,
   "metadata": {},
   "outputs": [],
   "source": [
    "sp_model_from_df(sample_code_df, output=java_path, model_name='_sp_bpe_modal', cols=['code'])"
   ]
  },
  {
   "cell_type": "code",
   "execution_count": null,
   "metadata": {},
   "outputs": [
    {
     "data": {
      "text/plain": [
       "True"
      ]
     },
     "execution_count": null,
     "metadata": {},
     "output_type": "execute_result"
    }
   ],
   "source": [
    "sp_processor = sp.SentencePieceProcessor()\n",
    "sp_processor.Load(f\"{java_path/'_sp_bpe_modal'}.model\")"
   ]
  },
  {
   "cell_type": "code",
   "execution_count": null,
   "metadata": {},
   "outputs": [
    {
     "data": {
      "text/plain": [
       "(454451, 4)"
      ]
     },
     "execution_count": null,
     "metadata": {},
     "output_type": "execute_result"
    }
   ],
   "source": [
    "java_src_code_df.shape"
   ]
  },
  {
   "cell_type": "code",
   "execution_count": null,
   "metadata": {},
   "outputs": [
    {
     "name": "stdout",
     "output_type": "stream",
     "text": [
      "4697\n"
     ]
    }
   ],
   "source": [
    "n_sample_4_sp = int(java_src_code_df.shape[0]*0.01)\n",
    "print(n_sample_4_sp)"
   ]
  },
  {
   "cell_type": "code",
   "execution_count": null,
   "metadata": {},
   "outputs": [],
   "source": [
    "java_code_df = java_src_code_df.sample(n=n_sample_4_sp)"
   ]
  },
  {
   "cell_type": "code",
   "execution_count": null,
   "metadata": {},
   "outputs": [
    {
     "data": {
      "text/plain": [
       "(4697, 4)"
      ]
     },
     "execution_count": null,
     "metadata": {},
     "output_type": "execute_result"
    }
   ],
   "source": [
    "java_code_df.shape"
   ]
  },
  {
   "cell_type": "code",
   "execution_count": null,
   "metadata": {},
   "outputs": [
    {
     "data": {
      "text/plain": [
       "(454273, 9)"
      ]
     },
     "execution_count": null,
     "metadata": {},
     "output_type": "execute_result"
    }
   ],
   "source": [
    "code_df.shape"
   ]
  },
  {
   "cell_type": "code",
   "execution_count": null,
   "metadata": {},
   "outputs": [],
   "source": [
    "# Use the model to compute each file's entropy\n",
    "java_doc_entropies = get_doc_entropies_from_df(code_df, 'code', java_path/'_sp_bpe_modal', ['src'])"
   ]
  },
  {
   "cell_type": "code",
   "execution_count": null,
   "metadata": {},
   "outputs": [
    {
     "data": {
      "text/plain": [
       "1"
      ]
     },
     "execution_count": null,
     "metadata": {},
     "output_type": "execute_result"
    }
   ],
   "source": [
    "len(java_doc_entropies)"
   ]
  },
  {
   "cell_type": "code",
   "execution_count": null,
   "metadata": {},
   "outputs": [],
   "source": [
    "# Use the model to compute each file's entropy\n",
    "java_corpus_entropies = get_corpus_entropies_from_df(code_df, 'code', java_path/'_sp_bpe_modal', ['src'])"
   ]
  },
  {
   "cell_type": "code",
   "execution_count": null,
   "metadata": {},
   "outputs": [
    {
     "data": {
      "text/plain": [
       "[9.12643213185743]"
      ]
     },
     "execution_count": null,
     "metadata": {},
     "output_type": "execute_result"
    }
   ],
   "source": [
    "java_corpus_entropies"
   ]
  },
  {
   "cell_type": "code",
   "execution_count": null,
   "metadata": {},
   "outputs": [],
   "source": [
    "# Use the model to compute each file's entropy\n",
    "java_system_entropy = get_system_entropy_from_df(code_df, 'code', java_path/'_sp_bpe_modal')"
   ]
  },
  {
   "cell_type": "code",
   "execution_count": null,
   "metadata": {},
   "outputs": [
    {
     "data": {
      "text/plain": [
       "9.12643213185743"
      ]
     },
     "execution_count": null,
     "metadata": {},
     "output_type": "execute_result"
    }
   ],
   "source": [
    "java_system_entropy"
   ]
  },
  {
   "cell_type": "code",
   "execution_count": null,
   "metadata": {},
   "outputs": [],
   "source": [
    "flatten = lambda l: [item for sublist in l for item in sublist]"
   ]
  },
  {
   "cell_type": "code",
   "execution_count": null,
   "metadata": {},
   "outputs": [
    {
     "name": "stdout",
     "output_type": "stream",
     "text": [
      "Max: 8.243390270233999\n",
      "Min: 2.737414125186698\n",
      "Average: 5.34903074730837\n",
      "Median: 5.280086943913392\n",
      "Standard Deviation: 0.6313616387023576\n",
      "Median Absolute Deviation: 0.6400322593429985\n",
      "95% of the data fall within 5.347194762952037 and 5.350866731664703\n"
     ]
    }
   ],
   "source": [
    "report_stats(flatten(java_doc_entropies))"
   ]
  },
  {
   "cell_type": "code",
   "execution_count": null,
   "metadata": {},
   "outputs": [
    {
     "data": {
      "text/plain": [
       "[[5.245495612143854,\n",
       "  4.5465935642949376,\n",
       "  5.427446404550867,\n",
       "  5.548809467523613,\n",
       "  4.098944003766904,\n",
       "  5.336063656722613,\n",
       "  4.9703592063004995,\n",
       "  5.140435164679311,\n",
       "  5.991590579348163,\n",
       "  5.101954821031465,\n",
       "  5.930929782121024,\n",
       "  5.808644613050604,\n",
       "  6.367948328773435,\n",
       "  4.738902979727636,\n",
       "  5.245910493123257,\n",
       "  6.5950826310591335,\n",
       "  6.630195276187333,\n",
       "  4.697893904731035,\n",
       "  5.44832008034993,\n",
       "  6.006204499748509,\n",
       "  5.557894788657961,\n",
       "  4.764590566193039,\n",
       "  5.093533079133442,\n",
       "  4.3246987351738495,\n",
       "  4.930473992176587,\n",
       "  5.191965003168265,\n",
       "  5.207992076411221,\n",
       "  4.4946803684089085,\n",
       "  5.637212067575417,\n",
       "  5.072894630970412,\n",
       "  4.245469029158445,\n",
       "  6.895436353131755,\n",
       "  5.855849171427602,\n",
       "  5.022591527173781,\n",
       "  5.40828994872828,\n",
       "  6.026890331328987,\n",
       "  4.65905679781665,\n",
       "  4.7077148025974385,\n",
       "  4.700025464432734,\n",
       "  4.467625290959291,\n",
       "  5.710631932445386,\n",
       "  5.441453549262331,\n",
       "  5.185230132909401,\n",
       "  5.838755811719876,\n",
       "  7.292381930651894,\n",
       "  4.979437446961112,\n",
       "  5.419877355035609,\n",
       "  5.278463942263842,\n",
       "  5.642109956820049,\n",
       "  5.392306748764156,\n",
       "  4.70179936359574,\n",
       "  5.113291367248341,\n",
       "  6.228456271928741,\n",
       "  6.724051114096193,\n",
       "  5.007916938291923,\n",
       "  4.680114505565234,\n",
       "  4.195816471537619,\n",
       "  5.619276287007002,\n",
       "  4.45810318023429,\n",
       "  4.652912982164126,\n",
       "  4.803508854797678,\n",
       "  5.63720739613471,\n",
       "  4.6875,\n",
       "  6.01754109705585,\n",
       "  5.308909408964986,\n",
       "  4.781036112553423,\n",
       "  4.640223928941852,\n",
       "  5.041964697442176,\n",
       "  4.871242411610579,\n",
       "  4.858793931365394,\n",
       "  5.186735931550651,\n",
       "  4.90402929685648,\n",
       "  4.939344672964182,\n",
       "  5.658265041647849,\n",
       "  5.4385235920384964,\n",
       "  4.273728829005326,\n",
       "  4.892147223664534,\n",
       "  4.233639952626227,\n",
       "  4.391272380112911,\n",
       "  6.032090741110537,\n",
       "  4.836565630242719,\n",
       "  6.237971251989324,\n",
       "  6.645145357451307,\n",
       "  6.164837456723964,\n",
       "  5.334912486359371,\n",
       "  5.498789242020582,\n",
       "  5.56292900967778,\n",
       "  5.517187276488421,\n",
       "  4.5514621540398,\n",
       "  6.269145634658343,\n",
       "  5.114231914176917,\n",
       "  5.249519697520264,\n",
       "  5.1397436967631185,\n",
       "  4.5077429145253145,\n",
       "  5.012867722759233,\n",
       "  6.1083757214654755,\n",
       "  5.989881534018818,\n",
       "  4.783174392094492,\n",
       "  4.994248540419304,\n",
       "  5.5963473647641715,\n",
       "  5.3165220774367485,\n",
       "  5.176829336854058,\n",
       "  4.774717489222171,\n",
       "  5.985880307742788,\n",
       "  5.427570871962778,\n",
       "  5.368521136185193,\n",
       "  5.134114598440174,\n",
       "  5.075610768801048,\n",
       "  4.931482357880577,\n",
       "  4.571860873964196,\n",
       "  5.049274940679378,\n",
       "  5.6732520905383454,\n",
       "  5.619619832241861,\n",
       "  5.244974852497252,\n",
       "  4.596900393657821,\n",
       "  4.80833664283211,\n",
       "  5.668879491199906,\n",
       "  4.244518891032037,\n",
       "  4.832056189880036,\n",
       "  5.364386108210765,\n",
       "  5.612701761778014,\n",
       "  6.074105089547821,\n",
       "  4.983364737054641,\n",
       "  5.335413601086868,\n",
       "  6.660974353881608,\n",
       "  5.310541962230101,\n",
       "  4.687125989868465,\n",
       "  5.698722868902927,\n",
       "  6.202997093006798,\n",
       "  4.678419619169108,\n",
       "  4.841958679121864,\n",
       "  4.789774913884097,\n",
       "  4.8992697018860785,\n",
       "  5.265319531114783,\n",
       "  6.476074444217765,\n",
       "  5.834479157235948,\n",
       "  4.820966638764424,\n",
       "  6.2178550646382815,\n",
       "  5.265297592341873,\n",
       "  5.644659929928651,\n",
       "  5.510995758795405,\n",
       "  4.497300040726041,\n",
       "  5.268504863154385,\n",
       "  5.16846567111059,\n",
       "  5.73954023071448,\n",
       "  4.715636186615866,\n",
       "  5.413383503028215,\n",
       "  4.388376603932548,\n",
       "  4.536670255656531,\n",
       "  5.905525925227082,\n",
       "  5.016088589983937,\n",
       "  5.8647118957984885,\n",
       "  5.966303092360245,\n",
       "  4.270567620343947,\n",
       "  4.751629167387822,\n",
       "  6.20843884789202,\n",
       "  4.590186520874929,\n",
       "  4.643371353743529,\n",
       "  5.330607953972842,\n",
       "  5.282781904484992,\n",
       "  4.805911448133581,\n",
       "  6.478976930035583,\n",
       "  5.159828119838421,\n",
       "  5.019060684834029,\n",
       "  5.529283016944968,\n",
       "  4.780076812474888,\n",
       "  5.437516880395126,\n",
       "  5.258907382047659,\n",
       "  5.979992705367543,\n",
       "  4.978315927901894,\n",
       "  5.319664492851913,\n",
       "  4.699044567092976,\n",
       "  4.59394270791827,\n",
       "  5.956372827092008,\n",
       "  4.893291230757241,\n",
       "  5.141072235872389,\n",
       "  6.094873459707021,\n",
       "  4.8047084963152615,\n",
       "  4.745283920105922,\n",
       "  4.728367439558379,\n",
       "  6.491681438045825,\n",
       "  4.766938851493514,\n",
       "  6.147860578441817,\n",
       "  4.954920459409161,\n",
       "  4.8030232845885985,\n",
       "  5.801438975293059,\n",
       "  4.8137218755408675,\n",
       "  5.043058177822069,\n",
       "  5.124093266315398,\n",
       "  4.541744485170487,\n",
       "  5.752974016960467,\n",
       "  5.631087158519504,\n",
       "  5.11406321384873,\n",
       "  4.481777156714118,\n",
       "  5.034580295757958,\n",
       "  5.853896739918841,\n",
       "  6.385806356490614,\n",
       "  5.5603977147609225,\n",
       "  6.1394750939866825,\n",
       "  5.46091144219715,\n",
       "  4.821876616802766,\n",
       "  5.129218277671673,\n",
       "  5.143452332381286,\n",
       "  4.900229543120968,\n",
       "  4.430198929422623,\n",
       "  4.733881588815122,\n",
       "  5.083645206337889,\n",
       "  5.603683263103968,\n",
       "  5.465540965190746,\n",
       "  5.406047259488945,\n",
       "  4.930236263304879,\n",
       "  4.770972031480868,\n",
       "  4.704511459715549,\n",
       "  4.436006945330955,\n",
       "  7.159575088491018,\n",
       "  5.148932755752035,\n",
       "  5.0331841754063085,\n",
       "  5.037696988526014,\n",
       "  6.729962106222613,\n",
       "  4.854844295535716,\n",
       "  5.191024413893478,\n",
       "  5.465234022893696,\n",
       "  4.454822399946607,\n",
       "  4.679405699044488,\n",
       "  4.581699460425952,\n",
       "  5.705728859356868,\n",
       "  4.660775605889718,\n",
       "  4.351823225551765,\n",
       "  4.5625,\n",
       "  4.629003731107053,\n",
       "  6.164653882855945,\n",
       "  4.805919788081815,\n",
       "  4.6557912445918594,\n",
       "  5.2307931776978895,\n",
       "  6.126880195280917,\n",
       "  4.843614485003471,\n",
       "  5.173893150779032,\n",
       "  6.486395659970476,\n",
       "  4.280226253673659,\n",
       "  4.544468840054075,\n",
       "  5.717294887838169,\n",
       "  5.0076601035393065,\n",
       "  5.324009085871038,\n",
       "  5.183424224539236,\n",
       "  4.953111365592571,\n",
       "  4.514718016821339,\n",
       "  5.71661526790761,\n",
       "  4.172548554053752,\n",
       "  5.42763549345827,\n",
       "  5.50202529835392,\n",
       "  5.59942090926698,\n",
       "  4.324270834457101,\n",
       "  4.220175521464345,\n",
       "  4.942105444308977,\n",
       "  5.32993654814261,\n",
       "  4.71929452566698,\n",
       "  5.2814271266496755,\n",
       "  5.001938524749168,\n",
       "  4.9227349713792385,\n",
       "  5.350311532168718,\n",
       "  4.455542527154549,\n",
       "  4.598904996955671,\n",
       "  4.325070520364183,\n",
       "  4.993614958484103,\n",
       "  6.428345249911563,\n",
       "  5.177419299932019,\n",
       "  4.864610099173097,\n",
       "  5.704100345616033,\n",
       "  5.170462940140172,\n",
       "  5.462161333143527,\n",
       "  5.626851195772945,\n",
       "  5.036616208140156,\n",
       "  4.618047426836301,\n",
       "  5.084949799293933,\n",
       "  4.43241309360859,\n",
       "  4.24173085589259,\n",
       "  5.646167769468135,\n",
       "  6.018910619067681,\n",
       "  4.707714802597438,\n",
       "  4.553651676264344,\n",
       "  4.985692559041376,\n",
       "  5.3427687676029345,\n",
       "  6.640051849969909,\n",
       "  4.538909765557392,\n",
       "  6.087546972504131,\n",
       "  5.290695496520601,\n",
       "  5.902071696175951,\n",
       "  5.981728727063725,\n",
       "  6.541178656502758,\n",
       "  4.923596105825639,\n",
       "  5.738901373274749,\n",
       "  6.748287567749066,\n",
       "  4.565746029138525,\n",
       "  4.631305423879507,\n",
       "  5.739333656719508,\n",
       "  4.83418371977919,\n",
       "  4.4114553272748696,\n",
       "  4.716950480069536,\n",
       "  5.14908252530417,\n",
       "  6.133749683136019,\n",
       "  5.137317356120341,\n",
       "  5.142664355548851,\n",
       "  5.985786994814446,\n",
       "  4.586009437741917,\n",
       "  5.703245727966873,\n",
       "  4.792816110390281,\n",
       "  4.5591156956961365,\n",
       "  4.886842188131012,\n",
       "  5.605677255192065,\n",
       "  4.596483105491916,\n",
       "  5.122132257135992,\n",
       "  5.451277715423476,\n",
       "  5.240168898701707,\n",
       "  4.208410187268526,\n",
       "  4.3928941476196215,\n",
       "  4.683900854840987,\n",
       "  4.82042212625918,\n",
       "  4.7019435649606205,\n",
       "  4.4530050748517365,\n",
       "  4.7485152345447545,\n",
       "  6.848427339268358,\n",
       "  5.620691408070973,\n",
       "  5.66578546592533,\n",
       "  6.437286119960846,\n",
       "  4.729283016944965,\n",
       "  6.516597948477193,\n",
       "  5.561159877495439,\n",
       "  5.311733691610206,\n",
       "  5.446343024992798,\n",
       "  5.218128820706468,\n",
       "  4.733667012578941,\n",
       "  5.25764643032292,\n",
       "  5.458987300258799,\n",
       "  6.245082394905899,\n",
       "  4.51364592935837,\n",
       "  4.941744485170487,\n",
       "  4.767912321814562,\n",
       "  5.489393062805573,\n",
       "  5.953599623696289,\n",
       "  5.526807994859421,\n",
       "  4.8853184221692265,\n",
       "  5.2515434280182145,\n",
       "  4.701746263386653,\n",
       "  4.6848855777244305,\n",
       "  6.219715600212155,\n",
       "  4.848367439558378,\n",
       "  4.385453417442482,\n",
       "  6.493136663938145,\n",
       "  4.921192131632841,\n",
       "  5.151816195083807,\n",
       "  6.019540171287495,\n",
       "  5.496800238701369,\n",
       "  5.33074480199565,\n",
       "  5.113898507747869,\n",
       "  5.86161634495165,\n",
       "  5.832130220214857,\n",
       "  6.248845356579532,\n",
       "  4.85216872360328,\n",
       "  5.842493415933706,\n",
       "  6.1076435880890045,\n",
       "  5.869375174644414,\n",
       "  5.945608557996106,\n",
       "  6.909428204085842,\n",
       "  5.316453556042234,\n",
       "  4.410417252760519,\n",
       "  5.269023764175995,\n",
       "  4.637801394756449,\n",
       "  5.533829141228955,\n",
       "  4.692512308620874,\n",
       "  6.156490711283346,\n",
       "  6.496996219912728,\n",
       "  6.162240424669749,\n",
       "  7.070173024922295,\n",
       "  5.155463455074244,\n",
       "  4.8437064692952125,\n",
       "  5.095175521464347,\n",
       "  5.279992330885065,\n",
       "  5.326691795719877,\n",
       "  5.53541663663327,\n",
       "  4.7841837197791905,\n",
       "  4.796890590538007,\n",
       "  4.181687083026443,\n",
       "  4.912650136080645,\n",
       "  6.089340956691705,\n",
       "  5.548599992597852,\n",
       "  5.992448766107619,\n",
       "  6.831265677318237,\n",
       "  5.231746181697386,\n",
       "  5.745183651715509,\n",
       "  6.663077966625778,\n",
       "  5.406274440825329,\n",
       "  5.037913619435015,\n",
       "  5.162119398245475,\n",
       "  4.6479826863066265,\n",
       "  5.513129093669634,\n",
       "  5.383248987135128,\n",
       "  5.343839053870472,\n",
       "  4.376010789042101,\n",
       "  4.109577650610446,\n",
       "  6.587989255098399,\n",
       "  5.435654372664959,\n",
       "  5.178864088188098,\n",
       "  4.781707114997672,\n",
       "  4.7664824193882325,\n",
       "  5.3595066141412255,\n",
       "  5.629522678916171,\n",
       "  5.392572056167381,\n",
       "  5.952971429365314,\n",
       "  5.781189589484643,\n",
       "  6.597714746468824,\n",
       "  5.268220889818394,\n",
       "  4.802915339393917,\n",
       "  6.154422769631996,\n",
       "  5.3310271210863105,\n",
       "  6.127025166956688,\n",
       "  4.994828929102289,\n",
       "  5.089898095464287,\n",
       "  4.882327333758177,\n",
       "  6.235920313462039,\n",
       "  4.928105531127987,\n",
       "  6.032073632932796,\n",
       "  4.560667282798392,\n",
       "  5.3028688851461645,\n",
       "  5.128236172979405,\n",
       "  5.566964572420148,\n",
       "  5.274452542130933,\n",
       "  5.814250270981174,\n",
       "  5.2493514192656106,\n",
       "  4.910659862177841,\n",
       "  6.238690739623838,\n",
       "  4.772581706041735,\n",
       "  5.174136168795205,\n",
       "  5.016471060589816,\n",
       "  5.4174910566759245,\n",
       "  4.219885615610767,\n",
       "  5.900028746981112,\n",
       "  5.3925358365527565,\n",
       "  6.454898856910627,\n",
       "  5.813884789307033,\n",
       "  5.304125992500346,\n",
       "  5.434098586292223,\n",
       "  5.070457415934111,\n",
       "  5.223111256409172,\n",
       "  5.339082757912255,\n",
       "  4.722435394086042,\n",
       "  6.654690657627649,\n",
       "  5.326855930634632,\n",
       "  5.727601504449797,\n",
       "  5.504830701559003,\n",
       "  5.461067886623877,\n",
       "  5.757787367978478,\n",
       "  6.978306278382203,\n",
       "  5.291729691561257,\n",
       "  4.601409765557392,\n",
       "  5.928959704693518,\n",
       "  5.104101194146833,\n",
       "  4.24173085589259,\n",
       "  5.109668527990382,\n",
       "  5.574090645430333,\n",
       "  5.19423567775942,\n",
       "  5.47627469362037,\n",
       "  4.5724312513221195,\n",
       "  5.853615646001723,\n",
       "  5.119599828876181,\n",
       "  5.51121524388754,\n",
       "  6.106005475214273,\n",
       "  5.470580256526134,\n",
       "  5.291246101210998,\n",
       "  4.91179001227251,\n",
       "  4.821131346258609,\n",
       "  5.720904582220362,\n",
       "  4.8176586429269275,\n",
       "  5.562763348985724,\n",
       "  4.526986833359286,\n",
       "  6.547766059486948,\n",
       "  6.130615217126677,\n",
       "  4.848581960971427,\n",
       "  4.85056969651225,\n",
       "  4.32323142879762,\n",
       "  5.208985545926398,\n",
       "  6.794522115630006,\n",
       "  4.8036317646322315,\n",
       "  5.47722915939295,\n",
       "  5.453055907333276,\n",
       "  5.764012435994963,\n",
       "  5.25131153531029,\n",
       "  4.403856189774724,\n",
       "  4.995886173419857,\n",
       "  4.687826097075808,\n",
       "  6.2842829826594695,\n",
       "  5.701125871352203,\n",
       "  4.845790671945611,\n",
       "  4.413716068381602,\n",
       "  5.260041333801952,\n",
       "  5.8549867417936,\n",
       "  5.766351169953777,\n",
       "  4.345118467927183,\n",
       "  4.578638720860853,\n",
       "  4.643864794676718,\n",
       "  4.743361229801266,\n",
       "  4.583645113871437,\n",
       "  5.293010650792386,\n",
       "  6.417354191435822,\n",
       "  5.72933794098695,\n",
       "  4.902174814211728,\n",
       "  5.348579066237656,\n",
       "  5.289166499564646,\n",
       "  5.667877765883198,\n",
       "  6.112615306327304,\n",
       "  4.641357419449117,\n",
       "  5.562993909160284,\n",
       "  4.871928094887365,\n",
       "  6.738352832758322,\n",
       "  4.957854445516395,\n",
       "  6.334620176838667,\n",
       "  5.961214556568632,\n",
       "  5.842347050919597,\n",
       "  6.4255477736374145,\n",
       "  4.612814895472357,\n",
       "  5.960080923345667,\n",
       "  4.900249689189367,\n",
       "  4.959650117217434,\n",
       "  3.973660689688186,\n",
       "  5.2512065438270925,\n",
       "  5.014150047320381,\n",
       "  5.457094749522805,\n",
       "  4.743465189601649,\n",
       "  4.953565664946426,\n",
       "  4.5239860659612985,\n",
       "  5.262845727714872,\n",
       "  5.644905756356656,\n",
       "  6.072245151170164,\n",
       "  5.320181497847635,\n",
       "  5.303568860349057,\n",
       "  4.591552063301485,\n",
       "  5.127918415494728,\n",
       "  4.829440244490356,\n",
       "  5.7736173825820405,\n",
       "  4.491443355765328,\n",
       "  5.155331906491077,\n",
       "  4.566108939837479,\n",
       "  6.245511514231645,\n",
       "  5.988187060986099,\n",
       "  4.59445640611102,\n",
       "  4.657882376868653,\n",
       "  4.066108939837481,\n",
       "  6.07421686393357,\n",
       "  5.521637348895644,\n",
       "  5.552859444700301,\n",
       "  6.7141818120752905,\n",
       "  5.269738124149924,\n",
       "  6.345609647962894,\n",
       "  5.670634053168228,\n",
       "  5.799721011219016,\n",
       "  6.0540598273723605,\n",
       "  5.888027589946539,\n",
       "  4.9260374290200755,\n",
       "  6.270869423989112,\n",
       "  4.941087537594399,\n",
       "  5.318485851777162,\n",
       "  5.703896541459292,\n",
       "  5.682482613858573,\n",
       "  5.3145746268449745,\n",
       "  4.787143960698141,\n",
       "  5.694913417363556,\n",
       "  4.418157288156419,\n",
       "  5.923619101632251,\n",
       "  5.198245434670841,\n",
       "  5.342012353908642,\n",
       "  5.361375544222946,\n",
       "  5.230772464710948,\n",
       "  5.210686924104363,\n",
       "  4.887096150721339,\n",
       "  5.730241875723458,\n",
       "  4.7353623703662056,\n",
       "  4.804058068605273,\n",
       "  5.634105644592836,\n",
       "  5.148134856236704,\n",
       "  4.937852249605251,\n",
       "  4.87830553023108,\n",
       "  5.215051130627117,\n",
       "  4.899313908131243,\n",
       "  4.650661513678569,\n",
       "  5.176957918564925,\n",
       "  4.6193895044597815,\n",
       "  5.743613777498138,\n",
       "  5.863727202122462,\n",
       "  5.344580706230786,\n",
       "  6.442758886060343,\n",
       "  4.7077148025974385,\n",
       "  6.29976884753731,\n",
       "  5.568669906073687,\n",
       "  5.336971183377153,\n",
       "  5.428025683078543,\n",
       "  5.158340206770248,\n",
       "  6.438079591386898,\n",
       "  5.671282849818126,\n",
       "  4.32172123104524,\n",
       "  5.449995043334097,\n",
       "  6.9354683543716735,\n",
       "  5.046690006752934,\n",
       "  5.201659669183334,\n",
       "  5.109668527990381,\n",
       "  5.204301190931214,\n",
       "  5.963369566654597,\n",
       "  5.476607433569359,\n",
       "  4.7019435649606205,\n",
       "  5.183542362433231,\n",
       "  5.058866153810547,\n",
       "  5.54407124317728,\n",
       "  4.653332455921488,\n",
       "  5.254680628263714,\n",
       "  5.352911771233626,\n",
       "  5.159925042339053,\n",
       "  4.7114216412460355,\n",
       "  4.7153744320139195,\n",
       "  4.701746263386653,\n",
       "  4.828758439731455,\n",
       "  6.564337293195247,\n",
       "  4.711272380112912,\n",
       "  5.514665303364995,\n",
       "  4.878536989745353,\n",
       "  5.005758675304829,\n",
       "  4.453188816197031,\n",
       "  5.748539223256522,\n",
       "  5.617664772970547,\n",
       "  7.2324769694914615,\n",
       "  4.964978182833633,\n",
       "  5.463697650692493,\n",
       "  5.873320203552975,\n",
       "  6.178996514497694,\n",
       "  5.750199093862682,\n",
       "  5.234936407676284,\n",
       "  5.081586267019416,\n",
       "  4.91696667632336,\n",
       "  4.75850772830596,\n",
       "  5.212469193588306,\n",
       "  5.122577070242064,\n",
       "  5.106039608153186,\n",
       "  5.086866673115626,\n",
       "  4.869904201258116,\n",
       "  6.005377931041523,\n",
       "  6.141099082010748,\n",
       "  5.182887139771006,\n",
       "  4.490296503327815,\n",
       "  5.1023685666941425,\n",
       "  4.4622883690707695,\n",
       "  5.228758439731456,\n",
       "  4.160250246633719,\n",
       "  5.963791273956849,\n",
       "  4.573989606221565,\n",
       "  4.933322169263462,\n",
       "  5.725284447669079,\n",
       "  6.09123143424946,\n",
       "  4.306732207121424,\n",
       "  6.0101992959351405,\n",
       "  4.6833845105755945,\n",
       "  5.538402815334881,\n",
       "  5.085503944337821,\n",
       "  5.701835191768518,\n",
       "  5.0790005869422705,\n",
       "  6.149783484993922,\n",
       "  5.053970268795785,\n",
       "  5.030257398852288,\n",
       "  4.364857659740295,\n",
       "  4.735727440718715,\n",
       "  6.54389490985109,\n",
       "  6.1030430323688405,\n",
       "  4.681654263285598,\n",
       "  5.79908002396077,\n",
       "  5.7304361962162265,\n",
       "  6.3252967890366225,\n",
       "  6.854760988956561,\n",
       "  4.701344793050648,\n",
       "  5.104106782714109,\n",
       "  4.271272380112911,\n",
       "  5.705886618888662,\n",
       "  5.071581588126284,\n",
       "  6.769496884108125,\n",
       "  4.536670255656531,\n",
       "  5.468838052055152,\n",
       "  5.213286549057183,\n",
       "  4.481727678869737,\n",
       "  6.262437146823096,\n",
       "  5.5316984182151625,\n",
       "  5.558917713411919,\n",
       "  4.446439344671016,\n",
       "  6.745752283077181,\n",
       "  5.162573265150913,\n",
       "  6.0246145146475545,\n",
       "  5.597243997699451,\n",
       "  5.15848005959409,\n",
       "  5.2852942093616955,\n",
       "  5.372192594032974,\n",
       "  4.716971518573992,\n",
       "  5.14394326228122,\n",
       "  5.034675511035566,\n",
       "  4.921029621737615,\n",
       "  5.324342097922856,\n",
       "  4.7745188947271355,\n",
       "  4.625053839880555,\n",
       "  5.258837222833834,\n",
       "  5.652705049810074,\n",
       "  5.419418463268977,\n",
       "  5.37154011882698,\n",
       "  5.2611279976503225,\n",
       "  6.126484784219022,\n",
       "  5.679033828806959,\n",
       "  4.708473395020796,\n",
       "  4.768947021993018,\n",
       "  5.1183392314127065,\n",
       "  6.015363259029153,\n",
       "  6.789207221130139,\n",
       "  5.3257887005708255,\n",
       "  6.257423511890256,\n",
       "  6.881029090511277,\n",
       "  4.857676351631607,\n",
       "  5.071762239033053,\n",
       "  5.704220799248966,\n",
       "  6.674609652486632,\n",
       "  4.855070844091113,\n",
       "  4.621928094887363,\n",
       "  5.808116386701315,\n",
       "  4.793190496201888,\n",
       "  5.953886838128124,\n",
       "  5.770433739407807,\n",
       "  5.346225868535944,\n",
       "  6.127348116349184,\n",
       "  6.1885370562777124,\n",
       "  5.788508105193451,\n",
       "  5.6501248950031595,\n",
       "  4.732158891364568,\n",
       "  4.675310868912363,\n",
       "  6.057765370213137,\n",
       "  4.6312929881819,\n",
       "  5.6399112214500144,\n",
       "  5.5350403569877225,\n",
       "  6.345230632598646,\n",
       "  4.807009421281391,\n",
       "  4.7748873515633115,\n",
       "  5.268640233143389,\n",
       "  5.701379434140007,\n",
       "  5.124838906329948,\n",
       "  4.726801439620117,\n",
       "  5.209049084686343,\n",
       "  6.787238889888423,\n",
       "  5.183717647648016,\n",
       "  5.798371114923068,\n",
       "  5.06022295138324,\n",
       "  4.976386295376454,\n",
       "  5.807448802241049,\n",
       "  5.21067003032422,\n",
       "  5.72892118567898,\n",
       "  5.347636642509799,\n",
       "  5.100111024636089,\n",
       "  5.361373769664155,\n",
       "  5.180063254367905,\n",
       "  4.79508858639773,\n",
       "  5.503767856368292,\n",
       "  5.093162794495677,\n",
       "  4.714772144417825,\n",
       "  5.087698366223769,\n",
       "  5.811028395048419,\n",
       "  5.980894793302382,\n",
       "  6.152494316257174,\n",
       "  5.855244843601653,\n",
       "  6.074218253269987,\n",
       "  5.465749532891693,\n",
       "  5.304426964684142,\n",
       "  5.013358105941457,\n",
       "  5.394531545943952,\n",
       "  6.024357831458154,\n",
       "  5.756315381899402,\n",
       "  4.083856189774725,\n",
       "  5.867691591124497,\n",
       "  5.4220670436645495,\n",
       "  6.583834426597315,\n",
       "  4.817052925307968,\n",
       "  5.431327032266604,\n",
       "  5.25247383170061,\n",
       "  5.5133612526916655,\n",
       "  6.778886102274225,\n",
       "  6.305315815816551,\n",
       "  5.010431638917466,\n",
       "  4.31562257082666,\n",
       "  6.130735068583084,\n",
       "  6.284564919963527,\n",
       "  4.711830543710898,\n",
       "  4.926078116003143,\n",
       "  5.303820395224833,\n",
       "  4.966370130156181,\n",
       "  5.897302019255617,\n",
       "  6.583376831602081,\n",
       "  5.372187505252491,\n",
       "  4.993004403972197,\n",
       "  4.845960743265915,\n",
       "  5.977719724329494,\n",
       "  4.909112771133309,\n",
       "  4.51570015803125,\n",
       "  6.372819105642842,\n",
       "  5.32782645778031,\n",
       "  5.945598893413845,\n",
       "  4.47823219741386,\n",
       "  5.561974952826691,\n",
       "  4.533231679495548,\n",
       "  5.668256667429726,\n",
       "  5.7641845240441425,\n",
       "  5.965597785951622,\n",
       "  6.023119595739001,\n",
       "  5.800498926461648,\n",
       "  4.418157288156419,\n",
       "  6.247635843636854,\n",
       "  6.040942883873801,\n",
       "  4.430313437343592,\n",
       "  5.9455444028203726,\n",
       "  5.307979602602441,\n",
       "  6.120921031501558,\n",
       "  4.810672622327238,\n",
       "  5.911542372882631,\n",
       "  5.907469806354424,\n",
       "  4.2107645737727895,\n",
       "  4.631305423879507,\n",
       "  4.97220856685809,\n",
       "  5.1548709329626305,\n",
       "  4.977828168255839,\n",
       "  5.431151216499006,\n",
       "  5.254717731136165,\n",
       "  4.640570160542445,\n",
       "  5.2138934026091155,\n",
       "  4.502583407161069,\n",
       "  3.820613179819964,\n",
       "  6.569341153664166,\n",
       "  4.625409028482011,\n",
       "  5.954328042186551,\n",
       "  5.418812214316649,\n",
       "  5.8889433171234415,\n",
       "  6.1702629183416375,\n",
       "  4.385453417442482,\n",
       "  5.117547949145269,\n",
       "  4.5,\n",
       "  5.014443689314448,\n",
       "  5.533276327034221,\n",
       "  5.235328256422842,\n",
       "  4.931656066659802,\n",
       "  5.230515506437638,\n",
       "  5.340547669307735,\n",
       "  4.277613436819115,\n",
       "  5.882253248033659,\n",
       "  5.207014904638033,\n",
       "  5.675063169360191,\n",
       "  5.327724314055787,\n",
       "  4.753225616242672,\n",
       "  7.071782560466861,\n",
       "  5.476409765557392,\n",
       "  6.873730933523701,\n",
       "  5.323822201987809,\n",
       "  6.496177914824203,\n",
       "  5.88406276092725,\n",
       "  4.51270588934496,\n",
       "  5.528639311838576,\n",
       "  4.550648837157837,\n",
       "  5.245092927934191,\n",
       "  5.315151562363839,\n",
       "  5.034774413893479,\n",
       "  4.629412138272088,\n",
       "  4.684044270856023,\n",
       "  4.479195257286954,\n",
       "  4.9260374290200755,\n",
       "  5.702048613499513,\n",
       "  5.067685559415721,\n",
       "  5.181761023656137,\n",
       "  4.625053839880555,\n",
       "  4.867547949145271,\n",
       "  5.554022483349359,\n",
       "  5.160150744192834,\n",
       "  4.558181295841023,\n",
       "  4.16829583405449,\n",
       "  5.744778980465637,\n",
       "  6.042813895540854,\n",
       "  5.096930695423675,\n",
       "  4.40637013015618,\n",
       "  4.540402352056965,\n",
       "  5.910668424515323,\n",
       "  5.650455553255799,\n",
       "  6.11208597743254,\n",
       "  5.999537359320038,\n",
       "  5.040156860408859,\n",
       "  5.09784849472006,\n",
       "  5.589252077208365,\n",
       "  5.486169237974857,\n",
       "  4.650319430638476,\n",
       "  5.722700396662182,\n",
       "  5.344384532235917,\n",
       "  5.0675323294562125,\n",
       "  5.035946653015177,\n",
       "  5.45719885417416,\n",
       "  5.2549966622230215,\n",
       "  6.751497584648359,\n",
       "  4.887744510922051,\n",
       "  4.657882376868653,\n",
       "  4.66346983251804,\n",
       "  5.803979902007125,\n",
       "  5.103249313906583,\n",
       "  5.095027827723916,\n",
       "  5.974449332855356,\n",
       "  4.877394335127369,\n",
       "  4.812113228027432,\n",
       "  4.605757474531293,\n",
       "  4.508521816141529,\n",
       "  5.2697381241499235,\n",
       "  5.472385033668694,\n",
       "  4.2339466645252255,\n",
       "  6.582614582227134,\n",
       "  6.11814756475933,\n",
       "  4.331976694984911,\n",
       "  6.384916414846007,\n",
       "  6.201670069738384,\n",
       "  4.850887058883389,\n",
       "  4.814371943179626,\n",
       "  5.6470552088742005,\n",
       "  4.859923100298251,\n",
       "  4.498939573903908,\n",
       "  5.037608021917713,\n",
       "  5.003044786734203,\n",
       "  5.749643376250187,\n",
       "  4.4496987351738495,\n",
       "  5.782822917865428,\n",
       "  5.830826626251271,\n",
       "  4.932005814760213,\n",
       "  5.701090336411772,\n",
       "  5.141621608755251,\n",
       "  5.3931524260475925,\n",
       "  5.561830866975319,\n",
       "  4.488506136056213,\n",
       "  4.411758105264181,\n",
       "  5.339287327367603,\n",
       "  4.732231134430872,\n",
       "  5.286058407420886,\n",
       "  6.93357817323002,\n",
       "  5.599076902257892,\n",
       "  5.114258047632621,\n",
       "  5.497424709117948,\n",
       "  4.908535064941462,\n",
       "  4.970366243218074,\n",
       "  6.6812313241887065,\n",
       "  5.604739078261905,\n",
       "  5.6899084133809685,\n",
       "  6.063895343009145,\n",
       "  4.791635874011298,\n",
       "  4.78418371977919,\n",
       "  5.571465275406608,\n",
       "  4.713551418576457,\n",
       "  4.508465843891408,\n",
       "  6.0433122489146625,\n",
       "  4.562642178750745,\n",
       "  5.9493542062909635,\n",
       "  6.135392708566838,\n",
       "  4.8086671894113175,\n",
       "  6.630331146353209,\n",
       "  6.520418167189185,\n",
       "  5.106949132758151,\n",
       "  5.791415595437559,\n",
       "  5.121115365169274,\n",
       "  6.2137939836929625,\n",
       "  5.388633034753868,\n",
       "  5.709934187172653,\n",
       "  5.560234585726608,\n",
       "  5.942612967736332,\n",
       "  5.528334819533806,\n",
       "  4.682162149295791,\n",
       "  5.793187578207975,\n",
       "  5.902813236034042,\n",
       "  5.717517093983919,\n",
       "  5.649428623739289,\n",
       "  4.205476425028264,\n",
       "  4.933166987583263,\n",
       "  7.14498696992175,\n",
       "  4.871272380112912,\n",
       "  4.826946607093775,\n",
       "  5.2476410158411415,\n",
       "  5.03878862937097,\n",
       "  5.420191026294643,\n",
       "  5.418215386782883,\n",
       "  5.5502931581546004,\n",
       "  4.7790944980807755,\n",
       "  4.64162973485082,\n",
       "  5.160114397106066,\n",
       "  4.714905235040148,\n",
       "  6.025313938046123,\n",
       "  5.223175707091899,\n",
       "  5.643709865625333,\n",
       "  5.4098344645842165,\n",
       "  6.3029692538391915,\n",
       "  4.864726676381292,\n",
       "  5.047018564441102,\n",
       "  5.728591299194788,\n",
       "  4.479195257286953,\n",
       "  6.285494377346048,\n",
       "  5.457939355321115,\n",
       "  5.7324270875477525,\n",
       "  ...]]"
      ]
     },
     "execution_count": null,
     "metadata": {},
     "output_type": "execute_result"
    }
   ],
   "source": [
    "java_doc_entropies"
   ]
  },
  {
   "cell_type": "code",
   "execution_count": null,
   "metadata": {},
   "outputs": [
    {
     "data": {
      "image/png": "[encoded data removed]",
      "text/plain": [
       "<Figure size 432x288 with 1 Axes>"
      ]
     },
     "metadata": {
      "needs_background": "light"
     },
     "output_type": "display_data"
    }
   ],
   "source": [
    "# Create a histogram of the entropy distribution\n",
    "plt.hist(java_doc_entropies,bins = 20, color=\"blue\", alpha=0.5, edgecolor=\"black\", linewidth=1.0)\n",
    "plt.title('Entropy histogram')\n",
    "plt.ylabel(\"Num records\")\n",
    "plt.xlabel(\"Entropy score\")\n",
    "plt.show()"
   ]
  },
  {
   "cell_type": "code",
   "execution_count": null,
   "metadata": {},
   "outputs": [
    {
     "data": {
      "text/plain": [
       "{'whiskers': [<matplotlib.lines.Line2D at 0x7f0d9340f240>,\n",
       "  <matplotlib.lines.Line2D at 0x7f0d9340f588>],\n",
       " 'caps': [<matplotlib.lines.Line2D at 0x7f0d9340f8d0>,\n",
       "  <matplotlib.lines.Line2D at 0x7f0d9340fc18>],\n",
       " 'boxes': [<matplotlib.lines.Line2D at 0x7f0d93402e80>],\n",
       " 'medians': [<matplotlib.lines.Line2D at 0x7f0d9340ff60>],\n",
       " 'fliers': [<matplotlib.lines.Line2D at 0x7f0d934182e8>],\n",
       " 'means': []}"
      ]
     },
     "execution_count": null,
     "metadata": {},
     "output_type": "execute_result"
    },
    {
     "data": {
      "image/png": "[encoded data removed]",
      "text/plain": [
       "<Figure size 432x288 with 1 Axes>"
      ]
     },
     "metadata": {
      "needs_background": "light"
     },
     "output_type": "display_data"
    }
   ],
   "source": [
    "fig1, ax1 = plt.subplots()\n",
    "ax1.set_title('Entropy box plot')\n",
    "ax1.boxplot(java_doc_entropies, vert=False)"
   ]
  },
  {
   "cell_type": "markdown",
   "metadata": {},
   "source": [
    "## Descriptive metrics"
   ]
  },
  {
   "cell_type": "code",
   "execution_count": null,
   "metadata": {},
   "outputs": [
    {
     "name": "stdout",
     "output_type": "stream",
     "text": [
      "Requirement already satisfied: lizard in /usr/local/lib/python3.6/dist-packages (1.17.3)\n",
      "\u001b[33mWARNING: You are using pip version 20.0.2; however, version 20.1.1 is available.\n",
      "You should consider upgrading via the '/usr/bin/python3 -m pip install --upgrade pip' command.\u001b[0m\n",
      "Requirement already satisfied: tree_sitter in /usr/local/lib/python3.6/dist-packages (0.1.1)\n",
      "\u001b[33mWARNING: You are using pip version 20.0.2; however, version 20.1.1 is available.\n",
      "You should consider upgrading via the '/usr/bin/python3 -m pip install --upgrade pip' command.\u001b[0m\n",
      "Requirement already satisfied: bs4 in /usr/local/lib/python3.6/dist-packages (0.0.1)\n",
      "Requirement already satisfied: beautifulsoup4 in /usr/local/lib/python3.6/dist-packages (from bs4) (4.9.1)\n",
      "Requirement already satisfied: soupsieve>1.2 in /usr/local/lib/python3.6/dist-packages (from beautifulsoup4->bs4) (2.0.1)\n",
      "\u001b[33mWARNING: You are using pip version 20.0.2; however, version 20.1.1 is available.\n",
      "You should consider upgrading via the '/usr/bin/python3 -m pip install --upgrade pip' command.\u001b[0m\n"
     ]
    }
   ],
   "source": [
    "#Libraries used in ds4se.desc.metrics.java nb\n",
    "\n",
    "!pip install lizard\n",
    "!pip install tree_sitter\n",
    "!pip install bs4"
   ]
  },
  {
   "cell_type": "code",
   "execution_count": null,
   "metadata": {},
   "outputs": [],
   "source": [
    "from ds4se.desc.metrics import *\n",
    "from ds4se.desc.metrics.java import *\n",
    "import lizard\n",
    "import chardet"
   ]
  },
  {
   "cell_type": "code",
   "execution_count": null,
   "metadata": {},
   "outputs": [
    {
     "data": {
      "text/html": [
       "<div>\n",
       "<style scoped>\n",
       "    .dataframe tbody tr th:only-of-type {\n",
       "        vertical-align: middle;\n",
       "    }\n",
       "\n",
       "    .dataframe tbody tr th {\n",
       "        vertical-align: top;\n",
       "    }\n",
       "\n",
       "    .dataframe thead th {\n",
       "        text-align: right;\n",
       "    }\n",
       "</style>\n",
       "<table border=\"1\" class=\"dataframe\">\n",
       "  <thead>\n",
       "    <tr style=\"text-align: right;\">\n",
       "      <th></th>\n",
       "      <th>code</th>\n",
       "      <th>code_tokens</th>\n",
       "      <th>code_len</th>\n",
       "      <th>partition</th>\n",
       "      <th>data_type</th>\n",
       "    </tr>\n",
       "  </thead>\n",
       "  <tbody>\n",
       "    <tr>\n",
       "      <th>0</th>\n",
       "      <td>protected final void fastPathOrderedEmit(U value, boolean delayError, Disposable disposable) {\\n        final Observer&lt;? super V&gt; observer = downstream;\\n        final SimplePlainQueue&lt;U&gt; q = queue;\\n\\n        if (wip.get() == 0 &amp;&amp; wip.compareAndSet(0, 1)) {\\n            if (q.isEmpty()) {\\n    ...</td>\n",
       "      <td>[protected, final, void, fastPathOrderedEmit, (, U, value, ,, boolean, delayError, ,, Disposable, disposable, ), {, final, Observer, &lt;, ?, super, V, &gt;, observer, =, downstream, ;, final, SimplePlainQueue, &lt;, U, &gt;, q, =, queue, ;, if, (, wip, ., get, (, ), ==, 0, &amp;&amp;, wip, ., compareAndSet, (, 0, ...</td>\n",
       "      <td>134</td>\n",
       "      <td>test</td>\n",
       "      <td>src</td>\n",
       "    </tr>\n",
       "  </tbody>\n",
       "</table>\n",
       "</div>"
      ],
      "text/plain": [
       "                                                                                                                                                                                                                                                                                                          code  \\\n",
       "0  protected final void fastPathOrderedEmit(U value, boolean delayError, Disposable disposable) {\\n        final Observer<? super V> observer = downstream;\\n        final SimplePlainQueue<U> q = queue;\\n\\n        if (wip.get() == 0 && wip.compareAndSet(0, 1)) {\\n            if (q.isEmpty()) {\\n    ...   \n",
       "\n",
       "                                                                                                                                                                                                                                                                                                   code_tokens  \\\n",
       "0  [protected, final, void, fastPathOrderedEmit, (, U, value, ,, boolean, delayError, ,, Disposable, disposable, ), {, final, Observer, <, ?, super, V, >, observer, =, downstream, ;, final, SimplePlainQueue, <, U, >, q, =, queue, ;, if, (, wip, ., get, (, ), ==, 0, &&, wip, ., compareAndSet, (, 0, ...   \n",
       "\n",
       "   code_len partition data_type  \n",
       "0       134      test       src  "
      ]
     },
     "execution_count": null,
     "metadata": {},
     "output_type": "execute_result"
    }
   ],
   "source": [
    "java_src_code_df.head(1)"
   ]
  },
  {
   "cell_type": "code",
   "execution_count": null,
   "metadata": {},
   "outputs": [],
   "source": [
    "test_src_code = java_src_code_df['code'].values[0]"
   ]
  },
  {
   "cell_type": "code",
   "execution_count": null,
   "metadata": {},
   "outputs": [
    {
     "name": "stdout",
     "output_type": "stream",
     "text": [
      "protected final void fastPathOrderedEmit(U value, boolean delayError, Disposable disposable) {\n",
      "        final Observer<? super V> observer = downstream;\n",
      "        final SimplePlainQueue<U> q = queue;\n",
      "\n",
      "        if (wip.get() == 0 && wip.compareAndSet(0, 1)) {\n",
      "            if (q.isEmpty()) {\n",
      "                accept(observer, value);\n",
      "                if (leave(-1) == 0) {\n",
      "                    return;\n",
      "                }\n",
      "            } else {\n",
      "                q.offer(value);\n",
      "            }\n",
      "        } else {\n",
      "            q.offer(value);\n",
      "            if (!enter()) {\n",
      "                return;\n",
      "            }\n",
      "        }\n",
      "        QueueDrainHelper.drainLoop(q, observer, delayError, disposable, this);\n",
      "    }\n"
     ]
    }
   ],
   "source": [
    "print(test_src_code)"
   ]
  },
  {
   "cell_type": "markdown",
   "metadata": {},
   "source": [
    "Sample of available metrics (for method level)"
   ]
  },
  {
   "cell_type": "code",
   "execution_count": null,
   "metadata": {},
   "outputs": [],
   "source": [
    "metrics = lizard.analyze_file.analyze_source_code('test.java', test_src_code)"
   ]
  },
  {
   "cell_type": "code",
   "execution_count": null,
   "metadata": {},
   "outputs": [
    {
     "name": "stdout",
     "output_type": "stream",
     "text": [
      "cyclomatic_complexity: 7\n",
      "nloc (length): 21\n",
      "nloc: 20\n",
      "parameter_count: 3\n",
      "name: fastPathOrderedEmit\n",
      "token_count 131\n",
      "long_name: fastPathOrderedEmit( U value , boolean delayError , Disposable disposable)\n"
     ]
    }
   ],
   "source": [
    "func = metrics.function_list[0]\n",
    "print('cyclomatic_complexity: {}'.format(func.cyclomatic_complexity))\n",
    "print('nloc (length): {}'.format(func.length))\n",
    "print('nloc: {}'.format(func.nloc))\n",
    "print('parameter_count: {}'.format(func.parameter_count))\n",
    "print('name: {}'.format(func.name))\n",
    "print('token_count {}'.format(func.token_count))\n",
    "print('long_name: {}'.format(func.long_name))"
   ]
  },
  {
   "cell_type": "code",
   "execution_count": null,
   "metadata": {},
   "outputs": [],
   "source": [
    "def add_method_mccabe_metrics_to_code_df(src_code_df, code_column):\n",
    "    \"\"\"Computes method level McCabe metrics and adds it as columns in the specified dataframe\"\"\"\n",
    "    #result_df = src_code_df.copy()\n",
    "    result_df = pd.DataFrame([])\n",
    "    \n",
    "    for index, row in src_code_df.iterrows():\n",
    "        '''print('index{}'.format(index))\n",
    "        print('type:{}'.format(type(row[code_column])))'''\n",
    "        metrics = lizard.analyze_file.analyze_source_code('java_file.java', row[code_column])\n",
    "        metrics_obj = metrics.function_list\n",
    "        ''' print('matrics_length', len(metrics_obj))'''\n",
    "        if(len(metrics_obj) == 0):\n",
    "            continue\n",
    "            \n",
    "        row['cyclomatic_complexity'] = metrics_obj[0].cyclomatic_complexity\n",
    "        row['nloc'] = metrics_obj[0].nloc\n",
    "        row['parameter_count'] = metrics_obj[0].parameter_count\n",
    "        row['method_name'] = metrics_obj[0].name\n",
    "        row['token_count'] = metrics_obj[0].token_count\n",
    "                              \n",
    "        result_df = result_df.append(row)\n",
    "        '''\n",
    "        valid_indices.append(index)\n",
    "        cyclomatic_complexity.append(metrics_obj[0].cyclomatic_complexity)\n",
    "        nloc.append(metrics_obj[0].nloc)\n",
    "        parameter_count.append(metrics_obj[0].parameter_count)\n",
    "        method_name.append(metrics_obj[0].name)\n",
    "        token_count.append(metrics_obj[0].token_count)'''\n",
    "    \n",
    "    '''src_code_df['cyclomatic_complexity'] = cyclomatic_complexity\n",
    "    src_code_df['nloc'] = nloc\n",
    "    src_code_df['parameter_count'] = parameter_count\n",
    "    src_code_df['method_name'] = method_name\n",
    "    src_code_df['token_count'] = token_count'''\n",
    "    \n",
    "    return result_df"
   ]
  },
  {
   "cell_type": "code",
   "execution_count": null,
   "metadata": {},
   "outputs": [],
   "source": [
    "code_df = add_method_mccabe_metrics_to_code_df(java_src_code_df, 'code')"
   ]
  },
  {
   "cell_type": "code",
   "execution_count": null,
   "metadata": {},
   "outputs": [
    {
     "data": {
      "text/plain": [
       "(496494, 10)"
      ]
     },
     "execution_count": null,
     "metadata": {},
     "output_type": "execute_result"
    }
   ],
   "source": [
    "code_df.shape"
   ]
  },
  {
   "cell_type": "code",
   "execution_count": null,
   "metadata": {},
   "outputs": [
    {
     "data": {
      "text/html": [
       "<div>\n",
       "<style scoped>\n",
       "    .dataframe tbody tr th:only-of-type {\n",
       "        vertical-align: middle;\n",
       "    }\n",
       "\n",
       "    .dataframe tbody tr th {\n",
       "        vertical-align: top;\n",
       "    }\n",
       "\n",
       "    .dataframe thead th {\n",
       "        text-align: right;\n",
       "    }\n",
       "</style>\n",
       "<table border=\"1\" class=\"dataframe\">\n",
       "  <thead>\n",
       "    <tr style=\"text-align: right;\">\n",
       "      <th></th>\n",
       "      <th>code</th>\n",
       "      <th>code_len</th>\n",
       "      <th>code_tokens</th>\n",
       "      <th>cyclomatic_complexity</th>\n",
       "      <th>data_type</th>\n",
       "      <th>method_name</th>\n",
       "      <th>nloc</th>\n",
       "      <th>parameter_count</th>\n",
       "      <th>partition</th>\n",
       "      <th>token_count</th>\n",
       "    </tr>\n",
       "  </thead>\n",
       "  <tbody>\n",
       "    <tr>\n",
       "      <th>0</th>\n",
       "      <td>protected final void fastPathOrderedEmit(U value, boolean delayError, Disposable disposable) {\\n        final Observer&lt;? super V&gt; observer = downstream;\\n        final SimplePlainQueue&lt;U&gt; q = queue;\\n\\n        if (wip.get() == 0 &amp;&amp; wip.compareAndSet(0, 1)) {\\n            if (q.isEmpty()) {\\n    ...</td>\n",
       "      <td>134.0</td>\n",
       "      <td>[protected, final, void, fastPathOrderedEmit, (, U, value, ,, boolean, delayError, ,, Disposable, disposable, ), {, final, Observer, &lt;, ?, super, V, &gt;, observer, =, downstream, ;, final, SimplePlainQueue, &lt;, U, &gt;, q, =, queue, ;, if, (, wip, ., get, (, ), ==, 0, &amp;&amp;, wip, ., compareAndSet, (, 0, ...</td>\n",
       "      <td>7.0</td>\n",
       "      <td>src</td>\n",
       "      <td>fastPathOrderedEmit</td>\n",
       "      <td>20.0</td>\n",
       "      <td>3.0</td>\n",
       "      <td>test</td>\n",
       "      <td>131.0</td>\n",
       "    </tr>\n",
       "    <tr>\n",
       "      <th>1</th>\n",
       "      <td>@CheckReturnValue\\n    @NonNull\\n    @SchedulerSupport(SchedulerSupport.NONE)\\n    public static &lt;T&gt; Observable&lt;T&gt; amb(Iterable&lt;? extends ObservableSource&lt;? extends T&gt;&gt; sources) {\\n        ObjectHelper.requireNonNull(sources, \"sources is null\");\\n        return RxJavaPlugins.onAssembly(new Obser...</td>\n",
       "      <td>63.0</td>\n",
       "      <td>[@, CheckReturnValue, @, NonNull, @, SchedulerSupport, (, SchedulerSupport, ., NONE, ), public, static, &lt;, T, &gt;, Observable, &lt;, T, &gt;, amb, (, Iterable, &lt;, ?, extends, ObservableSource, &lt;, ?, extends, T, &gt;, &gt;, sources, ), {, ObjectHelper, ., requireNonNull, (, sources, ,, \"sources is null\", ), ;,...</td>\n",
       "      <td>1.0</td>\n",
       "      <td>src</td>\n",
       "      <td>amb</td>\n",
       "      <td>4.0</td>\n",
       "      <td>1.0</td>\n",
       "      <td>test</td>\n",
       "      <td>43.0</td>\n",
       "    </tr>\n",
       "    <tr>\n",
       "      <th>2</th>\n",
       "      <td>@SuppressWarnings(\"unchecked\")\\n    @CheckReturnValue\\n    @NonNull\\n    @SchedulerSupport(SchedulerSupport.NONE)\\n    public static &lt;T&gt; Observable&lt;T&gt; ambArray(ObservableSource&lt;? extends T&gt;... sources) {\\n        ObjectHelper.requireNonNull(sources, \"sources is null\");\\n        int len = sources...</td>\n",
       "      <td>107.0</td>\n",
       "      <td>[@, SuppressWarnings, (, \"unchecked\", ), @, CheckReturnValue, @, NonNull, @, SchedulerSupport, (, SchedulerSupport, ., NONE, ), public, static, &lt;, T, &gt;, Observable, &lt;, T, &gt;, ambArray, (, ObservableSource, &lt;, ?, extends, T, &gt;, ..., sources, ), {, ObjectHelper, ., requireNonNull, (, sources, ,, \"s...</td>\n",
       "      <td>3.0</td>\n",
       "      <td>src</td>\n",
       "      <td>ambArray</td>\n",
       "      <td>11.0</td>\n",
       "      <td>1.0</td>\n",
       "      <td>test</td>\n",
       "      <td>82.0</td>\n",
       "    </tr>\n",
       "    <tr>\n",
       "      <th>3</th>\n",
       "      <td>@SuppressWarnings({ \"unchecked\", \"rawtypes\" })\\n    @CheckReturnValue\\n    @NonNull\\n    @SchedulerSupport(SchedulerSupport.NONE)\\n    public static &lt;T&gt; Observable&lt;T&gt; concat(Iterable&lt;? extends ObservableSource&lt;? extends T&gt;&gt; sources) {\\n        ObjectHelper.requireNonNull(sources, \"sources is nul...</td>\n",
       "      <td>79.0</td>\n",
       "      <td>[@, SuppressWarnings, (, {, \"unchecked\", ,, \"rawtypes\", }, ), @, CheckReturnValue, @, NonNull, @, SchedulerSupport, (, SchedulerSupport, ., NONE, ), public, static, &lt;, T, &gt;, Observable, &lt;, T, &gt;, concat, (, Iterable, &lt;, ?, extends, ObservableSource, &lt;, ?, extends, T, &gt;, &gt;, sources, ), {, ObjectHe...</td>\n",
       "      <td>1.0</td>\n",
       "      <td>src</td>\n",
       "      <td>concat</td>\n",
       "      <td>4.0</td>\n",
       "      <td>1.0</td>\n",
       "      <td>test</td>\n",
       "      <td>50.0</td>\n",
       "    </tr>\n",
       "    <tr>\n",
       "      <th>4</th>\n",
       "      <td>@SuppressWarnings({ \"unchecked\", \"rawtypes\" })\\n    @CheckReturnValue\\n    @NonNull\\n    @SchedulerSupport(SchedulerSupport.NONE)\\n    public static &lt;T&gt; Observable&lt;T&gt; concat(ObservableSource&lt;? extends ObservableSource&lt;? extends T&gt;&gt; sources, int prefetch) {\\n        ObjectHelper.requireNonNull(so...</td>\n",
       "      <td>91.0</td>\n",
       "      <td>[@, SuppressWarnings, (, {, \"unchecked\", ,, \"rawtypes\", }, ), @, CheckReturnValue, @, NonNull, @, SchedulerSupport, (, SchedulerSupport, ., NONE, ), public, static, &lt;, T, &gt;, Observable, &lt;, T, &gt;, concat, (, ObservableSource, &lt;, ?, extends, ObservableSource, &lt;, ?, extends, T, &gt;, &gt;, sources, ,, int...</td>\n",
       "      <td>1.0</td>\n",
       "      <td>src</td>\n",
       "      <td>concat</td>\n",
       "      <td>5.0</td>\n",
       "      <td>2.0</td>\n",
       "      <td>test</td>\n",
       "      <td>62.0</td>\n",
       "    </tr>\n",
       "  </tbody>\n",
       "</table>\n",
       "</div>"
      ],
      "text/plain": [
       "                                                                                                                                                                                                                                                                                                          code  \\\n",
       "0  protected final void fastPathOrderedEmit(U value, boolean delayError, Disposable disposable) {\\n        final Observer<? super V> observer = downstream;\\n        final SimplePlainQueue<U> q = queue;\\n\\n        if (wip.get() == 0 && wip.compareAndSet(0, 1)) {\\n            if (q.isEmpty()) {\\n    ...   \n",
       "1  @CheckReturnValue\\n    @NonNull\\n    @SchedulerSupport(SchedulerSupport.NONE)\\n    public static <T> Observable<T> amb(Iterable<? extends ObservableSource<? extends T>> sources) {\\n        ObjectHelper.requireNonNull(sources, \"sources is null\");\\n        return RxJavaPlugins.onAssembly(new Obser...   \n",
       "2  @SuppressWarnings(\"unchecked\")\\n    @CheckReturnValue\\n    @NonNull\\n    @SchedulerSupport(SchedulerSupport.NONE)\\n    public static <T> Observable<T> ambArray(ObservableSource<? extends T>... sources) {\\n        ObjectHelper.requireNonNull(sources, \"sources is null\");\\n        int len = sources...   \n",
       "3  @SuppressWarnings({ \"unchecked\", \"rawtypes\" })\\n    @CheckReturnValue\\n    @NonNull\\n    @SchedulerSupport(SchedulerSupport.NONE)\\n    public static <T> Observable<T> concat(Iterable<? extends ObservableSource<? extends T>> sources) {\\n        ObjectHelper.requireNonNull(sources, \"sources is nul...   \n",
       "4  @SuppressWarnings({ \"unchecked\", \"rawtypes\" })\\n    @CheckReturnValue\\n    @NonNull\\n    @SchedulerSupport(SchedulerSupport.NONE)\\n    public static <T> Observable<T> concat(ObservableSource<? extends ObservableSource<? extends T>> sources, int prefetch) {\\n        ObjectHelper.requireNonNull(so...   \n",
       "\n",
       "   code_len  \\\n",
       "0     134.0   \n",
       "1      63.0   \n",
       "2     107.0   \n",
       "3      79.0   \n",
       "4      91.0   \n",
       "\n",
       "                                                                                                                                                                                                                                                                                                   code_tokens  \\\n",
       "0  [protected, final, void, fastPathOrderedEmit, (, U, value, ,, boolean, delayError, ,, Disposable, disposable, ), {, final, Observer, <, ?, super, V, >, observer, =, downstream, ;, final, SimplePlainQueue, <, U, >, q, =, queue, ;, if, (, wip, ., get, (, ), ==, 0, &&, wip, ., compareAndSet, (, 0, ...   \n",
       "1  [@, CheckReturnValue, @, NonNull, @, SchedulerSupport, (, SchedulerSupport, ., NONE, ), public, static, <, T, >, Observable, <, T, >, amb, (, Iterable, <, ?, extends, ObservableSource, <, ?, extends, T, >, >, sources, ), {, ObjectHelper, ., requireNonNull, (, sources, ,, \"sources is null\", ), ;,...   \n",
       "2  [@, SuppressWarnings, (, \"unchecked\", ), @, CheckReturnValue, @, NonNull, @, SchedulerSupport, (, SchedulerSupport, ., NONE, ), public, static, <, T, >, Observable, <, T, >, ambArray, (, ObservableSource, <, ?, extends, T, >, ..., sources, ), {, ObjectHelper, ., requireNonNull, (, sources, ,, \"s...   \n",
       "3  [@, SuppressWarnings, (, {, \"unchecked\", ,, \"rawtypes\", }, ), @, CheckReturnValue, @, NonNull, @, SchedulerSupport, (, SchedulerSupport, ., NONE, ), public, static, <, T, >, Observable, <, T, >, concat, (, Iterable, <, ?, extends, ObservableSource, <, ?, extends, T, >, >, sources, ), {, ObjectHe...   \n",
       "4  [@, SuppressWarnings, (, {, \"unchecked\", ,, \"rawtypes\", }, ), @, CheckReturnValue, @, NonNull, @, SchedulerSupport, (, SchedulerSupport, ., NONE, ), public, static, <, T, >, Observable, <, T, >, concat, (, ObservableSource, <, ?, extends, ObservableSource, <, ?, extends, T, >, >, sources, ,, int...   \n",
       "\n",
       "   cyclomatic_complexity data_type          method_name  nloc  \\\n",
       "0                    7.0       src  fastPathOrderedEmit  20.0   \n",
       "1                    1.0       src                  amb   4.0   \n",
       "2                    3.0       src             ambArray  11.0   \n",
       "3                    1.0       src               concat   4.0   \n",
       "4                    1.0       src               concat   5.0   \n",
       "\n",
       "   parameter_count partition  token_count  \n",
       "0              3.0      test        131.0  \n",
       "1              1.0      test         43.0  \n",
       "2              1.0      test         82.0  \n",
       "3              1.0      test         50.0  \n",
       "4              2.0      test         62.0  "
      ]
     },
     "execution_count": null,
     "metadata": {},
     "output_type": "execute_result"
    }
   ],
   "source": [
    "code_df.head()"
   ]
  },
  {
   "cell_type": "code",
   "execution_count": null,
   "metadata": {},
   "outputs": [],
   "source": [
    "code_df.to_csv('test_data/clean_java.csv')"
   ]
  },
  {
   "cell_type": "code",
   "execution_count": null,
   "metadata": {},
   "outputs": [
    {
     "data": {
      "text/plain": [
       "(4695, 9)"
      ]
     },
     "execution_count": null,
     "metadata": {},
     "output_type": "execute_result"
    }
   ],
   "source": [
    "code_df.shape"
   ]
  },
  {
   "cell_type": "code",
   "execution_count": null,
   "metadata": {},
   "outputs": [
    {
     "data": {
      "text/plain": [
       "(4697, 4)"
      ]
     },
     "execution_count": null,
     "metadata": {},
     "output_type": "execute_result"
    }
   ],
   "source": [
    "java_code_df.shape"
   ]
  },
  {
   "cell_type": "code",
   "execution_count": null,
   "metadata": {},
   "outputs": [
    {
     "data": {
      "text/html": [
       "<div>\n",
       "<style scoped>\n",
       "    .dataframe tbody tr th:only-of-type {\n",
       "        vertical-align: middle;\n",
       "    }\n",
       "\n",
       "    .dataframe tbody tr th {\n",
       "        vertical-align: top;\n",
       "    }\n",
       "\n",
       "    .dataframe thead th {\n",
       "        text-align: right;\n",
       "    }\n",
       "</style>\n",
       "<table border=\"1\" class=\"dataframe\">\n",
       "  <thead>\n",
       "    <tr style=\"text-align: right;\">\n",
       "      <th></th>\n",
       "      <th>code</th>\n",
       "      <th>code_tokens</th>\n",
       "      <th>code_len</th>\n",
       "      <th>data_type</th>\n",
       "      <th>cyclomatic_complexity</th>\n",
       "      <th>nloc</th>\n",
       "      <th>parameter_count</th>\n",
       "      <th>method_name</th>\n",
       "      <th>token_count</th>\n",
       "    </tr>\n",
       "  </thead>\n",
       "  <tbody>\n",
       "    <tr>\n",
       "      <th>348</th>\n",
       "      <td>protected void unsetAuthDataService(ServiceReference&lt;AuthDataService&gt; ref) {\\n        if (TraceComponent.isAnyTracingEnabled() &amp;&amp; tc.isDebugEnabled())\\n            Tr.debug(tc, \"unsetAuthDataService\", ref);\\n        authDataServiceRef.unsetReference(ref);\\n    }</td>\n",
       "      <td>[protected, void, unsetAuthDataService, (, ServiceReference, &lt;, AuthDataService, &gt;, ref, ), {, if, (, TraceComponent, ., isAnyTracingEnabled, (, ), &amp;&amp;, tc, ., isDebugEnabled, (, ), ), Tr, ., debug, (, tc, ,, \"unsetAuthDataService\", ,, ref, ), ;, authDataServiceRef, ., unsetReference, (, ref, ), ...</td>\n",
       "      <td>44</td>\n",
       "      <td>src</td>\n",
       "      <td>3</td>\n",
       "      <td>5</td>\n",
       "      <td>1</td>\n",
       "      <td>unsetAuthDataService</td>\n",
       "      <td>42</td>\n",
       "    </tr>\n",
       "    <tr>\n",
       "      <th>5389</th>\n",
       "      <td>@Override\\n   protected void deltaStartWorkAccepted()\\n   {\\n      if (trace)\\n         log.trace(\"deltaStartWorkAccepted\");\\n\\n      super.deltaStartWorkAccepted();\\n\\n      if (distributedStatisticsEnabled &amp;&amp; distributedStatistics != null &amp;&amp; transport != null)\\n      {\\n         try\\n         ...</td>\n",
       "      <td>[@, Override, protected, void, deltaStartWorkAccepted, (, ), {, if, (, trace, ), log, ., trace, (, \"deltaStartWorkAccepted\", ), ;, super, ., deltaStartWorkAccepted, (, ), ;, if, (, distributedStatisticsEnabled, &amp;&amp;, distributedStatistics, !=, null, &amp;&amp;, transport, !=, null, ), {, try, {, checkTran...</td>\n",
       "      <td>75</td>\n",
       "      <td>src</td>\n",
       "      <td>6</td>\n",
       "      <td>18</td>\n",
       "      <td>0</td>\n",
       "      <td>deltaStartWorkAccepted</td>\n",
       "      <td>71</td>\n",
       "    </tr>\n",
       "    <tr>\n",
       "      <th>10500</th>\n",
       "      <td>private void validateBlockSize(byte[] descriptor) throws IOException {\\n        int blockSize = Util.getUInt16Both(descriptor, 129);\\n        if (blockSize != Constants.DEFAULT_BLOCK_SIZE) {\\n            throw new LoopFileSystemException(\"Invalid block size: \" + blockSize);\\n        }\\n    }</td>\n",
       "      <td>[private, void, validateBlockSize, (, byte, [, ], descriptor, ), throws, IOException, {, int, blockSize, =, Util, ., getUInt16Both, (, descriptor, ,, 129, ), ;, if, (, blockSize, !=, Constants, ., DEFAULT_BLOCK_SIZE, ), {, throw, new, LoopFileSystemException, (, \"Invalid block size: \", +, blockS...</td>\n",
       "      <td>44</td>\n",
       "      <td>src</td>\n",
       "      <td>2</td>\n",
       "      <td>6</td>\n",
       "      <td>1</td>\n",
       "      <td>validateBlockSize</td>\n",
       "      <td>42</td>\n",
       "    </tr>\n",
       "    <tr>\n",
       "      <th>7146</th>\n",
       "      <td>public PooledConnection getConnection(long wait) throws SQLException {\\r\\n\\t\\ttry {\\r\\n\\t\\t\\treturn getConnectionDirect();\\r\\n\\t\\t} catch (Exception e) {\\r\\n\\t\\t\\tThreadUtil.sleep(wait);\\r\\n\\t\\t}\\r\\n\\t\\treturn getConnectionDirect();\\r\\n\\t}</td>\n",
       "      <td>[public, PooledConnection, getConnection, (, long, wait, ), throws, SQLException, {, try, {, return, getConnectionDirect, (, ), ;, }, catch, (, Exception, e, ), {, ThreadUtil, ., sleep, (, wait, ), ;, }, return, getConnectionDirect, (, ), ;, }]</td>\n",
       "      <td>38</td>\n",
       "      <td>src</td>\n",
       "      <td>2</td>\n",
       "      <td>8</td>\n",
       "      <td>1</td>\n",
       "      <td>getConnection</td>\n",
       "      <td>36</td>\n",
       "    </tr>\n",
       "    <tr>\n",
       "      <th>14642</th>\n",
       "      <td>public boolean addSnomedId(final Candidate candidate) throws SQLException {\\n        final SnomedTerm result = findFromCuiAndDesc(candidate.getCandidateCUI(), candidate.getCandidatePreferred());\\n        if (result != null) {\\n            candidate.setSnomedId(result.snomedId);\\n            cand...</td>\n",
       "      <td>[public, boolean, addSnomedId, (, final, Candidate, candidate, ), throws, SQLException, {, final, SnomedTerm, result, =, findFromCuiAndDesc, (, candidate, ., getCandidateCUI, (, ), ,, candidate, ., getCandidatePreferred, (, ), ), ;, if, (, result, !=, null, ), {, candidate, ., setSnomedId, (, re...</td>\n",
       "      <td>88</td>\n",
       "      <td>src</td>\n",
       "      <td>2</td>\n",
       "      <td>13</td>\n",
       "      <td>1</td>\n",
       "      <td>addSnomedId</td>\n",
       "      <td>85</td>\n",
       "    </tr>\n",
       "  </tbody>\n",
       "</table>\n",
       "</div>"
      ],
      "text/plain": [
       "                                                                                                                                                                                                                                                                                                              code  \\\n",
       "348                                         protected void unsetAuthDataService(ServiceReference<AuthDataService> ref) {\\n        if (TraceComponent.isAnyTracingEnabled() && tc.isDebugEnabled())\\n            Tr.debug(tc, \"unsetAuthDataService\", ref);\\n        authDataServiceRef.unsetReference(ref);\\n    }   \n",
       "5389   @Override\\n   protected void deltaStartWorkAccepted()\\n   {\\n      if (trace)\\n         log.trace(\"deltaStartWorkAccepted\");\\n\\n      super.deltaStartWorkAccepted();\\n\\n      if (distributedStatisticsEnabled && distributedStatistics != null && transport != null)\\n      {\\n         try\\n         ...   \n",
       "10500         private void validateBlockSize(byte[] descriptor) throws IOException {\\n        int blockSize = Util.getUInt16Both(descriptor, 129);\\n        if (blockSize != Constants.DEFAULT_BLOCK_SIZE) {\\n            throw new LoopFileSystemException(\"Invalid block size: \" + blockSize);\\n        }\\n    }   \n",
       "7146                                                               public PooledConnection getConnection(long wait) throws SQLException {\\r\\n\\t\\ttry {\\r\\n\\t\\t\\treturn getConnectionDirect();\\r\\n\\t\\t} catch (Exception e) {\\r\\n\\t\\t\\tThreadUtil.sleep(wait);\\r\\n\\t\\t}\\r\\n\\t\\treturn getConnectionDirect();\\r\\n\\t}   \n",
       "14642  public boolean addSnomedId(final Candidate candidate) throws SQLException {\\n        final SnomedTerm result = findFromCuiAndDesc(candidate.getCandidateCUI(), candidate.getCandidatePreferred());\\n        if (result != null) {\\n            candidate.setSnomedId(result.snomedId);\\n            cand...   \n",
       "\n",
       "                                                                                                                                                                                                                                                                                                       code_tokens  \\\n",
       "348    [protected, void, unsetAuthDataService, (, ServiceReference, <, AuthDataService, >, ref, ), {, if, (, TraceComponent, ., isAnyTracingEnabled, (, ), &&, tc, ., isDebugEnabled, (, ), ), Tr, ., debug, (, tc, ,, \"unsetAuthDataService\", ,, ref, ), ;, authDataServiceRef, ., unsetReference, (, ref, ), ...   \n",
       "5389   [@, Override, protected, void, deltaStartWorkAccepted, (, ), {, if, (, trace, ), log, ., trace, (, \"deltaStartWorkAccepted\", ), ;, super, ., deltaStartWorkAccepted, (, ), ;, if, (, distributedStatisticsEnabled, &&, distributedStatistics, !=, null, &&, transport, !=, null, ), {, try, {, checkTran...   \n",
       "10500  [private, void, validateBlockSize, (, byte, [, ], descriptor, ), throws, IOException, {, int, blockSize, =, Util, ., getUInt16Both, (, descriptor, ,, 129, ), ;, if, (, blockSize, !=, Constants, ., DEFAULT_BLOCK_SIZE, ), {, throw, new, LoopFileSystemException, (, \"Invalid block size: \", +, blockS...   \n",
       "7146                                                          [public, PooledConnection, getConnection, (, long, wait, ), throws, SQLException, {, try, {, return, getConnectionDirect, (, ), ;, }, catch, (, Exception, e, ), {, ThreadUtil, ., sleep, (, wait, ), ;, }, return, getConnectionDirect, (, ), ;, }]   \n",
       "14642  [public, boolean, addSnomedId, (, final, Candidate, candidate, ), throws, SQLException, {, final, SnomedTerm, result, =, findFromCuiAndDesc, (, candidate, ., getCandidateCUI, (, ), ,, candidate, ., getCandidatePreferred, (, ), ), ;, if, (, result, !=, null, ), {, candidate, ., setSnomedId, (, re...   \n",
       "\n",
       "       code_len data_type  cyclomatic_complexity  nloc  parameter_count  \\\n",
       "348          44       src                      3     5                1   \n",
       "5389         75       src                      6    18                0   \n",
       "10500        44       src                      2     6                1   \n",
       "7146         38       src                      2     8                1   \n",
       "14642        88       src                      2    13                1   \n",
       "\n",
       "                  method_name  token_count  \n",
       "348      unsetAuthDataService           42  \n",
       "5389   deltaStartWorkAccepted           71  \n",
       "10500       validateBlockSize           42  \n",
       "7146            getConnection           36  \n",
       "14642             addSnomedId           85  "
      ]
     },
     "execution_count": null,
     "metadata": {},
     "output_type": "execute_result"
    }
   ],
   "source": [
    "code_df.head()"
   ]
  },
  {
   "cell_type": "code",
   "execution_count": null,
   "metadata": {},
   "outputs": [
    {
     "data": {
      "text/html": [
       "<div>\n",
       "<style scoped>\n",
       "    .dataframe tbody tr th:only-of-type {\n",
       "        vertical-align: middle;\n",
       "    }\n",
       "\n",
       "    .dataframe tbody tr th {\n",
       "        vertical-align: top;\n",
       "    }\n",
       "\n",
       "    .dataframe thead th {\n",
       "        text-align: right;\n",
       "    }\n",
       "</style>\n",
       "<table border=\"1\" class=\"dataframe\">\n",
       "  <thead>\n",
       "    <tr style=\"text-align: right;\">\n",
       "      <th></th>\n",
       "      <th>code_len</th>\n",
       "      <th>cyclomatic_complexity</th>\n",
       "      <th>nloc</th>\n",
       "      <th>parameter_count</th>\n",
       "      <th>token_count</th>\n",
       "    </tr>\n",
       "  </thead>\n",
       "  <tbody>\n",
       "    <tr>\n",
       "      <th>count</th>\n",
       "      <td>4697.000000</td>\n",
       "      <td>4697.000000</td>\n",
       "      <td>4697.000000</td>\n",
       "      <td>4697.000000</td>\n",
       "      <td>4697.000000</td>\n",
       "    </tr>\n",
       "    <tr>\n",
       "      <th>mean</th>\n",
       "      <td>109.542048</td>\n",
       "      <td>3.700660</td>\n",
       "      <td>14.520971</td>\n",
       "      <td>1.637215</td>\n",
       "      <td>104.443049</td>\n",
       "    </tr>\n",
       "    <tr>\n",
       "      <th>std</th>\n",
       "      <td>155.926177</td>\n",
       "      <td>6.155238</td>\n",
       "      <td>20.915982</td>\n",
       "      <td>1.399517</td>\n",
       "      <td>152.802563</td>\n",
       "    </tr>\n",
       "    <tr>\n",
       "      <th>min</th>\n",
       "      <td>22.000000</td>\n",
       "      <td>1.000000</td>\n",
       "      <td>3.000000</td>\n",
       "      <td>0.000000</td>\n",
       "      <td>8.000000</td>\n",
       "    </tr>\n",
       "    <tr>\n",
       "      <th>25%</th>\n",
       "      <td>42.000000</td>\n",
       "      <td>1.000000</td>\n",
       "      <td>6.000000</td>\n",
       "      <td>1.000000</td>\n",
       "      <td>37.000000</td>\n",
       "    </tr>\n",
       "    <tr>\n",
       "      <th>50%</th>\n",
       "      <td>65.000000</td>\n",
       "      <td>2.000000</td>\n",
       "      <td>9.000000</td>\n",
       "      <td>1.000000</td>\n",
       "      <td>61.000000</td>\n",
       "    </tr>\n",
       "    <tr>\n",
       "      <th>75%</th>\n",
       "      <td>121.000000</td>\n",
       "      <td>4.000000</td>\n",
       "      <td>16.000000</td>\n",
       "      <td>2.000000</td>\n",
       "      <td>117.000000</td>\n",
       "    </tr>\n",
       "    <tr>\n",
       "      <th>max</th>\n",
       "      <td>2707.000000</td>\n",
       "      <td>182.000000</td>\n",
       "      <td>478.000000</td>\n",
       "      <td>16.000000</td>\n",
       "      <td>2678.000000</td>\n",
       "    </tr>\n",
       "  </tbody>\n",
       "</table>\n",
       "</div>"
      ],
      "text/plain": [
       "          code_len  cyclomatic_complexity         nloc  parameter_count  \\\n",
       "count  4697.000000            4697.000000  4697.000000      4697.000000   \n",
       "mean    109.542048               3.700660    14.520971         1.637215   \n",
       "std     155.926177               6.155238    20.915982         1.399517   \n",
       "min      22.000000               1.000000     3.000000         0.000000   \n",
       "25%      42.000000               1.000000     6.000000         1.000000   \n",
       "50%      65.000000               2.000000     9.000000         1.000000   \n",
       "75%     121.000000               4.000000    16.000000         2.000000   \n",
       "max    2707.000000             182.000000   478.000000        16.000000   \n",
       "\n",
       "       token_count  \n",
       "count  4697.000000  \n",
       "mean    104.443049  \n",
       "std     152.802563  \n",
       "min       8.000000  \n",
       "25%      37.000000  \n",
       "50%      61.000000  \n",
       "75%     117.000000  \n",
       "max    2678.000000  "
      ]
     },
     "execution_count": null,
     "metadata": {},
     "output_type": "execute_result"
    }
   ],
   "source": [
    "code_df.describe()"
   ]
  },
  {
   "cell_type": "code",
   "execution_count": null,
   "metadata": {},
   "outputs": [
    {
     "data": {
      "image/png": "[encoded data removed]",
      "text/plain": [
       "<Figure size 432x288 with 1 Axes>"
      ]
     },
     "metadata": {
      "needs_background": "light"
     },
     "output_type": "display_data"
    }
   ],
   "source": [
    "display_numeric_col_hist(code_df['cyclomatic_complexity'], 'Cyclomatic complexity')"
   ]
  },
  {
   "cell_type": "code",
   "execution_count": null,
   "metadata": {},
   "outputs": [
    {
     "data": {
      "text/plain": [
       "{'whiskers': [<matplotlib.lines.Line2D at 0x7f0d93270ac8>,\n",
       "  <matplotlib.lines.Line2D at 0x7f0d93270e80>],\n",
       " 'caps': [<matplotlib.lines.Line2D at 0x7f0d9327d208>,\n",
       "  <matplotlib.lines.Line2D at 0x7f0d9327d550>],\n",
       " 'boxes': [<matplotlib.lines.Line2D at 0x7f0d93270978>],\n",
       " 'medians': [<matplotlib.lines.Line2D at 0x7f0d9327d898>],\n",
       " 'fliers': [<matplotlib.lines.Line2D at 0x7f0d9327dbe0>],\n",
       " 'means': []}"
      ]
     },
     "execution_count": null,
     "metadata": {},
     "output_type": "execute_result"
    },
    {
     "data": {
      "image/png": "[encoded data removed]",
      "text/plain": [
       "<Figure size 432x288 with 1 Axes>"
      ]
     },
     "metadata": {
      "needs_background": "light"
     },
     "output_type": "display_data"
    }
   ],
   "source": [
    "fig1, ax1 = plt.subplots()\n",
    "ax1.set_title('Cyclomatic complexity box plot')\n",
    "ax1.boxplot(code_df['cyclomatic_complexity'], vert=False)"
   ]
  },
  {
   "cell_type": "code",
   "execution_count": null,
   "metadata": {},
   "outputs": [
    {
     "data": {
      "image/png": "[encoded data removed]",
      "text/plain": [
       "<Figure size 432x288 with 1 Axes>"
      ]
     },
     "metadata": {
      "needs_background": "light"
     },
     "output_type": "display_data"
    }
   ],
   "source": [
    "display_numeric_col_hist(code_df['nloc'], 'Nloc')"
   ]
  },
  {
   "cell_type": "code",
   "execution_count": null,
   "metadata": {},
   "outputs": [
    {
     "data": {
      "text/plain": [
       "{'whiskers': [<matplotlib.lines.Line2D at 0x7f0d931094a8>,\n",
       "  <matplotlib.lines.Line2D at 0x7f0d93109860>],\n",
       " 'caps': [<matplotlib.lines.Line2D at 0x7f0d93109ba8>,\n",
       "  <matplotlib.lines.Line2D at 0x7f0d93109ef0>],\n",
       " 'boxes': [<matplotlib.lines.Line2D at 0x7f0d93109358>],\n",
       " 'medians': [<matplotlib.lines.Line2D at 0x7f0d93113278>],\n",
       " 'fliers': [<matplotlib.lines.Line2D at 0x7f0d931135c0>],\n",
       " 'means': []}"
      ]
     },
     "execution_count": null,
     "metadata": {},
     "output_type": "execute_result"
    },
    {
     "data": {
      "image/png": "[encoded data removed]",
      "text/plain": [
       "<Figure size 432x288 with 1 Axes>"
      ]
     },
     "metadata": {
      "needs_background": "light"
     },
     "output_type": "display_data"
    }
   ],
   "source": [
    "fig1, ax1 = plt.subplots()\n",
    "ax1.set_title('Nloc box plot')\n",
    "ax1.boxplot(code_df['nloc'], vert=False)"
   ]
  },
  {
   "cell_type": "code",
   "execution_count": null,
   "metadata": {},
   "outputs": [
    {
     "data": {
      "image/png": "[encoded data removed]",
      "text/plain": [
       "<Figure size 432x288 with 1 Axes>"
      ]
     },
     "metadata": {
      "needs_background": "light"
     },
     "output_type": "display_data"
    }
   ],
   "source": [
    "display_numeric_col_hist(code_df['parameter_count'], 'Parameter count')"
   ]
  },
  {
   "cell_type": "code",
   "execution_count": null,
   "metadata": {},
   "outputs": [
    {
     "data": {
      "text/plain": [
       "{'whiskers': [<matplotlib.lines.Line2D at 0x7f0d930defd0>,\n",
       "  <matplotlib.lines.Line2D at 0x7f0d930ea358>],\n",
       " 'caps': [<matplotlib.lines.Line2D at 0x7f0d930ea6a0>,\n",
       "  <matplotlib.lines.Line2D at 0x7f0d930ea9e8>],\n",
       " 'boxes': [<matplotlib.lines.Line2D at 0x7f0d93138320>],\n",
       " 'medians': [<matplotlib.lines.Line2D at 0x7f0d930ead30>],\n",
       " 'fliers': [<matplotlib.lines.Line2D at 0x7f0d930f60b8>],\n",
       " 'means': []}"
      ]
     },
     "execution_count": null,
     "metadata": {},
     "output_type": "execute_result"
    },
    {
     "data": {
      "image/png": "[encoded data removed]",
      "text/plain": [
       "<Figure size 432x288 with 1 Axes>"
      ]
     },
     "metadata": {
      "needs_background": "light"
     },
     "output_type": "display_data"
    }
   ],
   "source": [
    "fig1, ax1 = plt.subplots()\n",
    "ax1.set_title('Param. count box plot')\n",
    "ax1.boxplot(code_df['parameter_count'], vert=False)"
   ]
  },
  {
   "cell_type": "code",
   "execution_count": null,
   "metadata": {},
   "outputs": [
    {
     "data": {
      "image/png": "[encoded data removed]",
      "text/plain": [
       "<Figure size 432x288 with 1 Axes>"
      ]
     },
     "metadata": {
      "needs_background": "light"
     },
     "output_type": "display_data"
    }
   ],
   "source": [
    "display_numeric_col_hist(code_df['token_count'], 'Token count')"
   ]
  },
  {
   "cell_type": "code",
   "execution_count": null,
   "metadata": {},
   "outputs": [
    {
     "data": {
      "text/plain": [
       "{'whiskers': [<matplotlib.lines.Line2D at 0x7f0d93047908>,\n",
       "  <matplotlib.lines.Line2D at 0x7f0d93047c50>],\n",
       " 'caps': [<matplotlib.lines.Line2D at 0x7f0d93047f98>,\n",
       "  <matplotlib.lines.Line2D at 0x7f0d93055320>],\n",
       " 'boxes': [<matplotlib.lines.Line2D at 0x7f0d93047588>],\n",
       " 'medians': [<matplotlib.lines.Line2D at 0x7f0d93055668>],\n",
       " 'fliers': [<matplotlib.lines.Line2D at 0x7f0d930559b0>],\n",
       " 'means': []}"
      ]
     },
     "execution_count": null,
     "metadata": {},
     "output_type": "execute_result"
    },
    {
     "data": {
      "image/png": "[encoded data removed]",
      "text/plain": [
       "<Figure size 432x288 with 1 Axes>"
      ]
     },
     "metadata": {
      "needs_background": "light"
     },
     "output_type": "display_data"
    }
   ],
   "source": [
    "fig1, ax1 = plt.subplots()\n",
    "ax1.set_title('Token count box plot')\n",
    "ax1.boxplot(code_df['token_count'], vert=False)"
   ]
  },
  {
   "cell_type": "code",
   "execution_count": null,
   "metadata": {},
   "outputs": [
    {
     "data": {
      "text/plain": [
       "{'whiskers': [<matplotlib.lines.Line2D at 0x7f0d932c35c0>,\n",
       "  <matplotlib.lines.Line2D at 0x7f0d932c3940>],\n",
       " 'caps': [<matplotlib.lines.Line2D at 0x7f0d932c3c88>,\n",
       "  <matplotlib.lines.Line2D at 0x7f0d932c3fd0>],\n",
       " 'boxes': [<matplotlib.lines.Line2D at 0x7f0d932c3240>],\n",
       " 'medians': [<matplotlib.lines.Line2D at 0x7f0d932cc358>],\n",
       " 'fliers': [<matplotlib.lines.Line2D at 0x7f0d932cc6a0>],\n",
       " 'means': []}"
      ]
     },
     "execution_count": null,
     "metadata": {},
     "output_type": "execute_result"
    },
    {
     "data": {
      "image/png": "[encoded data removed]",
      "text/plain": [
       "<Figure size 432x288 with 1 Axes>"
      ]
     },
     "metadata": {
      "needs_background": "light"
     },
     "output_type": "display_data"
    }
   ],
   "source": [
    "fig1, ax1 = plt.subplots()\n",
    "ax1.set_title('Code len box plot')\n",
    "ax1.boxplot(code_df['code_len'], vert=False)"
   ]
  },
  {
   "cell_type": "code",
   "execution_count": null,
   "metadata": {},
   "outputs": [
    {
     "data": {
      "text/plain": [
       "(4697, 9)"
      ]
     },
     "execution_count": null,
     "metadata": {},
     "output_type": "execute_result"
    }
   ],
   "source": [
    "code_df.shape"
   ]
  },
  {
   "cell_type": "code",
   "execution_count": null,
   "metadata": {},
   "outputs": [
    {
     "data": {
      "text/html": [
       "<div>\n",
       "<style scoped>\n",
       "    .dataframe tbody tr th:only-of-type {\n",
       "        vertical-align: middle;\n",
       "    }\n",
       "\n",
       "    .dataframe tbody tr th {\n",
       "        vertical-align: top;\n",
       "    }\n",
       "\n",
       "    .dataframe thead th {\n",
       "        text-align: right;\n",
       "    }\n",
       "</style>\n",
       "<table border=\"1\" class=\"dataframe\">\n",
       "  <thead>\n",
       "    <tr style=\"text-align: right;\">\n",
       "      <th></th>\n",
       "      <th>cyclomatic_complexity</th>\n",
       "      <th>nloc</th>\n",
       "      <th>token_count</th>\n",
       "      <th>parameter_count</th>\n",
       "    </tr>\n",
       "  </thead>\n",
       "  <tbody>\n",
       "    <tr>\n",
       "      <th>cyclomatic_complexity</th>\n",
       "      <td>1.000000</td>\n",
       "      <td>0.884579</td>\n",
       "      <td>0.848237</td>\n",
       "      <td>0.039674</td>\n",
       "    </tr>\n",
       "    <tr>\n",
       "      <th>nloc</th>\n",
       "      <td>0.884579</td>\n",
       "      <td>1.000000</td>\n",
       "      <td>0.948441</td>\n",
       "      <td>0.076593</td>\n",
       "    </tr>\n",
       "    <tr>\n",
       "      <th>token_count</th>\n",
       "      <td>0.848237</td>\n",
       "      <td>0.948441</td>\n",
       "      <td>1.000000</td>\n",
       "      <td>0.124464</td>\n",
       "    </tr>\n",
       "    <tr>\n",
       "      <th>parameter_count</th>\n",
       "      <td>0.039674</td>\n",
       "      <td>0.076593</td>\n",
       "      <td>0.124464</td>\n",
       "      <td>1.000000</td>\n",
       "    </tr>\n",
       "  </tbody>\n",
       "</table>\n",
       "</div>"
      ],
      "text/plain": [
       "                       cyclomatic_complexity      nloc  token_count  \\\n",
       "cyclomatic_complexity               1.000000  0.884579     0.848237   \n",
       "nloc                                0.884579  1.000000     0.948441   \n",
       "token_count                         0.848237  0.948441     1.000000   \n",
       "parameter_count                     0.039674  0.076593     0.124464   \n",
       "\n",
       "                       parameter_count  \n",
       "cyclomatic_complexity         0.039674  \n",
       "nloc                          0.076593  \n",
       "token_count                   0.124464  \n",
       "parameter_count               1.000000  "
      ]
     },
     "execution_count": null,
     "metadata": {},
     "output_type": "execute_result"
    }
   ],
   "source": [
    "code_df[['cyclomatic_complexity', 'nloc', 'token_count', 'parameter_count']].corr()"
   ]
  },
  {
   "cell_type": "code",
   "execution_count": null,
   "metadata": {},
   "outputs": [],
   "source": [
    "import seaborn as sns\n",
    "import numpy as np"
   ]
  },
  {
   "cell_type": "code",
   "execution_count": null,
   "metadata": {},
   "outputs": [],
   "source": [
    "def heatmap(x, y, **kwargs):\n",
    "    if 'color' in kwargs:\n",
    "        color = kwargs['color']\n",
    "    else:\n",
    "        color = [1]*len(x)\n",
    "\n",
    "    if 'palette' in kwargs:\n",
    "        palette = kwargs['palette']\n",
    "        n_colors = len(palette)\n",
    "    else:\n",
    "        n_colors = 256 # Use 256 colors for the diverging color palette\n",
    "        palette = sns.color_palette(\"Blues\", n_colors) \n",
    "\n",
    "    if 'color_range' in kwargs:\n",
    "        color_min, color_max = kwargs['color_range']\n",
    "    else:\n",
    "        color_min, color_max = min(color), max(color) # Range of values that will be mapped to the palette, i.e. min and max possible correlation\n",
    "\n",
    "    def value_to_color(val):\n",
    "        if color_min == color_max:\n",
    "            return palette[-1]\n",
    "        else:\n",
    "            val_position = float((val - color_min)) / (color_max - color_min) # position of value in the input range, relative to the length of the input range\n",
    "            val_position = min(max(val_position, 0), 1) # bound the position betwen 0 and 1\n",
    "            ind = int(val_position * (n_colors - 1)) # target index in the color palette\n",
    "            return palette[ind]\n",
    "\n",
    "    if 'size' in kwargs:\n",
    "        size = kwargs['size']\n",
    "    else:\n",
    "        size = [1]*len(x)\n",
    "\n",
    "    if 'size_range' in kwargs:\n",
    "        size_min, size_max = kwargs['size_range'][0], kwargs['size_range'][1]\n",
    "    else:\n",
    "        size_min, size_max = min(size), max(size)\n",
    "\n",
    "    size_scale = kwargs.get('size_scale', 500)\n",
    "\n",
    "    def value_to_size(val):\n",
    "        if size_min == size_max:\n",
    "            return 1 * size_scale\n",
    "        else:\n",
    "            val_position = (val - size_min) * 0.99 / (size_max - size_min) + 0.01 # position of value in the input range, relative to the length of the input range\n",
    "            val_position = min(max(val_position, 0), 1) # bound the position betwen 0 and 1\n",
    "            return val_position * size_scale\n",
    "    if 'x_order' in kwargs: \n",
    "        x_names = [t for t in kwargs['x_order']]\n",
    "    else:\n",
    "        x_names = [t for t in sorted(set([v for v in x]))]\n",
    "    x_to_num = {p[1]:p[0] for p in enumerate(x_names)}\n",
    "\n",
    "    if 'y_order' in kwargs: \n",
    "        y_names = [t for t in kwargs['y_order']]\n",
    "    else:\n",
    "        y_names = [t for t in sorted(set([v for v in y]))]\n",
    "    y_to_num = {p[1]:p[0] for p in enumerate(y_names)}\n",
    "\n",
    "    plot_grid = plt.GridSpec(1, 15, hspace=0.2, wspace=0.1) # Setup a 1x10 grid\n",
    "    ax = plt.subplot(plot_grid[:,:-1]) # Use the left 14/15ths of the grid for the main plot\n",
    "\n",
    "    marker = kwargs.get('marker', 's')\n",
    "\n",
    "    kwargs_pass_on = {k:v for k,v in kwargs.items() if k not in [\n",
    "         'color', 'palette', 'color_range', 'size', 'size_range', 'size_scale', 'marker', 'x_order', 'y_order', 'xlabel', 'ylabel'\n",
    "    ]}\n",
    "\n",
    "    ax.scatter(\n",
    "        x=[x_to_num[v] for v in x],\n",
    "        y=[y_to_num[v] for v in y],\n",
    "        marker=marker,\n",
    "        s=[value_to_size(v) for v in size], \n",
    "        c=[value_to_color(v) for v in color],\n",
    "        **kwargs_pass_on\n",
    "    )\n",
    "    ax.set_xticks([v for k,v in x_to_num.items()])\n",
    "    ax.set_xticklabels([k for k in x_to_num], rotation=45, horizontalalignment='right')\n",
    "    ax.set_yticks([v for k,v in y_to_num.items()])\n",
    "    ax.set_yticklabels([k for k in y_to_num])\n",
    "\n",
    "    ax.grid(False, 'major')\n",
    "    ax.grid(True, 'minor')\n",
    "    ax.set_xticks([t + 0.5 for t in ax.get_xticks()], minor=True)\n",
    "    ax.set_yticks([t + 0.5 for t in ax.get_yticks()], minor=True)\n",
    "\n",
    "    ax.set_xlim([-0.5, max([v for v in x_to_num.values()]) + 0.5])\n",
    "    ax.set_ylim([-0.5, max([v for v in y_to_num.values()]) + 0.5])\n",
    "    ax.set_facecolor('#F1F1F1')\n",
    "\n",
    "    ax.set_xlabel(kwargs.get('xlabel', ''))\n",
    "    ax.set_ylabel(kwargs.get('ylabel', ''))\n",
    "\n",
    "    # Add color legend on the right side of the plot\n",
    "    if color_min < color_max:\n",
    "        ax = plt.subplot(plot_grid[:,-1]) # Use the rightmost column of the plot\n",
    "\n",
    "        col_x = [0]*len(palette) # Fixed x coordinate for the bars\n",
    "        bar_y=np.linspace(color_min, color_max, n_colors) # y coordinates for each of the n_colors bars\n",
    "\n",
    "        bar_height = bar_y[1] - bar_y[0]\n",
    "        ax.barh(\n",
    "            y=bar_y,\n",
    "            width=[5]*len(palette), # Make bars 5 units wide\n",
    "            left=col_x, # Make bars start at 0\n",
    "            height=bar_height,\n",
    "            color=palette,\n",
    "            linewidth=0\n",
    "        )\n",
    "        ax.set_xlim(1, 2) # Bars are going from 0 to 5, so lets crop the plot somewhere in the middle\n",
    "        ax.grid(False) # Hide grid\n",
    "        ax.set_facecolor('white') # Make background white\n",
    "        ax.set_xticks([]) # Remove horizontal ticks\n",
    "        ax.set_yticks(np.linspace(min(bar_y), max(bar_y), 3)) # Show vertical ticks for min, middle and max\n",
    "        ax.yaxis.tick_right() # Show vertical ticks on the right \n",
    "\n",
    "    "
   ]
  },
  {
   "cell_type": "code",
   "execution_count": null,
   "metadata": {},
   "outputs": [
    {
     "data": {
      "image/png": "[encoded data removed]",
      "text/plain": [
       "<Figure size 432x288 with 1 Axes>"
      ]
     },
     "metadata": {
      "needs_background": "light"
     },
     "output_type": "display_data"
    }
   ],
   "source": [
    "columns = ['cyclomatic_complexity', 'nloc', 'token_count', 'parameter_count']\n",
    "corr = code_df[columns].corr()\n",
    "corr = pd.melt(corr.reset_index(), id_vars='index') # Unpivot the dataframe, so we can get pair of arrays for x and y\n",
    "corr.columns = ['x', 'y', 'value']\n",
    "heatmap(\n",
    "    x=corr['x'],\n",
    "    y=corr['y'],\n",
    "    size=corr['value'].abs()\n",
    ")"
   ]
  },
  {
   "cell_type": "code",
   "execution_count": null,
   "metadata": {},
   "outputs": [],
   "source": [
    "def corrplot(data, size_scale=500, marker='s'):\n",
    "    corr = pd.melt(data.reset_index(), id_vars='index').replace(np.nan, 0)\n",
    "    corr.columns = ['x', 'y', 'value']\n",
    "    heatmap(\n",
    "        corr['x'], corr['y'],\n",
    "        color=corr['value'], color_range=[-1, 1],\n",
    "        palette=sns.diverging_palette(20, 220, n=256),\n",
    "        size=corr['value'].abs(), size_range=[0,1],\n",
    "        marker=marker,\n",
    "        x_order=data.columns,\n",
    "        y_order=data.columns[::-1],\n",
    "        size_scale=size_scale\n",
    "    )"
   ]
  },
  {
   "cell_type": "code",
   "execution_count": null,
   "metadata": {},
   "outputs": [
    {
     "data": {
      "image/png": "[encoded data removed]",
      "text/plain": [
       "<Figure size 432x288 with 2 Axes>"
      ]
     },
     "metadata": {
      "needs_background": "light"
     },
     "output_type": "display_data"
    }
   ],
   "source": [
    "corrplot(code_df[columns].corr(), size_scale=300);"
   ]
  }
 ],
 "metadata": {
  "kernelspec": {
   "display_name": "Python 3",
   "language": "python",
   "name": "python3"
  }
 },
 "nbformat": 4,
 "nbformat_minor": 2
}
