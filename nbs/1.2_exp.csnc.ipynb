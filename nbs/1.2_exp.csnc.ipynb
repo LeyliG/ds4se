{
 "cells": [
  {
   "cell_type": "markdown",
   "metadata": {},
   "source": [
    "# Data exploration (taken from CodeSearchNet)"
   ]
  },
  {
   "cell_type": "code",
   "execution_count": null,
   "metadata": {},
   "outputs": [],
   "source": [
    "import json\n",
    "\n",
    "import pandas as pd\n",
    "from pathlib import Path\n",
    "pd.set_option('max_colwidth',300)\n",
    "from pprint import pprint"
   ]
  },
  {
   "cell_type": "markdown",
   "metadata": {},
   "source": [
    "## Preview dataset"
   ]
  },
  {
   "cell_type": "code",
   "execution_count": null,
   "metadata": {},
   "outputs": [
    {
     "name": "stdout",
     "output_type": "stream",
     "text": [
      "--2020-05-24 21:32:35--  https://s3.amazonaws.com/code-search-net/CodeSearchNet/v2/java.zip\n",
      "Resolving s3.amazonaws.com (s3.amazonaws.com)... 52.216.79.38\n",
      "Connecting to s3.amazonaws.com (s3.amazonaws.com)|52.216.79.38|:443... connected.\n",
      "HTTP request sent, awaiting response... 200 OK\n",
      "Length: 1060569153 (1011M) [application/zip]\n",
      "Saving to: ‘java.zip’\n",
      "\n",
      "java.zip            100%[===================>]   1011M  11.3MB/s    in 92s     \n",
      "\n",
      "2020-05-24 21:34:08 (11.0 MB/s) - ‘java.zip’ saved [1060569153/1060569153]\n",
      "\n"
     ]
    }
   ],
   "source": [
    "!wget https://s3.amazonaws.com/code-search-net/CodeSearchNet/v2/java.zip"
   ]
  },
  {
   "cell_type": "code",
   "execution_count": null,
   "metadata": {},
   "outputs": [
    {
     "name": "stdout",
     "output_type": "stream",
     "text": [
      "Archive:  java.zip\n",
      "   creating: java/\n",
      "   creating: java/final/\n",
      "   creating: java/final/jsonl/\n",
      "   creating: java/final/jsonl/train/\n",
      "  inflating: java/final/jsonl/train/java_train_12.jsonl.gz  \n",
      "  inflating: java/final/jsonl/train/java_train_9.jsonl.gz  \n",
      "  inflating: java/final/jsonl/train/java_train_3.jsonl.gz  \n",
      "  inflating: java/final/jsonl/train/java_train_5.jsonl.gz  \n",
      "  inflating: java/final/jsonl/train/java_train_7.jsonl.gz  \n",
      "  inflating: java/final/jsonl/train/java_train_1.jsonl.gz  \n",
      "  inflating: java/final/jsonl/train/java_train_10.jsonl.gz  \n",
      "  inflating: java/final/jsonl/train/java_train_14.jsonl.gz  \n",
      "  inflating: java/final/jsonl/train/java_train_0.jsonl.gz  \n",
      "  inflating: java/final/jsonl/train/java_train_6.jsonl.gz  \n",
      "  inflating: java/final/jsonl/train/java_train_8.jsonl.gz  \n",
      "  inflating: java/final/jsonl/train/java_train_15.jsonl.gz  \n",
      "  inflating: java/final/jsonl/train/java_train_2.jsonl.gz  \n",
      "  inflating: java/final/jsonl/train/java_train_4.jsonl.gz  \n",
      "  inflating: java/final/jsonl/train/java_train_13.jsonl.gz  \n",
      "  inflating: java/final/jsonl/train/java_train_11.jsonl.gz  \n",
      "   creating: java/final/jsonl/test/\n",
      "  inflating: java/final/jsonl/test/java_test_0.jsonl.gz  \n",
      "   creating: java/final/jsonl/valid/\n",
      "  inflating: java/final/jsonl/valid/java_valid_0.jsonl.gz  \n",
      "  inflating: java_dedupe_definitions_v2.pkl  \n",
      "  inflating: java_licenses.pkl       \n"
     ]
    }
   ],
   "source": [
    "!unzip java.zip"
   ]
  },
  {
   "cell_type": "code",
   "execution_count": null,
   "metadata": {},
   "outputs": [],
   "source": [
    "!gzip -d java/final/jsonl/test/java_test_0.jsonl.gz"
   ]
  },
  {
   "cell_type": "code",
   "execution_count": null,
   "metadata": {},
   "outputs": [
    {
     "data": {
      "text/plain": [
       "'{\"repo\": \"ReactiveX/RxJava\", \"path\": \"src/main/java/io/reactivex/internal/observers/QueueDrainObserver.java\", \"func_name\": \"QueueDrainObserver.fastPathOrderedEmit\", \"original_string\": \"protected final void fastPathOrderedEmit(U value, boolean delayError, Disposable disposable) {\\\\n        final Observer<? super V> observer = downstream;\\\\n        final SimplePlainQueue<U> q = queue;\\\\n\\\\n        if (wip.get() == 0 && wip.compareAndSet(0, 1)) {\\\\n            if (q.isEmpty()) {\\\\n                accept(observer, value);\\\\n                if (leave(-1) == 0) {\\\\n                    return;\\\\n                }\\\\n            } else {\\\\n                q.offer(value);\\\\n            }\\\\n        } else {\\\\n            q.offer(value);\\\\n            if (!enter()) {\\\\n                return;\\\\n            }\\\\n        }\\\\n        QueueDrainHelper.drainLoop(q, observer, delayError, disposable, this);\\\\n    }\", \"language\": \"java\", \"code\": \"protected final void fastPathOrderedEmit(U value, boolean delayError, Disposable disposable) {\\\\n        final Observer<? super V> observer = downstream;\\\\n        final SimplePlainQueue<U> q = queue;\\\\n\\\\n        if (wip.get() == 0 && wip.compareAndSet(0, 1)) {\\\\n            if (q.isEmpty()) {\\\\n                accept(observer, value);\\\\n                if (leave(-1) == 0) {\\\\n                    return;\\\\n                }\\\\n            } else {\\\\n                q.offer(value);\\\\n            }\\\\n        } else {\\\\n            q.offer(value);\\\\n            if (!enter()) {\\\\n                return;\\\\n            }\\\\n        }\\\\n        QueueDrainHelper.drainLoop(q, observer, delayError, disposable, this);\\\\n    }\", \"code_tokens\": [\"protected\", \"final\", \"void\", \"fastPathOrderedEmit\", \"(\", \"U\", \"value\", \",\", \"boolean\", \"delayError\", \",\", \"Disposable\", \"disposable\", \")\", \"{\", \"final\", \"Observer\", \"<\", \"?\", \"super\", \"V\", \">\", \"observer\", \"=\", \"downstream\", \";\", \"final\", \"SimplePlainQueue\", \"<\", \"U\", \">\", \"q\", \"=\", \"queue\", \";\", \"if\", \"(\", \"wip\", \".\", \"get\", \"(\", \")\", \"==\", \"0\", \"&&\", \"wip\", \".\", \"compareAndSet\", \"(\", \"0\", \",\", \"1\", \")\", \")\", \"{\", \"if\", \"(\", \"q\", \".\", \"isEmpty\", \"(\", \")\", \")\", \"{\", \"accept\", \"(\", \"observer\", \",\", \"value\", \")\", \";\", \"if\", \"(\", \"leave\", \"(\", \"-\", \"1\", \")\", \"==\", \"0\", \")\", \"{\", \"return\", \";\", \"}\", \"}\", \"else\", \"{\", \"q\", \".\", \"offer\", \"(\", \"value\", \")\", \";\", \"}\", \"}\", \"else\", \"{\", \"q\", \".\", \"offer\", \"(\", \"value\", \")\", \";\", \"if\", \"(\", \"!\", \"enter\", \"(\", \")\", \")\", \"{\", \"return\", \";\", \"}\", \"}\", \"QueueDrainHelper\", \".\", \"drainLoop\", \"(\", \"q\", \",\", \"observer\", \",\", \"delayError\", \",\", \"disposable\", \",\", \"this\", \")\", \";\", \"}\"], \"docstring\": \"Makes sure the fast-path emits in order.\\\\n@param value the value to emit or queue up\\\\n@param delayError if true, errors are delayed until the source has terminated\\\\n@param disposable the resource to dispose if the drain terminates\", \"docstring_tokens\": [\"Makes\", \"sure\", \"the\", \"fast\", \"-\", \"path\", \"emits\", \"in\", \"order\", \".\"], \"sha\": \"ac84182aa2bd866b53e01c8e3fe99683b882c60e\", \"url\": \"https://github.com/ReactiveX/RxJava/blob/ac84182aa2bd866b53e01c8e3fe99683b882c60e/src/main/java/io/reactivex/internal/observers/QueueDrainObserver.java#L88-L108\", \"partition\": \"test\"}\\n'"
      ]
     },
     "execution_count": null,
     "metadata": {},
     "output_type": "execute_result"
    }
   ],
   "source": [
    "with open('java/final/jsonl/test/java_test_0.jsonl', 'r') as f:\n",
    "    sample_file = f.readlines()\n",
    "sample_file[0]"
   ]
  },
  {
   "cell_type": "code",
   "execution_count": null,
   "metadata": {},
   "outputs": [
    {
     "name": "stdout",
     "output_type": "stream",
     "text": [
      "<class 'list'>\n",
      "26909\n"
     ]
    }
   ],
   "source": [
    "print(type(sample_file))\n",
    "print(len(sample_file))"
   ]
  },
  {
   "cell_type": "code",
   "execution_count": null,
   "metadata": {},
   "outputs": [
    {
     "name": "stdout",
     "output_type": "stream",
     "text": [
      "{'code': 'protected final void fastPathOrderedEmit(U value, boolean '\n",
      "         'delayError, Disposable disposable) {\\n'\n",
      "         '        final Observer<? super V> observer = downstream;\\n'\n",
      "         '        final SimplePlainQueue<U> q = queue;\\n'\n",
      "         '\\n'\n",
      "         '        if (wip.get() == 0 && wip.compareAndSet(0, 1)) {\\n'\n",
      "         '            if (q.isEmpty()) {\\n'\n",
      "         '                accept(observer, value);\\n'\n",
      "         '                if (leave(-1) == 0) {\\n'\n",
      "         '                    return;\\n'\n",
      "         '                }\\n'\n",
      "         '            } else {\\n'\n",
      "         '                q.offer(value);\\n'\n",
      "         '            }\\n'\n",
      "         '        } else {\\n'\n",
      "         '            q.offer(value);\\n'\n",
      "         '            if (!enter()) {\\n'\n",
      "         '                return;\\n'\n",
      "         '            }\\n'\n",
      "         '        }\\n'\n",
      "         '        QueueDrainHelper.drainLoop(q, observer, delayError, '\n",
      "         'disposable, this);\\n'\n",
      "         '    }',\n",
      " 'code_tokens': ['protected',\n",
      "                 'final',\n",
      "                 'void',\n",
      "                 'fastPathOrderedEmit',\n",
      "                 '(',\n",
      "                 'U',\n",
      "                 'value',\n",
      "                 ',',\n",
      "                 'boolean',\n",
      "                 'delayError',\n",
      "                 ',',\n",
      "                 'Disposable',\n",
      "                 'disposable',\n",
      "                 ')',\n",
      "                 '{',\n",
      "                 'final',\n",
      "                 'Observer',\n",
      "                 '<',\n",
      "                 '?',\n",
      "                 'super',\n",
      "                 'V',\n",
      "                 '>',\n",
      "                 'observer',\n",
      "                 '=',\n",
      "                 'downstream',\n",
      "                 ';',\n",
      "                 'final',\n",
      "                 'SimplePlainQueue',\n",
      "                 '<',\n",
      "                 'U',\n",
      "                 '>',\n",
      "                 'q',\n",
      "                 '=',\n",
      "                 'queue',\n",
      "                 ';',\n",
      "                 'if',\n",
      "                 '(',\n",
      "                 'wip',\n",
      "                 '.',\n",
      "                 'get',\n",
      "                 '(',\n",
      "                 ')',\n",
      "                 '==',\n",
      "                 '0',\n",
      "                 '&&',\n",
      "                 'wip',\n",
      "                 '.',\n",
      "                 'compareAndSet',\n",
      "                 '(',\n",
      "                 '0',\n",
      "                 ',',\n",
      "                 '1',\n",
      "                 ')',\n",
      "                 ')',\n",
      "                 '{',\n",
      "                 'if',\n",
      "                 '(',\n",
      "                 'q',\n",
      "                 '.',\n",
      "                 'isEmpty',\n",
      "                 '(',\n",
      "                 ')',\n",
      "                 ')',\n",
      "                 '{',\n",
      "                 'accept',\n",
      "                 '(',\n",
      "                 'observer',\n",
      "                 ',',\n",
      "                 'value',\n",
      "                 ')',\n",
      "                 ';',\n",
      "                 'if',\n",
      "                 '(',\n",
      "                 'leave',\n",
      "                 '(',\n",
      "                 '-',\n",
      "                 '1',\n",
      "                 ')',\n",
      "                 '==',\n",
      "                 '0',\n",
      "                 ')',\n",
      "                 '{',\n",
      "                 'return',\n",
      "                 ';',\n",
      "                 '}',\n",
      "                 '}',\n",
      "                 'else',\n",
      "                 '{',\n",
      "                 'q',\n",
      "                 '.',\n",
      "                 'offer',\n",
      "                 '(',\n",
      "                 'value',\n",
      "                 ')',\n",
      "                 ';',\n",
      "                 '}',\n",
      "                 '}',\n",
      "                 'else',\n",
      "                 '{',\n",
      "                 'q',\n",
      "                 '.',\n",
      "                 'offer',\n",
      "                 '(',\n",
      "                 'value',\n",
      "                 ')',\n",
      "                 ';',\n",
      "                 'if',\n",
      "                 '(',\n",
      "                 '!',\n",
      "                 'enter',\n",
      "                 '(',\n",
      "                 ')',\n",
      "                 ')',\n",
      "                 '{',\n",
      "                 'return',\n",
      "                 ';',\n",
      "                 '}',\n",
      "                 '}',\n",
      "                 'QueueDrainHelper',\n",
      "                 '.',\n",
      "                 'drainLoop',\n",
      "                 '(',\n",
      "                 'q',\n",
      "                 ',',\n",
      "                 'observer',\n",
      "                 ',',\n",
      "                 'delayError',\n",
      "                 ',',\n",
      "                 'disposable',\n",
      "                 ',',\n",
      "                 'this',\n",
      "                 ')',\n",
      "                 ';',\n",
      "                 '}'],\n",
      " 'docstring': 'Makes sure the fast-path emits in order.\\n'\n",
      "              '@param value the value to emit or queue up\\n'\n",
      "              '@param delayError if true, errors are delayed until the source '\n",
      "              'has terminated\\n'\n",
      "              '@param disposable the resource to dispose if the drain '\n",
      "              'terminates',\n",
      " 'docstring_tokens': ['Makes',\n",
      "                      'sure',\n",
      "                      'the',\n",
      "                      'fast',\n",
      "                      '-',\n",
      "                      'path',\n",
      "                      'emits',\n",
      "                      'in',\n",
      "                      'order',\n",
      "                      '.'],\n",
      " 'func_name': 'QueueDrainObserver.fastPathOrderedEmit',\n",
      " 'language': 'java',\n",
      " 'original_string': 'protected final void fastPathOrderedEmit(U value, boolean '\n",
      "                    'delayError, Disposable disposable) {\\n'\n",
      "                    '        final Observer<? super V> observer = downstream;\\n'\n",
      "                    '        final SimplePlainQueue<U> q = queue;\\n'\n",
      "                    '\\n'\n",
      "                    '        if (wip.get() == 0 && wip.compareAndSet(0, 1)) {\\n'\n",
      "                    '            if (q.isEmpty()) {\\n'\n",
      "                    '                accept(observer, value);\\n'\n",
      "                    '                if (leave(-1) == 0) {\\n'\n",
      "                    '                    return;\\n'\n",
      "                    '                }\\n'\n",
      "                    '            } else {\\n'\n",
      "                    '                q.offer(value);\\n'\n",
      "                    '            }\\n'\n",
      "                    '        } else {\\n'\n",
      "                    '            q.offer(value);\\n'\n",
      "                    '            if (!enter()) {\\n'\n",
      "                    '                return;\\n'\n",
      "                    '            }\\n'\n",
      "                    '        }\\n'\n",
      "                    '        QueueDrainHelper.drainLoop(q, observer, '\n",
      "                    'delayError, disposable, this);\\n'\n",
      "                    '    }',\n",
      " 'partition': 'test',\n",
      " 'path': 'src/main/java/io/reactivex/internal/observers/QueueDrainObserver.java',\n",
      " 'repo': 'ReactiveX/RxJava',\n",
      " 'sha': 'ac84182aa2bd866b53e01c8e3fe99683b882c60e',\n",
      " 'url': 'https://github.com/ReactiveX/RxJava/blob/ac84182aa2bd866b53e01c8e3fe99683b882c60e/src/main/java/io/reactivex/internal/observers/QueueDrainObserver.java#L88-L108'}\n"
     ]
    }
   ],
   "source": [
    "pprint(json.loads(sample_file[0]))"
   ]
  },
  {
   "cell_type": "markdown",
   "metadata": {},
   "source": [
    "## Exploring the full DataSet"
   ]
  },
  {
   "cell_type": "code",
   "execution_count": null,
   "metadata": {},
   "outputs": [
    {
     "name": "stdout",
     "output_type": "stream",
     "text": [
      "_sp_bpe_modal.model  _sp_bpe_modal.vocab  final  text.txt\r\n"
     ]
    }
   ],
   "source": [
    "!ls java/"
   ]
  },
  {
   "cell_type": "code",
   "execution_count": null,
   "metadata": {},
   "outputs": [],
   "source": [
    "java_files = sorted(Path('java/').glob('**/*.gz'))"
   ]
  },
  {
   "cell_type": "code",
   "execution_count": null,
   "metadata": {},
   "outputs": [
    {
     "name": "stdout",
     "output_type": "stream",
     "text": [
      "Total of related java files: 17\n"
     ]
    }
   ],
   "source": [
    "print('Total of related java files: {}'.format(len(java_files)))"
   ]
  },
  {
   "cell_type": "code",
   "execution_count": null,
   "metadata": {},
   "outputs": [],
   "source": [
    "columns_long_list = ['repo', 'path', 'url', 'code', \n",
    "                     'code_tokens', 'docstring', 'docstring_tokens', \n",
    "                     'language', 'partition']\n",
    "\n",
    "columns_short_list = ['code_tokens', 'docstring_tokens', \n",
    "                      'language', 'partition']\n",
    "\n",
    "def jsonl_list_to_dataframe(file_list, columns=columns_long_list):\n",
    "    \"\"\"Load a list of jsonl.gz files into a pandas DataFrame.\"\"\"\n",
    "    return pd.concat([pd.read_json(f, \n",
    "                                   orient='records', \n",
    "                                   compression='gzip',\n",
    "                                   lines=True)[columns] \n",
    "                      for f in file_list], sort=False)"
   ]
  },
  {
   "cell_type": "code",
   "execution_count": null,
   "metadata": {},
   "outputs": [],
   "source": [
    "java_df = jsonl_list_to_dataframe(java_files)"
   ]
  },
  {
   "cell_type": "code",
   "execution_count": null,
   "metadata": {},
   "outputs": [
    {
     "data": {
      "text/html": [
       "<div>\n",
       "<style scoped>\n",
       "    .dataframe tbody tr th:only-of-type {\n",
       "        vertical-align: middle;\n",
       "    }\n",
       "\n",
       "    .dataframe tbody tr th {\n",
       "        vertical-align: top;\n",
       "    }\n",
       "\n",
       "    .dataframe thead th {\n",
       "        text-align: right;\n",
       "    }\n",
       "</style>\n",
       "<table border=\"1\" class=\"dataframe\">\n",
       "  <thead>\n",
       "    <tr style=\"text-align: right;\">\n",
       "      <th></th>\n",
       "      <th>repo</th>\n",
       "      <th>path</th>\n",
       "      <th>url</th>\n",
       "      <th>code</th>\n",
       "      <th>code_tokens</th>\n",
       "      <th>docstring</th>\n",
       "      <th>docstring_tokens</th>\n",
       "      <th>language</th>\n",
       "      <th>partition</th>\n",
       "    </tr>\n",
       "  </thead>\n",
       "  <tbody>\n",
       "    <tr>\n",
       "      <th>0</th>\n",
       "      <td>spring-projects/spring-boot</td>\n",
       "      <td>spring-boot-project/spring-boot/src/main/java/org/springframework/boot/context/properties/bind/IndexedElementsBinder.java</td>\n",
       "      <td>https://github.com/spring-projects/spring-boot/blob/0b27f7c70e164b2b1a96477f1d9c1acba56790c1/spring-boot-project/spring-boot/src/main/java/org/springframework/boot/context/properties/bind/IndexedElementsBinder.java#L67-L77</td>\n",
       "      <td>protected final void bindIndexed(ConfigurationPropertyName name, Bindable&lt;?&gt; target,\\n\\t\\t\\tAggregateElementBinder elementBinder, ResolvableType aggregateType,\\n\\t\\t\\tResolvableType elementType, IndexedCollectionSupplier result) {\\n\\t\\tfor (ConfigurationPropertySource source : getContext().getSo...</td>\n",
       "      <td>[protected, final, void, bindIndexed, (, ConfigurationPropertyName, name, ,, Bindable, &lt;, ?, &gt;, target, ,, AggregateElementBinder, elementBinder, ,, ResolvableType, aggregateType, ,, ResolvableType, elementType, ,, IndexedCollectionSupplier, result, ), {, for, (, ConfigurationPropertySource, sou...</td>\n",
       "      <td>Bind indexed elements to the supplied collection.\\n@param name the name of the property to bind\\n@param target the target bindable\\n@param elementBinder the binder to use for elements\\n@param aggregateType the aggregate type, may be a collection or an array\\n@param elementType the element type\\n...</td>\n",
       "      <td>[Bind, indexed, elements, to, the, supplied, collection, .]</td>\n",
       "      <td>java</td>\n",
       "      <td>train</td>\n",
       "    </tr>\n",
       "  </tbody>\n",
       "</table>\n",
       "</div>"
      ],
      "text/plain": [
       "                          repo  \\\n",
       "0  spring-projects/spring-boot   \n",
       "\n",
       "                                                                                                                        path  \\\n",
       "0  spring-boot-project/spring-boot/src/main/java/org/springframework/boot/context/properties/bind/IndexedElementsBinder.java   \n",
       "\n",
       "                                                                                                                                                                                                                              url  \\\n",
       "0  https://github.com/spring-projects/spring-boot/blob/0b27f7c70e164b2b1a96477f1d9c1acba56790c1/spring-boot-project/spring-boot/src/main/java/org/springframework/boot/context/properties/bind/IndexedElementsBinder.java#L67-L77   \n",
       "\n",
       "                                                                                                                                                                                                                                                                                                          code  \\\n",
       "0  protected final void bindIndexed(ConfigurationPropertyName name, Bindable<?> target,\\n\\t\\t\\tAggregateElementBinder elementBinder, ResolvableType aggregateType,\\n\\t\\t\\tResolvableType elementType, IndexedCollectionSupplier result) {\\n\\t\\tfor (ConfigurationPropertySource source : getContext().getSo...   \n",
       "\n",
       "                                                                                                                                                                                                                                                                                                   code_tokens  \\\n",
       "0  [protected, final, void, bindIndexed, (, ConfigurationPropertyName, name, ,, Bindable, <, ?, >, target, ,, AggregateElementBinder, elementBinder, ,, ResolvableType, aggregateType, ,, ResolvableType, elementType, ,, IndexedCollectionSupplier, result, ), {, for, (, ConfigurationPropertySource, sou...   \n",
       "\n",
       "                                                                                                                                                                                                                                                                                                     docstring  \\\n",
       "0  Bind indexed elements to the supplied collection.\\n@param name the name of the property to bind\\n@param target the target bindable\\n@param elementBinder the binder to use for elements\\n@param aggregateType the aggregate type, may be a collection or an array\\n@param elementType the element type\\n...   \n",
       "\n",
       "                                              docstring_tokens language  \\\n",
       "0  [Bind, indexed, elements, to, the, supplied, collection, .]     java   \n",
       "\n",
       "  partition  \n",
       "0     train  "
      ]
     },
     "execution_count": null,
     "metadata": {},
     "output_type": "execute_result"
    }
   ],
   "source": [
    "java_df.head(1)"
   ]
  },
  {
   "cell_type": "markdown",
   "metadata": {},
   "source": [
    "## Summary stats."
   ]
  },
  {
   "cell_type": "code",
   "execution_count": null,
   "metadata": {},
   "outputs": [
    {
     "data": {
      "text/plain": [
       "train    454451\n",
       "valid     15328\n",
       "Name: partition, dtype: int64"
      ]
     },
     "execution_count": null,
     "metadata": {},
     "output_type": "execute_result"
    }
   ],
   "source": [
    "java_df.partition.value_counts()"
   ]
  },
  {
   "cell_type": "code",
   "execution_count": null,
   "metadata": {},
   "outputs": [
    {
     "data": {
      "text/plain": [
       "partition  language\n",
       "train      java        454451\n",
       "valid      java         15328\n",
       "Name: code_tokens, dtype: int64"
      ]
     },
     "execution_count": null,
     "metadata": {},
     "output_type": "execute_result"
    }
   ],
   "source": [
    "java_df.groupby(['partition', 'language'])['code_tokens'].count()"
   ]
  },
  {
   "cell_type": "code",
   "execution_count": null,
   "metadata": {},
   "outputs": [],
   "source": [
    "java_df['code_len'] = java_df.code_tokens.apply(lambda x: len(x))\n",
    "java_df['query_len'] = java_df.docstring_tokens.apply(lambda x: len(x))"
   ]
  },
  {
   "cell_type": "markdown",
   "metadata": {},
   "source": [
    "Code Length Percentile "
   ]
  },
  {
   "cell_type": "code",
   "execution_count": null,
   "metadata": {},
   "outputs": [],
   "source": [
    "code_len_summary = java_df.groupby('language')['code_len'].quantile([.5, .7, .8, .9, .95])"
   ]
  },
  {
   "cell_type": "code",
   "execution_count": null,
   "metadata": {},
   "outputs": [
    {
     "data": {
      "text/html": [
       "<div>\n",
       "<style scoped>\n",
       "    .dataframe tbody tr th:only-of-type {\n",
       "        vertical-align: middle;\n",
       "    }\n",
       "\n",
       "    .dataframe tbody tr th {\n",
       "        vertical-align: top;\n",
       "    }\n",
       "\n",
       "    .dataframe thead th {\n",
       "        text-align: right;\n",
       "    }\n",
       "</style>\n",
       "<table border=\"1\" class=\"dataframe\">\n",
       "  <thead>\n",
       "    <tr style=\"text-align: right;\">\n",
       "      <th></th>\n",
       "      <th></th>\n",
       "      <th>code_len</th>\n",
       "    </tr>\n",
       "    <tr>\n",
       "      <th>language</th>\n",
       "      <th></th>\n",
       "      <th></th>\n",
       "    </tr>\n",
       "  </thead>\n",
       "  <tbody>\n",
       "    <tr>\n",
       "      <th rowspan=\"5\" valign=\"top\">java</th>\n",
       "      <th>0.50</th>\n",
       "      <td>66.0</td>\n",
       "    </tr>\n",
       "    <tr>\n",
       "      <th>0.70</th>\n",
       "      <td>104.0</td>\n",
       "    </tr>\n",
       "    <tr>\n",
       "      <th>0.80</th>\n",
       "      <td>142.0</td>\n",
       "    </tr>\n",
       "    <tr>\n",
       "      <th>0.90</th>\n",
       "      <td>224.0</td>\n",
       "    </tr>\n",
       "    <tr>\n",
       "      <th>0.95</th>\n",
       "      <td>330.0</td>\n",
       "    </tr>\n",
       "  </tbody>\n",
       "</table>\n",
       "</div>"
      ],
      "text/plain": [
       "               code_len\n",
       "language               \n",
       "java     0.50      66.0\n",
       "         0.70     104.0\n",
       "         0.80     142.0\n",
       "         0.90     224.0\n",
       "         0.95     330.0"
      ]
     },
     "metadata": {},
     "output_type": "display_data"
    }
   ],
   "source": [
    "display(pd.DataFrame(code_len_summary))"
   ]
  },
  {
   "cell_type": "markdown",
   "metadata": {},
   "source": [
    "Query length percentile by language"
   ]
  },
  {
   "cell_type": "code",
   "execution_count": null,
   "metadata": {},
   "outputs": [
    {
     "data": {
      "text/html": [
       "<div>\n",
       "<style scoped>\n",
       "    .dataframe tbody tr th:only-of-type {\n",
       "        vertical-align: middle;\n",
       "    }\n",
       "\n",
       "    .dataframe tbody tr th {\n",
       "        vertical-align: top;\n",
       "    }\n",
       "\n",
       "    .dataframe thead th {\n",
       "        text-align: right;\n",
       "    }\n",
       "</style>\n",
       "<table border=\"1\" class=\"dataframe\">\n",
       "  <thead>\n",
       "    <tr style=\"text-align: right;\">\n",
       "      <th></th>\n",
       "      <th></th>\n",
       "      <th>query_len</th>\n",
       "    </tr>\n",
       "    <tr>\n",
       "      <th>language</th>\n",
       "      <th></th>\n",
       "      <th></th>\n",
       "    </tr>\n",
       "  </thead>\n",
       "  <tbody>\n",
       "    <tr>\n",
       "      <th rowspan=\"5\" valign=\"top\">java</th>\n",
       "      <th>0.50</th>\n",
       "      <td>11.0</td>\n",
       "    </tr>\n",
       "    <tr>\n",
       "      <th>0.70</th>\n",
       "      <td>18.0</td>\n",
       "    </tr>\n",
       "    <tr>\n",
       "      <th>0.80</th>\n",
       "      <td>25.0</td>\n",
       "    </tr>\n",
       "    <tr>\n",
       "      <th>0.90</th>\n",
       "      <td>39.0</td>\n",
       "    </tr>\n",
       "    <tr>\n",
       "      <th>0.95</th>\n",
       "      <td>60.0</td>\n",
       "    </tr>\n",
       "  </tbody>\n",
       "</table>\n",
       "</div>"
      ],
      "text/plain": [
       "               query_len\n",
       "language                \n",
       "java     0.50       11.0\n",
       "         0.70       18.0\n",
       "         0.80       25.0\n",
       "         0.90       39.0\n",
       "         0.95       60.0"
      ]
     },
     "metadata": {},
     "output_type": "display_data"
    }
   ],
   "source": [
    "query_len_summary = java_df.groupby('language')['query_len'].quantile([.5, .7, .8, .9, .95])\n",
    "display(pd.DataFrame(query_len_summary))"
   ]
  },
  {
   "cell_type": "markdown",
   "metadata": {},
   "source": [
    "## Data transformation"
   ]
  },
  {
   "cell_type": "code",
   "execution_count": null,
   "metadata": {},
   "outputs": [
    {
     "data": {
      "text/plain": [
       "Index(['repo', 'path', 'url', 'code', 'code_tokens', 'docstring',\n",
       "       'docstring_tokens', 'language', 'partition', 'code_len', 'query_len'],\n",
       "      dtype='object')"
      ]
     },
     "execution_count": null,
     "metadata": {},
     "output_type": "execute_result"
    }
   ],
   "source": [
    "java_df.columns"
   ]
  },
  {
   "cell_type": "code",
   "execution_count": null,
   "metadata": {},
   "outputs": [],
   "source": [
    "src_code_columns = ['code', 'code_tokens', 'code_len']"
   ]
  },
  {
   "cell_type": "code",
   "execution_count": null,
   "metadata": {},
   "outputs": [],
   "source": [
    "java_src_code_df = java_df[src_code_columns]"
   ]
  },
  {
   "cell_type": "markdown",
   "metadata": {},
   "source": [
    "Visualizing an example"
   ]
  },
  {
   "cell_type": "code",
   "execution_count": null,
   "metadata": {},
   "outputs": [
    {
     "data": {
      "text/plain": [
       "0    [protected, final, void, bindIndexed, (, ConfigurationPropertyName, name, ,, Bindable, <, ?, >, target, ,, AggregateElementBinder, elementBinder, ,, ResolvableType, aggregateType, ,, ResolvableType, elementType, ,, IndexedCollectionSupplier, result, ), {, for, (, ConfigurationPropertySource, sou...\n",
       "Name: code_tokens, dtype: object"
      ]
     },
     "execution_count": null,
     "metadata": {},
     "output_type": "execute_result"
    }
   ],
   "source": [
    "java_src_code_df[:1]['code_tokens']"
   ]
  },
  {
   "cell_type": "code",
   "execution_count": null,
   "metadata": {},
   "outputs": [
    {
     "data": {
      "text/plain": [
       "(469779, 3)"
      ]
     },
     "execution_count": null,
     "metadata": {},
     "output_type": "execute_result"
    }
   ],
   "source": [
    "java_src_code_df.shape"
   ]
  },
  {
   "cell_type": "code",
   "execution_count": null,
   "metadata": {},
   "outputs": [],
   "source": [
    "data_type_new_column = ['src' for x in range(java_src_code_df.shape[0])]"
   ]
  },
  {
   "cell_type": "code",
   "execution_count": null,
   "metadata": {},
   "outputs": [
    {
     "data": {
      "text/plain": [
       "469779"
      ]
     },
     "execution_count": null,
     "metadata": {},
     "output_type": "execute_result"
    }
   ],
   "source": [
    "len(data_type_new_column)"
   ]
  },
  {
   "cell_type": "code",
   "execution_count": null,
   "metadata": {},
   "outputs": [
    {
     "name": "stderr",
     "output_type": "stream",
     "text": [
      "/usr/local/lib/python3.6/dist-packages/ipykernel_launcher.py:1: SettingWithCopyWarning: \n",
      "A value is trying to be set on a copy of a slice from a DataFrame.\n",
      "Try using .loc[row_indexer,col_indexer] = value instead\n",
      "\n",
      "See the caveats in the documentation: https://pandas.pydata.org/pandas-docs/stable/user_guide/indexing.html#returning-a-view-versus-a-copy\n",
      "  \"\"\"Entry point for launching an IPython kernel.\n"
     ]
    }
   ],
   "source": [
    "java_src_code_df['data_type'] = data_type_new_column"
   ]
  },
  {
   "cell_type": "code",
   "execution_count": null,
   "metadata": {},
   "outputs": [
    {
     "data": {
      "text/html": [
       "<div>\n",
       "<style scoped>\n",
       "    .dataframe tbody tr th:only-of-type {\n",
       "        vertical-align: middle;\n",
       "    }\n",
       "\n",
       "    .dataframe tbody tr th {\n",
       "        vertical-align: top;\n",
       "    }\n",
       "\n",
       "    .dataframe thead th {\n",
       "        text-align: right;\n",
       "    }\n",
       "</style>\n",
       "<table border=\"1\" class=\"dataframe\">\n",
       "  <thead>\n",
       "    <tr style=\"text-align: right;\">\n",
       "      <th></th>\n",
       "      <th>code</th>\n",
       "      <th>code_tokens</th>\n",
       "      <th>code_len</th>\n",
       "      <th>data_type</th>\n",
       "    </tr>\n",
       "  </thead>\n",
       "  <tbody>\n",
       "    <tr>\n",
       "      <th>0</th>\n",
       "      <td>protected final void bindIndexed(ConfigurationPropertyName name, Bindable&lt;?&gt; target,\\n\\t\\t\\tAggregateElementBinder elementBinder, ResolvableType aggregateType,\\n\\t\\t\\tResolvableType elementType, IndexedCollectionSupplier result) {\\n\\t\\tfor (ConfigurationPropertySource source : getContext().getSo...</td>\n",
       "      <td>[protected, final, void, bindIndexed, (, ConfigurationPropertyName, name, ,, Bindable, &lt;, ?, &gt;, target, ,, AggregateElementBinder, elementBinder, ,, ResolvableType, aggregateType, ,, ResolvableType, elementType, ,, IndexedCollectionSupplier, result, ), {, for, (, ConfigurationPropertySource, sou...</td>\n",
       "      <td>80</td>\n",
       "      <td>src</td>\n",
       "    </tr>\n",
       "    <tr>\n",
       "      <th>1</th>\n",
       "      <td>public void setServletRegistrationBeans(\\n\\t\\t\\tCollection&lt;? extends ServletRegistrationBean&lt;?&gt;&gt; servletRegistrationBeans) {\\n\\t\\tAssert.notNull(servletRegistrationBeans,\\n\\t\\t\\t\\t\"ServletRegistrationBeans must not be null\");\\n\\t\\tthis.servletRegistrationBeans = new LinkedHashSet&lt;&gt;(servletRegist...</td>\n",
       "      <td>[public, void, setServletRegistrationBeans, (, Collection, &lt;, ?, extends, ServletRegistrationBean, &lt;, ?, &gt;, &gt;, servletRegistrationBeans, ), {, Assert, ., notNull, (, servletRegistrationBeans, ,, \"ServletRegistrationBeans must not be null\", ), ;, this, ., servletRegistrationBeans, =, new, LinkedH...</td>\n",
       "      <td>37</td>\n",
       "      <td>src</td>\n",
       "    </tr>\n",
       "    <tr>\n",
       "      <th>2</th>\n",
       "      <td>public void addServletRegistrationBeans(\\n\\t\\t\\tServletRegistrationBean&lt;?&gt;... servletRegistrationBeans) {\\n\\t\\tAssert.notNull(servletRegistrationBeans,\\n\\t\\t\\t\\t\"ServletRegistrationBeans must not be null\");\\n\\t\\tCollections.addAll(this.servletRegistrationBeans, servletRegistrationBeans);\\n\\t}</td>\n",
       "      <td>[public, void, addServletRegistrationBeans, (, ServletRegistrationBean, &lt;, ?, &gt;, ..., servletRegistrationBeans, ), {, Assert, ., notNull, (, servletRegistrationBeans, ,, \"ServletRegistrationBeans must not be null\", ), ;, Collections, ., addAll, (, this, ., servletRegistrationBeans, ,, servletReg...</td>\n",
       "      <td>33</td>\n",
       "      <td>src</td>\n",
       "    </tr>\n",
       "    <tr>\n",
       "      <th>3</th>\n",
       "      <td>public void setServletNames(Collection&lt;String&gt; servletNames) {\\n\\t\\tAssert.notNull(servletNames, \"ServletNames must not be null\");\\n\\t\\tthis.servletNames = new LinkedHashSet&lt;&gt;(servletNames);\\n\\t}</td>\n",
       "      <td>[public, void, setServletNames, (, Collection, &lt;, String, &gt;, servletNames, ), {, Assert, ., notNull, (, servletNames, ,, \"ServletNames must not be null\", ), ;, this, ., servletNames, =, new, LinkedHashSet, &lt;&gt;, (, servletNames, ), ;, }]</td>\n",
       "      <td>32</td>\n",
       "      <td>src</td>\n",
       "    </tr>\n",
       "    <tr>\n",
       "      <th>4</th>\n",
       "      <td>public void addServletNames(String... servletNames) {\\n\\t\\tAssert.notNull(servletNames, \"ServletNames must not be null\");\\n\\t\\tthis.servletNames.addAll(Arrays.asList(servletNames));\\n\\t}</td>\n",
       "      <td>[public, void, addServletNames, (, String, ..., servletNames, ), {, Assert, ., notNull, (, servletNames, ,, \"ServletNames must not be null\", ), ;, this, ., servletNames, ., addAll, (, Arrays, ., asList, (, servletNames, ), ), ;, }]</td>\n",
       "      <td>33</td>\n",
       "      <td>src</td>\n",
       "    </tr>\n",
       "  </tbody>\n",
       "</table>\n",
       "</div>"
      ],
      "text/plain": [
       "                                                                                                                                                                                                                                                                                                          code  \\\n",
       "0  protected final void bindIndexed(ConfigurationPropertyName name, Bindable<?> target,\\n\\t\\t\\tAggregateElementBinder elementBinder, ResolvableType aggregateType,\\n\\t\\t\\tResolvableType elementType, IndexedCollectionSupplier result) {\\n\\t\\tfor (ConfigurationPropertySource source : getContext().getSo...   \n",
       "1  public void setServletRegistrationBeans(\\n\\t\\t\\tCollection<? extends ServletRegistrationBean<?>> servletRegistrationBeans) {\\n\\t\\tAssert.notNull(servletRegistrationBeans,\\n\\t\\t\\t\\t\"ServletRegistrationBeans must not be null\");\\n\\t\\tthis.servletRegistrationBeans = new LinkedHashSet<>(servletRegist...   \n",
       "2        public void addServletRegistrationBeans(\\n\\t\\t\\tServletRegistrationBean<?>... servletRegistrationBeans) {\\n\\t\\tAssert.notNull(servletRegistrationBeans,\\n\\t\\t\\t\\t\"ServletRegistrationBeans must not be null\");\\n\\t\\tCollections.addAll(this.servletRegistrationBeans, servletRegistrationBeans);\\n\\t}   \n",
       "3                                                                                                          public void setServletNames(Collection<String> servletNames) {\\n\\t\\tAssert.notNull(servletNames, \"ServletNames must not be null\");\\n\\t\\tthis.servletNames = new LinkedHashSet<>(servletNames);\\n\\t}   \n",
       "4                                                                                                                   public void addServletNames(String... servletNames) {\\n\\t\\tAssert.notNull(servletNames, \"ServletNames must not be null\");\\n\\t\\tthis.servletNames.addAll(Arrays.asList(servletNames));\\n\\t}   \n",
       "\n",
       "                                                                                                                                                                                                                                                                                                   code_tokens  \\\n",
       "0  [protected, final, void, bindIndexed, (, ConfigurationPropertyName, name, ,, Bindable, <, ?, >, target, ,, AggregateElementBinder, elementBinder, ,, ResolvableType, aggregateType, ,, ResolvableType, elementType, ,, IndexedCollectionSupplier, result, ), {, for, (, ConfigurationPropertySource, sou...   \n",
       "1  [public, void, setServletRegistrationBeans, (, Collection, <, ?, extends, ServletRegistrationBean, <, ?, >, >, servletRegistrationBeans, ), {, Assert, ., notNull, (, servletRegistrationBeans, ,, \"ServletRegistrationBeans must not be null\", ), ;, this, ., servletRegistrationBeans, =, new, LinkedH...   \n",
       "2  [public, void, addServletRegistrationBeans, (, ServletRegistrationBean, <, ?, >, ..., servletRegistrationBeans, ), {, Assert, ., notNull, (, servletRegistrationBeans, ,, \"ServletRegistrationBeans must not be null\", ), ;, Collections, ., addAll, (, this, ., servletRegistrationBeans, ,, servletReg...   \n",
       "3                                                                  [public, void, setServletNames, (, Collection, <, String, >, servletNames, ), {, Assert, ., notNull, (, servletNames, ,, \"ServletNames must not be null\", ), ;, this, ., servletNames, =, new, LinkedHashSet, <>, (, servletNames, ), ;, }]   \n",
       "4                                                                      [public, void, addServletNames, (, String, ..., servletNames, ), {, Assert, ., notNull, (, servletNames, ,, \"ServletNames must not be null\", ), ;, this, ., servletNames, ., addAll, (, Arrays, ., asList, (, servletNames, ), ), ;, }]   \n",
       "\n",
       "   code_len data_type  \n",
       "0        80       src  \n",
       "1        37       src  \n",
       "2        33       src  \n",
       "3        32       src  \n",
       "4        33       src  "
      ]
     },
     "execution_count": null,
     "metadata": {},
     "output_type": "execute_result"
    }
   ],
   "source": [
    "java_src_code_df.head()"
   ]
  },
  {
   "cell_type": "markdown",
   "metadata": {},
   "source": [
    "## Exploratory analysis"
   ]
  },
  {
   "cell_type": "code",
   "execution_count": null,
   "metadata": {},
   "outputs": [],
   "source": [
    "# export\n",
    "# Imports\n",
    "import dit\n",
    "import math\n",
    "import os\n",
    "import logging\n",
    "\n",
    "import matplotlib.pyplot as plt\n",
    "import pandas as pd\n",
    "import sentencepiece as sp\n",
    "\n",
    "from collections import Counter\n",
    "from pathlib import Path\n",
    "from scipy.stats import sem, t\n",
    "from statistics import mean, median, stdev\n",
    "from tqdm.notebook import tqdm\n",
    "\n",
    "# ds4se\n",
    "from ds4se.mgmnt.prep.bpe import *\n",
    "from ds4se.exp.info import *\n",
    "from ds4se.desc.stats import *"
   ]
  },
  {
   "cell_type": "code",
   "execution_count": null,
   "metadata": {},
   "outputs": [
    {
     "data": {
      "text/plain": [
       "PosixPath('../data/traceability/semeru-format/LibEST_semeru_format')"
      ]
     },
     "execution_count": null,
     "metadata": {},
     "output_type": "execute_result"
    }
   ],
   "source": [
    "path = Path('../data/traceability/semeru-format/LibEST_semeru_format'); path"
   ]
  },
  {
   "cell_type": "code",
   "execution_count": null,
   "metadata": {},
   "outputs": [],
   "source": [
    "def simulate_getting_dataframes_from_mongo(path):\n",
    "    corpus_data = {'file_name': [], 'data_type': [], 'contents': []}\n",
    "    req_path = path / \"requirements\"\n",
    "    for file in os.listdir(req_path):\n",
    "        corpus_data['file_name'].append(file)\n",
    "        corpus_data['data_type'].append('req')\n",
    "        with open (os.path.join(req_path, file), \"r\") as f:\n",
    "            corpus_data['contents'].append(f.read())\n",
    "    src_path = path / \"source_code\"\n",
    "    for file in os.listdir(src_path):\n",
    "        corpus_data['file_name'].append(file)\n",
    "        corpus_data['data_type'].append('src')\n",
    "        with open (os.path.join(src_path, file), \"r\") as f:\n",
    "            corpus_data['contents'].append(f.read())\n",
    "    tst_path = path / \"test\"\n",
    "    for file in os.listdir(tst_path):\n",
    "        corpus_data['file_name'].append(file)\n",
    "        corpus_data['data_type'].append('test')\n",
    "        with open (os.path.join(tst_path, file), \"r\") as f:\n",
    "            corpus_data['contents'].append(f.read())\n",
    "    corpus_df = pd.DataFrame(data = corpus_data)\n",
    "    return corpus_df"
   ]
  },
  {
   "cell_type": "code",
   "execution_count": null,
   "metadata": {},
   "outputs": [],
   "source": [
    "LIB_corpus_df = simulate_getting_dataframes_from_mongo(path)"
   ]
  },
  {
   "cell_type": "code",
   "execution_count": null,
   "metadata": {},
   "outputs": [
    {
     "data": {
      "text/html": [
       "<div>\n",
       "<style scoped>\n",
       "    .dataframe tbody tr th:only-of-type {\n",
       "        vertical-align: middle;\n",
       "    }\n",
       "\n",
       "    .dataframe tbody tr th {\n",
       "        vertical-align: top;\n",
       "    }\n",
       "\n",
       "    .dataframe thead th {\n",
       "        text-align: right;\n",
       "    }\n",
       "</style>\n",
       "<table border=\"1\" class=\"dataframe\">\n",
       "  <thead>\n",
       "    <tr style=\"text-align: right;\">\n",
       "      <th></th>\n",
       "      <th>file_name</th>\n",
       "      <th>data_type</th>\n",
       "      <th>contents</th>\n",
       "    </tr>\n",
       "  </thead>\n",
       "  <tbody>\n",
       "    <tr>\n",
       "      <th>0</th>\n",
       "      <td>RQ17.txt</td>\n",
       "      <td>req</td>\n",
       "      <td>REQUIREMENT 17: HTTP URIS FOR CONTROL\\n     \\nThe EST server MUST support the use of the path-prefix of \"/.well- known/\" as defined in [RFC5785] and the registered name of \"est\". Thus, a valid EST server URI path begins with \"https://www.example.com/.well-known/est\". Each EST operation is indica...</td>\n",
       "    </tr>\n",
       "    <tr>\n",
       "      <th>1</th>\n",
       "      <td>RQ46.txt</td>\n",
       "      <td>req</td>\n",
       "      <td>REQUIREMENT 46: SERVER-SIDE KEY GENERATION RESPONSE\\n     \\nIf the request is successful, the server response MUST have an HTTP 200 response code with a content-type of \"multipart/mixed\" consisting of two parts: one part is the private key data and the other part is the certificate data.\\n\\nThe ...</td>\n",
       "    </tr>\n",
       "    <tr>\n",
       "      <th>2</th>\n",
       "      <td>RQ18.txt</td>\n",
       "      <td>req</td>\n",
       "      <td>REQUIREMENT 18: HTTP-BASED CLIENT AUTHENTICATION\\n     \\nThe EST server MAY request HTTP-based client authentication. This request can be in addition to successful TLS client authentication (Section 3.3.2) if EST server policy requires additional authentication. (For example, the EST server may ...</td>\n",
       "    </tr>\n",
       "    <tr>\n",
       "      <th>3</th>\n",
       "      <td>RQ48.txt</td>\n",
       "      <td>req</td>\n",
       "      <td>REQUIREMENT 48: CSR ATTRIBUTES REQUEST\\n     \\nThe EST client requests a list of CA-desired CSR attributes from the CA by sending an HTTPS GET message to the EST server with an operations path of \"/csrattrs\".</td>\n",
       "    </tr>\n",
       "    <tr>\n",
       "      <th>4</th>\n",
       "      <td>RQ42.txt</td>\n",
       "      <td>req</td>\n",
       "      <td>REQUIREMENT 42: SERVER-SIDE KEY GENERATION\\n     \\nAn EST client may request a private key and associated certificate from an EST server using an HTTPS POST with an operation path value of \"/serverkeygen\". Support for the /serverkeygen function is OPTIONAL.\\n\\nA client MUST authenticate an EST s...</td>\n",
       "    </tr>\n",
       "  </tbody>\n",
       "</table>\n",
       "</div>"
      ],
      "text/plain": [
       "  file_name data_type  \\\n",
       "0  RQ17.txt       req   \n",
       "1  RQ46.txt       req   \n",
       "2  RQ18.txt       req   \n",
       "3  RQ48.txt       req   \n",
       "4  RQ42.txt       req   \n",
       "\n",
       "                                                                                                                                                                                                                                                                                                      contents  \n",
       "0  REQUIREMENT 17: HTTP URIS FOR CONTROL\\n     \\nThe EST server MUST support the use of the path-prefix of \"/.well- known/\" as defined in [RFC5785] and the registered name of \"est\". Thus, a valid EST server URI path begins with \"https://www.example.com/.well-known/est\". Each EST operation is indica...  \n",
       "1  REQUIREMENT 46: SERVER-SIDE KEY GENERATION RESPONSE\\n     \\nIf the request is successful, the server response MUST have an HTTP 200 response code with a content-type of \"multipart/mixed\" consisting of two parts: one part is the private key data and the other part is the certificate data.\\n\\nThe ...  \n",
       "2  REQUIREMENT 18: HTTP-BASED CLIENT AUTHENTICATION\\n     \\nThe EST server MAY request HTTP-based client authentication. This request can be in addition to successful TLS client authentication (Section 3.3.2) if EST server policy requires additional authentication. (For example, the EST server may ...  \n",
       "3                                                                                             REQUIREMENT 48: CSR ATTRIBUTES REQUEST\\n     \\nThe EST client requests a list of CA-desired CSR attributes from the CA by sending an HTTPS GET message to the EST server with an operations path of \"/csrattrs\".  \n",
       "4  REQUIREMENT 42: SERVER-SIDE KEY GENERATION\\n     \\nAn EST client may request a private key and associated certificate from an EST server using an HTTPS POST with an operation path value of \"/serverkeygen\". Support for the /serverkeygen function is OPTIONAL.\\n\\nA client MUST authenticate an EST s...  "
      ]
     },
     "execution_count": null,
     "metadata": {},
     "output_type": "execute_result"
    }
   ],
   "source": [
    "LIB_corpus_df.head()"
   ]
  },
  {
   "cell_type": "code",
   "execution_count": null,
   "metadata": {},
   "outputs": [
    {
     "data": {
      "text/plain": [
       "(87, 3)"
      ]
     },
     "execution_count": null,
     "metadata": {},
     "output_type": "execute_result"
    }
   ],
   "source": [
    "LIB_corpus_df.shape"
   ]
  },
  {
   "cell_type": "code",
   "execution_count": null,
   "metadata": {},
   "outputs": [],
   "source": [
    "java_path = Path('java/')"
   ]
  },
  {
   "cell_type": "code",
   "execution_count": null,
   "metadata": {},
   "outputs": [],
   "source": [
    "sp_model_from_df(java_src_code_df, output=java_path, model_name='_sp_bpe_modal', cols=['code'])"
   ]
  },
  {
   "cell_type": "code",
   "execution_count": null,
   "metadata": {},
   "outputs": [
    {
     "data": {
      "text/plain": [
       "True"
      ]
     },
     "execution_count": null,
     "metadata": {},
     "output_type": "execute_result"
    }
   ],
   "source": [
    "sp_processor = sp.SentencePieceProcessor()\n",
    "sp_processor.Load(f\"{java_path/'_sp_bpe_modal'}.model\")"
   ]
  },
  {
   "cell_type": "code",
   "execution_count": null,
   "metadata": {},
   "outputs": [
    {
     "data": {
      "text/plain": [
       "(469779, 4)"
      ]
     },
     "execution_count": null,
     "metadata": {},
     "output_type": "execute_result"
    }
   ],
   "source": [
    "java_src_code_df.shape"
   ]
  },
  {
   "cell_type": "code",
   "execution_count": null,
   "metadata": {},
   "outputs": [],
   "source": [
    "java_code_df = java_src_code_df.sample(n=10000)"
   ]
  },
  {
   "cell_type": "code",
   "execution_count": null,
   "metadata": {},
   "outputs": [
    {
     "data": {
      "text/plain": [
       "(10000, 4)"
      ]
     },
     "execution_count": null,
     "metadata": {},
     "output_type": "execute_result"
    }
   ],
   "source": [
    "java_code_df.shape"
   ]
  },
  {
   "cell_type": "code",
   "execution_count": null,
   "metadata": {},
   "outputs": [],
   "source": [
    "# Use the model to compute each file's entropy\n",
    "java_doc_entropies = get_doc_entropies_from_df(java_code_df, 'code', java_path/'_sp_bpe_modal', ['src'])"
   ]
  },
  {
   "cell_type": "code",
   "execution_count": null,
   "metadata": {},
   "outputs": [
    {
     "name": "stdout",
     "output_type": "stream",
     "text": [
      "[[5.689119141343584, 4.51839711669891, 5.129774456203049, 4.704511459715549, 4.988758439731456, 5.447961177183743, 5.244803663125517, 4.225619876671972, 5.848162822532568, 6.352343968852069, 4.865433135830284, 4.862644713288645, 5.173348868823392, 4.646072217435267, 5.038562939644918, 6.549913769124969, 4.639721323486284, 6.205991447736061, 5.8592632326780745, 4.229003731107053, 5.272846213149293, 4.656238668556686, 4.98418371977919, 5.234069531114784, 5.488423812848865, 4.8625759375402735, 5.525835888151542, 5.335986732962039, 4.538909765557392, 4.638522284065602, 5.841055561433243, 4.803055907333278, 4.885207329665017, 4.888788245606211, 6.115749936480819, 4.991348882946702, 4.949660533175186, 5.292758331677116, 5.70036093697389, 5.0931337391011064, 5.070159765557392, 4.538167351804303, 5.297022937710956, 5.763522926438308, 5.666110968098239, 4.961210371792345, 4.683364648336087, 5.117371992982752, 4.719349267862323, 5.026986833359288, 4.6119493340804425, 5.190656750337309, 5.1403441458138195, 6.523941778767764, 6.096903932827629, 4.377727452691787, 4.7532256162426725, 5.340216354094748, 5.195485948727417, 4.75216571132969, 5.286956590321299, 5.565699162538127, 5.205114770530704, 5.194008613277348, 6.112609060654345, 6.648951014187231, 5.946961761280111, 5.3957027778246545, 6.788793579924519, 5.598082002872908, 5.23554445291521, 6.836790328866078, 4.45148902643068, 4.696131794257844, 4.648510460165075, 6.217566420435531, 5.808547672232708, 5.126599786459482, 5.0359392457032595, 5.656677915572233, 5.243579341467191, 5.104648347422164, 4.701746263386653, 5.615432735321318, 5.055958151615123, 4.782723879702405, 4.701797270197448, 5.056302647728645, 5.031401845392171, 4.6534955617749425, 4.648955904159994, 4.686581882561328, 5.800155245991331, 4.902722470153272, 5.538492857018317, 5.313931815271981, 4.0740425676254866, 6.770388465537747, 5.576047269049832, 5.022828541680475]]\n"
     ]
    }
   ],
   "source": [
    "print(java_doc_entropies)"
   ]
  },
  {
   "cell_type": "code",
   "execution_count": null,
   "metadata": {},
   "outputs": [],
   "source": [
    "# Use the model to compute each file's entropy\n",
    "java_corpus_entropies = get_corpus_entropies_from_df(java_code_df, 'code', path/'_sp_bpe_modal', ['src'])"
   ]
  },
  {
   "cell_type": "code",
   "execution_count": null,
   "metadata": {},
   "outputs": [
    {
     "data": {
      "text/plain": [
       "[7.861571334126392]"
      ]
     },
     "execution_count": null,
     "metadata": {},
     "output_type": "execute_result"
    }
   ],
   "source": [
    "java_corpus_entropies"
   ]
  },
  {
   "cell_type": "code",
   "execution_count": null,
   "metadata": {},
   "outputs": [],
   "source": [
    "# Use the model to compute each file's entropy\n",
    "java_system_entropy = get_system_entropy_from_df(java_code_df, 'code', path/'_sp_bpe_modal')"
   ]
  },
  {
   "cell_type": "code",
   "execution_count": null,
   "metadata": {},
   "outputs": [
    {
     "data": {
      "text/plain": [
       "7.861571334126392"
      ]
     },
     "execution_count": null,
     "metadata": {},
     "output_type": "execute_result"
    }
   ],
   "source": [
    "java_system_entropy"
   ]
  },
  {
   "cell_type": "code",
   "execution_count": null,
   "metadata": {},
   "outputs": [],
   "source": [
    "flatten = lambda l: [item for sublist in l for item in sublist]"
   ]
  },
  {
   "cell_type": "code",
   "execution_count": null,
   "metadata": {},
   "outputs": [],
   "source": [
    "report_stats(flatten(java_doc_entropies))"
   ]
  },
  {
   "cell_type": "code",
   "execution_count": null,
   "metadata": {},
   "outputs": [
    {
     "data": {
      "text/plain": [
       "[[5.094551758782526,\n",
       "  4.556752184325417,\n",
       "  6.96774360935608,\n",
       "  4.513153408920675,\n",
       "  4.7718824009949685,\n",
       "  5.489183191567506,\n",
       "  4.528465488430548,\n",
       "  4.44475497457937,\n",
       "  4.810747068619437,\n",
       "  4.427135636004301]]"
      ]
     },
     "execution_count": null,
     "metadata": {},
     "output_type": "execute_result"
    }
   ],
   "source": [
    "java_doc_entropies"
   ]
  },
  {
   "cell_type": "code",
   "execution_count": null,
   "metadata": {},
   "outputs": [],
   "source": [
    "# Create a histogram of the entropy distribution\n",
    "plt.hist(java_doc_entropies, bins = 20)\n",
    "plt.ylabel(\"Num Files\")\n",
    "plt.xlabel(\"Entropy\")\n",
    "plt.show()"
   ]
  }
 ],
 "metadata": {
  "kernelspec": {
   "display_name": "Python 3",
   "language": "python",
   "name": "python3"
  }
 },
 "nbformat": 4,
 "nbformat_minor": 2
}
