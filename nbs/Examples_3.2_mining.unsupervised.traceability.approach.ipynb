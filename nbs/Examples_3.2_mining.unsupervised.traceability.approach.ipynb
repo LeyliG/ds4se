{
 "cells": [
  {
   "cell_type": "code",
   "execution_count": null,
   "metadata": {},
   "outputs": [],
   "source": [
    "# default_exp mining.unsupervised.traceability.approach"
   ]
  },
  {
   "cell_type": "markdown",
   "metadata": {},
   "source": [
    "# Neural Unsupervised Approaches for SE Traceability [approach]\n",
    "\n",
    "> This module is dedicated to evaluate word2vec/doc2vec or any neural unsupervised approaches on traceability datasets. Consider to Copy the entire notebook for a new and separeted empirical evaluation. \n",
    ">\n",
    "> Author: @danaderp April 2020"
   ]
  },
  {
   "cell_type": "markdown",
   "metadata": {},
   "source": []
  },
  {
   "cell_type": "code",
   "execution_count": null,
   "metadata": {},
   "outputs": [],
   "source": [
    "#TODO\n",
    "# http://www.ashukumar27.io/similarity_functions/\n",
    "# https://www.kdnuggets.com/2017/08/comparing-distance-measurements-python-scipy.html\n",
    "# https://towardsdatascience.com/importance-of-distance-metrics-in-machine-learning-modelling-e51395ffe60d\n",
    "# https://www.kdnuggets.com/2019/01/comparison-text-distance-metrics.html"
   ]
  },
  {
   "cell_type": "code",
   "execution_count": null,
   "metadata": {},
   "outputs": [
    {
     "ename": "ModuleNotFoundError",
     "evalue": "No module named 'ds4se.mining'",
     "output_type": "error",
     "traceback": [
      "\u001b[0;31m---------------------------------------------------------------------------\u001b[0m",
      "\u001b[0;31mModuleNotFoundError\u001b[0m                       Traceback (most recent call last)",
      "\u001b[0;32m<ipython-input-3-b9979e6c8ae6>\u001b[0m in \u001b[0;36m<module>\u001b[0;34m\u001b[0m\n\u001b[1;32m      9\u001b[0m \u001b[0;32mimport\u001b[0m \u001b[0mos\u001b[0m\u001b[0;34m\u001b[0m\u001b[0;34m\u001b[0m\u001b[0m\n\u001b[1;32m     10\u001b[0m \u001b[0;34m\u001b[0m\u001b[0m\n\u001b[0;32m---> 11\u001b[0;31m \u001b[0;32mfrom\u001b[0m \u001b[0mds4se\u001b[0m\u001b[0;34m.\u001b[0m\u001b[0mmining\u001b[0m\u001b[0;34m.\u001b[0m\u001b[0munsupervised\u001b[0m\u001b[0;34m.\u001b[0m\u001b[0mtraceability\u001b[0m\u001b[0;34m.\u001b[0m\u001b[0mapproach\u001b[0m \u001b[0;32mimport\u001b[0m \u001b[0;34m*\u001b[0m\u001b[0;34m\u001b[0m\u001b[0;34m\u001b[0m\u001b[0m\n\u001b[0m",
      "\u001b[0;31mModuleNotFoundError\u001b[0m: No module named 'ds4se.mining'"
     ]
    }
   ],
   "source": [
    "# export\n",
    "# Imports\n",
    "import numpy as np\n",
    "import gensim\n",
    "import pandas as pd\n",
    "from itertools import product \n",
    "from random import sample \n",
    "import functools \n",
    "import os\n",
    "\n",
    "from ds4se.mining.unsupervised.traceability.approach import *"
   ]
  },
  {
   "cell_type": "code",
   "execution_count": null,
   "metadata": {},
   "outputs": [],
   "source": [
    "from datetime import datetime\n",
    "import seaborn as sns"
   ]
  },
  {
   "cell_type": "code",
   "execution_count": null,
   "metadata": {},
   "outputs": [],
   "source": [
    "#export\n",
    "import logging\n",
    "logging.basicConfig(format='%(asctime)s : %(levelname)s : %(message)s', level=logging.INFO)"
   ]
  },
  {
   "cell_type": "code",
   "execution_count": null,
   "metadata": {},
   "outputs": [],
   "source": [
    "from sklearn.metrics import precision_recall_curve\n",
    "from sklearn.metrics import plot_precision_recall_curve\n",
    "from sklearn.metrics import auc\n",
    "import matplotlib.pyplot as plt\n",
    "from prg import prg\n",
    "from pandas.plotting import scatter_matrix\n",
    "from pandas.plotting import lag_plot\n",
    "import math as m\n",
    "import random as r\n",
    "import collections\n",
    "from sklearn.metrics.pairwise import cosine_similarity"
   ]
  },
  {
   "cell_type": "code",
   "execution_count": null,
   "metadata": {},
   "outputs": [],
   "source": [
    "from gensim.models import WordEmbeddingSimilarityIndex\n",
    "from gensim.similarities import SparseTermSimilarityMatrix\n",
    "from gensim import corpora"
   ]
  },
  {
   "cell_type": "code",
   "execution_count": null,
   "metadata": {},
   "outputs": [],
   "source": [
    "#https://docs.scipy.org/doc/scipy/reference/generated/scipy.spatial.distance.cosine.html\n",
    "from scipy.spatial import distance\n",
    "from scipy.stats import pearsonr"
   ]
  },
  {
   "cell_type": "code",
   "execution_count": null,
   "metadata": {},
   "outputs": [],
   "source": [
    "from sklearn.metrics import average_precision_score\n",
    "from sklearn.metrics import roc_curve\n",
    "from sklearn.metrics import roc_auc_score\n",
    "from sklearn.metrics import confusion_matrix"
   ]
  },
  {
   "cell_type": "code",
   "execution_count": null,
   "metadata": {},
   "outputs": [
    {
     "data": {
      "text/plain": [
       "{'vectorizationType': <VectorizationType.word2vec: 1>,\n",
       " 'linkType': <LinkType.req2tc: 1>,\n",
       " 'system': 'libest',\n",
       " 'path_to_trained_model': 'test_data/models/word2vec_libest.model',\n",
       " 'source_path': 'test_data/[libest-pre-req].csv',\n",
       " 'target_path': 'test_data/[libest-pre-tc].csv',\n",
       " 'system_path': 'test_data/[libest-pre-all].csv',\n",
       " 'saving_path': 'test_data/',\n",
       " 'names': ['Source', 'Target', 'Linked?']}"
      ]
     },
     "execution_count": null,
     "metadata": {},
     "output_type": "execute_result"
    }
   ],
   "source": [
    "parameters = default_params()\n",
    "parameters"
   ]
  },
  {
   "cell_type": "code",
   "execution_count": null,
   "metadata": {},
   "outputs": [
    {
     "name": "stderr",
     "output_type": "stream",
     "text": [
      "2020-10-18 19:10:31,915 : INFO : adding document #0 to Dictionary(0 unique tokens: [])\n",
      "2020-10-18 19:10:32,004 : INFO : built Dictionary(6957 unique tokens: ['\");', '\"../../', '(\"\\\\', '();', ')))']...) from 87 documents (total 88944 corpus positions)\n",
      "2020-10-18 19:10:32,005 : INFO : loading Word2Vec object from test_data/models/word2vec_libest.model\n",
      "2020-10-18 19:10:32,124 : INFO : loading wv recursively from test_data/models/word2vec_libest.model.wv.* with mmap=None\n",
      "2020-10-18 19:10:32,125 : INFO : setting ignored attribute vectors_norm to None\n",
      "2020-10-18 19:10:32,126 : INFO : loading vocabulary recursively from test_data/models/word2vec_libest.model.vocabulary.* with mmap=None\n",
      "2020-10-18 19:10:32,141 : INFO : loading trainables recursively from test_data/models/word2vec_libest.model.trainables.* with mmap=None\n",
      "2020-10-18 19:10:32,143 : INFO : setting ignored attribute cum_table to None\n",
      "2020-10-18 19:10:32,156 : INFO : loaded test_data/models/word2vec_libest.model\n",
      "2020-10-18 19:10:32,167 : INFO : precomputing L2-norms of word weight vectors\n",
      "2020-10-18 19:10:32,172 : INFO : constructing a sparse term similarity matrix using <gensim.models.keyedvectors.WordEmbeddingSimilarityIndex object at 0x123652ca0>\n",
      "2020-10-18 19:10:32,174 : INFO : iterating over columns in dictionary order\n",
      "2020-10-18 19:10:32,187 : INFO : PROGRESS: at 0.01% columns (1 / 6957, 0.014374% density, 0.014374% projected density)\n",
      "2020-10-18 19:10:38,160 : INFO : PROGRESS: at 14.39% columns (1001 / 6957, 0.315672% density, 2.108413% projected density)\n",
      "2020-10-18 19:10:41,618 : INFO : PROGRESS: at 28.76% columns (2001 / 6957, 0.524049% density, 1.786393% projected density)\n",
      "2020-10-18 19:10:43,962 : INFO : PROGRESS: at 43.14% columns (3001 / 6957, 0.644822% density, 1.475896% projected density)\n",
      "2020-10-18 19:10:46,180 : INFO : PROGRESS: at 57.51% columns (4001 / 6957, 0.754215% density, 1.300821% projected density)\n",
      "2020-10-18 19:10:47,624 : INFO : PROGRESS: at 71.88% columns (5001 / 6957, 0.806674% density, 1.116560% projected density)\n",
      "2020-10-18 19:10:49,458 : INFO : PROGRESS: at 86.26% columns (6001 / 6957, 0.890026% density, 1.029523% projected density)\n",
      "2020-10-18 19:10:51,146 : INFO : constructed a sparse term similarity matrix with 0.969803% density\n"
     ]
    }
   ],
   "source": [
    "#[step 1]Creating the Vectorization Class\n",
    "word2vec = Word2VecSeqVect( params = parameters )"
   ]
  },
  {
   "cell_type": "code",
   "execution_count": null,
   "metadata": {},
   "outputs": [
    {
     "data": {
      "text/plain": [
       "'test_data/LibEST_semeru_format/requirements/RQ17-pre.txt'"
      ]
     },
     "execution_count": null,
     "metadata": {},
     "output_type": "execute_result"
    }
   ],
   "source": [
    "word2vec.df_source['ids'][0]"
   ]
  },
  {
   "cell_type": "code",
   "execution_count": null,
   "metadata": {},
   "outputs": [
    {
     "data": {
      "text/plain": [
       "['requir',\n",
       " 'http',\n",
       " 'uri',\n",
       " 'control',\n",
       " 'est',\n",
       " 'server',\n",
       " 'must',\n",
       " 'support',\n",
       " 'use',\n",
       " 'path',\n",
       " 'prefix',\n",
       " 'well',\n",
       " 'known',\n",
       " 'defin',\n",
       " 'rfc',\n",
       " 'regist',\n",
       " 'name',\n",
       " 'est',\n",
       " 'thus',\n",
       " 'valid',\n",
       " 'est',\n",
       " 'server',\n",
       " 'uri',\n",
       " 'path',\n",
       " 'begin',\n",
       " 'https',\n",
       " 'www',\n",
       " 'exampl',\n",
       " 'com',\n",
       " 'well',\n",
       " 'known',\n",
       " 'est',\n",
       " 'est',\n",
       " 'oper',\n",
       " 'indic',\n",
       " 'path',\n",
       " 'suffix',\n",
       " 'indic',\n",
       " 'intend',\n",
       " 'oper',\n",
       " 'oper',\n",
       " 'correspond',\n",
       " 'uri',\n",
       " 'oper',\n",
       " 'oper',\n",
       " 'path',\n",
       " 'detail',\n",
       " 'distribut',\n",
       " 'cacert',\n",
       " 'section',\n",
       " 'certif',\n",
       " 'must',\n",
       " 'enrol',\n",
       " 'simpleenrol',\n",
       " 'section',\n",
       " 'client',\n",
       " 'must',\n",
       " 'enrol',\n",
       " 'simplereenrol',\n",
       " 'section',\n",
       " 'client',\n",
       " 'must',\n",
       " 'full',\n",
       " 'cmc',\n",
       " 'option',\n",
       " 'fullcmc',\n",
       " 'section',\n",
       " 'server',\n",
       " 'side',\n",
       " 'key',\n",
       " 'serverkeygen',\n",
       " 'section',\n",
       " 'generat',\n",
       " 'option',\n",
       " 'csr',\n",
       " 'attribut',\n",
       " 'csrattr',\n",
       " 'section',\n",
       " 'option',\n",
       " 'figur',\n",
       " 'oper',\n",
       " 'path',\n",
       " 'figur',\n",
       " 'append',\n",
       " 'path',\n",
       " 'prefix',\n",
       " 'form',\n",
       " 'uri',\n",
       " 'use',\n",
       " 'http',\n",
       " 'get',\n",
       " 'post',\n",
       " 'perform',\n",
       " 'desir',\n",
       " 'est',\n",
       " 'oper',\n",
       " 'exampl',\n",
       " 'valid',\n",
       " 'uri',\n",
       " 'absolut',\n",
       " 'path',\n",
       " 'cacert',\n",
       " 'oper',\n",
       " '\"/.',\n",
       " 'well',\n",
       " 'known',\n",
       " 'est',\n",
       " 'cacert',\n",
       " 'retriev',\n",
       " 'certif',\n",
       " 'est',\n",
       " 'client',\n",
       " 'would',\n",
       " 'use',\n",
       " 'follow',\n",
       " 'http',\n",
       " 'request',\n",
       " 'line',\n",
       " 'get',\n",
       " 'well',\n",
       " 'known',\n",
       " 'est',\n",
       " 'cacert',\n",
       " 'http',\n",
       " 'likewis',\n",
       " 'request',\n",
       " 'new',\n",
       " 'certif',\n",
       " 'exampl',\n",
       " 'scheme',\n",
       " 'est',\n",
       " 'client',\n",
       " 'would',\n",
       " 'use',\n",
       " 'follow',\n",
       " 'request',\n",
       " 'line',\n",
       " 'post',\n",
       " 'well',\n",
       " 'known',\n",
       " 'est',\n",
       " 'simpleenrol',\n",
       " 'http',\n",
       " 'use',\n",
       " 'distinct',\n",
       " 'oper',\n",
       " 'path',\n",
       " 'simplifi',\n",
       " 'implement',\n",
       " 'server',\n",
       " 'perform',\n",
       " 'client',\n",
       " 'authent',\n",
       " 'distribut',\n",
       " 'cacert',\n",
       " 'respons',\n",
       " 'est',\n",
       " 'server',\n",
       " 'may',\n",
       " 'provid',\n",
       " 'servic',\n",
       " 'multipl',\n",
       " 'cas',\n",
       " 'indic',\n",
       " 'option',\n",
       " 'addit',\n",
       " 'path',\n",
       " 'segment',\n",
       " 'regist',\n",
       " 'applic',\n",
       " 'name',\n",
       " 'oper',\n",
       " 'path',\n",
       " 'avoid',\n",
       " 'conflict',\n",
       " 'label',\n",
       " 'must',\n",
       " 'defin',\n",
       " 'oper',\n",
       " 'path',\n",
       " 'segment',\n",
       " 'est',\n",
       " 'server',\n",
       " 'must',\n",
       " 'provid',\n",
       " 'servic',\n",
       " 'regardless',\n",
       " 'whether',\n",
       " 'addit',\n",
       " 'path',\n",
       " 'segment',\n",
       " 'present',\n",
       " 'follow',\n",
       " 'three',\n",
       " 'exampl',\n",
       " 'valid',\n",
       " 'uri',\n",
       " 'https',\n",
       " '://',\n",
       " 'www',\n",
       " 'exampl',\n",
       " 'com',\n",
       " 'well',\n",
       " 'known',\n",
       " 'est',\n",
       " 'cacert',\n",
       " 'https',\n",
       " '://',\n",
       " 'www',\n",
       " 'exampl',\n",
       " 'com',\n",
       " 'well',\n",
       " 'known',\n",
       " 'est',\n",
       " 'arbitrari',\n",
       " 'label1',\n",
       " 'cacert',\n",
       " 'https',\n",
       " '://',\n",
       " 'www',\n",
       " 'exampl',\n",
       " 'com',\n",
       " 'well',\n",
       " 'known',\n",
       " 'est',\n",
       " 'arbitrari',\n",
       " 'label2',\n",
       " 'cacert',\n",
       " 'specif',\n",
       " 'distinct',\n",
       " 'enrol',\n",
       " 'renew',\n",
       " 'rekey',\n",
       " 'explicit',\n",
       " 'indic',\n",
       " 'http',\n",
       " 'uri',\n",
       " 'request',\n",
       " 'fullcmc',\n",
       " 'oper',\n",
       " 'cmc',\n",
       " 'rfc5272',\n",
       " 'use',\n",
       " 'messag',\n",
       " 'certif',\n",
       " 'renew',\n",
       " 'certif',\n",
       " 'rekey',\n",
       " 'est',\n",
       " 'server',\n",
       " 'provid',\n",
       " 'addit',\n",
       " 'servic',\n",
       " 'use',\n",
       " 'uri']"
      ]
     },
     "execution_count": null,
     "metadata": {},
     "output_type": "execute_result"
    }
   ],
   "source": [
    "idss = word2vec.df_source['ids'][0] #Selecting an ID\n",
    "idss = word2vec.df_source['ids'] == idss #Search for an specific ID\n",
    "list(word2vec.df_source[idss]['text'])[0].split() #Retrieving text and splitting"
   ]
  },
  {
   "cell_type": "code",
   "execution_count": null,
   "metadata": {},
   "outputs": [
    {
     "data": {
      "text/html": [
       "<div>\n",
       "<style scoped>\n",
       "    .dataframe tbody tr th:only-of-type {\n",
       "        vertical-align: middle;\n",
       "    }\n",
       "\n",
       "    .dataframe tbody tr th {\n",
       "        vertical-align: top;\n",
       "    }\n",
       "\n",
       "    .dataframe thead th {\n",
       "        text-align: right;\n",
       "    }\n",
       "</style>\n",
       "<table border=\"1\" class=\"dataframe\">\n",
       "  <thead>\n",
       "    <tr style=\"text-align: right;\">\n",
       "      <th></th>\n",
       "      <th>ids</th>\n",
       "      <th>text</th>\n",
       "    </tr>\n",
       "  </thead>\n",
       "  <tbody>\n",
       "    <tr>\n",
       "      <th>0</th>\n",
       "      <td>test_data/LibEST_semeru_format/requirements/RQ...</td>\n",
       "      <td>requir http uri control est server must suppor...</td>\n",
       "    </tr>\n",
       "    <tr>\n",
       "      <th>1</th>\n",
       "      <td>test_data/LibEST_semeru_format/requirements/RQ...</td>\n",
       "      <td>requir server side key generat respons request...</td>\n",
       "    </tr>\n",
       "    <tr>\n",
       "      <th>2</th>\n",
       "      <td>test_data/LibEST_semeru_format/requirements/RQ...</td>\n",
       "      <td>requir http base client authent est server may...</td>\n",
       "    </tr>\n",
       "    <tr>\n",
       "      <th>3</th>\n",
       "      <td>test_data/LibEST_semeru_format/requirements/RQ...</td>\n",
       "      <td>requir csr attribut request est client request...</td>\n",
       "    </tr>\n",
       "    <tr>\n",
       "      <th>4</th>\n",
       "      <td>test_data/LibEST_semeru_format/requirements/RQ...</td>\n",
       "      <td>requir server side key generat est client may ...</td>\n",
       "    </tr>\n",
       "  </tbody>\n",
       "</table>\n",
       "</div>"
      ],
      "text/plain": [
       "                                                 ids  \\\n",
       "0  test_data/LibEST_semeru_format/requirements/RQ...   \n",
       "1  test_data/LibEST_semeru_format/requirements/RQ...   \n",
       "2  test_data/LibEST_semeru_format/requirements/RQ...   \n",
       "3  test_data/LibEST_semeru_format/requirements/RQ...   \n",
       "4  test_data/LibEST_semeru_format/requirements/RQ...   \n",
       "\n",
       "                                                text  \n",
       "0  requir http uri control est server must suppor...  \n",
       "1  requir server side key generat respons request...  \n",
       "2  requir http base client authent est server may...  \n",
       "3  requir csr attribut request est client request...  \n",
       "4  requir server side key generat est client may ...  "
      ]
     },
     "execution_count": null,
     "metadata": {},
     "output_type": "execute_result"
    }
   ],
   "source": [
    "word2vec.df_source.head()"
   ]
  },
  {
   "cell_type": "code",
   "execution_count": null,
   "metadata": {},
   "outputs": [
    {
     "data": {
      "text/html": [
       "<div>\n",
       "<style scoped>\n",
       "    .dataframe tbody tr th:only-of-type {\n",
       "        vertical-align: middle;\n",
       "    }\n",
       "\n",
       "    .dataframe tbody tr th {\n",
       "        vertical-align: top;\n",
       "    }\n",
       "\n",
       "    .dataframe thead th {\n",
       "        text-align: right;\n",
       "    }\n",
       "</style>\n",
       "<table border=\"1\" class=\"dataframe\">\n",
       "  <thead>\n",
       "    <tr style=\"text-align: right;\">\n",
       "      <th></th>\n",
       "      <th>ids</th>\n",
       "      <th>text</th>\n",
       "    </tr>\n",
       "  </thead>\n",
       "  <tbody>\n",
       "    <tr>\n",
       "      <th>0</th>\n",
       "      <td>test_data/LibEST_semeru_format/test/us903.c</td>\n",
       "      <td>unit test user stori server simpl enrol august...</td>\n",
       "    </tr>\n",
       "    <tr>\n",
       "      <th>1</th>\n",
       "      <td>test_data/LibEST_semeru_format/test/us3496.c</td>\n",
       "      <td>unit test uri path segment extens support marc...</td>\n",
       "    </tr>\n",
       "    <tr>\n",
       "      <th>2</th>\n",
       "      <td>test_data/LibEST_semeru_format/test/us899.c</td>\n",
       "      <td>unit test user stori client simpl enrol septem...</td>\n",
       "    </tr>\n",
       "    <tr>\n",
       "      <th>3</th>\n",
       "      <td>test_data/LibEST_semeru_format/test/us4020.c</td>\n",
       "      <td>unit test user stori unit test client proxi mo...</td>\n",
       "    </tr>\n",
       "    <tr>\n",
       "      <th>4</th>\n",
       "      <td>test_data/LibEST_semeru_format/test/us897.c</td>\n",
       "      <td>unit test user stori client cacert june copyri...</td>\n",
       "    </tr>\n",
       "  </tbody>\n",
       "</table>\n",
       "</div>"
      ],
      "text/plain": [
       "                                            ids  \\\n",
       "0   test_data/LibEST_semeru_format/test/us903.c   \n",
       "1  test_data/LibEST_semeru_format/test/us3496.c   \n",
       "2   test_data/LibEST_semeru_format/test/us899.c   \n",
       "3  test_data/LibEST_semeru_format/test/us4020.c   \n",
       "4   test_data/LibEST_semeru_format/test/us897.c   \n",
       "\n",
       "                                                text  \n",
       "0  unit test user stori server simpl enrol august...  \n",
       "1  unit test uri path segment extens support marc...  \n",
       "2  unit test user stori client simpl enrol septem...  \n",
       "3  unit test user stori unit test client proxi mo...  \n",
       "4  unit test user stori client cacert june copyri...  "
      ]
     },
     "execution_count": null,
     "metadata": {},
     "output_type": "execute_result"
    }
   ],
   "source": [
    "word2vec.df_target.head()"
   ]
  },
  {
   "cell_type": "code",
   "execution_count": null,
   "metadata": {},
   "outputs": [
    {
     "data": {
      "text/plain": [
       "[('RQ8-pre.txt', 'us4020.c'), ('RQ6-pre.txt', 'us1864.c')]"
      ]
     },
     "execution_count": null,
     "metadata": {},
     "output_type": "execute_result"
    }
   ],
   "source": [
    "links = word2vec.samplingLinks(sampling=True, samples = 2)\n",
    "links"
   ]
  },
  {
   "cell_type": "code",
   "execution_count": null,
   "metadata": {},
   "outputs": [
    {
     "name": "stdout",
     "output_type": "stream",
     "text": [
      "2 (52, 2) (21, 2)\n"
     ]
    }
   ],
   "source": [
    "print( len(links), word2vec.df_source.shape, word2vec.df_target.shape )"
   ]
  },
  {
   "cell_type": "code",
   "execution_count": null,
   "metadata": {},
   "outputs": [
    {
     "name": "stderr",
     "output_type": "stream",
     "text": [
      "2020-10-18 18:53:19,395 : INFO : adding document #0 to Dictionary(0 unique tokens: [])\n",
      "2020-10-18 18:53:19,398 : INFO : built Dictionary(397 unique tokens: ['abl', 'absent', 'altern', 'applic', 'associ']...) from 2 documents (total 1145 corpus positions)\n",
      "2020-10-18 18:53:23,494 : INFO : Computed distances or similarities ('RQ25-pre.txt', 'us896.c')[[0.47075769695671116, 0.6799216499558003], [0.7143128514289856, 0.28568715]]\n",
      "2020-10-18 18:53:23,497 : INFO : adding document #0 to Dictionary(0 unique tokens: [])\n",
      "2020-10-18 18:53:23,501 : INFO : built Dictionary(536 unique tokens: ['abl', 'accept', 'administr', 'authent', 'author']...) from 2 documents (total 2598 corpus positions)\n",
      "2020-10-18 18:53:25,366 : INFO : Computed distances or similarities ('RQ35-pre.txt', 'us893.c')[[0.42247504232645433, 0.7030000318068867], [0.5571423470973969, 0.44285765]]\n"
     ]
    },
    {
     "data": {
      "text/plain": [
       "([['RQ25-pre.txt',\n",
       "   'us896.c',\n",
       "   0.47075769695671116,\n",
       "   0.6799216499558003,\n",
       "   0.7143128514289856,\n",
       "   0.28568715],\n",
       "  ['RQ35-pre.txt',\n",
       "   'us893.c',\n",
       "   0.42247504232645433,\n",
       "   0.7030000318068867,\n",
       "   0.5571423470973969,\n",
       "   0.44285765]],\n",
       " [<DistanceMetric.WMD: 1>,\n",
       "  <SimilarityMetric.WMD_sim: 1>,\n",
       "  <DistanceMetric.SCM: 3>,\n",
       "  <SimilarityMetric.SCM_sim: 3>])"
      ]
     },
     "execution_count": null,
     "metadata": {},
     "output_type": "execute_result"
    }
   ],
   "source": [
    "#[optional] computeDistanceMetric Testing [WARNING!] Time Consuming!!\n",
    "computeDistanceMetric = word2vec.computeDistanceMetric(links, metric_list = [DistanceMetric.WMD,DistanceMetric.SCM])\n",
    "computeDistanceMetric"
   ]
  },
  {
   "cell_type": "code",
   "execution_count": null,
   "metadata": {},
   "outputs": [
    {
     "name": "stderr",
     "output_type": "stream",
     "text": [
      "2020-10-18 19:12:52,630 : INFO : adding document #0 to Dictionary(0 unique tokens: [])\n",
      "2020-10-18 19:12:52,635 : INFO : built Dictionary(516 unique tokens: ['attribut', 'client', 'csr', 'csrattr', 'desir']...) from 2 documents (total 2484 corpus positions)\n",
      "2020-10-18 19:12:53,192 : INFO : Computed distances or similarities ('RQ48-pre.txt', 'us893.c')[[0.3546829269802515, 0.7381801158660191], [0.35216033458709717, 0.64783967]]\n",
      "2020-10-18 19:12:53,202 : INFO : adding document #0 to Dictionary(0 unique tokens: [])\n",
      "2020-10-18 19:12:53,206 : INFO : built Dictionary(529 unique tokens: ['authent', 'author', 'base', 'cacert', 'certif']...) from 2 documents (total 2535 corpus positions)\n",
      "2020-10-18 19:12:54,593 : INFO : Computed distances or similarities ('RQ33-pre.txt', 'us893.c')[[0.38586590012929317, 0.7215705357255026], [0.5318330824375153, 0.46816692]]\n",
      "2020-10-18 19:12:54,597 : INFO : adding document #0 to Dictionary(0 unique tokens: [])\n",
      "2020-10-18 19:12:54,603 : INFO : built Dictionary(1117 unique tokens: ['attribut', 'client', 'csr', 'csrattr', 'desir']...) from 2 documents (total 2476 corpus positions)\n",
      "2020-10-18 19:12:56,610 : INFO : Computed distances or similarities ('RQ48-pre.txt', 'us2174.c')[[0.3442187049020595, 0.743926562212851], [0.3845078945159912, 0.6154921]]\n",
      "2020-10-18 19:12:56,613 : INFO : adding document #0 to Dictionary(0 unique tokens: [])\n",
      "2020-10-18 19:12:56,615 : INFO : built Dictionary(354 unique tokens: ['addit', 'allow', 'anchor', 'assum', 'authent']...) from 2 documents (total 981 corpus positions)\n",
      "2020-10-18 19:12:58,082 : INFO : Computed distances or similarities ('RQ4-pre.txt', 'us896.c')[[0.509115453682358, 0.662639824911953], [0.7564830482006073, 0.24351695]]\n",
      "2020-10-18 19:12:58,086 : INFO : adding document #0 to Dictionary(0 unique tokens: [])\n",
      "2020-10-18 19:12:58,089 : INFO : built Dictionary(524 unique tokens: [')\",', '106', '2005', '2006', '2008']...) from 2 documents (total 3106 corpus positions)\n",
      "2020-10-18 19:13:03,919 : INFO : Computed distances or similarities ('RQ52-pre.txt', 'us897.c')[[0.4526412434387204, 0.6884012171049065], [0.7613942623138428, 0.23860574]]\n",
      "2020-10-18 19:13:03,922 : INFO : adding document #0 to Dictionary(0 unique tokens: [])\n",
      "2020-10-18 19:13:03,924 : INFO : built Dictionary(366 unique tokens: ['addit', 'anon', 'appropri', 'aris', 'associ']...) from 2 documents (total 1041 corpus positions)\n",
      "2020-10-18 19:13:05,785 : INFO : Computed distances or similarities ('RQ18-pre.txt', 'us896.c')[[0.5364219422262598, 0.6508628733530127], [0.7348301112651825, 0.2651699]]\n",
      "2020-10-18 19:13:05,789 : INFO : adding document #0 to Dictionary(0 unique tokens: [])\n",
      "2020-10-18 19:13:05,792 : INFO : built Dictionary(438 unique tokens: ['access', 'addit', 'advanc', 'alt', 'applic']...) from 2 documents (total 2837 corpus positions)\n",
      "2020-10-18 19:13:07,284 : INFO : Computed distances or similarities ('RQ36-pre.txt', 'us898.c')[[0.4489451450598574, 0.6901572522669166], [0.6457528471946716, 0.35424715]]\n",
      "2020-10-18 19:13:07,287 : INFO : adding document #0 to Dictionary(0 unique tokens: [])\n",
      "2020-10-18 19:13:07,289 : INFO : built Dictionary(328 unique tokens: ['addit', 'also', 'associ', 'authent', 'avail']...) from 2 documents (total 1543 corpus positions)\n",
      "2020-10-18 19:13:07,867 : INFO : Computed distances or similarities ('RQ15-pre.txt', 'us1005.c')[[0.3907830650915825, 0.7190193964104319], [0.4821077585220337, 0.51789224]]\n",
      "2020-10-18 19:13:07,875 : INFO : adding document #0 to Dictionary(0 unique tokens: [])\n",
      "2020-10-18 19:13:07,878 : INFO : built Dictionary(528 unique tokens: ['alt', 'attribut', 'certif', 'chang', 'client']...) from 2 documents (total 2546 corpus positions)\n",
      "2020-10-18 19:13:09,365 : INFO : Computed distances or similarities ('RQ37-pre.txt', 'us893.c')[[0.3447508452621243, 0.743632178052341], [0.5147005319595337, 0.48529947]]\n",
      "2020-10-18 19:13:09,370 : INFO : adding document #0 to Dictionary(0 unique tokens: [])\n",
      "2020-10-18 19:13:09,373 : INFO : built Dictionary(309 unique tokens: ['accord', 'certif', 'check', 'client', 'cmc']...) from 2 documents (total 1133 corpus positions)\n",
      "2020-10-18 19:13:09,827 : INFO : Computed distances or similarities ('RQ27-pre.txt', 'us3612.c')[[0.4738964896402982, 0.6784736967818196], [0.6987158954143524, 0.3012841]]\n",
      "2020-10-18 19:13:09,830 : INFO : adding document #0 to Dictionary(0 unique tokens: [])\n",
      "2020-10-18 19:13:09,834 : INFO : built Dictionary(437 unique tokens: ['assum', 'authent', 'author', 'base', 'bootstrap']...) from 2 documents (total 2247 corpus positions)\n",
      "2020-10-18 19:13:10,886 : INFO : Computed distances or similarities ('RQ21-pre.txt', 'us1159.c')[[0.4878608451009564, 0.672105864800916], [0.6733910441398621, 0.32660896]]\n",
      "2020-10-18 19:13:10,888 : INFO : adding document #0 to Dictionary(0 unique tokens: [])\n",
      "2020-10-18 19:13:10,891 : INFO : built Dictionary(354 unique tokens: ['abil', 'abl', 'along', 'also', 'applic']...) from 2 documents (total 1256 corpus positions)\n",
      "2020-10-18 19:13:12,155 : INFO : Computed distances or similarities ('RQ14-pre.txt', 'us3612.c')[[0.4378359409809038, 0.6954896393240745], [0.6666561365127563, 0.33334386]]\n",
      "2020-10-18 19:13:12,158 : INFO : adding document #0 to Dictionary(0 unique tokens: [])\n",
      "2020-10-18 19:13:12,161 : INFO : built Dictionary(537 unique tokens: ['applic', 'base', 'binari', 'bodi', 'cmc']...) from 2 documents (total 2867 corpus positions)\n",
      "2020-10-18 19:13:12,974 : INFO : Computed distances or similarities ('RQ40-pre.txt', 'us894.c')[[0.4158730808563642, 0.7062779944902751], [0.6161069571971893, 0.38389304]]\n",
      "2020-10-18 19:13:12,985 : INFO : adding document #0 to Dictionary(0 unique tokens: [])\n",
      "2020-10-18 19:13:12,989 : INFO : built Dictionary(609 unique tokens: ['certif', 'client', 'copi', 'current', 'distribut']...) from 2 documents (total 1051 corpus positions)\n",
      "2020-10-18 19:13:13,558 : INFO : Computed distances or similarities ('RQ31-pre.txt', 'us1864.c')[[0.3996706731951556, 0.7144537776998706], [0.560113936662674, 0.43988606]]\n",
      "2020-10-18 19:13:13,565 : INFO : adding document #0 to Dictionary(0 unique tokens: [])\n",
      "2020-10-18 19:13:13,571 : INFO : built Dictionary(329 unique tokens: ['addit', 'also', 'associ', 'authent', 'avail']...) from 2 documents (total 2692 corpus positions)\n",
      "2020-10-18 19:13:14,098 : INFO : Computed distances or similarities ('RQ15-pre.txt', 'us897.c')[[0.5498570582139954, 0.6452207929112942], [0.7310160100460052, 0.268984]]\n",
      "2020-10-18 19:13:14,102 : INFO : adding document #0 to Dictionary(0 unique tokens: [])\n",
      "2020-10-18 19:13:14,105 : INFO : built Dictionary(472 unique tokens: ['abil', 'abl', 'along', 'also', 'applic']...) from 2 documents (total 1878 corpus positions)\n",
      "2020-10-18 19:13:16,367 : INFO : Computed distances or similarities ('RQ14-pre.txt', 'us3496.c')[[0.4820351702742573, 0.6747478197936054], [0.7054395377635956, 0.29456046]]\n",
      "2020-10-18 19:13:16,370 : INFO : adding document #0 to Dictionary(0 unique tokens: [])\n",
      "2020-10-18 19:13:16,372 : INFO : built Dictionary(392 unique tokens: ['1ar', '802', 'also', 'anchor', 'aspect']...) from 2 documents (total 1541 corpus positions)\n",
      "2020-10-18 19:13:18,959 : INFO : Computed distances or similarities ('RQ13-pre.txt', 'us3612.c')[[0.463546750469561, 0.6832716479191131], [0.6986926198005676, 0.30130738]]\n",
      "2020-10-18 19:13:18,966 : INFO : adding document #0 to Dictionary(0 unique tokens: [])\n",
      "2020-10-18 19:13:18,973 : INFO : built Dictionary(800 unique tokens: ['addit', 'anon', 'appropri', 'aris', 'associ']...) from 2 documents (total 2128 corpus positions)\n",
      "2020-10-18 19:13:34,946 : INFO : Computed distances or similarities ('RQ18-pre.txt', 'us903.c')[[0.4018481079463327, 0.7133440451440715], [0.4446258544921875, 0.55537415]]\n",
      "2020-10-18 19:13:34,951 : INFO : adding document #0 to Dictionary(0 unique tokens: [])\n",
      "2020-10-18 19:13:34,952 : INFO : built Dictionary(360 unique tokens: ['\"/.', '://', 'absolut', 'addit', 'append']...) from 2 documents (total 1711 corpus positions)\n",
      "2020-10-18 19:13:36,074 : INFO : Computed distances or similarities ('RQ17-pre.txt', 'us1005.c')[[0.3275343658490093, 0.7532761680037273], [0.4391542673110962, 0.56084573]]\n",
      "2020-10-18 19:13:36,077 : INFO : adding document #0 to Dictionary(0 unique tokens: [])\n",
      "2020-10-18 19:13:36,080 : INFO : built Dictionary(436 unique tokens: ['agreement', 'asn', 'asymm', 'asymmetr', 'attribut']...) from 2 documents (total 1810 corpus positions)\n"
     ]
    },
    {
     "name": "stderr",
     "output_type": "stream",
     "text": [
      "2020-10-18 19:13:36,844 : INFO : Computed distances or similarities ('RQ45-pre.txt', 'us3496.c')[[0.3832968648173863, 0.7229106242006942], [0.5843002200126648, 0.41569978]]\n",
      "2020-10-18 19:13:36,848 : INFO : adding document #0 to Dictionary(0 unique tokens: [])\n",
      "2020-10-18 19:13:36,853 : INFO : built Dictionary(1145 unique tokens: ['accept', 'appli', 'authent', 'author', 'bootstrap']...) from 2 documents (total 2998 corpus positions)\n",
      "2020-10-18 19:13:43,508 : INFO : Computed distances or similarities ('RQ26-pre.txt', 'us1883.c')[[0.36241007482871196, 0.7339933977849689], [0.4114319086074829, 0.5885681]]\n",
      "2020-10-18 19:13:43,513 : INFO : adding document #0 to Dictionary(0 unique tokens: [])\n",
      "2020-10-18 19:13:43,516 : INFO : built Dictionary(432 unique tokens: ['accept', 'access', 'also', 'altern', 'assur']...) from 2 documents (total 2762 corpus positions)\n",
      "2020-10-18 19:13:45,445 : INFO : Computed distances or similarities ('RQ20-pre.txt', 'us898.c')[[0.5216272201063454, 0.6571911876879482], [0.7179038822650909, 0.28209612]]\n",
      "2020-10-18 19:13:45,451 : INFO : adding document #0 to Dictionary(0 unique tokens: [])\n",
      "2020-10-18 19:13:45,455 : INFO : built Dictionary(597 unique tokens: ['0ja7', '0pf', '1122', '200', '2lmcnf']...) from 2 documents (total 1529 corpus positions)\n",
      "2020-10-18 19:13:56,069 : INFO : Computed distances or similarities ('RQ57-pre.txt', 'us3612.c')[[0.3983154069593489, 0.7151462359801286], [0.6703324317932129, 0.32966757]]\n",
      "2020-10-18 19:13:56,073 : INFO : adding document #0 to Dictionary(0 unique tokens: [])\n",
      "2020-10-18 19:13:56,075 : INFO : built Dictionary(318 unique tokens: ['applic', 'base', 'binari', 'bodi', 'cert']...) from 2 documents (total 2698 corpus positions)\n",
      "2020-10-18 19:13:56,688 : INFO : Computed distances or similarities ('RQ41-pre.txt', 'us897.c')[[0.5235695158373814, 0.656353379091063], [0.7336568832397461, 0.26634312]]\n",
      "2020-10-18 19:13:56,694 : INFO : adding document #0 to Dictionary(0 unique tokens: [])\n",
      "2020-10-18 19:13:56,726 : INFO : built Dictionary(1205 unique tokens: ['10045', '132', '840', 'access', 'addit']...) from 2 documents (total 2810 corpus positions)\n",
      "2020-10-18 19:15:04,631 : INFO : Computed distances or similarities ('RQ49-pre.txt', 'us2174.c')[[0.25533958524558803, 0.7965972010707886], [0.41309672594070435, 0.5869033]]\n",
      "2020-10-18 19:15:04,637 : INFO : adding document #0 to Dictionary(0 unique tokens: [])\n",
      "2020-10-18 19:15:04,642 : INFO : built Dictionary(681 unique tokens: ['accept', 'administr', 'advis', 'alreadi', 'also']...) from 2 documents (total 1278 corpus positions)\n",
      "2020-10-18 19:15:21,003 : INFO : Computed distances or similarities ('RQ38-pre.txt', 'us1864.c')[[0.3095697945079721, 0.7636095488715187], [0.44590532779693604, 0.5540947]]\n",
      "2020-10-18 19:15:21,007 : INFO : adding document #0 to Dictionary(0 unique tokens: [])\n",
      "2020-10-18 19:15:21,012 : INFO : built Dictionary(506 unique tokens: ['abl', 'absent', 'altern', 'applic', 'associ']...) from 2 documents (total 2022 corpus positions)\n",
      "2020-10-18 19:15:26,000 : INFO : Computed distances or similarities ('RQ25-pre.txt', 'us3496.c')[[0.5090198254675349, 0.6626818171127561], [0.7225441038608551, 0.2774559]]\n",
      "2020-10-18 19:15:26,004 : INFO : adding document #0 to Dictionary(0 unique tokens: [])\n",
      "2020-10-18 19:15:26,009 : INFO : built Dictionary(418 unique tokens: ['certif', 'client', 'cmc', 'est', 'full']...) from 2 documents (total 1735 corpus positions)\n",
      "2020-10-18 19:15:26,456 : INFO : Computed distances or similarities ('RQ39-pre.txt', 'us3496.c')[[0.5433324723708515, 0.6479485256108234], [0.7514509409666061, 0.24854906]]\n",
      "2020-10-18 19:15:26,459 : INFO : adding document #0 to Dictionary(0 unique tokens: [])\n",
      "2020-10-18 19:15:26,463 : INFO : built Dictionary(810 unique tokens: ['add', 'addit', 'address', 'anoth', 'applic']...) from 2 documents (total 2037 corpus positions)\n",
      "2020-10-18 19:15:40,542 : INFO : Computed distances or similarities ('RQ50-pre.txt', 'us748.c')[[0.25620588103826025, 0.7960478573571835], [0.412871778011322, 0.5871282]]\n",
      "2020-10-18 19:15:40,546 : INFO : adding document #0 to Dictionary(0 unique tokens: [])\n",
      "2020-10-18 19:15:40,550 : INFO : built Dictionary(682 unique tokens: ['accord', 'certif', 'check', 'client', 'cmc']...) from 2 documents (total 2424 corpus positions)\n",
      "2020-10-18 19:15:42,231 : INFO : Computed distances or similarities ('RQ27-pre.txt', 'us3512.c')[[0.3933149457561912, 0.7177128208132956], [0.5569562911987305, 0.4430437]]\n",
      "2020-10-18 19:15:42,235 : INFO : adding document #0 to Dictionary(0 unique tokens: [])\n",
      "2020-10-18 19:15:42,239 : INFO : built Dictionary(363 unique tokens: ['addit', 'anchor', 'assum', 'authent', 'author']...) from 2 documents (total 2800 corpus positions)\n",
      "2020-10-18 19:15:43,421 : INFO : Computed distances or similarities ('RQ2-pre.txt', 'us897.c')[[0.48018136294000524, 0.6755928868160814], [0.695372074842453, 0.30462793]]\n",
      "2020-10-18 19:15:43,424 : INFO : adding document #0 to Dictionary(0 unique tokens: [])\n",
      "2020-10-18 19:15:43,429 : INFO : built Dictionary(1131 unique tokens: ['applic', 'base', 'binari', 'bodi', 'cert']...) from 2 documents (total 2549 corpus positions)\n",
      "2020-10-18 19:15:56,177 : INFO : Computed distances or similarities ('RQ41-pre.txt', 'us2174.c')[[0.3198330811531412, 0.757671567927588], [0.535609781742096, 0.46439022]]\n",
      "2020-10-18 19:15:56,180 : INFO : adding document #0 to Dictionary(0 unique tokens: [])\n",
      "2020-10-18 19:15:56,184 : INFO : built Dictionary(775 unique tokens: ['accord', 'addit', 'advis', 'allow', 'attribut']...) from 2 documents (total 1941 corpus positions)\n",
      "2020-10-18 19:15:59,475 : INFO : Computed distances or similarities ('RQ47-pre.txt', 'us748.c')[[0.34950729337691483, 0.7410111860141699], [0.44160884618759155, 0.55839115]]\n",
      "2020-10-18 19:15:59,480 : INFO : adding document #0 to Dictionary(0 unique tokens: [])\n",
      "2020-10-18 19:15:59,485 : INFO : built Dictionary(763 unique tokens: ['accept', 'administr', 'advis', 'alreadi', 'also']...) from 2 documents (total 3770 corpus positions)\n",
      "2020-10-18 19:16:20,649 : INFO : Computed distances or similarities ('RQ38-pre.txt', 'us899.c')[[0.31878226538469906, 0.7582752864122663], [0.3752809762954712, 0.624719]]\n",
      "2020-10-18 19:16:20,652 : INFO : adding document #0 to Dictionary(0 unique tokens: [])\n",
      "2020-10-18 19:16:20,656 : INFO : built Dictionary(445 unique tokens: ['accept', 'appli', 'authent', 'author', 'bootstrap']...) from 2 documents (total 2732 corpus positions)\n",
      "2020-10-18 19:16:21,423 : INFO : Computed distances or similarities ('RQ26-pre.txt', 'us900.c')[[0.6389031530420995, 0.6101641809302886], [0.9121463671326637, 0.08785363]]\n",
      "2020-10-18 19:16:21,425 : INFO : adding document #0 to Dictionary(0 unique tokens: [])\n",
      "2020-10-18 19:16:21,427 : INFO : built Dictionary(320 unique tokens: ['accept', 'appli', 'authent', 'author', 'bootstrap']...) from 2 documents (total 896 corpus positions)\n",
      "2020-10-18 19:16:21,957 : INFO : Computed distances or similarities ('RQ26-pre.txt', 'us896.c')[[0.5443070258494311, 0.6475396299190957], [0.748406171798706, 0.25159383]]\n",
      "2020-10-18 19:16:21,964 : INFO : adding document #0 to Dictionary(0 unique tokens: [])\n",
      "2020-10-18 19:16:21,967 : INFO : built Dictionary(777 unique tokens: ['addit', 'also', 'associ', 'authent', 'avail']...) from 2 documents (total 1963 corpus positions)\n",
      "2020-10-18 19:16:26,523 : INFO : Computed distances or similarities ('RQ15-pre.txt', 'us748.c')[[0.3774380012559631, 0.7259854883400844], [0.5052789151668549, 0.49472108]]\n",
      "2020-10-18 19:16:26,527 : INFO : adding document #0 to Dictionary(0 unique tokens: [])\n",
      "2020-10-18 19:16:26,530 : INFO : built Dictionary(552 unique tokens: ['assum', 'authent', 'author', 'base', 'bootstrap']...) from 2 documents (total 2925 corpus positions)\n",
      "2020-10-18 19:16:28,243 : INFO : Computed distances or similarities ('RQ21-pre.txt', 'us894.c')[[0.40745943993398, 0.7105000482620709], [0.4599950313568115, 0.54000497]]\n",
      "2020-10-18 19:16:28,246 : INFO : adding document #0 to Dictionary(0 unique tokens: [])\n",
      "2020-10-18 19:16:28,251 : INFO : built Dictionary(931 unique tokens: ['abl', 'accept', 'access', 'act', 'activ']...) from 2 documents (total 2432 corpus positions)\n",
      "2020-10-18 19:17:47,989 : INFO : Computed distances or similarities ('RQ51-pre.txt', 'us903.c')[[0.285304352895379, 0.7780258409203396], [0.38938385248184204, 0.61061615]]\n"
     ]
    },
    {
     "name": "stderr",
     "output_type": "stream",
     "text": [
      "2020-10-18 19:17:47,993 : INFO : adding document #0 to Dictionary(0 unique tokens: [])\n",
      "2020-10-18 19:17:47,997 : INFO : built Dictionary(549 unique tokens: ['addit', 'administr', 'advis', 'alreadi', 'applic']...) from 2 documents (total 2584 corpus positions)\n",
      "2020-10-18 19:17:51,126 : INFO : Computed distances or similarities ('RQ16-pre.txt', 'us893.c')[[0.31895590030182386, 0.7581754627058908], [0.43098413944244385, 0.56901586]]\n",
      "2020-10-18 19:17:51,136 : INFO : adding document #0 to Dictionary(0 unique tokens: [])\n",
      "2020-10-18 19:17:51,153 : INFO : built Dictionary(748 unique tokens: ['0ja7', '0pf', '1122', '200', '2lmcnf']...) from 2 documents (total 2674 corpus positions)\n",
      "2020-10-18 19:19:09,813 : INFO : Computed distances or similarities ('RQ57-pre.txt', 'us901.c')[[0.3431319529988065, 0.7445284863987511], [0.45869094133377075, 0.54130906]]\n",
      "2020-10-18 19:19:09,821 : INFO : adding document #0 to Dictionary(0 unique tokens: [])\n",
      "2020-10-18 19:19:09,825 : INFO : built Dictionary(429 unique tokens: ['anchor', 'attack', 'authent', 'author', 'base']...) from 2 documents (total 2753 corpus positions)\n",
      "2020-10-18 19:19:10,904 : INFO : Computed distances or similarities ('RQ23-pre.txt', 'us898.c')[[0.48816872530766076, 0.6719668159894048], [0.6862063407897949, 0.31379366]]\n",
      "2020-10-18 19:19:10,907 : INFO : adding document #0 to Dictionary(0 unique tokens: [])\n",
      "2020-10-18 19:19:10,909 : INFO : built Dictionary(297 unique tokens: ['certif', 'client', 'cmc', 'est', 'full']...) from 2 documents (total 1113 corpus positions)\n",
      "2020-10-18 19:19:11,146 : INFO : Computed distances or similarities ('RQ39-pre.txt', 'us3612.c')[[0.502478238269141, 0.6655670441869447], [0.7108402848243713, 0.28915972]]\n",
      "2020-10-18 19:19:11,149 : INFO : adding document #0 to Dictionary(0 unique tokens: [])\n",
      "2020-10-18 19:19:11,161 : INFO : built Dictionary(792 unique tokens: ['altern', 'appropri', 'assum', 'authent', 'author']...) from 2 documents (total 2084 corpus positions)\n",
      "2020-10-18 19:19:22,470 : INFO : Computed distances or similarities ('RQ22-pre.txt', 'us903.c')[[0.3939832073914045, 0.7173687564510371], [0.47520333528518677, 0.52479666]]\n",
      "2020-10-18 19:19:22,473 : INFO : adding document #0 to Dictionary(0 unique tokens: [])\n",
      "2020-10-18 19:19:22,477 : INFO : built Dictionary(473 unique tokens: ['altern', 'appropri', 'assum', 'authent', 'author']...) from 2 documents (total 2600 corpus positions)\n",
      "2020-10-18 19:19:24,720 : INFO : Computed distances or similarities ('RQ22-pre.txt', 'us895.c')[[0.6186766297293214, 0.6177886191927181], [0.9185680150985718, 0.081431985]]\n",
      "2020-10-18 19:19:24,724 : INFO : adding document #0 to Dictionary(0 unique tokens: [])\n",
      "2020-10-18 19:19:24,727 : INFO : built Dictionary(480 unique tokens: ['addit', 'allow', 'anchor', 'assum', 'authent']...) from 2 documents (total 2817 corpus positions)\n",
      "2020-10-18 19:19:28,199 : INFO : Computed distances or similarities ('RQ4-pre.txt', 'us900.c')[[0.604443789954435, 0.6232689523067675], [0.921691782772541, 0.07830822]]\n",
      "2020-10-18 19:19:28,202 : INFO : adding document #0 to Dictionary(0 unique tokens: [])\n",
      "2020-10-18 19:19:28,205 : INFO : built Dictionary(301 unique tokens: ['access', 'afford', 'cmc', 'defin', 'discuss']...) from 2 documents (total 1130 corpus positions)\n",
      "2020-10-18 19:19:28,441 : INFO : Computed distances or similarities ('RQ11-pre.txt', 'us3612.c')[[0.48152252233351805, 0.6749813012797936], [0.7151897549629211, 0.28481025]]\n",
      "2020-10-18 19:19:28,445 : INFO : adding document #0 to Dictionary(0 unique tokens: [])\n",
      "2020-10-18 19:19:28,449 : INFO : built Dictionary(458 unique tokens: ['accept', 'access', 'act', 'addit', 'alway']...) from 2 documents (total 1811 corpus positions)\n",
      "2020-10-18 19:19:30,366 : INFO : Computed distances or similarities ('RQ29-pre.txt', 'us3496.c')[[0.5240136175263252, 0.6561621159416748], [0.7409746646881104, 0.25902534]]\n",
      "2020-10-18 19:19:30,372 : INFO : adding document #0 to Dictionary(0 unique tokens: [])\n",
      "2020-10-18 19:19:30,378 : INFO : built Dictionary(901 unique tokens: ['0ue', '1958a6m9o', '1o9q', '4mgv', '4o38fup0en']...) from 2 documents (total 2771 corpus positions)\n",
      "2020-10-18 19:20:06,196 : INFO : Computed distances or similarities ('RQ58-pre.txt', 'us4020.c')[[0.4233293754656678, 0.7025780660733093], [0.7876119315624237, 0.21238807]]\n",
      "2020-10-18 19:20:06,200 : INFO : adding document #0 to Dictionary(0 unique tokens: [])\n",
      "2020-10-18 19:20:06,206 : INFO : built Dictionary(979 unique tokens: ['0ja7', '0pf', '1122', '200', '2lmcnf']...) from 2 documents (total 3967 corpus positions)\n",
      "2020-10-18 19:22:27,833 : INFO : Computed distances or similarities ('RQ57-pre.txt', 'us899.c')[[0.29956099418423054, 0.7694906237376931], [0.42467039823532104, 0.5753296]]\n",
      "2020-10-18 19:22:27,835 : INFO : Non-groundtruth links computed\n"
     ]
    },
    {
     "data": {
      "text/html": [
       "<div>\n",
       "<style scoped>\n",
       "    .dataframe tbody tr th:only-of-type {\n",
       "        vertical-align: middle;\n",
       "    }\n",
       "\n",
       "    .dataframe tbody tr th {\n",
       "        vertical-align: top;\n",
       "    }\n",
       "\n",
       "    .dataframe thead th {\n",
       "        text-align: right;\n",
       "    }\n",
       "</style>\n",
       "<table border=\"1\" class=\"dataframe\">\n",
       "  <thead>\n",
       "    <tr style=\"text-align: right;\">\n",
       "      <th></th>\n",
       "      <th>Source</th>\n",
       "      <th>Target</th>\n",
       "      <th>DistanceMetric.WMD</th>\n",
       "      <th>SimilarityMetric.WMD_sim</th>\n",
       "      <th>DistanceMetric.SCM</th>\n",
       "      <th>SimilarityMetric.SCM_sim</th>\n",
       "    </tr>\n",
       "  </thead>\n",
       "  <tbody>\n",
       "    <tr>\n",
       "      <th>0</th>\n",
       "      <td>RQ48-pre.txt</td>\n",
       "      <td>us893.c</td>\n",
       "      <td>0.354683</td>\n",
       "      <td>0.738180</td>\n",
       "      <td>0.352160</td>\n",
       "      <td>0.647840</td>\n",
       "    </tr>\n",
       "    <tr>\n",
       "      <th>1</th>\n",
       "      <td>RQ33-pre.txt</td>\n",
       "      <td>us893.c</td>\n",
       "      <td>0.385866</td>\n",
       "      <td>0.721571</td>\n",
       "      <td>0.531833</td>\n",
       "      <td>0.468167</td>\n",
       "    </tr>\n",
       "    <tr>\n",
       "      <th>2</th>\n",
       "      <td>RQ48-pre.txt</td>\n",
       "      <td>us2174.c</td>\n",
       "      <td>0.344219</td>\n",
       "      <td>0.743927</td>\n",
       "      <td>0.384508</td>\n",
       "      <td>0.615492</td>\n",
       "    </tr>\n",
       "    <tr>\n",
       "      <th>3</th>\n",
       "      <td>RQ4-pre.txt</td>\n",
       "      <td>us896.c</td>\n",
       "      <td>0.509115</td>\n",
       "      <td>0.662640</td>\n",
       "      <td>0.756483</td>\n",
       "      <td>0.243517</td>\n",
       "    </tr>\n",
       "    <tr>\n",
       "      <th>4</th>\n",
       "      <td>RQ52-pre.txt</td>\n",
       "      <td>us897.c</td>\n",
       "      <td>0.452641</td>\n",
       "      <td>0.688401</td>\n",
       "      <td>0.761394</td>\n",
       "      <td>0.238606</td>\n",
       "    </tr>\n",
       "  </tbody>\n",
       "</table>\n",
       "</div>"
      ],
      "text/plain": [
       "         Source    Target  DistanceMetric.WMD  SimilarityMetric.WMD_sim  \\\n",
       "0  RQ48-pre.txt   us893.c            0.354683                  0.738180   \n",
       "1  RQ33-pre.txt   us893.c            0.385866                  0.721571   \n",
       "2  RQ48-pre.txt  us2174.c            0.344219                  0.743927   \n",
       "3   RQ4-pre.txt   us896.c            0.509115                  0.662640   \n",
       "4  RQ52-pre.txt   us897.c            0.452641                  0.688401   \n",
       "\n",
       "   DistanceMetric.SCM  SimilarityMetric.SCM_sim  \n",
       "0            0.352160                  0.647840  \n",
       "1            0.531833                  0.468167  \n",
       "2            0.384508                  0.615492  \n",
       "3            0.756483                  0.243517  \n",
       "4            0.761394                  0.238606  "
      ]
     },
     "execution_count": null,
     "metadata": {},
     "output_type": "execute_result"
    }
   ],
   "source": [
    "#[step 2]NonGroundTruth Computation\n",
    "word2vec.ComputeDistanceArtifacts( sampling=True, samples = 50, metric_list = [DistanceMetric.WMD,DistanceMetric.SCM] )\n",
    "word2vec.df_nonground_link.head()"
   ]
  },
  {
   "cell_type": "code",
   "execution_count": null,
   "metadata": {},
   "outputs": [
    {
     "name": "stderr",
     "output_type": "stream",
     "text": [
      "2020-10-18 19:23:20,297 : INFO : Saving in...test_data/[libest-VectorizationType.word2vec-LinkType.req2tc-False-1603063400.288883].csv\n"
     ]
    }
   ],
   "source": [
    "#[step 3]Saving Non-GroundTruth Links\n",
    "word2vec.SaveLinks()"
   ]
  },
  {
   "cell_type": "code",
   "execution_count": null,
   "metadata": {},
   "outputs": [
    {
     "name": "stderr",
     "output_type": "stream",
     "text": [
      "2020-10-18 19:23:33,487 : INFO : Loading computed links from... test_data/[libest-VectorizationType.word2vec-LinkType.req2tc-False-1603063400.288883].csv\n"
     ]
    },
    {
     "data": {
      "text/html": [
       "<div>\n",
       "<style scoped>\n",
       "    .dataframe tbody tr th:only-of-type {\n",
       "        vertical-align: middle;\n",
       "    }\n",
       "\n",
       "    .dataframe tbody tr th {\n",
       "        vertical-align: top;\n",
       "    }\n",
       "\n",
       "    .dataframe thead th {\n",
       "        text-align: right;\n",
       "    }\n",
       "</style>\n",
       "<table border=\"1\" class=\"dataframe\">\n",
       "  <thead>\n",
       "    <tr style=\"text-align: right;\">\n",
       "      <th></th>\n",
       "      <th>Source</th>\n",
       "      <th>Target</th>\n",
       "      <th>DistanceMetric.WMD</th>\n",
       "      <th>SimilarityMetric.WMD_sim</th>\n",
       "      <th>DistanceMetric.SCM</th>\n",
       "      <th>SimilarityMetric.SCM_sim</th>\n",
       "    </tr>\n",
       "  </thead>\n",
       "  <tbody>\n",
       "    <tr>\n",
       "      <th>0</th>\n",
       "      <td>RQ48-pre.txt</td>\n",
       "      <td>us893.c</td>\n",
       "      <td>0.354683</td>\n",
       "      <td>0.738180</td>\n",
       "      <td>0.352160</td>\n",
       "      <td>0.647840</td>\n",
       "    </tr>\n",
       "    <tr>\n",
       "      <th>1</th>\n",
       "      <td>RQ33-pre.txt</td>\n",
       "      <td>us893.c</td>\n",
       "      <td>0.385866</td>\n",
       "      <td>0.721571</td>\n",
       "      <td>0.531833</td>\n",
       "      <td>0.468167</td>\n",
       "    </tr>\n",
       "    <tr>\n",
       "      <th>2</th>\n",
       "      <td>RQ48-pre.txt</td>\n",
       "      <td>us2174.c</td>\n",
       "      <td>0.344219</td>\n",
       "      <td>0.743927</td>\n",
       "      <td>0.384508</td>\n",
       "      <td>0.615492</td>\n",
       "    </tr>\n",
       "    <tr>\n",
       "      <th>3</th>\n",
       "      <td>RQ4-pre.txt</td>\n",
       "      <td>us896.c</td>\n",
       "      <td>0.509115</td>\n",
       "      <td>0.662640</td>\n",
       "      <td>0.756483</td>\n",
       "      <td>0.243517</td>\n",
       "    </tr>\n",
       "    <tr>\n",
       "      <th>4</th>\n",
       "      <td>RQ52-pre.txt</td>\n",
       "      <td>us897.c</td>\n",
       "      <td>0.452641</td>\n",
       "      <td>0.688401</td>\n",
       "      <td>0.761394</td>\n",
       "      <td>0.238606</td>\n",
       "    </tr>\n",
       "  </tbody>\n",
       "</table>\n",
       "</div>"
      ],
      "text/plain": [
       "         Source    Target  DistanceMetric.WMD  SimilarityMetric.WMD_sim  \\\n",
       "0  RQ48-pre.txt   us893.c            0.354683                  0.738180   \n",
       "1  RQ33-pre.txt   us893.c            0.385866                  0.721571   \n",
       "2  RQ48-pre.txt  us2174.c            0.344219                  0.743927   \n",
       "3   RQ4-pre.txt   us896.c            0.509115                  0.662640   \n",
       "4  RQ52-pre.txt   us897.c            0.452641                  0.688401   \n",
       "\n",
       "   DistanceMetric.SCM  SimilarityMetric.SCM_sim  \n",
       "0            0.352160                  0.647840  \n",
       "1            0.531833                  0.468167  \n",
       "2            0.384508                  0.615492  \n",
       "3            0.756483                  0.243517  \n",
       "4            0.761394                  0.238606  "
      ]
     },
     "execution_count": null,
     "metadata": {},
     "output_type": "execute_result"
    }
   ],
   "source": [
    "#Loading Non-GroundTruth Links (change the timestamp with the assigned in the previous step)\n",
    "df_nonglinks = LoadLinks(timestamp=1603063400.288883, params=parameters)\n",
    "df_nonglinks.head()"
   ]
  },
  {
   "cell_type": "code",
   "execution_count": null,
   "metadata": {},
   "outputs": [
    {
     "name": "stderr",
     "output_type": "stream",
     "text": [
      "2020-10-18 19:25:25,721 : INFO : NumExpr defaulting to 4 threads.\n",
      "2020-10-18 19:25:25,744 : INFO : Groundtruth links computed\n"
     ]
    },
    {
     "data": {
      "text/html": [
       "<div>\n",
       "<style scoped>\n",
       "    .dataframe tbody tr th:only-of-type {\n",
       "        vertical-align: middle;\n",
       "    }\n",
       "\n",
       "    .dataframe tbody tr th {\n",
       "        vertical-align: top;\n",
       "    }\n",
       "\n",
       "    .dataframe thead th {\n",
       "        text-align: right;\n",
       "    }\n",
       "</style>\n",
       "<table border=\"1\" class=\"dataframe\">\n",
       "  <thead>\n",
       "    <tr style=\"text-align: right;\">\n",
       "      <th></th>\n",
       "      <th>Source</th>\n",
       "      <th>Target</th>\n",
       "      <th>DistanceMetric.WMD</th>\n",
       "      <th>SimilarityMetric.WMD_sim</th>\n",
       "      <th>DistanceMetric.SCM</th>\n",
       "      <th>SimilarityMetric.SCM_sim</th>\n",
       "      <th>Linked?</th>\n",
       "    </tr>\n",
       "  </thead>\n",
       "  <tbody>\n",
       "    <tr>\n",
       "      <th>0</th>\n",
       "      <td>RQ48-pre.txt</td>\n",
       "      <td>us893.c</td>\n",
       "      <td>0.354683</td>\n",
       "      <td>0.738180</td>\n",
       "      <td>0.352160</td>\n",
       "      <td>0.647840</td>\n",
       "      <td>1.0</td>\n",
       "    </tr>\n",
       "    <tr>\n",
       "      <th>1</th>\n",
       "      <td>RQ33-pre.txt</td>\n",
       "      <td>us893.c</td>\n",
       "      <td>0.385866</td>\n",
       "      <td>0.721571</td>\n",
       "      <td>0.531833</td>\n",
       "      <td>0.468167</td>\n",
       "      <td>1.0</td>\n",
       "    </tr>\n",
       "    <tr>\n",
       "      <th>2</th>\n",
       "      <td>RQ48-pre.txt</td>\n",
       "      <td>us2174.c</td>\n",
       "      <td>0.344219</td>\n",
       "      <td>0.743927</td>\n",
       "      <td>0.384508</td>\n",
       "      <td>0.615492</td>\n",
       "      <td>0.0</td>\n",
       "    </tr>\n",
       "    <tr>\n",
       "      <th>3</th>\n",
       "      <td>RQ4-pre.txt</td>\n",
       "      <td>us896.c</td>\n",
       "      <td>0.509115</td>\n",
       "      <td>0.662640</td>\n",
       "      <td>0.756483</td>\n",
       "      <td>0.243517</td>\n",
       "      <td>0.0</td>\n",
       "    </tr>\n",
       "    <tr>\n",
       "      <th>4</th>\n",
       "      <td>RQ52-pre.txt</td>\n",
       "      <td>us897.c</td>\n",
       "      <td>0.452641</td>\n",
       "      <td>0.688401</td>\n",
       "      <td>0.761394</td>\n",
       "      <td>0.238606</td>\n",
       "      <td>0.0</td>\n",
       "    </tr>\n",
       "    <tr>\n",
       "      <th>5</th>\n",
       "      <td>RQ18-pre.txt</td>\n",
       "      <td>us896.c</td>\n",
       "      <td>0.536422</td>\n",
       "      <td>0.650863</td>\n",
       "      <td>0.734830</td>\n",
       "      <td>0.265170</td>\n",
       "      <td>0.0</td>\n",
       "    </tr>\n",
       "    <tr>\n",
       "      <th>6</th>\n",
       "      <td>RQ36-pre.txt</td>\n",
       "      <td>us898.c</td>\n",
       "      <td>0.448945</td>\n",
       "      <td>0.690157</td>\n",
       "      <td>0.645753</td>\n",
       "      <td>0.354247</td>\n",
       "      <td>1.0</td>\n",
       "    </tr>\n",
       "    <tr>\n",
       "      <th>7</th>\n",
       "      <td>RQ15-pre.txt</td>\n",
       "      <td>us1005.c</td>\n",
       "      <td>0.390783</td>\n",
       "      <td>0.719019</td>\n",
       "      <td>0.482108</td>\n",
       "      <td>0.517892</td>\n",
       "      <td>0.0</td>\n",
       "    </tr>\n",
       "    <tr>\n",
       "      <th>8</th>\n",
       "      <td>RQ37-pre.txt</td>\n",
       "      <td>us893.c</td>\n",
       "      <td>0.344751</td>\n",
       "      <td>0.743632</td>\n",
       "      <td>0.514701</td>\n",
       "      <td>0.485299</td>\n",
       "      <td>1.0</td>\n",
       "    </tr>\n",
       "    <tr>\n",
       "      <th>9</th>\n",
       "      <td>RQ27-pre.txt</td>\n",
       "      <td>us3612.c</td>\n",
       "      <td>0.473896</td>\n",
       "      <td>0.678474</td>\n",
       "      <td>0.698716</td>\n",
       "      <td>0.301284</td>\n",
       "      <td>0.0</td>\n",
       "    </tr>\n",
       "    <tr>\n",
       "      <th>10</th>\n",
       "      <td>RQ21-pre.txt</td>\n",
       "      <td>us1159.c</td>\n",
       "      <td>0.487861</td>\n",
       "      <td>0.672106</td>\n",
       "      <td>0.673391</td>\n",
       "      <td>0.326609</td>\n",
       "      <td>0.0</td>\n",
       "    </tr>\n",
       "    <tr>\n",
       "      <th>11</th>\n",
       "      <td>RQ14-pre.txt</td>\n",
       "      <td>us3612.c</td>\n",
       "      <td>0.437836</td>\n",
       "      <td>0.695490</td>\n",
       "      <td>0.666656</td>\n",
       "      <td>0.333344</td>\n",
       "      <td>0.0</td>\n",
       "    </tr>\n",
       "    <tr>\n",
       "      <th>12</th>\n",
       "      <td>RQ40-pre.txt</td>\n",
       "      <td>us894.c</td>\n",
       "      <td>0.415873</td>\n",
       "      <td>0.706278</td>\n",
       "      <td>0.616107</td>\n",
       "      <td>0.383893</td>\n",
       "      <td>0.0</td>\n",
       "    </tr>\n",
       "    <tr>\n",
       "      <th>13</th>\n",
       "      <td>RQ31-pre.txt</td>\n",
       "      <td>us1864.c</td>\n",
       "      <td>0.399671</td>\n",
       "      <td>0.714454</td>\n",
       "      <td>0.560114</td>\n",
       "      <td>0.439886</td>\n",
       "      <td>1.0</td>\n",
       "    </tr>\n",
       "    <tr>\n",
       "      <th>14</th>\n",
       "      <td>RQ15-pre.txt</td>\n",
       "      <td>us897.c</td>\n",
       "      <td>0.549857</td>\n",
       "      <td>0.645221</td>\n",
       "      <td>0.731016</td>\n",
       "      <td>0.268984</td>\n",
       "      <td>0.0</td>\n",
       "    </tr>\n",
       "    <tr>\n",
       "      <th>15</th>\n",
       "      <td>RQ14-pre.txt</td>\n",
       "      <td>us3496.c</td>\n",
       "      <td>0.482035</td>\n",
       "      <td>0.674748</td>\n",
       "      <td>0.705440</td>\n",
       "      <td>0.294560</td>\n",
       "      <td>0.0</td>\n",
       "    </tr>\n",
       "    <tr>\n",
       "      <th>16</th>\n",
       "      <td>RQ13-pre.txt</td>\n",
       "      <td>us3612.c</td>\n",
       "      <td>0.463547</td>\n",
       "      <td>0.683272</td>\n",
       "      <td>0.698693</td>\n",
       "      <td>0.301307</td>\n",
       "      <td>0.0</td>\n",
       "    </tr>\n",
       "    <tr>\n",
       "      <th>17</th>\n",
       "      <td>RQ18-pre.txt</td>\n",
       "      <td>us903.c</td>\n",
       "      <td>0.401848</td>\n",
       "      <td>0.713344</td>\n",
       "      <td>0.444626</td>\n",
       "      <td>0.555374</td>\n",
       "      <td>0.0</td>\n",
       "    </tr>\n",
       "    <tr>\n",
       "      <th>18</th>\n",
       "      <td>RQ17-pre.txt</td>\n",
       "      <td>us1005.c</td>\n",
       "      <td>0.327534</td>\n",
       "      <td>0.753276</td>\n",
       "      <td>0.439154</td>\n",
       "      <td>0.560846</td>\n",
       "      <td>0.0</td>\n",
       "    </tr>\n",
       "    <tr>\n",
       "      <th>19</th>\n",
       "      <td>RQ45-pre.txt</td>\n",
       "      <td>us3496.c</td>\n",
       "      <td>0.383297</td>\n",
       "      <td>0.722911</td>\n",
       "      <td>0.584300</td>\n",
       "      <td>0.415700</td>\n",
       "      <td>0.0</td>\n",
       "    </tr>\n",
       "    <tr>\n",
       "      <th>20</th>\n",
       "      <td>RQ26-pre.txt</td>\n",
       "      <td>us1883.c</td>\n",
       "      <td>0.362410</td>\n",
       "      <td>0.733993</td>\n",
       "      <td>0.411432</td>\n",
       "      <td>0.588568</td>\n",
       "      <td>1.0</td>\n",
       "    </tr>\n",
       "    <tr>\n",
       "      <th>21</th>\n",
       "      <td>RQ20-pre.txt</td>\n",
       "      <td>us898.c</td>\n",
       "      <td>0.521627</td>\n",
       "      <td>0.657191</td>\n",
       "      <td>0.717904</td>\n",
       "      <td>0.282096</td>\n",
       "      <td>1.0</td>\n",
       "    </tr>\n",
       "    <tr>\n",
       "      <th>22</th>\n",
       "      <td>RQ57-pre.txt</td>\n",
       "      <td>us3612.c</td>\n",
       "      <td>0.398315</td>\n",
       "      <td>0.715146</td>\n",
       "      <td>0.670332</td>\n",
       "      <td>0.329668</td>\n",
       "      <td>1.0</td>\n",
       "    </tr>\n",
       "    <tr>\n",
       "      <th>23</th>\n",
       "      <td>RQ41-pre.txt</td>\n",
       "      <td>us897.c</td>\n",
       "      <td>0.523570</td>\n",
       "      <td>0.656353</td>\n",
       "      <td>0.733657</td>\n",
       "      <td>0.266343</td>\n",
       "      <td>0.0</td>\n",
       "    </tr>\n",
       "    <tr>\n",
       "      <th>24</th>\n",
       "      <td>RQ49-pre.txt</td>\n",
       "      <td>us2174.c</td>\n",
       "      <td>0.255340</td>\n",
       "      <td>0.796597</td>\n",
       "      <td>0.413097</td>\n",
       "      <td>0.586903</td>\n",
       "      <td>1.0</td>\n",
       "    </tr>\n",
       "    <tr>\n",
       "      <th>25</th>\n",
       "      <td>RQ38-pre.txt</td>\n",
       "      <td>us1864.c</td>\n",
       "      <td>0.309570</td>\n",
       "      <td>0.763610</td>\n",
       "      <td>0.445905</td>\n",
       "      <td>0.554095</td>\n",
       "      <td>0.0</td>\n",
       "    </tr>\n",
       "    <tr>\n",
       "      <th>26</th>\n",
       "      <td>RQ25-pre.txt</td>\n",
       "      <td>us3496.c</td>\n",
       "      <td>0.509020</td>\n",
       "      <td>0.662682</td>\n",
       "      <td>0.722544</td>\n",
       "      <td>0.277456</td>\n",
       "      <td>0.0</td>\n",
       "    </tr>\n",
       "    <tr>\n",
       "      <th>27</th>\n",
       "      <td>RQ39-pre.txt</td>\n",
       "      <td>us3496.c</td>\n",
       "      <td>0.543332</td>\n",
       "      <td>0.647949</td>\n",
       "      <td>0.751451</td>\n",
       "      <td>0.248549</td>\n",
       "      <td>0.0</td>\n",
       "    </tr>\n",
       "    <tr>\n",
       "      <th>28</th>\n",
       "      <td>RQ50-pre.txt</td>\n",
       "      <td>us748.c</td>\n",
       "      <td>0.256206</td>\n",
       "      <td>0.796048</td>\n",
       "      <td>0.412872</td>\n",
       "      <td>0.587128</td>\n",
       "      <td>1.0</td>\n",
       "    </tr>\n",
       "    <tr>\n",
       "      <th>29</th>\n",
       "      <td>RQ27-pre.txt</td>\n",
       "      <td>us3512.c</td>\n",
       "      <td>0.393315</td>\n",
       "      <td>0.717713</td>\n",
       "      <td>0.556956</td>\n",
       "      <td>0.443044</td>\n",
       "      <td>0.0</td>\n",
       "    </tr>\n",
       "    <tr>\n",
       "      <th>30</th>\n",
       "      <td>RQ2-pre.txt</td>\n",
       "      <td>us897.c</td>\n",
       "      <td>0.480181</td>\n",
       "      <td>0.675593</td>\n",
       "      <td>0.695372</td>\n",
       "      <td>0.304628</td>\n",
       "      <td>0.0</td>\n",
       "    </tr>\n",
       "    <tr>\n",
       "      <th>31</th>\n",
       "      <td>RQ41-pre.txt</td>\n",
       "      <td>us2174.c</td>\n",
       "      <td>0.319833</td>\n",
       "      <td>0.757672</td>\n",
       "      <td>0.535610</td>\n",
       "      <td>0.464390</td>\n",
       "      <td>0.0</td>\n",
       "    </tr>\n",
       "    <tr>\n",
       "      <th>32</th>\n",
       "      <td>RQ47-pre.txt</td>\n",
       "      <td>us748.c</td>\n",
       "      <td>0.349507</td>\n",
       "      <td>0.741011</td>\n",
       "      <td>0.441609</td>\n",
       "      <td>0.558391</td>\n",
       "      <td>1.0</td>\n",
       "    </tr>\n",
       "    <tr>\n",
       "      <th>33</th>\n",
       "      <td>RQ38-pre.txt</td>\n",
       "      <td>us899.c</td>\n",
       "      <td>0.318782</td>\n",
       "      <td>0.758275</td>\n",
       "      <td>0.375281</td>\n",
       "      <td>0.624719</td>\n",
       "      <td>1.0</td>\n",
       "    </tr>\n",
       "    <tr>\n",
       "      <th>34</th>\n",
       "      <td>RQ26-pre.txt</td>\n",
       "      <td>us900.c</td>\n",
       "      <td>0.638903</td>\n",
       "      <td>0.610164</td>\n",
       "      <td>0.912146</td>\n",
       "      <td>0.087854</td>\n",
       "      <td>1.0</td>\n",
       "    </tr>\n",
       "    <tr>\n",
       "      <th>35</th>\n",
       "      <td>RQ26-pre.txt</td>\n",
       "      <td>us896.c</td>\n",
       "      <td>0.544307</td>\n",
       "      <td>0.647540</td>\n",
       "      <td>0.748406</td>\n",
       "      <td>0.251594</td>\n",
       "      <td>1.0</td>\n",
       "    </tr>\n",
       "    <tr>\n",
       "      <th>36</th>\n",
       "      <td>RQ15-pre.txt</td>\n",
       "      <td>us748.c</td>\n",
       "      <td>0.377438</td>\n",
       "      <td>0.725985</td>\n",
       "      <td>0.505279</td>\n",
       "      <td>0.494721</td>\n",
       "      <td>0.0</td>\n",
       "    </tr>\n",
       "    <tr>\n",
       "      <th>37</th>\n",
       "      <td>RQ21-pre.txt</td>\n",
       "      <td>us894.c</td>\n",
       "      <td>0.407459</td>\n",
       "      <td>0.710500</td>\n",
       "      <td>0.459995</td>\n",
       "      <td>0.540005</td>\n",
       "      <td>0.0</td>\n",
       "    </tr>\n",
       "    <tr>\n",
       "      <th>38</th>\n",
       "      <td>RQ51-pre.txt</td>\n",
       "      <td>us903.c</td>\n",
       "      <td>0.285304</td>\n",
       "      <td>0.778026</td>\n",
       "      <td>0.389384</td>\n",
       "      <td>0.610616</td>\n",
       "      <td>0.0</td>\n",
       "    </tr>\n",
       "    <tr>\n",
       "      <th>39</th>\n",
       "      <td>RQ16-pre.txt</td>\n",
       "      <td>us893.c</td>\n",
       "      <td>0.318956</td>\n",
       "      <td>0.758175</td>\n",
       "      <td>0.430984</td>\n",
       "      <td>0.569016</td>\n",
       "      <td>0.0</td>\n",
       "    </tr>\n",
       "    <tr>\n",
       "      <th>40</th>\n",
       "      <td>RQ57-pre.txt</td>\n",
       "      <td>us901.c</td>\n",
       "      <td>0.343132</td>\n",
       "      <td>0.744528</td>\n",
       "      <td>0.458691</td>\n",
       "      <td>0.541309</td>\n",
       "      <td>0.0</td>\n",
       "    </tr>\n",
       "    <tr>\n",
       "      <th>41</th>\n",
       "      <td>RQ23-pre.txt</td>\n",
       "      <td>us898.c</td>\n",
       "      <td>0.488169</td>\n",
       "      <td>0.671967</td>\n",
       "      <td>0.686206</td>\n",
       "      <td>0.313794</td>\n",
       "      <td>0.0</td>\n",
       "    </tr>\n",
       "    <tr>\n",
       "      <th>42</th>\n",
       "      <td>RQ39-pre.txt</td>\n",
       "      <td>us3612.c</td>\n",
       "      <td>0.502478</td>\n",
       "      <td>0.665567</td>\n",
       "      <td>0.710840</td>\n",
       "      <td>0.289160</td>\n",
       "      <td>0.0</td>\n",
       "    </tr>\n",
       "    <tr>\n",
       "      <th>43</th>\n",
       "      <td>RQ22-pre.txt</td>\n",
       "      <td>us903.c</td>\n",
       "      <td>0.393983</td>\n",
       "      <td>0.717369</td>\n",
       "      <td>0.475203</td>\n",
       "      <td>0.524797</td>\n",
       "      <td>0.0</td>\n",
       "    </tr>\n",
       "    <tr>\n",
       "      <th>44</th>\n",
       "      <td>RQ22-pre.txt</td>\n",
       "      <td>us895.c</td>\n",
       "      <td>0.618677</td>\n",
       "      <td>0.617789</td>\n",
       "      <td>0.918568</td>\n",
       "      <td>0.081432</td>\n",
       "      <td>1.0</td>\n",
       "    </tr>\n",
       "    <tr>\n",
       "      <th>45</th>\n",
       "      <td>RQ4-pre.txt</td>\n",
       "      <td>us900.c</td>\n",
       "      <td>0.604444</td>\n",
       "      <td>0.623269</td>\n",
       "      <td>0.921692</td>\n",
       "      <td>0.078308</td>\n",
       "      <td>1.0</td>\n",
       "    </tr>\n",
       "    <tr>\n",
       "      <th>46</th>\n",
       "      <td>RQ11-pre.txt</td>\n",
       "      <td>us3612.c</td>\n",
       "      <td>0.481523</td>\n",
       "      <td>0.674981</td>\n",
       "      <td>0.715190</td>\n",
       "      <td>0.284810</td>\n",
       "      <td>1.0</td>\n",
       "    </tr>\n",
       "    <tr>\n",
       "      <th>47</th>\n",
       "      <td>RQ29-pre.txt</td>\n",
       "      <td>us3496.c</td>\n",
       "      <td>0.524014</td>\n",
       "      <td>0.656162</td>\n",
       "      <td>0.740975</td>\n",
       "      <td>0.259025</td>\n",
       "      <td>1.0</td>\n",
       "    </tr>\n",
       "    <tr>\n",
       "      <th>48</th>\n",
       "      <td>RQ58-pre.txt</td>\n",
       "      <td>us4020.c</td>\n",
       "      <td>0.423329</td>\n",
       "      <td>0.702578</td>\n",
       "      <td>0.787612</td>\n",
       "      <td>0.212388</td>\n",
       "      <td>0.0</td>\n",
       "    </tr>\n",
       "    <tr>\n",
       "      <th>49</th>\n",
       "      <td>RQ57-pre.txt</td>\n",
       "      <td>us899.c</td>\n",
       "      <td>0.299561</td>\n",
       "      <td>0.769491</td>\n",
       "      <td>0.424670</td>\n",
       "      <td>0.575330</td>\n",
       "      <td>1.0</td>\n",
       "    </tr>\n",
       "  </tbody>\n",
       "</table>\n",
       "</div>"
      ],
      "text/plain": [
       "          Source    Target  DistanceMetric.WMD  SimilarityMetric.WMD_sim  \\\n",
       "0   RQ48-pre.txt   us893.c            0.354683                  0.738180   \n",
       "1   RQ33-pre.txt   us893.c            0.385866                  0.721571   \n",
       "2   RQ48-pre.txt  us2174.c            0.344219                  0.743927   \n",
       "3    RQ4-pre.txt   us896.c            0.509115                  0.662640   \n",
       "4   RQ52-pre.txt   us897.c            0.452641                  0.688401   \n",
       "5   RQ18-pre.txt   us896.c            0.536422                  0.650863   \n",
       "6   RQ36-pre.txt   us898.c            0.448945                  0.690157   \n",
       "7   RQ15-pre.txt  us1005.c            0.390783                  0.719019   \n",
       "8   RQ37-pre.txt   us893.c            0.344751                  0.743632   \n",
       "9   RQ27-pre.txt  us3612.c            0.473896                  0.678474   \n",
       "10  RQ21-pre.txt  us1159.c            0.487861                  0.672106   \n",
       "11  RQ14-pre.txt  us3612.c            0.437836                  0.695490   \n",
       "12  RQ40-pre.txt   us894.c            0.415873                  0.706278   \n",
       "13  RQ31-pre.txt  us1864.c            0.399671                  0.714454   \n",
       "14  RQ15-pre.txt   us897.c            0.549857                  0.645221   \n",
       "15  RQ14-pre.txt  us3496.c            0.482035                  0.674748   \n",
       "16  RQ13-pre.txt  us3612.c            0.463547                  0.683272   \n",
       "17  RQ18-pre.txt   us903.c            0.401848                  0.713344   \n",
       "18  RQ17-pre.txt  us1005.c            0.327534                  0.753276   \n",
       "19  RQ45-pre.txt  us3496.c            0.383297                  0.722911   \n",
       "20  RQ26-pre.txt  us1883.c            0.362410                  0.733993   \n",
       "21  RQ20-pre.txt   us898.c            0.521627                  0.657191   \n",
       "22  RQ57-pre.txt  us3612.c            0.398315                  0.715146   \n",
       "23  RQ41-pre.txt   us897.c            0.523570                  0.656353   \n",
       "24  RQ49-pre.txt  us2174.c            0.255340                  0.796597   \n",
       "25  RQ38-pre.txt  us1864.c            0.309570                  0.763610   \n",
       "26  RQ25-pre.txt  us3496.c            0.509020                  0.662682   \n",
       "27  RQ39-pre.txt  us3496.c            0.543332                  0.647949   \n",
       "28  RQ50-pre.txt   us748.c            0.256206                  0.796048   \n",
       "29  RQ27-pre.txt  us3512.c            0.393315                  0.717713   \n",
       "30   RQ2-pre.txt   us897.c            0.480181                  0.675593   \n",
       "31  RQ41-pre.txt  us2174.c            0.319833                  0.757672   \n",
       "32  RQ47-pre.txt   us748.c            0.349507                  0.741011   \n",
       "33  RQ38-pre.txt   us899.c            0.318782                  0.758275   \n",
       "34  RQ26-pre.txt   us900.c            0.638903                  0.610164   \n",
       "35  RQ26-pre.txt   us896.c            0.544307                  0.647540   \n",
       "36  RQ15-pre.txt   us748.c            0.377438                  0.725985   \n",
       "37  RQ21-pre.txt   us894.c            0.407459                  0.710500   \n",
       "38  RQ51-pre.txt   us903.c            0.285304                  0.778026   \n",
       "39  RQ16-pre.txt   us893.c            0.318956                  0.758175   \n",
       "40  RQ57-pre.txt   us901.c            0.343132                  0.744528   \n",
       "41  RQ23-pre.txt   us898.c            0.488169                  0.671967   \n",
       "42  RQ39-pre.txt  us3612.c            0.502478                  0.665567   \n",
       "43  RQ22-pre.txt   us903.c            0.393983                  0.717369   \n",
       "44  RQ22-pre.txt   us895.c            0.618677                  0.617789   \n",
       "45   RQ4-pre.txt   us900.c            0.604444                  0.623269   \n",
       "46  RQ11-pre.txt  us3612.c            0.481523                  0.674981   \n",
       "47  RQ29-pre.txt  us3496.c            0.524014                  0.656162   \n",
       "48  RQ58-pre.txt  us4020.c            0.423329                  0.702578   \n",
       "49  RQ57-pre.txt   us899.c            0.299561                  0.769491   \n",
       "\n",
       "    DistanceMetric.SCM  SimilarityMetric.SCM_sim  Linked?  \n",
       "0             0.352160                  0.647840      1.0  \n",
       "1             0.531833                  0.468167      1.0  \n",
       "2             0.384508                  0.615492      0.0  \n",
       "3             0.756483                  0.243517      0.0  \n",
       "4             0.761394                  0.238606      0.0  \n",
       "5             0.734830                  0.265170      0.0  \n",
       "6             0.645753                  0.354247      1.0  \n",
       "7             0.482108                  0.517892      0.0  \n",
       "8             0.514701                  0.485299      1.0  \n",
       "9             0.698716                  0.301284      0.0  \n",
       "10            0.673391                  0.326609      0.0  \n",
       "11            0.666656                  0.333344      0.0  \n",
       "12            0.616107                  0.383893      0.0  \n",
       "13            0.560114                  0.439886      1.0  \n",
       "14            0.731016                  0.268984      0.0  \n",
       "15            0.705440                  0.294560      0.0  \n",
       "16            0.698693                  0.301307      0.0  \n",
       "17            0.444626                  0.555374      0.0  \n",
       "18            0.439154                  0.560846      0.0  \n",
       "19            0.584300                  0.415700      0.0  \n",
       "20            0.411432                  0.588568      1.0  \n",
       "21            0.717904                  0.282096      1.0  \n",
       "22            0.670332                  0.329668      1.0  \n",
       "23            0.733657                  0.266343      0.0  \n",
       "24            0.413097                  0.586903      1.0  \n",
       "25            0.445905                  0.554095      0.0  \n",
       "26            0.722544                  0.277456      0.0  \n",
       "27            0.751451                  0.248549      0.0  \n",
       "28            0.412872                  0.587128      1.0  \n",
       "29            0.556956                  0.443044      0.0  \n",
       "30            0.695372                  0.304628      0.0  \n",
       "31            0.535610                  0.464390      0.0  \n",
       "32            0.441609                  0.558391      1.0  \n",
       "33            0.375281                  0.624719      1.0  \n",
       "34            0.912146                  0.087854      1.0  \n",
       "35            0.748406                  0.251594      1.0  \n",
       "36            0.505279                  0.494721      0.0  \n",
       "37            0.459995                  0.540005      0.0  \n",
       "38            0.389384                  0.610616      0.0  \n",
       "39            0.430984                  0.569016      0.0  \n",
       "40            0.458691                  0.541309      0.0  \n",
       "41            0.686206                  0.313794      0.0  \n",
       "42            0.710840                  0.289160      0.0  \n",
       "43            0.475203                  0.524797      0.0  \n",
       "44            0.918568                  0.081432      1.0  \n",
       "45            0.921692                  0.078308      1.0  \n",
       "46            0.715190                  0.284810      1.0  \n",
       "47            0.740975                  0.259025      1.0  \n",
       "48            0.787612                  0.212388      0.0  \n",
       "49            0.424670                  0.575330      1.0  "
      ]
     },
     "execution_count": null,
     "metadata": {},
     "output_type": "execute_result"
    }
   ],
   "source": [
    "#[step 4]GroundTruthMatching Testing\n",
    "path_to_ground_truth = 'test_data/[libest-ground-req-to-tc].txt'\n",
    "word2vec.MatchWithGroundTruth(path_to_ground_truth)\n",
    "word2vec.df_ground_link"
   ]
  },
  {
   "cell_type": "code",
   "execution_count": null,
   "metadata": {},
   "outputs": [
    {
     "data": {
      "text/plain": [
       "('RQ33.txt', 'us894.c')"
      ]
     },
     "execution_count": null,
     "metadata": {},
     "output_type": "execute_result"
    }
   ],
   "source": [
    "#[optional]GroundTruth Direct Processing\n",
    "ground_links = word2vec.ground_truth_processing(path_to_ground_truth)\n",
    "ground_links[141] # A tuple"
   ]
  },
  {
   "cell_type": "code",
   "execution_count": null,
   "metadata": {},
   "outputs": [
    {
     "data": {
      "text/plain": [
       "'RQ33-'"
      ]
     },
     "execution_count": null,
     "metadata": {},
     "output_type": "execute_result"
    }
   ],
   "source": [
    "#Inspecting Source\n",
    "ground_links[141][0][:ground_links[141][0].find('.')] + '-'"
   ]
  },
  {
   "cell_type": "code",
   "execution_count": null,
   "metadata": {},
   "outputs": [
    {
     "data": {
      "text/plain": [
       "'us894'"
      ]
     },
     "execution_count": null,
     "metadata": {},
     "output_type": "execute_result"
    }
   ],
   "source": [
    "#Inspecting Target\n",
    "ground_links[141][1][:ground_links[141][1].find('.')]"
   ]
  },
  {
   "cell_type": "code",
   "execution_count": null,
   "metadata": {},
   "outputs": [
    {
     "name": "stderr",
     "output_type": "stream",
     "text": [
      "2020-10-18 19:25:33,828 : INFO : Saving in...test_data/[libest-VectorizationType.word2vec-LinkType.req2tc-True-1603063533.824472].csv\n"
     ]
    }
   ],
   "source": [
    "#[step 5]Saving GroundTruth Links\n",
    "word2vec.SaveLinks(grtruth = True)"
   ]
  },
  {
   "cell_type": "code",
   "execution_count": null,
   "metadata": {},
   "outputs": [
    {
     "name": "stderr",
     "output_type": "stream",
     "text": [
      "2020-10-18 19:26:09,535 : INFO : Loading computed links from... test_data/[libest-VectorizationType.word2vec-LinkType.req2tc-True-1603063533.824472].csv\n"
     ]
    },
    {
     "data": {
      "text/html": [
       "<div>\n",
       "<style scoped>\n",
       "    .dataframe tbody tr th:only-of-type {\n",
       "        vertical-align: middle;\n",
       "    }\n",
       "\n",
       "    .dataframe tbody tr th {\n",
       "        vertical-align: top;\n",
       "    }\n",
       "\n",
       "    .dataframe thead th {\n",
       "        text-align: right;\n",
       "    }\n",
       "</style>\n",
       "<table border=\"1\" class=\"dataframe\">\n",
       "  <thead>\n",
       "    <tr style=\"text-align: right;\">\n",
       "      <th></th>\n",
       "      <th>Source</th>\n",
       "      <th>Target</th>\n",
       "      <th>DistanceMetric.WMD</th>\n",
       "      <th>SimilarityMetric.WMD_sim</th>\n",
       "      <th>DistanceMetric.SCM</th>\n",
       "      <th>SimilarityMetric.SCM_sim</th>\n",
       "      <th>Linked?</th>\n",
       "    </tr>\n",
       "  </thead>\n",
       "  <tbody>\n",
       "    <tr>\n",
       "      <th>0</th>\n",
       "      <td>RQ48-pre.txt</td>\n",
       "      <td>us893.c</td>\n",
       "      <td>0.354683</td>\n",
       "      <td>0.738180</td>\n",
       "      <td>0.352160</td>\n",
       "      <td>0.647840</td>\n",
       "      <td>1.0</td>\n",
       "    </tr>\n",
       "    <tr>\n",
       "      <th>1</th>\n",
       "      <td>RQ33-pre.txt</td>\n",
       "      <td>us893.c</td>\n",
       "      <td>0.385866</td>\n",
       "      <td>0.721571</td>\n",
       "      <td>0.531833</td>\n",
       "      <td>0.468167</td>\n",
       "      <td>1.0</td>\n",
       "    </tr>\n",
       "    <tr>\n",
       "      <th>2</th>\n",
       "      <td>RQ48-pre.txt</td>\n",
       "      <td>us2174.c</td>\n",
       "      <td>0.344219</td>\n",
       "      <td>0.743927</td>\n",
       "      <td>0.384508</td>\n",
       "      <td>0.615492</td>\n",
       "      <td>0.0</td>\n",
       "    </tr>\n",
       "    <tr>\n",
       "      <th>3</th>\n",
       "      <td>RQ4-pre.txt</td>\n",
       "      <td>us896.c</td>\n",
       "      <td>0.509115</td>\n",
       "      <td>0.662640</td>\n",
       "      <td>0.756483</td>\n",
       "      <td>0.243517</td>\n",
       "      <td>0.0</td>\n",
       "    </tr>\n",
       "    <tr>\n",
       "      <th>4</th>\n",
       "      <td>RQ52-pre.txt</td>\n",
       "      <td>us897.c</td>\n",
       "      <td>0.452641</td>\n",
       "      <td>0.688401</td>\n",
       "      <td>0.761394</td>\n",
       "      <td>0.238606</td>\n",
       "      <td>0.0</td>\n",
       "    </tr>\n",
       "  </tbody>\n",
       "</table>\n",
       "</div>"
      ],
      "text/plain": [
       "         Source    Target  DistanceMetric.WMD  SimilarityMetric.WMD_sim  \\\n",
       "0  RQ48-pre.txt   us893.c            0.354683                  0.738180   \n",
       "1  RQ33-pre.txt   us893.c            0.385866                  0.721571   \n",
       "2  RQ48-pre.txt  us2174.c            0.344219                  0.743927   \n",
       "3   RQ4-pre.txt   us896.c            0.509115                  0.662640   \n",
       "4  RQ52-pre.txt   us897.c            0.452641                  0.688401   \n",
       "\n",
       "   DistanceMetric.SCM  SimilarityMetric.SCM_sim  Linked?  \n",
       "0            0.352160                  0.647840      1.0  \n",
       "1            0.531833                  0.468167      1.0  \n",
       "2            0.384508                  0.615492      0.0  \n",
       "3            0.756483                  0.243517      0.0  \n",
       "4            0.761394                  0.238606      0.0  "
      ]
     },
     "execution_count": null,
     "metadata": {},
     "output_type": "execute_result"
    }
   ],
   "source": [
    "#Loading Non-GroundTruth Links (change the timestamp with the assigned in the previous step)\n",
    "df_glinks = LoadLinks(timestamp=1603063533.824472, params=parameters,grtruth = True)\n",
    "df_glinks.head()"
   ]
  },
  {
   "cell_type": "markdown",
   "metadata": {},
   "source": [
    "## Confusion Matrix"
   ]
  },
  {
   "cell_type": "code",
   "execution_count": null,
   "metadata": {},
   "outputs": [],
   "source": [
    "y_score_threshold = [0 if elem<=0.8 else 1 for elem in supevisedEval.y_score] #Hardcoded 0.7 Threshold"
   ]
  },
  {
   "cell_type": "code",
   "execution_count": null,
   "metadata": {},
   "outputs": [],
   "source": [
    "#TODO a Variation threshold analysis\n",
    "tn, fp, fn, tp = confusion_matrix(supevisedEval.y_test, y_score_threshold).ravel()"
   ]
  },
  {
   "cell_type": "code",
   "execution_count": null,
   "metadata": {},
   "outputs": [
    {
     "data": {
      "text/plain": [
       "(31, 0, 19, 0)"
      ]
     },
     "execution_count": null,
     "metadata": {},
     "output_type": "execute_result"
    }
   ],
   "source": [
    "(tn, fp, fn, tp)"
   ]
  },
  {
   "cell_type": "markdown",
   "metadata": {},
   "source": [
    "## Precision-Racall-Gain\n",
    "Based on the library here: [link](https://github.com/meeliskull/prg/tree/master/Python_package). \n",
    "The area under traditional PR curves can easily favour models with lower expected F1 score than others, and so the use of Precision-Recall-Gain curves will result in better model selection [(Flach & Kull, 2015)](http://people.cs.bris.ac.uk/~flach//PRGcurves/).\n",
    "One might choose PRG if there is little interest in identifying false negatives [(from Blog)](https://medium.com/@alexabate/i-did-something-boring-so-you-dont-have-to-9140ca46c84d)."
   ]
  },
  {
   "cell_type": "code",
   "execution_count": null,
   "metadata": {},
   "outputs": [
    {
     "data": {
      "image/png": "[encoded data removed]",
      "text/plain": [
       "<Figure size 432x360 with 1 Axes>"
      ]
     },
     "metadata": {
      "needs_background": "light"
     },
     "output_type": "display_data"
    },
    {
     "name": "stderr",
     "output_type": "stream",
     "text": [
      "2020-10-18 19:26:37,244 : INFO : auprg:  0.062\n",
      "2020-10-18 19:26:37,245 : INFO : compute_precision_recall_gain Complete\n"
     ]
    }
   ],
   "source": [
    "supevisedEval.Compute_precision_recall_gain()"
   ]
  },
  {
   "cell_type": "markdown",
   "metadata": {},
   "source": [
    "## Compute the average precision score¶\n",
    "Precision is a metric that quantifies the number of correct positive predictions made.\n",
    "\n",
    "Recall is a metric that quantifies the number of correct positive predictions made out of all positive predictions that could have been made."
   ]
  },
  {
   "cell_type": "code",
   "execution_count": null,
   "metadata": {},
   "outputs": [
    {
     "data": {
      "image/png": "[encoded data removed]",
      "text/plain": [
       "<Figure size 432x288 with 1 Axes>"
      ]
     },
     "metadata": {
      "needs_background": "light"
     },
     "output_type": "display_data"
    },
    {
     "name": "stderr",
     "output_type": "stream",
     "text": [
      "2020-10-18 19:26:40,274 : INFO : Average precision-recall score: 0.53\n",
      "2020-10-18 19:26:40,275 : INFO : Precision-Recall AUC: 0.518\n"
     ]
    }
   ],
   "source": [
    "supevisedEval.Compute_avg_precision()"
   ]
  },
  {
   "cell_type": "markdown",
   "metadata": {},
   "source": [
    "## Compute ROC Curve\n",
    "An ROC curve (or receiver operating characteristic curve) is a plot that summarizes the performance of a binary classification model on the positive class [(see Blog)](https://machinelearningmastery.com/roc-curves-and-precision-recall-curves-for-imbalanced-classification/).\n",
    "\n",
    "Use ROC when both classes detection is equally important — When we want to give equal weight to both classes prediction ability we should look at the ROC curve [link](https://towardsdatascience.com/what-metrics-should-we-use-on-imbalanced-data-set-precision-recall-roc-e2e79252aeba)."
   ]
  },
  {
   "cell_type": "code",
   "execution_count": null,
   "metadata": {},
   "outputs": [
    {
     "data": {
      "image/png": "[encoded data removed]",
      "text/plain": [
       "<Figure size 432x288 with 1 Axes>"
      ]
     },
     "metadata": {
      "needs_background": "light"
     },
     "output_type": "display_data"
    },
    {
     "name": "stderr",
     "output_type": "stream",
     "text": [
      "2020-10-18 19:26:42,329 : INFO : ROC AUC 0.540\n"
     ]
    }
   ],
   "source": [
    "supevisedEval.Compute_roc_curve()"
   ]
  },
  {
   "cell_type": "markdown",
   "metadata": {},
   "source": [
    "## Compute distribution of similarities word2vec"
   ]
  },
  {
   "cell_type": "code",
   "execution_count": null,
   "metadata": {},
   "outputs": [
    {
     "data": {
      "text/html": [
       "<div>\n",
       "<style scoped>\n",
       "    .dataframe tbody tr th:only-of-type {\n",
       "        vertical-align: middle;\n",
       "    }\n",
       "\n",
       "    .dataframe tbody tr th {\n",
       "        vertical-align: top;\n",
       "    }\n",
       "\n",
       "    .dataframe thead th {\n",
       "        text-align: right;\n",
       "    }\n",
       "</style>\n",
       "<table border=\"1\" class=\"dataframe\">\n",
       "  <thead>\n",
       "    <tr style=\"text-align: right;\">\n",
       "      <th></th>\n",
       "      <th>DistanceMetric.WMD</th>\n",
       "      <th>SimilarityMetric.WMD_sim</th>\n",
       "      <th>DistanceMetric.SCM</th>\n",
       "      <th>SimilarityMetric.SCM_sim</th>\n",
       "      <th>Linked?</th>\n",
       "    </tr>\n",
       "  </thead>\n",
       "  <tbody>\n",
       "    <tr>\n",
       "      <th>count</th>\n",
       "      <td>50.000000</td>\n",
       "      <td>50.000000</td>\n",
       "      <td>50.000000</td>\n",
       "      <td>50.000000</td>\n",
       "      <td>50.000000</td>\n",
       "    </tr>\n",
       "    <tr>\n",
       "      <th>mean</th>\n",
       "      <td>0.427667</td>\n",
       "      <td>0.703438</td>\n",
       "      <td>0.603037</td>\n",
       "      <td>0.396963</td>\n",
       "      <td>0.380000</td>\n",
       "    </tr>\n",
       "    <tr>\n",
       "      <th>std</th>\n",
       "      <td>0.094467</td>\n",
       "      <td>0.046301</td>\n",
       "      <td>0.155747</td>\n",
       "      <td>0.155747</td>\n",
       "      <td>0.490314</td>\n",
       "    </tr>\n",
       "    <tr>\n",
       "      <th>min</th>\n",
       "      <td>0.255340</td>\n",
       "      <td>0.610164</td>\n",
       "      <td>0.352160</td>\n",
       "      <td>0.078308</td>\n",
       "      <td>0.000000</td>\n",
       "    </tr>\n",
       "    <tr>\n",
       "      <th>25%</th>\n",
       "      <td>0.350801</td>\n",
       "      <td>0.667167</td>\n",
       "      <td>0.449102</td>\n",
       "      <td>0.278616</td>\n",
       "      <td>0.000000</td>\n",
       "    </tr>\n",
       "    <tr>\n",
       "      <th>50%</th>\n",
       "      <td>0.411666</td>\n",
       "      <td>0.708389</td>\n",
       "      <td>0.630930</td>\n",
       "      <td>0.369070</td>\n",
       "      <td>0.000000</td>\n",
       "    </tr>\n",
       "    <tr>\n",
       "      <th>75%</th>\n",
       "      <td>0.498901</td>\n",
       "      <td>0.740303</td>\n",
       "      <td>0.721384</td>\n",
       "      <td>0.550898</td>\n",
       "      <td>1.000000</td>\n",
       "    </tr>\n",
       "    <tr>\n",
       "      <th>max</th>\n",
       "      <td>0.638903</td>\n",
       "      <td>0.796597</td>\n",
       "      <td>0.921692</td>\n",
       "      <td>0.647840</td>\n",
       "      <td>1.000000</td>\n",
       "    </tr>\n",
       "  </tbody>\n",
       "</table>\n",
       "</div>"
      ],
      "text/plain": [
       "       DistanceMetric.WMD  SimilarityMetric.WMD_sim  DistanceMetric.SCM  \\\n",
       "count           50.000000                 50.000000           50.000000   \n",
       "mean             0.427667                  0.703438            0.603037   \n",
       "std              0.094467                  0.046301            0.155747   \n",
       "min              0.255340                  0.610164            0.352160   \n",
       "25%              0.350801                  0.667167            0.449102   \n",
       "50%              0.411666                  0.708389            0.630930   \n",
       "75%              0.498901                  0.740303            0.721384   \n",
       "max              0.638903                  0.796597            0.921692   \n",
       "\n",
       "       SimilarityMetric.SCM_sim    Linked?  \n",
       "count                 50.000000  50.000000  \n",
       "mean                   0.396963   0.380000  \n",
       "std                    0.155747   0.490314  \n",
       "min                    0.078308   0.000000  \n",
       "25%                    0.278616   0.000000  \n",
       "50%                    0.369070   0.000000  \n",
       "75%                    0.550898   1.000000  \n",
       "max                    0.647840   1.000000  "
      ]
     },
     "execution_count": null,
     "metadata": {},
     "output_type": "execute_result"
    }
   ],
   "source": [
    "#Basic Statistics\n",
    "filter_metrics = word2vec.df_ground_link\n",
    "filter_metrics.describe()"
   ]
  },
  {
   "cell_type": "code",
   "execution_count": null,
   "metadata": {},
   "outputs": [
    {
     "data": {
      "text/plain": [
       "array([[<matplotlib.axes._subplots.AxesSubplot object at 0x12a263130>,\n",
       "        <matplotlib.axes._subplots.AxesSubplot object at 0x127428520>,\n",
       "        <matplotlib.axes._subplots.AxesSubplot object at 0x12d9d19a0>,\n",
       "        <matplotlib.axes._subplots.AxesSubplot object at 0x123f44e50>,\n",
       "        <matplotlib.axes._subplots.AxesSubplot object at 0x1240622e0>],\n",
       "       [<matplotlib.axes._subplots.AxesSubplot object at 0x12408f670>,\n",
       "        <matplotlib.axes._subplots.AxesSubplot object at 0x12408f760>,\n",
       "        <matplotlib.axes._subplots.AxesSubplot object at 0x124792c40>,\n",
       "        <matplotlib.axes._subplots.AxesSubplot object at 0x1247f8490>,\n",
       "        <matplotlib.axes._subplots.AxesSubplot object at 0x124823910>],\n",
       "       [<matplotlib.axes._subplots.AxesSubplot object at 0x124851d90>,\n",
       "        <matplotlib.axes._subplots.AxesSubplot object at 0x12488c220>,\n",
       "        <matplotlib.axes._subplots.AxesSubplot object at 0x1248b8670>,\n",
       "        <matplotlib.axes._subplots.AxesSubplot object at 0x1248e4af0>,\n",
       "        <matplotlib.axes._subplots.AxesSubplot object at 0x124912f40>],\n",
       "       [<matplotlib.axes._subplots.AxesSubplot object at 0x12573c430>,\n",
       "        <matplotlib.axes._subplots.AxesSubplot object at 0x125767880>,\n",
       "        <matplotlib.axes._subplots.AxesSubplot object at 0x125795cd0>,\n",
       "        <matplotlib.axes._subplots.AxesSubplot object at 0x1257d0160>,\n",
       "        <matplotlib.axes._subplots.AxesSubplot object at 0x1257fc5b0>],\n",
       "       [<matplotlib.axes._subplots.AxesSubplot object at 0x125829a00>,\n",
       "        <matplotlib.axes._subplots.AxesSubplot object at 0x125856e50>,\n",
       "        <matplotlib.axes._subplots.AxesSubplot object at 0x12588f2e0>,\n",
       "        <matplotlib.axes._subplots.AxesSubplot object at 0x1258bc730>,\n",
       "        <matplotlib.axes._subplots.AxesSubplot object at 0x1258e7b80>]],\n",
       "      dtype=object)"
      ]
     },
     "execution_count": null,
     "metadata": {},
     "output_type": "execute_result"
    },
    {
     "data": {
      "image/png": "[encoded data removed]",
      "text/plain": [
       "<Figure size 432x432 with 25 Axes>"
      ]
     },
     "metadata": {
      "needs_background": "light"
     },
     "output_type": "display_data"
    }
   ],
   "source": [
    "scatter_matrix(filter_metrics, alpha=0.2, figsize=(6, 6), diagonal='kde')"
   ]
  },
  {
   "cell_type": "markdown",
   "metadata": {},
   "source": [
    "Lag plots are used to check if a data set or time series is random. Random data should not exhibit any structure in the lag plot. Non-random structure implies that the underlying data are not random. The lag argument may be passed, and when lag=1 the plot is essentially data[:-1] vs. data[1:]."
   ]
  },
  {
   "cell_type": "code",
   "execution_count": null,
   "metadata": {},
   "outputs": [
    {
     "data": {
      "text/plain": [
       "<matplotlib.axes._subplots.AxesSubplot at 0x1257d0fa0>"
      ]
     },
     "execution_count": null,
     "metadata": {},
     "output_type": "execute_result"
    },
    {
     "data": {
      "image/png": "[encoded data removed]",
      "text/plain": [
       "<Figure size 432x288 with 1 Axes>"
      ]
     },
     "metadata": {
      "needs_background": "light"
     },
     "output_type": "display_data"
    }
   ],
   "source": [
    "lag_plot(filter_metrics[[SimilarityMetric.WMD_sim]])"
   ]
  },
  {
   "cell_type": "code",
   "execution_count": null,
   "metadata": {},
   "outputs": [
    {
     "data": {
      "text/plain": [
       "<matplotlib.axes._subplots.AxesSubplot at 0x12a29a7c0>"
      ]
     },
     "execution_count": null,
     "metadata": {},
     "output_type": "execute_result"
    },
    {
     "data": {
      "image/png": "[encoded data removed]",
      "text/plain": [
       "<Figure size 432x288 with 1 Axes>"
      ]
     },
     "metadata": {
      "needs_background": "light"
     },
     "output_type": "display_data"
    }
   ],
   "source": [
    "lag_plot(filter_metrics[DistanceMetric.WMD])"
   ]
  },
  {
   "cell_type": "code",
   "execution_count": null,
   "metadata": {},
   "outputs": [],
   "source": [
    "# calculate model precision-recall curve\n",
    "sim = np.array(filter_metrics[SimilarityMetric.WMD_sim])"
   ]
  },
  {
   "cell_type": "code",
   "execution_count": null,
   "metadata": {},
   "outputs": [
    {
     "data": {
      "text/plain": [
       "array([[<matplotlib.axes._subplots.AxesSubplot object at 0x12a843100>,\n",
       "        <matplotlib.axes._subplots.AxesSubplot object at 0x1240f5b50>],\n",
       "       [<matplotlib.axes._subplots.AxesSubplot object at 0x123e2de50>,\n",
       "        <matplotlib.axes._subplots.AxesSubplot object at 0x1245152e0>]],\n",
       "      dtype=object)"
      ]
     },
     "execution_count": null,
     "metadata": {},
     "output_type": "execute_result"
    },
    {
     "data": {
      "image/png": "[encoded data removed]",
      "text/plain": [
       "<Figure size 720x360 with 4 Axes>"
      ]
     },
     "metadata": {
      "needs_background": "light"
     },
     "output_type": "display_data"
    }
   ],
   "source": [
    "filter_metrics.hist(column=[SimilarityMetric.WMD_sim,DistanceMetric.WMD,SimilarityMetric.SCM_sim,\n",
    "                            DistanceMetric.SCM],color='k',bins=50,figsize=[10,5],alpha=0.5)"
   ]
  },
  {
   "cell_type": "code",
   "execution_count": null,
   "metadata": {},
   "outputs": [
    {
     "name": "stdout",
     "output_type": "stream",
     "text": [
      "SimilarityMetric.WMD_sim    0.046301\n",
      "DistanceMetric.WMD          0.094467\n",
      "SimilarityMetric.SCM_sim    0.155747\n",
      "DistanceMetric.SCM          0.155747\n",
      "dtype: float64\n"
     ]
    },
    {
     "data": {
      "text/plain": [
       "<matplotlib.axes._subplots.AxesSubplot at 0x126220d30>"
      ]
     },
     "execution_count": null,
     "metadata": {},
     "output_type": "execute_result"
    },
    {
     "data": {
      "image/png": "[encoded data removed]",
      "text/plain": [
       "<Figure size 432x288 with 1 Axes>"
      ]
     },
     "metadata": {
      "needs_background": "light"
     },
     "output_type": "display_data"
    }
   ],
   "source": [
    "errors = filter_metrics[[SimilarityMetric.WMD_sim,DistanceMetric.WMD,SimilarityMetric.SCM_sim,\n",
    "                            DistanceMetric.SCM]].std()\n",
    "print(errors)\n",
    "filter_metrics[[SimilarityMetric.WMD_sim,DistanceMetric.WMD,SimilarityMetric.SCM_sim,\n",
    "                            DistanceMetric.SCM]].plot.kde()"
   ]
  },
  {
   "cell_type": "code",
   "execution_count": null,
   "metadata": {},
   "outputs": [
    {
     "data": {
      "text/plain": [
       "<matplotlib.axes._subplots.AxesSubplot at 0x126339f70>"
      ]
     },
     "execution_count": null,
     "metadata": {},
     "output_type": "execute_result"
    },
    {
     "data": {
      "image/png": "[encoded data removed]",
      "text/plain": [
       "<Figure size 432x288 with 1 Axes>"
      ]
     },
     "metadata": {
      "needs_background": "light"
     },
     "output_type": "display_data"
    }
   ],
   "source": [
    "filter_metrics[SimilarityMetric.WMD_sim].plot.kde()\n",
    "filter_metrics[SimilarityMetric.WMD_sim].plot.hist(density=True) # Histogram will now be normalized"
   ]
  },
  {
   "cell_type": "code",
   "execution_count": null,
   "metadata": {},
   "outputs": [
    {
     "data": {
      "text/plain": [
       "<matplotlib.axes._subplots.AxesSubplot at 0x126460d60>"
      ]
     },
     "execution_count": null,
     "metadata": {},
     "output_type": "execute_result"
    },
    {
     "data": {
      "image/png": "[encoded data removed]",
      "text/plain": [
       "<Figure size 432x288 with 1 Axes>"
      ]
     },
     "metadata": {
      "needs_background": "light"
     },
     "output_type": "display_data"
    }
   ],
   "source": [
    "filter_metrics[SimilarityMetric.SCM_sim].plot.kde()\n",
    "filter_metrics[SimilarityMetric.SCM_sim].plot.hist(density=True) # Histogram will now be normalized"
   ]
  },
  {
   "cell_type": "code",
   "execution_count": null,
   "metadata": {},
   "outputs": [
    {
     "data": {
      "text/plain": [
       "<matplotlib.axes._subplots.AxesSubplot at 0x1265d6b80>"
      ]
     },
     "execution_count": null,
     "metadata": {},
     "output_type": "execute_result"
    },
    {
     "data": {
      "image/png": "[encoded data removed]",
      "text/plain": [
       "<Figure size 432x288 with 1 Axes>"
      ]
     },
     "metadata": {
      "needs_background": "light"
     },
     "output_type": "display_data"
    }
   ],
   "source": [
    "filter_metrics[DistanceMetric.WMD].plot.kde()\n",
    "filter_metrics[DistanceMetric.WMD].plot.hist(density=True)"
   ]
  },
  {
   "cell_type": "code",
   "execution_count": null,
   "metadata": {},
   "outputs": [
    {
     "data": {
      "text/plain": [
       "<matplotlib.axes._subplots.AxesSubplot at 0x1265dc4c0>"
      ]
     },
     "execution_count": null,
     "metadata": {},
     "output_type": "execute_result"
    },
    {
     "data": {
      "image/png": "[encoded data removed]",
      "text/plain": [
       "<Figure size 432x288 with 1 Axes>"
      ]
     },
     "metadata": {
      "needs_background": "light"
     },
     "output_type": "display_data"
    }
   ],
   "source": [
    "filter_metrics[DistanceMetric.SCM].plot.kde()\n",
    "filter_metrics[DistanceMetric.SCM].plot.hist(density=True)"
   ]
  },
  {
   "cell_type": "code",
   "execution_count": null,
   "metadata": {},
   "outputs": [
    {
     "data": {
      "text/plain": [
       "array([<matplotlib.axes._subplots.AxesSubplot object at 0x1240eabb0>,\n",
       "       <matplotlib.axes._subplots.AxesSubplot object at 0x1261ef9a0>],\n",
       "      dtype=object)"
      ]
     },
     "execution_count": null,
     "metadata": {},
     "output_type": "execute_result"
    },
    {
     "data": {
      "image/png": "[encoded data removed]",
      "text/plain": [
       "<Figure size 720x360 with 2 Axes>"
      ]
     },
     "metadata": {
      "needs_background": "light"
     },
     "output_type": "display_data"
    }
   ],
   "source": [
    "filter_metrics.hist(by='Linked?',column=SimilarityMetric.WMD_sim ,figsize=[10, 5],bins=80)"
   ]
  },
  {
   "cell_type": "code",
   "execution_count": null,
   "metadata": {},
   "outputs": [
    {
     "data": {
      "text/plain": [
       "array([<matplotlib.axes._subplots.AxesSubplot object at 0x12467e910>,\n",
       "       <matplotlib.axes._subplots.AxesSubplot object at 0x126a09f10>],\n",
       "      dtype=object)"
      ]
     },
     "execution_count": null,
     "metadata": {},
     "output_type": "execute_result"
    },
    {
     "data": {
      "image/png": "[encoded data removed]",
      "text/plain": [
       "<Figure size 720x360 with 2 Axes>"
      ]
     },
     "metadata": {
      "needs_background": "light"
     },
     "output_type": "display_data"
    }
   ],
   "source": [
    "filter_metrics.hist(by='Linked?',column=SimilarityMetric.SCM_sim ,figsize=[10, 5],bins=80)"
   ]
  },
  {
   "cell_type": "code",
   "execution_count": null,
   "metadata": {},
   "outputs": [
    {
     "data": {
      "text/plain": [
       "array([<matplotlib.axes._subplots.AxesSubplot object at 0x126aaeca0>,\n",
       "       <matplotlib.axes._subplots.AxesSubplot object at 0x126c4cac0>],\n",
       "      dtype=object)"
      ]
     },
     "execution_count": null,
     "metadata": {},
     "output_type": "execute_result"
    },
    {
     "data": {
      "image/png": "[encoded data removed]",
      "text/plain": [
       "<Figure size 720x360 with 2 Axes>"
      ]
     },
     "metadata": {
      "needs_background": "light"
     },
     "output_type": "display_data"
    }
   ],
   "source": [
    "filter_metrics.hist(by='Linked?',column=DistanceMetric.WMD,figsize=[10, 5],bins=80)"
   ]
  },
  {
   "cell_type": "code",
   "execution_count": null,
   "metadata": {},
   "outputs": [
    {
     "data": {
      "text/plain": [
       "array([<matplotlib.axes._subplots.AxesSubplot object at 0x126f7b0d0>,\n",
       "       <matplotlib.axes._subplots.AxesSubplot object at 0x126fd4190>],\n",
       "      dtype=object)"
      ]
     },
     "execution_count": null,
     "metadata": {},
     "output_type": "execute_result"
    },
    {
     "data": {
      "image/png": "[encoded data removed]",
      "text/plain": [
       "<Figure size 720x360 with 2 Axes>"
      ]
     },
     "metadata": {
      "needs_background": "light"
     },
     "output_type": "display_data"
    }
   ],
   "source": [
    "filter_metrics.hist(by='Linked?',column=DistanceMetric.SCM,figsize=[10, 5],bins=80)"
   ]
  },
  {
   "cell_type": "code",
   "execution_count": null,
   "metadata": {},
   "outputs": [
    {
     "data": {
      "image/png": "[encoded data removed]",
      "text/plain": [
       "<Figure size 720x360 with 4 Axes>"
      ]
     },
     "metadata": {
      "needs_background": "light"
     },
     "output_type": "display_data"
    }
   ],
   "source": [
    "boxplot = filter_metrics.boxplot(by='Linked?',column=[SimilarityMetric.WMD_sim,DistanceMetric.WMD,SimilarityMetric.SCM_sim,\n",
    "                            DistanceMetric.SCM],figsize=[10, 5])"
   ]
  },
  {
   "cell_type": "code",
   "execution_count": null,
   "metadata": {},
   "outputs": [],
   "source": [
    "def doc2vec_params():\n",
    "    return {\n",
    "        \"vectorizationType\": VectorizationType.doc2vec,\n",
    "        \"linkType\": LinkType.req2tc,\n",
    "        \"system\": 'libest',\n",
    "        \"path_to_trained_model\": 'test_data/models/doc2vec_libest.model',\n",
    "        \"source_path\": 'test_data/[libest-pre-req].csv',\n",
    "        \"target_path\": 'test_data/[libest-pre-tc].csv',\n",
    "        \"system_path\": 'test_data/[libest-pre-all].csv',\n",
    "        \"saving_path\": 'test_data/',\n",
    "        \"names\": ['Source','Target','Linked?']\n",
    "    }"
   ]
  },
  {
   "cell_type": "code",
   "execution_count": null,
   "metadata": {},
   "outputs": [
    {
     "data": {
      "text/plain": [
       "{'vectorizationType': <VectorizationType.doc2vec: 2>,\n",
       " 'linkType': <LinkType.req2tc: 1>,\n",
       " 'system': 'libest',\n",
       " 'path_to_trained_model': 'test_data/models/doc2vec_libest.model',\n",
       " 'source_path': 'test_data/[libest-pre-req].csv',\n",
       " 'target_path': 'test_data/[libest-pre-tc].csv',\n",
       " 'system_path': 'test_data/[libest-pre-all].csv',\n",
       " 'saving_path': 'test_data/',\n",
       " 'names': ['Source', 'Target', 'Linked?']}"
      ]
     },
     "execution_count": null,
     "metadata": {},
     "output_type": "execute_result"
    }
   ],
   "source": [
    "doc2vec_params = doc2vec_params()\n",
    "doc2vec_params"
   ]
  },
  {
   "cell_type": "markdown",
   "metadata": {},
   "source": [
    "### Testing Doc2Vec SequenceVectorization"
   ]
  },
  {
   "cell_type": "code",
   "execution_count": null,
   "metadata": {},
   "outputs": [
    {
     "name": "stderr",
     "output_type": "stream",
     "text": [
      "2020-10-18 19:27:09,741 : INFO : adding document #0 to Dictionary(0 unique tokens: [])\n",
      "2020-10-18 19:27:09,836 : INFO : built Dictionary(6957 unique tokens: ['\");', '\"../../', '(\"\\\\', '();', ')))']...) from 87 documents (total 88944 corpus positions)\n",
      "2020-10-18 19:27:09,838 : INFO : loading Doc2Vec object from test_data/models/doc2vec_libest.model\n",
      "2020-10-18 19:27:09,868 : INFO : loading vocabulary recursively from test_data/models/doc2vec_libest.model.vocabulary.* with mmap=None\n",
      "2020-10-18 19:27:09,869 : INFO : loading trainables recursively from test_data/models/doc2vec_libest.model.trainables.* with mmap=None\n",
      "2020-10-18 19:27:09,874 : INFO : loading wv recursively from test_data/models/doc2vec_libest.model.wv.* with mmap=None\n",
      "2020-10-18 19:27:09,883 : INFO : loading docvecs recursively from test_data/models/doc2vec_libest.model.docvecs.* with mmap=None\n",
      "2020-10-18 19:27:09,886 : INFO : loaded test_data/models/doc2vec_libest.model\n",
      "2020-10-18 19:27:09,897 : INFO : precomputing L2-norms of doc weight vectors\n"
     ]
    }
   ],
   "source": [
    "doc2vec = Doc2VecSeqVect(params = doc2vec_params)"
   ]
  },
  {
   "cell_type": "code",
   "execution_count": null,
   "metadata": {},
   "outputs": [
    {
     "name": "stderr",
     "output_type": "stream",
     "text": [
      "2020-10-18 19:27:23,263 : INFO : Infer Doc2Vec on Source and Target Complete\n"
     ]
    }
   ],
   "source": [
    "#[step1]Apply Doc2Vec Inference\n",
    "doc2vec.InferDoc2Vec(steps=200)"
   ]
  },
  {
   "cell_type": "code",
   "execution_count": null,
   "metadata": {},
   "outputs": [
    {
     "data": {
      "text/html": [
       "<div>\n",
       "<style scoped>\n",
       "    .dataframe tbody tr th:only-of-type {\n",
       "        vertical-align: middle;\n",
       "    }\n",
       "\n",
       "    .dataframe tbody tr th {\n",
       "        vertical-align: top;\n",
       "    }\n",
       "\n",
       "    .dataframe thead th {\n",
       "        text-align: right;\n",
       "    }\n",
       "</style>\n",
       "<table border=\"1\" class=\"dataframe\">\n",
       "  <thead>\n",
       "    <tr style=\"text-align: right;\">\n",
       "      <th></th>\n",
       "      <th>ids</th>\n",
       "      <th>text</th>\n",
       "      <th>inf-doc2vec</th>\n",
       "    </tr>\n",
       "  </thead>\n",
       "  <tbody>\n",
       "    <tr>\n",
       "      <th>0</th>\n",
       "      <td>test_data/LibEST_semeru_format/requirements/RQ...</td>\n",
       "      <td>requir http uri control est server must suppor...</td>\n",
       "      <td>[-2.8317213, -2.4188962, -6.478969, 3.0023212,...</td>\n",
       "    </tr>\n",
       "    <tr>\n",
       "      <th>1</th>\n",
       "      <td>test_data/LibEST_semeru_format/requirements/RQ...</td>\n",
       "      <td>requir server side key generat respons request...</td>\n",
       "      <td>[-3.5909107, -2.1294444, -6.424426, 1.1216303,...</td>\n",
       "    </tr>\n",
       "  </tbody>\n",
       "</table>\n",
       "</div>"
      ],
      "text/plain": [
       "                                                 ids  \\\n",
       "0  test_data/LibEST_semeru_format/requirements/RQ...   \n",
       "1  test_data/LibEST_semeru_format/requirements/RQ...   \n",
       "\n",
       "                                                text  \\\n",
       "0  requir http uri control est server must suppor...   \n",
       "1  requir server side key generat respons request...   \n",
       "\n",
       "                                         inf-doc2vec  \n",
       "0  [-2.8317213, -2.4188962, -6.478969, 3.0023212,...  \n",
       "1  [-3.5909107, -2.1294444, -6.424426, 1.1216303,...  "
      ]
     },
     "execution_count": null,
     "metadata": {},
     "output_type": "execute_result"
    }
   ],
   "source": [
    "doc2vec.df_inferred_src.head(2)"
   ]
  },
  {
   "cell_type": "code",
   "execution_count": null,
   "metadata": {},
   "outputs": [
    {
     "data": {
      "text/html": [
       "<div>\n",
       "<style scoped>\n",
       "    .dataframe tbody tr th:only-of-type {\n",
       "        vertical-align: middle;\n",
       "    }\n",
       "\n",
       "    .dataframe tbody tr th {\n",
       "        vertical-align: top;\n",
       "    }\n",
       "\n",
       "    .dataframe thead th {\n",
       "        text-align: right;\n",
       "    }\n",
       "</style>\n",
       "<table border=\"1\" class=\"dataframe\">\n",
       "  <thead>\n",
       "    <tr style=\"text-align: right;\">\n",
       "      <th></th>\n",
       "      <th>ids</th>\n",
       "      <th>text</th>\n",
       "      <th>inf-doc2vec</th>\n",
       "    </tr>\n",
       "  </thead>\n",
       "  <tbody>\n",
       "    <tr>\n",
       "      <th>0</th>\n",
       "      <td>test_data/LibEST_semeru_format/test/us903.c</td>\n",
       "      <td>unit test user stori server simpl enrol august...</td>\n",
       "      <td>[-1.1435783, -0.6797689, -3.8540845, -6.446298...</td>\n",
       "    </tr>\n",
       "    <tr>\n",
       "      <th>1</th>\n",
       "      <td>test_data/LibEST_semeru_format/test/us3496.c</td>\n",
       "      <td>unit test uri path segment extens support marc...</td>\n",
       "      <td>[-7.902094, -3.171574, -2.0337508, 0.39059234,...</td>\n",
       "    </tr>\n",
       "  </tbody>\n",
       "</table>\n",
       "</div>"
      ],
      "text/plain": [
       "                                            ids  \\\n",
       "0   test_data/LibEST_semeru_format/test/us903.c   \n",
       "1  test_data/LibEST_semeru_format/test/us3496.c   \n",
       "\n",
       "                                                text  \\\n",
       "0  unit test user stori server simpl enrol august...   \n",
       "1  unit test uri path segment extens support marc...   \n",
       "\n",
       "                                         inf-doc2vec  \n",
       "0  [-1.1435783, -0.6797689, -3.8540845, -6.446298...  \n",
       "1  [-7.902094, -3.171574, -2.0337508, 0.39059234,...  "
      ]
     },
     "execution_count": null,
     "metadata": {},
     "output_type": "execute_result"
    }
   ],
   "source": [
    "#test_inferDoc2Vec_trg = inferDoc2Vec(df_target)\n",
    "#test_inferDoc2Vec_trg.head()\n",
    "doc2vec.df_inferred_trg.head(2)"
   ]
  },
  {
   "cell_type": "code",
   "execution_count": null,
   "metadata": {},
   "outputs": [
    {
     "name": "stderr",
     "output_type": "stream",
     "text": [
      "2020-10-18 19:27:35,627 : INFO : Computed distances or similarities ('RQ8-pre.txt', 'us3612.c')[[27.23440933227539, 0.035417776523374175]]\n",
      "2020-10-18 19:27:35,642 : INFO : Computed distances or similarities ('RQ40-pre.txt', 'us896.c')[[22.97349739074707, 0.041712729006572274]]\n",
      "2020-10-18 19:27:35,647 : INFO : Computed distances or similarities ('RQ13-pre.txt', 'us899.c')[[27.776687622070312, 0.0347503511569222]]\n",
      "2020-10-18 19:27:35,653 : INFO : Computed distances or similarities ('RQ5-pre.txt', 'us3496.c')[[33.48546600341797, 0.028997723269880902]]\n",
      "2020-10-18 19:27:35,661 : INFO : Computed distances or similarities ('RQ53-pre.txt', 'us2174.c')[[45.23784255981445, 0.02162730665269199]]\n",
      "2020-10-18 19:27:35,669 : INFO : Computed distances or similarities ('RQ8-pre.txt', 'us4020.c')[[29.1542911529541, 0.033162775902362204]]\n",
      "2020-10-18 19:27:35,673 : INFO : Computed distances or similarities ('RQ24-pre.txt', 'us897.c')[[24.291915893554688, 0.03953832537671995]]\n",
      "2020-10-18 19:27:35,678 : INFO : Computed distances or similarities ('RQ4-pre.txt', 'us1159.c')[[33.71577072143555, 0.02880535212725499]]\n",
      "2020-10-18 19:27:35,682 : INFO : Computed distances or similarities ('RQ31-pre.txt', 'us896.c')[[21.696489334106445, 0.0440596774804851]]\n",
      "2020-10-18 19:27:35,694 : INFO : Computed distances or similarities ('RQ20-pre.txt', 'us1883.c')[[38.48700714111328, 0.025324785857442585]]\n",
      "2020-10-18 19:27:35,698 : INFO : Computed distances or similarities ('RQ15-pre.txt', 'us1864.c')[[34.80115509033203, 0.027932059663349978]]\n",
      "2020-10-18 19:27:35,701 : INFO : Computed distances or similarities ('RQ42-pre.txt', 'us900.c')[[33.771602630615234, 0.028759100080119213]]\n",
      "2020-10-18 19:27:35,705 : INFO : Computed distances or similarities ('RQ56-pre.txt', 'us2174.c')[[43.9333610534668, 0.022255179148741776]]\n",
      "2020-10-18 19:27:35,709 : INFO : Computed distances or similarities ('RQ56-pre.txt', 'us903.c')[[34.329463958740234, 0.028304986488554063]]\n",
      "2020-10-18 19:27:35,713 : INFO : Computed distances or similarities ('RQ19-pre.txt', 'us898.c')[[28.1805477142334, 0.034269404734724354]]\n",
      "2020-10-18 19:27:35,716 : INFO : Computed distances or similarities ('RQ39-pre.txt', 'us896.c')[[20.743900299072266, 0.04598990918122755]]\n",
      "2020-10-18 19:27:35,719 : INFO : Computed distances or similarities ('RQ23-pre.txt', 'us896.c')[[25.8386287689209, 0.03725972770851836]]\n",
      "2020-10-18 19:27:35,722 : INFO : Computed distances or similarities ('RQ56-pre.txt', 'us1883.c')[[40.60391616821289, 0.024036198802939644]]\n",
      "2020-10-18 19:27:35,726 : INFO : Computed distances or similarities ('RQ17-pre.txt', 'us893.c')[[36.71622085571289, 0.026513791077467656]]\n",
      "2020-10-18 19:27:35,731 : INFO : Computed distances or similarities ('RQ25-pre.txt', 'us897.c')[[26.644739151000977, 0.036173247811737495]]\n",
      "2020-10-18 19:27:35,734 : INFO : Computed distances or similarities ('RQ1-pre.txt', 'us900.c')[[35.14284896850586, 0.02766799044733246]]\n",
      "2020-10-18 19:27:35,737 : INFO : Computed distances or similarities ('RQ28-pre.txt', 'us3512.c')[[32.34986877441406, 0.029985125481728957]]\n",
      "2020-10-18 19:27:35,743 : INFO : Computed distances or similarities ('RQ50-pre.txt', 'us901.c')[[40.41940689086914, 0.024143271839569696]]\n",
      "2020-10-18 19:27:35,748 : INFO : Computed distances or similarities ('RQ39-pre.txt', 'us897.c')[[21.42461585998535, 0.044593851963565065]]\n",
      "2020-10-18 19:27:35,751 : INFO : Computed distances or similarities ('RQ53-pre.txt', 'us3612.c')[[31.8822021484375, 0.030411588478343993]]\n",
      "2020-10-18 19:27:35,756 : INFO : Computed distances or similarities ('RQ28-pre.txt', 'us900.c')[[33.046077728271484, 0.029371959025095307]]\n",
      "2020-10-18 19:27:35,761 : INFO : Computed distances or similarities ('RQ46-pre.txt', 'us1883.c')[[40.81450653076172, 0.023915145316000058]]\n",
      "2020-10-18 19:27:35,766 : INFO : Computed distances or similarities ('RQ6-pre.txt', 'us900.c')[[33.06687927246094, 0.029354024241615297]]\n",
      "2020-10-18 19:27:35,770 : INFO : Computed distances or similarities ('RQ36-pre.txt', 'us1159.c')[[26.379152297973633, 0.036524140306345834]]\n",
      "2020-10-18 19:27:35,775 : INFO : Computed distances or similarities ('RQ31-pre.txt', 'us901.c')[[35.67277908325195, 0.02726818160494111]]\n",
      "2020-10-18 19:27:35,779 : INFO : Computed distances or similarities ('RQ5-pre.txt', 'us1060.c')[[20.93966293334961, 0.045579551656645546]]\n",
      "2020-10-18 19:27:35,783 : INFO : Computed distances or similarities ('RQ1-pre.txt', 'us1159.c')[[31.052444458007812, 0.031198868507832805]]\n",
      "2020-10-18 19:27:35,787 : INFO : Computed distances or similarities ('RQ14-pre.txt', 'us3612.c')[[30.250730514526367, 0.031999251970611285]]\n",
      "2020-10-18 19:27:35,792 : INFO : Computed distances or similarities ('RQ58-pre.txt', 'us1005.c')[[34.801063537597656, 0.027932131092972066]]\n",
      "2020-10-18 19:27:35,798 : INFO : Computed distances or similarities ('RQ31-pre.txt', 'us3612.c')[[27.75454330444336, 0.03477711293872203]]\n",
      "2020-10-18 19:27:35,803 : INFO : Computed distances or similarities ('RQ33-pre.txt', 'us897.c')[[21.01719093322754, 0.04541905473013075]]\n",
      "2020-10-18 19:27:35,833 : INFO : Computed distances or similarities ('RQ6-pre.txt', 'us893.c')[[31.904010772705078, 0.030391431819902386]]\n",
      "2020-10-18 19:27:35,836 : INFO : Computed distances or similarities ('RQ49-pre.txt', 'us1864.c')[[40.181156158447266, 0.024282951069961048]]\n",
      "2020-10-18 19:27:35,840 : INFO : Computed distances or similarities ('RQ5-pre.txt', 'us3512.c')[[32.46470642089844, 0.029882228381824624]]\n",
      "2020-10-18 19:27:35,855 : INFO : Computed distances or similarities ('RQ6-pre.txt', 'us1883.c')[[38.07905578613281, 0.025589154596586994]]\n",
      "2020-10-18 19:27:35,864 : INFO : Computed distances or similarities ('RQ41-pre.txt', 'us1005.c')[[28.600980758666992, 0.03378266443780603]]\n",
      "2020-10-18 19:27:35,868 : INFO : Computed distances or similarities ('RQ24-pre.txt', 'us4020.c')[[26.908781051635742, 0.03583101670222855]]\n",
      "2020-10-18 19:27:35,870 : INFO : Computed distances or similarities ('RQ49-pre.txt', 'us896.c')[[26.875762939453125, 0.035873457604443895]]\n",
      "2020-10-18 19:27:35,876 : INFO : Computed distances or similarities ('RQ27-pre.txt', 'us1864.c')[[33.86593246459961, 0.028681292290556947]]\n",
      "2020-10-18 19:27:35,882 : INFO : Computed distances or similarities ('RQ56-pre.txt', 'us3512.c')[[32.28238296508789, 0.030045925529099484]]\n",
      "2020-10-18 19:27:35,886 : INFO : Computed distances or similarities ('RQ49-pre.txt', 'us903.c')[[38.734073638916016, 0.02516731632118858]]\n",
      "2020-10-18 19:27:35,889 : INFO : Computed distances or similarities ('RQ56-pre.txt', 'us900.c')[[28.086137771606445, 0.03438063890958354]]\n",
      "2020-10-18 19:27:35,903 : INFO : Computed distances or similarities ('RQ36-pre.txt', 'us897.c')[[25.21482276916504, 0.038146357456066475]]\n",
      "2020-10-18 19:27:35,929 : INFO : Computed distances or similarities ('RQ36-pre.txt', 'us1005.c')[[30.33309555053711, 0.03191513581500753]]\n",
      "2020-10-18 19:27:35,939 : INFO : Computed distances or similarities ('RQ22-pre.txt', 'us1005.c')[[28.486875534057617, 0.03391339305668349]]\n",
      "2020-10-18 19:27:35,949 : INFO : Non-groundtruth links computed\n"
     ]
    },
    {
     "data": {
      "text/html": [
       "<div>\n",
       "<style scoped>\n",
       "    .dataframe tbody tr th:only-of-type {\n",
       "        vertical-align: middle;\n",
       "    }\n",
       "\n",
       "    .dataframe tbody tr th {\n",
       "        vertical-align: top;\n",
       "    }\n",
       "\n",
       "    .dataframe thead th {\n",
       "        text-align: right;\n",
       "    }\n",
       "</style>\n",
       "<table border=\"1\" class=\"dataframe\">\n",
       "  <thead>\n",
       "    <tr style=\"text-align: right;\">\n",
       "      <th></th>\n",
       "      <th>Source</th>\n",
       "      <th>Target</th>\n",
       "      <th>DistanceMetric.EUC</th>\n",
       "      <th>SimilarityMetric.EUC_sim</th>\n",
       "    </tr>\n",
       "  </thead>\n",
       "  <tbody>\n",
       "    <tr>\n",
       "      <th>0</th>\n",
       "      <td>RQ8-pre.txt</td>\n",
       "      <td>us3612.c</td>\n",
       "      <td>27.234409</td>\n",
       "      <td>0.035418</td>\n",
       "    </tr>\n",
       "    <tr>\n",
       "      <th>1</th>\n",
       "      <td>RQ40-pre.txt</td>\n",
       "      <td>us896.c</td>\n",
       "      <td>22.973497</td>\n",
       "      <td>0.041713</td>\n",
       "    </tr>\n",
       "    <tr>\n",
       "      <th>2</th>\n",
       "      <td>RQ13-pre.txt</td>\n",
       "      <td>us899.c</td>\n",
       "      <td>27.776688</td>\n",
       "      <td>0.034750</td>\n",
       "    </tr>\n",
       "    <tr>\n",
       "      <th>3</th>\n",
       "      <td>RQ5-pre.txt</td>\n",
       "      <td>us3496.c</td>\n",
       "      <td>33.485466</td>\n",
       "      <td>0.028998</td>\n",
       "    </tr>\n",
       "    <tr>\n",
       "      <th>4</th>\n",
       "      <td>RQ53-pre.txt</td>\n",
       "      <td>us2174.c</td>\n",
       "      <td>45.237843</td>\n",
       "      <td>0.021627</td>\n",
       "    </tr>\n",
       "  </tbody>\n",
       "</table>\n",
       "</div>"
      ],
      "text/plain": [
       "         Source    Target  DistanceMetric.EUC  SimilarityMetric.EUC_sim\n",
       "0   RQ8-pre.txt  us3612.c           27.234409                  0.035418\n",
       "1  RQ40-pre.txt   us896.c           22.973497                  0.041713\n",
       "2  RQ13-pre.txt   us899.c           27.776688                  0.034750\n",
       "3   RQ5-pre.txt  us3496.c           33.485466                  0.028998\n",
       "4  RQ53-pre.txt  us2174.c           45.237843                  0.021627"
      ]
     },
     "execution_count": null,
     "metadata": {},
     "output_type": "execute_result"
    }
   ],
   "source": [
    "#[step 2]NonGroundTruth Computation\n",
    "doc2vec.ComputeDistanceArtifacts( sampling=True, samples = 50, metric_list = [DistanceMetric.EUC] )\n",
    "doc2vec.df_nonground_link.head()"
   ]
  },
  {
   "cell_type": "code",
   "execution_count": null,
   "metadata": {},
   "outputs": [
    {
     "name": "stderr",
     "output_type": "stream",
     "text": [
      "2020-10-18 19:27:38,667 : INFO : Saving in...test_data/[libest-VectorizationType.doc2vec-LinkType.req2tc-False-1603063658.662815].csv\n"
     ]
    }
   ],
   "source": [
    "#[step 3]Saving Non-GroundTruth Links\n",
    "doc2vec.SaveLinks()"
   ]
  },
  {
   "cell_type": "code",
   "execution_count": null,
   "metadata": {},
   "outputs": [
    {
     "name": "stderr",
     "output_type": "stream",
     "text": [
      "2020-10-18 19:27:39,742 : INFO : Loading computed links from... test_data/[libest-VectorizationType.doc2vec-LinkType.req2tc-False-1603056377.906573].csv\n"
     ]
    },
    {
     "data": {
      "text/html": [
       "<div>\n",
       "<style scoped>\n",
       "    .dataframe tbody tr th:only-of-type {\n",
       "        vertical-align: middle;\n",
       "    }\n",
       "\n",
       "    .dataframe tbody tr th {\n",
       "        vertical-align: top;\n",
       "    }\n",
       "\n",
       "    .dataframe thead th {\n",
       "        text-align: right;\n",
       "    }\n",
       "</style>\n",
       "<table border=\"1\" class=\"dataframe\">\n",
       "  <thead>\n",
       "    <tr style=\"text-align: right;\">\n",
       "      <th></th>\n",
       "      <th>Source</th>\n",
       "      <th>Target</th>\n",
       "      <th>DistanceMetric.EUC</th>\n",
       "      <th>SimilarityMetric.EUC_sim</th>\n",
       "    </tr>\n",
       "  </thead>\n",
       "  <tbody>\n",
       "    <tr>\n",
       "      <th>0</th>\n",
       "      <td>RQ5-pre.txt</td>\n",
       "      <td>us3512.c</td>\n",
       "      <td>32.463028</td>\n",
       "      <td>0.029884</td>\n",
       "    </tr>\n",
       "    <tr>\n",
       "      <th>1</th>\n",
       "      <td>RQ21-pre.txt</td>\n",
       "      <td>us4020.c</td>\n",
       "      <td>28.574036</td>\n",
       "      <td>0.033813</td>\n",
       "    </tr>\n",
       "    <tr>\n",
       "      <th>2</th>\n",
       "      <td>RQ15-pre.txt</td>\n",
       "      <td>us1005.c</td>\n",
       "      <td>32.506367</td>\n",
       "      <td>0.029845</td>\n",
       "    </tr>\n",
       "    <tr>\n",
       "      <th>3</th>\n",
       "      <td>RQ32-pre.txt</td>\n",
       "      <td>us897.c</td>\n",
       "      <td>24.160978</td>\n",
       "      <td>0.039744</td>\n",
       "    </tr>\n",
       "    <tr>\n",
       "      <th>4</th>\n",
       "      <td>RQ34-pre.txt</td>\n",
       "      <td>us898.c</td>\n",
       "      <td>29.958860</td>\n",
       "      <td>0.032301</td>\n",
       "    </tr>\n",
       "  </tbody>\n",
       "</table>\n",
       "</div>"
      ],
      "text/plain": [
       "         Source    Target  DistanceMetric.EUC  SimilarityMetric.EUC_sim\n",
       "0   RQ5-pre.txt  us3512.c           32.463028                  0.029884\n",
       "1  RQ21-pre.txt  us4020.c           28.574036                  0.033813\n",
       "2  RQ15-pre.txt  us1005.c           32.506367                  0.029845\n",
       "3  RQ32-pre.txt   us897.c           24.160978                  0.039744\n",
       "4  RQ34-pre.txt   us898.c           29.958860                  0.032301"
      ]
     },
     "execution_count": null,
     "metadata": {},
     "output_type": "execute_result"
    }
   ],
   "source": [
    "#Loading Non-GroundTruth Links (change the timestamp with the assigned in the previous step)\n",
    "df_nonglinks_doc2vec = LoadLinks(timestamp=1603056377.906573, params=doc2vec_params)\n",
    "df_nonglinks_doc2vec.head()"
   ]
  },
  {
   "cell_type": "code",
   "execution_count": null,
   "metadata": {},
   "outputs": [
    {
     "name": "stderr",
     "output_type": "stream",
     "text": [
      "2020-10-18 19:27:58,664 : INFO : Groundtruth links computed\n"
     ]
    },
    {
     "data": {
      "text/html": [
       "<div>\n",
       "<style scoped>\n",
       "    .dataframe tbody tr th:only-of-type {\n",
       "        vertical-align: middle;\n",
       "    }\n",
       "\n",
       "    .dataframe tbody tr th {\n",
       "        vertical-align: top;\n",
       "    }\n",
       "\n",
       "    .dataframe thead th {\n",
       "        text-align: right;\n",
       "    }\n",
       "</style>\n",
       "<table border=\"1\" class=\"dataframe\">\n",
       "  <thead>\n",
       "    <tr style=\"text-align: right;\">\n",
       "      <th></th>\n",
       "      <th>Source</th>\n",
       "      <th>Target</th>\n",
       "      <th>DistanceMetric.EUC</th>\n",
       "      <th>SimilarityMetric.EUC_sim</th>\n",
       "      <th>Linked?</th>\n",
       "    </tr>\n",
       "  </thead>\n",
       "  <tbody>\n",
       "    <tr>\n",
       "      <th>0</th>\n",
       "      <td>RQ8-pre.txt</td>\n",
       "      <td>us3612.c</td>\n",
       "      <td>27.234409</td>\n",
       "      <td>0.035418</td>\n",
       "      <td>1.0</td>\n",
       "    </tr>\n",
       "    <tr>\n",
       "      <th>1</th>\n",
       "      <td>RQ40-pre.txt</td>\n",
       "      <td>us896.c</td>\n",
       "      <td>22.973497</td>\n",
       "      <td>0.041713</td>\n",
       "      <td>0.0</td>\n",
       "    </tr>\n",
       "    <tr>\n",
       "      <th>2</th>\n",
       "      <td>RQ13-pre.txt</td>\n",
       "      <td>us899.c</td>\n",
       "      <td>27.776688</td>\n",
       "      <td>0.034750</td>\n",
       "      <td>0.0</td>\n",
       "    </tr>\n",
       "    <tr>\n",
       "      <th>3</th>\n",
       "      <td>RQ5-pre.txt</td>\n",
       "      <td>us3496.c</td>\n",
       "      <td>33.485466</td>\n",
       "      <td>0.028998</td>\n",
       "      <td>0.0</td>\n",
       "    </tr>\n",
       "    <tr>\n",
       "      <th>4</th>\n",
       "      <td>RQ53-pre.txt</td>\n",
       "      <td>us2174.c</td>\n",
       "      <td>45.237843</td>\n",
       "      <td>0.021627</td>\n",
       "      <td>0.0</td>\n",
       "    </tr>\n",
       "    <tr>\n",
       "      <th>5</th>\n",
       "      <td>RQ8-pre.txt</td>\n",
       "      <td>us4020.c</td>\n",
       "      <td>29.154291</td>\n",
       "      <td>0.033163</td>\n",
       "      <td>1.0</td>\n",
       "    </tr>\n",
       "    <tr>\n",
       "      <th>6</th>\n",
       "      <td>RQ24-pre.txt</td>\n",
       "      <td>us897.c</td>\n",
       "      <td>24.291916</td>\n",
       "      <td>0.039538</td>\n",
       "      <td>0.0</td>\n",
       "    </tr>\n",
       "    <tr>\n",
       "      <th>7</th>\n",
       "      <td>RQ4-pre.txt</td>\n",
       "      <td>us1159.c</td>\n",
       "      <td>33.715771</td>\n",
       "      <td>0.028805</td>\n",
       "      <td>0.0</td>\n",
       "    </tr>\n",
       "    <tr>\n",
       "      <th>8</th>\n",
       "      <td>RQ31-pre.txt</td>\n",
       "      <td>us896.c</td>\n",
       "      <td>21.696489</td>\n",
       "      <td>0.044060</td>\n",
       "      <td>0.0</td>\n",
       "    </tr>\n",
       "    <tr>\n",
       "      <th>9</th>\n",
       "      <td>RQ20-pre.txt</td>\n",
       "      <td>us1883.c</td>\n",
       "      <td>38.487007</td>\n",
       "      <td>0.025325</td>\n",
       "      <td>0.0</td>\n",
       "    </tr>\n",
       "    <tr>\n",
       "      <th>10</th>\n",
       "      <td>RQ15-pre.txt</td>\n",
       "      <td>us1864.c</td>\n",
       "      <td>34.801155</td>\n",
       "      <td>0.027932</td>\n",
       "      <td>0.0</td>\n",
       "    </tr>\n",
       "    <tr>\n",
       "      <th>11</th>\n",
       "      <td>RQ42-pre.txt</td>\n",
       "      <td>us900.c</td>\n",
       "      <td>33.771603</td>\n",
       "      <td>0.028759</td>\n",
       "      <td>0.0</td>\n",
       "    </tr>\n",
       "    <tr>\n",
       "      <th>12</th>\n",
       "      <td>RQ56-pre.txt</td>\n",
       "      <td>us2174.c</td>\n",
       "      <td>43.933361</td>\n",
       "      <td>0.022255</td>\n",
       "      <td>1.0</td>\n",
       "    </tr>\n",
       "    <tr>\n",
       "      <th>13</th>\n",
       "      <td>RQ56-pre.txt</td>\n",
       "      <td>us903.c</td>\n",
       "      <td>34.329464</td>\n",
       "      <td>0.028305</td>\n",
       "      <td>0.0</td>\n",
       "    </tr>\n",
       "    <tr>\n",
       "      <th>14</th>\n",
       "      <td>RQ19-pre.txt</td>\n",
       "      <td>us898.c</td>\n",
       "      <td>28.180548</td>\n",
       "      <td>0.034269</td>\n",
       "      <td>0.0</td>\n",
       "    </tr>\n",
       "    <tr>\n",
       "      <th>15</th>\n",
       "      <td>RQ39-pre.txt</td>\n",
       "      <td>us896.c</td>\n",
       "      <td>20.743900</td>\n",
       "      <td>0.045990</td>\n",
       "      <td>0.0</td>\n",
       "    </tr>\n",
       "    <tr>\n",
       "      <th>16</th>\n",
       "      <td>RQ23-pre.txt</td>\n",
       "      <td>us896.c</td>\n",
       "      <td>25.838629</td>\n",
       "      <td>0.037260</td>\n",
       "      <td>0.0</td>\n",
       "    </tr>\n",
       "    <tr>\n",
       "      <th>17</th>\n",
       "      <td>RQ56-pre.txt</td>\n",
       "      <td>us1883.c</td>\n",
       "      <td>40.603916</td>\n",
       "      <td>0.024036</td>\n",
       "      <td>1.0</td>\n",
       "    </tr>\n",
       "    <tr>\n",
       "      <th>18</th>\n",
       "      <td>RQ17-pre.txt</td>\n",
       "      <td>us893.c</td>\n",
       "      <td>36.716221</td>\n",
       "      <td>0.026514</td>\n",
       "      <td>0.0</td>\n",
       "    </tr>\n",
       "    <tr>\n",
       "      <th>19</th>\n",
       "      <td>RQ25-pre.txt</td>\n",
       "      <td>us897.c</td>\n",
       "      <td>26.644739</td>\n",
       "      <td>0.036173</td>\n",
       "      <td>0.0</td>\n",
       "    </tr>\n",
       "    <tr>\n",
       "      <th>20</th>\n",
       "      <td>RQ1-pre.txt</td>\n",
       "      <td>us900.c</td>\n",
       "      <td>35.142849</td>\n",
       "      <td>0.027668</td>\n",
       "      <td>0.0</td>\n",
       "    </tr>\n",
       "    <tr>\n",
       "      <th>21</th>\n",
       "      <td>RQ28-pre.txt</td>\n",
       "      <td>us3512.c</td>\n",
       "      <td>32.349869</td>\n",
       "      <td>0.029985</td>\n",
       "      <td>0.0</td>\n",
       "    </tr>\n",
       "    <tr>\n",
       "      <th>22</th>\n",
       "      <td>RQ50-pre.txt</td>\n",
       "      <td>us901.c</td>\n",
       "      <td>40.419407</td>\n",
       "      <td>0.024143</td>\n",
       "      <td>0.0</td>\n",
       "    </tr>\n",
       "    <tr>\n",
       "      <th>23</th>\n",
       "      <td>RQ39-pre.txt</td>\n",
       "      <td>us897.c</td>\n",
       "      <td>21.424616</td>\n",
       "      <td>0.044594</td>\n",
       "      <td>0.0</td>\n",
       "    </tr>\n",
       "    <tr>\n",
       "      <th>24</th>\n",
       "      <td>RQ53-pre.txt</td>\n",
       "      <td>us3612.c</td>\n",
       "      <td>31.882202</td>\n",
       "      <td>0.030412</td>\n",
       "      <td>0.0</td>\n",
       "    </tr>\n",
       "    <tr>\n",
       "      <th>25</th>\n",
       "      <td>RQ28-pre.txt</td>\n",
       "      <td>us900.c</td>\n",
       "      <td>33.046078</td>\n",
       "      <td>0.029372</td>\n",
       "      <td>0.0</td>\n",
       "    </tr>\n",
       "    <tr>\n",
       "      <th>26</th>\n",
       "      <td>RQ46-pre.txt</td>\n",
       "      <td>us1883.c</td>\n",
       "      <td>40.814507</td>\n",
       "      <td>0.023915</td>\n",
       "      <td>0.0</td>\n",
       "    </tr>\n",
       "    <tr>\n",
       "      <th>27</th>\n",
       "      <td>RQ6-pre.txt</td>\n",
       "      <td>us900.c</td>\n",
       "      <td>33.066879</td>\n",
       "      <td>0.029354</td>\n",
       "      <td>1.0</td>\n",
       "    </tr>\n",
       "    <tr>\n",
       "      <th>28</th>\n",
       "      <td>RQ36-pre.txt</td>\n",
       "      <td>us1159.c</td>\n",
       "      <td>26.379152</td>\n",
       "      <td>0.036524</td>\n",
       "      <td>1.0</td>\n",
       "    </tr>\n",
       "    <tr>\n",
       "      <th>29</th>\n",
       "      <td>RQ31-pre.txt</td>\n",
       "      <td>us901.c</td>\n",
       "      <td>35.672779</td>\n",
       "      <td>0.027268</td>\n",
       "      <td>1.0</td>\n",
       "    </tr>\n",
       "    <tr>\n",
       "      <th>30</th>\n",
       "      <td>RQ5-pre.txt</td>\n",
       "      <td>us1060.c</td>\n",
       "      <td>20.939663</td>\n",
       "      <td>0.045580</td>\n",
       "      <td>0.0</td>\n",
       "    </tr>\n",
       "    <tr>\n",
       "      <th>31</th>\n",
       "      <td>RQ1-pre.txt</td>\n",
       "      <td>us1159.c</td>\n",
       "      <td>31.052444</td>\n",
       "      <td>0.031199</td>\n",
       "      <td>0.0</td>\n",
       "    </tr>\n",
       "    <tr>\n",
       "      <th>32</th>\n",
       "      <td>RQ14-pre.txt</td>\n",
       "      <td>us3612.c</td>\n",
       "      <td>30.250731</td>\n",
       "      <td>0.031999</td>\n",
       "      <td>0.0</td>\n",
       "    </tr>\n",
       "    <tr>\n",
       "      <th>33</th>\n",
       "      <td>RQ58-pre.txt</td>\n",
       "      <td>us1005.c</td>\n",
       "      <td>34.801064</td>\n",
       "      <td>0.027932</td>\n",
       "      <td>0.0</td>\n",
       "    </tr>\n",
       "    <tr>\n",
       "      <th>34</th>\n",
       "      <td>RQ31-pre.txt</td>\n",
       "      <td>us3612.c</td>\n",
       "      <td>27.754543</td>\n",
       "      <td>0.034777</td>\n",
       "      <td>0.0</td>\n",
       "    </tr>\n",
       "    <tr>\n",
       "      <th>35</th>\n",
       "      <td>RQ33-pre.txt</td>\n",
       "      <td>us897.c</td>\n",
       "      <td>21.017191</td>\n",
       "      <td>0.045419</td>\n",
       "      <td>1.0</td>\n",
       "    </tr>\n",
       "    <tr>\n",
       "      <th>36</th>\n",
       "      <td>RQ6-pre.txt</td>\n",
       "      <td>us893.c</td>\n",
       "      <td>31.904011</td>\n",
       "      <td>0.030391</td>\n",
       "      <td>1.0</td>\n",
       "    </tr>\n",
       "    <tr>\n",
       "      <th>37</th>\n",
       "      <td>RQ49-pre.txt</td>\n",
       "      <td>us1864.c</td>\n",
       "      <td>40.181156</td>\n",
       "      <td>0.024283</td>\n",
       "      <td>0.0</td>\n",
       "    </tr>\n",
       "    <tr>\n",
       "      <th>38</th>\n",
       "      <td>RQ5-pre.txt</td>\n",
       "      <td>us3512.c</td>\n",
       "      <td>32.464706</td>\n",
       "      <td>0.029882</td>\n",
       "      <td>0.0</td>\n",
       "    </tr>\n",
       "    <tr>\n",
       "      <th>39</th>\n",
       "      <td>RQ6-pre.txt</td>\n",
       "      <td>us1883.c</td>\n",
       "      <td>38.079056</td>\n",
       "      <td>0.025589</td>\n",
       "      <td>0.0</td>\n",
       "    </tr>\n",
       "    <tr>\n",
       "      <th>40</th>\n",
       "      <td>RQ41-pre.txt</td>\n",
       "      <td>us1005.c</td>\n",
       "      <td>28.600981</td>\n",
       "      <td>0.033783</td>\n",
       "      <td>1.0</td>\n",
       "    </tr>\n",
       "    <tr>\n",
       "      <th>41</th>\n",
       "      <td>RQ24-pre.txt</td>\n",
       "      <td>us4020.c</td>\n",
       "      <td>26.908781</td>\n",
       "      <td>0.035831</td>\n",
       "      <td>0.0</td>\n",
       "    </tr>\n",
       "    <tr>\n",
       "      <th>42</th>\n",
       "      <td>RQ49-pre.txt</td>\n",
       "      <td>us896.c</td>\n",
       "      <td>26.875763</td>\n",
       "      <td>0.035873</td>\n",
       "      <td>0.0</td>\n",
       "    </tr>\n",
       "    <tr>\n",
       "      <th>43</th>\n",
       "      <td>RQ27-pre.txt</td>\n",
       "      <td>us1864.c</td>\n",
       "      <td>33.865932</td>\n",
       "      <td>0.028681</td>\n",
       "      <td>0.0</td>\n",
       "    </tr>\n",
       "    <tr>\n",
       "      <th>44</th>\n",
       "      <td>RQ56-pre.txt</td>\n",
       "      <td>us3512.c</td>\n",
       "      <td>32.282383</td>\n",
       "      <td>0.030046</td>\n",
       "      <td>1.0</td>\n",
       "    </tr>\n",
       "    <tr>\n",
       "      <th>45</th>\n",
       "      <td>RQ49-pre.txt</td>\n",
       "      <td>us903.c</td>\n",
       "      <td>38.734074</td>\n",
       "      <td>0.025167</td>\n",
       "      <td>0.0</td>\n",
       "    </tr>\n",
       "    <tr>\n",
       "      <th>46</th>\n",
       "      <td>RQ56-pre.txt</td>\n",
       "      <td>us900.c</td>\n",
       "      <td>28.086138</td>\n",
       "      <td>0.034381</td>\n",
       "      <td>1.0</td>\n",
       "    </tr>\n",
       "    <tr>\n",
       "      <th>47</th>\n",
       "      <td>RQ36-pre.txt</td>\n",
       "      <td>us897.c</td>\n",
       "      <td>25.214823</td>\n",
       "      <td>0.038146</td>\n",
       "      <td>1.0</td>\n",
       "    </tr>\n",
       "    <tr>\n",
       "      <th>48</th>\n",
       "      <td>RQ36-pre.txt</td>\n",
       "      <td>us1005.c</td>\n",
       "      <td>30.333096</td>\n",
       "      <td>0.031915</td>\n",
       "      <td>1.0</td>\n",
       "    </tr>\n",
       "    <tr>\n",
       "      <th>49</th>\n",
       "      <td>RQ22-pre.txt</td>\n",
       "      <td>us1005.c</td>\n",
       "      <td>28.486876</td>\n",
       "      <td>0.033913</td>\n",
       "      <td>1.0</td>\n",
       "    </tr>\n",
       "  </tbody>\n",
       "</table>\n",
       "</div>"
      ],
      "text/plain": [
       "          Source    Target  DistanceMetric.EUC  SimilarityMetric.EUC_sim  \\\n",
       "0    RQ8-pre.txt  us3612.c           27.234409                  0.035418   \n",
       "1   RQ40-pre.txt   us896.c           22.973497                  0.041713   \n",
       "2   RQ13-pre.txt   us899.c           27.776688                  0.034750   \n",
       "3    RQ5-pre.txt  us3496.c           33.485466                  0.028998   \n",
       "4   RQ53-pre.txt  us2174.c           45.237843                  0.021627   \n",
       "5    RQ8-pre.txt  us4020.c           29.154291                  0.033163   \n",
       "6   RQ24-pre.txt   us897.c           24.291916                  0.039538   \n",
       "7    RQ4-pre.txt  us1159.c           33.715771                  0.028805   \n",
       "8   RQ31-pre.txt   us896.c           21.696489                  0.044060   \n",
       "9   RQ20-pre.txt  us1883.c           38.487007                  0.025325   \n",
       "10  RQ15-pre.txt  us1864.c           34.801155                  0.027932   \n",
       "11  RQ42-pre.txt   us900.c           33.771603                  0.028759   \n",
       "12  RQ56-pre.txt  us2174.c           43.933361                  0.022255   \n",
       "13  RQ56-pre.txt   us903.c           34.329464                  0.028305   \n",
       "14  RQ19-pre.txt   us898.c           28.180548                  0.034269   \n",
       "15  RQ39-pre.txt   us896.c           20.743900                  0.045990   \n",
       "16  RQ23-pre.txt   us896.c           25.838629                  0.037260   \n",
       "17  RQ56-pre.txt  us1883.c           40.603916                  0.024036   \n",
       "18  RQ17-pre.txt   us893.c           36.716221                  0.026514   \n",
       "19  RQ25-pre.txt   us897.c           26.644739                  0.036173   \n",
       "20   RQ1-pre.txt   us900.c           35.142849                  0.027668   \n",
       "21  RQ28-pre.txt  us3512.c           32.349869                  0.029985   \n",
       "22  RQ50-pre.txt   us901.c           40.419407                  0.024143   \n",
       "23  RQ39-pre.txt   us897.c           21.424616                  0.044594   \n",
       "24  RQ53-pre.txt  us3612.c           31.882202                  0.030412   \n",
       "25  RQ28-pre.txt   us900.c           33.046078                  0.029372   \n",
       "26  RQ46-pre.txt  us1883.c           40.814507                  0.023915   \n",
       "27   RQ6-pre.txt   us900.c           33.066879                  0.029354   \n",
       "28  RQ36-pre.txt  us1159.c           26.379152                  0.036524   \n",
       "29  RQ31-pre.txt   us901.c           35.672779                  0.027268   \n",
       "30   RQ5-pre.txt  us1060.c           20.939663                  0.045580   \n",
       "31   RQ1-pre.txt  us1159.c           31.052444                  0.031199   \n",
       "32  RQ14-pre.txt  us3612.c           30.250731                  0.031999   \n",
       "33  RQ58-pre.txt  us1005.c           34.801064                  0.027932   \n",
       "34  RQ31-pre.txt  us3612.c           27.754543                  0.034777   \n",
       "35  RQ33-pre.txt   us897.c           21.017191                  0.045419   \n",
       "36   RQ6-pre.txt   us893.c           31.904011                  0.030391   \n",
       "37  RQ49-pre.txt  us1864.c           40.181156                  0.024283   \n",
       "38   RQ5-pre.txt  us3512.c           32.464706                  0.029882   \n",
       "39   RQ6-pre.txt  us1883.c           38.079056                  0.025589   \n",
       "40  RQ41-pre.txt  us1005.c           28.600981                  0.033783   \n",
       "41  RQ24-pre.txt  us4020.c           26.908781                  0.035831   \n",
       "42  RQ49-pre.txt   us896.c           26.875763                  0.035873   \n",
       "43  RQ27-pre.txt  us1864.c           33.865932                  0.028681   \n",
       "44  RQ56-pre.txt  us3512.c           32.282383                  0.030046   \n",
       "45  RQ49-pre.txt   us903.c           38.734074                  0.025167   \n",
       "46  RQ56-pre.txt   us900.c           28.086138                  0.034381   \n",
       "47  RQ36-pre.txt   us897.c           25.214823                  0.038146   \n",
       "48  RQ36-pre.txt  us1005.c           30.333096                  0.031915   \n",
       "49  RQ22-pre.txt  us1005.c           28.486876                  0.033913   \n",
       "\n",
       "    Linked?  \n",
       "0       1.0  \n",
       "1       0.0  \n",
       "2       0.0  \n",
       "3       0.0  \n",
       "4       0.0  \n",
       "5       1.0  \n",
       "6       0.0  \n",
       "7       0.0  \n",
       "8       0.0  \n",
       "9       0.0  \n",
       "10      0.0  \n",
       "11      0.0  \n",
       "12      1.0  \n",
       "13      0.0  \n",
       "14      0.0  \n",
       "15      0.0  \n",
       "16      0.0  \n",
       "17      1.0  \n",
       "18      0.0  \n",
       "19      0.0  \n",
       "20      0.0  \n",
       "21      0.0  \n",
       "22      0.0  \n",
       "23      0.0  \n",
       "24      0.0  \n",
       "25      0.0  \n",
       "26      0.0  \n",
       "27      1.0  \n",
       "28      1.0  \n",
       "29      1.0  \n",
       "30      0.0  \n",
       "31      0.0  \n",
       "32      0.0  \n",
       "33      0.0  \n",
       "34      0.0  \n",
       "35      1.0  \n",
       "36      1.0  \n",
       "37      0.0  \n",
       "38      0.0  \n",
       "39      0.0  \n",
       "40      1.0  \n",
       "41      0.0  \n",
       "42      0.0  \n",
       "43      0.0  \n",
       "44      1.0  \n",
       "45      0.0  \n",
       "46      1.0  \n",
       "47      1.0  \n",
       "48      1.0  \n",
       "49      1.0  "
      ]
     },
     "execution_count": null,
     "metadata": {},
     "output_type": "execute_result"
    }
   ],
   "source": [
    "#[step 4]GroundTruthMatching Testing\n",
    "path_to_ground_truth = 'test_data/[libest-ground-req-to-tc].txt'\n",
    "doc2vec.MatchWithGroundTruth(path_to_ground_truth)\n",
    "doc2vec.df_ground_link"
   ]
  },
  {
   "cell_type": "code",
   "execution_count": null,
   "metadata": {},
   "outputs": [
    {
     "name": "stderr",
     "output_type": "stream",
     "text": [
      "2020-10-18 19:28:00,249 : INFO : Saving in...test_data/[libest-VectorizationType.doc2vec-LinkType.req2tc-True-1603063680.24686].csv\n"
     ]
    }
   ],
   "source": [
    "#[step 5]Saving GroundTruth Links\n",
    "doc2vec.SaveLinks(grtruth = True)"
   ]
  },
  {
   "cell_type": "code",
   "execution_count": null,
   "metadata": {},
   "outputs": [
    {
     "name": "stderr",
     "output_type": "stream",
     "text": [
      "2020-10-18 19:28:08,950 : INFO : Loading computed links from... test_data/[libest-VectorizationType.doc2vec-LinkType.req2tc-True-1603063680.24686].csv\n"
     ]
    },
    {
     "data": {
      "text/html": [
       "<div>\n",
       "<style scoped>\n",
       "    .dataframe tbody tr th:only-of-type {\n",
       "        vertical-align: middle;\n",
       "    }\n",
       "\n",
       "    .dataframe tbody tr th {\n",
       "        vertical-align: top;\n",
       "    }\n",
       "\n",
       "    .dataframe thead th {\n",
       "        text-align: right;\n",
       "    }\n",
       "</style>\n",
       "<table border=\"1\" class=\"dataframe\">\n",
       "  <thead>\n",
       "    <tr style=\"text-align: right;\">\n",
       "      <th></th>\n",
       "      <th>Source</th>\n",
       "      <th>Target</th>\n",
       "      <th>DistanceMetric.EUC</th>\n",
       "      <th>SimilarityMetric.EUC_sim</th>\n",
       "      <th>Linked?</th>\n",
       "    </tr>\n",
       "  </thead>\n",
       "  <tbody>\n",
       "    <tr>\n",
       "      <th>0</th>\n",
       "      <td>RQ8-pre.txt</td>\n",
       "      <td>us3612.c</td>\n",
       "      <td>27.234409</td>\n",
       "      <td>0.035418</td>\n",
       "      <td>1.0</td>\n",
       "    </tr>\n",
       "    <tr>\n",
       "      <th>1</th>\n",
       "      <td>RQ40-pre.txt</td>\n",
       "      <td>us896.c</td>\n",
       "      <td>22.973497</td>\n",
       "      <td>0.041713</td>\n",
       "      <td>0.0</td>\n",
       "    </tr>\n",
       "    <tr>\n",
       "      <th>2</th>\n",
       "      <td>RQ13-pre.txt</td>\n",
       "      <td>us899.c</td>\n",
       "      <td>27.776688</td>\n",
       "      <td>0.034750</td>\n",
       "      <td>0.0</td>\n",
       "    </tr>\n",
       "    <tr>\n",
       "      <th>3</th>\n",
       "      <td>RQ5-pre.txt</td>\n",
       "      <td>us3496.c</td>\n",
       "      <td>33.485466</td>\n",
       "      <td>0.028998</td>\n",
       "      <td>0.0</td>\n",
       "    </tr>\n",
       "    <tr>\n",
       "      <th>4</th>\n",
       "      <td>RQ53-pre.txt</td>\n",
       "      <td>us2174.c</td>\n",
       "      <td>45.237843</td>\n",
       "      <td>0.021627</td>\n",
       "      <td>0.0</td>\n",
       "    </tr>\n",
       "  </tbody>\n",
       "</table>\n",
       "</div>"
      ],
      "text/plain": [
       "         Source    Target  DistanceMetric.EUC  SimilarityMetric.EUC_sim  \\\n",
       "0   RQ8-pre.txt  us3612.c           27.234409                  0.035418   \n",
       "1  RQ40-pre.txt   us896.c           22.973497                  0.041713   \n",
       "2  RQ13-pre.txt   us899.c           27.776688                  0.034750   \n",
       "3   RQ5-pre.txt  us3496.c           33.485466                  0.028998   \n",
       "4  RQ53-pre.txt  us2174.c           45.237843                  0.021627   \n",
       "\n",
       "   Linked?  \n",
       "0      1.0  \n",
       "1      0.0  \n",
       "2      0.0  \n",
       "3      0.0  \n",
       "4      0.0  "
      ]
     },
     "execution_count": null,
     "metadata": {},
     "output_type": "execute_result"
    }
   ],
   "source": [
    "#Loading Non-GroundTruth Links (change the timestamp with the assigned in the previous step)\n",
    "df_glinks_doc2vec = LoadLinks(timestamp=1603063680.24686, params=doc2vec_params, grtruth = True)\n",
    "df_glinks_doc2vec.head()"
   ]
  },
  {
   "cell_type": "markdown",
   "metadata": {},
   "source": [
    "# Approach Evaluation and Interpretation (doc2vec)"
   ]
  },
  {
   "cell_type": "code",
   "execution_count": null,
   "metadata": {},
   "outputs": [],
   "source": [
    "supervisedEvalDoc2vec = SupervisedVectorEvaluation(doc2vec, similarity=SimilarityMetric.EUC_sim)"
   ]
  },
  {
   "cell_type": "code",
   "execution_count": null,
   "metadata": {},
   "outputs": [
    {
     "data": {
      "text/plain": [
       "array([1., 0., 0., 0., 0., 1., 0., 0., 0., 0., 0., 0., 1., 0., 0., 0., 0.,\n",
       "       1., 0., 0., 0., 0., 0., 0., 0., 0., 0., 1., 1., 1., 0., 0., 0., 0.,\n",
       "       0., 1., 1., 0., 0., 0., 1., 0., 0., 0., 1., 0., 1., 1., 1., 1.])"
      ]
     },
     "execution_count": null,
     "metadata": {},
     "output_type": "execute_result"
    }
   ],
   "source": [
    "supervisedEvalDoc2vec.y_test"
   ]
  },
  {
   "cell_type": "code",
   "execution_count": null,
   "metadata": {},
   "outputs": [
    {
     "data": {
      "text/plain": [
       "array([0.03541778, 0.04171273, 0.03475035, 0.02899772, 0.02162731,\n",
       "       0.03316278, 0.03953833, 0.02880535, 0.04405968, 0.02532479,\n",
       "       0.02793206, 0.0287591 , 0.02225518, 0.02830499, 0.0342694 ,\n",
       "       0.04598991, 0.03725973, 0.0240362 , 0.02651379, 0.03617325,\n",
       "       0.02766799, 0.02998513, 0.02414327, 0.04459385, 0.03041159,\n",
       "       0.02937196, 0.02391515, 0.02935402, 0.03652414, 0.02726818,\n",
       "       0.04557955, 0.03119887, 0.03199925, 0.02793213, 0.03477711,\n",
       "       0.04541905, 0.03039143, 0.02428295, 0.02988223, 0.02558915,\n",
       "       0.03378266, 0.03583102, 0.03587346, 0.02868129, 0.03004593,\n",
       "       0.02516732, 0.03438064, 0.03814636, 0.03191514, 0.03391339])"
      ]
     },
     "execution_count": null,
     "metadata": {},
     "output_type": "execute_result"
    }
   ],
   "source": [
    "supervisedEvalDoc2vec.y_score"
   ]
  },
  {
   "cell_type": "code",
   "execution_count": null,
   "metadata": {},
   "outputs": [
    {
     "data": {
      "image/png": "[encoded data removed]",
      "text/plain": [
       "<Figure size 432x288 with 1 Axes>"
      ]
     },
     "metadata": {
      "needs_background": "light"
     },
     "output_type": "display_data"
    },
    {
     "name": "stderr",
     "output_type": "stream",
     "text": [
      "2020-10-18 19:28:15,277 : INFO : Average precision-recall score: 0.33\n",
      "2020-10-18 19:28:15,277 : INFO : Precision-Recall AUC: 0.305\n"
     ]
    }
   ],
   "source": [
    "supervisedEvalDoc2vec.Compute_avg_precision()"
   ]
  },
  {
   "cell_type": "code",
   "execution_count": null,
   "metadata": {},
   "outputs": [
    {
     "data": {
      "image/png": "[encoded data removed]",
      "text/plain": [
       "<Figure size 432x288 with 1 Axes>"
      ]
     },
     "metadata": {
      "needs_background": "light"
     },
     "output_type": "display_data"
    },
    {
     "name": "stderr",
     "output_type": "stream",
     "text": [
      "2020-10-18 19:28:15,918 : INFO : ROC AUC 0.552\n"
     ]
    }
   ],
   "source": [
    "supervisedEvalDoc2vec.Compute_roc_curve()"
   ]
  },
  {
   "cell_type": "code",
   "execution_count": null,
   "metadata": {},
   "outputs": [
    {
     "name": "stderr",
     "output_type": "stream",
     "text": [
      "/Users/willkinney/opt/anaconda3/lib/python3.8/site-packages/prg/prg.py:271: RuntimeWarning: invalid value encountered in double_scalars\n",
      "  return (a[0] - o[0]) * (b[1] - o[1]) - (a[1] - o[1]) * (b[0] - o[0])\n"
     ]
    },
    {
     "data": {
      "image/png": "[encoded data removed]",
      "text/plain": [
       "<Figure size 432x360 with 1 Axes>"
      ]
     },
     "metadata": {
      "needs_background": "light"
     },
     "output_type": "display_data"
    },
    {
     "name": "stderr",
     "output_type": "stream",
     "text": [
      "2020-10-18 19:28:16,337 : INFO : auprg:  0.115\n",
      "2020-10-18 19:28:16,338 : INFO : compute_precision_recall_gain Complete\n"
     ]
    }
   ],
   "source": [
    "supervisedEvalDoc2vec.Compute_precision_recall_gain()"
   ]
  },
  {
   "cell_type": "markdown",
   "metadata": {},
   "source": [
    "## Compute distribution of similarities doc2vec"
   ]
  },
  {
   "cell_type": "code",
   "execution_count": null,
   "metadata": {},
   "outputs": [
    {
     "data": {
      "text/html": [
       "<div>\n",
       "<style scoped>\n",
       "    .dataframe tbody tr th:only-of-type {\n",
       "        vertical-align: middle;\n",
       "    }\n",
       "\n",
       "    .dataframe tbody tr th {\n",
       "        vertical-align: top;\n",
       "    }\n",
       "\n",
       "    .dataframe thead th {\n",
       "        text-align: right;\n",
       "    }\n",
       "</style>\n",
       "<table border=\"1\" class=\"dataframe\">\n",
       "  <thead>\n",
       "    <tr style=\"text-align: right;\">\n",
       "      <th></th>\n",
       "      <th>DistanceMetric.EUC</th>\n",
       "      <th>SimilarityMetric.EUC_sim</th>\n",
       "      <th>Linked?</th>\n",
       "    </tr>\n",
       "  </thead>\n",
       "  <tbody>\n",
       "    <tr>\n",
       "      <th>count</th>\n",
       "      <td>50.000000</td>\n",
       "      <td>50.000000</td>\n",
       "      <td>50.00000</td>\n",
       "    </tr>\n",
       "    <tr>\n",
       "      <th>mean</th>\n",
       "      <td>31.352973</td>\n",
       "      <td>0.032058</td>\n",
       "      <td>0.30000</td>\n",
       "    </tr>\n",
       "    <tr>\n",
       "      <th>std</th>\n",
       "      <td>6.134574</td>\n",
       "      <td>0.006341</td>\n",
       "      <td>0.46291</td>\n",
       "    </tr>\n",
       "    <tr>\n",
       "      <th>min</th>\n",
       "      <td>20.743900</td>\n",
       "      <td>0.021627</td>\n",
       "      <td>0.00000</td>\n",
       "    </tr>\n",
       "    <tr>\n",
       "      <th>25%</th>\n",
       "      <td>26.990188</td>\n",
       "      <td>0.027932</td>\n",
       "      <td>0.00000</td>\n",
       "    </tr>\n",
       "    <tr>\n",
       "      <th>50%</th>\n",
       "      <td>31.893106</td>\n",
       "      <td>0.030402</td>\n",
       "      <td>0.00000</td>\n",
       "    </tr>\n",
       "    <tr>\n",
       "      <th>75%</th>\n",
       "      <td>34.801132</td>\n",
       "      <td>0.035728</td>\n",
       "      <td>1.00000</td>\n",
       "    </tr>\n",
       "    <tr>\n",
       "      <th>max</th>\n",
       "      <td>45.237843</td>\n",
       "      <td>0.045990</td>\n",
       "      <td>1.00000</td>\n",
       "    </tr>\n",
       "  </tbody>\n",
       "</table>\n",
       "</div>"
      ],
      "text/plain": [
       "       DistanceMetric.EUC  SimilarityMetric.EUC_sim   Linked?\n",
       "count           50.000000                 50.000000  50.00000\n",
       "mean            31.352973                  0.032058   0.30000\n",
       "std              6.134574                  0.006341   0.46291\n",
       "min             20.743900                  0.021627   0.00000\n",
       "25%             26.990188                  0.027932   0.00000\n",
       "50%             31.893106                  0.030402   0.00000\n",
       "75%             34.801132                  0.035728   1.00000\n",
       "max             45.237843                  0.045990   1.00000"
      ]
     },
     "execution_count": null,
     "metadata": {},
     "output_type": "execute_result"
    }
   ],
   "source": [
    "#Basic Statistics\n",
    "filter_doc2vec = doc2vec.df_ground_link\n",
    "filter_doc2vec.describe()"
   ]
  },
  {
   "cell_type": "code",
   "execution_count": null,
   "metadata": {},
   "outputs": [
    {
     "data": {
      "text/plain": [
       "<matplotlib.axes._subplots.AxesSubplot at 0x127eb1670>"
      ]
     },
     "execution_count": null,
     "metadata": {},
     "output_type": "execute_result"
    },
    {
     "data": {
      "image/png": "[encoded data removed]",
      "text/plain": [
       "<Figure size 432x288 with 1 Axes>"
      ]
     },
     "metadata": {
      "needs_background": "light"
     },
     "output_type": "display_data"
    }
   ],
   "source": [
    "lag_plot(filter_doc2vec[[SimilarityMetric.EUC_sim]])"
   ]
  },
  {
   "cell_type": "code",
   "execution_count": null,
   "metadata": {},
   "outputs": [
    {
     "data": {
      "text/plain": [
       "<matplotlib.axes._subplots.AxesSubplot at 0x128122970>"
      ]
     },
     "execution_count": null,
     "metadata": {},
     "output_type": "execute_result"
    },
    {
     "data": {
      "image/png": "[encoded data removed]",
      "text/plain": [
       "<Figure size 432x288 with 1 Axes>"
      ]
     },
     "metadata": {
      "needs_background": "light"
     },
     "output_type": "display_data"
    }
   ],
   "source": [
    "lag_plot(filter_doc2vec[DistanceMetric.EUC])"
   ]
  },
  {
   "cell_type": "code",
   "execution_count": null,
   "metadata": {},
   "outputs": [
    {
     "data": {
      "text/plain": [
       "array([[<matplotlib.axes._subplots.AxesSubplot object at 0x1281db2e0>,\n",
       "        <matplotlib.axes._subplots.AxesSubplot object at 0x128265ca0>]],\n",
       "      dtype=object)"
      ]
     },
     "execution_count": null,
     "metadata": {},
     "output_type": "execute_result"
    },
    {
     "data": {
      "image/png": "[encoded data removed]",
      "text/plain": [
       "<Figure size 720x360 with 2 Axes>"
      ]
     },
     "metadata": {
      "needs_background": "light"
     },
     "output_type": "display_data"
    }
   ],
   "source": [
    "filter_doc2vec.hist(column=[SimilarityMetric.EUC_sim,DistanceMetric.EUC],color='k',bins=50,figsize=[10,5],alpha=0.5)"
   ]
  },
  {
   "cell_type": "code",
   "execution_count": null,
   "metadata": {},
   "outputs": [
    {
     "name": "stdout",
     "output_type": "stream",
     "text": [
      "SimilarityMetric.EUC_sim    0.006341\n",
      "DistanceMetric.EUC          6.134574\n",
      "dtype: float64\n"
     ]
    },
    {
     "data": {
      "text/plain": [
       "<matplotlib.axes._subplots.AxesSubplot at 0x1282afca0>"
      ]
     },
     "execution_count": null,
     "metadata": {},
     "output_type": "execute_result"
    },
    {
     "data": {
      "image/png": "[encoded data removed]",
      "text/plain": [
       "<Figure size 432x288 with 1 Axes>"
      ]
     },
     "metadata": {
      "needs_background": "light"
     },
     "output_type": "display_data"
    }
   ],
   "source": [
    "#Separate distance from similarity analysis here\n",
    "errors = filter_doc2vec[[SimilarityMetric.EUC_sim,DistanceMetric.EUC]].std()\n",
    "print(errors)\n",
    "filter_doc2vec[[SimilarityMetric.EUC_sim,DistanceMetric.EUC]].plot.kde()"
   ]
  },
  {
   "cell_type": "code",
   "execution_count": null,
   "metadata": {},
   "outputs": [
    {
     "data": {
      "text/plain": [
       "array([<matplotlib.axes._subplots.AxesSubplot object at 0x128459190>,\n",
       "       <matplotlib.axes._subplots.AxesSubplot object at 0x1284ea8e0>],\n",
       "      dtype=object)"
      ]
     },
     "execution_count": null,
     "metadata": {},
     "output_type": "execute_result"
    },
    {
     "data": {
      "image/png": "[encoded data removed]",
      "text/plain": [
       "<Figure size 720x360 with 2 Axes>"
      ]
     },
     "metadata": {
      "needs_background": "light"
     },
     "output_type": "display_data"
    }
   ],
   "source": [
    "filter_doc2vec.hist(by='Linked?',column=SimilarityMetric.EUC_sim,figsize=[10, 5],bins=80)"
   ]
  },
  {
   "cell_type": "code",
   "execution_count": null,
   "metadata": {},
   "outputs": [
    {
     "data": {
      "text/plain": [
       "array([<matplotlib.axes._subplots.AxesSubplot object at 0x12856aa60>,\n",
       "       <matplotlib.axes._subplots.AxesSubplot object at 0x1286cf0d0>],\n",
       "      dtype=object)"
      ]
     },
     "execution_count": null,
     "metadata": {},
     "output_type": "execute_result"
    },
    {
     "data": {
      "image/png": "[encoded data removed]",
      "text/plain": [
       "<Figure size 720x360 with 2 Axes>"
      ]
     },
     "metadata": {
      "needs_background": "light"
     },
     "output_type": "display_data"
    }
   ],
   "source": [
    "filter_doc2vec.hist(by='Linked?',column=DistanceMetric.EUC,figsize=[10, 5],bins=80)"
   ]
  },
  {
   "cell_type": "code",
   "execution_count": null,
   "metadata": {},
   "outputs": [
    {
     "data": {
      "image/png": "[encoded data removed]",
      "text/plain": [
       "<Figure size 720x360 with 2 Axes>"
      ]
     },
     "metadata": {
      "needs_background": "light"
     },
     "output_type": "display_data"
    }
   ],
   "source": [
    "#separate the distance from the similarity plot\n",
    "boxplot = filter_doc2vec.boxplot(by='Linked?',column=[SimilarityMetric.EUC_sim,DistanceMetric.EUC],figsize=[10, 5])"
   ]
  },
  {
   "cell_type": "code",
   "execution_count": null,
   "metadata": {},
   "outputs": [
    {
     "data": {
      "image/png": "[encoded data removed]",
      "text/plain": [
       "<Figure size 720x360 with 1 Axes>"
      ]
     },
     "metadata": {
      "needs_background": "light"
     },
     "output_type": "display_data"
    }
   ],
   "source": [
    "boxplot = filter_doc2vec.boxplot(by='Linked?',column=[SimilarityMetric.EUC_sim],figsize=[10, 5])"
   ]
  }
 ],
 "metadata": {
  "kernelspec": {
   "display_name": "Python 3",
   "language": "python",
   "name": "python3"
  }
 },
 "nbformat": 4,
 "nbformat_minor": 2
}
