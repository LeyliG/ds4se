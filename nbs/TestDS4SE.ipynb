{
 "cells": [
  {
   "cell_type": "code",
   "execution_count": 1,
   "metadata": {},
   "outputs": [],
   "source": [
    "#This file is the notebook corresponding to where we will eventually compile and run the tests in an\n",
    "#organized fashion. We hope to eventually use this to verify proper installation. For now it's just a\n",
    "#place holder file."
   ]
  },
  {
   "cell_type": "code",
   "execution_count": 2,
   "metadata": {},
   "outputs": [],
   "source": [
    "#export\n",
    "import os\n",
    "import nbdev\n",
    "import sys"
   ]
  },
  {
   "cell_type": "code",
   "execution_count": 3,
   "metadata": {},
   "outputs": [],
   "source": [
    "#export\n",
    "def softEngF20Run():\n",
    "    print(\"Software Engineering Fall 20 Run Cycle\")\n",
    "    return"
   ]
  },
  {
   "cell_type": "code",
   "execution_count": 4,
   "metadata": {},
   "outputs": [],
   "source": [
    "#export\n",
    "def fileBasedRun():\n",
    "    print(\"File Based Run Cycle\")\n",
    "    return"
   ]
  },
  {
   "cell_type": "code",
   "execution_count": 5,
   "metadata": {},
   "outputs": [
    {
     "name": "stdout",
     "output_type": "stream",
     "text": [
      "File Based Run Cycle\n"
     ]
    }
   ],
   "source": [
    "#export\n",
    "if __name__ == '__main__':\n",
    "\n",
    "    #First we need to know if we're checking specific files or running normally\n",
    "    programArr = sys.argv\n",
    "    #Check if files were provided\n",
    "    if (len(sys.argv) == 1):\n",
    "        softEngF20Run()\n",
    "\n",
    "    #If we add files\n",
    "    elif (len(sys.argv) > 1):\n",
    "        fileBasedRun()\n",
    "\n",
    "    else:\n",
    "        print(\"How did you do this???\")\n",
    "\n",
    "    command_test1 = os.popen(\"nbdev_test_nbs --fname '.\\nbs\\1.0_exp.i.ipynb'\")\n",
    "\n",
    "    output = command_test1.read()"
   ]
  },
  {
   "cell_type": "code",
   "execution_count": 6,
   "metadata": {},
   "outputs": [
    {
     "data": {
      "text/plain": [
       "'All tests are passing!\\n'"
      ]
     },
     "execution_count": 6,
     "metadata": {},
     "output_type": "execute_result"
    }
   ],
   "source": [
    "#hide\n",
    "output"
   ]
  },
  {
   "cell_type": "code",
   "execution_count": null,
   "metadata": {},
   "outputs": [],
   "source": []
  }
 ],
 "metadata": {
  "kernelspec": {
   "display_name": "Python 3",
   "language": "python",
   "name": "python3"
  },
  "language_info": {
   "codemirror_mode": {
    "name": "ipython",
    "version": 3
   },
   "file_extension": ".py",
   "mimetype": "text/x-python",
   "name": "python",
   "nbconvert_exporter": "python",
   "pygments_lexer": "ipython3",
   "version": "3.7.3"
  }
 },
 "nbformat": 4,
 "nbformat_minor": 2
}
