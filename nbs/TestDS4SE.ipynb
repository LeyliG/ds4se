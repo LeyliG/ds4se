{
 "cells": [
  {
   "cell_type": "code",
   "execution_count": null,
   "metadata": {},
   "outputs": [],
   "source": [
    "#default_exp TestDS4SE"
   ]
  },
  {
   "cell_type": "code",
   "execution_count": null,
   "metadata": {},
   "outputs": [],
   "source": [
    "#This file is the notebook corresponding to where we will eventually compile and run the tests in an\n",
    "#organized fashion. We hope to eventually use this to verify proper installation. For now it's just a\n",
    "#place holder file."
   ]
  },
  {
   "cell_type": "code",
   "execution_count": null,
   "metadata": {},
   "outputs": [],
   "source": [
    "#export\n",
    "import os\n",
    "import nbdev\n",
    "import sys"
   ]
  },
  {
   "cell_type": "code",
   "execution_count": null,
   "metadata": {},
   "outputs": [],
   "source": [
    "#export\n",
    "\n",
    "#This method runs the tests specifically related to the Fall 2020 ds4se Software Engineering project.\n",
    "\n",
    "#The File takes in nothing but returns to the command line the status of each test\n",
    "def softEngF20Run():\n",
    "    \n",
    "    Arr = [\"1.0_exp.i\",\n",
    "           \"1.1_exp.info\",\n",
    "           \"1.2_exp.csnc\",\n",
    "           \"1.2_exp.gen.code\",\n",
    "           \"1.3_exp.csnc_python\",\n",
    "           \"3.1_mining.unsupervised.traceability.eda\",\n",
    "           \"3.2_mining.unsupervised.eval.ipynb\",\n",
    "           \"3.2_mining.unsupervised.traceability.approach.cisco\",\n",
    "           \"3.2_mining.unsupervised.traceability.approach\",\n",
    "           \"3.2_mining.unsupervised.traceability.approach.libest\",\n",
    "           \"3.4_facade\",\n",
    "           \"6.0_desc.stats\",\n",
    "           \"6.1_desc.metrics.java\",\n",
    "           \"6.1_desc.metrics.main\",\n",
    "           \"6.1_desc.metrics.se\"]\n",
    "    \n",
    "    for item in Arr:\n",
    "        t_string = \"nbdev_test_nbs --fname \"+ \"'\" + \".\\\\nbs\\\\\" + item + \".ipynb\" + \"'\"\n",
    "        print(t_string)\n",
    "        results = os.popen(t_string)\n",
    "        output = results.read()\n",
    "        print(output)\n",
    "    \n",
    "    return"
   ]
  },
  {
   "cell_type": "code",
   "execution_count": null,
   "metadata": {},
   "outputs": [],
   "source": [
    "#export\n",
    "def fileBasedRun():\n",
    "   \n",
    "    Arr = sys.argv[2:]\n",
    "    \n",
    "    #\n",
    "    for item in Arr:\n",
    "        t_string = \"nbdev_test_nbs --fname \"+ \"'\" + \".\\\\\" + item + \"'\"\n",
    "        print(t_string)\n",
    "        results = os.popen(t_string)\n",
    "        output = results.read()\n",
    "        print(output)\n",
    "    \n",
    "    \n",
    "   \n",
    "    return"
   ]
  },
  {
   "cell_type": "code",
   "execution_count": null,
   "metadata": {},
   "outputs": [
    {
     "name": "stdout",
     "output_type": "stream",
     "text": [
      "['program.py', '1.0_exp.i', '1.1_exp.info', '1.2_exp.csnc', '1.2_exp.gen.code', '1.3_exp.csnc_python', '3.1_mining.unsupervised.traceability.eda', '3.2_mining.unsupervised.eval.ipynb', '3.2_mining.unsupervised.traceability.approach.cisco', '3.2_mining.unsupervised.traceability.approach', '3.2_mining.unsupervised.traceability.approach.libest', '3.4_facade', '6.0_desc.stats']\n"
     ]
    }
   ],
   "source": [
    "#export\n",
    "if __name__ == '__main__':\n",
    "\n",
    "    #First we need to know if we're checking specific files or running normally\n",
    "    programArr = sys.argv\n",
    "    #Check if files were provided\n",
    "    if (len(sys.argv) == 1):\n",
    "        softEngF20Run()\n",
    "\n",
    "    #If we add files\n",
    "    elif (len(sys.argv) > 1):\n",
    "        fileBasedRun()\n",
    "\n",
    "    else:\n",
    "        print(\"How did you do this??? I'm confused and impressed.\")"
   ]
  },
  {
   "cell_type": "code",
   "execution_count": null,
   "metadata": {},
   "outputs": [
    {
     "name": "stdout",
     "output_type": "stream",
     "text": [
      "nbdev_test_nbs --fname '.\\nbs\\1.0_exp.i.ipynb'\n",
      "All tests are passing!\n",
      "\n",
      "nbdev_test_nbs --fname '.\\nbs\\1.1_exp.info.ipynb'\n",
      "All tests are passing!\n",
      "\n",
      "nbdev_test_nbs --fname '.\\nbs\\1.2_exp.csnc.ipynb'\n",
      "All tests are passing!\n",
      "\n",
      "nbdev_test_nbs --fname '.\\nbs\\1.2_exp.gen.code.ipynb'\n",
      "All tests are passing!\n",
      "\n",
      "nbdev_test_nbs --fname '.\\nbs\\1.3_exp.csnc_python.ipynb'\n",
      "All tests are passing!\n",
      "\n",
      "nbdev_test_nbs --fname '.\\nbs\\3.1_mining.unsupervised.traceability.eda.ipynb'\n",
      "All tests are passing!\n",
      "\n",
      "nbdev_test_nbs --fname '.\\nbs\\3.2_mining.unsupervised.eval.ipynb.ipynb'\n",
      "All tests are passing!\n",
      "\n",
      "nbdev_test_nbs --fname '.\\nbs\\3.2_mining.unsupervised.traceability.approach.cisco.ipynb'\n",
      "All tests are passing!\n",
      "\n",
      "nbdev_test_nbs --fname '.\\nbs\\3.2_mining.unsupervised.traceability.approach.ipynb'\n",
      "All tests are passing!\n",
      "\n",
      "nbdev_test_nbs --fname '.\\nbs\\3.2_mining.unsupervised.traceability.approach.libest.ipynb'\n",
      "All tests are passing!\n",
      "\n",
      "nbdev_test_nbs --fname '.\\nbs\\3.4_facade.ipynb'\n",
      "All tests are passing!\n",
      "\n",
      "nbdev_test_nbs --fname '.\\nbs\\6.0_desc.stats.ipynb'\n",
      "All tests are passing!\n",
      "\n",
      "nbdev_test_nbs --fname '.\\nbs\\6.1_desc.metrics.java.ipynb'\n",
      "All tests are passing!\n",
      "\n",
      "nbdev_test_nbs --fname '.\\nbs\\6.1_desc.metrics.main.ipynb'\n",
      "All tests are passing!\n",
      "\n",
      "nbdev_test_nbs --fname '.\\nbs\\6.1_desc.metrics.se.ipynb'\n",
      "All tests are passing!\n",
      "\n"
     ]
    }
   ],
   "source": [
    "#hide\n",
    "softEngF20Run()"
   ]
  },
  {
   "cell_type": "code",
   "execution_count": null,
   "metadata": {},
   "outputs": [],
   "source": [
    "#hide\n",
    "#Trying to get the build working but I need something to commit"
   ]
  },
  {
   "cell_type": "code",
   "execution_count": null,
   "metadata": {},
   "outputs": [],
   "source": [
    "#hide\n",
    "command_test1 = os.popen(\"nbdev_test_nbs --fname '.\\nbs\\1.0_exp.i.ipynb'\")\n",
    "\n",
    "output = command_test1.read()"
   ]
  },
  {
   "cell_type": "code",
   "execution_count": null,
   "metadata": {},
   "outputs": [
    {
     "name": "stdout",
     "output_type": "stream",
     "text": [
      "All tests are passing!\n",
      "\n"
     ]
    }
   ],
   "source": [
    "#hide\n",
    "fileBasedRun()"
   ]
  },
  {
   "cell_type": "code",
   "execution_count": null,
   "metadata": {},
   "outputs": [
    {
     "name": "stdout",
     "output_type": "stream",
     "text": [
      "['1.0_exp.i', '1.1_exp.info', '1.2_exp.csnc', '1.2_exp.gen.code', '1.3_exp.csnc_python', '3.1_mining.unsupervised.traceability.eda', '3.2_mining.unsupervised.eval.ipynb', '3.2_mining.unsupervised.traceability.approach.cisco', '3.2_mining.unsupervised.traceability.approach', '3.2_mining.unsupervised.traceability.approach.libest', '3.4_facade', '6.0_desc.stats']\n"
     ]
    }
   ],
   "source": []
  },
  {
   "cell_type": "code",
   "execution_count": null,
   "metadata": {},
   "outputs": [],
   "source": []
  }
 ],
 "metadata": {
  "kernelspec": {
   "display_name": "Python 3",
   "language": "python",
   "name": "python3"
  }
 },
 "nbformat": 4,
 "nbformat_minor": 2
}
