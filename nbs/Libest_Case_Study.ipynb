{
 "cells": [
  {
   "cell_type": "code",
   "execution_count": null,
   "metadata": {
    "id": "3wqyE2jkgzz0"
   },
   "outputs": [],
   "source": []
  },
  {
   "cell_type": "markdown",
   "metadata": {
    "id": "FTc5C0fyg0Xi"
   },
   "source": [
    "# ds4se Tutorial - Traceability"
   ]
  },
  {
   "cell_type": "markdown",
   "metadata": {
    "id": "-U6zG_x7gaGY"
   },
   "source": [
    "\n",
    "Data Science for Software Engieering (ds4se) is an academic initiative to perform exploratory analysis on software engieering artifact and metadata. Data Management, Analysis, and Benchmarking for DL and Traceability.\n",
    "\n",
    "In this tutorial, we will use ds4se to analyze Libest dataset and tries to find the tracebilitity values between various source and target artifacts. "
   ]
  },
  {
   "cell_type": "markdown",
   "metadata": {
    "id": "Q7S4HFWAhUWb"
   },
   "source": [
    "ds4se library requries several other libraries to be present and up to date. In the following cells, we install those libraries and upgrade the ones that need to be up to date.\n"
   ]
  },
  {
   "cell_type": "code",
   "execution_count": null,
   "metadata": {
    "colab": {
     "base_uri": "https://localhost:8080/"
    },
    "id": "LH5BBhKUjIpl",
    "outputId": "8f40a291-6e96-49d0-de63-ec9a167872df"
   },
   "outputs": [
    {
     "name": "stdout",
     "output_type": "stream",
     "text": [
      "Requirement already up-to-date: gensim in /usr/local/lib/python3.6/dist-packages (3.8.3)\n",
      "Requirement already satisfied, skipping upgrade: smart-open>=1.8.1 in /usr/local/lib/python3.6/dist-packages (from gensim) (3.0.0)\n",
      "Requirement already satisfied, skipping upgrade: numpy>=1.11.3 in /usr/local/lib/python3.6/dist-packages (from gensim) (1.18.5)\n",
      "Requirement already satisfied, skipping upgrade: six>=1.5.0 in /usr/local/lib/python3.6/dist-packages (from gensim) (1.15.0)\n",
      "Requirement already satisfied, skipping upgrade: scipy>=0.18.1 in /usr/local/lib/python3.6/dist-packages (from gensim) (1.4.1)\n",
      "Requirement already satisfied, skipping upgrade: requests in /usr/local/lib/python3.6/dist-packages (from smart-open>=1.8.1->gensim) (2.23.0)\n",
      "Requirement already satisfied, skipping upgrade: certifi>=2017.4.17 in /usr/local/lib/python3.6/dist-packages (from requests->smart-open>=1.8.1->gensim) (2020.6.20)\n",
      "Requirement already satisfied, skipping upgrade: chardet<4,>=3.0.2 in /usr/local/lib/python3.6/dist-packages (from requests->smart-open>=1.8.1->gensim) (3.0.4)\n",
      "Requirement already satisfied, skipping upgrade: urllib3!=1.25.0,!=1.25.1,<1.26,>=1.21.1 in /usr/local/lib/python3.6/dist-packages (from requests->smart-open>=1.8.1->gensim) (1.24.3)\n",
      "Requirement already satisfied, skipping upgrade: idna<3,>=2.5 in /usr/local/lib/python3.6/dist-packages (from requests->smart-open>=1.8.1->gensim) (2.10)\n"
     ]
    }
   ],
   "source": [
    "pip install --upgrade gensim"
   ]
  },
  {
   "cell_type": "code",
   "execution_count": null,
   "metadata": {
    "colab": {
     "base_uri": "https://localhost:8080/"
    },
    "id": "0h_SZGFDHs0m",
    "outputId": "38398e2a-b3e1-45fe-fef7-8dd9c4a1f87a"
   },
   "outputs": [
    {
     "name": "stdout",
     "output_type": "stream",
     "text": [
      "Requirement already satisfied: nbdev in /usr/local/lib/python3.6/dist-packages (1.1.4)\n",
      "Requirement already satisfied: pip in /usr/local/lib/python3.6/dist-packages (from nbdev) (19.3.1)\n",
      "Requirement already satisfied: pyyaml in /usr/local/lib/python3.6/dist-packages (from nbdev) (3.13)\n",
      "Requirement already satisfied: packaging in /usr/local/lib/python3.6/dist-packages (from nbdev) (20.4)\n",
      "Requirement already satisfied: fastcore>=1.2.0 in /usr/local/lib/python3.6/dist-packages (from nbdev) (1.3.1)\n",
      "Requirement already satisfied: nbformat>=4.4.0 in /usr/local/lib/python3.6/dist-packages (from nbdev) (5.0.8)\n",
      "Requirement already satisfied: ipykernel in /usr/local/lib/python3.6/dist-packages (from nbdev) (4.10.1)\n",
      "Requirement already satisfied: nbconvert<6 in /usr/local/lib/python3.6/dist-packages (from nbdev) (5.6.1)\n",
      "Requirement already satisfied: jupyter-client in /usr/local/lib/python3.6/dist-packages (from nbdev) (5.3.5)\n",
      "Requirement already satisfied: pyparsing>=2.0.2 in /usr/local/lib/python3.6/dist-packages (from packaging->nbdev) (2.4.7)\n",
      "Requirement already satisfied: six in /usr/local/lib/python3.6/dist-packages (from packaging->nbdev) (1.15.0)\n",
      "Requirement already satisfied: jupyter-core in /usr/local/lib/python3.6/dist-packages (from nbformat>=4.4.0->nbdev) (4.6.3)\n",
      "Requirement already satisfied: traitlets>=4.1 in /usr/local/lib/python3.6/dist-packages (from nbformat>=4.4.0->nbdev) (4.3.3)\n",
      "Requirement already satisfied: jsonschema!=2.5.0,>=2.4 in /usr/local/lib/python3.6/dist-packages (from nbformat>=4.4.0->nbdev) (2.6.0)\n",
      "Requirement already satisfied: ipython-genutils in /usr/local/lib/python3.6/dist-packages (from nbformat>=4.4.0->nbdev) (0.2.0)\n",
      "Requirement already satisfied: ipython>=4.0.0 in /usr/local/lib/python3.6/dist-packages (from ipykernel->nbdev) (5.5.0)\n",
      "Requirement already satisfied: tornado>=4.0 in /usr/local/lib/python3.6/dist-packages (from ipykernel->nbdev) (5.1.1)\n",
      "Requirement already satisfied: testpath in /usr/local/lib/python3.6/dist-packages (from nbconvert<6->nbdev) (0.4.4)\n",
      "Requirement already satisfied: pandocfilters>=1.4.1 in /usr/local/lib/python3.6/dist-packages (from nbconvert<6->nbdev) (1.4.2)\n",
      "Requirement already satisfied: mistune<2,>=0.8.1 in /usr/local/lib/python3.6/dist-packages (from nbconvert<6->nbdev) (0.8.4)\n",
      "Requirement already satisfied: entrypoints>=0.2.2 in /usr/local/lib/python3.6/dist-packages (from nbconvert<6->nbdev) (0.3)\n",
      "Requirement already satisfied: pygments in /usr/local/lib/python3.6/dist-packages (from nbconvert<6->nbdev) (2.6.1)\n",
      "Requirement already satisfied: jinja2>=2.4 in /usr/local/lib/python3.6/dist-packages (from nbconvert<6->nbdev) (2.11.2)\n",
      "Requirement already satisfied: bleach in /usr/local/lib/python3.6/dist-packages (from nbconvert<6->nbdev) (3.2.1)\n",
      "Requirement already satisfied: defusedxml in /usr/local/lib/python3.6/dist-packages (from nbconvert<6->nbdev) (0.6.0)\n",
      "Requirement already satisfied: python-dateutil>=2.1 in /usr/local/lib/python3.6/dist-packages (from jupyter-client->nbdev) (2.8.1)\n",
      "Requirement already satisfied: pyzmq>=13 in /usr/local/lib/python3.6/dist-packages (from jupyter-client->nbdev) (19.0.2)\n",
      "Requirement already satisfied: decorator in /usr/local/lib/python3.6/dist-packages (from traitlets>=4.1->nbformat>=4.4.0->nbdev) (4.4.2)\n",
      "Requirement already satisfied: prompt-toolkit<2.0.0,>=1.0.4 in /usr/local/lib/python3.6/dist-packages (from ipython>=4.0.0->ipykernel->nbdev) (1.0.18)\n",
      "Requirement already satisfied: pickleshare in /usr/local/lib/python3.6/dist-packages (from ipython>=4.0.0->ipykernel->nbdev) (0.7.5)\n",
      "Requirement already satisfied: simplegeneric>0.8 in /usr/local/lib/python3.6/dist-packages (from ipython>=4.0.0->ipykernel->nbdev) (0.8.1)\n",
      "Requirement already satisfied: pexpect; sys_platform != \"win32\" in /usr/local/lib/python3.6/dist-packages (from ipython>=4.0.0->ipykernel->nbdev) (4.8.0)\n",
      "Requirement already satisfied: setuptools>=18.5 in /usr/local/lib/python3.6/dist-packages (from ipython>=4.0.0->ipykernel->nbdev) (50.3.2)\n",
      "Requirement already satisfied: MarkupSafe>=0.23 in /usr/local/lib/python3.6/dist-packages (from jinja2>=2.4->nbconvert<6->nbdev) (1.1.1)\n",
      "Requirement already satisfied: webencodings in /usr/local/lib/python3.6/dist-packages (from bleach->nbconvert<6->nbdev) (0.5.1)\n",
      "Requirement already satisfied: wcwidth in /usr/local/lib/python3.6/dist-packages (from prompt-toolkit<2.0.0,>=1.0.4->ipython>=4.0.0->ipykernel->nbdev) (0.2.5)\n",
      "Requirement already satisfied: ptyprocess>=0.5 in /usr/local/lib/python3.6/dist-packages (from pexpect; sys_platform != \"win32\"->ipython>=4.0.0->ipykernel->nbdev) (0.6.0)\n"
     ]
    }
   ],
   "source": [
    "pip install nbdev"
   ]
  },
  {
   "cell_type": "code",
   "execution_count": null,
   "metadata": {
    "colab": {
     "base_uri": "https://localhost:8080/"
    },
    "id": "TVxXvK0YIelv",
    "outputId": "bcf88842-6927-4ffb-818f-80f0190925a4"
   },
   "outputs": [
    {
     "name": "stdout",
     "output_type": "stream",
     "text": [
      "Requirement already satisfied: sentencepiece in /usr/local/lib/python3.6/dist-packages (0.1.94)\n"
     ]
    }
   ],
   "source": [
    "pip install sentencepiece"
   ]
  },
  {
   "cell_type": "markdown",
   "metadata": {
    "id": "WX4RvDLyhisi"
   },
   "source": [
    "To use the ds4se library in your machine, simply run the following command to install it. "
   ]
  },
  {
   "cell_type": "code",
   "execution_count": null,
   "metadata": {
    "colab": {
     "base_uri": "https://localhost:8080/"
    },
    "id": "rdFcXYgGxaU2",
    "outputId": "072e2999-7f55-4631-e3d6-6430ebcfcede"
   },
   "outputs": [
    {
     "name": "stdout",
     "output_type": "stream",
     "text": [
      "Collecting ds4se\n",
      "\u001b[?25l  Downloading https://files.pythonhosted.org/packages/5a/ca/ddad2b4c0bfdd1c82f863074bb606b030fe032223d59ddabdb21655de016/ds4se-0.1.3-py3-none-any.whl (8.7MB)\n",
      "\u001b[K     |████████████████████████████████| 8.7MB 2.7MB/s \n",
      "\u001b[?25hInstalling collected packages: ds4se\n",
      "Successfully installed ds4se-0.1.3\n"
     ]
    }
   ],
   "source": [
    "pip install ds4se"
   ]
  },
  {
   "cell_type": "code",
   "execution_count": null,
   "metadata": {
    "id": "_WRhicraeQRK"
   },
   "outputs": [],
   "source": [
    "import pandas as pd\n",
    "\n",
    "#this facade provides an interface for users to use the functionalityies ds4se provides. For the complete list that facade contains, see the project pypi page. \n",
    "import ds4se.facade as facade   "
   ]
  },
  {
   "cell_type": "code",
   "execution_count": null,
   "metadata": {
    "id": "fp-wYzPVe-Ux"
   },
   "outputs": [],
   "source": [
    "source_file = pd.read_csv(\"[libest-pre-req].csv\",names=['ids', 'text'], header=None, sep=' ')\n",
    "target_file = pd.read_csv(\"[libest-pre-tc].csv\",names=['ids', 'text'], header=None, sep=' ')"
   ]
  },
  {
   "cell_type": "markdown",
   "metadata": {
    "id": "i3PTMA5bjNoE"
   },
   "source": [
    "Here is a preview of the source artifact class"
   ]
  },
  {
   "cell_type": "code",
   "execution_count": null,
   "metadata": {
    "colab": {
     "base_uri": "https://localhost:8080/",
     "height": 1000
    },
    "id": "doSIU3iAg4hK",
    "outputId": "3a4e341f-319d-4c4c-8df4-048a79733f18"
   },
   "outputs": [
    {
     "data": {
      "text/html": [
       "<div>\n",
       "<style scoped>\n",
       "    .dataframe tbody tr th:only-of-type {\n",
       "        vertical-align: middle;\n",
       "    }\n",
       "\n",
       "    .dataframe tbody tr th {\n",
       "        vertical-align: top;\n",
       "    }\n",
       "\n",
       "    .dataframe thead th {\n",
       "        text-align: right;\n",
       "    }\n",
       "</style>\n",
       "<table border=\"1\" class=\"dataframe\">\n",
       "  <thead>\n",
       "    <tr style=\"text-align: right;\">\n",
       "      <th></th>\n",
       "      <th>ids</th>\n",
       "      <th>text</th>\n",
       "    </tr>\n",
       "  </thead>\n",
       "  <tbody>\n",
       "    <tr>\n",
       "      <th>0</th>\n",
       "      <td>test_data/LibEST_semeru_format/requirements/RQ...</td>\n",
       "      <td>requir http uri control est server must suppor...</td>\n",
       "    </tr>\n",
       "    <tr>\n",
       "      <th>1</th>\n",
       "      <td>test_data/LibEST_semeru_format/requirements/RQ...</td>\n",
       "      <td>requir server side key generat respons request...</td>\n",
       "    </tr>\n",
       "    <tr>\n",
       "      <th>2</th>\n",
       "      <td>test_data/LibEST_semeru_format/requirements/RQ...</td>\n",
       "      <td>requir http base client authent est server may...</td>\n",
       "    </tr>\n",
       "    <tr>\n",
       "      <th>3</th>\n",
       "      <td>test_data/LibEST_semeru_format/requirements/RQ...</td>\n",
       "      <td>requir csr attribut request est client request...</td>\n",
       "    </tr>\n",
       "    <tr>\n",
       "      <th>4</th>\n",
       "      <td>test_data/LibEST_semeru_format/requirements/RQ...</td>\n",
       "      <td>requir server side key generat est client may ...</td>\n",
       "    </tr>\n",
       "    <tr>\n",
       "      <th>5</th>\n",
       "      <td>test_data/LibEST_semeru_format/requirements/RQ...</td>\n",
       "      <td>requir client author decis issu certif client ...</td>\n",
       "    </tr>\n",
       "    <tr>\n",
       "      <th>6</th>\n",
       "      <td>test_data/LibEST_semeru_format/requirements/RQ...</td>\n",
       "      <td>requir csr attribut polici may allow inclus cl...</td>\n",
       "    </tr>\n",
       "    <tr>\n",
       "      <th>7</th>\n",
       "      <td>test_data/LibEST_semeru_format/requirements/RQ...</td>\n",
       "      <td>requir simpl enrol client https post simpleenr...</td>\n",
       "    </tr>\n",
       "    <tr>\n",
       "      <th>8</th>\n",
       "      <td>test_data/LibEST_semeru_format/requirements/RQ...</td>\n",
       "      <td>requir csr attribut follow exampl valid csratt...</td>\n",
       "    </tr>\n",
       "    <tr>\n",
       "      <th>9</th>\n",
       "      <td>test_data/LibEST_semeru_format/requirements/RQ...</td>\n",
       "      <td>requir http layer http use transfer est messag...</td>\n",
       "    </tr>\n",
       "    <tr>\n",
       "      <th>10</th>\n",
       "      <td>test_data/LibEST_semeru_format/requirements/RQ...</td>\n",
       "      <td>requir client certif request function est clie...</td>\n",
       "    </tr>\n",
       "    <tr>\n",
       "      <th>11</th>\n",
       "      <td>test_data/LibEST_semeru_format/requirements/RQ...</td>\n",
       "      <td>requir secur consider support basic authent sp...</td>\n",
       "    </tr>\n",
       "    <tr>\n",
       "      <th>12</th>\n",
       "      <td>test_data/LibEST_semeru_format/requirements/RQ...</td>\n",
       "      <td>requir server author client must check est ser...</td>\n",
       "    </tr>\n",
       "    <tr>\n",
       "      <th>13</th>\n",
       "      <td>test_data/LibEST_semeru_format/requirements/RQ...</td>\n",
       "      <td>requir csr attribut respons local configur pol...</td>\n",
       "    </tr>\n",
       "    <tr>\n",
       "      <th>14</th>\n",
       "      <td>test_data/LibEST_semeru_format/requirements/RQ...</td>\n",
       "      <td>requir server key generat est client request s...</td>\n",
       "    </tr>\n",
       "    <tr>\n",
       "      <th>15</th>\n",
       "      <td>test_data/LibEST_semeru_format/requirements/RQ...</td>\n",
       "      <td>requir certif respons success server respons m...</td>\n",
       "    </tr>\n",
       "    <tr>\n",
       "      <th>16</th>\n",
       "      <td>test_data/LibEST_semeru_format/requirements/RQ...</td>\n",
       "      <td>requir link ident pop inform server polici det...</td>\n",
       "    </tr>\n",
       "    <tr>\n",
       "      <th>17</th>\n",
       "      <td>test_data/LibEST_semeru_format/requirements/RQ...</td>\n",
       "      <td>requir http header control http status valu us...</td>\n",
       "    </tr>\n",
       "    <tr>\n",
       "      <th>18</th>\n",
       "      <td>test_data/LibEST_semeru_format/requirements/RQ...</td>\n",
       "      <td>requir obtain certif est client request copi c...</td>\n",
       "    </tr>\n",
       "    <tr>\n",
       "      <th>19</th>\n",
       "      <td>test_data/LibEST_semeru_format/requirements/RQ...</td>\n",
       "      <td>requir client use explicit databas est client ...</td>\n",
       "    </tr>\n",
       "    <tr>\n",
       "      <th>20</th>\n",
       "      <td>test_data/LibEST_semeru_format/requirements/RQ...</td>\n",
       "      <td>requir full cmc respons enrol success server r...</td>\n",
       "    </tr>\n",
       "    <tr>\n",
       "      <th>21</th>\n",
       "      <td>test_data/LibEST_semeru_format/requirements/RQ...</td>\n",
       "      <td>requir full pki request messag full pki reques...</td>\n",
       "    </tr>\n",
       "    <tr>\n",
       "      <th>22</th>\n",
       "      <td>test_data/LibEST_semeru_format/requirements/RQ...</td>\n",
       "      <td>requir proof possess defin section cmc rfc pro...</td>\n",
       "    </tr>\n",
       "    <tr>\n",
       "      <th>23</th>\n",
       "      <td>test_data/LibEST_semeru_format/requirements/RQ...</td>\n",
       "      <td>requir bootstrap distribut certif possibl clie...</td>\n",
       "    </tr>\n",
       "    <tr>\n",
       "      <th>24</th>\n",
       "      <td>test_data/LibEST_semeru_format/requirements/RQ...</td>\n",
       "      <td>requir http base client authent est server opt...</td>\n",
       "    </tr>\n",
       "    <tr>\n",
       "      <th>25</th>\n",
       "      <td>test_data/LibEST_semeru_format/requirements/RQ...</td>\n",
       "      <td>requir applic layer est client must capabl gen...</td>\n",
       "    </tr>\n",
       "    <tr>\n",
       "      <th>26</th>\n",
       "      <td>test_data/LibEST_semeru_format/requirements/RQ...</td>\n",
       "      <td>requir request asymmetr encrypt privat key spe...</td>\n",
       "    </tr>\n",
       "    <tr>\n",
       "      <th>27</th>\n",
       "      <td>test_data/LibEST_semeru_format/requirements/RQ...</td>\n",
       "      <td>requir obtain certif follow exampl valid cacer...</td>\n",
       "    </tr>\n",
       "    <tr>\n",
       "      <th>28</th>\n",
       "      <td>test_data/LibEST_semeru_format/requirements/RQ...</td>\n",
       "      <td>requir full cmc est client request certif est ...</td>\n",
       "    </tr>\n",
       "    <tr>\n",
       "      <th>29</th>\n",
       "      <td>test_data/LibEST_semeru_format/requirements/RQ...</td>\n",
       "      <td>requir simpl enrol client est client renew rek...</td>\n",
       "    </tr>\n",
       "    <tr>\n",
       "      <th>30</th>\n",
       "      <td>test_data/LibEST_semeru_format/requirements/RQ...</td>\n",
       "      <td>requir tls layer tls provid authent turn enabl...</td>\n",
       "    </tr>\n",
       "    <tr>\n",
       "      <th>31</th>\n",
       "      <td>test_data/LibEST_semeru_format/requirements/RQ...</td>\n",
       "      <td>requir intial enrol authent est server verifi ...</td>\n",
       "    </tr>\n",
       "    <tr>\n",
       "      <th>32</th>\n",
       "      <td>test_data/LibEST_semeru_format/requirements/RQ...</td>\n",
       "      <td>requir client certif reissuanc est client rene...</td>\n",
       "    </tr>\n",
       "    <tr>\n",
       "      <th>33</th>\n",
       "      <td>test_data/LibEST_semeru_format/requirements/RQ...</td>\n",
       "      <td>requir enrol enrol follow exampl valid simplee...</td>\n",
       "    </tr>\n",
       "    <tr>\n",
       "      <th>34</th>\n",
       "      <td>test_data/LibEST_semeru_format/requirements/RQ...</td>\n",
       "      <td>requir tls base server authent tls server auth...</td>\n",
       "    </tr>\n",
       "    <tr>\n",
       "      <th>35</th>\n",
       "      <td>test_data/LibEST_semeru_format/requirements/RQ...</td>\n",
       "      <td>requir tls client authent recommend method ide...</td>\n",
       "    </tr>\n",
       "    <tr>\n",
       "      <th>36</th>\n",
       "      <td>test_data/LibEST_semeru_format/requirements/RQ...</td>\n",
       "      <td>requir terminolog key word must must requir sh...</td>\n",
       "    </tr>\n",
       "    <tr>\n",
       "      <th>37</th>\n",
       "      <td>test_data/LibEST_semeru_format/requirements/RQ...</td>\n",
       "      <td>requir protocol design layer figur provid expa...</td>\n",
       "    </tr>\n",
       "    <tr>\n",
       "      <th>38</th>\n",
       "      <td>test_data/LibEST_semeru_format/requirements/RQ...</td>\n",
       "      <td>requir inform refer idev ieee standard associ ...</td>\n",
       "    </tr>\n",
       "    <tr>\n",
       "      <th>39</th>\n",
       "      <td>test_data/LibEST_semeru_format/requirements/RQ...</td>\n",
       "      <td>requir certif less tls authent est client est ...</td>\n",
       "    </tr>\n",
       "    <tr>\n",
       "      <th>40</th>\n",
       "      <td>test_data/LibEST_semeru_format/requirements/RQ...</td>\n",
       "      <td>requir iana consider section defin oid regist ...</td>\n",
       "    </tr>\n",
       "    <tr>\n",
       "      <th>41</th>\n",
       "      <td>test_data/LibEST_semeru_format/requirements/RQ...</td>\n",
       "      <td>requir client use implicit databas est client ...</td>\n",
       "    </tr>\n",
       "    <tr>\n",
       "      <th>42</th>\n",
       "      <td>test_data/LibEST_semeru_format/requirements/RQ...</td>\n",
       "      <td>requir certif request est client request est d...</td>\n",
       "    </tr>\n",
       "    <tr>\n",
       "      <th>43</th>\n",
       "      <td>test_data/LibEST_semeru_format/requirements/RQ...</td>\n",
       "      <td>requir certif less tls mutual authent certif l...</td>\n",
       "    </tr>\n",
       "    <tr>\n",
       "      <th>44</th>\n",
       "      <td>test_data/LibEST_semeru_format/requirements/RQ...</td>\n",
       "      <td>requir full cmc request http post fullcmc vali...</td>\n",
       "    </tr>\n",
       "    <tr>\n",
       "      <th>45</th>\n",
       "      <td>test_data/LibEST_semeru_format/requirements/RQ...</td>\n",
       "      <td>requir distribut certif est client request cop...</td>\n",
       "    </tr>\n",
       "    <tr>\n",
       "      <th>46</th>\n",
       "      <td>test_data/LibEST_semeru_format/requirements/RQ...</td>\n",
       "      <td>requir server key generat follow exampl valid ...</td>\n",
       "    </tr>\n",
       "    <tr>\n",
       "      <th>47</th>\n",
       "      <td>test_data/LibEST_semeru_format/requirements/RQ...</td>\n",
       "      <td>requir messag type document use exist media ty...</td>\n",
       "    </tr>\n",
       "    <tr>\n",
       "      <th>48</th>\n",
       "      <td>test_data/LibEST_semeru_format/requirements/RQ...</td>\n",
       "      <td>requir document profil certif enrol client use...</td>\n",
       "    </tr>\n",
       "    <tr>\n",
       "      <th>49</th>\n",
       "      <td>test_data/LibEST_semeru_format/requirements/RQ...</td>\n",
       "      <td>requir simpl enrol enrol respons enrol success...</td>\n",
       "    </tr>\n",
       "    <tr>\n",
       "      <th>50</th>\n",
       "      <td>test_data/LibEST_semeru_format/requirements/RQ...</td>\n",
       "      <td>requir refer rfc freed borenstein multipurpos ...</td>\n",
       "    </tr>\n",
       "    <tr>\n",
       "      <th>51</th>\n",
       "      <td>test_data/LibEST_semeru_format/requirements/RQ...</td>\n",
       "      <td>requir certif tls authent est client previous ...</td>\n",
       "    </tr>\n",
       "  </tbody>\n",
       "</table>\n",
       "</div>"
      ],
      "text/plain": [
       "                                                  ids                                               text\n",
       "0   test_data/LibEST_semeru_format/requirements/RQ...  requir http uri control est server must suppor...\n",
       "1   test_data/LibEST_semeru_format/requirements/RQ...  requir server side key generat respons request...\n",
       "2   test_data/LibEST_semeru_format/requirements/RQ...  requir http base client authent est server may...\n",
       "3   test_data/LibEST_semeru_format/requirements/RQ...  requir csr attribut request est client request...\n",
       "4   test_data/LibEST_semeru_format/requirements/RQ...  requir server side key generat est client may ...\n",
       "5   test_data/LibEST_semeru_format/requirements/RQ...  requir client author decis issu certif client ...\n",
       "6   test_data/LibEST_semeru_format/requirements/RQ...  requir csr attribut polici may allow inclus cl...\n",
       "7   test_data/LibEST_semeru_format/requirements/RQ...  requir simpl enrol client https post simpleenr...\n",
       "8   test_data/LibEST_semeru_format/requirements/RQ...  requir csr attribut follow exampl valid csratt...\n",
       "9   test_data/LibEST_semeru_format/requirements/RQ...  requir http layer http use transfer est messag...\n",
       "10  test_data/LibEST_semeru_format/requirements/RQ...  requir client certif request function est clie...\n",
       "11  test_data/LibEST_semeru_format/requirements/RQ...  requir secur consider support basic authent sp...\n",
       "12  test_data/LibEST_semeru_format/requirements/RQ...  requir server author client must check est ser...\n",
       "13  test_data/LibEST_semeru_format/requirements/RQ...  requir csr attribut respons local configur pol...\n",
       "14  test_data/LibEST_semeru_format/requirements/RQ...  requir server key generat est client request s...\n",
       "15  test_data/LibEST_semeru_format/requirements/RQ...  requir certif respons success server respons m...\n",
       "16  test_data/LibEST_semeru_format/requirements/RQ...  requir link ident pop inform server polici det...\n",
       "17  test_data/LibEST_semeru_format/requirements/RQ...  requir http header control http status valu us...\n",
       "18  test_data/LibEST_semeru_format/requirements/RQ...  requir obtain certif est client request copi c...\n",
       "19  test_data/LibEST_semeru_format/requirements/RQ...  requir client use explicit databas est client ...\n",
       "20  test_data/LibEST_semeru_format/requirements/RQ...  requir full cmc respons enrol success server r...\n",
       "21  test_data/LibEST_semeru_format/requirements/RQ...  requir full pki request messag full pki reques...\n",
       "22  test_data/LibEST_semeru_format/requirements/RQ...  requir proof possess defin section cmc rfc pro...\n",
       "23  test_data/LibEST_semeru_format/requirements/RQ...  requir bootstrap distribut certif possibl clie...\n",
       "24  test_data/LibEST_semeru_format/requirements/RQ...  requir http base client authent est server opt...\n",
       "25  test_data/LibEST_semeru_format/requirements/RQ...  requir applic layer est client must capabl gen...\n",
       "26  test_data/LibEST_semeru_format/requirements/RQ...  requir request asymmetr encrypt privat key spe...\n",
       "27  test_data/LibEST_semeru_format/requirements/RQ...  requir obtain certif follow exampl valid cacer...\n",
       "28  test_data/LibEST_semeru_format/requirements/RQ...  requir full cmc est client request certif est ...\n",
       "29  test_data/LibEST_semeru_format/requirements/RQ...  requir simpl enrol client est client renew rek...\n",
       "30  test_data/LibEST_semeru_format/requirements/RQ...  requir tls layer tls provid authent turn enabl...\n",
       "31  test_data/LibEST_semeru_format/requirements/RQ...  requir intial enrol authent est server verifi ...\n",
       "32  test_data/LibEST_semeru_format/requirements/RQ...  requir client certif reissuanc est client rene...\n",
       "33  test_data/LibEST_semeru_format/requirements/RQ...  requir enrol enrol follow exampl valid simplee...\n",
       "34  test_data/LibEST_semeru_format/requirements/RQ...  requir tls base server authent tls server auth...\n",
       "35  test_data/LibEST_semeru_format/requirements/RQ...  requir tls client authent recommend method ide...\n",
       "36  test_data/LibEST_semeru_format/requirements/RQ...  requir terminolog key word must must requir sh...\n",
       "37  test_data/LibEST_semeru_format/requirements/RQ...  requir protocol design layer figur provid expa...\n",
       "38  test_data/LibEST_semeru_format/requirements/RQ...  requir inform refer idev ieee standard associ ...\n",
       "39  test_data/LibEST_semeru_format/requirements/RQ...  requir certif less tls authent est client est ...\n",
       "40  test_data/LibEST_semeru_format/requirements/RQ...  requir iana consider section defin oid regist ...\n",
       "41  test_data/LibEST_semeru_format/requirements/RQ...  requir client use implicit databas est client ...\n",
       "42  test_data/LibEST_semeru_format/requirements/RQ...  requir certif request est client request est d...\n",
       "43  test_data/LibEST_semeru_format/requirements/RQ...  requir certif less tls mutual authent certif l...\n",
       "44  test_data/LibEST_semeru_format/requirements/RQ...  requir full cmc request http post fullcmc vali...\n",
       "45  test_data/LibEST_semeru_format/requirements/RQ...  requir distribut certif est client request cop...\n",
       "46  test_data/LibEST_semeru_format/requirements/RQ...  requir server key generat follow exampl valid ...\n",
       "47  test_data/LibEST_semeru_format/requirements/RQ...  requir messag type document use exist media ty...\n",
       "48  test_data/LibEST_semeru_format/requirements/RQ...  requir document profil certif enrol client use...\n",
       "49  test_data/LibEST_semeru_format/requirements/RQ...  requir simpl enrol enrol respons enrol success...\n",
       "50  test_data/LibEST_semeru_format/requirements/RQ...  requir refer rfc freed borenstein multipurpos ...\n",
       "51  test_data/LibEST_semeru_format/requirements/RQ...  requir certif tls authent est client previous ..."
      ]
     },
     "execution_count": 12,
     "metadata": {
      "tags": []
     },
     "output_type": "execute_result"
    }
   ],
   "source": [
    "source_file"
   ]
  },
  {
   "cell_type": "markdown",
   "metadata": {
    "id": "4_yPiUO0jThe"
   },
   "source": [
    "Here's a preview of target artifact class"
   ]
  },
  {
   "cell_type": "code",
   "execution_count": null,
   "metadata": {
    "colab": {
     "base_uri": "https://localhost:8080/",
     "height": 693
    },
    "id": "2E0ZTBDbJUsx",
    "outputId": "b585e433-fb1e-47d2-829a-b73aa504a7f3"
   },
   "outputs": [
    {
     "data": {
      "text/html": [
       "<div>\n",
       "<style scoped>\n",
       "    .dataframe tbody tr th:only-of-type {\n",
       "        vertical-align: middle;\n",
       "    }\n",
       "\n",
       "    .dataframe tbody tr th {\n",
       "        vertical-align: top;\n",
       "    }\n",
       "\n",
       "    .dataframe thead th {\n",
       "        text-align: right;\n",
       "    }\n",
       "</style>\n",
       "<table border=\"1\" class=\"dataframe\">\n",
       "  <thead>\n",
       "    <tr style=\"text-align: right;\">\n",
       "      <th></th>\n",
       "      <th>ids</th>\n",
       "      <th>text</th>\n",
       "    </tr>\n",
       "  </thead>\n",
       "  <tbody>\n",
       "    <tr>\n",
       "      <th>0</th>\n",
       "      <td>test_data/LibEST_semeru_format/test/us903.c</td>\n",
       "      <td>unit test user stori server simpl enrol august...</td>\n",
       "    </tr>\n",
       "    <tr>\n",
       "      <th>1</th>\n",
       "      <td>test_data/LibEST_semeru_format/test/us3496.c</td>\n",
       "      <td>unit test uri path segment extens support marc...</td>\n",
       "    </tr>\n",
       "    <tr>\n",
       "      <th>2</th>\n",
       "      <td>test_data/LibEST_semeru_format/test/us899.c</td>\n",
       "      <td>unit test user stori client simpl enrol septem...</td>\n",
       "    </tr>\n",
       "    <tr>\n",
       "      <th>3</th>\n",
       "      <td>test_data/LibEST_semeru_format/test/us4020.c</td>\n",
       "      <td>unit test user stori unit test client proxi mo...</td>\n",
       "    </tr>\n",
       "    <tr>\n",
       "      <th>4</th>\n",
       "      <td>test_data/LibEST_semeru_format/test/us897.c</td>\n",
       "      <td>unit test user stori client cacert june copyri...</td>\n",
       "    </tr>\n",
       "    <tr>\n",
       "      <th>5</th>\n",
       "      <td>test_data/LibEST_semeru_format/test/us1060.c</td>\n",
       "      <td>unit test user stori tls srp support server pr...</td>\n",
       "    </tr>\n",
       "    <tr>\n",
       "      <th>6</th>\n",
       "      <td>test_data/LibEST_semeru_format/test/us900.c</td>\n",
       "      <td>unit test user stori server csr attribut novem...</td>\n",
       "    </tr>\n",
       "    <tr>\n",
       "      <th>7</th>\n",
       "      <td>test_data/LibEST_semeru_format/test/us896.c</td>\n",
       "      <td>unit test user stori client csr attribut novem...</td>\n",
       "    </tr>\n",
       "    <tr>\n",
       "      <th>8</th>\n",
       "      <td>test_data/LibEST_semeru_format/test/us894.c</td>\n",
       "      <td>unit test user stori proxi cacert novemb copyr...</td>\n",
       "    </tr>\n",
       "    <tr>\n",
       "      <th>9</th>\n",
       "      <td>test_data/LibEST_semeru_format/test/us1005.c</td>\n",
       "      <td>unit test user stori client easi provis novemb...</td>\n",
       "    </tr>\n",
       "    <tr>\n",
       "      <th>10</th>\n",
       "      <td>test_data/LibEST_semeru_format/test/us898.c</td>\n",
       "      <td>unit test user stori client enrol octob copyri...</td>\n",
       "    </tr>\n",
       "    <tr>\n",
       "      <th>11</th>\n",
       "      <td>test_data/LibEST_semeru_format/test/us3512.c</td>\n",
       "      <td>unit test uri path segment support server apri...</td>\n",
       "    </tr>\n",
       "    <tr>\n",
       "      <th>12</th>\n",
       "      <td>test_data/LibEST_semeru_format/test/us1883.c</td>\n",
       "      <td>unit test user stori enabl token auth mode est...</td>\n",
       "    </tr>\n",
       "    <tr>\n",
       "      <th>13</th>\n",
       "      <td>test_data/LibEST_semeru_format/test/us748.c</td>\n",
       "      <td>unit test user stori proxi simpl enrol august ...</td>\n",
       "    </tr>\n",
       "    <tr>\n",
       "      <th>14</th>\n",
       "      <td>test_data/LibEST_semeru_format/test/us3612.c</td>\n",
       "      <td>unit test user stori encrypt privat key suppor...</td>\n",
       "    </tr>\n",
       "    <tr>\n",
       "      <th>15</th>\n",
       "      <td>test_data/LibEST_semeru_format/test/us901.c</td>\n",
       "      <td>unit test user stori server cacert june copyri...</td>\n",
       "    </tr>\n",
       "    <tr>\n",
       "      <th>16</th>\n",
       "      <td>test_data/LibEST_semeru_format/test/us1864.c</td>\n",
       "      <td>unit test user stori enabl token auth mode ser...</td>\n",
       "    </tr>\n",
       "    <tr>\n",
       "      <th>17</th>\n",
       "      <td>test_data/LibEST_semeru_format/test/us1159.c</td>\n",
       "      <td>unit test user stori csr attribut enforc octob...</td>\n",
       "    </tr>\n",
       "    <tr>\n",
       "      <th>18</th>\n",
       "      <td>test_data/LibEST_semeru_format/test/us2174.c</td>\n",
       "      <td>unit test user stori proxi simpl enrol august ...</td>\n",
       "    </tr>\n",
       "    <tr>\n",
       "      <th>19</th>\n",
       "      <td>test_data/LibEST_semeru_format/test/us893.c</td>\n",
       "      <td>unit test user stori proxi reenrol octob copyr...</td>\n",
       "    </tr>\n",
       "    <tr>\n",
       "      <th>20</th>\n",
       "      <td>test_data/LibEST_semeru_format/test/us895.c</td>\n",
       "      <td>unit test user stori proxi csr attribut novemb...</td>\n",
       "    </tr>\n",
       "  </tbody>\n",
       "</table>\n",
       "</div>"
      ],
      "text/plain": [
       "                                             ids                                               text\n",
       "0    test_data/LibEST_semeru_format/test/us903.c  unit test user stori server simpl enrol august...\n",
       "1   test_data/LibEST_semeru_format/test/us3496.c  unit test uri path segment extens support marc...\n",
       "2    test_data/LibEST_semeru_format/test/us899.c  unit test user stori client simpl enrol septem...\n",
       "3   test_data/LibEST_semeru_format/test/us4020.c  unit test user stori unit test client proxi mo...\n",
       "4    test_data/LibEST_semeru_format/test/us897.c  unit test user stori client cacert june copyri...\n",
       "5   test_data/LibEST_semeru_format/test/us1060.c  unit test user stori tls srp support server pr...\n",
       "6    test_data/LibEST_semeru_format/test/us900.c  unit test user stori server csr attribut novem...\n",
       "7    test_data/LibEST_semeru_format/test/us896.c  unit test user stori client csr attribut novem...\n",
       "8    test_data/LibEST_semeru_format/test/us894.c  unit test user stori proxi cacert novemb copyr...\n",
       "9   test_data/LibEST_semeru_format/test/us1005.c  unit test user stori client easi provis novemb...\n",
       "10   test_data/LibEST_semeru_format/test/us898.c  unit test user stori client enrol octob copyri...\n",
       "11  test_data/LibEST_semeru_format/test/us3512.c  unit test uri path segment support server apri...\n",
       "12  test_data/LibEST_semeru_format/test/us1883.c  unit test user stori enabl token auth mode est...\n",
       "13   test_data/LibEST_semeru_format/test/us748.c  unit test user stori proxi simpl enrol august ...\n",
       "14  test_data/LibEST_semeru_format/test/us3612.c  unit test user stori encrypt privat key suppor...\n",
       "15   test_data/LibEST_semeru_format/test/us901.c  unit test user stori server cacert june copyri...\n",
       "16  test_data/LibEST_semeru_format/test/us1864.c  unit test user stori enabl token auth mode ser...\n",
       "17  test_data/LibEST_semeru_format/test/us1159.c  unit test user stori csr attribut enforc octob...\n",
       "18  test_data/LibEST_semeru_format/test/us2174.c  unit test user stori proxi simpl enrol august ...\n",
       "19   test_data/LibEST_semeru_format/test/us893.c  unit test user stori proxi reenrol octob copyr...\n",
       "20   test_data/LibEST_semeru_format/test/us895.c  unit test user stori proxi csr attribut novemb..."
      ]
     },
     "execution_count": 13,
     "metadata": {
      "tags": []
     },
     "output_type": "execute_result"
    }
   ],
   "source": [
    "target_file"
   ]
  },
  {
   "cell_type": "markdown",
   "metadata": {
    "id": "Wcc7rrEHjYt7"
   },
   "source": [
    "The function to calculate tracebility value in ds4se is called TraceLinkValue. The function can only process one pair of string at a time. Here is example to calculate the traceability between the first source file and the first target file.\n"
   ]
  },
  {
   "cell_type": "code",
   "execution_count": null,
   "metadata": {
    "id": "3azoLiDtJYne"
   },
   "outputs": [],
   "source": [
    "#TraceLinkValue only strings of source and target content. \n",
    "source = source_file['text'][0]  \n",
    "target = target_file['text'][0]"
   ]
  },
  {
   "cell_type": "code",
   "execution_count": null,
   "metadata": {
    "colab": {
     "base_uri": "https://localhost:8080/"
    },
    "id": "-A4QCN8YJnAH",
    "outputId": "a5634c40-c0ca-4314-9fcb-4512459b05ef"
   },
   "outputs": [
    {
     "name": "stderr",
     "output_type": "stream",
     "text": [
      "2020-11-01 20:56:33,237 : INFO : adding document #0 to Dictionary(0 unique tokens: [])\n",
      "2020-11-01 20:56:33,245 : INFO : built Dictionary(1815 unique tokens: ['@return', 'Converts', 'The', 'a', 'and']...) from 153 documents (total 5769 corpus positions)\n",
      "2020-11-01 20:56:33,247 : INFO : loading Word2Vec object from /usr/local/lib/python3.6/dist-packages/ds4se/model/word2vec_libest.model\n",
      "2020-11-01 20:56:33,388 : INFO : loading wv recursively from /usr/local/lib/python3.6/dist-packages/ds4se/model/word2vec_libest.model.wv.* with mmap=None\n",
      "2020-11-01 20:56:33,389 : INFO : setting ignored attribute vectors_norm to None\n",
      "2020-11-01 20:56:33,390 : INFO : loading vocabulary recursively from /usr/local/lib/python3.6/dist-packages/ds4se/model/word2vec_libest.model.vocabulary.* with mmap=None\n",
      "2020-11-01 20:56:33,390 : INFO : loading trainables recursively from /usr/local/lib/python3.6/dist-packages/ds4se/model/word2vec_libest.model.trainables.* with mmap=None\n",
      "2020-11-01 20:56:33,391 : INFO : setting ignored attribute cum_table to None\n",
      "2020-11-01 20:56:33,393 : INFO : loaded /usr/local/lib/python3.6/dist-packages/ds4se/model/word2vec_libest.model\n",
      "2020-11-01 20:56:33,415 : INFO : precomputing L2-norms of word weight vectors\n",
      "2020-11-01 20:56:33,421 : INFO : constructing a sparse term similarity matrix using <gensim.models.keyedvectors.WordEmbeddingSimilarityIndex object at 0x7efc021fa898>\n",
      "2020-11-01 20:56:33,422 : INFO : iterating over columns in dictionary order\n",
      "2020-11-01 20:56:33,426 : INFO : PROGRESS: at 0.06% columns (1 / 1815, 0.055096% density, 0.055096% projected density)\n",
      "2020-11-01 20:56:33,664 : INFO : PROGRESS: at 55.15% columns (1001 / 1815, 0.140033% density, 0.209102% projected density)\n",
      "2020-11-01 20:56:33,773 : INFO : constructed a sparse term similarity matrix with 0.173668% density\n",
      "2020-11-01 20:56:33,785 : INFO : adding document #0 to Dictionary(0 unique tokens: [])\n",
      "2020-11-01 20:56:33,791 : INFO : built Dictionary(808 unique tokens: ['\"/.', '://', 'absolut', 'addit', 'append']...) from 2 documents (total 2178 corpus positions)\n",
      "2020-11-01 20:56:46,201 : INFO : Computed distances or similarities ('source', 'target')[[0.31915631110336734, 0.7580602780602862]]\n"
     ]
    },
    {
     "name": "stdout",
     "output_type": "stream",
     "text": [
      "distance is 0.31915631110336734 , the traceability value is 0.7580602780602862\n"
     ]
    }
   ],
   "source": [
    "result = facade.TraceLinkValue(source, target, \"word2vec\")   #for whole list of supported technique of calculating traceability, see the documentation page\n",
    "distance = result[0]\n",
    "traceability = result[1]\n",
    "print(\"distance is {} , the traceability value is {}\".format(distance, traceability))"
   ]
  },
  {
   "cell_type": "markdown",
   "metadata": {
    "id": "4MKY-lDEj3mr"
   },
   "source": [
    "We can see above the TraceLinkValue function return a tuple of numbers. The first one is *distance* and the second one is the *similarity*, which is what we called \"Traceability\""
   ]
  },
  {
   "cell_type": "markdown",
   "metadata": {
    "id": "rmA1zBQ-k1EC"
   },
   "source": [
    "## Calculating Traceability using word2vec with WMD metric\n"
   ]
  },
  {
   "cell_type": "code",
   "execution_count": 1,
   "metadata": {
    "colab": {
     "base_uri": "https://localhost:8080/",
     "height": 166
    },
    "id": "dOeapt43k5WF",
    "outputId": "8048ad42-af65-498e-b732-acf36529d10c"
   },
   "outputs": [
    {
     "ename": "NameError",
     "evalue": "name 'target' is not defined",
     "output_type": "error",
     "traceback": [
      "\u001b[1;31m---------------------------------------------------------------------------\u001b[0m",
      "\u001b[1;31mNameError\u001b[0m                                 Traceback (most recent call last)",
      "\u001b[1;32m<ipython-input-1-eb1fd83b708b>\u001b[0m in \u001b[0;36m<module>\u001b[1;34m\u001b[0m\n\u001b[1;32m----> 1\u001b[1;33m \u001b[0mtarget\u001b[0m\u001b[1;33m[\u001b[0m\u001b[1;34m'ids'\u001b[0m\u001b[1;33m]\u001b[0m\u001b[1;33m\u001b[0m\u001b[1;33m\u001b[0m\u001b[0m\n\u001b[0m",
      "\u001b[1;31mNameError\u001b[0m: name 'target' is not defined"
     ]
    }
   ],
   "source": [
    "target['ids']"
   ]
  }
 ],
 "metadata": {
  "colab": {
   "name": "Libest Case Study.ipynb",
   "provenance": []
  },
  "kernelspec": {
   "display_name": "Python 3",
   "language": "python",
   "name": "python3"
  },
  "language_info": {
   "codemirror_mode": {
    "name": "ipython",
    "version": 3
   },
   "file_extension": ".py",
   "mimetype": "text/x-python",
   "name": "python",
   "nbconvert_exporter": "python",
   "pygments_lexer": "ipython3",
   "version": "3.8.5"
  }
 },
 "nbformat": 4,
 "nbformat_minor": 1
}
