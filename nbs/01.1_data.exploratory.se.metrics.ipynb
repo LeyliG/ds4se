{
  "nbformat": 4,
  "nbformat_minor": 0,
  "metadata": {
    "kernelspec": {
      "display_name": "Python 3",
      "language": "python",
      "name": "python3"
    },
    "language_info": {
      "codemirror_mode": {
        "name": "ipython",
        "version": 3
      },
      "file_extension": ".py",
      "mimetype": "text/x-python",
      "name": "python",
      "nbconvert_exporter": "python",
      "pygments_lexer": "ipython3",
      "version": "3.6.8"
    },
    "colab": {
      "name": "01.1_data.exploratory.se.metrics.ipynb",
      "provenance": []
    }
  },
  "cells": [
    {
      "cell_type": "code",
      "metadata": {
        "id": "iiU_wJelvSeJ",
        "colab_type": "code",
        "colab": {}
      },
      "source": [
        "# default_exp data.exploratory.se.metrics"
      ],
      "execution_count": 0,
      "outputs": []
    },
    {
      "cell_type": "markdown",
      "metadata": {
        "id": "3D-SNetwvSea",
        "colab_type": "text"
      },
      "source": [
        "# Exploration of your data\n",
        "\n",
        "> This module comprises some of the statistical and inference techniques to describe the inner properties of software data. The submodules might include:\n",
        ">\n",
        "> - Descriptive statistics\n",
        "> - Software Metrics\n",
        "> - Information Theory\n",
        "> - Learning Principels Detection (Occams' Razor, Biased data, and Data Snooping)\n",
        "> - Inference: Probabilistic and Causal"
      ]
    },
    {
      "cell_type": "markdown",
      "metadata": {
        "id": "2buKCA0I01Cn",
        "colab_type": "text"
      },
      "source": [
        "### Specifically in this module\n",
        "\n",
        "> - Cyclomatic complexity (CYCLO)\n",
        "> - Coupling Between Objects (CBO)\n",
        "> - Lack of Cohesion of Methods 5 (LCOM5)\n",
        "> - Top/Least 20 Occurring Tokens\n",
        "> - Percentage of redundancy (just Java)\n",
        "> - How many Type I and Type II clones are in Java datasets?"
      ]
    },
    {
      "cell_type": "markdown",
      "metadata": {
        "id": "rY_lsgQUqv2B",
        "colab_type": "text"
      },
      "source": [
        "### Current limitations\n",
        "\n",
        "> - Can only compute LCOM5 for java files\n",
        "> - Can only read files encoded in utf-8 and iso-8859-15.\n",
        "> - Can only compute Cyclomatic Complexity for \n",
        "> > - C\n",
        "> > - C++ (works with C++14)\n",
        "> > - Java\n",
        "> > - C# (C Sharp)\n",
        "> > - JavaScript (With ES6 and JSX)\n",
        "> > - Objective-C\n",
        "> > - Swift\n",
        "> > - Python\n",
        "> > - Ruby\n",
        "> > - TTCN-3\n",
        "> > - PHP\n",
        "> > - Scala\n",
        "> > - GDScript\n",
        "> > - Golang\n",
        "> > - Lua\n",
        "> > - Rust"
      ]
    },
    {
      "cell_type": "code",
      "metadata": {
        "id": "jjkOCTMxvSed",
        "colab_type": "code",
        "colab": {}
      },
      "source": [
        "# #hide\n",
        "# from nbdev.showdoc import *"
      ],
      "execution_count": 0,
      "outputs": []
    },
    {
      "cell_type": "code",
      "metadata": {
        "id": "dmqIlUc01iz8",
        "colab_type": "code",
        "outputId": "8fede0be-0ae2-4d39-a0be-7eaeb3a2a99d",
        "colab": {
          "base_uri": "https://localhost:8080/",
          "height": 68
        }
      },
      "source": [
        "!pip install sentencepiece\n",
        "# !pip install metrics # Outdated Cyclomatic Complexity tool\n",
        "!pip install lizard\n",
        "!pip install tree_sitter"
      ],
      "execution_count": 3,
      "outputs": [
        {
          "output_type": "stream",
          "text": [
            "Requirement already satisfied: sentencepiece in /usr/local/lib/python3.6/dist-packages (0.1.85)\n",
            "Requirement already satisfied: lizard in /usr/local/lib/python3.6/dist-packages (1.17.3)\n",
            "Requirement already satisfied: tree_sitter in /usr/local/lib/python3.6/dist-packages (0.1.0)\n"
          ],
          "name": "stdout"
        }
      ]
    },
    {
      "cell_type": "code",
      "metadata": {
        "id": "GZfgmd8qvrVX",
        "colab_type": "code",
        "colab": {}
      },
      "source": [
        "# export\n",
        "# Imports\n",
        "import pandas as pd\n",
        "import sentencepiece as sp\n",
        "from numpy import mean, std\n",
        "from statistics import median\n",
        "from scipy.stats import sem, t\n",
        "import lizard\n",
        "import matplotlib.pyplot as plt\n",
        "from tree_sitter import Language, Parser\n",
        "\n",
        "# TODO: Remove when mongo call is implemented\n",
        "import os"
      ],
      "execution_count": 0,
      "outputs": []
    },
    {
      "cell_type": "code",
      "metadata": {
        "id": "jYB4MevPoqut",
        "colab_type": "code",
        "outputId": "e7e69d96-d51e-4c2d-a838-c0ed5e1202fa",
        "colab": {
          "base_uri": "https://localhost:8080/",
          "height": 51
        }
      },
      "source": [
        "!git clone https://github.com/tree-sitter/tree-sitter-cpp\n",
        "!git clone https://github.com/tree-sitter/tree-sitter-java\n",
        "# !git clone https://github.com/tree-sitter/tree-sitter-javascript\n",
        "# !git clone https://github.com/tree-sitter/tree-sitter-python"
      ],
      "execution_count": 5,
      "outputs": [
        {
          "output_type": "stream",
          "text": [
            "fatal: destination path 'tree-sitter-cpp' already exists and is not an empty directory.\n",
            "fatal: destination path 'tree-sitter-java' already exists and is not an empty directory.\n"
          ],
          "name": "stdout"
        }
      ]
    },
    {
      "cell_type": "code",
      "metadata": {
        "id": "SCBPfIyqvSev",
        "colab_type": "code",
        "colab": {}
      },
      "source": [
        "# TODO: Replace with actual mongo call\n",
        "def simulate_getting_dataframes_from_mongo():\n",
        "    corpus_data = {\"system\": [], \"name\": [], \"ground_truth\": [], \"contents\": []}\n",
        "    path = \"./test\"\n",
        "    for file in os.listdir(path):\n",
        "        if not os.path.isdir(os.path.join(path, file)):\n",
        "            corpus_data[\"system\"].append(None)\n",
        "            corpus_data[\"name\"].append(file)\n",
        "            corpus_data[\"ground_truth\"].append(\"src\")\n",
        "            try:\n",
        "                with open (os.path.join(path, file), \"r\", encoding='utf-8') as f:\n",
        "                    corpus_data['contents'].append(f.read())\n",
        "                    print(f\"File {file} encoded in utf-8\")\n",
        "            except UnicodeDecodeError:\n",
        "                with open (os.path.join(path, file), \"r\", encoding='iso-8859-15') as f:\n",
        "                    corpus_data['contents'].append(f.read())\n",
        "                    print(f\"File {file} encoded in iso-8859-15\")\n",
        "    corpus_df = pd.DataFrame(data = corpus_data)\n",
        "    return corpus_df"
      ],
      "execution_count": 0,
      "outputs": []
    },
    {
      "cell_type": "code",
      "metadata": {
        "id": "twT8CJYECVxT",
        "colab_type": "code",
        "colab": {}
      },
      "source": [
        "# export\n",
        "def add_length_col(df, col, length_col_name='length'):\n",
        "    \"\"\"Adds a length column with the length of entries in the specified column of a dataframe\"\"\"\n",
        "    df[length_col_name] = df[col].astype(str).apply(len)\n",
        "    return df"
      ],
      "execution_count": 0,
      "outputs": []
    },
    {
      "cell_type": "code",
      "metadata": {
        "id": "6Cj1GByJAyVQ",
        "colab_type": "code",
        "colab": {}
      },
      "source": [
        "# export\n",
        "def add_mccabe_metrics(df, data_col, name_col):\n",
        "    \"\"\"Adds information about function length and cyclomatic complexity to the corpus dataframe\"\"\"\n",
        "    # TODO: calculate metrics per class instead of per file\n",
        "    # TODO: Make sure that constructors are (or are not) being counted as a function\n",
        "    file_ccn = []\n",
        "    file_nloc = []\n",
        "    num_funcs = []\n",
        "    avg_func_ccn = []\n",
        "    avg_func_nloc = []\n",
        "    # avg_func_tok_count = [] # TODO: Figure out how lizard tokenizes\n",
        "    for i in range(len(df)):\n",
        "        metrics = lizard.analyze_file.analyze_source_code(df[name_col][i], df[data_col][i])\n",
        "        file_ccn.append(metrics.CCN)\n",
        "        file_nloc.append(metrics.nloc)\n",
        "        num_funcs.append(len(metrics.function_list))\n",
        "        avg_func_ccn.append(metrics.average_cyclomatic_complexity)\n",
        "        avg_func_nloc.append(metrics.average_nloc)\n",
        "        # avg_func_tok_count.append(metrics.average_token_count) # TODO: Figure out how lizard tokenizes\n",
        "    df[\"file_ccn\"] = file_ccn\n",
        "    df[\"file_nloc\"] = file_nloc\n",
        "    df[\"num_funcs\"] = num_funcs\n",
        "    df[\"avg_func_ccn\"] = avg_func_ccn\n",
        "    df[\"avg_func_nloc\"] = avg_func_nloc\n",
        "    # df[\"avg_func_tok_count\"] = avg_func_tok_count # TODO: Figure out how lizard tokenizes\n",
        "    return df"
      ],
      "execution_count": 0,
      "outputs": []
    },
    {
      "cell_type": "code",
      "metadata": {
        "id": "BlcPAt8PqTto",
        "colab_type": "code",
        "colab": {}
      },
      "source": [
        "#export\n",
        "def create_parser_builds(path=None):\n",
        "    \"\"\"Creates a dictionary of tree-sitter parsers for select languages\"\"\"\n",
        "    Language.build_library(\n",
        "        # Store the library in the `build` directory\n",
        "        'build/my-languages.so',\n",
        "\n",
        "        # Include one or more languages\n",
        "        [\n",
        "            'tree-sitter-cpp',\n",
        "            'tree-sitter-java',\n",
        "            # 'tree-sitter-javascript',\n",
        "            # 'tree-sitter-python'\n",
        "        ]\n",
        "    )\n",
        "\n",
        "    CPP_LANGUAGE = Language('build/my-languages.so', 'cpp')\n",
        "    JAVA_LANGUAGE = Language('build/my-languages.so', 'java')\n",
        "    # JS_LANGUAGE = Language('build/my-languages.so', 'javascript')\n",
        "    # PY_LANGUAGE = Language('build/my-languages.so', 'python')\n",
        "    \n",
        "    return {'java':JAVA_LANGUAGE}"
      ],
      "execution_count": 0,
      "outputs": []
    },
    {
      "cell_type": "code",
      "metadata": {
        "id": "8eLyfDEF-Wzh",
        "colab_type": "code",
        "colab": {}
      },
      "source": [
        "#export\n",
        "def for_lang(extension):\n",
        "    if extension == 'java':\n",
        "        return {\"class\": \"class_declaration\", \"method\":\"method_declaration\"}"
      ],
      "execution_count": 0,
      "outputs": []
    },
    {
      "cell_type": "code",
      "metadata": {
        "id": "-2ZD3mqRjt_J",
        "colab_type": "code",
        "colab": {}
      },
      "source": [
        "#export\n",
        "def class_attributes_cpp(class_node, file_text, class_pattern):\n",
        "    return 0"
      ],
      "execution_count": 0,
      "outputs": []
    },
    {
      "cell_type": "code",
      "metadata": {
        "id": "JcbFBRkjJTBq",
        "colab_type": "code",
        "colab": {}
      },
      "source": [
        "#export\n",
        "def distinct_class_attribute_calls_cpp(class_node, atts, file_text):\n",
        "    return 0"
      ],
      "execution_count": 0,
      "outputs": []
    },
    {
      "cell_type": "code",
      "metadata": {
        "id": "C9CgmwzAR1jo",
        "colab_type": "code",
        "colab": {}
      },
      "source": [
        "#export\n",
        "def find_nodes(parent_node, pattern):\n",
        "    node_list = []\n",
        "    def rec_node_search(node):\n",
        "        if node.type == pattern:\n",
        "            node_list.append(node)\n",
        "        for child in node.children:\n",
        "            rec_node_search(child)\n",
        "    rec_node_search(parent_node)\n",
        "    return node_list"
      ],
      "execution_count": 0,
      "outputs": []
    },
    {
      "cell_type": "code",
      "metadata": {
        "id": "U6bkc5U134Au",
        "colab_type": "code",
        "colab": {}
      },
      "source": [
        "#export\n",
        "def class_attributes_java(class_node, file_text, class_pattern):\n",
        "    \"\"\"Finds the fields/attributes for a class AST\"\"\"\n",
        "    # TODO: Determine if this is rigourous enough for all files\n",
        "    class_attributess = []\n",
        "    def rec_attribute_search(node):\n",
        "        if node.type == \"field_declaration\":\n",
        "            for c in range(len(node.children)):\n",
        "                if node.children[c].type == \"variable_declarator\":\n",
        "                    var_dec = node.children[c]\n",
        "                    for d in range(len(var_dec.children)):\n",
        "                        if var_dec.children[d].type == \"identifier\":\n",
        "                            word = \"\"\n",
        "                            # print(\"Found node at start point:\", var_dec.children[d].start_point)\n",
        "                            # print(\"Found node at end point:\", var_dec.children[d].end_point)\n",
        "                            # print(\"Found node at start byte:\", var_dec.children[d].start_byte)\n",
        "                            # print(\"Found node at end byte:\", var_dec.children[d].end_byte)\n",
        "                            for i in range(var_dec.children[d].start_byte, var_dec.children[d].end_byte):\n",
        "                                word += file_text[i]\n",
        "                            class_attributess.append(word)\n",
        "        else:\n",
        "            for child in node.children:\n",
        "                if child.type != class_pattern:\n",
        "                    rec_attribute_search(child)\n",
        "    rec_attribute_search(class_node)\n",
        "    return class_attributess"
      ],
      "execution_count": 0,
      "outputs": []
    },
    {
      "cell_type": "code",
      "metadata": {
        "id": "GFv9W-s1oKt2",
        "colab_type": "code",
        "colab": {}
      },
      "source": [
        "#export\n",
        "def find_string_in_file(node, pattern, file_text):\n",
        "    \"\"\"Counts the number of occurences of a pattern in a sample of code\"\"\"\n",
        "    # TODO: Optomize this by making it stop searching after finding the first occurence\n",
        "    if len(node.children) > 0:\n",
        "        count = 0\n",
        "        for i in node.children:\n",
        "            count += find_string_in_file(i, pattern, file_text)\n",
        "        return count\n",
        "    else:\n",
        "        word = \"\"\n",
        "        for i in range(node.start_byte, node.end_byte):\n",
        "            try:\n",
        "                word += file_text[i]\n",
        "            except IndexError:\n",
        "                # print(\"Pattern was:\", pattern)\n",
        "                # print(\"Word was:\", word)\n",
        "                # print(\"Start byte was:\", node.start_byte)\n",
        "                # print(\"End byte was:\", node.end_byte)\n",
        "                # print(\"File length was:\", len(file_text))\n",
        "                print(\"Att calls failed\")\n",
        "        if word == pattern:\n",
        "            # print(f\"Found. Start byte: {node.start_point}, end byte: {node.end_point}\")\n",
        "            return 1\n",
        "        else:\n",
        "            return 0"
      ],
      "execution_count": 0,
      "outputs": []
    },
    {
      "cell_type": "code",
      "metadata": {
        "id": "fVrvZehFFobL",
        "colab_type": "code",
        "colab": {
          "base_uri": "https://localhost:8080/",
          "height": 34
        },
        "outputId": "85670072-d2d7-43d1-ccf9-2515391a442b"
      },
      "source": [
        "#export\n",
        "def distinct_class_attribute_calls_java(class_node, attributes, file_text):\n",
        "    \"\"\"Counts the sum of distinct attribute calls per method for a class\"\"\"\n",
        "    total_distinct_att_calls = 0\n",
        "    for a in range(len(class_node.children)):\n",
        "        if class_node.children[a].type == \"class_body\":\n",
        "            class_body = class_node.children[a]\n",
        "            for b in range(len(class_body.children)):\n",
        "                if class_body.children[b].type == \"method_declaration\":\n",
        "                    distinct_attribute_calls = 0\n",
        "                    for attribute in attributes:\n",
        "                        if find_string_in_file(class_body.children[b], attribute, file_text):\n",
        "                            distinct_attribute_calls += 1\n",
        "                    total_distinct_att_calls += distinct_attribute_calls\n",
        "    return total_distinct_att_calls\n",
        "\n",
        "\n",
        "\n",
        "    #     class_list = []\n",
        "    # def rec_call_search(node):\n",
        "    #     if node.type == \"method_declaration\":\n",
        "    #         class_list.append(node)\n",
        "    #     for child in node.children:\n",
        "    #         rec_call_search(child)\n",
        "    # rec_call_search(class_node)\n",
        "    # return class_list\n",
        "\n",
        "    "
      ],
      "execution_count": 12,
      "outputs": [
        {
          "output_type": "stream",
          "text": [
            "ERROR! Session/line number was not unique in database. History logging moved to new session 65\n"
          ],
          "name": "stdout"
        }
      ]
    },
    {
      "cell_type": "code",
      "metadata": {
        "id": "rYvkfU-A1WWR",
        "colab_type": "code",
        "colab": {}
      },
      "source": [
        "#export\n",
        "def calculate_lcom5(tree, extension, file_text, name):\n",
        "    \"\"\"Parses the syntax tree of code to calculate the LCOM5 of its classes\"\"\"\n",
        "    attribute_func_dict = {'cpp':class_attributes_cpp, 'java':class_attributes_java}\n",
        "    # methods_func_dict = {'cpp':class_methods_cpp, 'java':class_methods_java}\n",
        "    distinct_att_calls_func_dict = {'cpp':distinct_class_attribute_calls_cpp, 'java':distinct_class_attribute_calls_java}\n",
        "    root_node = tree.root_node\n",
        "    \n",
        "    if extension not in attribute_func_dict:\n",
        "        print(f\"Tried to get LCOM5 of file with extension '.{extension}', that language is not supported, 0 assigned to column.\")\n",
        "        return [0]\n",
        "    class_nodes = find_nodes(root_node, for_lang(extension)[\"class\"])\n",
        "    attributes = []\n",
        "    methods = []\n",
        "    dist_attribute_calls = []\n",
        "    for i in range(len(class_nodes)):\n",
        "        attributes.append(attribute_func_dict[extension](class_nodes[i], file_text, for_lang(extension)[\"class\"]))\n",
        "        methods.append(find_nodes(class_nodes[i], for_lang(extension)[\"method\"]))\n",
        "        dist_attribute_calls.append(distinct_att_calls_func_dict[extension](class_nodes[i], attributes[i], file_text))\n",
        "    print(\"Attributes\", attributes)\n",
        "    print(\"Methods\", methods)\n",
        "    print(\"Att calls\", dist_attribute_calls)\n",
        "    lcom5_list = []\n",
        "    for j in range(len(class_nodes)):\n",
        "        num_atts = len(attributes[j])\n",
        "        num_meths = len(methods[j])\n",
        "        num_DAC = dist_attribute_calls[j]\n",
        "        numerator = num_DAC - (num_meths*num_atts)\n",
        "        denominator = num_atts - (num_meths*num_atts)\n",
        "        if denominator == 0:\n",
        "            lcom5_list.append(\"Undefined\")\n",
        "        else:\n",
        "            lcom5_list.append(numerator/denominator)\n",
        "    return lcom5_list\n",
        "        "
      ],
      "execution_count": 0,
      "outputs": []
    },
    {
      "cell_type": "code",
      "metadata": {
        "id": "yLt1IRuWrjEK",
        "colab_type": "code",
        "colab": {}
      },
      "source": [
        "#export\n",
        "def add_lcom5(df, col):\n",
        "    \"\"\"Adds a column with the LCOM5 of each class of each file to a dataframe\"\"\"\n",
        "    lang_builds = create_parser_builds()\n",
        "    parser = Parser()\n",
        "    file_lcom5 = []\n",
        "    for i in range(len(df)):\n",
        "        ext = df[\"name\"][i].split('.')[-1]\n",
        "        parser.set_language(lang_builds[ext])\n",
        "        tree = parser.parse(bytes(df[\"contents\"][i], \"utf8\"))\n",
        "        file_lcom5.append(calculate_lcom5(tree, ext, df[\"contents\"][i], df[\"name\"][i]))\n",
        "    df[\"file_lcom5\"] = file_lcom5\n",
        "    return df"
      ],
      "execution_count": 0,
      "outputs": []
    },
    {
      "cell_type": "code",
      "metadata": {
        "id": "W86YBaLhSCi3",
        "colab_type": "code",
        "colab": {}
      },
      "source": [
        "#export\n",
        "def flatten_list_of_lists(list_list):\n",
        "    \"\"\"Takes in a list of lists and flattens it, returning a list of each entry\"\"\"\n",
        "    flattened_list = []\n",
        "    for sublist in list_list:\n",
        "        for entry in sublist:\n",
        "            flattened_list.append(entry)\n",
        "    return flattened_list"
      ],
      "execution_count": 0,
      "outputs": []
    },
    {
      "cell_type": "code",
      "metadata": {
        "id": "m8zM9rtr1f-n",
        "colab_type": "code",
        "colab": {}
      },
      "source": [
        "# export\n",
        "def display_numeric_col_stats(col, conf = 0.95, sig_figs = 4, clean=True, verbose_clean=False):\n",
        "    \"\"\"Computes statistical metrics about the entries in a dataframe column or list\"\"\"\n",
        "    previous_length = len(col)\n",
        "    numeric_types = [int, float, complex]\n",
        "    if clean: col = [x for x in col if type(x) in numeric_types]\n",
        "    if verbose_clean: print(f\"Cleaning removed {previous_length - len(col)} non-numeric entries\")\n",
        "\n",
        "    if len(col) < 1:\n",
        "        print(\"Error, data must contain at least one valid entry to display statistics\")\n",
        "        return\n",
        "\n",
        "    print(\"Min =\", round(min(col), sig_figs))\n",
        "    print(\"Max =\", round(max(col), sig_figs))\n",
        "    print(\"Average =\", round(mean(col), sig_figs))\n",
        "    print(\"Median =\", round(median(col), sig_figs))\n",
        "    print(\"Standard Deviation =\", round(std(col), sig_figs))\n",
        "    \n",
        "    n = len(col)\n",
        "    m = mean(col)\n",
        "    std_err = sem(col)\n",
        "    h = std_err * t.ppf((1 + conf) / 2, n - 1)\n",
        "\n",
        "    start = m - h\n",
        "    end = m + h\n",
        "    print(f\"{conf} of data points fall between {round(start, sig_figs)} and {round(end, sig_figs)}\")"
      ],
      "execution_count": 0,
      "outputs": []
    },
    {
      "cell_type": "code",
      "metadata": {
        "id": "Zrcs5Js-CR7T",
        "colab_type": "code",
        "colab": {}
      },
      "source": [
        "#export\n",
        "def display_numeric_col_hist(col, col_name=\"measure\", num_bins=None, clean=True, verbose_clean=False):\n",
        "    \"\"\"Displays a histogram with a customized number of bins for the data in a specified dataframe column or list\"\"\"\n",
        "    previous_length = len(col)\n",
        "    numeric_types = [int, float, complex]\n",
        "    if clean: col = [x for x in col if type(x) in numeric_types]\n",
        "    if verbose_clean: print(f\"Cleaning removed {previous_length - len(col)} non-numeric entries\")\n",
        "\n",
        "    if len(col) < 1:\n",
        "        print(\"Error, data must contain at least one valid entry to display histogram\")\n",
        "        return    \n",
        "\n",
        "    rng = max(col) - min(col)\n",
        "    num = len(col)\n",
        "    stnd_dev = std(col)\n",
        "    # num_bins = round((rng*(pow(num,1/3)))/(3.49*stnd_dev)) # Bins calculated according to https://academic.oup.com/biomet/article-abstract/66/3/605/232642\n",
        "    if not num_bins:\n",
        "        num_bins = 20\n",
        "    plt.hist(col, num_bins, color=\"blue\", alpha=0.5, edgecolor=\"black\", linewidth=1.0)\n",
        "    plt.title(col_name + \" Histogram\")\n",
        "    plt.ylabel(\"Value  Range  Occurrences\")\n",
        "    plt.xlabel(col_name)\n",
        "    plt.show()"
      ],
      "execution_count": 0,
      "outputs": []
    },
    {
      "cell_type": "markdown",
      "metadata": {
        "id": "y3lwzryRwjxI",
        "colab_type": "text"
      },
      "source": [
        "# Analysis & Visualization"
      ]
    },
    {
      "cell_type": "code",
      "metadata": {
        "id": "W13webAlwoKA",
        "colab_type": "code",
        "outputId": "9362d0a4-74b4-415e-d46c-6e823db1d674",
        "colab": {
          "base_uri": "https://localhost:8080/",
          "height": 34
        }
      },
      "source": [
        "# Retrieve the data\n",
        "corpus_df = simulate_getting_dataframes_from_mongo()\n",
        "total_file_count = len(corpus_df)\n",
        "print(\"Total files:\", total_file_count)"
      ],
      "execution_count": 32,
      "outputs": [
        {
          "output_type": "stream",
          "text": [
            "Total files: 2\n"
          ],
          "name": "stdout"
        }
      ]
    },
    {
      "cell_type": "code",
      "metadata": {
        "id": "T9wPtN2B2oJ9",
        "colab_type": "code",
        "colab": {}
      },
      "source": [
        "# Add the new metric columns to the corpus dataframe\n",
        "corpus_df = add_length_col(corpus_df, 'contents', 'code_length')"
      ],
      "execution_count": 0,
      "outputs": []
    },
    {
      "cell_type": "code",
      "metadata": {
        "id": "AaFF77FNBDsx",
        "colab_type": "code",
        "outputId": "971eb71d-2f50-476e-dbdf-48616baef59d",
        "colab": {
          "base_uri": "https://localhost:8080/",
          "height": 397
        }
      },
      "source": [
        "# Print statistical information about the length of each file\n",
        "display_numeric_col_hist(corpus_df['code_length'], \"Code Length\")\n",
        "display_numeric_col_stats(corpus_df['code_length'])"
      ],
      "execution_count": 22,
      "outputs": [
        {
          "output_type": "display_data",
          "data": {
            "image/png": "[encoded data removed]",
            "text/plain": [
              "<Figure size 432x288 with 1 Axes>"
            ]
          },
          "metadata": {
            "tags": []
          }
        },
        {
          "output_type": "stream",
          "text": [
            "Min = 979\n",
            "Max = 35035\n",
            "Average = 6980.3273\n",
            "Median = 4406\n",
            "Standard Deviation = 6470.9868\n",
            "0.95 of data points fall between 5214.8511 and 8745.8035\n"
          ],
          "name": "stdout"
        }
      ]
    },
    {
      "cell_type": "code",
      "metadata": {
        "id": "gmTsPb3mb7rD",
        "colab_type": "code",
        "colab": {}
      },
      "source": [
        "# Add the new metric columns to the corpus dataframe\n",
        "corpus_df = add_mccabe_metrics(corpus_df, 'contents', 'name')"
      ],
      "execution_count": 0,
      "outputs": []
    },
    {
      "cell_type": "code",
      "metadata": {
        "id": "TmXuuwU5077r",
        "colab_type": "code",
        "outputId": "4192ccbe-8cca-4954-b204-077c76fc9f5e",
        "colab": {
          "base_uri": "https://localhost:8080/",
          "height": 397
        }
      },
      "source": [
        "# Print statistical information about the cyclomatic complexity per file\n",
        "display_numeric_col_hist(corpus_df['file_ccn'], \"Cyclomatic Complexity\")\n",
        "display_numeric_col_stats(corpus_df['file_ccn'])"
      ],
      "execution_count": 0,
      "outputs": [
        {
          "output_type": "display_data",
          "data": {
            "image/png": "[encoded data removed]",
            "text/plain": [
              "<Figure size 432x288 with 1 Axes>"
            ]
          },
          "metadata": {
            "tags": []
          }
        },
        {
          "output_type": "stream",
          "text": [
            "Min = 0\n",
            "Max = 98\n",
            "Average = 14.6093\n",
            "Median = 11\n",
            "Standard Deviation = 15.0571\n",
            "0.95 of data points fall between 12.1801 and 17.0385\n"
          ],
          "name": "stdout"
        }
      ]
    },
    {
      "cell_type": "code",
      "metadata": {
        "id": "ZzWNnYS1BDz-",
        "colab_type": "code",
        "outputId": "fd2d18ee-da98-4467-8f47-32bb256eb518",
        "colab": {
          "base_uri": "https://localhost:8080/",
          "height": 397
        }
      },
      "source": [
        "# Print statistical information about the number of lines of code per file\n",
        "display_numeric_col_hist(corpus_df['file_nloc'], \"Lines of Code\")\n",
        "display_numeric_col_stats(corpus_df['file_nloc'])"
      ],
      "execution_count": 0,
      "outputs": [
        {
          "output_type": "display_data",
          "data": {
            "image/png": "[encoded data removed]",
            "text/plain": [
              "<Figure size 432x288 with 1 Axes>"
            ]
          },
          "metadata": {
            "tags": []
          }
        },
        {
          "output_type": "stream",
          "text": [
            "Min = 5\n",
            "Max = 781\n",
            "Average = 118.8543\n",
            "Median = 85\n",
            "Standard Deviation = 116.3206\n",
            "0.95 of data points fall between 100.0881 and 137.6205\n"
          ],
          "name": "stdout"
        }
      ]
    },
    {
      "cell_type": "code",
      "metadata": {
        "id": "_XOs7cA0BRMX",
        "colab_type": "code",
        "outputId": "cc404698-3544-4a5e-f41b-47db8603d655",
        "colab": {
          "base_uri": "https://localhost:8080/",
          "height": 397
        }
      },
      "source": [
        "# Print statistical information about the number of functions per file\n",
        "display_numeric_col_hist(corpus_df['num_funcs'], \"Number of Functions\")\n",
        "display_numeric_col_stats(corpus_df['num_funcs'])"
      ],
      "execution_count": 0,
      "outputs": [
        {
          "output_type": "display_data",
          "data": {
            "image/png": "[encoded data removed]",
            "text/plain": [
              "<Figure size 432x288 with 1 Axes>"
            ]
          },
          "metadata": {
            "tags": []
          }
        },
        {
          "output_type": "stream",
          "text": [
            "Min = 0\n",
            "Max = 43\n",
            "Average = 4.7483\n",
            "Median = 2\n",
            "Standard Deviation = 5.2225\n",
            "0.95 of data points fall between 3.9058 and 5.5909\n"
          ],
          "name": "stdout"
        }
      ]
    },
    {
      "cell_type": "code",
      "metadata": {
        "id": "ceYj929fBRXq",
        "colab_type": "code",
        "outputId": "6d999abf-688f-48dc-d526-be5ac19d9827",
        "colab": {
          "base_uri": "https://localhost:8080/",
          "height": 397
        }
      },
      "source": [
        "# Print statistical information about the average function cyclomatic complexities per file\n",
        "display_numeric_col_hist(corpus_df['avg_func_ccn'], \"Avg Function Cyclomatic Complexity\")\n",
        "display_numeric_col_stats(corpus_df['avg_func_ccn'])"
      ],
      "execution_count": 0,
      "outputs": [
        {
          "output_type": "display_data",
          "data": {
            "image/png": "[encoded data removed]",
            "text/plain": [
              "<Figure size 432x288 with 1 Axes>"
            ]
          },
          "metadata": {
            "tags": []
          }
        },
        {
          "output_type": "stream",
          "text": [
            "Min = 0.0\n",
            "Max = 14.0\n",
            "Average = 3.6855\n",
            "Median = 3.4706\n",
            "Standard Deviation = 2.6547\n",
            "0.95 of data points fall between 3.2572 and 4.1138\n"
          ],
          "name": "stdout"
        }
      ]
    },
    {
      "cell_type": "code",
      "metadata": {
        "id": "FFuB7nUnBRiA",
        "colab_type": "code",
        "outputId": "c7320752-e550-4b54-dbc8-833d11f6aec6",
        "colab": {
          "base_uri": "https://localhost:8080/",
          "height": 397
        }
      },
      "source": [
        "# Print statistical information about the average function cyclomatic complexity per file\n",
        "display_numeric_col_hist(corpus_df['avg_func_nloc'], \"Avg Function Lines of Code\")\n",
        "display_numeric_col_stats(corpus_df['avg_func_nloc'])"
      ],
      "execution_count": 0,
      "outputs": [
        {
          "output_type": "display_data",
          "data": {
            "image/png": "[encoded data removed]",
            "text/plain": [
              "<Figure size 432x288 with 1 Axes>"
            ]
          },
          "metadata": {
            "tags": []
          }
        },
        {
          "output_type": "stream",
          "text": [
            "Min = 0.0\n",
            "Max = 69.0\n",
            "Average = 23.9674\n",
            "Median = 24.75\n",
            "Standard Deviation = 15.4246\n",
            "0.95 of data points fall between 21.4789 and 26.4559\n"
          ],
          "name": "stdout"
        }
      ]
    },
    {
      "cell_type": "code",
      "metadata": {
        "id": "-23XyVEucJ4y",
        "colab_type": "code",
        "colab": {
          "base_uri": "https://localhost:8080/",
          "height": 258
        },
        "outputId": "bf311c02-58a9-4f49-8e39-a514fc2f934f"
      },
      "source": [
        "# Add the new metric columns to the corpus dataframe\n",
        "# Retrieve the data\n",
        "corpus_df = simulate_getting_dataframes_from_mongo()\n",
        "total_file_count = len(corpus_df)\n",
        "print(\"Total files:\", total_file_count)\n",
        "corpus_df = add_lcom5(corpus_df, 'contents')"
      ],
      "execution_count": 48,
      "outputs": [
        {
          "output_type": "stream",
          "text": [
            "File HelloWorld.java encoded in utf-8\n",
            "File Testing.java encoded in utf-8\n",
            "File Heyo.java encoded in utf-8\n",
            "Total files: 3\n",
            "Attributes [['a', 'b', 'r', 'active'], ['connectionActionTimestamp', 'connectionPoolCloseTimeout', 'timeStamp']]\n",
            "Methods [[<Node kind=method_declaration, start_point=(17, 4), end_point=(19, 5)>, <Node kind=method_declaration, start_point=(21, 4), end_point=(24, 5)>], []]\n",
            "Att calls [1, 0]\n",
            "Attributes [[], ['nnectionActionTimestamp =', 'nnectionPoolCloseTimeout =', 'meStamp =']]\n",
            "Methods [[], []]\n",
            "Att calls [0, 0]\n",
            "Attributes [['a', 'b', 'r', 'active'], ['connectionActionTimestamp', 'connectionPoolCloseTimeout', 'timeStamp'], [], ['connectionActionTimestamp', 'connectionPoolCloseTimeout', 'timeStamp']]\n",
            "Methods [[<Node kind=method_declaration, start_point=(17, 4), end_point=(19, 5)>, <Node kind=method_declaration, start_point=(21, 4), end_point=(24, 5)>], [], [], []]\n",
            "Att calls [1, 0, 0, 0]\n"
          ],
          "name": "stdout"
        }
      ]
    },
    {
      "cell_type": "code",
      "metadata": {
        "id": "J-4u0kq63K73",
        "colab_type": "code",
        "outputId": "fde0adc5-326d-4a6c-8bea-ac70389f4466",
        "colab": {
          "base_uri": "https://localhost:8080/",
          "height": 51
        }
      },
      "source": [
        "# # Print statistical information about the average LCOM5 per file\n",
        "display_numeric_col_hist(flatten_list_of_lists(corpus_df['file_lcom5']), \"Class LCOM5\")\n",
        "display_numeric_col_stats(flatten_list_of_lists(corpus_df['file_lcom5']))"
      ],
      "execution_count": 20,
      "outputs": [
        {
          "output_type": "stream",
          "text": [
            "Error, data must contain at least one valid entry to display histogram\n",
            "Error, data must contain at least one valid entry to display statistics\n"
          ],
          "name": "stdout"
        }
      ]
    },
    {
      "cell_type": "code",
      "metadata": {
        "id": "aqpxj8CkBD7G",
        "colab_type": "code",
        "outputId": "c3f43897-cfb3-48fc-8804-043de4e70154",
        "colab": {
          "base_uri": "https://localhost:8080/",
          "height": 1000
        }
      },
      "source": [
        "pd.set_option('display.expand_frame_repr', False)\n",
        "corpus_df.head(30)"
      ],
      "execution_count": 0,
      "outputs": [
        {
          "output_type": "execute_result",
          "data": {
            "text/html": [
              "<div>\n",
              "<style scoped>\n",
              "    .dataframe tbody tr th:only-of-type {\n",
              "        vertical-align: middle;\n",
              "    }\n",
              "\n",
              "    .dataframe tbody tr th {\n",
              "        vertical-align: top;\n",
              "    }\n",
              "\n",
              "    .dataframe thead th {\n",
              "        text-align: right;\n",
              "    }\n",
              "</style>\n",
              "<table border=\"1\" class=\"dataframe\">\n",
              "  <thead>\n",
              "    <tr style=\"text-align: right;\">\n",
              "      <th></th>\n",
              "      <th>system</th>\n",
              "      <th>name</th>\n",
              "      <th>ground_truth</th>\n",
              "      <th>contents</th>\n",
              "      <th>code_length</th>\n",
              "      <th>file_ccn</th>\n",
              "      <th>file_nloc</th>\n",
              "      <th>num_funcs</th>\n",
              "      <th>avg_func_ccn</th>\n",
              "      <th>avg_func_nloc</th>\n",
              "      <th>file_lcom5</th>\n",
              "    </tr>\n",
              "  </thead>\n",
              "  <tbody>\n",
              "    <tr>\n",
              "      <th>0</th>\n",
              "      <td>None</td>\n",
              "      <td>ServletUpdateTeaching.java</td>\n",
              "      <td>src</td>\n",
              "      <td>package smos.application.teachingManagement;\\n...</td>\n",
              "      <td>4229</td>\n",
              "      <td>14</td>\n",
              "      <td>100</td>\n",
              "      <td>2</td>\n",
              "      <td>7.000000</td>\n",
              "      <td>40.000000</td>\n",
              "      <td>[2.0]</td>\n",
              "    </tr>\n",
              "    <tr>\n",
              "      <th>1</th>\n",
              "      <td>None</td>\n",
              "      <td>ServletLoadTeachingList.java</td>\n",
              "      <td>src</td>\n",
              "      <td>package smos.application.reportManagement;\\n\\n...</td>\n",
              "      <td>3958</td>\n",
              "      <td>10</td>\n",
              "      <td>91</td>\n",
              "      <td>2</td>\n",
              "      <td>5.000000</td>\n",
              "      <td>34.000000</td>\n",
              "      <td>[2.0]</td>\n",
              "    </tr>\n",
              "    <tr>\n",
              "      <th>2</th>\n",
              "      <td>None</td>\n",
              "      <td>ServletLoadYear.java</td>\n",
              "      <td>src</td>\n",
              "      <td>package smos.application.userManagement;\\n\\nim...</td>\n",
              "      <td>3563</td>\n",
              "      <td>11</td>\n",
              "      <td>82</td>\n",
              "      <td>2</td>\n",
              "      <td>5.500000</td>\n",
              "      <td>32.000000</td>\n",
              "      <td>[2.0]</td>\n",
              "    </tr>\n",
              "    <tr>\n",
              "      <th>3</th>\n",
              "      <td>None</td>\n",
              "      <td>DBConnection.java</td>\n",
              "      <td>src</td>\n",
              "      <td>/*\\n * DBConnection\\n *\\n */\\n\\npackage smos.s...</td>\n",
              "      <td>5966</td>\n",
              "      <td>15</td>\n",
              "      <td>114</td>\n",
              "      <td>5</td>\n",
              "      <td>3.000000</td>\n",
              "      <td>16.000000</td>\n",
              "      <td>[1.5]</td>\n",
              "    </tr>\n",
              "    <tr>\n",
              "      <th>4</th>\n",
              "      <td>None</td>\n",
              "      <td>ServletShowUserTeachingForm.java</td>\n",
              "      <td>src</td>\n",
              "      <td>package smos.application.userManagement;\\n\\nim...</td>\n",
              "      <td>4281</td>\n",
              "      <td>12</td>\n",
              "      <td>90</td>\n",
              "      <td>2</td>\n",
              "      <td>6.000000</td>\n",
              "      <td>33.000000</td>\n",
              "      <td>[2.0]</td>\n",
              "    </tr>\n",
              "    <tr>\n",
              "      <th>5</th>\n",
              "      <td>None</td>\n",
              "      <td>RicercaAddebiti.java</td>\n",
              "      <td>src</td>\n",
              "      <td>package interfacce;\\nimport java.awt.*;\\nimpor...</td>\n",
              "      <td>6335</td>\n",
              "      <td>16</td>\n",
              "      <td>169</td>\n",
              "      <td>6</td>\n",
              "      <td>2.666667</td>\n",
              "      <td>24.666667</td>\n",
              "      <td>[0.828125]</td>\n",
              "    </tr>\n",
              "    <tr>\n",
              "      <th>6</th>\n",
              "      <td>None</td>\n",
              "      <td>VediPrenotazione.java</td>\n",
              "      <td>src</td>\n",
              "      <td>package interfacce;\\nimport java.awt.*;\\nimpor...</td>\n",
              "      <td>979</td>\n",
              "      <td>4</td>\n",
              "      <td>33</td>\n",
              "      <td>2</td>\n",
              "      <td>2.000000</td>\n",
              "      <td>10.000000</td>\n",
              "      <td>[Undefined]</td>\n",
              "    </tr>\n",
              "    <tr>\n",
              "      <th>7</th>\n",
              "      <td>None</td>\n",
              "      <td>ServletShowTeacherTeachingFormByClass.java</td>\n",
              "      <td>src</td>\n",
              "      <td>package smos.application.userManagement;\\n\\nim...</td>\n",
              "      <td>4025</td>\n",
              "      <td>10</td>\n",
              "      <td>87</td>\n",
              "      <td>2</td>\n",
              "      <td>5.000000</td>\n",
              "      <td>33.000000</td>\n",
              "      <td>[2.0]</td>\n",
              "    </tr>\n",
              "    <tr>\n",
              "      <th>8</th>\n",
              "      <td>None</td>\n",
              "      <td>ServletRemoveStudentClassroom.java</td>\n",
              "      <td>src</td>\n",
              "      <td>package smos.application.userManagement;\\n\\nim...</td>\n",
              "      <td>4024</td>\n",
              "      <td>15</td>\n",
              "      <td>92</td>\n",
              "      <td>2</td>\n",
              "      <td>7.500000</td>\n",
              "      <td>34.500000</td>\n",
              "      <td>[Undefined]</td>\n",
              "    </tr>\n",
              "    <tr>\n",
              "      <th>9</th>\n",
              "      <td>None</td>\n",
              "      <td>ServletInsertUser.java</td>\n",
              "      <td>src</td>\n",
              "      <td>package smos.application.userManagement;\\n\\nim...</td>\n",
              "      <td>4780</td>\n",
              "      <td>16</td>\n",
              "      <td>103</td>\n",
              "      <td>2</td>\n",
              "      <td>8.000000</td>\n",
              "      <td>42.000000</td>\n",
              "      <td>[2.0]</td>\n",
              "    </tr>\n",
              "    <tr>\n",
              "      <th>10</th>\n",
              "      <td>None</td>\n",
              "      <td>display.java</td>\n",
              "      <td>src</td>\n",
              "      <td>\\n\\n/****************** displaytag stylesheet ...</td>\n",
              "      <td>3147</td>\n",
              "      <td>0</td>\n",
              "      <td>142</td>\n",
              "      <td>0</td>\n",
              "      <td>0.000000</td>\n",
              "      <td>0.000000</td>\n",
              "      <td>[]</td>\n",
              "    </tr>\n",
              "    <tr>\n",
              "      <th>11</th>\n",
              "      <td>None</td>\n",
              "      <td>ServletShowAddressList.java</td>\n",
              "      <td>src</td>\n",
              "      <td>package smos.application.addressManagement;\\ni...</td>\n",
              "      <td>3414</td>\n",
              "      <td>10</td>\n",
              "      <td>74</td>\n",
              "      <td>2</td>\n",
              "      <td>5.000000</td>\n",
              "      <td>27.500000</td>\n",
              "      <td>[2.0]</td>\n",
              "    </tr>\n",
              "    <tr>\n",
              "      <th>12</th>\n",
              "      <td>None</td>\n",
              "      <td>DeleteManagerException.java</td>\n",
              "      <td>src</td>\n",
              "      <td>package smos.exception;\\n\\nimport java.lang.Ex...</td>\n",
              "      <td>826</td>\n",
              "      <td>2</td>\n",
              "      <td>11</td>\n",
              "      <td>2</td>\n",
              "      <td>1.000000</td>\n",
              "      <td>3.000000</td>\n",
              "      <td>[0.0]</td>\n",
              "    </tr>\n",
              "    <tr>\n",
              "      <th>13</th>\n",
              "      <td>None</td>\n",
              "      <td>ManagerAddress.java</td>\n",
              "      <td>src</td>\n",
              "      <td>package smos.storage;\\nimport smos.bean.Addres...</td>\n",
              "      <td>14627</td>\n",
              "      <td>42</td>\n",
              "      <td>290</td>\n",
              "      <td>16</td>\n",
              "      <td>2.625000</td>\n",
              "      <td>16.875000</td>\n",
              "      <td>[1.0476190476190477]</td>\n",
              "    </tr>\n",
              "    <tr>\n",
              "      <th>14</th>\n",
              "      <td>None</td>\n",
              "      <td>ServletInsertAddress.java</td>\n",
              "      <td>src</td>\n",
              "      <td>package smos.application.addressManagement;\\n\\...</td>\n",
              "      <td>4078</td>\n",
              "      <td>13</td>\n",
              "      <td>85</td>\n",
              "      <td>2</td>\n",
              "      <td>6.500000</td>\n",
              "      <td>32.500000</td>\n",
              "      <td>[2.0]</td>\n",
              "    </tr>\n",
              "    <tr>\n",
              "      <th>15</th>\n",
              "      <td>None</td>\n",
              "      <td>MascheraCommissioni.java</td>\n",
              "      <td>src</td>\n",
              "      <td>package interfacce;\\nimport java.awt.*;\\nimpor...</td>\n",
              "      <td>9779</td>\n",
              "      <td>25</td>\n",
              "      <td>229</td>\n",
              "      <td>9</td>\n",
              "      <td>2.777778</td>\n",
              "      <td>23.444444</td>\n",
              "      <td>[0.873015873015873]</td>\n",
              "    </tr>\n",
              "    <tr>\n",
              "      <th>16</th>\n",
              "      <td>None</td>\n",
              "      <td>SubCommissioni.java</td>\n",
              "      <td>src</td>\n",
              "      <td>package interfacce;\\nimport java.awt.*;\\nimpor...</td>\n",
              "      <td>3657</td>\n",
              "      <td>7</td>\n",
              "      <td>121</td>\n",
              "      <td>7</td>\n",
              "      <td>1.000000</td>\n",
              "      <td>14.857143</td>\n",
              "      <td>[0.9428571428571428]</td>\n",
              "    </tr>\n",
              "    <tr>\n",
              "      <th>17</th>\n",
              "      <td>None</td>\n",
              "      <td>SubStanze.java</td>\n",
              "      <td>src</td>\n",
              "      <td>package interfacce;\\nimport java.awt.*;\\nimpor...</td>\n",
              "      <td>3374</td>\n",
              "      <td>7</td>\n",
              "      <td>121</td>\n",
              "      <td>7</td>\n",
              "      <td>1.000000</td>\n",
              "      <td>14.857143</td>\n",
              "      <td>[0.9428571428571428]</td>\n",
              "    </tr>\n",
              "    <tr>\n",
              "      <th>18</th>\n",
              "      <td>None</td>\n",
              "      <td>CancellaBeniServizi.java</td>\n",
              "      <td>src</td>\n",
              "      <td>package interfacce;\\nimport java.awt.*;\\nimpor...</td>\n",
              "      <td>8376</td>\n",
              "      <td>27</td>\n",
              "      <td>338</td>\n",
              "      <td>6</td>\n",
              "      <td>4.500000</td>\n",
              "      <td>54.000000</td>\n",
              "      <td>[0.8]</td>\n",
              "    </tr>\n",
              "    <tr>\n",
              "      <th>19</th>\n",
              "      <td>None</td>\n",
              "      <td>ServletShowTeachingDetails.java</td>\n",
              "      <td>src</td>\n",
              "      <td>package smos.application.teachingManagement;\\n...</td>\n",
              "      <td>3590</td>\n",
              "      <td>11</td>\n",
              "      <td>83</td>\n",
              "      <td>2</td>\n",
              "      <td>5.500000</td>\n",
              "      <td>32.500000</td>\n",
              "      <td>[2.0]</td>\n",
              "    </tr>\n",
              "    <tr>\n",
              "      <th>20</th>\n",
              "      <td>None</td>\n",
              "      <td>ServletLoadClassByAccademicYear.java</td>\n",
              "      <td>src</td>\n",
              "      <td>package smos.application.userManagement;\\n\\nim...</td>\n",
              "      <td>3985</td>\n",
              "      <td>11</td>\n",
              "      <td>85</td>\n",
              "      <td>2</td>\n",
              "      <td>5.500000</td>\n",
              "      <td>33.000000</td>\n",
              "      <td>[2.0]</td>\n",
              "    </tr>\n",
              "    <tr>\n",
              "      <th>21</th>\n",
              "      <td>None</td>\n",
              "      <td>SubSoggiorno.java</td>\n",
              "      <td>src</td>\n",
              "      <td>package interfacce;\\nimport java.awt.*;\\nimpor...</td>\n",
              "      <td>4406</td>\n",
              "      <td>11</td>\n",
              "      <td>158</td>\n",
              "      <td>10</td>\n",
              "      <td>1.100000</td>\n",
              "      <td>14.100000</td>\n",
              "      <td>[0.9]</td>\n",
              "    </tr>\n",
              "    <tr>\n",
              "      <th>22</th>\n",
              "      <td>None</td>\n",
              "      <td>MascheraPrenotazione.java</td>\n",
              "      <td>src</td>\n",
              "      <td>package interfacce;\\nimport java.awt.*;\\nimpor...</td>\n",
              "      <td>18136</td>\n",
              "      <td>47</td>\n",
              "      <td>394</td>\n",
              "      <td>9</td>\n",
              "      <td>5.222222</td>\n",
              "      <td>41.000000</td>\n",
              "      <td>[0.922077922077922]</td>\n",
              "    </tr>\n",
              "    <tr>\n",
              "      <th>23</th>\n",
              "      <td>None</td>\n",
              "      <td>VediCommissione.java</td>\n",
              "      <td>src</td>\n",
              "      <td>package interfacce;\\nimport java.awt.*;\\nimpor...</td>\n",
              "      <td>1311</td>\n",
              "      <td>2</td>\n",
              "      <td>50</td>\n",
              "      <td>2</td>\n",
              "      <td>1.000000</td>\n",
              "      <td>19.500000</td>\n",
              "      <td>[Undefined]</td>\n",
              "    </tr>\n",
              "    <tr>\n",
              "      <th>24</th>\n",
              "      <td>None</td>\n",
              "      <td>ServletShowAddressDetails.java</td>\n",
              "      <td>src</td>\n",
              "      <td>package smos.application.addressManagement;\\n\\...</td>\n",
              "      <td>3495</td>\n",
              "      <td>11</td>\n",
              "      <td>77</td>\n",
              "      <td>2</td>\n",
              "      <td>5.500000</td>\n",
              "      <td>29.500000</td>\n",
              "      <td>[2.0]</td>\n",
              "    </tr>\n",
              "    <tr>\n",
              "      <th>25</th>\n",
              "      <td>None</td>\n",
              "      <td>CancellaStanze.java</td>\n",
              "      <td>src</td>\n",
              "      <td>package interfacce;\\nimport java.awt.*;\\nimpor...</td>\n",
              "      <td>1502</td>\n",
              "      <td>6</td>\n",
              "      <td>70</td>\n",
              "      <td>4</td>\n",
              "      <td>1.500000</td>\n",
              "      <td>15.250000</td>\n",
              "      <td>[Undefined]</td>\n",
              "    </tr>\n",
              "    <tr>\n",
              "      <th>26</th>\n",
              "      <td>None</td>\n",
              "      <td>ServletShowUserClassroomForm.java</td>\n",
              "      <td>src</td>\n",
              "      <td>package smos.application.userManagement;\\n\\nim...</td>\n",
              "      <td>254</td>\n",
              "      <td>0</td>\n",
              "      <td>5</td>\n",
              "      <td>0</td>\n",
              "      <td>0.000000</td>\n",
              "      <td>0.000000</td>\n",
              "      <td>[0.0]</td>\n",
              "    </tr>\n",
              "    <tr>\n",
              "      <th>27</th>\n",
              "      <td>None</td>\n",
              "      <td>User.java</td>\n",
              "      <td>src</td>\n",
              "      <td>\\tpackage smos.bean;\\n\\nimport smos.exception....</td>\n",
              "      <td>3117</td>\n",
              "      <td>21</td>\n",
              "      <td>79</td>\n",
              "      <td>19</td>\n",
              "      <td>1.105263</td>\n",
              "      <td>3.421053</td>\n",
              "      <td>[0.9411764705882353]</td>\n",
              "    </tr>\n",
              "    <tr>\n",
              "      <th>28</th>\n",
              "      <td>None</td>\n",
              "      <td>ServletAddTeachingAsTeacher.java</td>\n",
              "      <td>src</td>\n",
              "      <td>package smos.application.userManagement;\\n\\nim...</td>\n",
              "      <td>4183</td>\n",
              "      <td>13</td>\n",
              "      <td>90</td>\n",
              "      <td>2</td>\n",
              "      <td>6.500000</td>\n",
              "      <td>36.000000</td>\n",
              "      <td>[2.0]</td>\n",
              "    </tr>\n",
              "    <tr>\n",
              "      <th>29</th>\n",
              "      <td>None</td>\n",
              "      <td>ServletShowClassroomManagement.java</td>\n",
              "      <td>src</td>\n",
              "      <td>package smos.application.registerManagement;\\n...</td>\n",
              "      <td>3460</td>\n",
              "      <td>10</td>\n",
              "      <td>76</td>\n",
              "      <td>2</td>\n",
              "      <td>5.000000</td>\n",
              "      <td>28.500000</td>\n",
              "      <td>[2.0]</td>\n",
              "    </tr>\n",
              "  </tbody>\n",
              "</table>\n",
              "</div>"
            ],
            "text/plain": [
              "   system                                        name ground_truth                                           contents  code_length  file_ccn  file_nloc  num_funcs  avg_func_ccn  avg_func_nloc            file_lcom5\n",
              "0    None                  ServletUpdateTeaching.java          src  package smos.application.teachingManagement;\\n...         4229        14        100          2      7.000000      40.000000                 [2.0]\n",
              "1    None                ServletLoadTeachingList.java          src  package smos.application.reportManagement;\\n\\n...         3958        10         91          2      5.000000      34.000000                 [2.0]\n",
              "2    None                        ServletLoadYear.java          src  package smos.application.userManagement;\\n\\nim...         3563        11         82          2      5.500000      32.000000                 [2.0]\n",
              "3    None                           DBConnection.java          src  /*\\n * DBConnection\\n *\\n */\\n\\npackage smos.s...         5966        15        114          5      3.000000      16.000000                 [1.5]\n",
              "4    None            ServletShowUserTeachingForm.java          src  package smos.application.userManagement;\\n\\nim...         4281        12         90          2      6.000000      33.000000                 [2.0]\n",
              "5    None                        RicercaAddebiti.java          src  package interfacce;\\nimport java.awt.*;\\nimpor...         6335        16        169          6      2.666667      24.666667            [0.828125]\n",
              "6    None                       VediPrenotazione.java          src  package interfacce;\\nimport java.awt.*;\\nimpor...          979         4         33          2      2.000000      10.000000           [Undefined]\n",
              "7    None  ServletShowTeacherTeachingFormByClass.java          src  package smos.application.userManagement;\\n\\nim...         4025        10         87          2      5.000000      33.000000                 [2.0]\n",
              "8    None          ServletRemoveStudentClassroom.java          src  package smos.application.userManagement;\\n\\nim...         4024        15         92          2      7.500000      34.500000           [Undefined]\n",
              "9    None                      ServletInsertUser.java          src  package smos.application.userManagement;\\n\\nim...         4780        16        103          2      8.000000      42.000000                 [2.0]\n",
              "10   None                                display.java          src  \\n\\n/****************** displaytag stylesheet ...         3147         0        142          0      0.000000       0.000000                    []\n",
              "11   None                 ServletShowAddressList.java          src  package smos.application.addressManagement;\\ni...         3414        10         74          2      5.000000      27.500000                 [2.0]\n",
              "12   None                 DeleteManagerException.java          src  package smos.exception;\\n\\nimport java.lang.Ex...          826         2         11          2      1.000000       3.000000                 [0.0]\n",
              "13   None                         ManagerAddress.java          src  package smos.storage;\\nimport smos.bean.Addres...        14627        42        290         16      2.625000      16.875000  [1.0476190476190477]\n",
              "14   None                   ServletInsertAddress.java          src  package smos.application.addressManagement;\\n\\...         4078        13         85          2      6.500000      32.500000                 [2.0]\n",
              "15   None                    MascheraCommissioni.java          src  package interfacce;\\nimport java.awt.*;\\nimpor...         9779        25        229          9      2.777778      23.444444   [0.873015873015873]\n",
              "16   None                         SubCommissioni.java          src  package interfacce;\\nimport java.awt.*;\\nimpor...         3657         7        121          7      1.000000      14.857143  [0.9428571428571428]\n",
              "17   None                              SubStanze.java          src  package interfacce;\\nimport java.awt.*;\\nimpor...         3374         7        121          7      1.000000      14.857143  [0.9428571428571428]\n",
              "18   None                    CancellaBeniServizi.java          src  package interfacce;\\nimport java.awt.*;\\nimpor...         8376        27        338          6      4.500000      54.000000                 [0.8]\n",
              "19   None             ServletShowTeachingDetails.java          src  package smos.application.teachingManagement;\\n...         3590        11         83          2      5.500000      32.500000                 [2.0]\n",
              "20   None        ServletLoadClassByAccademicYear.java          src  package smos.application.userManagement;\\n\\nim...         3985        11         85          2      5.500000      33.000000                 [2.0]\n",
              "21   None                           SubSoggiorno.java          src  package interfacce;\\nimport java.awt.*;\\nimpor...         4406        11        158         10      1.100000      14.100000                 [0.9]\n",
              "22   None                   MascheraPrenotazione.java          src  package interfacce;\\nimport java.awt.*;\\nimpor...        18136        47        394          9      5.222222      41.000000   [0.922077922077922]\n",
              "23   None                        VediCommissione.java          src  package interfacce;\\nimport java.awt.*;\\nimpor...         1311         2         50          2      1.000000      19.500000           [Undefined]\n",
              "24   None              ServletShowAddressDetails.java          src  package smos.application.addressManagement;\\n\\...         3495        11         77          2      5.500000      29.500000                 [2.0]\n",
              "25   None                         CancellaStanze.java          src  package interfacce;\\nimport java.awt.*;\\nimpor...         1502         6         70          4      1.500000      15.250000           [Undefined]\n",
              "26   None           ServletShowUserClassroomForm.java          src  package smos.application.userManagement;\\n\\nim...          254         0          5          0      0.000000       0.000000                 [0.0]\n",
              "27   None                                   User.java          src  \\tpackage smos.bean;\\n\\nimport smos.exception....         3117        21         79         19      1.105263       3.421053  [0.9411764705882353]\n",
              "28   None            ServletAddTeachingAsTeacher.java          src  package smos.application.userManagement;\\n\\nim...         4183        13         90          2      6.500000      36.000000                 [2.0]\n",
              "29   None         ServletShowClassroomManagement.java          src  package smos.application.registerManagement;\\n...         3460        10         76          2      5.000000      28.500000                 [2.0]"
            ]
          },
          "metadata": {
            "tags": []
          },
          "execution_count": 35
        }
      ]
    },
    {
      "cell_type": "code",
      "metadata": {
        "id": "oy8UDLApBEB5",
        "colab_type": "code",
        "colab": {}
      },
      "source": [
        "# pd.set_option('display.expand_frame_repr', False)\n",
        "# corpus_df"
      ],
      "execution_count": 0,
      "outputs": []
    },
    {
      "cell_type": "code",
      "metadata": {
        "id": "Z5_wYi7BBEIf",
        "colab_type": "code",
        "colab": {}
      },
      "source": [
        ""
      ],
      "execution_count": 0,
      "outputs": []
    },
    {
      "cell_type": "code",
      "metadata": {
        "id": "IrjHDBhuBEP4",
        "colab_type": "code",
        "colab": {}
      },
      "source": [
        ""
      ],
      "execution_count": 0,
      "outputs": []
    },
    {
      "cell_type": "code",
      "metadata": {
        "id": "dSQu6S_-BEYk",
        "colab_type": "code",
        "colab": {}
      },
      "source": [
        ""
      ],
      "execution_count": 0,
      "outputs": []
    },
    {
      "cell_type": "code",
      "metadata": {
        "id": "izARMcDcmn_3",
        "colab_type": "code",
        "colab": {}
      },
      "source": [
        ""
      ],
      "execution_count": 0,
      "outputs": []
    },
    {
      "cell_type": "code",
      "metadata": {
        "id": "sdnqg6xumoHW",
        "colab_type": "code",
        "colab": {}
      },
      "source": [
        ""
      ],
      "execution_count": 0,
      "outputs": []
    },
    {
      "cell_type": "code",
      "metadata": {
        "id": "hHCznRPSBEqO",
        "colab_type": "code",
        "colab": {}
      },
      "source": [
        "# https://github.com/priv-kweihmann/multimetric\n",
        "# The above link is another possible tool to easily calculate code metrics for various languages"
      ],
      "execution_count": 0,
      "outputs": []
    },
    {
      "cell_type": "code",
      "metadata": {
        "id": "_OpoQ2JFBEWo",
        "colab_type": "code",
        "colab": {}
      },
      "source": [
        "# https://books.google.com/books?id=DxuGi5h2-HEC&pg=PA140&lpg=PA140&dq=do+header+files+in+c+have+a+cyclomatic+complexity&source=bl&ots=0WxxjeX9rR&sig=ACfU3U1QnoKnwrsj4YbSQxATeaoYMvBWwg&hl=en&sa=X&ved=2ahUKEwijtqKxhJXoAhUSXa0KHctQD38Q6AEwAnoECAkQAQ#v=onepage&q=do%20header%20files%20in%20c%20have%20a%20cyclomatic%20complexity&f=false\n",
        "# The abover link goes to an article discussing cyclomatic complexity and c header files"
      ],
      "execution_count": 0,
      "outputs": []
    },
    {
      "cell_type": "code",
      "metadata": {
        "id": "TLOHxFDOmork",
        "colab_type": "code",
        "colab": {}
      },
      "source": [
        "# http://site.iugaza.edu.ps/mroos/files/Software-Metrics1.pdf\n",
        "# The above link is a pdf that explains every LCOM metric"
      ],
      "execution_count": 0,
      "outputs": []
    },
    {
      "cell_type": "code",
      "metadata": {
        "id": "5EnDIeUJmoxW",
        "colab_type": "code",
        "colab": {}
      },
      "source": [
        "# https://hal.inria.fr/hal-00646878/file/Duca11b-Cutter-deliverable11-SoftwareMetrics.pdf\n",
        "# Another good article about the cohesion metrics among others"
      ],
      "execution_count": 0,
      "outputs": []
    },
    {
      "cell_type": "code",
      "metadata": {
        "id": "Rv5IN2Q9mo3H",
        "colab_type": "code",
        "colab": {}
      },
      "source": [
        ""
      ],
      "execution_count": 0,
      "outputs": []
    },
    {
      "cell_type": "code",
      "metadata": {
        "id": "NuGNaoUgmo8f",
        "colab_type": "code",
        "colab": {}
      },
      "source": [
        ""
      ],
      "execution_count": 0,
      "outputs": []
    },
    {
      "cell_type": "code",
      "metadata": {
        "id": "f6F-82LFmpBA",
        "colab_type": "code",
        "colab": {}
      },
      "source": [
        ""
      ],
      "execution_count": 0,
      "outputs": []
    },
    {
      "cell_type": "code",
      "metadata": {
        "id": "mTxQhe4impGQ",
        "colab_type": "code",
        "colab": {}
      },
      "source": [
        ""
      ],
      "execution_count": 0,
      "outputs": []
    },
    {
      "cell_type": "code",
      "metadata": {
        "id": "k6Cwsj3dmpLs",
        "colab_type": "code",
        "colab": {}
      },
      "source": [
        ""
      ],
      "execution_count": 0,
      "outputs": []
    },
    {
      "cell_type": "code",
      "metadata": {
        "id": "TdKF-cJnaUB_",
        "colab_type": "code",
        "colab": {}
      },
      "source": [
        ""
      ],
      "execution_count": 0,
      "outputs": []
    },
    {
      "cell_type": "code",
      "metadata": {
        "id": "R6aCrEY3aUPi",
        "colab_type": "code",
        "colab": {}
      },
      "source": [
        ""
      ],
      "execution_count": 0,
      "outputs": []
    },
    {
      "cell_type": "code",
      "metadata": {
        "id": "PbzE_DalaUbw",
        "colab_type": "code",
        "colab": {}
      },
      "source": [
        ""
      ],
      "execution_count": 0,
      "outputs": []
    },
    {
      "cell_type": "code",
      "metadata": {
        "id": "ElseMaJhmpRL",
        "colab_type": "code",
        "colab": {}
      },
      "source": [
        ""
      ],
      "execution_count": 0,
      "outputs": []
    },
    {
      "cell_type": "markdown",
      "metadata": {
        "id": "JR2EHr85BBNG",
        "colab_type": "text"
      },
      "source": [
        "# Scratch Code (Testing)"
      ]
    },
    {
      "cell_type": "code",
      "metadata": {
        "id": "RDkWI0hVnbTC",
        "colab_type": "code",
        "colab": {
          "base_uri": "https://localhost:8080/",
          "height": 34
        },
        "outputId": "d427ed92-10ad-4a31-f590-2e7f32957a32"
      },
      "source": [
        "thing_class = \"\"\"class OtherClass:\n",
        "    def __init__(self, name):\n",
        "        self.name = name\n",
        "\n",
        "    def complex_func(self):\n",
        "        if 1 > 3:\n",
        "            print(\"HEYO\")\n",
        "        else:\n",
        "            if 3 > 7:\n",
        "                print(\"wow\")\n",
        "            elif 4 == 5:\n",
        "                print(\"2\")\n",
        "            elif 5 == 5:\n",
        "                print(\"3\")\n",
        "        return \"return\"\n",
        "\n",
        "    def ref_func(self):\n",
        "        self.name = \"Wils\"\n",
        "\"\"\"\n",
        "print(len(thing_class))"
      ],
      "execution_count": 11,
      "outputs": [
        {
          "output_type": "stream",
          "text": [
            "391\n"
          ],
          "name": "stdout"
        }
      ]
    },
    {
      "cell_type": "code",
      "metadata": {
        "id": "rvNxwtRCm4r8",
        "colab_type": "code",
        "colab": {}
      },
      "source": [
        "DATA = lizard.analyze_file.analyze_source_code(\"thing.py\", thing_class)"
      ],
      "execution_count": 0,
      "outputs": []
    },
    {
      "cell_type": "code",
      "metadata": {
        "id": "b3kwPz-mnseh",
        "colab_type": "code",
        "colab": {
          "base_uri": "https://localhost:8080/",
          "height": 122
        },
        "outputId": "36bac0b8-52f7-4b9c-f618-c63f4c17e409"
      },
      "source": [
        "print(DATA.__dict__)\n",
        "print(DATA.CCN)\n",
        "for i in range(len(DATA.function_list)):\n",
        "    print(DATA.function_list[i].__dict__)"
      ],
      "execution_count": 10,
      "outputs": [
        {
          "output_type": "stream",
          "text": [
            "{'filename': 'thing.py', 'nloc': 16, 'function_list': [<lizard.FunctionInfo object at 0x7fe679880f60>, <lizard.FunctionInfo object at 0x7fe679880fd0>, <lizard.FunctionInfo object at 0x7fe67983e080>], 'token_count': 73}\n",
            "7\n",
            "{'cyclomatic_complexity': 1, 'nloc': 2, 'token_count': 12, 'name': '__init__', 'long_name': '__init__( self , name )', 'start_line': 2, 'end_line': 3, 'parameters': ['self', 'name'], 'filename': 'thing.py', 'top_nesting_level': 1, 'length': 2, 'fan_in': 0, 'fan_out': 0, 'general_fan_out': 0}\n",
            "{'cyclomatic_complexity': 5, 'nloc': 11, 'token_count': 45, 'name': 'complex_func', 'long_name': 'complex_func( self )', 'start_line': 5, 'end_line': 15, 'parameters': ['self'], 'filename': 'thing.py', 'top_nesting_level': 1, 'length': 11, 'fan_in': 0, 'fan_out': 0, 'general_fan_out': 0}\n",
            "{'cyclomatic_complexity': 1, 'nloc': 2, 'token_count': 10, 'name': 'ref_func', 'long_name': 'ref_func( self )', 'start_line': 17, 'end_line': 18, 'parameters': ['self'], 'filename': 'thing.py', 'top_nesting_level': 1, 'length': 2, 'fan_in': 0, 'fan_out': 0, 'general_fan_out': 0}\n"
          ],
          "name": "stdout"
        }
      ]
    },
    {
      "cell_type": "code",
      "metadata": {
        "id": "J1U4mA1Hm5Al",
        "colab_type": "code",
        "colab": {}
      },
      "source": [
        ""
      ],
      "execution_count": 0,
      "outputs": []
    },
    {
      "cell_type": "code",
      "metadata": {
        "id": "vYWGBNRXmsD3",
        "colab_type": "code",
        "outputId": "a033a638-d7a3-41cc-c4d3-021d7c17bc4d",
        "colab": {
          "base_uri": "https://localhost:8080/",
          "height": 34
        }
      },
      "source": [
        "def test():\n",
        "    a = 1\n",
        "\n",
        "l = []\n",
        "l.append(test())\n",
        "print(l)"
      ],
      "execution_count": 0,
      "outputs": [
        {
          "output_type": "stream",
          "text": [
            "[None]\n"
          ],
          "name": "stdout"
        }
      ]
    },
    {
      "cell_type": "code",
      "metadata": {
        "id": "sI3z463_mtSm",
        "colab_type": "code",
        "colab": {}
      },
      "source": [
        "Language.build_library(\n",
        "    # Store the library in the `build` directory\n",
        "    'build/my-languages.so',\n",
        "\n",
        "    # Include one or more languages\n",
        "    [\n",
        "        'tree-sitter-c',\n",
        "        # 'tree-sitter-cpp',\n",
        "        'tree-sitter-java',\n",
        "        # 'tree-sitter-javascript',\n",
        "        # 'tree-sitter-python'\n",
        "    ]\n",
        ")\n",
        "\n",
        "C_LANGUAGE = Language('build/my-languages.so', 'c')\n",
        "# CPP_LANGUAGE = Language('build/my-languages.so', 'cpp')\n",
        "JAVA_LANGUAGE = Language('build/my-languages.so', 'java')\n",
        "# JS_LANGUAGE = Language('build/my-languages.so', 'javascript')\n",
        "# PY_LANGUAGE = Language('build/my-languages.so', 'python')\n",
        "\n",
        "lang_builds = {'c':C_LANGUAGE, 'java':JAVA_LANGUAGE}\n",
        "\n",
        "parser = Parser()\n",
        "ext = 'java'\n",
        "parser.set_language(lang_builds[ext])\n",
        "test_df = simulate_getting_dataframes_from_mongo()\n",
        "tree = parser.parse(bytes(test_df[\"contents\"][0], \"utf8\"))"
      ],
      "execution_count": 0,
      "outputs": []
    },
    {
      "cell_type": "code",
      "metadata": {
        "id": "fVEzMgUfrQDm",
        "colab_type": "code",
        "colab": {}
      },
      "source": [
        "# root_node = tree.root_node\n",
        "# text = test_df[\"contents\"][0]\n",
        "# for a in range(len(root_node.children)):\n",
        "#     if root_node.children[a].type == \"class_declaration\":\n",
        "#         class_dec = root_node.children[a]\n",
        "#         for b in range(len(class_dec.children)):\n",
        "#             if class_dec.children[b].type == \"class_body\":\n",
        "#                 class_body = class_dec.children[b]\n",
        "#                 for c in range(len(class_body.children)):\n",
        "#                     if class_body.children[c].type == \"field_declaration\":\n",
        "#                         field_dec = class_body.children[c]\n",
        "#                         for d in range(len(field_dec.children)):\n",
        "#                             if field_dec.children[d].type == \"variable_declarator\":\n",
        "#                                 # word = \"\"\n",
        "#                                 # for i in range(var_dec.children[e].start_byte, var_dec.children[d].end_byte):\n",
        "#                                 #     word += text[i]\n",
        "#                                 # print(word)\n",
        "#                                 var_dec = field_dec.children[d]\n",
        "#                                 for e in range(len(var_dec.children)):\n",
        "#                                     if var_dec.children[e].type == \"identifier\":\n",
        "#                                         word = \"\"\n",
        "#                                         for i in range(var_dec.children[e].start_byte, var_dec.children[e].end_byte):\n",
        "#                                             word += text[i]\n",
        "#                                         print(word)\n",
        "# print(\"NOW PRINTING TEXT\")\n",
        "# print(\"NOW PRINTING TEXT\")\n",
        "# print(\"NOW PRINTING TEXT\")\n",
        "# print(\"NOW PRINTING TEXT\")\n",
        "# print(\"NOW PRINTING TEXT\")\n",
        "# print(\"NOW PRINTING TEXT\")\n",
        "# print(\"NOW PRINTING TEXT\")\n",
        "# print(\"NOW PRINTING TEXT\")\n",
        "# print(\"NOW PRINTING TEXT\")\n",
        "# print(\"NOW PRINTING TEXT\")\n",
        "# print(\"NOW PRINTING TEXT\")\n",
        "# print(\"NOW PRINTING TEXT\")\n",
        "# print(text)"
      ],
      "execution_count": 0,
      "outputs": []
    },
    {
      "cell_type": "code",
      "metadata": {
        "id": "2z9K1nYHrtg2",
        "colab_type": "code",
        "outputId": "7bd6809a-c6e2-4218-a316-ef9db199e0cb",
        "colab": {
          "base_uri": "https://localhost:8080/",
          "height": 1000
        }
      },
      "source": [
        "print(test_df[\"contents\"][0])"
      ],
      "execution_count": 0,
      "outputs": [
        {
          "output_type": "stream",
          "text": [
            "package interfacce;\n",
            "import java.awt.*;\n",
            "import java.awt.event.*;\n",
            "import common.utility.*;\n",
            "import common.def.*;\n",
            "import java.util.Date;\n",
            "import moduli.*;\n",
            "\n",
            "public class RicercaAddebiti extends Frame \n",
            "{  \n",
            "    \n",
            "    //Dichiarazioni di variabili\n",
            "    Panel panel1, panel2, panel3;\n",
            "    Label  etichetta1, label1, label3;\n",
            "    List lista;\n",
            "    Button  Annulla, Cerca;\n",
            "    TextField stanza;\n",
            "    GridBagLayout gridbag = new GridBagLayout();\n",
            "\tFrame padre = new Frame();\n",
            "    Frame figlio;\n",
            "    ListaAddebiti L;\n",
            "    Addebito add;\n",
            "    float totale_add;\n",
            "    \n",
            "    public RicercaAddebiti(Frame p)\n",
            "    {\n",
            "        super(\"Ricerca degli addebiti\");\n",
            "        padre = p;\n",
            "        padre.setEnabled(false);\n",
            "        setupPanels();\n",
            "        init();\n",
            "        pack();\n",
            "        setVisible(true); \n",
            "    }\n",
            "                     \n",
            "        void setupPanels()\n",
            "        {  \n",
            "\t\t\tthis.setFont(ConfigurazioneSistema.font_base);\n",
            "            //Creo due pulsanti  \n",
            "            Annulla = new Button(\" Fine  \");\n",
            "            Cerca = new Button(\" Cerca \");\n",
            "\n",
            "            //Creo le etichette\n",
            "            etichetta1 = new Label (\"Inserire la stanza addebitata                         \");\n",
            "            etichetta1.setFont(ConfigurazioneSistema.font_titolo);\n",
            "            label1 = new Label(\"Numero Stanza   \");\n",
            "\t\t\tlabel3 = new Label(\"Risultato della ricerca\");\n",
            "\t\t\tlabel3.setFont(ConfigurazioneSistema.font_titolo);\n",
            "            \n",
            "            //Creo i TextField e ne rendo  alcuni non editabili\n",
            "            stanza = new TextField(\"\", 4);\n",
            "\t\t\t\n",
            "            //Creo il pannello in alto per inserimento dei dati del cliente\n",
            "            panel1 = new Panel();\n",
            "            panel1.setLayout(gridbag);\n",
            "            Utils.constrain(panel1, etichetta1, 0, 0, 2, 1, GridBagConstraints.NONE,\n",
            "                        GridBagConstraints.NORTHWEST, 0.0, 0.0, 0, 0, 0, 0);\n",
            "            Utils.constrain(panel1, label1, 0, 1, 1, 1, GridBagConstraints.NONE,\n",
            "                        GridBagConstraints.NORTHWEST, 0.0, 0.0, 0, 0, 0, 0);\n",
            "            Utils.constrain(panel1, stanza, 1, 1, 1, 1, GridBagConstraints.NONE,\n",
            "                        GridBagConstraints.NORTHWEST, 0.0, 0.0, 0, 0, 0, 0);\n",
            "           \n",
            "            //Creo il pannello in basso con due pulsanti                  \n",
            "            panel2 = new Panel();\n",
            "            panel2.setLayout(gridbag);\n",
            "            Utils.constrain(panel2, Annulla, 0, 0, 1, 1, GridBagConstraints.NONE,\n",
            "                        GridBagConstraints.CENTER, 0.0, 0.0, 5, 5, 5, 5);\n",
            "            Utils.constrain(panel2, Cerca, 1, 0, 1, 1, GridBagConstraints.NONE,\n",
            "                        GridBagConstraints.CENTER, 0.0, 0.0, 5, 5, 5, 5);             \n",
            "            \n",
            "            //Creo il pannello con la lista dei risultati della ricerca\n",
            "            lista = new List(10,false);\n",
            "            lista.setFont(ConfigurazioneSistema.font_allineato);\n",
            "            panel3 = new Panel();\n",
            "            panel3.setLayout(gridbag);\n",
            "            Utils.constrain(panel3, label3, 0, 0, 2, 1, GridBagConstraints.NONE,\n",
            "                        GridBagConstraints.WEST, 1.0, 0.0, 0, 0, 0, 0);\n",
            "            Utils.constrain(panel3, lista, 0, 1, 4, 3, GridBagConstraints.BOTH,\n",
            "                        GridBagConstraints.CENTER, 3.0, 3.0, 0, 0, 0, 0);             \n",
            "            \n",
            "            \n",
            "            //Attacco i pannelli al frame\n",
            "            this.setLayout(gridbag);\n",
            "            Utils.constrain(this, panel1, 0, 1, 4, 2, GridBagConstraints.HORIZONTAL,\n",
            "                        GridBagConstraints.WEST, 1.0, 0.0, 5, 5, 5, 5);\n",
            "            Utils.constrain(this, panel2, 0, 14, 4, 1, GridBagConstraints.HORIZONTAL,\n",
            "                        GridBagConstraints.WEST, 1.0, 0.0, 5, 5, 5, 5); \n",
            "        \tUtils.constrain(this, panel3, 0, 15, 4, 1, GridBagConstraints.HORIZONTAL,\n",
            "                        GridBagConstraints.WEST, 1.0, 0.0, 5, 5, 5, 5); \n",
            "        \tpanel3.setVisible(false);\n",
            "        \tpack();\n",
            "        \n",
            "        }\n",
            "\n",
            "    public void init()\n",
            "    {\n",
            "\t\tlista.addActionListener(new ActionListener()\n",
            "      \t{\n",
            "         \tpublic void actionPerformed(ActionEvent e)\n",
            "         \t{\n",
            "\t\t\t\tif (lista.getSelectedIndex() < (lista.getItemCount()-1))\n",
            "\t\t\t\t{\n",
            "\t\t\t\t\tadd = L.getAddebito((lista.getSelectedIndexes())[0]+1);\n",
            "\t\t\t\t\tstartVediAddebito(add);\n",
            "\t\t\t\t}\n",
            "\t\t\t}\n",
            "      \t});\n",
            " \n",
            "\n",
            "\t\t\n",
            "\tstanza.addActionListener(new ActionListener()\n",
            "\t{\n",
            "\t\tpublic void actionPerformed(ActionEvent e)\n",
            "\t\t{\n",
            "\t\t\tif (noErrors())\n",
            "\t\t\t\tcreaLista();\n",
            "\t\t}\t\t\t      \t\n",
            "\t});\n",
            "\t\n",
            "    Cerca.addActionListener(new ActionListener()\n",
            "      \t{\n",
            "         \tpublic void actionPerformed(ActionEvent e)\n",
            "         \t{\n",
            "\t\t\t\tif (noErrors())\n",
            "\t\t\t\t\tcreaLista();\n",
            "\t\t\t}\t\n",
            "      \t});\n",
            "      \n",
            "  \tAnnulla.addActionListener(new ActionListener()\n",
            "      \t{\n",
            "         \tpublic void actionPerformed(ActionEvent e)\n",
            "         \t{\n",
            "\t\t\t\tdispose();\n",
            "\t\t\t\tpadre.setEnabled(true);\n",
            "\t\t\t}\n",
            "      \t});    \t\n",
            "    } \n",
            "\n",
            "\tvoid startVediAddebito(Addebito add)\n",
            "\t{\n",
            "\t\tfiglio = new VediAddebito(this, add, totale_add); \n",
            "\t}\t\n",
            "\t\n",
            "\t\n",
            "\tpublic void creaLista()\n",
            "\t{\n",
            "\t\tFrame msg;\n",
            "\t\tBeneServizio extra;\n",
            "\t\tAddebito addebito;\n",
            "\t\tString desc = new String();\n",
            "\t\ttotale_add = 0;\n",
            "\t\t\n",
            "\t\tL = (Principale.db).foundAddebiti(stanza.getText());\n",
            "\t\tif (L != null)\n",
            "\t\t{\n",
            "\t\t\tif (!L.isEmpty())\n",
            "\t\t\t{\n",
            "\t\t\t\tif (lista.getItemCount() > 0)\n",
            "\t\t\t\t\tlista.removeAll();\n",
            "\t\t\t\tpanel3.setVisible(true);\n",
            "\t\t\t\tpack();\n",
            "\t\t\t\tfor(int i = 1; i<=L.length(); i++)\n",
            "\t\t\t\t{\t\n",
            "\t\t\t\t\taddebito = L.getAddebito(i);\n",
            "\t\t\t\t\textra = (Principale.db).readBeneServizio(addebito.getCodExtra());\n",
            "\t\t\t\t\tif (extra != null)\n",
            "\t\t\t\t\t\tlista.addItem(\"DESCRIZIONE:\"+Utils.completaStringa(extra.getDescrizione(), 10)+\n",
            "\t\t\t\t\t\t\t\t\t  \" QUANTITA':\"+Utils.completaStringa((\"\"+addebito.getQuantita()), 2)+\n",
            "\t\t\t\t\t\t\t\t\t  \" TOTALE ADDEBITO:\"+\n",
            "\t\t\t\t\t\t\t\t\t  (Principale.config).getValuta()+\".\"+\n",
            "\t\t\t\t\t\t\t\t\t  addebito.getTotAddebito());\t\n",
            "\t\t\t\t\ttotale_add += addebito.getTotAddebito();\n",
            "\t\t\t\t}\n",
            "\t\t\t\tlista.addItem(\"L'ADDEBITO TOTALE DELLA STANZA \"+stanza.getText()+\" E' DI \"+\n",
            "\t\t\t\t\t\t\t\t(Principale.config).getValuta()+\".\"+totale_add);\n",
            "\t\t\t}\n",
            "\t\t\telse\n",
            "\t\t\t\tmsg = new AvvisoDialog(this, \" Nessun addebitato trovato. \");\n",
            "\t\t}\n",
            "\t\telse\n",
            "\t\t\tmsg = new MessageDialog(this, \" Problemi con il database! \");\n",
            "\t}\t\t\t\n",
            "\n",
            "\tboolean noErrors()\n",
            "\t{\n",
            "\t\tFrame msg;\n",
            "\t\t//Disponibilita disp = new Disponibilita();\n",
            "\t\tif ((stanza.getText().equals(\"\")) ) \n",
            "\t\t{\n",
            "\t\t\tmsg = new AvvisoDialog(this,\"Inserire il numero della stanza\");\n",
            "\t\t\treturn false;\n",
            "\t\t}\n",
            "\t\telse\n",
            "\t\t\tif( (Principale.db).readStanza(stanza.getText()) == null )\n",
            "\t\t\t{\n",
            "\t\t\t\tmsg = new MessageDialog(this,\"La stanza inserita e' inesistente!\");\n",
            "\t\t\t\treturn false;\n",
            "\t\t\t}\n",
            "\t\treturn true;\t\n",
            "\t}\n",
            "}\n",
            "\n"
          ],
          "name": "stdout"
        }
      ]
    },
    {
      "cell_type": "code",
      "metadata": {
        "id": "1DXIFc2wkTMZ",
        "colab_type": "code",
        "outputId": "419ee5b2-4c19-49a4-c49f-5a1f9e1be24a",
        "colab": {
          "base_uri": "https://localhost:8080/",
          "height": 102
        }
      },
      "source": [
        "\n",
        "def find_string_in_file(node, pattern, text):\n",
        "    if len(node.children) > 0:\n",
        "        count = 0\n",
        "        for i in node.children:\n",
        "            count += find_string_in_file(i, pattern, text)\n",
        "        return count\n",
        "    else:\n",
        "        word = \"\"\n",
        "        for i in range(node.start_byte, node.end_byte):\n",
        "            # print(text[i], end=\"\")\n",
        "            word += text[i]\n",
        "        # print()\n",
        "        if word == pattern:\n",
        "            print(f\"Found. Start byte: {node.start_point}, end byte: {node.end_point}\")\n",
        "            return 1\n",
        "        else:\n",
        "            return 0\n",
        "node = tree.root_node\n",
        "num_found = find_string_in_file(node, \"p\", test_df[\"contents\"][1])\n",
        "print(num_found)"
      ],
      "execution_count": 0,
      "outputs": [
        {
          "output_type": "stream",
          "text": [
            "Found. Start byte: (10, 14), end byte: (10, 15)\n",
            "Found. Start byte: (17, 8), end byte: (17, 9)\n",
            "Found. Start byte: (26, 19), end byte: (26, 20)\n",
            "Found. Start byte: (33, 69), end byte: (33, 70)\n",
            "4\n"
          ],
          "name": "stdout"
        }
      ]
    },
    {
      "cell_type": "code",
      "metadata": {
        "id": "h9i6U50-n_8p",
        "colab_type": "code",
        "outputId": "6025427b-bb5d-4c65-f397-8f3e71d1db13",
        "colab": {
          "base_uri": "https://localhost:8080/",
          "height": 96
        }
      },
      "source": [
        "query = JAVA_LANGUAGE.query(\"\"\"\n",
        "(binary_expression\n",
        "    left: (\"etichetta\")\n",
        "\"\"\")\n",
        "\n",
        "captures = query.captures(tree.root_node)"
      ],
      "execution_count": 0,
      "outputs": [
        {
          "output_type": "error",
          "ename": "SyntaxError",
          "evalue": "ignored",
          "traceback": [
            "\u001b[0;36m  File \u001b[0;32m\"<string>\"\u001b[0;36m, line \u001b[0;32munknown\u001b[0m\n\u001b[0;31mSyntaxError\u001b[0m\u001b[0;31m:\u001b[0m Invalid syntax at offset 31\n"
          ]
        }
      ]
    },
    {
      "cell_type": "code",
      "metadata": {
        "id": "3Fe9_j8roY_P",
        "colab_type": "code",
        "colab": {}
      },
      "source": [
        "assert len(captures) == 2\n",
        "assert captures[0][0] == function_name_node\n",
        "assert captures[0][1] == \"function.def\""
      ],
      "execution_count": 0,
      "outputs": []
    },
    {
      "cell_type": "code",
      "metadata": {
        "id": "Y13lf9JgmtAo",
        "colab_type": "code",
        "outputId": "346b8876-5c44-4ca7-f4f1-0d32f0875cd0",
        "colab": {
          "base_uri": "https://localhost:8080/",
          "height": 51
        }
      },
      "source": [
        "cursor = tree.walk()\n",
        "print(cursor.node.type)\n",
        "cursor.goto_next_sibling\n",
        "cursor"
      ],
      "execution_count": 0,
      "outputs": [
        {
          "output_type": "stream",
          "text": [
            "program\n"
          ],
          "name": "stdout"
        },
        {
          "output_type": "execute_result",
          "data": {
            "text/plain": [
              "<tree_sitter.TreeCursor at 0x7fb7cefaa840>"
            ]
          },
          "metadata": {
            "tags": []
          },
          "execution_count": 55
        }
      ]
    },
    {
      "cell_type": "code",
      "metadata": {
        "id": "tcRvzOqMmsxh",
        "colab_type": "code",
        "outputId": "722120b1-0a16-4196-bd55-f4a174a1bdb6",
        "colab": {
          "base_uri": "https://localhost:8080/",
          "height": 34
        }
      },
      "source": [
        "print(cursor.node.type)\n",
        "print(cursor.goto_first_child)"
      ],
      "execution_count": 0,
      "outputs": [
        {
          "output_type": "stream",
          "text": [
            "program\n"
          ],
          "name": "stdout"
        }
      ]
    },
    {
      "cell_type": "code",
      "metadata": {
        "id": "Zes3rth5msta",
        "colab_type": "code",
        "colab": {}
      },
      "source": [
        ""
      ],
      "execution_count": 0,
      "outputs": []
    },
    {
      "cell_type": "code",
      "metadata": {
        "id": "Z9085tHzmsfH",
        "colab_type": "code",
        "colab": {}
      },
      "source": [
        ""
      ],
      "execution_count": 0,
      "outputs": []
    },
    {
      "cell_type": "code",
      "metadata": {
        "id": "JnJ8LLlsmsQ6",
        "colab_type": "code",
        "colab": {}
      },
      "source": [
        ""
      ],
      "execution_count": 0,
      "outputs": []
    },
    {
      "cell_type": "code",
      "metadata": {
        "id": "RiN7ZZdDF3TB",
        "colab_type": "code",
        "outputId": "2cbb99a2-8ebb-4815-eca2-638c85e8977e",
        "colab": {
          "base_uri": "https://localhost:8080/",
          "height": 412
        }
      },
      "source": [
        "!pip install multimetric"
      ],
      "execution_count": 0,
      "outputs": [
        {
          "output_type": "stream",
          "text": [
            "Collecting multimetric\n",
            "  Downloading https://files.pythonhosted.org/packages/25/2b/8aaad12a46c58102cf7cb0861031cc2cf4e620fc9fd941616713a434f4e0/multimetric-1.1.3.tar.gz\n",
            "Requirement already satisfied: chardet>=3.0.0 in /usr/local/lib/python3.6/dist-packages (from multimetric) (3.0.4)\n",
            "Collecting pygments>=2.5.0\n",
            "\u001b[?25l  Downloading https://files.pythonhosted.org/packages/2d/68/106af3ae51daf807e9cdcba6a90e518954eb8b70341cee52995540a53ead/Pygments-2.6.1-py3-none-any.whl (914kB)\n",
            "\u001b[K     |████████████████████████████████| 921kB 6.8MB/s \n",
            "\u001b[?25hBuilding wheels for collected packages: multimetric\n",
            "  Building wheel for multimetric (setup.py) ... \u001b[?25l\u001b[?25hdone\n",
            "  Created wheel for multimetric: filename=multimetric-1.1.3-cp36-none-any.whl size=20170 sha256=0d755e6c6634a50c74264bff0a29dab99642f5051bf7c6ad1c2d3d637a2b1403\n",
            "  Stored in directory: /root/.cache/pip/wheels/6d/c7/81/52b4323f26674931ea81e0d7589a71081e05e88426004c5331\n",
            "Successfully built multimetric\n",
            "\u001b[31mERROR: datascience 0.10.6 has requirement folium==0.2.1, but you'll have folium 0.8.3 which is incompatible.\u001b[0m\n",
            "Installing collected packages: pygments, multimetric\n",
            "  Found existing installation: Pygments 2.1.3\n",
            "    Uninstalling Pygments-2.1.3:\n",
            "      Successfully uninstalled Pygments-2.1.3\n",
            "Successfully installed multimetric-1.1.3 pygments-2.6.1\n"
          ],
          "name": "stdout"
        },
        {
          "output_type": "display_data",
          "data": {
            "application/vnd.colab-display-data+json": {
              "pip_warning": {
                "packages": [
                  "pygments"
                ]
              }
            }
          },
          "metadata": {
            "tags": []
          }
        }
      ]
    },
    {
      "cell_type": "code",
      "metadata": {
        "id": "y8DxIIifF3ju",
        "colab_type": "code",
        "colab": {}
      },
      "source": [
        "import multimetric"
      ],
      "execution_count": 0,
      "outputs": []
    },
    {
      "cell_type": "code",
      "metadata": {
        "id": "upwV4nMdF4nq",
        "colab_type": "code",
        "colab": {}
      },
      "source": [
        "multimetric.rea"
      ],
      "execution_count": 0,
      "outputs": []
    },
    {
      "cell_type": "code",
      "metadata": {
        "id": "Cr6Hp3cSF4jp",
        "colab_type": "code",
        "colab": {}
      },
      "source": [
        ""
      ],
      "execution_count": 0,
      "outputs": []
    },
    {
      "cell_type": "code",
      "metadata": {
        "id": "TmtLr2YFF4Np",
        "colab_type": "code",
        "colab": {}
      },
      "source": [
        ""
      ],
      "execution_count": 0,
      "outputs": []
    },
    {
      "cell_type": "code",
      "metadata": {
        "id": "oiKKeTCcF4Kg",
        "colab_type": "code",
        "colab": {}
      },
      "source": [
        "if 0:\n",
        "    print(\"Hey\")"
      ],
      "execution_count": 0,
      "outputs": []
    },
    {
      "cell_type": "code",
      "metadata": {
        "id": "KnzLcjMMF31L",
        "colab_type": "code",
        "colab": {}
      },
      "source": [
        ""
      ],
      "execution_count": 0,
      "outputs": []
    },
    {
      "cell_type": "code",
      "metadata": {
        "id": "O4ECQmLtF3yE",
        "colab_type": "code",
        "colab": {}
      },
      "source": [
        ""
      ],
      "execution_count": 0,
      "outputs": []
    },
    {
      "cell_type": "code",
      "metadata": {
        "id": "hoddzqvt4wnY",
        "colab_type": "code",
        "outputId": "672b15e5-c2e9-4bb0-ba44-e500c3976d4c",
        "colab": {
          "base_uri": "https://localhost:8080/",
          "height": 34
        }
      },
      "source": [
        "print(round(1236721.8237468732, 3))"
      ],
      "execution_count": 0,
      "outputs": [
        {
          "output_type": "stream",
          "text": [
            "1236721.824\n"
          ],
          "name": "stdout"
        }
      ]
    },
    {
      "cell_type": "code",
      "metadata": {
        "id": "XQe5TlTT5W2_",
        "colab_type": "code",
        "colab": {}
      },
      "source": [
        "!pip install lizard"
      ],
      "execution_count": 0,
      "outputs": []
    },
    {
      "cell_type": "code",
      "metadata": {
        "id": "EDaHWDYZAFkM",
        "colab_type": "code",
        "colab": {}
      },
      "source": [
        "import subprocess\n",
        "import json\n",
        "def add_lizard_mccabe_metrics(df, col):\n",
        "    mccabe = []\n",
        "    sloc = []\n",
        "    comments = []\n",
        "    ratio = []\n",
        "    for i in range(len(df)):\n",
        "        if i == 99:\n",
        "            print(\"At file #100\", end=\"\")\n",
        "        if ((i + 1) % 200) == 0:\n",
        "            print(\", file #\" + str(i + 1), end=\"\")\n",
        "        ext = df[\"file_name\"][i].split('.')[-1]\n",
        "        if ext == 'h':\n",
        "            ext = 'c'\n",
        "        with open(f\"temp_file.{ext}\", \"w\", encoding='UTF-8') as fp:\n",
        "            fp.write(df[col][i])\n",
        "        out = subprocess.Popen(['metrics', '-q', '--format=json', f\"temp_file.{ext}\"], \n",
        "                               stdout=subprocess.PIPE, \n",
        "                               stderr=subprocess.STDOUT)\n",
        "        stdout,stderr = out.communicate()\n",
        "        metrics_data = json.loads(stdout)\n",
        "        mccabe.append(metrics_data['files'][f\"temp_file.{ext}\"]['mccabe'])\n",
        "        sloc.append(metrics_data['files'][f\"temp_file.{ext}\"]['sloc'])\n",
        "        comments.append(metrics_data['files'][f\"temp_file.{ext}\"]['comments'])\n",
        "        ratio.append(metrics_data['files'][f\"temp_file.{ext}\"]['ratio_comment_to_code'])\n",
        "#         print(mccabe_data['files'][f'temp_file.{LANGUAGE}'].keys())\n",
        "        os.remove(f\"temp_file.{ext}\")\n",
        "    df[\"complexity\"] = mccabe\n",
        "    df[\"code_lines\"] = sloc\n",
        "    df[\"comments\"] = comments\n",
        "    df[\"ratio_comment_to_code\"] = ratio\n",
        "    return df"
      ],
      "execution_count": 0,
      "outputs": []
    },
    {
      "cell_type": "code",
      "metadata": {
        "id": "WC4OK2bD5Uv6",
        "colab_type": "code",
        "colab": {}
      },
      "source": [
        ""
      ],
      "execution_count": 0,
      "outputs": []
    },
    {
      "cell_type": "code",
      "metadata": {
        "id": "zlCs-Q5O5hBo",
        "colab_type": "code",
        "outputId": "4ec0cafe-8c01-440b-e972-6009e45922e1",
        "colab": {
          "base_uri": "https://localhost:8080/",
          "height": 1000
        }
      },
      "source": [
        "!lizard source_code/est.c"
      ],
      "execution_count": 0,
      "outputs": [
        {
          "output_type": "stream",
          "text": [
            "================================================\n",
            "  NLOC    CCN   token  PARAM  length  location  \n",
            "------------------------------------------------\n",
            "       7      1     35      2      11 est_logger_stderr@9-19@source_code/est.c\n",
            "      11      2     53      2      16 est_log_msg@27-42@source_code/est.c\n",
            "      14      3     66      3      24 est_log@46-69@source_code/est.c\n",
            "      18      2    154      1      23 printStackTrace@73-95@source_code/est.c\n",
            "      18      5     91      1      31 est_log_backtrace@99-129@source_code/est.c\n",
            "       3      1      9      1       3 est_get_version@136-138@source_code/est.c\n",
            "       3      1      9      1       3 est_get_api_level@148-150@source_code/est.c\n",
            "       7      2     43      1       9 est_log_version@156-164@source_code/est.c\n",
            "      10      2     46      2      16 est_init_logger@181-196@source_code/est.c\n",
            "       4      1     11      1       4 est_enable_backtrace@213-216@source_code/est.c\n",
            "      42      9    202      3      52 est_read_x509_request@239-290@source_code/est.c\n",
            "      29      5    135      3      33 est_load_key@313-345@source_code/est.c\n",
            "      62     11    323      2     101 est_get_certs_pkcs7@357-457@source_code/est.c\n",
            "      38      6    223      3      51 est_load_ca_certs@467-517@source_code/est.c\n",
            "      16      3     92      3      22 est_load_trusted_certs@528-549@source_code/est.c\n",
            "      11      3     48      2      11 est_set_ex_data@570-580@source_code/est.c\n",
            "       7      2     27      1       7 est_get_ex_data@593-599@source_code/est.c\n",
            "      45     16    230      1      69 est_destroy@610-678@source_code/est.c\n",
            "      13      4     60      2      23 est_base64_contains_nl@688-710@source_code/est.c\n",
            "      38      6    219      3      59 est_base64_decode@719-777@source_code/est.c\n",
            "      44      5    245      4      68 est_base64_encode@786-853@source_code/est.c\n",
            "      46      9    282      2      59 est_get_tls_uid@862-920@source_code/est.c\n",
            "       9      2     69      3      10 est_hex_to_str@926-935@source_code/est.c\n",
            "       9      2     36      1      10 est_enable_crl@953-962@source_code/est.c\n",
            "      51     11    253      3      60 est_asn1_sanity_test@971-1030@source_code/est.c\n",
            "       8      3     54      3      12 est_is_challengePassword_present@1038-1049@source_code/est.c\n",
            "      27      5    151      3      35 est_asn1_parse_attributes@1056-1090@source_code/est.c\n",
            "      92     14    687      4     108 est_add_challengePassword@1097-1204@source_code/est.c\n",
            "      21      6    108      4      27 est_add_attributes_helper@1218-1244@source_code/est.c\n",
            "      28      8    159      4      42 est_decode_attributes_helper@1258-1299@source_code/est.c\n",
            "      51     10    273      3      60 est_get_attributes_helper@1313-1372@source_code/est.c\n",
            "      55     11    353      1      66 cleanse_auth_credentials@1377-1442@source_code/est.c\n",
            "      16      5     90      1      18 est_parse_operation@1446-1463@source_code/est.c\n",
            "     103     17    620      3     165 est_parse_uri@1467-1631@source_code/est.c\n",
            "      19      5    124      3      25 est_parse_uri@1635-1659@source_code/est.c\n",
            "      18      4    101      3      24 est_store_path_segment@1663-1686@source_code/est.c\n",
            "      10      2     55      2      16 est_strcasecmp_s@1690-1705@source_code/est.c\n",
            "1 file analyzed.\n",
            "==============================================================\n",
            "NLOC    Avg.NLOC  AvgCCN  Avg.token  function_cnt    file\n",
            "--------------------------------------------------------------\n",
            "   1005      27.1     5.5      155.0        37     source_code/est.c\n",
            "\n",
            "===========================================================================================================\n",
            "!!!! Warnings (cyclomatic_complexity > 15 or length > 1000 or nloc > 1000000 or parameter_count > 100) !!!!\n",
            "================================================\n",
            "  NLOC    CCN   token  PARAM  length  location  \n",
            "------------------------------------------------\n",
            "      45     16    230      1      69 est_destroy@610-678@source_code/est.c\n",
            "     103     17    620      3     165 est_parse_uri@1467-1631@source_code/est.c\n",
            "==========================================================================================\n",
            "Total nloc   Avg.NLOC  AvgCCN  Avg.token   Fun Cnt  Warning cnt   Fun Rt   nloc Rt\n",
            "------------------------------------------------------------------------------------------\n",
            "      1005      27.1     5.5      155.0       37            2      0.05    0.15\n"
          ],
          "name": "stdout"
        }
      ]
    },
    {
      "cell_type": "code",
      "metadata": {
        "id": "TcRGJP7TM1Aq",
        "colab_type": "code",
        "outputId": "8d8ddab9-2518-453c-b4b3-395d0fb62874",
        "colab": {
          "base_uri": "https://localhost:8080/",
          "height": 119
        }
      },
      "source": [
        "!metrics source_code/est.c"
      ],
      "execution_count": 0,
      "outputs": [
        {
          "output_type": "stream",
          "text": [
            "Metrics Summary:\n",
            "Files                       Language        SLOC Comment McCabe \n",
            "----- ------------------------------ ----------- ------- ------ \n",
            "    1                         Python           9       0      3 \n",
            "----- ------------------------------ ----------- ------- ------ \n",
            "    1                          Total           9       0      3 \n"
          ],
          "name": "stdout"
        }
      ]
    },
    {
      "cell_type": "code",
      "metadata": {
        "id": "zn9XeYQmM-jc",
        "colab_type": "code",
        "colab": {}
      },
      "source": [
        "import lizard"
      ],
      "execution_count": 0,
      "outputs": []
    },
    {
      "cell_type": "code",
      "metadata": {
        "id": "M0QAuYLeNk9I",
        "colab_type": "code",
        "colab": {}
      },
      "source": [
        "i = lizard.analyze_file(\"source_code/est.c\")"
      ],
      "execution_count": 0,
      "outputs": []
    },
    {
      "cell_type": "code",
      "metadata": {
        "id": "67zSrLWmPQBa",
        "colab_type": "code",
        "outputId": "efa0674d-eae8-40c8-8447-0aa9f44e3039",
        "colab": {
          "base_uri": "https://localhost:8080/",
          "height": 34
        }
      },
      "source": [
        "print(i.CCN)"
      ],
      "execution_count": 0,
      "outputs": [
        {
          "output_type": "stream",
          "text": [
            "204\n"
          ],
          "name": "stdout"
        }
      ]
    },
    {
      "cell_type": "code",
      "metadata": {
        "id": "0Xpt4ksvNm17",
        "colab_type": "code",
        "outputId": "a28c0c17-ade3-43ee-955d-b3e6297aec58",
        "colab": {
          "base_uri": "https://localhost:8080/",
          "height": 54
        }
      },
      "source": [
        "print(i.__dict__)"
      ],
      "execution_count": 0,
      "outputs": [
        {
          "output_type": "stream",
          "text": [
            "{'filename': 'source_code/est.c', 'nloc': 1005, 'function_list': [<lizard.FunctionInfo object at 0x7f137fc5fc18>, <lizard.FunctionInfo object at 0x7f137fc5fd68>, <lizard.FunctionInfo object at 0x7f137fc5fb00>, <lizard.FunctionInfo object at 0x7f137fc5ff28>, <lizard.FunctionInfo object at 0x7f137fc5ff98>, <lizard.FunctionInfo object at 0x7f137fc5ffd0>, <lizard.FunctionInfo object at 0x7f137fc5f978>, <lizard.FunctionInfo object at 0x7f137fc6b898>, <lizard.FunctionInfo object at 0x7f137fc6b080>, <lizard.FunctionInfo object at 0x7f137fc6b0f0>, <lizard.FunctionInfo object at 0x7f137fc6b160>, <lizard.FunctionInfo object at 0x7f137fc6b128>, <lizard.FunctionInfo object at 0x7f137fc6b2b0>, <lizard.FunctionInfo object at 0x7f137fc6b208>, <lizard.FunctionInfo object at 0x7f137fc6b3c8>, <lizard.FunctionInfo object at 0x7f137fc6b470>, <lizard.FunctionInfo object at 0x7f137fc6b550>, <lizard.FunctionInfo object at 0x7f137fc6b5c0>, <lizard.FunctionInfo object at 0x7f137fc6b668>, <lizard.FunctionInfo object at 0x7f137fc6b6d8>, <lizard.FunctionInfo object at 0x7f137fc6b7b8>, <lizard.FunctionInfo object at 0x7f137fc6b860>, <lizard.FunctionInfo object at 0x7f137fc6b8d0>, <lizard.FunctionInfo object at 0x7f137fc6b978>, <lizard.FunctionInfo object at 0x7f137fc6b7f0>, <lizard.FunctionInfo object at 0x7f137fc6ba58>, <lizard.FunctionInfo object at 0x7f137fc6b9b0>, <lizard.FunctionInfo object at 0x7f137fc6bb70>, <lizard.FunctionInfo object at 0x7f137fc6bc50>, <lizard.FunctionInfo object at 0x7f137fc6bd68>, <lizard.FunctionInfo object at 0x7f137fc6be10>, <lizard.FunctionInfo object at 0x7f137fc6bf28>, <lizard.FunctionInfo object at 0x7f137fc6bef0>, <lizard.FunctionInfo object at 0x7f137fc6bf98>, <lizard.FunctionInfo object at 0x7f137fc70048>, <lizard.FunctionInfo object at 0x7f137fc700b8>, <lizard.FunctionInfo object at 0x7f137fc70160>], 'token_count': 5801}\n"
          ],
          "name": "stdout"
        }
      ]
    },
    {
      "cell_type": "code",
      "metadata": {
        "id": "VPZ8QedNNosG",
        "colab_type": "code",
        "outputId": "6be62c2e-80eb-4fd3-d73c-cb752876f075",
        "colab": {
          "base_uri": "https://localhost:8080/",
          "height": 130
        }
      },
      "source": [
        "for i in range(len(i.function_list)):\n",
        "  "
      ],
      "execution_count": 0,
      "outputs": [
        {
          "output_type": "error",
          "ename": "SyntaxError",
          "evalue": "ignored",
          "traceback": [
            "\u001b[0;36m  File \u001b[0;32m\"<ipython-input-49-9158b71b1056>\"\u001b[0;36m, line \u001b[0;32m1\u001b[0m\n\u001b[0;31m    for i in range(len(i.CCN))\u001b[0m\n\u001b[0m                              ^\u001b[0m\n\u001b[0;31mSyntaxError\u001b[0m\u001b[0;31m:\u001b[0m invalid syntax\n"
          ]
        }
      ]
    },
    {
      "cell_type": "code",
      "metadata": {
        "id": "aKjlOh7rOSSa",
        "colab_type": "code",
        "outputId": "af5b56ff-5896-48e5-b0e9-d973865fd470",
        "colab": {
          "base_uri": "https://localhost:8080/",
          "height": 54
        }
      },
      "source": [
        "print(i.function_list[0].__dict__)"
      ],
      "execution_count": 0,
      "outputs": [
        {
          "output_type": "stream",
          "text": [
            "{'cyclomatic_complexity': 3, 'nloc': 8, 'token_count': 35, 'name': 'func', 'long_name': 'func( )', 'start_line': 1, 'end_line': 10, 'parameters': [], 'filename': 'thing.py', 'top_nesting_level': 0, 'length': 10, 'fan_in': 0, 'fan_out': 0, 'general_fan_out': 0}\n"
          ],
          "name": "stdout"
        }
      ]
    },
    {
      "cell_type": "code",
      "metadata": {
        "id": "yR-WuVsYOd2n",
        "colab_type": "code",
        "outputId": "1db421ee-21a2-457d-c116-b4405ed473df",
        "colab": {
          "base_uri": "https://localhost:8080/",
          "height": 34
        }
      },
      "source": [
        "print(len(i.function_list))"
      ],
      "execution_count": 0,
      "outputs": [
        {
          "output_type": "stream",
          "text": [
            "37\n"
          ],
          "name": "stdout"
        }
      ]
    },
    {
      "cell_type": "code",
      "metadata": {
        "id": "U2aTR9AZOvOq",
        "colab_type": "code",
        "outputId": "93779f00-7215-4d9f-d67b-1d2dd1573d4d",
        "colab": {
          "base_uri": "https://localhost:8080/",
          "height": 34
        }
      },
      "source": [
        "i"
      ],
      "execution_count": 0,
      "outputs": [
        {
          "output_type": "execute_result",
          "data": {
            "text/plain": [
              "<lizard.FileInformation at 0x7f137fc5fc88>"
            ]
          },
          "metadata": {
            "tags": []
          },
          "execution_count": 48
        }
      ]
    },
    {
      "cell_type": "code",
      "metadata": {
        "id": "Ybq-MxTYPCiO",
        "colab_type": "code",
        "outputId": "b520aa56-912f-417f-c634-9440d87c57ce",
        "colab": {
          "base_uri": "https://localhost:8080/",
          "height": 119
        }
      },
      "source": [
        "!metrics thing.py"
      ],
      "execution_count": 0,
      "outputs": [
        {
          "output_type": "stream",
          "text": [
            "Metrics Summary:\n",
            "Files                       Language        SLOC Comment McCabe \n",
            "----- ------------------------------ ----------- ------- ------ \n",
            "    1                         Python          32       0      9 \n",
            "----- ------------------------------ ----------- ------- ------ \n",
            "    1                          Total          32       0      9 \n"
          ],
          "name": "stdout"
        }
      ]
    },
    {
      "cell_type": "code",
      "metadata": {
        "id": "6iPhiFXnP19m",
        "colab_type": "code",
        "outputId": "a95ee002-4688-419a-b86f-a2463ab7715b",
        "colab": {
          "base_uri": "https://localhost:8080/",
          "height": 207
        }
      },
      "source": [
        "thing = lizard.analyze_file(\"thing.py\")\n",
        "print(thing.__dict__)\n",
        "print(thing.CCN)\n",
        "for i in range(len(thing.function_list)):\n",
        "    print(thing.function_list[i].__dict__)\n"
      ],
      "execution_count": 6,
      "outputs": [
        {
          "output_type": "stream",
          "text": [
            "{'filename': 'thing.py', 'nloc': 37, 'function_list': [<lizard.FunctionInfo object at 0x7fe679b602b0>, <lizard.FunctionInfo object at 0x7fe679b604a8>, <lizard.FunctionInfo object at 0x7fe679b60588>, <lizard.FunctionInfo object at 0x7fe679b60518>, <lizard.FunctionInfo object at 0x7fe679b604e0>, <lizard.FunctionInfo object at 0x7fe679b605f8>, <lizard.FunctionInfo object at 0x7fe679b60748>, <lizard.FunctionInfo object at 0x7fe679b60668>], 'token_count': 164}\n",
            "14\n",
            "{'cyclomatic_complexity': 1, 'nloc': 2, 'token_count': 10, 'name': '__init__', 'long_name': '__init__( self )', 'start_line': 5, 'end_line': 6, 'parameters': ['self'], 'filename': 'thing.py', 'top_nesting_level': 1, 'length': 2, 'fan_in': 0, 'fan_out': 0, 'general_fan_out': 0}\n",
            "{'cyclomatic_complexity': 1, 'nloc': 2, 'token_count': 10, 'name': '__init__', 'long_name': '__init__( self )', 'start_line': 9, 'end_line': 10, 'parameters': ['self'], 'filename': 'thing.py', 'top_nesting_level': 2, 'length': 2, 'fan_in': 0, 'fan_out': 0, 'general_fan_out': 0}\n",
            "{'cyclomatic_complexity': 1, 'nloc': 2, 'token_count': 6, 'name': 'delete.helper_method', 'long_name': 'delete.helper_method( )', 'start_line': 13, 'end_line': 15, 'parameters': [], 'filename': 'thing.py', 'top_nesting_level': 2, 'length': 3, 'fan_in': 0, 'fan_out': 0, 'general_fan_out': 0}\n",
            "{'cyclomatic_complexity': 1, 'nloc': 4, 'token_count': 13, 'name': 'delete', 'long_name': 'delete( self )', 'start_line': 12, 'end_line': 17, 'parameters': ['self'], 'filename': 'thing.py', 'top_nesting_level': 1, 'length': 6, 'fan_in': 0, 'fan_out': 0, 'general_fan_out': 0}\n",
            "{'cyclomatic_complexity': 1, 'nloc': 2, 'token_count': 12, 'name': '__init__', 'long_name': '__init__( self , name )', 'start_line': 20, 'end_line': 21, 'parameters': ['self', 'name'], 'filename': 'thing.py', 'top_nesting_level': 1, 'length': 2, 'fan_in': 0, 'fan_out': 0, 'general_fan_out': 0}\n",
            "{'cyclomatic_complexity': 5, 'nloc': 11, 'token_count': 45, 'name': 'complex_func', 'long_name': 'complex_func( self )', 'start_line': 23, 'end_line': 33, 'parameters': ['self'], 'filename': 'thing.py', 'top_nesting_level': 1, 'length': 11, 'fan_in': 0, 'fan_out': 0, 'general_fan_out': 0}\n",
            "{'cyclomatic_complexity': 1, 'nloc': 2, 'token_count': 10, 'name': 'ref_func', 'long_name': 'ref_func( self )', 'start_line': 35, 'end_line': 36, 'parameters': ['self'], 'filename': 'thing.py', 'top_nesting_level': 1, 'length': 2, 'fan_in': 0, 'fan_out': 0, 'general_fan_out': 0}\n",
            "{'cyclomatic_complexity': 3, 'nloc': 8, 'token_count': 35, 'name': 'func', 'long_name': 'func( )', 'start_line': 45, 'end_line': 54, 'parameters': [], 'filename': 'thing.py', 'top_nesting_level': 0, 'length': 10, 'fan_in': 0, 'fan_out': 0, 'general_fan_out': 0}\n"
          ],
          "name": "stdout"
        }
      ]
    },
    {
      "cell_type": "code",
      "metadata": {
        "id": "7evF2jVAmZRh",
        "colab_type": "code",
        "colab": {
          "base_uri": "https://localhost:8080/",
          "height": 153
        },
        "outputId": "ec04f804-4b6b-4765-cc8a-ddc436e0e3a9"
      },
      "source": [
        "thing.function_list"
      ],
      "execution_count": 7,
      "outputs": [
        {
          "output_type": "execute_result",
          "data": {
            "text/plain": [
              "[<lizard.FunctionInfo at 0x7fe679b602b0>,\n",
              " <lizard.FunctionInfo at 0x7fe679b604a8>,\n",
              " <lizard.FunctionInfo at 0x7fe679b60588>,\n",
              " <lizard.FunctionInfo at 0x7fe679b60518>,\n",
              " <lizard.FunctionInfo at 0x7fe679b604e0>,\n",
              " <lizard.FunctionInfo at 0x7fe679b605f8>,\n",
              " <lizard.FunctionInfo at 0x7fe679b60748>,\n",
              " <lizard.FunctionInfo at 0x7fe679b60668>]"
            ]
          },
          "metadata": {
            "tags": []
          },
          "execution_count": 7
        }
      ]
    },
    {
      "cell_type": "code",
      "metadata": {
        "id": "bAccxclu4pVN",
        "colab_type": "code",
        "outputId": "434e6aaf-7f13-43cd-b91c-fbccf792c65e",
        "colab": {
          "base_uri": "https://localhost:8080/",
          "height": 34
        }
      },
      "source": [
        "thing.filename"
      ],
      "execution_count": 0,
      "outputs": [
        {
          "output_type": "execute_result",
          "data": {
            "text/plain": [
              "'source_code/est.c'"
            ]
          },
          "metadata": {
            "tags": []
          },
          "execution_count": 26
        }
      ]
    },
    {
      "cell_type": "code",
      "metadata": {
        "id": "FDO_C0Yy40k3",
        "colab_type": "code",
        "outputId": "0eb8a1ce-08d0-4ff1-af9b-7dc5383509a4",
        "colab": {
          "base_uri": "https://localhost:8080/",
          "height": 34
        }
      },
      "source": [
        "thing.nloc"
      ],
      "execution_count": 0,
      "outputs": [
        {
          "output_type": "execute_result",
          "data": {
            "text/plain": [
              "1005"
            ]
          },
          "metadata": {
            "tags": []
          },
          "execution_count": 28
        }
      ]
    },
    {
      "cell_type": "code",
      "metadata": {
        "id": "QpZwf-tE403r",
        "colab_type": "code",
        "outputId": "60eda8af-6b8c-4eb8-f964-5823dd8a6fa6",
        "colab": {
          "base_uri": "https://localhost:8080/",
          "height": 34
        }
      },
      "source": [
        "print(thing.functions_average)"
      ],
      "execution_count": 0,
      "outputs": [
        {
          "output_type": "stream",
          "text": [
            "<bound method FileInformation.functions_average of <lizard.FileInformation object at 0x7f5ed935c978>>\n"
          ],
          "name": "stdout"
        }
      ]
    },
    {
      "cell_type": "code",
      "metadata": {
        "id": "xQjQ9krR41H0",
        "colab_type": "code",
        "colab": {}
      },
      "source": [
        ""
      ],
      "execution_count": 0,
      "outputs": []
    },
    {
      "cell_type": "code",
      "metadata": {
        "id": "QSNSF-D7QLwu",
        "colab_type": "code",
        "colab": {}
      },
      "source": [
        "i = lizard.analyze_file.analyze_source_code(\"AllTests.cpp\", \"int foo(){}\")"
      ],
      "execution_count": 0,
      "outputs": []
    },
    {
      "cell_type": "code",
      "metadata": {
        "id": "lGxFXQJWQpt-",
        "colab_type": "code",
        "outputId": "aa37c19d-59c1-4c6f-8505-604ed7dcaa9a",
        "colab": {
          "base_uri": "https://localhost:8080/",
          "height": 85
        }
      },
      "source": [
        "i.__dict__"
      ],
      "execution_count": 0,
      "outputs": [
        {
          "output_type": "execute_result",
          "data": {
            "text/plain": [
              "{'filename': 'AllTests.cpp',\n",
              " 'function_list': [<lizard.FunctionInfo at 0x7f137fbacc18>],\n",
              " 'nloc': 1,\n",
              " 'token_count': 6}"
            ]
          },
          "metadata": {
            "tags": []
          },
          "execution_count": 61
        }
      ]
    },
    {
      "cell_type": "code",
      "metadata": {
        "id": "duDyG-kMQr4f",
        "colab_type": "code",
        "outputId": "283ec169-7807-42e0-b669-1faf7214ddf2",
        "colab": {
          "base_uri": "https://localhost:8080/",
          "height": 34
        }
      },
      "source": [
        "i.CCN"
      ],
      "execution_count": 0,
      "outputs": [
        {
          "output_type": "execute_result",
          "data": {
            "text/plain": [
              "1"
            ]
          },
          "metadata": {
            "tags": []
          },
          "execution_count": 62
        }
      ]
    },
    {
      "cell_type": "code",
      "metadata": {
        "id": "-8xm-5f0QvsQ",
        "colab_type": "code",
        "outputId": "082158ce-7fe6-44e9-d589-e2403081e7fd",
        "colab": {
          "base_uri": "https://localhost:8080/",
          "height": 34
        }
      },
      "source": [
        "lizard.analyze_file.analyze_source_code(\"AllTests.py\", \"def foo():\\n\\tif (True): \\n\\tprint('HI')\").CCN"
      ],
      "execution_count": 0,
      "outputs": [
        {
          "output_type": "execute_result",
          "data": {
            "text/plain": [
              "2"
            ]
          },
          "metadata": {
            "tags": []
          },
          "execution_count": 70
        }
      ]
    },
    {
      "cell_type": "code",
      "metadata": {
        "id": "l5WsVWLDTtlX",
        "colab_type": "code",
        "colab": {}
      },
      "source": [
        "import subprocess\n",
        "import json\n",
        "def add_mccabe_metrics(df, col):\n",
        "    mccabe = []\n",
        "    sloc = []\n",
        "    comments = []\n",
        "    ratio = []\n",
        "    for i in range(len(df)):\n",
        "        if i == 99:\n",
        "            print(\"At file #100\", end=\"\")\n",
        "        if ((i + 1) % 200) == 0:\n",
        "            print(\", file #\" + str(i + 1), end=\"\")\n",
        "        ext = df[\"file_name\"][i].split('.')[-1]\n",
        "        if ext == 'h':\n",
        "            ext = 'c'\n",
        "        with open(f\"temp_file.{ext}\", \"w\", encoding='UTF-8') as fp:\n",
        "            fp.write(df[col][i])\n",
        "        out = subprocess.Popen(['metrics', '-q', '--format=json', f\"temp_file.{ext}\"], \n",
        "                               stdout=subprocess.PIPE, \n",
        "                               stderr=subprocess.STDOUT)\n",
        "        stdout,stderr = out.communicate()\n",
        "        metrics_data = json.loads(stdout)\n",
        "        mccabe.append(metrics_data['files'][f\"temp_file.{ext}\"]['mccabe'])\n",
        "        sloc.append(metrics_data['files'][f\"temp_file.{ext}\"]['sloc'])\n",
        "        comments.append(metrics_data['files'][f\"temp_file.{ext}\"]['comments'])\n",
        "        ratio.append(metrics_data['files'][f\"temp_file.{ext}\"]['ratio_comment_to_code'])\n",
        "#         print(mccabe_data['files'][f'temp_file.{LANGUAGE}'].keys())\n",
        "        os.remove(f\"temp_file.{ext}\")\n",
        "    df[\"complexity\"] = mccabe\n",
        "    df[\"code_lines\"] = sloc\n",
        "    df[\"comments\"] = comments\n",
        "    df[\"ratio_comment_to_code\"] = ratio\n",
        "    return df"
      ],
      "execution_count": 0,
      "outputs": []
    }
  ]
}