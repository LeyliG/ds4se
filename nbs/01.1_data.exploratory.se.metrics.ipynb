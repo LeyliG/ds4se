{
  "nbformat": 4,
  "nbformat_minor": 0,
  "metadata": {
    "kernelspec": {
      "display_name": "Python 3",
      "language": "python",
      "name": "python3"
    },
    "language_info": {
      "codemirror_mode": {
        "name": "ipython",
        "version": 3
      },
      "file_extension": ".py",
      "mimetype": "text/x-python",
      "name": "python",
      "nbconvert_exporter": "python",
      "pygments_lexer": "ipython3",
      "version": "3.6.8"
    },
    "colab": {
      "name": "01.1_data.exploratory.se.metrics.ipynb",
      "provenance": [],
      "toc_visible": true
    }
  },
  "cells": [
    {
      "cell_type": "code",
      "metadata": {
        "id": "iiU_wJelvSeJ",
        "colab_type": "code",
        "colab": {}
      },
      "source": [
        "# default_exp data.exploratory.se.metrics"
      ],
      "execution_count": 0,
      "outputs": []
    },
    {
      "cell_type": "markdown",
      "metadata": {
        "id": "3D-SNetwvSea",
        "colab_type": "text"
      },
      "source": [
        "# Exploration of your data\n",
        "\n",
        "> This module comprises some of the statistical and inference techniques to describe the inner properties of software data. The submodules might include:\n",
        ">\n",
        "> - Descriptive statistics\n",
        "> - Software Metrics\n",
        "> - Information Theory\n",
        "> - Learning Principels Detection (Occams' Razor, Biased data, and Data Snooping)\n",
        "> - Inference: Probabilistic and Causal"
      ]
    },
    {
      "cell_type": "markdown",
      "metadata": {
        "id": "2buKCA0I01Cn",
        "colab_type": "text"
      },
      "source": [
        "### Specifically in this module\n",
        "\n",
        "> - Cyclomatic complexity (CYCLO)\n",
        "> - Coupling Between Objects (CBO)\n",
        "> - Lack of Cohesion of Methods 5 (LCOM5)\n",
        "> - Top/Least 20 Occurring Tokens\n",
        "> - Percentage of redundancy (just Java)\n",
        "> - How many Type I and Type II clones are in Java datasets?"
      ]
    },
    {
      "cell_type": "code",
      "metadata": {
        "id": "jjkOCTMxvSed",
        "colab_type": "code",
        "colab": {}
      },
      "source": [
        "# #hide\n",
        "# from nbdev.showdoc import *"
      ],
      "execution_count": 0,
      "outputs": []
    },
    {
      "cell_type": "code",
      "metadata": {
        "id": "dmqIlUc01iz8",
        "colab_type": "code",
        "outputId": "560f565a-5232-4238-bc5a-a068adcae8dc",
        "colab": {
          "base_uri": "https://localhost:8080/",
          "height": 616
        }
      },
      "source": [
        "!pip install sentencepiece\n",
        "!pip install metrics"
      ],
      "execution_count": 3,
      "outputs": [
        {
          "output_type": "stream",
          "text": [
            "Collecting sentencepiece\n",
            "\u001b[?25l  Downloading https://files.pythonhosted.org/packages/74/f4/2d5214cbf13d06e7cb2c20d84115ca25b53ea76fa1f0ade0e3c9749de214/sentencepiece-0.1.85-cp36-cp36m-manylinux1_x86_64.whl (1.0MB)\n",
            "\u001b[K     |████████████████████████████████| 1.0MB 2.8MB/s \n",
            "\u001b[?25hInstalling collected packages: sentencepiece\n",
            "Successfully installed sentencepiece-0.1.85\n",
            "Collecting metrics\n",
            "  Downloading https://files.pythonhosted.org/packages/01/ae/3ab18f2f3449f2e7931112c991ade9684eeddf96cea03ea7f662c01f0658/metrics-0.3.3.tar.gz\n",
            "Collecting Pygments==2.2.0\n",
            "\u001b[?25l  Downloading https://files.pythonhosted.org/packages/02/ee/b6e02dc6529e82b75bb06823ff7d005b141037cb1416b10c6f00fc419dca/Pygments-2.2.0-py2.py3-none-any.whl (841kB)\n",
            "\u001b[K     |████████████████████████████████| 849kB 3.9MB/s \n",
            "\u001b[?25hCollecting pathspec==0.5.5\n",
            "  Downloading https://files.pythonhosted.org/packages/9f/fb/5a901a3b1eeebf83af6da74ecca69d7daf5189e450f0f4cccf9c19132651/pathspec-0.5.5.tar.gz\n",
            "Collecting pathlib2>=2.3.0\n",
            "  Downloading https://files.pythonhosted.org/packages/e9/45/9c82d3666af4ef9f221cbb954e1d77ddbb513faf552aea6df5f37f1a4859/pathlib2-2.3.5-py2.py3-none-any.whl\n",
            "Requirement already satisfied: six in /usr/local/lib/python3.6/dist-packages (from pathlib2>=2.3.0->metrics) (1.12.0)\n",
            "Building wheels for collected packages: metrics, pathspec\n",
            "  Building wheel for metrics (setup.py) ... \u001b[?25l\u001b[?25hdone\n",
            "  Created wheel for metrics: filename=metrics-0.3.3-py2.py3-none-any.whl size=17815 sha256=f9413e23b0c85a4171bd8f4a5168f6f905060bd244aca123dce2ef94f3403603\n",
            "  Stored in directory: /root/.cache/pip/wheels/38/e8/55/c4c648451a33a60920318eba4c5735088dbf78dc20d4277db0\n",
            "  Building wheel for pathspec (setup.py) ... \u001b[?25l\u001b[?25hdone\n",
            "  Created wheel for pathspec: filename=pathspec-0.5.5-cp36-none-any.whl size=24229 sha256=11d4a7d25300c5907926d684686248bd9059872ca7d323f58c57b72b2b6cc3dc\n",
            "  Stored in directory: /root/.cache/pip/wheels/d1/2e/6b/c67842adf3b13ea33ca3fe6a2a963622821ad647db724688e2\n",
            "Successfully built metrics pathspec\n",
            "\u001b[31mERROR: datascience 0.10.6 has requirement folium==0.2.1, but you'll have folium 0.8.3 which is incompatible.\u001b[0m\n",
            "Installing collected packages: Pygments, pathspec, pathlib2, metrics\n",
            "  Found existing installation: Pygments 2.1.3\n",
            "    Uninstalling Pygments-2.1.3:\n",
            "      Successfully uninstalled Pygments-2.1.3\n",
            "Successfully installed Pygments-2.2.0 metrics-0.3.3 pathlib2-2.3.5 pathspec-0.5.5\n"
          ],
          "name": "stdout"
        },
        {
          "output_type": "display_data",
          "data": {
            "application/vnd.colab-display-data+json": {
              "pip_warning": {
                "packages": [
                  "pygments"
                ]
              }
            }
          },
          "metadata": {
            "tags": []
          }
        }
      ]
    },
    {
      "cell_type": "code",
      "metadata": {
        "id": "GZfgmd8qvrVX",
        "colab_type": "code",
        "colab": {}
      },
      "source": [
        "# export\n",
        "# Imports\n",
        "import pandas as pd\n",
        "import sentencepiece as sp\n",
        "from numpy import mean, std\n",
        "from statistics import median\n",
        "from scipy.stats import sem, t\n",
        "\n",
        "# TODO: Remove when mongo call is implemented\n",
        "import os"
      ],
      "execution_count": 0,
      "outputs": []
    },
    {
      "cell_type": "code",
      "metadata": {
        "id": "SCBPfIyqvSev",
        "colab_type": "code",
        "colab": {}
      },
      "source": [
        "# TODO: Replace with actual mongo call\n",
        "def simulate_getting_dataframes_from_mongo():\n",
        "    corpus_data = {'file_name': [], 'data_type': [], 'contents': []}\n",
        "    path = \"./source_code\"\n",
        "    for file in os.listdir(path):\n",
        "        corpus_data['file_name'].append(file)\n",
        "        corpus_data['data_type'].append('src')\n",
        "        with open (os.path.join(path, file), \"r\") as f:\n",
        "            corpus_data['contents'].append(f.read())\n",
        "    path = \"./tests\"\n",
        "    for file in os.listdir(path):\n",
        "        corpus_data['file_name'].append(file)\n",
        "        corpus_data['data_type'].append('test')\n",
        "        with open (os.path.join(path, file), \"r\") as f:\n",
        "            corpus_data['contents'].append(f.read())\n",
        "    corpus_df = pd.DataFrame(data = corpus_data)\n",
        "    return corpus_df"
      ],
      "execution_count": 0,
      "outputs": []
    },
    {
      "cell_type": "code",
      "metadata": {
        "id": "XoAHdPTi1oFm",
        "colab_type": "code",
        "colab": {}
      },
      "source": [
        "# export\n",
        "# TODO: Change based on format of input data from Mongo\n",
        "def df_to_txt_file(df, output, cols):\n",
        "    \"\"\"Converts a dataframe into a text file that SentencePiece can use to train a BPE model\"\"\"\n",
        "    if cols is None: cols = list(df.columns)\n",
        "    merged_df = pd.concat([df[col] for col in cols])\n",
        "    \n",
        "    with open(output + '_text.txt', 'w') as f:\n",
        "        f.write('\\n'.join(list(merged_df)))\n",
        "    return output + '_text.txt'"
      ],
      "execution_count": 0,
      "outputs": []
    },
    {
      "cell_type": "code",
      "metadata": {
        "id": "OjHlb8dxv3oj",
        "colab_type": "code",
        "colab": {}
      },
      "source": [
        "# export\n",
        "# TODO: Change based on format of input data from Mongo\n",
        "def gen_sp_model(df, output, model_name, cols=None):\n",
        "    \"\"\"Trains a SentencePiece BPE model from a pandas dataframe\"\"\"\n",
        "    fname = df_to_txt_file(df, output, cols)\n",
        "    sp.SentencePieceTrainer.train(f'--input={fname} --model_prefix={output + model_name} --hard_vocab_limit=false --model_type=bpe')\n",
        "    return output + model_name"
      ],
      "execution_count": 0,
      "outputs": []
    },
    {
      "cell_type": "code",
      "metadata": {
        "id": "twT8CJYECVxT",
        "colab_type": "code",
        "colab": {}
      },
      "source": [
        "# export\n",
        "def add_length_col(df, col, length_col_name='length'):\n",
        "    \"\"\"Adds a length column with the length of entries in the specified column of a dataframe\"\"\"\n",
        "    df[length_col_name] = df[col].astype(str).apply(len)\n",
        "    return df"
      ],
      "execution_count": 0,
      "outputs": []
    },
    {
      "cell_type": "code",
      "metadata": {
        "id": "m8zM9rtr1f-n",
        "colab_type": "code",
        "colab": {}
      },
      "source": [
        "# export\n",
        "def stat_metrics(df, col, data_types=None, conf = 0.95, sig_figs = 4):\n",
        "    \"\"\"Computes statistical metrics about the entries in a dataframe column\"\"\"\n",
        "    if data_types != None: \n",
        "        df = df[df['data_type'].isin(data_types)]\n",
        "        print(f\"~~Printing metrics for {data_types} in column [{col}]~~\")\n",
        "    else:\n",
        "        print(f\"~~Printing metrics for all data in column [{col}]~~\")\n",
        "\n",
        "    print(\"Min =\", round(df[col].min(), sig_figs))\n",
        "    print(\"Max =\", round(df[col].max(), sig_figs))\n",
        "    print(\"Average =\", round(df[col].mean(), sig_figs))\n",
        "    print(\"Median =\", round(median(df[col]), sig_figs))\n",
        "    print(\"Standard Deviation =\", round(std(df[col]), sig_figs))\n",
        "    \n",
        "    n = len(df[col])\n",
        "    m = mean(df[col])\n",
        "    std_err = sem(df[col])\n",
        "    h = std_err * t.ppf((1 + conf) / 2, n - 1)\n",
        "\n",
        "    start = m - h\n",
        "    end = m + h\n",
        "    print(f\"{conf} of data points fall between {round(start, sig_figs)} and {round(end, sig_figs)}\")"
      ],
      "execution_count": 0,
      "outputs": []
    },
    {
      "cell_type": "code",
      "metadata": {
        "id": "Zrcs5Js-CR7T",
        "colab_type": "code",
        "colab": {}
      },
      "source": [
        "import subprocess\n",
        "import json\n",
        "def add_mccabe_metrics(df, col):\n",
        "    mccabe = []\n",
        "    sloc = []\n",
        "    comments = []\n",
        "    ratio = []\n",
        "    for i in range(len(df)):\n",
        "        if i == 99:\n",
        "            print(\"At file #100\", end=\"\")\n",
        "        if ((i + 1) % 200) == 0:\n",
        "            print(\", file #\" + str(i + 1), end=\"\")\n",
        "        ext = df[\"file_name\"][i].split('.')[-1]\n",
        "        if ext == 'h':\n",
        "            ext = 'c'\n",
        "        with open(f\"temp_file.{ext}\", \"w\", encoding='UTF-8') as fp:\n",
        "            fp.write(df[col][i])\n",
        "        out = subprocess.Popen(['metrics', '-q', '--format=json', f\"temp_file.{ext}\"], \n",
        "                               stdout=subprocess.PIPE, \n",
        "                               stderr=subprocess.STDOUT)\n",
        "        stdout,stderr = out.communicate()\n",
        "        metrics_data = json.loads(stdout)\n",
        "        mccabe.append(metrics_data['files'][f\"temp_file.{ext}\"]['mccabe'])\n",
        "        sloc.append(metrics_data['files'][f\"temp_file.{ext}\"]['sloc'])\n",
        "        comments.append(metrics_data['files'][f\"temp_file.{ext}\"]['comments'])\n",
        "        ratio.append(metrics_data['files'][f\"temp_file.{ext}\"]['ratio_comment_to_code'])\n",
        "#         print(mccabe_data['files'][f'temp_file.{LANGUAGE}'].keys())\n",
        "        os.remove(f\"temp_file.{ext}\")\n",
        "    df[\"complexity\"] = mccabe\n",
        "    df[\"code_lines\"] = sloc\n",
        "    df[\"comments\"] = comments\n",
        "    df[\"ratio_comment_to_code\"] = ratio\n",
        "    return df"
      ],
      "execution_count": 0,
      "outputs": []
    },
    {
      "cell_type": "markdown",
      "metadata": {
        "id": "y3lwzryRwjxI",
        "colab_type": "text"
      },
      "source": [
        "# Analysis & Visualization"
      ]
    },
    {
      "cell_type": "code",
      "metadata": {
        "id": "W13webAlwoKA",
        "colab_type": "code",
        "outputId": "7368b059-5b33-4c51-937c-93aec51220e5",
        "colab": {
          "base_uri": "https://localhost:8080/",
          "height": 68
        }
      },
      "source": [
        "# Retrieve the data\n",
        "corpus_df = simulate_getting_dataframes_from_mongo()\n",
        "src_df = corpus_df.loc[corpus_df['data_type'] == 'src']\n",
        "test_df = corpus_df.loc[corpus_df['data_type'] == 'test']\n",
        "\n",
        "total_file_count = len(corpus_df)\n",
        "src_files_count = len(src_df)\n",
        "test_files_count = len(test_df)\n",
        "print(\"Source Code Files:\", src_files_count, \"(\" + str(round(src_files_count/total_file_count, 4)*100) + \"%)\")\n",
        "print(\"Test Code Files:\", test_files_count, \"(\" + str(round(test_files_count/total_file_count, 4)*100) + \"%)\")\n",
        "print(\"Total files:\", total_file_count)"
      ],
      "execution_count": 10,
      "outputs": [
        {
          "output_type": "stream",
          "text": [
            "Source Code Files: 14 (40.0%)\n",
            "Test Code Files: 21 (60.0%)\n",
            "Total files: 35\n"
          ],
          "name": "stdout"
        }
      ]
    },
    {
      "cell_type": "code",
      "metadata": {
        "id": "2cad1lQIx3Ks",
        "colab_type": "code",
        "colab": {}
      },
      "source": [
        "# Generate the SP Models\n",
        "model = gen_sp_model(corpus_df, output='LibEST', model_name='_sp_bpe_modal', cols=['contents'])"
      ],
      "execution_count": 0,
      "outputs": []
    },
    {
      "cell_type": "code",
      "metadata": {
        "id": "T9wPtN2B2oJ9",
        "colab_type": "code",
        "outputId": "0d363132-d1d8-4679-95e4-c85067e873d3",
        "colab": {
          "base_uri": "https://localhost:8080/",
          "height": 136
        }
      },
      "source": [
        "corpus_df = add_length_col(corpus_df, 'contents', 'code_length')\n",
        "stat_metrics(corpus_df, 'code_length')"
      ],
      "execution_count": 12,
      "outputs": [
        {
          "output_type": "stream",
          "text": [
            "~~Printing metrics for all data in column [code_length]~~\n",
            "Min = 178\n",
            "Max = 149212\n",
            "Average = 29901.8857\n",
            "Median = 28111\n",
            "Standard Deviation = 26290.3033\n",
            "0.95 of data points fall between 20739.0036 and 39064.7678\n"
          ],
          "name": "stdout"
        }
      ]
    },
    {
      "cell_type": "code",
      "metadata": {
        "id": "dEDjqDXmitj8",
        "colab_type": "code",
        "outputId": "057b3705-4b2e-49c1-90e2-fd9a789e074e",
        "colab": {
          "base_uri": "https://localhost:8080/",
          "height": 663
        }
      },
      "source": [
        "print(corpus_df)"
      ],
      "execution_count": 13,
      "outputs": [
        {
          "output_type": "stream",
          "text": [
            "             file_name  ... code_length\n",
            "0                est.c  ...       50650\n",
            "1    est_server_http.h  ...         332\n",
            "2    est_server_http.c  ...       58103\n",
            "3      est_ossl_util.h  ...         214\n",
            "4         est_server.c  ...       73443\n",
            "5   est_client_proxy.h  ...         178\n",
            "6    est_client_http.c  ...       33067\n",
            "7           est_locl.h  ...        3189\n",
            "8         est_client.c  ...      149212\n",
            "9                est.h  ...       26660\n",
            "10  est_client_proxy.c  ...       16838\n",
            "11         est_proxy.c  ...       47546\n",
            "12        est_server.h  ...        1237\n",
            "13     est_ossl_util.c  ...        8931\n",
            "14             us903.c  ...       21959\n",
            "15            us1883.c  ...       34902\n",
            "16             us897.c  ...       38280\n",
            "17             us896.c  ...       10526\n",
            "18            us3512.c  ...       32055\n",
            "19             us894.c  ...       38371\n",
            "20             us901.c  ...       26909\n",
            "21            us1005.c  ...       19276\n",
            "22             us893.c  ...       34107\n",
            "23             us900.c  ...       32706\n",
            "24            us1060.c  ...       21254\n",
            "25             us895.c  ...       29112\n",
            "26             us899.c  ...       42269\n",
            "27            us4020.c  ...       34256\n",
            "28            us1159.c  ...       28944\n",
            "29            us3612.c  ...       14782\n",
            "30            us1864.c  ...       11522\n",
            "31             us748.c  ...       21134\n",
            "32            us3496.c  ...       22756\n",
            "33             us898.c  ...       33735\n",
            "34            us2174.c  ...       28111\n",
            "\n",
            "[35 rows x 4 columns]\n"
          ],
          "name": "stdout"
        }
      ]
    },
    {
      "cell_type": "code",
      "metadata": {
        "id": "AaFF77FNBDsx",
        "colab_type": "code",
        "colab": {}
      },
      "source": [
        "# print(corpus_df['file_name'][2].split('.')[-1])\n",
        "corpus_df = add_mccabe_metrics(corpus_df, 'contents')"
      ],
      "execution_count": 0,
      "outputs": []
    },
    {
      "cell_type": "code",
      "metadata": {
        "id": "TmXuuwU5077r",
        "colab_type": "code",
        "colab": {
          "base_uri": "https://localhost:8080/",
          "height": 323
        },
        "outputId": "caed6e52-a0e4-414e-f55a-5c45f238a71e"
      },
      "source": [
        "print(corpus_df.head(8)['file_name'])\n",
        "print(corpus_df.head(8)['complexity'])"
      ],
      "execution_count": 25,
      "outputs": [
        {
          "output_type": "stream",
          "text": [
            "0                 est.c\n",
            "1     est_server_http.h\n",
            "2     est_server_http.c\n",
            "3       est_ossl_util.h\n",
            "4          est_server.c\n",
            "5    est_client_proxy.h\n",
            "6     est_client_http.c\n",
            "7            est_locl.h\n",
            "Name: file_name, dtype: object\n",
            "0    174\n",
            "1      0\n",
            "2    217\n",
            "3      0\n",
            "4    249\n",
            "5      0\n",
            "6    191\n",
            "7      0\n",
            "Name: complexity, dtype: int64\n"
          ],
          "name": "stdout"
        }
      ]
    },
    {
      "cell_type": "code",
      "metadata": {
        "id": "ZzWNnYS1BDz-",
        "colab_type": "code",
        "colab": {}
      },
      "source": [
        "# for i in range(len(corpus_df)):\n",
        "#     if corpus_df[\"file_name\"][i].split('.')[-1] == 'h':\n",
        "#         print(corpus_df['contents'][i])"
      ],
      "execution_count": 0,
      "outputs": []
    },
    {
      "cell_type": "code",
      "metadata": {
        "id": "aqpxj8CkBD7G",
        "colab_type": "code",
        "colab": {
          "base_uri": "https://localhost:8080/",
          "height": 122
        },
        "outputId": "2b017d89-51e0-4d90-f99c-79ec394e7c28"
      },
      "source": [
        ""
      ],
      "execution_count": 30,
      "outputs": [
        {
          "output_type": "stream",
          "text": [
            "Collecting lizard\n",
            "\u001b[?25l  Downloading https://files.pythonhosted.org/packages/b4/2c/d6f6a5507cfa685535731428ee3b32b4d7648a5b8c10b68b85de3cdbb649/lizard-1.17.3-py2.py3-none-any.whl (59kB)\n",
            "\r\u001b[K     |█████▌                          | 10kB 15.9MB/s eta 0:00:01\r\u001b[K     |███████████                     | 20kB 1.8MB/s eta 0:00:01\r\u001b[K     |████████████████▍               | 30kB 2.1MB/s eta 0:00:01\r\u001b[K     |██████████████████████          | 40kB 1.7MB/s eta 0:00:01\r\u001b[K     |███████████████████████████▍    | 51kB 1.9MB/s eta 0:00:01\r\u001b[K     |████████████████████████████████| 61kB 1.8MB/s \n",
            "\u001b[?25hInstalling collected packages: lizard\n",
            "Successfully installed lizard-1.17.3\n"
          ],
          "name": "stdout"
        }
      ]
    },
    {
      "cell_type": "code",
      "metadata": {
        "id": "oy8UDLApBEB5",
        "colab_type": "code",
        "colab": {}
      },
      "source": [
        ""
      ],
      "execution_count": 0,
      "outputs": []
    },
    {
      "cell_type": "code",
      "metadata": {
        "id": "Z5_wYi7BBEIf",
        "colab_type": "code",
        "colab": {}
      },
      "source": [
        ""
      ],
      "execution_count": 0,
      "outputs": []
    },
    {
      "cell_type": "code",
      "metadata": {
        "id": "IrjHDBhuBEP4",
        "colab_type": "code",
        "colab": {}
      },
      "source": [
        ""
      ],
      "execution_count": 0,
      "outputs": []
    },
    {
      "cell_type": "code",
      "metadata": {
        "id": "dSQu6S_-BEYk",
        "colab_type": "code",
        "colab": {}
      },
      "source": [
        ""
      ],
      "execution_count": 0,
      "outputs": []
    },
    {
      "cell_type": "code",
      "metadata": {
        "id": "hHCznRPSBEqO",
        "colab_type": "code",
        "colab": {}
      },
      "source": [
        ""
      ],
      "execution_count": 0,
      "outputs": []
    },
    {
      "cell_type": "code",
      "metadata": {
        "id": "_OpoQ2JFBEWo",
        "colab_type": "code",
        "colab": {}
      },
      "source": [
        ""
      ],
      "execution_count": 0,
      "outputs": []
    },
    {
      "cell_type": "markdown",
      "metadata": {
        "id": "JR2EHr85BBNG",
        "colab_type": "text"
      },
      "source": [
        "# Scratch Code (Testing)"
      ]
    },
    {
      "cell_type": "code",
      "metadata": {
        "id": "hoddzqvt4wnY",
        "colab_type": "code",
        "outputId": "672b15e5-c2e9-4bb0-ba44-e500c3976d4c",
        "colab": {
          "base_uri": "https://localhost:8080/",
          "height": 34
        }
      },
      "source": [
        "print(round(1236721.8237468732, 3))"
      ],
      "execution_count": 0,
      "outputs": [
        {
          "output_type": "stream",
          "text": [
            "1236721.824\n"
          ],
          "name": "stdout"
        }
      ]
    },
    {
      "cell_type": "code",
      "metadata": {
        "id": "XQe5TlTT5W2_",
        "colab_type": "code",
        "colab": {}
      },
      "source": [
        "!pip install lizard"
      ],
      "execution_count": 0,
      "outputs": []
    },
    {
      "cell_type": "code",
      "metadata": {
        "id": "EDaHWDYZAFkM",
        "colab_type": "code",
        "colab": {}
      },
      "source": [
        "import subprocess\n",
        "import json\n",
        "def add_lizard_mccabe_metrics(df, col):\n",
        "    mccabe = []\n",
        "    sloc = []\n",
        "    comments = []\n",
        "    ratio = []\n",
        "    for i in range(len(df)):\n",
        "        if i == 99:\n",
        "            print(\"At file #100\", end=\"\")\n",
        "        if ((i + 1) % 200) == 0:\n",
        "            print(\", file #\" + str(i + 1), end=\"\")\n",
        "        ext = df[\"file_name\"][i].split('.')[-1]\n",
        "        if ext == 'h':\n",
        "            ext = 'c'\n",
        "        with open(f\"temp_file.{ext}\", \"w\", encoding='UTF-8') as fp:\n",
        "            fp.write(df[col][i])\n",
        "        out = subprocess.Popen(['metrics', '-q', '--format=json', f\"temp_file.{ext}\"], \n",
        "                               stdout=subprocess.PIPE, \n",
        "                               stderr=subprocess.STDOUT)\n",
        "        stdout,stderr = out.communicate()\n",
        "        metrics_data = json.loads(stdout)\n",
        "        mccabe.append(metrics_data['files'][f\"temp_file.{ext}\"]['mccabe'])\n",
        "        sloc.append(metrics_data['files'][f\"temp_file.{ext}\"]['sloc'])\n",
        "        comments.append(metrics_data['files'][f\"temp_file.{ext}\"]['comments'])\n",
        "        ratio.append(metrics_data['files'][f\"temp_file.{ext}\"]['ratio_comment_to_code'])\n",
        "#         print(mccabe_data['files'][f'temp_file.{LANGUAGE}'].keys())\n",
        "        os.remove(f\"temp_file.{ext}\")\n",
        "    df[\"complexity\"] = mccabe\n",
        "    df[\"code_lines\"] = sloc\n",
        "    df[\"comments\"] = comments\n",
        "    df[\"ratio_comment_to_code\"] = ratio\n",
        "    return df"
      ],
      "execution_count": 0,
      "outputs": []
    },
    {
      "cell_type": "code",
      "metadata": {
        "id": "WC4OK2bD5Uv6",
        "colab_type": "code",
        "colab": {}
      },
      "source": [
        ""
      ],
      "execution_count": 0,
      "outputs": []
    },
    {
      "cell_type": "code",
      "metadata": {
        "id": "zlCs-Q5O5hBo",
        "colab_type": "code",
        "colab": {
          "base_uri": "https://localhost:8080/",
          "height": 1000
        },
        "outputId": "4ec0cafe-8c01-440b-e972-6009e45922e1"
      },
      "source": [
        "!lizard source_code/est.c"
      ],
      "execution_count": 34,
      "outputs": [
        {
          "output_type": "stream",
          "text": [
            "================================================\n",
            "  NLOC    CCN   token  PARAM  length  location  \n",
            "------------------------------------------------\n",
            "       7      1     35      2      11 est_logger_stderr@9-19@source_code/est.c\n",
            "      11      2     53      2      16 est_log_msg@27-42@source_code/est.c\n",
            "      14      3     66      3      24 est_log@46-69@source_code/est.c\n",
            "      18      2    154      1      23 printStackTrace@73-95@source_code/est.c\n",
            "      18      5     91      1      31 est_log_backtrace@99-129@source_code/est.c\n",
            "       3      1      9      1       3 est_get_version@136-138@source_code/est.c\n",
            "       3      1      9      1       3 est_get_api_level@148-150@source_code/est.c\n",
            "       7      2     43      1       9 est_log_version@156-164@source_code/est.c\n",
            "      10      2     46      2      16 est_init_logger@181-196@source_code/est.c\n",
            "       4      1     11      1       4 est_enable_backtrace@213-216@source_code/est.c\n",
            "      42      9    202      3      52 est_read_x509_request@239-290@source_code/est.c\n",
            "      29      5    135      3      33 est_load_key@313-345@source_code/est.c\n",
            "      62     11    323      2     101 est_get_certs_pkcs7@357-457@source_code/est.c\n",
            "      38      6    223      3      51 est_load_ca_certs@467-517@source_code/est.c\n",
            "      16      3     92      3      22 est_load_trusted_certs@528-549@source_code/est.c\n",
            "      11      3     48      2      11 est_set_ex_data@570-580@source_code/est.c\n",
            "       7      2     27      1       7 est_get_ex_data@593-599@source_code/est.c\n",
            "      45     16    230      1      69 est_destroy@610-678@source_code/est.c\n",
            "      13      4     60      2      23 est_base64_contains_nl@688-710@source_code/est.c\n",
            "      38      6    219      3      59 est_base64_decode@719-777@source_code/est.c\n",
            "      44      5    245      4      68 est_base64_encode@786-853@source_code/est.c\n",
            "      46      9    282      2      59 est_get_tls_uid@862-920@source_code/est.c\n",
            "       9      2     69      3      10 est_hex_to_str@926-935@source_code/est.c\n",
            "       9      2     36      1      10 est_enable_crl@953-962@source_code/est.c\n",
            "      51     11    253      3      60 est_asn1_sanity_test@971-1030@source_code/est.c\n",
            "       8      3     54      3      12 est_is_challengePassword_present@1038-1049@source_code/est.c\n",
            "      27      5    151      3      35 est_asn1_parse_attributes@1056-1090@source_code/est.c\n",
            "      92     14    687      4     108 est_add_challengePassword@1097-1204@source_code/est.c\n",
            "      21      6    108      4      27 est_add_attributes_helper@1218-1244@source_code/est.c\n",
            "      28      8    159      4      42 est_decode_attributes_helper@1258-1299@source_code/est.c\n",
            "      51     10    273      3      60 est_get_attributes_helper@1313-1372@source_code/est.c\n",
            "      55     11    353      1      66 cleanse_auth_credentials@1377-1442@source_code/est.c\n",
            "      16      5     90      1      18 est_parse_operation@1446-1463@source_code/est.c\n",
            "     103     17    620      3     165 est_parse_uri@1467-1631@source_code/est.c\n",
            "      19      5    124      3      25 est_parse_uri@1635-1659@source_code/est.c\n",
            "      18      4    101      3      24 est_store_path_segment@1663-1686@source_code/est.c\n",
            "      10      2     55      2      16 est_strcasecmp_s@1690-1705@source_code/est.c\n",
            "1 file analyzed.\n",
            "==============================================================\n",
            "NLOC    Avg.NLOC  AvgCCN  Avg.token  function_cnt    file\n",
            "--------------------------------------------------------------\n",
            "   1005      27.1     5.5      155.0        37     source_code/est.c\n",
            "\n",
            "===========================================================================================================\n",
            "!!!! Warnings (cyclomatic_complexity > 15 or length > 1000 or nloc > 1000000 or parameter_count > 100) !!!!\n",
            "================================================\n",
            "  NLOC    CCN   token  PARAM  length  location  \n",
            "------------------------------------------------\n",
            "      45     16    230      1      69 est_destroy@610-678@source_code/est.c\n",
            "     103     17    620      3     165 est_parse_uri@1467-1631@source_code/est.c\n",
            "==========================================================================================\n",
            "Total nloc   Avg.NLOC  AvgCCN  Avg.token   Fun Cnt  Warning cnt   Fun Rt   nloc Rt\n",
            "------------------------------------------------------------------------------------------\n",
            "      1005      27.1     5.5      155.0       37            2      0.05    0.15\n"
          ],
          "name": "stdout"
        }
      ]
    },
    {
      "cell_type": "code",
      "metadata": {
        "id": "OWBaZCgf5huR",
        "colab_type": "code",
        "colab": {}
      },
      "source": [
        ""
      ],
      "execution_count": 0,
      "outputs": []
    }
  ]
}