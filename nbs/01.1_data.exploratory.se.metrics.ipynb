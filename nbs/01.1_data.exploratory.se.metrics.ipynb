{
  "nbformat": 4,
  "nbformat_minor": 0,
  "metadata": {
    "kernelspec": {
      "display_name": "Python 3",
      "language": "python",
      "name": "python3"
    },
    "language_info": {
      "codemirror_mode": {
        "name": "ipython",
        "version": 3
      },
      "file_extension": ".py",
      "mimetype": "text/x-python",
      "name": "python",
      "nbconvert_exporter": "python",
      "pygments_lexer": "ipython3",
      "version": "3.6.8"
    },
    "colab": {
      "name": "01.1_data.exploratory.se.metrics.ipynb",
      "provenance": []
    }
  },
  "cells": [
    {
      "cell_type": "code",
      "metadata": {
        "id": "iiU_wJelvSeJ",
        "colab_type": "code",
        "colab": {}
      },
      "source": [
        "# default_exp data.exploratory.se.metrics"
      ],
      "execution_count": 0,
      "outputs": []
    },
    {
      "cell_type": "markdown",
      "metadata": {
        "id": "3D-SNetwvSea",
        "colab_type": "text"
      },
      "source": [
        "# Exploration of your data\n",
        "\n",
        "> This module comprises some of the statistical and inference techniques to describe the inner properties of software data. The submodules might include:\n",
        ">\n",
        "> - Descriptive statistics\n",
        "> - Software Metrics\n",
        "> - Information Theory\n",
        "> - Learning Principels Detection (Occams' Razor, Biased data, and Data Snooping)\n",
        "> - Inference: Probabilistic and Causal"
      ]
    },
    {
      "cell_type": "markdown",
      "metadata": {
        "id": "2buKCA0I01Cn",
        "colab_type": "text"
      },
      "source": [
        "### Specifically in this module\n",
        "\n",
        "> - Cyclomatic complexity (CYCLO)\n",
        "> - Coupling Between Objects (CBO)\n",
        "> - Lack of Cohesion of Methods 5 (LCOM5)\n",
        "> - Top/Least 20 Occurring Tokens\n",
        "> - Percentage of redundancy (just Java)\n",
        "> - How many Type I and Type II clones are in Java datasets?"
      ]
    },
    {
      "cell_type": "code",
      "metadata": {
        "id": "jjkOCTMxvSed",
        "colab_type": "code",
        "colab": {}
      },
      "source": [
        "# #hide\n",
        "# from nbdev.showdoc import *"
      ],
      "execution_count": 0,
      "outputs": []
    },
    {
      "cell_type": "code",
      "metadata": {
        "id": "dmqIlUc01iz8",
        "colab_type": "code",
        "outputId": "79be3a26-fb76-49a5-938a-ef6542c8e314",
        "colab": {
          "base_uri": "https://localhost:8080/",
          "height": 68
        }
      },
      "source": [
        "!pip install sentencepiece\n",
        "# !pip install metrics # Outdated Cyclomatic Complexity tool\n",
        "!pip install lizard\n",
        "!pip install tree_sitter"
      ],
      "execution_count": 3,
      "outputs": [
        {
          "output_type": "stream",
          "text": [
            "Requirement already satisfied: sentencepiece in /usr/local/lib/python3.6/dist-packages (0.1.85)\n",
            "Requirement already satisfied: lizard in /usr/local/lib/python3.6/dist-packages (1.17.3)\n",
            "Requirement already satisfied: tree_sitter in /usr/local/lib/python3.6/dist-packages (0.1.0)\n"
          ],
          "name": "stdout"
        }
      ]
    },
    {
      "cell_type": "code",
      "metadata": {
        "id": "GZfgmd8qvrVX",
        "colab_type": "code",
        "colab": {}
      },
      "source": [
        "# export\n",
        "# Imports\n",
        "import pandas as pd\n",
        "import sentencepiece as sp\n",
        "from numpy import mean, std\n",
        "from statistics import median\n",
        "from scipy.stats import sem, t\n",
        "import lizard\n",
        "import matplotlib.pyplot as plt\n",
        "from tree_sitter import Language, Parser\n",
        "\n",
        "# TODO: Remove when mongo call is implemented\n",
        "import os"
      ],
      "execution_count": 0,
      "outputs": []
    },
    {
      "cell_type": "code",
      "metadata": {
        "id": "jYB4MevPoqut",
        "colab_type": "code",
        "colab": {
          "base_uri": "https://localhost:8080/",
          "height": 102
        },
        "outputId": "827a39b8-a7c1-4571-b410-017b31e2d39e"
      },
      "source": [
        "!git clone https://github.com/tree-sitter/tree-sitter-c\n",
        "!git clone https://github.com/tree-sitter/tree-sitter-cpp\n",
        "!git clone https://github.com/tree-sitter/tree-sitter-java\n",
        "!git clone https://github.com/tree-sitter/tree-sitter-javascript\n",
        "!git clone https://github.com/tree-sitter/tree-sitter-python"
      ],
      "execution_count": 5,
      "outputs": [
        {
          "output_type": "stream",
          "text": [
            "fatal: destination path 'tree-sitter-c' already exists and is not an empty directory.\n",
            "fatal: destination path 'tree-sitter-cpp' already exists and is not an empty directory.\n",
            "fatal: destination path 'tree-sitter-java' already exists and is not an empty directory.\n",
            "fatal: destination path 'tree-sitter-javascript' already exists and is not an empty directory.\n",
            "fatal: destination path 'tree-sitter-python' already exists and is not an empty directory.\n"
          ],
          "name": "stdout"
        }
      ]
    },
    {
      "cell_type": "code",
      "metadata": {
        "id": "SCBPfIyqvSev",
        "colab_type": "code",
        "colab": {}
      },
      "source": [
        "# TODO: Replace with actual mongo call\n",
        "def simulate_getting_dataframes_from_mongo():\n",
        "    corpus_data = {\"system\": [], \"name\": [], \"ground_truth\": [], \"contents\": []}\n",
        "    path = \"./tests\"\n",
        "    for file in os.listdir(path):\n",
        "        corpus_data[\"system\"].append(None)\n",
        "        corpus_data[\"name\"].append(file)\n",
        "        corpus_data[\"ground_truth\"].append(\"src\")\n",
        "        try:\n",
        "            with open (os.path.join(path, file), \"r\", encoding='utf-8') as f:\n",
        "                corpus_data['contents'].append(f.read())\n",
        "        except UnicodeDecodeError:\n",
        "            with open (os.path.join(path, file), \"r\", encoding='iso-8859-15') as f:\n",
        "                corpus_data['contents'].append(f.read())\n",
        "    # path = \"./tests\"\n",
        "    # for file in os.listdir(path):\n",
        "    #     corpus_data[\"system\"].append(None)\n",
        "    #     corpus_data[\"name\"].append(file)\n",
        "    #     corpus_data[\"ground_truth\"].append(\"test\")\n",
        "    #     try:\n",
        "    #         with open (os.path.join(path, file), \"r\", encoding='utf-8') as f:\n",
        "    #             corpus_data[\"contents\"].append(f.read())\n",
        "    #     except UnicodeDecodeError:\n",
        "    #         with open (os.path.join(path, file), \"r\", encoding='utf-16') as f:\n",
        "    #             corpus_data[\"contents\"].append(f.read())\n",
        "    corpus_df = pd.DataFrame(data = corpus_data)\n",
        "    return corpus_df"
      ],
      "execution_count": 0,
      "outputs": []
    },
    {
      "cell_type": "code",
      "metadata": {
        "id": "twT8CJYECVxT",
        "colab_type": "code",
        "colab": {}
      },
      "source": [
        "# export\n",
        "def add_length_col(df, col, length_col_name='length'):\n",
        "    \"\"\"Adds a length column with the length of entries in the specified column of a dataframe\"\"\"\n",
        "    df[length_col_name] = df[col].astype(str).apply(len)\n",
        "    return df"
      ],
      "execution_count": 0,
      "outputs": []
    },
    {
      "cell_type": "code",
      "metadata": {
        "id": "6Cj1GByJAyVQ",
        "colab_type": "code",
        "colab": {}
      },
      "source": [
        "# export\n",
        "def add_mccabe_metrics(df, col):\n",
        "    \"\"\"Adds information about function length and cyclomatic complexity to the corpus dataframe\"\"\"\n",
        "    file_ccn = []\n",
        "    file_nloc = []\n",
        "    num_funcs = []\n",
        "    avg_func_ccn = []\n",
        "    avg_func_nloc = []\n",
        "    # avg_func_tok_count = [] # TODO: Figure out how lizard tokenizes\n",
        "    for i in range(len(df)):\n",
        "        metrics = lizard.analyze_file.analyze_source_code(df[\"name\"][i], df[\"contents\"][i])\n",
        "        file_ccn.append(metrics.CCN)\n",
        "        file_nloc.append(metrics.nloc)\n",
        "        num_funcs.append(len(metrics.function_list))\n",
        "        avg_func_ccn.append(metrics.average_cyclomatic_complexity)\n",
        "        avg_func_nloc.append(metrics.average_nloc)\n",
        "        # avg_func_tok_count.append(metrics.average_token_count) # TODO: Figure out how lizard tokenizes\n",
        "    df[\"file_ccn\"] = file_ccn\n",
        "    df[\"file_nloc\"] = file_nloc\n",
        "    df[\"num_funcs\"] = num_funcs\n",
        "    df[\"avg_func_ccn\"] = avg_func_ccn\n",
        "    df[\"avg_func_nloc\"] = avg_func_nloc\n",
        "    # df[\"avg_func_tok_count\"] = avg_func_tok_count # TODO: Figure out how lizard tokenizes\n",
        "    return df"
      ],
      "execution_count": 0,
      "outputs": []
    },
    {
      "cell_type": "code",
      "metadata": {
        "id": "BlcPAt8PqTto",
        "colab_type": "code",
        "colab": {}
      },
      "source": [
        "#export\n",
        "def create_parser_builds(path=None):\n",
        "    '''Creates a dictionary of tree-sitter parsers for select languages'''\n",
        "    Language.build_library(\n",
        "        # Store the library in the `build` directory\n",
        "        'build/my-languages.so',\n",
        "\n",
        "        # Include one or more languages\n",
        "        [\n",
        "            'tree-sitter-c',\n",
        "            'tree-sitter-cpp',\n",
        "            'tree-sitter-java',\n",
        "            'tree-sitter-javascript',\n",
        "            'tree-sitter-python'\n",
        "        ]\n",
        "    )\n",
        "\n",
        "    C_LANGUAGE = Language('build/my-languages.so', 'c')\n",
        "    CPP_LANGUAGE = Language('build/my-languages.so', 'cpp')\n",
        "    JAVA_LANGUAGE = Language('build/my-languages.so', 'java')\n",
        "    JS_LANGUAGE = Language('build/my-languages.so', 'javascript')\n",
        "    PY_LANGUAGE = Language('build/my-languages.so', 'python')\n",
        "    \n",
        "    return {'c':C_LANGUAGE, 'cpp':CPP_LANGUAGE, 'java':JAVA_LANGUAGE, 'js':JS_LANGUAGE, 'py':PY_LANGUAGE}"
      ],
      "execution_count": 0,
      "outputs": []
    },
    {
      "cell_type": "code",
      "metadata": {
        "id": "elku58aJJNx0",
        "colab_type": "code",
        "colab": {}
      },
      "source": [
        "#export\n",
        "def num_atts_c(tree):\n",
        "    return 0"
      ],
      "execution_count": 0,
      "outputs": []
    },
    {
      "cell_type": "code",
      "metadata": {
        "id": "VEUOtqwYJQ5d",
        "colab_type": "code",
        "colab": {}
      },
      "source": [
        "#export\n",
        "def num_methods_c(tree):\n",
        "    return 0"
      ],
      "execution_count": 0,
      "outputs": []
    },
    {
      "cell_type": "code",
      "metadata": {
        "id": "JcbFBRkjJTBq",
        "colab_type": "code",
        "colab": {}
      },
      "source": [
        "#export\n",
        "def num_att_calls_c(tree):\n",
        "    return 0"
      ],
      "execution_count": 0,
      "outputs": []
    },
    {
      "cell_type": "code",
      "metadata": {
        "id": "OsTG7gpXJUvo",
        "colab_type": "code",
        "colab": {}
      },
      "source": [
        "#export\n",
        "def num_atts_cpp(tree):\n",
        "    return 0"
      ],
      "execution_count": 0,
      "outputs": []
    },
    {
      "cell_type": "code",
      "metadata": {
        "id": "1ZTbnCQlJWH6",
        "colab_type": "code",
        "colab": {}
      },
      "source": [
        "#export\n",
        "def num_methods_cpp(tree):\n",
        "    return 0"
      ],
      "execution_count": 0,
      "outputs": []
    },
    {
      "cell_type": "code",
      "metadata": {
        "id": "Rn0mCj81Jm5G",
        "colab_type": "code",
        "colab": {}
      },
      "source": [
        "#export\n",
        "def num_att_calls_cpp(tree):\n",
        "    return 0"
      ],
      "execution_count": 0,
      "outputs": []
    },
    {
      "cell_type": "code",
      "metadata": {
        "id": "y7Yo56J1FoGi",
        "colab_type": "code",
        "colab": {}
      },
      "source": [
        "#export\n",
        "def num_atts_java(tree):\n",
        "    root_node = tree.root_node\n",
        "    num_atts = 0\n",
        "    for a in range(len(root_node.children)):\n",
        "        if root_node.children[a].type == \"class_declaration\":\n",
        "            class_dec = root_node.children[a]\n",
        "            for b in range(len(class_dec.children)):\n",
        "                if class_dec.children[b].type == \"class_body\":\n",
        "                    class_body = class_dec.children[b]\n",
        "                    for c in range(len(class_body.children)):\n",
        "                        if class_body.children[c].type == \"field_declaration\":\n",
        "                            field_dec = class_body.children[c]\n",
        "                            for d in range(len(field_dec.children)):\n",
        "                                if field_dec.children[d].type == \"variable_declarator\":\n",
        "                                    num_atts += 1\n",
        "    return num_atts"
      ],
      "execution_count": 0,
      "outputs": []
    },
    {
      "cell_type": "code",
      "metadata": {
        "id": "vP2yM95PFouK",
        "colab_type": "code",
        "colab": {}
      },
      "source": [
        "#export\n",
        "def num_methods_java(tree):\n",
        "    root_node = tree.root_node\n",
        "    num_methods = 0\n",
        "    for a in range(len(root_node.children)):\n",
        "        if root_node.children[a].type == \"class_declaration\":\n",
        "            class_dec = root_node.children[a]\n",
        "            for b in range(len(class_dec.children)):\n",
        "                if class_dec.children[b].type == \"class_body\":\n",
        "                    class_body = class_dec.children[b]\n",
        "                    for c in range(len(class_body.children)):\n",
        "                        if class_body.children[c].type == \"method_declaration\":\n",
        "                            num_methods += 1\n",
        "    return num_methods"
      ],
      "execution_count": 0,
      "outputs": []
    },
    {
      "cell_type": "code",
      "metadata": {
        "id": "fVrvZehFFobL",
        "colab_type": "code",
        "colab": {}
      },
      "source": [
        "#export\n",
        "def num_att_calls_java(tree):\n",
        "    return 0"
      ],
      "execution_count": 0,
      "outputs": []
    },
    {
      "cell_type": "code",
      "metadata": {
        "id": "LxQvfsepJqJ3",
        "colab_type": "code",
        "colab": {}
      },
      "source": [
        "#export\n",
        "def num_atts_js(tree):\n",
        "    return 0"
      ],
      "execution_count": 0,
      "outputs": []
    },
    {
      "cell_type": "code",
      "metadata": {
        "id": "LzaxnBYXJrtN",
        "colab_type": "code",
        "colab": {}
      },
      "source": [
        "#export\n",
        "def num_methods_js(tree):\n",
        "    return 0"
      ],
      "execution_count": 0,
      "outputs": []
    },
    {
      "cell_type": "code",
      "metadata": {
        "id": "-tKYiv55Jts-",
        "colab_type": "code",
        "colab": {}
      },
      "source": [
        "#export\n",
        "def num_att_calls_js(tree):\n",
        "    return 0"
      ],
      "execution_count": 0,
      "outputs": []
    },
    {
      "cell_type": "code",
      "metadata": {
        "id": "fJHAiJa0Jwvx",
        "colab_type": "code",
        "colab": {}
      },
      "source": [
        "#export\n",
        "def num_atts_py(tree):\n",
        "    return 0"
      ],
      "execution_count": 0,
      "outputs": []
    },
    {
      "cell_type": "code",
      "metadata": {
        "id": "eFbFZ4FNJyKM",
        "colab_type": "code",
        "colab": {}
      },
      "source": [
        "#export\n",
        "def num_methods_py(tree):\n",
        "    return 0"
      ],
      "execution_count": 0,
      "outputs": []
    },
    {
      "cell_type": "code",
      "metadata": {
        "id": "u-w6wil_Jz0E",
        "colab_type": "code",
        "colab": {}
      },
      "source": [
        "#export\n",
        "def num_att_calls_py(tree):\n",
        "    return 0"
      ],
      "execution_count": 0,
      "outputs": []
    },
    {
      "cell_type": "code",
      "metadata": {
        "id": "rYvkfU-A1WWR",
        "colab_type": "code",
        "colab": {}
      },
      "source": [
        "#export\n",
        "def get_lcom5(tree, extension):\n",
        "    num_atts_func_dict = {'c':num_atts_c, 'cpp':num_atts_cpp, 'java':num_atts_java, 'js':num_atts_js, 'py':num_atts_py}\n",
        "    num_methods_func_dict = {'c':num_methods_c, 'cpp':num_methods_cpp, 'java':num_methods_java, 'js':num_methods_js, 'py':num_methods_py}\n",
        "    num_att_calls_func_dict = {'c':num_att_calls_c, 'cpp':num_att_calls_cpp, 'java':num_att_calls_java, 'js':num_att_calls_js, 'py':num_att_calls_py}\n",
        "    if extension in num_atts_func_dict:\n",
        "        cursor = tree.walk()\n",
        "        atts = num_atts_func_dict[extension](tree)\n",
        "        meths = num_methods_func_dict[extension](tree)\n",
        "        att_calls = num_att_calls_func_dict[extension](tree)\n",
        "        # print(extension, atts)\n",
        "        # return (att_refs - (meths*atts))/(atts - (meths*atts))\n",
        "    else:\n",
        "        print(f\"Tried to get LCOM5 of file with extension '.{extension}', that language is not supported, 0 assigned to column.\")\n",
        "        return 0"
      ],
      "execution_count": 0,
      "outputs": []
    },
    {
      "cell_type": "code",
      "metadata": {
        "id": "yLt1IRuWrjEK",
        "colab_type": "code",
        "colab": {}
      },
      "source": [
        "#export\n",
        "def add_lcom5(df, col):\n",
        "    lang_builds = create_parser_builds()\n",
        "    parser = Parser()\n",
        "    file_lcom5 = []\n",
        "    for i in range(len(df)):\n",
        "        ext = df[\"name\"][i].split('.')[-1]\n",
        "        parser.set_language(lang_builds[ext])\n",
        "        tree = parser.parse(bytes(df[\"contents\"][i], \"utf8\"))\n",
        "        file_lcom5.append(get_lcom5(tree, ext))\n",
        "    df[\"file_lcom5\"] = file_lcom5\n",
        "    return df"
      ],
      "execution_count": 0,
      "outputs": []
    },
    {
      "cell_type": "code",
      "metadata": {
        "id": "m8zM9rtr1f-n",
        "colab_type": "code",
        "colab": {}
      },
      "source": [
        "# export\n",
        "def display_stats(df, col, data_types=None, conf = 0.95, sig_figs = 4):\n",
        "    \"\"\"Computes statistical metrics about the entries in a dataframe column\"\"\"\n",
        "    if data_types: \n",
        "        df = df[df['ground_truth'].isin(data_types)]\n",
        "        print(f\"~~Printing metrics for {data_types} in column [{col}]~~\")\n",
        "    else:\n",
        "        print(f\"~~Printing metrics for all data in column [{col}]~~\")\n",
        "\n",
        "    print(\"Min =\", round(df[col].min(), sig_figs))\n",
        "    print(\"Max =\", round(df[col].max(), sig_figs))\n",
        "    print(\"Average =\", round(df[col].mean(), sig_figs))\n",
        "    print(\"Median =\", round(median(df[col]), sig_figs))\n",
        "    print(\"Standard Deviation =\", round(std(df[col]), sig_figs))\n",
        "    \n",
        "    n = len(df[col])\n",
        "    m = mean(df[col])\n",
        "    std_err = sem(df[col])\n",
        "    h = std_err * t.ppf((1 + conf) / 2, n - 1)\n",
        "\n",
        "    start = m - h\n",
        "    end = m + h\n",
        "    print(f\"{conf} of data points fall between {round(start, sig_figs)} and {round(end, sig_figs)}\")"
      ],
      "execution_count": 0,
      "outputs": []
    },
    {
      "cell_type": "code",
      "metadata": {
        "id": "Zrcs5Js-CR7T",
        "colab_type": "code",
        "colab": {}
      },
      "source": [
        "#export\n",
        "def display_hist(df, col, bins=None):\n",
        "    '''Displays a histogram with a customized number of bins for the data in a specified dataframe column'''\n",
        "    rng = df[col].max() - df[col].min()\n",
        "    num = len(df[col])\n",
        "    stnd_dev = std(df[col])\n",
        "    # num_bins = round((rng*(pow(num,1/3)))/(3.49*stnd_dev)) # Bins calculated according to https://academic.oup.com/biomet/article-abstract/66/3/605/232642\n",
        "    num_bins = 20\n",
        "    plt.hist(df[col], num_bins, color=\"blue\", alpha=0.5, edgecolor=\"black\", linewidth=1.0)\n",
        "    plt.title(col + \"  histogram\")\n",
        "    plt.ylabel(\"value  occurrences\")\n",
        "    plt.xlabel(\"file  \" + col)\n",
        "    plt.show()"
      ],
      "execution_count": 0,
      "outputs": []
    },
    {
      "cell_type": "markdown",
      "metadata": {
        "id": "y3lwzryRwjxI",
        "colab_type": "text"
      },
      "source": [
        "# Analysis & Visualization"
      ]
    },
    {
      "cell_type": "code",
      "metadata": {
        "id": "W13webAlwoKA",
        "colab_type": "code",
        "outputId": "6a52560c-0523-4b27-d4fc-080762c09e4b",
        "colab": {
          "base_uri": "https://localhost:8080/",
          "height": 51
        }
      },
      "source": [
        "# Retrieve the data\n",
        "corpus_df = simulate_getting_dataframes_from_mongo()\n",
        "src_df = corpus_df.loc[corpus_df[\"ground_truth\"] == 'src']\n",
        "# test_df = corpus_df.loc[corpus_df[\"ground_truth\"] == 'test']\n",
        "\n",
        "total_file_count = len(corpus_df)\n",
        "src_files_count = len(src_df)\n",
        "# test_files_count = len(test_df)\n",
        "print(\"Source Code Files:\", src_files_count, \"(\" + str(round(src_files_count/total_file_count, 4)*100) + \"%)\")\n",
        "# print(\"Test Code Files:\", test_files_count, \"(\" + str(round(test_files_count/total_file_count, 4)*100) + \"%)\")\n",
        "print(\"Total files:\", total_file_count)"
      ],
      "execution_count": 29,
      "outputs": [
        {
          "output_type": "stream",
          "text": [
            "Source Code Files: 84 (100.0%)\n",
            "Total files: 84\n"
          ],
          "name": "stdout"
        }
      ]
    },
    {
      "cell_type": "code",
      "metadata": {
        "id": "T9wPtN2B2oJ9",
        "colab_type": "code",
        "colab": {}
      },
      "source": [
        "# Add the new metric columns to the corpus dataframe\n",
        "corpus_df = add_length_col(corpus_df, 'contents', 'code_length')\n",
        "corpus_df = add_mccabe_metrics(corpus_df, 'contents')"
      ],
      "execution_count": 0,
      "outputs": []
    },
    {
      "cell_type": "code",
      "metadata": {
        "id": "ZZfN_Rv_snFV",
        "colab_type": "code",
        "colab": {}
      },
      "source": [
        "corpus_df = add_lcom5(corpus_df, 'contents')"
      ],
      "execution_count": 0,
      "outputs": []
    },
    {
      "cell_type": "code",
      "metadata": {
        "id": "apSJhPyzsnXI",
        "colab_type": "code",
        "colab": {}
      },
      "source": [
        ""
      ],
      "execution_count": 0,
      "outputs": []
    },
    {
      "cell_type": "code",
      "metadata": {
        "id": "wLUpOlmjsnoX",
        "colab_type": "code",
        "colab": {}
      },
      "source": [
        ""
      ],
      "execution_count": 0,
      "outputs": []
    },
    {
      "cell_type": "code",
      "metadata": {
        "id": "AaFF77FNBDsx",
        "colab_type": "code",
        "outputId": "2d0a2f4c-1821-4b89-89fc-c22f54d8cca4",
        "colab": {
          "base_uri": "https://localhost:8080/",
          "height": 415
        }
      },
      "source": [
        "# Print statistical information about the length of each file\n",
        "display_stats(corpus_df, 'code_length')\n",
        "display_hist(corpus_df, 'code_length')"
      ],
      "execution_count": 32,
      "outputs": [
        {
          "output_type": "stream",
          "text": [
            "~~Printing metrics for all data in column [code_length]~~\n",
            "Min = 979\n",
            "Max = 149212\n",
            "Average = 16650.881\n",
            "Median = 9381.5\n",
            "Standard Deviation = 20832.8742\n",
            "0.95 of data points fall between 12102.7166 and 21199.0453\n"
          ],
          "name": "stdout"
        },
        {
          "output_type": "display_data",
          "data": {
            "image/png": "[encoded data removed]",
            "text/plain": [
              "<Figure size 432x288 with 1 Axes>"
            ]
          },
          "metadata": {
            "tags": []
          }
        }
      ]
    },
    {
      "cell_type": "code",
      "metadata": {
        "id": "TmXuuwU5077r",
        "colab_type": "code",
        "outputId": "22240f81-79dd-4fec-f8b8-66e9534ddbb4",
        "colab": {
          "base_uri": "https://localhost:8080/",
          "height": 415
        }
      },
      "source": [
        "# Print statistical information about the cyclomatic complexity per file\n",
        "display_stats(corpus_df, 'file_ccn')\n",
        "display_hist(corpus_df, 'file_ccn')"
      ],
      "execution_count": 33,
      "outputs": [
        {
          "output_type": "stream",
          "text": [
            "~~Printing metrics for all data in column [file_ccn]~~\n",
            "Min = 2\n",
            "Max = 516\n",
            "Average = 47.75\n",
            "Median = 27.0\n",
            "Standard Deviation = 75.1687\n",
            "0.95 of data points fall between 31.3394 and 64.1606\n"
          ],
          "name": "stdout"
        },
        {
          "output_type": "display_data",
          "data": {
            "image/png": "[encoded data removed]",
            "text/plain": [
              "<Figure size 432x288 with 1 Axes>"
            ]
          },
          "metadata": {
            "tags": []
          }
        }
      ]
    },
    {
      "cell_type": "code",
      "metadata": {
        "id": "ZzWNnYS1BDz-",
        "colab_type": "code",
        "outputId": "2c17c040-23e1-4ba2-96c4-314e3b4c2c59",
        "colab": {
          "base_uri": "https://localhost:8080/",
          "height": 415
        }
      },
      "source": [
        "# Print statistical information about the number of lines of code per file\n",
        "display_stats(corpus_df, 'file_nloc')\n",
        "display_hist(corpus_df, 'file_nloc')"
      ],
      "execution_count": 34,
      "outputs": [
        {
          "output_type": "stream",
          "text": [
            "~~Printing metrics for all data in column [file_nloc]~~\n",
            "Min = 33\n",
            "Max = 2353\n",
            "Average = 337.119\n",
            "Median = 242.0\n",
            "Standard Deviation = 346.8797\n",
            "0.95 of data points fall between 261.3894 and 412.8487\n"
          ],
          "name": "stdout"
        },
        {
          "output_type": "display_data",
          "data": {
            "image/png": "[encoded data removed]",
            "text/plain": [
              "<Figure size 432x288 with 1 Axes>"
            ]
          },
          "metadata": {
            "tags": []
          }
        }
      ]
    },
    {
      "cell_type": "code",
      "metadata": {
        "id": "_XOs7cA0BRMX",
        "colab_type": "code",
        "outputId": "3947ed2a-1daa-4929-ba87-efd5d45b3806",
        "colab": {
          "base_uri": "https://localhost:8080/",
          "height": 415
        }
      },
      "source": [
        "# Print statistical information about the number of functions per file\n",
        "display_stats(corpus_df, 'num_funcs')\n",
        "display_hist(corpus_df, 'num_funcs')"
      ],
      "execution_count": 35,
      "outputs": [
        {
          "output_type": "stream",
          "text": [
            "~~Printing metrics for all data in column [num_funcs]~~\n",
            "Min = 2\n",
            "Max = 60\n",
            "Average = 11.9286\n",
            "Median = 7.5\n",
            "Standard Deviation = 11.1289\n",
            "0.95 of data points fall between 9.499 and 14.3582\n"
          ],
          "name": "stdout"
        },
        {
          "output_type": "display_data",
          "data": {
            "image/png": "[encoded data removed]",
            "text/plain": [
              "<Figure size 432x288 with 1 Axes>"
            ]
          },
          "metadata": {
            "tags": []
          }
        }
      ]
    },
    {
      "cell_type": "code",
      "metadata": {
        "id": "ceYj929fBRXq",
        "colab_type": "code",
        "outputId": "224cdeaa-72a5-4d7a-f314-634f22c1e6c8",
        "colab": {
          "base_uri": "https://localhost:8080/",
          "height": 415
        }
      },
      "source": [
        "# Print statistical information about the average function cyclomatic complexities per file\n",
        "display_stats(corpus_df, 'avg_func_ccn')\n",
        "display_hist(corpus_df, 'avg_func_ccn')"
      ],
      "execution_count": 36,
      "outputs": [
        {
          "output_type": "stream",
          "text": [
            "~~Printing metrics for all data in column [avg_func_ccn]~~\n",
            "Min = 1.0\n",
            "Max = 12.5882\n",
            "Average = 3.2271\n",
            "Median = 2.5147\n",
            "Standard Deviation = 2.1763\n",
            "0.95 of data points fall between 2.752 and 3.7022\n"
          ],
          "name": "stdout"
        },
        {
          "output_type": "display_data",
          "data": {
            "image/png": "[encoded data removed]",
            "text/plain": [
              "<Figure size 432x288 with 1 Axes>"
            ]
          },
          "metadata": {
            "tags": []
          }
        }
      ]
    },
    {
      "cell_type": "code",
      "metadata": {
        "id": "FFuB7nUnBRiA",
        "colab_type": "code",
        "outputId": "0252c95c-5bf2-4f96-e043-928c2b321aa2",
        "colab": {
          "base_uri": "https://localhost:8080/",
          "height": 415
        }
      },
      "source": [
        "# Print statistical information about the average function cyclomatic complexity per file\n",
        "display_stats(corpus_df, 'avg_func_nloc')\n",
        "display_hist(corpus_df, 'avg_func_nloc')"
      ],
      "execution_count": 37,
      "outputs": [
        {
          "output_type": "stream",
          "text": [
            "~~Printing metrics for all data in column [avg_func_nloc]~~\n",
            "Min = 10.0\n",
            "Max = 59.4\n",
            "Average = 25.6371\n",
            "Median = 22.4524\n",
            "Standard Deviation = 11.3946\n",
            "0.95 of data points fall between 23.1495 and 28.1247\n"
          ],
          "name": "stdout"
        },
        {
          "output_type": "display_data",
          "data": {
            "image/png": "[encoded data removed]",
            "text/plain": [
              "<Figure size 432x288 with 1 Axes>"
            ]
          },
          "metadata": {
            "tags": []
          }
        }
      ]
    },
    {
      "cell_type": "code",
      "metadata": {
        "id": "J-4u0kq63K73",
        "colab_type": "code",
        "colab": {}
      },
      "source": [
        "# # Print statistical information about the average LCOM5 per file\n",
        "# display_stats(corpus_df, 'file_lcom5')\n",
        "# display_hist(corpus_df, 'file_lcom5')"
      ],
      "execution_count": 0,
      "outputs": []
    },
    {
      "cell_type": "code",
      "metadata": {
        "id": "aqpxj8CkBD7G",
        "colab_type": "code",
        "outputId": "2193e3a7-2e5b-4639-cc30-512f4e4cc514",
        "colab": {
          "base_uri": "https://localhost:8080/",
          "height": 1000
        }
      },
      "source": [
        "pd.set_option('display.expand_frame_repr', False)\n",
        "corpus_df.head(20)"
      ],
      "execution_count": 39,
      "outputs": [
        {
          "output_type": "execute_result",
          "data": {
            "text/html": [
              "<div>\n",
              "<style scoped>\n",
              "    .dataframe tbody tr th:only-of-type {\n",
              "        vertical-align: middle;\n",
              "    }\n",
              "\n",
              "    .dataframe tbody tr th {\n",
              "        vertical-align: top;\n",
              "    }\n",
              "\n",
              "    .dataframe thead th {\n",
              "        text-align: right;\n",
              "    }\n",
              "</style>\n",
              "<table border=\"1\" class=\"dataframe\">\n",
              "  <thead>\n",
              "    <tr style=\"text-align: right;\">\n",
              "      <th></th>\n",
              "      <th>system</th>\n",
              "      <th>name</th>\n",
              "      <th>ground_truth</th>\n",
              "      <th>contents</th>\n",
              "      <th>code_length</th>\n",
              "      <th>file_ccn</th>\n",
              "      <th>file_nloc</th>\n",
              "      <th>num_funcs</th>\n",
              "      <th>avg_func_ccn</th>\n",
              "      <th>avg_func_nloc</th>\n",
              "      <th>file_lcom5</th>\n",
              "    </tr>\n",
              "  </thead>\n",
              "  <tbody>\n",
              "    <tr>\n",
              "      <th>0</th>\n",
              "      <td>None</td>\n",
              "      <td>InserisciStanze.java</td>\n",
              "      <td>src</td>\n",
              "      <td>package interfacce;\\nimport java.awt.*;\\nimpor...</td>\n",
              "      <td>1058</td>\n",
              "      <td>6</td>\n",
              "      <td>46</td>\n",
              "      <td>3</td>\n",
              "      <td>2.000000</td>\n",
              "      <td>12.333333</td>\n",
              "      <td>None</td>\n",
              "    </tr>\n",
              "    <tr>\n",
              "      <th>1</th>\n",
              "      <td>None</td>\n",
              "      <td>DescrittoreStanze.java</td>\n",
              "      <td>src</td>\n",
              "      <td>package interfacce;\\nimport java.awt.*;\\nimpor...</td>\n",
              "      <td>5953</td>\n",
              "      <td>18</td>\n",
              "      <td>161</td>\n",
              "      <td>7</td>\n",
              "      <td>2.571429</td>\n",
              "      <td>20.571429</td>\n",
              "      <td>None</td>\n",
              "    </tr>\n",
              "    <tr>\n",
              "      <th>2</th>\n",
              "      <td>None</td>\n",
              "      <td>us896.c</td>\n",
              "      <td>src</td>\n",
              "      <td>/*--------------------------------------------...</td>\n",
              "      <td>10526</td>\n",
              "      <td>20</td>\n",
              "      <td>163</td>\n",
              "      <td>8</td>\n",
              "      <td>2.500000</td>\n",
              "      <td>19.125000</td>\n",
              "      <td>None</td>\n",
              "    </tr>\n",
              "    <tr>\n",
              "      <th>3</th>\n",
              "      <td>None</td>\n",
              "      <td>MascheraRicercaSoggiornante.java</td>\n",
              "      <td>src</td>\n",
              "      <td>package interfacce;\\nimport java.awt.*;\\nimpor...</td>\n",
              "      <td>9335</td>\n",
              "      <td>26</td>\n",
              "      <td>208</td>\n",
              "      <td>6</td>\n",
              "      <td>4.333333</td>\n",
              "      <td>31.333333</td>\n",
              "      <td>None</td>\n",
              "    </tr>\n",
              "    <tr>\n",
              "      <th>4</th>\n",
              "      <td>None</td>\n",
              "      <td>AggiungiSoggiornante.java</td>\n",
              "      <td>src</td>\n",
              "      <td>package interfacce;\\nimport java.awt.*;\\nimpor...</td>\n",
              "      <td>3393</td>\n",
              "      <td>10</td>\n",
              "      <td>102</td>\n",
              "      <td>5</td>\n",
              "      <td>2.000000</td>\n",
              "      <td>16.600000</td>\n",
              "      <td>None</td>\n",
              "    </tr>\n",
              "    <tr>\n",
              "      <th>5</th>\n",
              "      <td>None</td>\n",
              "      <td>us1060.c</td>\n",
              "      <td>src</td>\n",
              "      <td>/*--------------------------------------------...</td>\n",
              "      <td>21254</td>\n",
              "      <td>37</td>\n",
              "      <td>329</td>\n",
              "      <td>11</td>\n",
              "      <td>3.363636</td>\n",
              "      <td>20.727273</td>\n",
              "      <td>None</td>\n",
              "    </tr>\n",
              "    <tr>\n",
              "      <th>6</th>\n",
              "      <td>None</td>\n",
              "      <td>AskChiudiConto.java</td>\n",
              "      <td>src</td>\n",
              "      <td>package interfacce;\\nimport java.awt.*;\\nimpor...</td>\n",
              "      <td>2506</td>\n",
              "      <td>4</td>\n",
              "      <td>71</td>\n",
              "      <td>4</td>\n",
              "      <td>1.000000</td>\n",
              "      <td>14.250000</td>\n",
              "      <td>None</td>\n",
              "    </tr>\n",
              "    <tr>\n",
              "      <th>7</th>\n",
              "      <td>None</td>\n",
              "      <td>us1864.c</td>\n",
              "      <td>src</td>\n",
              "      <td>/*--------------------------------------------...</td>\n",
              "      <td>11522</td>\n",
              "      <td>15</td>\n",
              "      <td>149</td>\n",
              "      <td>8</td>\n",
              "      <td>1.875000</td>\n",
              "      <td>16.875000</td>\n",
              "      <td>None</td>\n",
              "    </tr>\n",
              "    <tr>\n",
              "      <th>8</th>\n",
              "      <td>None</td>\n",
              "      <td>InserisciCommissioni.java</td>\n",
              "      <td>src</td>\n",
              "      <td>package interfacce;\\nimport java.awt.*;\\nimpor...</td>\n",
              "      <td>1829</td>\n",
              "      <td>6</td>\n",
              "      <td>63</td>\n",
              "      <td>3</td>\n",
              "      <td>2.000000</td>\n",
              "      <td>17.666667</td>\n",
              "      <td>None</td>\n",
              "    </tr>\n",
              "    <tr>\n",
              "      <th>9</th>\n",
              "      <td>None</td>\n",
              "      <td>CancellaBeniServizi.java</td>\n",
              "      <td>src</td>\n",
              "      <td>package interfacce;\\nimport java.awt.*;\\nimpor...</td>\n",
              "      <td>8376</td>\n",
              "      <td>27</td>\n",
              "      <td>338</td>\n",
              "      <td>6</td>\n",
              "      <td>4.500000</td>\n",
              "      <td>54.000000</td>\n",
              "      <td>None</td>\n",
              "    </tr>\n",
              "    <tr>\n",
              "      <th>10</th>\n",
              "      <td>None</td>\n",
              "      <td>DefinizioneStagionalita.java</td>\n",
              "      <td>src</td>\n",
              "      <td>package interfacce;\\nimport java.awt.*;\\nimpor...</td>\n",
              "      <td>13566</td>\n",
              "      <td>42</td>\n",
              "      <td>327</td>\n",
              "      <td>8</td>\n",
              "      <td>5.250000</td>\n",
              "      <td>38.000000</td>\n",
              "      <td>None</td>\n",
              "    </tr>\n",
              "    <tr>\n",
              "      <th>11</th>\n",
              "      <td>None</td>\n",
              "      <td>us1159.c</td>\n",
              "      <td>src</td>\n",
              "      <td>/*--------------------------------------------...</td>\n",
              "      <td>28944</td>\n",
              "      <td>86</td>\n",
              "      <td>602</td>\n",
              "      <td>20</td>\n",
              "      <td>4.300000</td>\n",
              "      <td>29.450000</td>\n",
              "      <td>None</td>\n",
              "    </tr>\n",
              "    <tr>\n",
              "      <th>12</th>\n",
              "      <td>None</td>\n",
              "      <td>us748.c</td>\n",
              "      <td>src</td>\n",
              "      <td>/*--------------------------------------------...</td>\n",
              "      <td>21134</td>\n",
              "      <td>36</td>\n",
              "      <td>299</td>\n",
              "      <td>18</td>\n",
              "      <td>2.000000</td>\n",
              "      <td>15.666667</td>\n",
              "      <td>None</td>\n",
              "    </tr>\n",
              "    <tr>\n",
              "      <th>13</th>\n",
              "      <td>None</td>\n",
              "      <td>InserisciPrenotazione.java</td>\n",
              "      <td>src</td>\n",
              "      <td>package interfacce;\\nimport java.awt.*;\\nimpor...</td>\n",
              "      <td>2645</td>\n",
              "      <td>9</td>\n",
              "      <td>85</td>\n",
              "      <td>4</td>\n",
              "      <td>2.250000</td>\n",
              "      <td>18.250000</td>\n",
              "      <td>None</td>\n",
              "    </tr>\n",
              "    <tr>\n",
              "      <th>14</th>\n",
              "      <td>None</td>\n",
              "      <td>RicercaPrenotazione.java</td>\n",
              "      <td>src</td>\n",
              "      <td>package interfacce;\\nimport java.awt.*;\\nimpor...</td>\n",
              "      <td>15203</td>\n",
              "      <td>68</td>\n",
              "      <td>421</td>\n",
              "      <td>12</td>\n",
              "      <td>5.666667</td>\n",
              "      <td>33.083333</td>\n",
              "      <td>None</td>\n",
              "    </tr>\n",
              "    <tr>\n",
              "      <th>15</th>\n",
              "      <td>None</td>\n",
              "      <td>ControllaPrenotazione.java</td>\n",
              "      <td>src</td>\n",
              "      <td>package interfacce;\\nimport java.awt.*;\\nimpor...</td>\n",
              "      <td>2523</td>\n",
              "      <td>8</td>\n",
              "      <td>78</td>\n",
              "      <td>5</td>\n",
              "      <td>1.600000</td>\n",
              "      <td>13.200000</td>\n",
              "      <td>None</td>\n",
              "    </tr>\n",
              "    <tr>\n",
              "      <th>16</th>\n",
              "      <td>None</td>\n",
              "      <td>VediStanza.java</td>\n",
              "      <td>src</td>\n",
              "      <td>package interfacce;\\nimport java.awt.*;\\nimpor...</td>\n",
              "      <td>999</td>\n",
              "      <td>4</td>\n",
              "      <td>48</td>\n",
              "      <td>3</td>\n",
              "      <td>1.333333</td>\n",
              "      <td>13.000000</td>\n",
              "      <td>None</td>\n",
              "    </tr>\n",
              "    <tr>\n",
              "      <th>17</th>\n",
              "      <td>None</td>\n",
              "      <td>VediSoggiornante.java</td>\n",
              "      <td>src</td>\n",
              "      <td>package interfacce;\\nimport java.awt.*;\\nimpor...</td>\n",
              "      <td>1481</td>\n",
              "      <td>5</td>\n",
              "      <td>55</td>\n",
              "      <td>3</td>\n",
              "      <td>1.666667</td>\n",
              "      <td>14.666667</td>\n",
              "      <td>None</td>\n",
              "    </tr>\n",
              "    <tr>\n",
              "      <th>18</th>\n",
              "      <td>None</td>\n",
              "      <td>MascheraPrenotazione.java</td>\n",
              "      <td>src</td>\n",
              "      <td>package interfacce;\\nimport java.awt.*;\\nimpor...</td>\n",
              "      <td>18136</td>\n",
              "      <td>47</td>\n",
              "      <td>394</td>\n",
              "      <td>9</td>\n",
              "      <td>5.222222</td>\n",
              "      <td>41.000000</td>\n",
              "      <td>None</td>\n",
              "    </tr>\n",
              "    <tr>\n",
              "      <th>19</th>\n",
              "      <td>None</td>\n",
              "      <td>PrenotazioniScadute.java</td>\n",
              "      <td>src</td>\n",
              "      <td>package interfacce;\\nimport java.awt.*;\\nimpor...</td>\n",
              "      <td>4242</td>\n",
              "      <td>11</td>\n",
              "      <td>110</td>\n",
              "      <td>5</td>\n",
              "      <td>2.200000</td>\n",
              "      <td>17.800000</td>\n",
              "      <td>None</td>\n",
              "    </tr>\n",
              "  </tbody>\n",
              "</table>\n",
              "</div>"
            ],
            "text/plain": [
              "   system                              name ground_truth                                           contents  code_length  file_ccn  file_nloc  num_funcs  avg_func_ccn  avg_func_nloc file_lcom5\n",
              "0    None              InserisciStanze.java          src  package interfacce;\\nimport java.awt.*;\\nimpor...         1058         6         46          3      2.000000      12.333333       None\n",
              "1    None            DescrittoreStanze.java          src  package interfacce;\\nimport java.awt.*;\\nimpor...         5953        18        161          7      2.571429      20.571429       None\n",
              "2    None                           us896.c          src  /*--------------------------------------------...        10526        20        163          8      2.500000      19.125000       None\n",
              "3    None  MascheraRicercaSoggiornante.java          src  package interfacce;\\nimport java.awt.*;\\nimpor...         9335        26        208          6      4.333333      31.333333       None\n",
              "4    None         AggiungiSoggiornante.java          src  package interfacce;\\nimport java.awt.*;\\nimpor...         3393        10        102          5      2.000000      16.600000       None\n",
              "5    None                          us1060.c          src  /*--------------------------------------------...        21254        37        329         11      3.363636      20.727273       None\n",
              "6    None               AskChiudiConto.java          src  package interfacce;\\nimport java.awt.*;\\nimpor...         2506         4         71          4      1.000000      14.250000       None\n",
              "7    None                          us1864.c          src  /*--------------------------------------------...        11522        15        149          8      1.875000      16.875000       None\n",
              "8    None         InserisciCommissioni.java          src  package interfacce;\\nimport java.awt.*;\\nimpor...         1829         6         63          3      2.000000      17.666667       None\n",
              "9    None          CancellaBeniServizi.java          src  package interfacce;\\nimport java.awt.*;\\nimpor...         8376        27        338          6      4.500000      54.000000       None\n",
              "10   None      DefinizioneStagionalita.java          src  package interfacce;\\nimport java.awt.*;\\nimpor...        13566        42        327          8      5.250000      38.000000       None\n",
              "11   None                          us1159.c          src  /*--------------------------------------------...        28944        86        602         20      4.300000      29.450000       None\n",
              "12   None                           us748.c          src  /*--------------------------------------------...        21134        36        299         18      2.000000      15.666667       None\n",
              "13   None        InserisciPrenotazione.java          src  package interfacce;\\nimport java.awt.*;\\nimpor...         2645         9         85          4      2.250000      18.250000       None\n",
              "14   None          RicercaPrenotazione.java          src  package interfacce;\\nimport java.awt.*;\\nimpor...        15203        68        421         12      5.666667      33.083333       None\n",
              "15   None        ControllaPrenotazione.java          src  package interfacce;\\nimport java.awt.*;\\nimpor...         2523         8         78          5      1.600000      13.200000       None\n",
              "16   None                   VediStanza.java          src  package interfacce;\\nimport java.awt.*;\\nimpor...          999         4         48          3      1.333333      13.000000       None\n",
              "17   None             VediSoggiornante.java          src  package interfacce;\\nimport java.awt.*;\\nimpor...         1481         5         55          3      1.666667      14.666667       None\n",
              "18   None         MascheraPrenotazione.java          src  package interfacce;\\nimport java.awt.*;\\nimpor...        18136        47        394          9      5.222222      41.000000       None\n",
              "19   None          PrenotazioniScadute.java          src  package interfacce;\\nimport java.awt.*;\\nimpor...         4242        11        110          5      2.200000      17.800000       None"
            ]
          },
          "metadata": {
            "tags": []
          },
          "execution_count": 39
        }
      ]
    },
    {
      "cell_type": "code",
      "metadata": {
        "id": "oy8UDLApBEB5",
        "colab_type": "code",
        "outputId": "179e9b7a-d278-4c8f-d758-a2a95565a07b",
        "colab": {
          "base_uri": "https://localhost:8080/",
          "height": 728
        }
      },
      "source": [
        "pd.set_option('display.expand_frame_repr', False)\n",
        "corpus_df"
      ],
      "execution_count": 40,
      "outputs": [
        {
          "output_type": "execute_result",
          "data": {
            "text/html": [
              "<div>\n",
              "<style scoped>\n",
              "    .dataframe tbody tr th:only-of-type {\n",
              "        vertical-align: middle;\n",
              "    }\n",
              "\n",
              "    .dataframe tbody tr th {\n",
              "        vertical-align: top;\n",
              "    }\n",
              "\n",
              "    .dataframe thead th {\n",
              "        text-align: right;\n",
              "    }\n",
              "</style>\n",
              "<table border=\"1\" class=\"dataframe\">\n",
              "  <thead>\n",
              "    <tr style=\"text-align: right;\">\n",
              "      <th></th>\n",
              "      <th>system</th>\n",
              "      <th>name</th>\n",
              "      <th>ground_truth</th>\n",
              "      <th>contents</th>\n",
              "      <th>code_length</th>\n",
              "      <th>file_ccn</th>\n",
              "      <th>file_nloc</th>\n",
              "      <th>num_funcs</th>\n",
              "      <th>avg_func_ccn</th>\n",
              "      <th>avg_func_nloc</th>\n",
              "      <th>file_lcom5</th>\n",
              "    </tr>\n",
              "  </thead>\n",
              "  <tbody>\n",
              "    <tr>\n",
              "      <th>0</th>\n",
              "      <td>None</td>\n",
              "      <td>InserisciStanze.java</td>\n",
              "      <td>src</td>\n",
              "      <td>package interfacce;\\nimport java.awt.*;\\nimpor...</td>\n",
              "      <td>1058</td>\n",
              "      <td>6</td>\n",
              "      <td>46</td>\n",
              "      <td>3</td>\n",
              "      <td>2.000000</td>\n",
              "      <td>12.333333</td>\n",
              "      <td>None</td>\n",
              "    </tr>\n",
              "    <tr>\n",
              "      <th>1</th>\n",
              "      <td>None</td>\n",
              "      <td>DescrittoreStanze.java</td>\n",
              "      <td>src</td>\n",
              "      <td>package interfacce;\\nimport java.awt.*;\\nimpor...</td>\n",
              "      <td>5953</td>\n",
              "      <td>18</td>\n",
              "      <td>161</td>\n",
              "      <td>7</td>\n",
              "      <td>2.571429</td>\n",
              "      <td>20.571429</td>\n",
              "      <td>None</td>\n",
              "    </tr>\n",
              "    <tr>\n",
              "      <th>2</th>\n",
              "      <td>None</td>\n",
              "      <td>us896.c</td>\n",
              "      <td>src</td>\n",
              "      <td>/*--------------------------------------------...</td>\n",
              "      <td>10526</td>\n",
              "      <td>20</td>\n",
              "      <td>163</td>\n",
              "      <td>8</td>\n",
              "      <td>2.500000</td>\n",
              "      <td>19.125000</td>\n",
              "      <td>None</td>\n",
              "    </tr>\n",
              "    <tr>\n",
              "      <th>3</th>\n",
              "      <td>None</td>\n",
              "      <td>MascheraRicercaSoggiornante.java</td>\n",
              "      <td>src</td>\n",
              "      <td>package interfacce;\\nimport java.awt.*;\\nimpor...</td>\n",
              "      <td>9335</td>\n",
              "      <td>26</td>\n",
              "      <td>208</td>\n",
              "      <td>6</td>\n",
              "      <td>4.333333</td>\n",
              "      <td>31.333333</td>\n",
              "      <td>None</td>\n",
              "    </tr>\n",
              "    <tr>\n",
              "      <th>4</th>\n",
              "      <td>None</td>\n",
              "      <td>AggiungiSoggiornante.java</td>\n",
              "      <td>src</td>\n",
              "      <td>package interfacce;\\nimport java.awt.*;\\nimpor...</td>\n",
              "      <td>3393</td>\n",
              "      <td>10</td>\n",
              "      <td>102</td>\n",
              "      <td>5</td>\n",
              "      <td>2.000000</td>\n",
              "      <td>16.600000</td>\n",
              "      <td>None</td>\n",
              "    </tr>\n",
              "    <tr>\n",
              "      <th>...</th>\n",
              "      <td>...</td>\n",
              "      <td>...</td>\n",
              "      <td>...</td>\n",
              "      <td>...</td>\n",
              "      <td>...</td>\n",
              "      <td>...</td>\n",
              "      <td>...</td>\n",
              "      <td>...</td>\n",
              "      <td>...</td>\n",
              "      <td>...</td>\n",
              "      <td>...</td>\n",
              "    </tr>\n",
              "    <tr>\n",
              "      <th>79</th>\n",
              "      <td>None</td>\n",
              "      <td>us899.c</td>\n",
              "      <td>src</td>\n",
              "      <td>/*--------------------------------------------...</td>\n",
              "      <td>42269</td>\n",
              "      <td>80</td>\n",
              "      <td>684</td>\n",
              "      <td>30</td>\n",
              "      <td>2.666667</td>\n",
              "      <td>21.066667</td>\n",
              "      <td>None</td>\n",
              "    </tr>\n",
              "    <tr>\n",
              "      <th>80</th>\n",
              "      <td>None</td>\n",
              "      <td>est_client.c</td>\n",
              "      <td>src</td>\n",
              "      <td>/*\\n * Utility function to set the certificate...</td>\n",
              "      <td>149212</td>\n",
              "      <td>516</td>\n",
              "      <td>2353</td>\n",
              "      <td>58</td>\n",
              "      <td>8.896552</td>\n",
              "      <td>40.568966</td>\n",
              "      <td>None</td>\n",
              "    </tr>\n",
              "    <tr>\n",
              "      <th>81</th>\n",
              "      <td>None</td>\n",
              "      <td>us3612.c</td>\n",
              "      <td>src</td>\n",
              "      <td>/*--------------------------------------------...</td>\n",
              "      <td>14782</td>\n",
              "      <td>47</td>\n",
              "      <td>300</td>\n",
              "      <td>15</td>\n",
              "      <td>3.133333</td>\n",
              "      <td>19.133333</td>\n",
              "      <td>None</td>\n",
              "    </tr>\n",
              "    <tr>\n",
              "      <th>82</th>\n",
              "      <td>None</td>\n",
              "      <td>RicercaTelefonate.java</td>\n",
              "      <td>src</td>\n",
              "      <td>package interfacce;\\nimport java.awt.*;\\nimpor...</td>\n",
              "      <td>5761</td>\n",
              "      <td>14</td>\n",
              "      <td>155</td>\n",
              "      <td>6</td>\n",
              "      <td>2.333333</td>\n",
              "      <td>22.166667</td>\n",
              "      <td>None</td>\n",
              "    </tr>\n",
              "    <tr>\n",
              "      <th>83</th>\n",
              "      <td>None</td>\n",
              "      <td>MascheraBeneServizio.java</td>\n",
              "      <td>src</td>\n",
              "      <td>package interfacce;\\nimport java.awt.*;\\nimpor...</td>\n",
              "      <td>12820</td>\n",
              "      <td>46</td>\n",
              "      <td>403</td>\n",
              "      <td>13</td>\n",
              "      <td>3.538462</td>\n",
              "      <td>28.923077</td>\n",
              "      <td>None</td>\n",
              "    </tr>\n",
              "  </tbody>\n",
              "</table>\n",
              "<p>84 rows × 11 columns</p>\n",
              "</div>"
            ],
            "text/plain": [
              "   system                              name ground_truth                                           contents  code_length  file_ccn  file_nloc  num_funcs  avg_func_ccn  avg_func_nloc file_lcom5\n",
              "0    None              InserisciStanze.java          src  package interfacce;\\nimport java.awt.*;\\nimpor...         1058         6         46          3      2.000000      12.333333       None\n",
              "1    None            DescrittoreStanze.java          src  package interfacce;\\nimport java.awt.*;\\nimpor...         5953        18        161          7      2.571429      20.571429       None\n",
              "2    None                           us896.c          src  /*--------------------------------------------...        10526        20        163          8      2.500000      19.125000       None\n",
              "3    None  MascheraRicercaSoggiornante.java          src  package interfacce;\\nimport java.awt.*;\\nimpor...         9335        26        208          6      4.333333      31.333333       None\n",
              "4    None         AggiungiSoggiornante.java          src  package interfacce;\\nimport java.awt.*;\\nimpor...         3393        10        102          5      2.000000      16.600000       None\n",
              "..    ...                               ...          ...                                                ...          ...       ...        ...        ...           ...            ...        ...\n",
              "79   None                           us899.c          src  /*--------------------------------------------...        42269        80        684         30      2.666667      21.066667       None\n",
              "80   None                      est_client.c          src  /*\\n * Utility function to set the certificate...       149212       516       2353         58      8.896552      40.568966       None\n",
              "81   None                          us3612.c          src  /*--------------------------------------------...        14782        47        300         15      3.133333      19.133333       None\n",
              "82   None            RicercaTelefonate.java          src  package interfacce;\\nimport java.awt.*;\\nimpor...         5761        14        155          6      2.333333      22.166667       None\n",
              "83   None         MascheraBeneServizio.java          src  package interfacce;\\nimport java.awt.*;\\nimpor...        12820        46        403         13      3.538462      28.923077       None\n",
              "\n",
              "[84 rows x 11 columns]"
            ]
          },
          "metadata": {
            "tags": []
          },
          "execution_count": 40
        }
      ]
    },
    {
      "cell_type": "code",
      "metadata": {
        "id": "Z5_wYi7BBEIf",
        "colab_type": "code",
        "colab": {}
      },
      "source": [
        ""
      ],
      "execution_count": 0,
      "outputs": []
    },
    {
      "cell_type": "code",
      "metadata": {
        "id": "IrjHDBhuBEP4",
        "colab_type": "code",
        "colab": {}
      },
      "source": [
        ""
      ],
      "execution_count": 0,
      "outputs": []
    },
    {
      "cell_type": "code",
      "metadata": {
        "id": "dSQu6S_-BEYk",
        "colab_type": "code",
        "colab": {}
      },
      "source": [
        ""
      ],
      "execution_count": 0,
      "outputs": []
    },
    {
      "cell_type": "code",
      "metadata": {
        "id": "izARMcDcmn_3",
        "colab_type": "code",
        "colab": {}
      },
      "source": [
        ""
      ],
      "execution_count": 0,
      "outputs": []
    },
    {
      "cell_type": "code",
      "metadata": {
        "id": "sdnqg6xumoHW",
        "colab_type": "code",
        "colab": {}
      },
      "source": [
        ""
      ],
      "execution_count": 0,
      "outputs": []
    },
    {
      "cell_type": "code",
      "metadata": {
        "id": "hHCznRPSBEqO",
        "colab_type": "code",
        "colab": {}
      },
      "source": [
        "\"https://github.com/priv-kweihmann/multimetric\"\n",
        "# The above link is another possible tool to easily calculate code metrics for various languages"
      ],
      "execution_count": 0,
      "outputs": []
    },
    {
      "cell_type": "code",
      "metadata": {
        "id": "_OpoQ2JFBEWo",
        "colab_type": "code",
        "colab": {}
      },
      "source": [
        "\"https://books.google.com/books?id=DxuGi5h2-HEC&pg=PA140&lpg=PA140&dq=do+header+files+in+c+have+a+cyclomatic+complexity&source=bl&ots=0WxxjeX9rR&sig=ACfU3U1QnoKnwrsj4YbSQxATeaoYMvBWwg&hl=en&sa=X&ved=2ahUKEwijtqKxhJXoAhUSXa0KHctQD38Q6AEwAnoECAkQAQ#v=onepage&q=do%20header%20files%20in%20c%20have%20a%20cyclomatic%20complexity&f=false\"\n",
        "\"The abover link goes to an article discussing cyclomatic complexity and c header files\""
      ],
      "execution_count": 0,
      "outputs": []
    },
    {
      "cell_type": "code",
      "metadata": {
        "id": "TLOHxFDOmork",
        "colab_type": "code",
        "colab": {}
      },
      "source": [
        "# http://site.iugaza.edu.ps/mroos/files/Software-Metrics1.pdf\n",
        "# The above link is a pdf that explains every LCOM metric"
      ],
      "execution_count": 0,
      "outputs": []
    },
    {
      "cell_type": "code",
      "metadata": {
        "id": "5EnDIeUJmoxW",
        "colab_type": "code",
        "colab": {}
      },
      "source": [
        ""
      ],
      "execution_count": 0,
      "outputs": []
    },
    {
      "cell_type": "code",
      "metadata": {
        "id": "Rv5IN2Q9mo3H",
        "colab_type": "code",
        "colab": {}
      },
      "source": [
        ""
      ],
      "execution_count": 0,
      "outputs": []
    },
    {
      "cell_type": "code",
      "metadata": {
        "id": "NuGNaoUgmo8f",
        "colab_type": "code",
        "colab": {}
      },
      "source": [
        ""
      ],
      "execution_count": 0,
      "outputs": []
    },
    {
      "cell_type": "code",
      "metadata": {
        "id": "f6F-82LFmpBA",
        "colab_type": "code",
        "colab": {}
      },
      "source": [
        ""
      ],
      "execution_count": 0,
      "outputs": []
    },
    {
      "cell_type": "code",
      "metadata": {
        "id": "mTxQhe4impGQ",
        "colab_type": "code",
        "colab": {}
      },
      "source": [
        ""
      ],
      "execution_count": 0,
      "outputs": []
    },
    {
      "cell_type": "code",
      "metadata": {
        "id": "k6Cwsj3dmpLs",
        "colab_type": "code",
        "colab": {}
      },
      "source": [
        ""
      ],
      "execution_count": 0,
      "outputs": []
    },
    {
      "cell_type": "code",
      "metadata": {
        "id": "ElseMaJhmpRL",
        "colab_type": "code",
        "colab": {}
      },
      "source": [
        ""
      ],
      "execution_count": 0,
      "outputs": []
    },
    {
      "cell_type": "markdown",
      "metadata": {
        "id": "JR2EHr85BBNG",
        "colab_type": "text"
      },
      "source": [
        "# Scratch Code (Testing)"
      ]
    },
    {
      "cell_type": "code",
      "metadata": {
        "id": "vYWGBNRXmsD3",
        "colab_type": "code",
        "colab": {}
      },
      "source": [
        ""
      ],
      "execution_count": 0,
      "outputs": []
    },
    {
      "cell_type": "code",
      "metadata": {
        "id": "9SDIxWJjmt8J",
        "colab_type": "code",
        "colab": {
          "base_uri": "https://localhost:8080/",
          "height": 207
        },
        "outputId": "58301809-2de5-4b9d-af97-9ebd121ef86a"
      },
      "source": [
        "!pip install tree_sitter"
      ],
      "execution_count": 13,
      "outputs": [
        {
          "output_type": "stream",
          "text": [
            "Collecting tree_sitter\n",
            "\u001b[?25l  Downloading https://files.pythonhosted.org/packages/89/a9/33976501bd229988643140159fbc424ee3738e351b9a583aa0ce593118a2/tree_sitter-0.1.0.tar.gz (93kB)\n",
            "\r\u001b[K     |███▌                            | 10kB 15.1MB/s eta 0:00:01\r\u001b[K     |███████                         | 20kB 3.1MB/s eta 0:00:01\r\u001b[K     |██████████▌                     | 30kB 4.4MB/s eta 0:00:01\r\u001b[K     |██████████████                  | 40kB 2.9MB/s eta 0:00:01\r\u001b[K     |█████████████████▌              | 51kB 3.3MB/s eta 0:00:01\r\u001b[K     |█████████████████████           | 61kB 3.9MB/s eta 0:00:01\r\u001b[K     |████████████████████████▌       | 71kB 4.2MB/s eta 0:00:01\r\u001b[K     |████████████████████████████    | 81kB 4.6MB/s eta 0:00:01\r\u001b[K     |███████████████████████████████▌| 92kB 5.1MB/s eta 0:00:01\r\u001b[K     |████████████████████████████████| 102kB 3.9MB/s \n",
            "\u001b[?25hBuilding wheels for collected packages: tree-sitter\n",
            "  Building wheel for tree-sitter (setup.py) ... \u001b[?25l\u001b[?25hdone\n",
            "  Created wheel for tree-sitter: filename=tree_sitter-0.1.0-cp36-cp36m-linux_x86_64.whl size=253718 sha256=d09a7ff256af8abfe5a8835ecbbd1f0b71ba7fe0d12b91a1edd330786c08bdcc\n",
            "  Stored in directory: /root/.cache/pip/wheels/2b/f6/02/51f3b5a216c514a5a01dbdae46d4215670e326fe74855ce8c0\n",
            "Successfully built tree-sitter\n",
            "Installing collected packages: tree-sitter\n",
            "Successfully installed tree-sitter-0.1.0\n"
          ],
          "name": "stdout"
        }
      ]
    },
    {
      "cell_type": "code",
      "metadata": {
        "id": "pTrped5pmtkZ",
        "colab_type": "code",
        "colab": {
          "base_uri": "https://localhost:8080/",
          "height": 136
        },
        "outputId": "08d99181-c3c7-4189-ea4b-a223c3f0c8af"
      },
      "source": [
        "!git clone https://github.com/tree-sitter/tree-sitter-java"
      ],
      "execution_count": 14,
      "outputs": [
        {
          "output_type": "stream",
          "text": [
            "Cloning into 'tree-sitter-java'...\n",
            "remote: Enumerating objects: 133, done.\u001b[K\n",
            "remote: Counting objects: 100% (133/133), done.\u001b[K\n",
            "remote: Compressing objects: 100% (77/77), done.\u001b[K\n",
            "remote: Total 1418 (delta 77), reused 100 (delta 51), pack-reused 1285\u001b[K\n",
            "Receiving objects: 100% (1418/1418), 12.87 MiB | 18.55 MiB/s, done.\n",
            "Resolving deltas: 100% (897/897), done.\n"
          ],
          "name": "stdout"
        }
      ]
    },
    {
      "cell_type": "code",
      "metadata": {
        "id": "tNbCavVKnhTy",
        "colab_type": "code",
        "colab": {
          "base_uri": "https://localhost:8080/",
          "height": 136
        },
        "outputId": "da0527eb-f194-408b-ba39-e90b4cf4d60b"
      },
      "source": [
        "!git clone https://github.com/tree-sitter/tree-sitter-c"
      ],
      "execution_count": 15,
      "outputs": [
        {
          "output_type": "stream",
          "text": [
            "Cloning into 'tree-sitter-c'...\n",
            "remote: Enumerating objects: 80, done.\u001b[K\n",
            "remote: Counting objects: 100% (80/80), done.\u001b[K\n",
            "remote: Compressing objects: 100% (40/40), done.\u001b[K\n",
            "remote: Total 1531 (delta 37), reused 68 (delta 36), pack-reused 1451\u001b[K\n",
            "Receiving objects: 100% (1531/1531), 11.26 MiB | 15.31 MiB/s, done.\n",
            "Resolving deltas: 100% (973/973), done.\n"
          ],
          "name": "stdout"
        }
      ]
    },
    {
      "cell_type": "code",
      "metadata": {
        "id": "YMKACJOgmtgA",
        "colab_type": "code",
        "colab": {
          "base_uri": "https://localhost:8080/",
          "height": 34
        },
        "outputId": "6e4efe08-ac26-41ed-a50b-5b34ff335d16"
      },
      "source": [
        "from tree_sitter import Language, Parser\n",
        "\n"
      ],
      "execution_count": 17,
      "outputs": [
        {
          "output_type": "execute_result",
          "data": {
            "text/plain": [
              "True"
            ]
          },
          "metadata": {
            "tags": []
          },
          "execution_count": 17
        }
      ]
    },
    {
      "cell_type": "code",
      "metadata": {
        "id": "sI3z463_mtSm",
        "colab_type": "code",
        "colab": {
          "base_uri": "https://localhost:8080/",
          "height": 34
        },
        "outputId": "44736552-f3dc-4591-bdfc-9ff7047942b9"
      },
      "source": [
        "Language.build_library(\n",
        "    # Store the library in the `build` directory\n",
        "    'build/my-languages.so',\n",
        "\n",
        "    # Include one or more languages\n",
        "    [\n",
        "        'tree-sitter-c',\n",
        "        'tree-sitter-cpp',\n",
        "        'tree-sitter-java',\n",
        "        'tree-sitter-javascript',\n",
        "        'tree-sitter-python'\n",
        "    ]\n",
        ")\n",
        "\n",
        "C_LANGUAGE = Language('build/my-languages.so', 'c')\n",
        "CPP_LANGUAGE = Language('build/my-languages.so', 'cpp')\n",
        "JAVA_LANGUAGE = Language('build/my-languages.so', 'java')\n",
        "JS_LANGUAGE = Language('build/my-languages.so', 'javascript')\n",
        "PY_LANGUAGE = Language('build/my-languages.so', 'python')\n",
        "\n",
        "lang_builds = {'c':C_LANGUAGE, 'cpp':CPP_LANGUAGE, 'java':JAVA_LANGUAGE, 'js':JS_LANGUAGE, 'py':PY_LANGUAGE}\n",
        "\n",
        "parser = Parser()\n",
        "ext = 'java'\n",
        "parser.set_language(lang_builds[ext])\n",
        "test_df = simulate_getting_dataframes_from_mongo()\n",
        "tree = parser.parse(bytes(test_df[\"contents\"][1], \"utf8\"))\n",
        "# print(test_df[\"contents\"][1])\n",
        "root_node = tree.root_node\n",
        "num_atts = 0\n",
        "for a in range(len(root_node.children)):\n",
        "    if root_node.children[a].type == \"class_declaration\":\n",
        "        class_dec = root_node.children[a]\n",
        "        for b in range(len(class_dec.children)):\n",
        "            if class_dec.children[b].type == \"class_body\":\n",
        "                class_body = class_dec.children[b]\n",
        "                for c in range(len(class_body.children)):\n",
        "                    if class_body.children[c].type == \"field_declaration\":\n",
        "                        field_dec = class_body.children[c]\n",
        "                        for d in range(len(field_dec.children)):\n",
        "                            if field_dec.children[d].type == \"variable_declarator\":\n",
        "                                num_atts += 1\n",
        "print(num_atts)"
      ],
      "execution_count": 66,
      "outputs": [
        {
          "output_type": "stream",
          "text": [
            "18\n"
          ],
          "name": "stdout"
        }
      ]
    },
    {
      "cell_type": "code",
      "metadata": {
        "id": "Wkf5Qj-AmtOv",
        "colab_type": "code",
        "colab": {}
      },
      "source": [
        ""
      ],
      "execution_count": 0,
      "outputs": []
    },
    {
      "cell_type": "code",
      "metadata": {
        "id": "Y13lf9JgmtAo",
        "colab_type": "code",
        "colab": {}
      },
      "source": [
        ""
      ],
      "execution_count": 0,
      "outputs": []
    },
    {
      "cell_type": "code",
      "metadata": {
        "id": "tcRvzOqMmsxh",
        "colab_type": "code",
        "colab": {}
      },
      "source": [
        ""
      ],
      "execution_count": 0,
      "outputs": []
    },
    {
      "cell_type": "code",
      "metadata": {
        "id": "Zes3rth5msta",
        "colab_type": "code",
        "colab": {}
      },
      "source": [
        ""
      ],
      "execution_count": 0,
      "outputs": []
    },
    {
      "cell_type": "code",
      "metadata": {
        "id": "Z9085tHzmsfH",
        "colab_type": "code",
        "colab": {}
      },
      "source": [
        ""
      ],
      "execution_count": 0,
      "outputs": []
    },
    {
      "cell_type": "code",
      "metadata": {
        "id": "JnJ8LLlsmsQ6",
        "colab_type": "code",
        "colab": {}
      },
      "source": [
        ""
      ],
      "execution_count": 0,
      "outputs": []
    },
    {
      "cell_type": "code",
      "metadata": {
        "id": "RiN7ZZdDF3TB",
        "colab_type": "code",
        "outputId": "2cbb99a2-8ebb-4815-eca2-638c85e8977e",
        "colab": {
          "base_uri": "https://localhost:8080/",
          "height": 412
        }
      },
      "source": [
        "!pip install multimetric"
      ],
      "execution_count": 0,
      "outputs": [
        {
          "output_type": "stream",
          "text": [
            "Collecting multimetric\n",
            "  Downloading https://files.pythonhosted.org/packages/25/2b/8aaad12a46c58102cf7cb0861031cc2cf4e620fc9fd941616713a434f4e0/multimetric-1.1.3.tar.gz\n",
            "Requirement already satisfied: chardet>=3.0.0 in /usr/local/lib/python3.6/dist-packages (from multimetric) (3.0.4)\n",
            "Collecting pygments>=2.5.0\n",
            "\u001b[?25l  Downloading https://files.pythonhosted.org/packages/2d/68/106af3ae51daf807e9cdcba6a90e518954eb8b70341cee52995540a53ead/Pygments-2.6.1-py3-none-any.whl (914kB)\n",
            "\u001b[K     |████████████████████████████████| 921kB 6.8MB/s \n",
            "\u001b[?25hBuilding wheels for collected packages: multimetric\n",
            "  Building wheel for multimetric (setup.py) ... \u001b[?25l\u001b[?25hdone\n",
            "  Created wheel for multimetric: filename=multimetric-1.1.3-cp36-none-any.whl size=20170 sha256=0d755e6c6634a50c74264bff0a29dab99642f5051bf7c6ad1c2d3d637a2b1403\n",
            "  Stored in directory: /root/.cache/pip/wheels/6d/c7/81/52b4323f26674931ea81e0d7589a71081e05e88426004c5331\n",
            "Successfully built multimetric\n",
            "\u001b[31mERROR: datascience 0.10.6 has requirement folium==0.2.1, but you'll have folium 0.8.3 which is incompatible.\u001b[0m\n",
            "Installing collected packages: pygments, multimetric\n",
            "  Found existing installation: Pygments 2.1.3\n",
            "    Uninstalling Pygments-2.1.3:\n",
            "      Successfully uninstalled Pygments-2.1.3\n",
            "Successfully installed multimetric-1.1.3 pygments-2.6.1\n"
          ],
          "name": "stdout"
        },
        {
          "output_type": "display_data",
          "data": {
            "application/vnd.colab-display-data+json": {
              "pip_warning": {
                "packages": [
                  "pygments"
                ]
              }
            }
          },
          "metadata": {
            "tags": []
          }
        }
      ]
    },
    {
      "cell_type": "code",
      "metadata": {
        "id": "y8DxIIifF3ju",
        "colab_type": "code",
        "colab": {}
      },
      "source": [
        "import multimetric"
      ],
      "execution_count": 0,
      "outputs": []
    },
    {
      "cell_type": "code",
      "metadata": {
        "id": "upwV4nMdF4nq",
        "colab_type": "code",
        "colab": {}
      },
      "source": [
        "multimetric.rea"
      ],
      "execution_count": 0,
      "outputs": []
    },
    {
      "cell_type": "code",
      "metadata": {
        "id": "Cr6Hp3cSF4jp",
        "colab_type": "code",
        "colab": {}
      },
      "source": [
        ""
      ],
      "execution_count": 0,
      "outputs": []
    },
    {
      "cell_type": "code",
      "metadata": {
        "id": "TmtLr2YFF4Np",
        "colab_type": "code",
        "colab": {}
      },
      "source": [
        ""
      ],
      "execution_count": 0,
      "outputs": []
    },
    {
      "cell_type": "code",
      "metadata": {
        "id": "oiKKeTCcF4Kg",
        "colab_type": "code",
        "colab": {}
      },
      "source": [
        ""
      ],
      "execution_count": 0,
      "outputs": []
    },
    {
      "cell_type": "code",
      "metadata": {
        "id": "KnzLcjMMF31L",
        "colab_type": "code",
        "colab": {}
      },
      "source": [
        ""
      ],
      "execution_count": 0,
      "outputs": []
    },
    {
      "cell_type": "code",
      "metadata": {
        "id": "O4ECQmLtF3yE",
        "colab_type": "code",
        "colab": {}
      },
      "source": [
        ""
      ],
      "execution_count": 0,
      "outputs": []
    },
    {
      "cell_type": "code",
      "metadata": {
        "id": "hoddzqvt4wnY",
        "colab_type": "code",
        "outputId": "672b15e5-c2e9-4bb0-ba44-e500c3976d4c",
        "colab": {
          "base_uri": "https://localhost:8080/",
          "height": 34
        }
      },
      "source": [
        "print(round(1236721.8237468732, 3))"
      ],
      "execution_count": 0,
      "outputs": [
        {
          "output_type": "stream",
          "text": [
            "1236721.824\n"
          ],
          "name": "stdout"
        }
      ]
    },
    {
      "cell_type": "code",
      "metadata": {
        "id": "XQe5TlTT5W2_",
        "colab_type": "code",
        "colab": {}
      },
      "source": [
        "!pip install lizard"
      ],
      "execution_count": 0,
      "outputs": []
    },
    {
      "cell_type": "code",
      "metadata": {
        "id": "EDaHWDYZAFkM",
        "colab_type": "code",
        "colab": {}
      },
      "source": [
        "import subprocess\n",
        "import json\n",
        "def add_lizard_mccabe_metrics(df, col):\n",
        "    mccabe = []\n",
        "    sloc = []\n",
        "    comments = []\n",
        "    ratio = []\n",
        "    for i in range(len(df)):\n",
        "        if i == 99:\n",
        "            print(\"At file #100\", end=\"\")\n",
        "        if ((i + 1) % 200) == 0:\n",
        "            print(\", file #\" + str(i + 1), end=\"\")\n",
        "        ext = df[\"file_name\"][i].split('.')[-1]\n",
        "        if ext == 'h':\n",
        "            ext = 'c'\n",
        "        with open(f\"temp_file.{ext}\", \"w\", encoding='UTF-8') as fp:\n",
        "            fp.write(df[col][i])\n",
        "        out = subprocess.Popen(['metrics', '-q', '--format=json', f\"temp_file.{ext}\"], \n",
        "                               stdout=subprocess.PIPE, \n",
        "                               stderr=subprocess.STDOUT)\n",
        "        stdout,stderr = out.communicate()\n",
        "        metrics_data = json.loads(stdout)\n",
        "        mccabe.append(metrics_data['files'][f\"temp_file.{ext}\"]['mccabe'])\n",
        "        sloc.append(metrics_data['files'][f\"temp_file.{ext}\"]['sloc'])\n",
        "        comments.append(metrics_data['files'][f\"temp_file.{ext}\"]['comments'])\n",
        "        ratio.append(metrics_data['files'][f\"temp_file.{ext}\"]['ratio_comment_to_code'])\n",
        "#         print(mccabe_data['files'][f'temp_file.{LANGUAGE}'].keys())\n",
        "        os.remove(f\"temp_file.{ext}\")\n",
        "    df[\"complexity\"] = mccabe\n",
        "    df[\"code_lines\"] = sloc\n",
        "    df[\"comments\"] = comments\n",
        "    df[\"ratio_comment_to_code\"] = ratio\n",
        "    return df"
      ],
      "execution_count": 0,
      "outputs": []
    },
    {
      "cell_type": "code",
      "metadata": {
        "id": "WC4OK2bD5Uv6",
        "colab_type": "code",
        "colab": {}
      },
      "source": [
        ""
      ],
      "execution_count": 0,
      "outputs": []
    },
    {
      "cell_type": "code",
      "metadata": {
        "id": "zlCs-Q5O5hBo",
        "colab_type": "code",
        "outputId": "4ec0cafe-8c01-440b-e972-6009e45922e1",
        "colab": {
          "base_uri": "https://localhost:8080/",
          "height": 1000
        }
      },
      "source": [
        "!lizard source_code/est.c"
      ],
      "execution_count": 0,
      "outputs": [
        {
          "output_type": "stream",
          "text": [
            "================================================\n",
            "  NLOC    CCN   token  PARAM  length  location  \n",
            "------------------------------------------------\n",
            "       7      1     35      2      11 est_logger_stderr@9-19@source_code/est.c\n",
            "      11      2     53      2      16 est_log_msg@27-42@source_code/est.c\n",
            "      14      3     66      3      24 est_log@46-69@source_code/est.c\n",
            "      18      2    154      1      23 printStackTrace@73-95@source_code/est.c\n",
            "      18      5     91      1      31 est_log_backtrace@99-129@source_code/est.c\n",
            "       3      1      9      1       3 est_get_version@136-138@source_code/est.c\n",
            "       3      1      9      1       3 est_get_api_level@148-150@source_code/est.c\n",
            "       7      2     43      1       9 est_log_version@156-164@source_code/est.c\n",
            "      10      2     46      2      16 est_init_logger@181-196@source_code/est.c\n",
            "       4      1     11      1       4 est_enable_backtrace@213-216@source_code/est.c\n",
            "      42      9    202      3      52 est_read_x509_request@239-290@source_code/est.c\n",
            "      29      5    135      3      33 est_load_key@313-345@source_code/est.c\n",
            "      62     11    323      2     101 est_get_certs_pkcs7@357-457@source_code/est.c\n",
            "      38      6    223      3      51 est_load_ca_certs@467-517@source_code/est.c\n",
            "      16      3     92      3      22 est_load_trusted_certs@528-549@source_code/est.c\n",
            "      11      3     48      2      11 est_set_ex_data@570-580@source_code/est.c\n",
            "       7      2     27      1       7 est_get_ex_data@593-599@source_code/est.c\n",
            "      45     16    230      1      69 est_destroy@610-678@source_code/est.c\n",
            "      13      4     60      2      23 est_base64_contains_nl@688-710@source_code/est.c\n",
            "      38      6    219      3      59 est_base64_decode@719-777@source_code/est.c\n",
            "      44      5    245      4      68 est_base64_encode@786-853@source_code/est.c\n",
            "      46      9    282      2      59 est_get_tls_uid@862-920@source_code/est.c\n",
            "       9      2     69      3      10 est_hex_to_str@926-935@source_code/est.c\n",
            "       9      2     36      1      10 est_enable_crl@953-962@source_code/est.c\n",
            "      51     11    253      3      60 est_asn1_sanity_test@971-1030@source_code/est.c\n",
            "       8      3     54      3      12 est_is_challengePassword_present@1038-1049@source_code/est.c\n",
            "      27      5    151      3      35 est_asn1_parse_attributes@1056-1090@source_code/est.c\n",
            "      92     14    687      4     108 est_add_challengePassword@1097-1204@source_code/est.c\n",
            "      21      6    108      4      27 est_add_attributes_helper@1218-1244@source_code/est.c\n",
            "      28      8    159      4      42 est_decode_attributes_helper@1258-1299@source_code/est.c\n",
            "      51     10    273      3      60 est_get_attributes_helper@1313-1372@source_code/est.c\n",
            "      55     11    353      1      66 cleanse_auth_credentials@1377-1442@source_code/est.c\n",
            "      16      5     90      1      18 est_parse_operation@1446-1463@source_code/est.c\n",
            "     103     17    620      3     165 est_parse_uri@1467-1631@source_code/est.c\n",
            "      19      5    124      3      25 est_parse_uri@1635-1659@source_code/est.c\n",
            "      18      4    101      3      24 est_store_path_segment@1663-1686@source_code/est.c\n",
            "      10      2     55      2      16 est_strcasecmp_s@1690-1705@source_code/est.c\n",
            "1 file analyzed.\n",
            "==============================================================\n",
            "NLOC    Avg.NLOC  AvgCCN  Avg.token  function_cnt    file\n",
            "--------------------------------------------------------------\n",
            "   1005      27.1     5.5      155.0        37     source_code/est.c\n",
            "\n",
            "===========================================================================================================\n",
            "!!!! Warnings (cyclomatic_complexity > 15 or length > 1000 or nloc > 1000000 or parameter_count > 100) !!!!\n",
            "================================================\n",
            "  NLOC    CCN   token  PARAM  length  location  \n",
            "------------------------------------------------\n",
            "      45     16    230      1      69 est_destroy@610-678@source_code/est.c\n",
            "     103     17    620      3     165 est_parse_uri@1467-1631@source_code/est.c\n",
            "==========================================================================================\n",
            "Total nloc   Avg.NLOC  AvgCCN  Avg.token   Fun Cnt  Warning cnt   Fun Rt   nloc Rt\n",
            "------------------------------------------------------------------------------------------\n",
            "      1005      27.1     5.5      155.0       37            2      0.05    0.15\n"
          ],
          "name": "stdout"
        }
      ]
    },
    {
      "cell_type": "code",
      "metadata": {
        "id": "OWBaZCgf5huR",
        "colab_type": "code",
        "outputId": "60bb105a-1382-42d4-d24e-6e066c3fae47",
        "colab": {
          "base_uri": "https://localhost:8080/",
          "height": 309
        }
      },
      "source": [
        "!lizard thing.py"
      ],
      "execution_count": 0,
      "outputs": [
        {
          "output_type": "stream",
          "text": [
            "================================================\n",
            "  NLOC    CCN   token  PARAM  length  location  \n",
            "------------------------------------------------\n",
            "       8      3     35      0      10 func@1-10@thing.py\n",
            "1 file analyzed.\n",
            "==============================================================\n",
            "NLOC    Avg.NLOC  AvgCCN  Avg.token  function_cnt    file\n",
            "--------------------------------------------------------------\n",
            "      8       8.0     3.0       35.0         1     thing.py\n",
            "\n",
            "===============================================================================================================\n",
            "No thresholds exceeded (cyclomatic_complexity > 15 or length > 1000 or nloc > 1000000 or parameter_count > 100)\n",
            "==========================================================================================\n",
            "Total nloc   Avg.NLOC  AvgCCN  Avg.token   Fun Cnt  Warning cnt   Fun Rt   nloc Rt\n",
            "------------------------------------------------------------------------------------------\n",
            "         8       8.0     3.0       35.0        1            0      0.00    0.00\n"
          ],
          "name": "stdout"
        }
      ]
    },
    {
      "cell_type": "code",
      "metadata": {
        "id": "TcRGJP7TM1Aq",
        "colab_type": "code",
        "outputId": "8d8ddab9-2518-453c-b4b3-395d0fb62874",
        "colab": {
          "base_uri": "https://localhost:8080/",
          "height": 119
        }
      },
      "source": [
        "!metrics source_code/est.c"
      ],
      "execution_count": 0,
      "outputs": [
        {
          "output_type": "stream",
          "text": [
            "Metrics Summary:\n",
            "Files                       Language        SLOC Comment McCabe \n",
            "----- ------------------------------ ----------- ------- ------ \n",
            "    1                         Python           9       0      3 \n",
            "----- ------------------------------ ----------- ------- ------ \n",
            "    1                          Total           9       0      3 \n"
          ],
          "name": "stdout"
        }
      ]
    },
    {
      "cell_type": "code",
      "metadata": {
        "id": "zn9XeYQmM-jc",
        "colab_type": "code",
        "colab": {}
      },
      "source": [
        "import lizard"
      ],
      "execution_count": 0,
      "outputs": []
    },
    {
      "cell_type": "code",
      "metadata": {
        "id": "M0QAuYLeNk9I",
        "colab_type": "code",
        "colab": {}
      },
      "source": [
        "i = lizard.analyze_file(\"source_code/est.c\")"
      ],
      "execution_count": 0,
      "outputs": []
    },
    {
      "cell_type": "code",
      "metadata": {
        "id": "67zSrLWmPQBa",
        "colab_type": "code",
        "outputId": "efa0674d-eae8-40c8-8447-0aa9f44e3039",
        "colab": {
          "base_uri": "https://localhost:8080/",
          "height": 34
        }
      },
      "source": [
        "print(i.CCN)"
      ],
      "execution_count": 0,
      "outputs": [
        {
          "output_type": "stream",
          "text": [
            "204\n"
          ],
          "name": "stdout"
        }
      ]
    },
    {
      "cell_type": "code",
      "metadata": {
        "id": "0Xpt4ksvNm17",
        "colab_type": "code",
        "outputId": "a28c0c17-ade3-43ee-955d-b3e6297aec58",
        "colab": {
          "base_uri": "https://localhost:8080/",
          "height": 54
        }
      },
      "source": [
        "print(i.__dict__)"
      ],
      "execution_count": 0,
      "outputs": [
        {
          "output_type": "stream",
          "text": [
            "{'filename': 'source_code/est.c', 'nloc': 1005, 'function_list': [<lizard.FunctionInfo object at 0x7f137fc5fc18>, <lizard.FunctionInfo object at 0x7f137fc5fd68>, <lizard.FunctionInfo object at 0x7f137fc5fb00>, <lizard.FunctionInfo object at 0x7f137fc5ff28>, <lizard.FunctionInfo object at 0x7f137fc5ff98>, <lizard.FunctionInfo object at 0x7f137fc5ffd0>, <lizard.FunctionInfo object at 0x7f137fc5f978>, <lizard.FunctionInfo object at 0x7f137fc6b898>, <lizard.FunctionInfo object at 0x7f137fc6b080>, <lizard.FunctionInfo object at 0x7f137fc6b0f0>, <lizard.FunctionInfo object at 0x7f137fc6b160>, <lizard.FunctionInfo object at 0x7f137fc6b128>, <lizard.FunctionInfo object at 0x7f137fc6b2b0>, <lizard.FunctionInfo object at 0x7f137fc6b208>, <lizard.FunctionInfo object at 0x7f137fc6b3c8>, <lizard.FunctionInfo object at 0x7f137fc6b470>, <lizard.FunctionInfo object at 0x7f137fc6b550>, <lizard.FunctionInfo object at 0x7f137fc6b5c0>, <lizard.FunctionInfo object at 0x7f137fc6b668>, <lizard.FunctionInfo object at 0x7f137fc6b6d8>, <lizard.FunctionInfo object at 0x7f137fc6b7b8>, <lizard.FunctionInfo object at 0x7f137fc6b860>, <lizard.FunctionInfo object at 0x7f137fc6b8d0>, <lizard.FunctionInfo object at 0x7f137fc6b978>, <lizard.FunctionInfo object at 0x7f137fc6b7f0>, <lizard.FunctionInfo object at 0x7f137fc6ba58>, <lizard.FunctionInfo object at 0x7f137fc6b9b0>, <lizard.FunctionInfo object at 0x7f137fc6bb70>, <lizard.FunctionInfo object at 0x7f137fc6bc50>, <lizard.FunctionInfo object at 0x7f137fc6bd68>, <lizard.FunctionInfo object at 0x7f137fc6be10>, <lizard.FunctionInfo object at 0x7f137fc6bf28>, <lizard.FunctionInfo object at 0x7f137fc6bef0>, <lizard.FunctionInfo object at 0x7f137fc6bf98>, <lizard.FunctionInfo object at 0x7f137fc70048>, <lizard.FunctionInfo object at 0x7f137fc700b8>, <lizard.FunctionInfo object at 0x7f137fc70160>], 'token_count': 5801}\n"
          ],
          "name": "stdout"
        }
      ]
    },
    {
      "cell_type": "code",
      "metadata": {
        "id": "VPZ8QedNNosG",
        "colab_type": "code",
        "outputId": "6be62c2e-80eb-4fd3-d73c-cb752876f075",
        "colab": {
          "base_uri": "https://localhost:8080/",
          "height": 130
        }
      },
      "source": [
        "for i in range(len(i.function_list)):\n",
        "  "
      ],
      "execution_count": 0,
      "outputs": [
        {
          "output_type": "error",
          "ename": "SyntaxError",
          "evalue": "ignored",
          "traceback": [
            "\u001b[0;36m  File \u001b[0;32m\"<ipython-input-49-9158b71b1056>\"\u001b[0;36m, line \u001b[0;32m1\u001b[0m\n\u001b[0;31m    for i in range(len(i.CCN))\u001b[0m\n\u001b[0m                              ^\u001b[0m\n\u001b[0;31mSyntaxError\u001b[0m\u001b[0;31m:\u001b[0m invalid syntax\n"
          ]
        }
      ]
    },
    {
      "cell_type": "code",
      "metadata": {
        "id": "aKjlOh7rOSSa",
        "colab_type": "code",
        "outputId": "af5b56ff-5896-48e5-b0e9-d973865fd470",
        "colab": {
          "base_uri": "https://localhost:8080/",
          "height": 54
        }
      },
      "source": [
        "print(i.function_list[0].__dict__)"
      ],
      "execution_count": 0,
      "outputs": [
        {
          "output_type": "stream",
          "text": [
            "{'cyclomatic_complexity': 3, 'nloc': 8, 'token_count': 35, 'name': 'func', 'long_name': 'func( )', 'start_line': 1, 'end_line': 10, 'parameters': [], 'filename': 'thing.py', 'top_nesting_level': 0, 'length': 10, 'fan_in': 0, 'fan_out': 0, 'general_fan_out': 0}\n"
          ],
          "name": "stdout"
        }
      ]
    },
    {
      "cell_type": "code",
      "metadata": {
        "id": "yR-WuVsYOd2n",
        "colab_type": "code",
        "outputId": "1db421ee-21a2-457d-c116-b4405ed473df",
        "colab": {
          "base_uri": "https://localhost:8080/",
          "height": 34
        }
      },
      "source": [
        "print(len(i.function_list))"
      ],
      "execution_count": 0,
      "outputs": [
        {
          "output_type": "stream",
          "text": [
            "37\n"
          ],
          "name": "stdout"
        }
      ]
    },
    {
      "cell_type": "code",
      "metadata": {
        "id": "U2aTR9AZOvOq",
        "colab_type": "code",
        "outputId": "93779f00-7215-4d9f-d67b-1d2dd1573d4d",
        "colab": {
          "base_uri": "https://localhost:8080/",
          "height": 34
        }
      },
      "source": [
        "i"
      ],
      "execution_count": 0,
      "outputs": [
        {
          "output_type": "execute_result",
          "data": {
            "text/plain": [
              "<lizard.FileInformation at 0x7f137fc5fc88>"
            ]
          },
          "metadata": {
            "tags": []
          },
          "execution_count": 48
        }
      ]
    },
    {
      "cell_type": "code",
      "metadata": {
        "id": "Ybq-MxTYPCiO",
        "colab_type": "code",
        "outputId": "b520aa56-912f-417f-c634-9440d87c57ce",
        "colab": {
          "base_uri": "https://localhost:8080/",
          "height": 119
        }
      },
      "source": [
        "!metrics thing.py"
      ],
      "execution_count": 0,
      "outputs": [
        {
          "output_type": "stream",
          "text": [
            "Metrics Summary:\n",
            "Files                       Language        SLOC Comment McCabe \n",
            "----- ------------------------------ ----------- ------- ------ \n",
            "    1                         Python          32       0      9 \n",
            "----- ------------------------------ ----------- ------- ------ \n",
            "    1                          Total          32       0      9 \n"
          ],
          "name": "stdout"
        }
      ]
    },
    {
      "cell_type": "code",
      "metadata": {
        "id": "6iPhiFXnP19m",
        "colab_type": "code",
        "outputId": "53ea785e-8cd0-4e45-a70a-d7a91dff1669",
        "colab": {
          "base_uri": "https://localhost:8080/",
          "height": 173
        }
      },
      "source": [
        "thing = lizard.analyze_file(\"thing.py\")\n",
        "print(thing.__dict__)\n",
        "print(thing.CCN)\n",
        "for i in range(len(thing.function_list)):\n",
        "    print(thing.function_list[i].__dict__)\n"
      ],
      "execution_count": 0,
      "outputs": [
        {
          "output_type": "stream",
          "text": [
            "{'filename': 'thing.py', 'nloc': 32, 'function_list': [<lizard.FunctionInfo object at 0x7f47bee93198>, <lizard.FunctionInfo object at 0x7f47bee932e8>, <lizard.FunctionInfo object at 0x7f47bee933c8>, <lizard.FunctionInfo object at 0x7f47bee93630>, <lizard.FunctionInfo object at 0x7f47bee935f8>, <lizard.FunctionInfo object at 0x7f47bee93400>], 'token_count': 145}\n",
            "12\n",
            "{'cyclomatic_complexity': 1, 'nloc': 2, 'token_count': 10, 'name': '__init__', 'long_name': '__init__( self )', 'start_line': 5, 'end_line': 6, 'parameters': ['self'], 'filename': 'thing.py', 'top_nesting_level': 1, 'length': 2, 'fan_in': 0, 'fan_out': 0, 'general_fan_out': 0}\n",
            "{'cyclomatic_complexity': 1, 'nloc': 2, 'token_count': 10, 'name': '__init__', 'long_name': '__init__( self )', 'start_line': 9, 'end_line': 10, 'parameters': ['self'], 'filename': 'thing.py', 'top_nesting_level': 2, 'length': 2, 'fan_in': 0, 'fan_out': 0, 'general_fan_out': 0}\n",
            "{'cyclomatic_complexity': 1, 'nloc': 2, 'token_count': 10, 'name': 'delete', 'long_name': 'delete( self )', 'start_line': 12, 'end_line': 13, 'parameters': ['self'], 'filename': 'thing.py', 'top_nesting_level': 1, 'length': 2, 'fan_in': 0, 'fan_out': 0, 'general_fan_out': 0}\n",
            "{'cyclomatic_complexity': 1, 'nloc': 2, 'token_count': 12, 'name': '__init__', 'long_name': '__init__( self , name )', 'start_line': 16, 'end_line': 17, 'parameters': ['self', 'name'], 'filename': 'thing.py', 'top_nesting_level': 1, 'length': 2, 'fan_in': 0, 'fan_out': 0, 'general_fan_out': 0}\n",
            "{'cyclomatic_complexity': 5, 'nloc': 11, 'token_count': 45, 'name': 'complex_func', 'long_name': 'complex_func( self )', 'start_line': 19, 'end_line': 29, 'parameters': ['self'], 'filename': 'thing.py', 'top_nesting_level': 1, 'length': 11, 'fan_in': 0, 'fan_out': 0, 'general_fan_out': 0}\n",
            "{'cyclomatic_complexity': 3, 'nloc': 8, 'token_count': 35, 'name': 'func', 'long_name': 'func( )', 'start_line': 38, 'end_line': 47, 'parameters': [], 'filename': 'thing.py', 'top_nesting_level': 0, 'length': 10, 'fan_in': 0, 'fan_out': 0, 'general_fan_out': 0}\n"
          ],
          "name": "stdout"
        }
      ]
    },
    {
      "cell_type": "code",
      "metadata": {
        "id": "bAccxclu4pVN",
        "colab_type": "code",
        "outputId": "434e6aaf-7f13-43cd-b91c-fbccf792c65e",
        "colab": {
          "base_uri": "https://localhost:8080/",
          "height": 34
        }
      },
      "source": [
        "thing.filename"
      ],
      "execution_count": 0,
      "outputs": [
        {
          "output_type": "execute_result",
          "data": {
            "text/plain": [
              "'source_code/est.c'"
            ]
          },
          "metadata": {
            "tags": []
          },
          "execution_count": 26
        }
      ]
    },
    {
      "cell_type": "code",
      "metadata": {
        "id": "FDO_C0Yy40k3",
        "colab_type": "code",
        "outputId": "0eb8a1ce-08d0-4ff1-af9b-7dc5383509a4",
        "colab": {
          "base_uri": "https://localhost:8080/",
          "height": 34
        }
      },
      "source": [
        "thing.nloc"
      ],
      "execution_count": 0,
      "outputs": [
        {
          "output_type": "execute_result",
          "data": {
            "text/plain": [
              "1005"
            ]
          },
          "metadata": {
            "tags": []
          },
          "execution_count": 28
        }
      ]
    },
    {
      "cell_type": "code",
      "metadata": {
        "id": "QpZwf-tE403r",
        "colab_type": "code",
        "outputId": "60eda8af-6b8c-4eb8-f964-5823dd8a6fa6",
        "colab": {
          "base_uri": "https://localhost:8080/",
          "height": 34
        }
      },
      "source": [
        "print(thing.functions_average)"
      ],
      "execution_count": 0,
      "outputs": [
        {
          "output_type": "stream",
          "text": [
            "<bound method FileInformation.functions_average of <lizard.FileInformation object at 0x7f5ed935c978>>\n"
          ],
          "name": "stdout"
        }
      ]
    },
    {
      "cell_type": "code",
      "metadata": {
        "id": "xQjQ9krR41H0",
        "colab_type": "code",
        "colab": {}
      },
      "source": [
        ""
      ],
      "execution_count": 0,
      "outputs": []
    },
    {
      "cell_type": "code",
      "metadata": {
        "id": "QSNSF-D7QLwu",
        "colab_type": "code",
        "colab": {}
      },
      "source": [
        "i = lizard.analyze_file.analyze_source_code(\"AllTests.cpp\", \"int foo(){}\")"
      ],
      "execution_count": 0,
      "outputs": []
    },
    {
      "cell_type": "code",
      "metadata": {
        "id": "lGxFXQJWQpt-",
        "colab_type": "code",
        "outputId": "aa37c19d-59c1-4c6f-8505-604ed7dcaa9a",
        "colab": {
          "base_uri": "https://localhost:8080/",
          "height": 85
        }
      },
      "source": [
        "i.__dict__"
      ],
      "execution_count": 0,
      "outputs": [
        {
          "output_type": "execute_result",
          "data": {
            "text/plain": [
              "{'filename': 'AllTests.cpp',\n",
              " 'function_list': [<lizard.FunctionInfo at 0x7f137fbacc18>],\n",
              " 'nloc': 1,\n",
              " 'token_count': 6}"
            ]
          },
          "metadata": {
            "tags": []
          },
          "execution_count": 61
        }
      ]
    },
    {
      "cell_type": "code",
      "metadata": {
        "id": "duDyG-kMQr4f",
        "colab_type": "code",
        "outputId": "283ec169-7807-42e0-b669-1faf7214ddf2",
        "colab": {
          "base_uri": "https://localhost:8080/",
          "height": 34
        }
      },
      "source": [
        "i.CCN"
      ],
      "execution_count": 0,
      "outputs": [
        {
          "output_type": "execute_result",
          "data": {
            "text/plain": [
              "1"
            ]
          },
          "metadata": {
            "tags": []
          },
          "execution_count": 62
        }
      ]
    },
    {
      "cell_type": "code",
      "metadata": {
        "id": "-8xm-5f0QvsQ",
        "colab_type": "code",
        "outputId": "082158ce-7fe6-44e9-d589-e2403081e7fd",
        "colab": {
          "base_uri": "https://localhost:8080/",
          "height": 34
        }
      },
      "source": [
        "lizard.analyze_file.analyze_source_code(\"AllTests.py\", \"def foo():\\n\\tif (True): \\n\\tprint('HI')\").CCN"
      ],
      "execution_count": 0,
      "outputs": [
        {
          "output_type": "execute_result",
          "data": {
            "text/plain": [
              "2"
            ]
          },
          "metadata": {
            "tags": []
          },
          "execution_count": 70
        }
      ]
    },
    {
      "cell_type": "code",
      "metadata": {
        "id": "l5WsVWLDTtlX",
        "colab_type": "code",
        "colab": {}
      },
      "source": [
        "import subprocess\n",
        "import json\n",
        "def add_mccabe_metrics(df, col):\n",
        "    mccabe = []\n",
        "    sloc = []\n",
        "    comments = []\n",
        "    ratio = []\n",
        "    for i in range(len(df)):\n",
        "        if i == 99:\n",
        "            print(\"At file #100\", end=\"\")\n",
        "        if ((i + 1) % 200) == 0:\n",
        "            print(\", file #\" + str(i + 1), end=\"\")\n",
        "        ext = df[\"file_name\"][i].split('.')[-1]\n",
        "        if ext == 'h':\n",
        "            ext = 'c'\n",
        "        with open(f\"temp_file.{ext}\", \"w\", encoding='UTF-8') as fp:\n",
        "            fp.write(df[col][i])\n",
        "        out = subprocess.Popen(['metrics', '-q', '--format=json', f\"temp_file.{ext}\"], \n",
        "                               stdout=subprocess.PIPE, \n",
        "                               stderr=subprocess.STDOUT)\n",
        "        stdout,stderr = out.communicate()\n",
        "        metrics_data = json.loads(stdout)\n",
        "        mccabe.append(metrics_data['files'][f\"temp_file.{ext}\"]['mccabe'])\n",
        "        sloc.append(metrics_data['files'][f\"temp_file.{ext}\"]['sloc'])\n",
        "        comments.append(metrics_data['files'][f\"temp_file.{ext}\"]['comments'])\n",
        "        ratio.append(metrics_data['files'][f\"temp_file.{ext}\"]['ratio_comment_to_code'])\n",
        "#         print(mccabe_data['files'][f'temp_file.{LANGUAGE}'].keys())\n",
        "        os.remove(f\"temp_file.{ext}\")\n",
        "    df[\"complexity\"] = mccabe\n",
        "    df[\"code_lines\"] = sloc\n",
        "    df[\"comments\"] = comments\n",
        "    df[\"ratio_comment_to_code\"] = ratio\n",
        "    return df"
      ],
      "execution_count": 0,
      "outputs": []
    }
  ]
}