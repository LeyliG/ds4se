{
  "nbformat": 4,
  "nbformat_minor": 0,
  "metadata": {
    "kernelspec": {
      "display_name": "Python 3",
      "language": "python",
      "name": "python3"
    },
    "language_info": {
      "codemirror_mode": {
        "name": "ipython",
        "version": 3
      },
      "file_extension": ".py",
      "mimetype": "text/x-python",
      "name": "python",
      "nbconvert_exporter": "python",
      "pygments_lexer": "ipython3",
      "version": "3.6.8"
    },
    "colab": {
      "name": "01.1_data.exploratory.se.metrics.ipynb",
      "provenance": [],
      "toc_visible": true
    }
  },
  "cells": [
    {
      "cell_type": "code",
      "metadata": {
        "id": "iiU_wJelvSeJ",
        "colab_type": "code",
        "colab": {}
      },
      "source": [
        "# default_exp data.exploratory.se.metrics"
      ],
      "execution_count": 0,
      "outputs": []
    },
    {
      "cell_type": "markdown",
      "metadata": {
        "id": "3D-SNetwvSea",
        "colab_type": "text"
      },
      "source": [
        "# Exploration of your data\n",
        "\n",
        "> This module comprises some of the statistical and inference techniques to describe the inner properties of software data. The submodules might include:\n",
        ">\n",
        "> - Descriptive statistics\n",
        "> - Software Metrics\n",
        "> - Information Theory\n",
        "> - Learning Principels Detection (Occams' Razor, Biased data, and Data Snooping)\n",
        "> - Inference: Probabilistic and Causal"
      ]
    },
    {
      "cell_type": "markdown",
      "metadata": {
        "id": "2buKCA0I01Cn",
        "colab_type": "text"
      },
      "source": [
        "### Specifically in this module\n",
        "\n",
        "> - Cyclomatic complexity (CYCLO)\n",
        "> - Coupling Between Objects (CBO)\n",
        "> - Lack of Cohesion of Methods 5 (LCOM5)\n",
        "> - Top/Least 20 Occurring Tokens\n",
        "> - Percentage of redundancy (just Java)\n",
        "> - How many Type I and Type II clones are in Java datasets?"
      ]
    },
    {
      "cell_type": "code",
      "metadata": {
        "id": "jjkOCTMxvSed",
        "colab_type": "code",
        "colab": {}
      },
      "source": [
        "# #hide\n",
        "# from nbdev.showdoc import *"
      ],
      "execution_count": 0,
      "outputs": []
    },
    {
      "cell_type": "code",
      "metadata": {
        "id": "dmqIlUc01iz8",
        "colab_type": "code",
        "outputId": "e396a3fd-3aad-4b48-ff32-3237cdc6c685",
        "colab": {
          "base_uri": "https://localhost:8080/",
          "height": 156
        }
      },
      "source": [
        "!pip install sentencepiece\n",
        "!pip install metrics\n",
        "!pip install lizard"
      ],
      "execution_count": 11,
      "outputs": [
        {
          "output_type": "stream",
          "text": [
            "Requirement already satisfied: sentencepiece in /usr/local/lib/python3.6/dist-packages (0.1.85)\n",
            "Requirement already satisfied: metrics in /usr/local/lib/python3.6/dist-packages (0.3.3)\n",
            "Requirement already satisfied: pathspec==0.5.5 in /usr/local/lib/python3.6/dist-packages (from metrics) (0.5.5)\n",
            "Requirement already satisfied: Pygments==2.2.0 in /usr/local/lib/python3.6/dist-packages (from metrics) (2.2.0)\n",
            "Requirement already satisfied: pathlib2>=2.3.0 in /usr/local/lib/python3.6/dist-packages (from metrics) (2.3.5)\n",
            "Requirement already satisfied: six in /usr/local/lib/python3.6/dist-packages (from pathlib2>=2.3.0->metrics) (1.12.0)\n",
            "Requirement already satisfied: lizard in /usr/local/lib/python3.6/dist-packages (1.17.3)\n"
          ],
          "name": "stdout"
        }
      ]
    },
    {
      "cell_type": "code",
      "metadata": {
        "id": "GZfgmd8qvrVX",
        "colab_type": "code",
        "colab": {}
      },
      "source": [
        "# export\n",
        "# Imports\n",
        "import pandas as pd\n",
        "import sentencepiece as sp\n",
        "from numpy import mean, std\n",
        "from statistics import median\n",
        "from scipy.stats import sem, t\n",
        "import lizard\n",
        "\n",
        "# TODO: Remove when mongo call is implemented\n",
        "import os"
      ],
      "execution_count": 0,
      "outputs": []
    },
    {
      "cell_type": "code",
      "metadata": {
        "id": "SCBPfIyqvSev",
        "colab_type": "code",
        "colab": {}
      },
      "source": [
        "# TODO: Replace with actual mongo call\n",
        "def simulate_getting_dataframes_from_mongo():\n",
        "    corpus_data = {\"system\": [], \"name\": [], \"ground_truth\": [], \"contents\": []}\n",
        "    path = \"./source_code\"\n",
        "    for file in os.listdir(path):\n",
        "        corpus_data[\"system\"].append(None)\n",
        "        corpus_data[\"name\"].append(file)\n",
        "        corpus_data[\"ground_truth\"].append(\"src\")\n",
        "        with open (os.path.join(path, file), \"r\") as f:\n",
        "            corpus_data['contents'].append(f.read())\n",
        "    path = \"./tests\"\n",
        "    for file in os.listdir(path):\n",
        "        corpus_data[\"system\"].append(None)\n",
        "        corpus_data[\"name\"].append(file)\n",
        "        corpus_data[\"ground_truth\"].append(\"test\")\n",
        "        with open (os.path.join(path, file), \"r\") as f:\n",
        "            corpus_data[\"contents\"].append(f.read())\n",
        "    corpus_df = pd.DataFrame(data = corpus_data)\n",
        "    return corpus_df"
      ],
      "execution_count": 0,
      "outputs": []
    },
    {
      "cell_type": "code",
      "metadata": {
        "id": "XoAHdPTi1oFm",
        "colab_type": "code",
        "colab": {}
      },
      "source": [
        "# export\n",
        "# TODO: Change based on format of input data from Mongo\n",
        "def df_to_txt_file(df, output, cols):\n",
        "    \"\"\"Converts a dataframe into a text file that SentencePiece can use to train a BPE model\"\"\"\n",
        "    if cols is None: cols = list(df.columns)\n",
        "    merged_df = pd.concat([df[col] for col in cols])\n",
        "    \n",
        "    with open(output + '_text.txt', 'w') as f:\n",
        "        f.write('\\n'.join(list(merged_df)))\n",
        "    return output + '_text.txt'"
      ],
      "execution_count": 0,
      "outputs": []
    },
    {
      "cell_type": "code",
      "metadata": {
        "id": "OjHlb8dxv3oj",
        "colab_type": "code",
        "colab": {}
      },
      "source": [
        "# export\n",
        "# TODO: Change based on format of input data from Mongo\n",
        "def gen_sp_model(df, output, model_name, cols=None):\n",
        "    \"\"\"Trains a SentencePiece BPE model from a pandas dataframe\"\"\"\n",
        "    fname = df_to_txt_file(df, output, cols)\n",
        "    sp.SentencePieceTrainer.train(f'--input={fname} --model_prefix={output + model_name} --hard_vocab_limit=false --model_type=bpe')\n",
        "    return output + model_name"
      ],
      "execution_count": 0,
      "outputs": []
    },
    {
      "cell_type": "code",
      "metadata": {
        "id": "twT8CJYECVxT",
        "colab_type": "code",
        "colab": {}
      },
      "source": [
        "# export\n",
        "def add_length_col(df, col, length_col_name='length'):\n",
        "    \"\"\"Adds a length column with the length of entries in the specified column of a dataframe\"\"\"\n",
        "    df[length_col_name] = df[col].astype(str).apply(len)\n",
        "    return df"
      ],
      "execution_count": 0,
      "outputs": []
    },
    {
      "cell_type": "code",
      "metadata": {
        "id": "m8zM9rtr1f-n",
        "colab_type": "code",
        "colab": {}
      },
      "source": [
        "# export\n",
        "def stat_metrics(df, col, data_types=None, conf = 0.95, sig_figs = 4):\n",
        "    \"\"\"Computes statistical metrics about the entries in a dataframe column\"\"\"\n",
        "    if data_types != None: \n",
        "        df = df[df['ground_truth'].isin(data_types)]\n",
        "        print(f\"~~Printing metrics for {data_types} in column [{col}]~~\")\n",
        "    else:\n",
        "        print(f\"~~Printing metrics for all data in column [{col}]~~\")\n",
        "\n",
        "    print(\"Min =\", round(df[col].min(), sig_figs))\n",
        "    print(\"Max =\", round(df[col].max(), sig_figs))\n",
        "    print(\"Average =\", round(df[col].mean(), sig_figs))\n",
        "    print(\"Median =\", round(median(df[col]), sig_figs))\n",
        "    print(\"Standard Deviation =\", round(std(df[col]), sig_figs))\n",
        "    \n",
        "    n = len(df[col])\n",
        "    m = mean(df[col])\n",
        "    std_err = sem(df[col])\n",
        "    h = std_err * t.ppf((1 + conf) / 2, n - 1)\n",
        "\n",
        "    start = m - h\n",
        "    end = m + h\n",
        "    print(f\"{conf} of data points fall between {round(start, sig_figs)} and {round(end, sig_figs)}\")"
      ],
      "execution_count": 0,
      "outputs": []
    },
    {
      "cell_type": "code",
      "metadata": {
        "id": "Zrcs5Js-CR7T",
        "colab_type": "code",
        "colab": {}
      },
      "source": [
        "# export\n",
        "def add_mccabe_metrics(df, col):\n",
        "    \"\"\"\"\"\"\n",
        "    ccn = []\n",
        "    nloc = []\n",
        "    # comments = []\n",
        "    # ratio = []\n",
        "    for i in range(len(df)):\n",
        "        metrics = lizard.analyze_file.analyze_source_code(df[\"name\"][i], df[\"contents\"][i])\n",
        "        ccn.append(metrics.CCN)\n",
        "        nloc.append(metrics.nloc)\n",
        "        # comments.append\n",
        "    df[\"ccn\"] = ccn\n",
        "    df[\"nloc\"] = nloc\n",
        "    # df[\"comments\"] = comments\n",
        "    # df[\"sc_comm_ratio\"] = ratio\n",
        "    return df"
      ],
      "execution_count": 0,
      "outputs": []
    },
    {
      "cell_type": "markdown",
      "metadata": {
        "id": "y3lwzryRwjxI",
        "colab_type": "text"
      },
      "source": [
        "# Analysis & Visualization"
      ]
    },
    {
      "cell_type": "code",
      "metadata": {
        "id": "W13webAlwoKA",
        "colab_type": "code",
        "outputId": "3d252d9e-8c6b-4dcb-be86-b13f01265320",
        "colab": {
          "base_uri": "https://localhost:8080/",
          "height": 68
        }
      },
      "source": [
        "# Retrieve the data\n",
        "corpus_df = simulate_getting_dataframes_from_mongo()\n",
        "src_df = corpus_df.loc[corpus_df[\"ground_truth\"] == 'src']\n",
        "test_df = corpus_df.loc[corpus_df[\"ground_truth\"] == 'test']\n",
        "\n",
        "total_file_count = len(corpus_df)\n",
        "src_files_count = len(src_df)\n",
        "test_files_count = len(test_df)\n",
        "print(\"Source Code Files:\", src_files_count, \"(\" + str(round(src_files_count/total_file_count, 4)*100) + \"%)\")\n",
        "print(\"Test Code Files:\", test_files_count, \"(\" + str(round(test_files_count/total_file_count, 4)*100) + \"%)\")\n",
        "print(\"Total files:\", total_file_count)"
      ],
      "execution_count": 18,
      "outputs": [
        {
          "output_type": "stream",
          "text": [
            "Source Code Files: 14 (40.0%)\n",
            "Test Code Files: 21 (60.0%)\n",
            "Total files: 35\n"
          ],
          "name": "stdout"
        }
      ]
    },
    {
      "cell_type": "code",
      "metadata": {
        "id": "2cad1lQIx3Ks",
        "colab_type": "code",
        "colab": {}
      },
      "source": [
        "# Generate the SP Models\n",
        "model = gen_sp_model(corpus_df, output='LibEST', model_name='_sp_bpe_modal', cols=['contents'])"
      ],
      "execution_count": 0,
      "outputs": []
    },
    {
      "cell_type": "code",
      "metadata": {
        "id": "T9wPtN2B2oJ9",
        "colab_type": "code",
        "outputId": "78c87c8a-73df-44fd-e515-37e9a7a8bb71",
        "colab": {
          "base_uri": "https://localhost:8080/",
          "height": 136
        }
      },
      "source": [
        "corpus_df = add_length_col(corpus_df, 'contents', 'code_length')\n",
        "stat_metrics(corpus_df, 'code_length')"
      ],
      "execution_count": 20,
      "outputs": [
        {
          "output_type": "stream",
          "text": [
            "~~Printing metrics for all data in column [code_length]~~\n",
            "Min = 178\n",
            "Max = 149212\n",
            "Average = 29901.8857\n",
            "Median = 28111\n",
            "Standard Deviation = 26290.3033\n",
            "0.95 of data points fall between 20739.0036 and 39064.7678\n"
          ],
          "name": "stdout"
        }
      ]
    },
    {
      "cell_type": "code",
      "metadata": {
        "id": "AaFF77FNBDsx",
        "colab_type": "code",
        "colab": {}
      },
      "source": [
        "corpus_df = add_mccabe_metrics(corpus_df, 'contents')"
      ],
      "execution_count": 0,
      "outputs": []
    },
    {
      "cell_type": "code",
      "metadata": {
        "id": "TmXuuwU5077r",
        "colab_type": "code",
        "outputId": "2a4142bc-5b6b-4070-d9df-4ea7054a343c",
        "colab": {
          "base_uri": "https://localhost:8080/",
          "height": 255
        }
      },
      "source": [
        "stat_metrics(corpus_df, 'ccn')\n",
        "stat_metrics(corpus_df, 'nloc')"
      ],
      "execution_count": 35,
      "outputs": [
        {
          "output_type": "stream",
          "text": [
            "~~Printing metrics for all data in column [ccn]~~\n",
            "Min = 0\n",
            "Max = 516\n",
            "Average = 83.0\n",
            "Median = 47\n",
            "Standard Deviation = 104.228\n",
            "0.95 of data points fall between 46.6737 and 119.3263\n",
            "~~Printing metrics for all data in column [nloc]~~\n",
            "Min = 3\n",
            "Max = 2353\n",
            "Average = 516.4\n",
            "Median = 411\n",
            "Standard Deviation = 451.1161\n",
            "0.95 of data points fall between 359.1738 and 673.6262\n"
          ],
          "name": "stdout"
        }
      ]
    },
    {
      "cell_type": "code",
      "metadata": {
        "id": "ZzWNnYS1BDz-",
        "colab_type": "code",
        "colab": {}
      },
      "source": [
        ""
      ],
      "execution_count": 0,
      "outputs": []
    },
    {
      "cell_type": "code",
      "metadata": {
        "id": "aqpxj8CkBD7G",
        "colab_type": "code",
        "outputId": "bb243301-3c63-4479-8f0d-10292bfb6d46",
        "colab": {
          "base_uri": "https://localhost:8080/",
          "height": 649
        }
      },
      "source": [
        "pd.set_option('display.expand_frame_repr', False)\n",
        "print(corpus_df)"
      ],
      "execution_count": 37,
      "outputs": [
        {
          "output_type": "stream",
          "text": [
            "   system                name ground_truth                                           contents  code_length  ccn  nloc\n",
            "0    None               est.c          src  static void (*est_log_func)(char *, va_list) =...        50650  204  1005\n",
            "1    None   est_server_http.h          src  // MINGW typedefs pid_t to int. Using #define ...          332    0     3\n",
            "2    None   est_server_http.c          src  static pthread_t pthread_self (void)\\n{\\n    r...        58103  302  1203\n",
            "3    None     est_ossl_util.h          src  int ossl_verify_cb(int ok, X509_STORE_CTX *ctx...          214    0     4\n",
            "4    None        est_server.c          src  /*\\n * This function sends EST specific HTTP e...        73443  274  1348\n",
            "5    None  est_client_proxy.h          src  tcw_err_t tcw_connect(tcw_sock_t *sock, tcw_op...          178    0     3\n",
            "6    None   est_client_http.c          src  /*\\n** signed long to signed int\\n*/\\nint curl...        33067  214   710\n",
            "7    None          est_locl.h          src  LIBEST_TEST_API void est_log (EST_LOG_LEVEL lv...         3189    0    39\n",
            "8    None        est_client.c          src  /*\\n * Utility function to set the certificate...       149212  516  2353\n",
            "9    None               est.h          src  /** @file */\\n/*------------------------------...        26660    0   162\n",
            "10   None  est_client_proxy.c          src  /* Use WSAAddressToStringA instead of inet_nto...        16838   75   404\n",
            "11   None         est_proxy.c          src  /*\\n * Since we hijack the OpenSSL BUF_MEM wit...        47546  140   743\n",
            "12   None        est_server.h          src  /*\\n * These prototypes are private to est_ser...         1237    0     9\n",
            "13   None     est_ossl_util.c          src  /*********************************************...         8931   41   204\n",
            "14   None             us903.c         test  /*--------------------------------------------...        21959   38   323\n",
            "15   None            us1883.c         test  /*--------------------------------------------...        34902   55   389\n",
            "16   None             us897.c         test  /*--------------------------------------------...        38280  121   784\n",
            "17   None             us896.c         test  /*--------------------------------------------...        10526   20   163\n",
            "18   None            us3512.c         test  /*--------------------------------------------...        32055   63   519\n",
            "19   None             us894.c         test  /*--------------------------------------------...        38371   72   808\n",
            "20   None             us901.c         test  /*--------------------------------------------...        26909   75   570\n",
            "21   None            us1005.c         test  /*--------------------------------------------...        19276   51   344\n",
            "22   None             us893.c         test  /*--------------------------------------------...        34107   43   597\n",
            "23   None             us900.c         test  /*--------------------------------------------...        32706   34   466\n",
            "24   None            us1060.c         test  /*--------------------------------------------...        21254   37   329\n",
            "25   None             us895.c         test  /*--------------------------------------------...        29112   33   411\n",
            "26   None             us899.c         test  /*--------------------------------------------...        42269   80   684\n",
            "27   None            us4020.c         test  /*--------------------------------------------...        34256   43   624\n",
            "28   None            us1159.c         test  /*--------------------------------------------...        28944   86   602\n",
            "29   None            us3612.c         test  /*--------------------------------------------...        14782   47   300\n",
            "30   None            us1864.c         test  /*--------------------------------------------...        11522   15   149\n",
            "31   None             us748.c         test  /*--------------------------------------------...        21134   36   299\n",
            "32   None            us3496.c         test  /*--------------------------------------------...        22756   82   490\n",
            "33   None             us898.c         test  /*--------------------------------------------...        33735   64   672\n",
            "34   None            us2174.c         test  /*--------------------------------------------...        28111   44   361\n"
          ],
          "name": "stdout"
        }
      ]
    },
    {
      "cell_type": "code",
      "metadata": {
        "id": "oy8UDLApBEB5",
        "colab_type": "code",
        "colab": {}
      },
      "source": [
        ""
      ],
      "execution_count": 0,
      "outputs": []
    },
    {
      "cell_type": "code",
      "metadata": {
        "id": "Z5_wYi7BBEIf",
        "colab_type": "code",
        "colab": {}
      },
      "source": [
        ""
      ],
      "execution_count": 0,
      "outputs": []
    },
    {
      "cell_type": "code",
      "metadata": {
        "id": "IrjHDBhuBEP4",
        "colab_type": "code",
        "colab": {}
      },
      "source": [
        ""
      ],
      "execution_count": 0,
      "outputs": []
    },
    {
      "cell_type": "code",
      "metadata": {
        "id": "dSQu6S_-BEYk",
        "colab_type": "code",
        "colab": {}
      },
      "source": [
        ""
      ],
      "execution_count": 0,
      "outputs": []
    },
    {
      "cell_type": "code",
      "metadata": {
        "id": "hHCznRPSBEqO",
        "colab_type": "code",
        "colab": {}
      },
      "source": [
        "\"https://github.com/priv-kweihmann/multimetric\"\n"
      ],
      "execution_count": 0,
      "outputs": []
    },
    {
      "cell_type": "code",
      "metadata": {
        "id": "_OpoQ2JFBEWo",
        "colab_type": "code",
        "colab": {}
      },
      "source": [
        "\"https://books.google.com/books?id=DxuGi5h2-HEC&pg=PA140&lpg=PA140&dq=do+header+files+in+c+have+a+cyclomatic+complexity&source=bl&ots=0WxxjeX9rR&sig=ACfU3U1QnoKnwrsj4YbSQxATeaoYMvBWwg&hl=en&sa=X&ved=2ahUKEwijtqKxhJXoAhUSXa0KHctQD38Q6AEwAnoECAkQAQ#v=onepage&q=do%20header%20files%20in%20c%20have%20a%20cyclomatic%20complexity&f=false\"\n",
        "\"The abover link goes to an article discussing cyclomatic complexity and c header files\""
      ],
      "execution_count": 0,
      "outputs": []
    },
    {
      "cell_type": "markdown",
      "metadata": {
        "id": "JR2EHr85BBNG",
        "colab_type": "text"
      },
      "source": [
        "# Scratch Code (Testing)"
      ]
    },
    {
      "cell_type": "code",
      "metadata": {
        "id": "hoddzqvt4wnY",
        "colab_type": "code",
        "outputId": "672b15e5-c2e9-4bb0-ba44-e500c3976d4c",
        "colab": {
          "base_uri": "https://localhost:8080/",
          "height": 34
        }
      },
      "source": [
        "print(round(1236721.8237468732, 3))"
      ],
      "execution_count": 0,
      "outputs": [
        {
          "output_type": "stream",
          "text": [
            "1236721.824\n"
          ],
          "name": "stdout"
        }
      ]
    },
    {
      "cell_type": "code",
      "metadata": {
        "id": "XQe5TlTT5W2_",
        "colab_type": "code",
        "colab": {}
      },
      "source": [
        "!pip install lizard"
      ],
      "execution_count": 0,
      "outputs": []
    },
    {
      "cell_type": "code",
      "metadata": {
        "id": "EDaHWDYZAFkM",
        "colab_type": "code",
        "colab": {}
      },
      "source": [
        "import subprocess\n",
        "import json\n",
        "def add_lizard_mccabe_metrics(df, col):\n",
        "    mccabe = []\n",
        "    sloc = []\n",
        "    comments = []\n",
        "    ratio = []\n",
        "    for i in range(len(df)):\n",
        "        if i == 99:\n",
        "            print(\"At file #100\", end=\"\")\n",
        "        if ((i + 1) % 200) == 0:\n",
        "            print(\", file #\" + str(i + 1), end=\"\")\n",
        "        ext = df[\"file_name\"][i].split('.')[-1]\n",
        "        if ext == 'h':\n",
        "            ext = 'c'\n",
        "        with open(f\"temp_file.{ext}\", \"w\", encoding='UTF-8') as fp:\n",
        "            fp.write(df[col][i])\n",
        "        out = subprocess.Popen(['metrics', '-q', '--format=json', f\"temp_file.{ext}\"], \n",
        "                               stdout=subprocess.PIPE, \n",
        "                               stderr=subprocess.STDOUT)\n",
        "        stdout,stderr = out.communicate()\n",
        "        metrics_data = json.loads(stdout)\n",
        "        mccabe.append(metrics_data['files'][f\"temp_file.{ext}\"]['mccabe'])\n",
        "        sloc.append(metrics_data['files'][f\"temp_file.{ext}\"]['sloc'])\n",
        "        comments.append(metrics_data['files'][f\"temp_file.{ext}\"]['comments'])\n",
        "        ratio.append(metrics_data['files'][f\"temp_file.{ext}\"]['ratio_comment_to_code'])\n",
        "#         print(mccabe_data['files'][f'temp_file.{LANGUAGE}'].keys())\n",
        "        os.remove(f\"temp_file.{ext}\")\n",
        "    df[\"complexity\"] = mccabe\n",
        "    df[\"code_lines\"] = sloc\n",
        "    df[\"comments\"] = comments\n",
        "    df[\"ratio_comment_to_code\"] = ratio\n",
        "    return df"
      ],
      "execution_count": 0,
      "outputs": []
    },
    {
      "cell_type": "code",
      "metadata": {
        "id": "WC4OK2bD5Uv6",
        "colab_type": "code",
        "colab": {}
      },
      "source": [
        ""
      ],
      "execution_count": 0,
      "outputs": []
    },
    {
      "cell_type": "code",
      "metadata": {
        "id": "zlCs-Q5O5hBo",
        "colab_type": "code",
        "outputId": "4ec0cafe-8c01-440b-e972-6009e45922e1",
        "colab": {
          "base_uri": "https://localhost:8080/",
          "height": 1000
        }
      },
      "source": [
        "!lizard source_code/est.c"
      ],
      "execution_count": 0,
      "outputs": [
        {
          "output_type": "stream",
          "text": [
            "================================================\n",
            "  NLOC    CCN   token  PARAM  length  location  \n",
            "------------------------------------------------\n",
            "       7      1     35      2      11 est_logger_stderr@9-19@source_code/est.c\n",
            "      11      2     53      2      16 est_log_msg@27-42@source_code/est.c\n",
            "      14      3     66      3      24 est_log@46-69@source_code/est.c\n",
            "      18      2    154      1      23 printStackTrace@73-95@source_code/est.c\n",
            "      18      5     91      1      31 est_log_backtrace@99-129@source_code/est.c\n",
            "       3      1      9      1       3 est_get_version@136-138@source_code/est.c\n",
            "       3      1      9      1       3 est_get_api_level@148-150@source_code/est.c\n",
            "       7      2     43      1       9 est_log_version@156-164@source_code/est.c\n",
            "      10      2     46      2      16 est_init_logger@181-196@source_code/est.c\n",
            "       4      1     11      1       4 est_enable_backtrace@213-216@source_code/est.c\n",
            "      42      9    202      3      52 est_read_x509_request@239-290@source_code/est.c\n",
            "      29      5    135      3      33 est_load_key@313-345@source_code/est.c\n",
            "      62     11    323      2     101 est_get_certs_pkcs7@357-457@source_code/est.c\n",
            "      38      6    223      3      51 est_load_ca_certs@467-517@source_code/est.c\n",
            "      16      3     92      3      22 est_load_trusted_certs@528-549@source_code/est.c\n",
            "      11      3     48      2      11 est_set_ex_data@570-580@source_code/est.c\n",
            "       7      2     27      1       7 est_get_ex_data@593-599@source_code/est.c\n",
            "      45     16    230      1      69 est_destroy@610-678@source_code/est.c\n",
            "      13      4     60      2      23 est_base64_contains_nl@688-710@source_code/est.c\n",
            "      38      6    219      3      59 est_base64_decode@719-777@source_code/est.c\n",
            "      44      5    245      4      68 est_base64_encode@786-853@source_code/est.c\n",
            "      46      9    282      2      59 est_get_tls_uid@862-920@source_code/est.c\n",
            "       9      2     69      3      10 est_hex_to_str@926-935@source_code/est.c\n",
            "       9      2     36      1      10 est_enable_crl@953-962@source_code/est.c\n",
            "      51     11    253      3      60 est_asn1_sanity_test@971-1030@source_code/est.c\n",
            "       8      3     54      3      12 est_is_challengePassword_present@1038-1049@source_code/est.c\n",
            "      27      5    151      3      35 est_asn1_parse_attributes@1056-1090@source_code/est.c\n",
            "      92     14    687      4     108 est_add_challengePassword@1097-1204@source_code/est.c\n",
            "      21      6    108      4      27 est_add_attributes_helper@1218-1244@source_code/est.c\n",
            "      28      8    159      4      42 est_decode_attributes_helper@1258-1299@source_code/est.c\n",
            "      51     10    273      3      60 est_get_attributes_helper@1313-1372@source_code/est.c\n",
            "      55     11    353      1      66 cleanse_auth_credentials@1377-1442@source_code/est.c\n",
            "      16      5     90      1      18 est_parse_operation@1446-1463@source_code/est.c\n",
            "     103     17    620      3     165 est_parse_uri@1467-1631@source_code/est.c\n",
            "      19      5    124      3      25 est_parse_uri@1635-1659@source_code/est.c\n",
            "      18      4    101      3      24 est_store_path_segment@1663-1686@source_code/est.c\n",
            "      10      2     55      2      16 est_strcasecmp_s@1690-1705@source_code/est.c\n",
            "1 file analyzed.\n",
            "==============================================================\n",
            "NLOC    Avg.NLOC  AvgCCN  Avg.token  function_cnt    file\n",
            "--------------------------------------------------------------\n",
            "   1005      27.1     5.5      155.0        37     source_code/est.c\n",
            "\n",
            "===========================================================================================================\n",
            "!!!! Warnings (cyclomatic_complexity > 15 or length > 1000 or nloc > 1000000 or parameter_count > 100) !!!!\n",
            "================================================\n",
            "  NLOC    CCN   token  PARAM  length  location  \n",
            "------------------------------------------------\n",
            "      45     16    230      1      69 est_destroy@610-678@source_code/est.c\n",
            "     103     17    620      3     165 est_parse_uri@1467-1631@source_code/est.c\n",
            "==========================================================================================\n",
            "Total nloc   Avg.NLOC  AvgCCN  Avg.token   Fun Cnt  Warning cnt   Fun Rt   nloc Rt\n",
            "------------------------------------------------------------------------------------------\n",
            "      1005      27.1     5.5      155.0       37            2      0.05    0.15\n"
          ],
          "name": "stdout"
        }
      ]
    },
    {
      "cell_type": "code",
      "metadata": {
        "id": "OWBaZCgf5huR",
        "colab_type": "code",
        "outputId": "60bb105a-1382-42d4-d24e-6e066c3fae47",
        "colab": {
          "base_uri": "https://localhost:8080/",
          "height": 309
        }
      },
      "source": [
        "!lizard thing.py"
      ],
      "execution_count": 0,
      "outputs": [
        {
          "output_type": "stream",
          "text": [
            "================================================\n",
            "  NLOC    CCN   token  PARAM  length  location  \n",
            "------------------------------------------------\n",
            "       8      3     35      0      10 func@1-10@thing.py\n",
            "1 file analyzed.\n",
            "==============================================================\n",
            "NLOC    Avg.NLOC  AvgCCN  Avg.token  function_cnt    file\n",
            "--------------------------------------------------------------\n",
            "      8       8.0     3.0       35.0         1     thing.py\n",
            "\n",
            "===============================================================================================================\n",
            "No thresholds exceeded (cyclomatic_complexity > 15 or length > 1000 or nloc > 1000000 or parameter_count > 100)\n",
            "==========================================================================================\n",
            "Total nloc   Avg.NLOC  AvgCCN  Avg.token   Fun Cnt  Warning cnt   Fun Rt   nloc Rt\n",
            "------------------------------------------------------------------------------------------\n",
            "         8       8.0     3.0       35.0        1            0      0.00    0.00\n"
          ],
          "name": "stdout"
        }
      ]
    },
    {
      "cell_type": "code",
      "metadata": {
        "id": "TcRGJP7TM1Aq",
        "colab_type": "code",
        "outputId": "8d8ddab9-2518-453c-b4b3-395d0fb62874",
        "colab": {
          "base_uri": "https://localhost:8080/",
          "height": 119
        }
      },
      "source": [
        "!metrics source_code/est.c"
      ],
      "execution_count": 0,
      "outputs": [
        {
          "output_type": "stream",
          "text": [
            "Metrics Summary:\n",
            "Files                       Language        SLOC Comment McCabe \n",
            "----- ------------------------------ ----------- ------- ------ \n",
            "    1                         Python           9       0      3 \n",
            "----- ------------------------------ ----------- ------- ------ \n",
            "    1                          Total           9       0      3 \n"
          ],
          "name": "stdout"
        }
      ]
    },
    {
      "cell_type": "code",
      "metadata": {
        "id": "zn9XeYQmM-jc",
        "colab_type": "code",
        "colab": {}
      },
      "source": [
        "import lizard"
      ],
      "execution_count": 0,
      "outputs": []
    },
    {
      "cell_type": "code",
      "metadata": {
        "id": "M0QAuYLeNk9I",
        "colab_type": "code",
        "colab": {}
      },
      "source": [
        "i = lizard.analyze_file(\"source_code/est.c\")"
      ],
      "execution_count": 0,
      "outputs": []
    },
    {
      "cell_type": "code",
      "metadata": {
        "id": "67zSrLWmPQBa",
        "colab_type": "code",
        "outputId": "efa0674d-eae8-40c8-8447-0aa9f44e3039",
        "colab": {
          "base_uri": "https://localhost:8080/",
          "height": 34
        }
      },
      "source": [
        "print(i.CCN)"
      ],
      "execution_count": 0,
      "outputs": [
        {
          "output_type": "stream",
          "text": [
            "204\n"
          ],
          "name": "stdout"
        }
      ]
    },
    {
      "cell_type": "code",
      "metadata": {
        "id": "0Xpt4ksvNm17",
        "colab_type": "code",
        "outputId": "a28c0c17-ade3-43ee-955d-b3e6297aec58",
        "colab": {
          "base_uri": "https://localhost:8080/",
          "height": 54
        }
      },
      "source": [
        "print(i.__dict__)"
      ],
      "execution_count": 0,
      "outputs": [
        {
          "output_type": "stream",
          "text": [
            "{'filename': 'source_code/est.c', 'nloc': 1005, 'function_list': [<lizard.FunctionInfo object at 0x7f137fc5fc18>, <lizard.FunctionInfo object at 0x7f137fc5fd68>, <lizard.FunctionInfo object at 0x7f137fc5fb00>, <lizard.FunctionInfo object at 0x7f137fc5ff28>, <lizard.FunctionInfo object at 0x7f137fc5ff98>, <lizard.FunctionInfo object at 0x7f137fc5ffd0>, <lizard.FunctionInfo object at 0x7f137fc5f978>, <lizard.FunctionInfo object at 0x7f137fc6b898>, <lizard.FunctionInfo object at 0x7f137fc6b080>, <lizard.FunctionInfo object at 0x7f137fc6b0f0>, <lizard.FunctionInfo object at 0x7f137fc6b160>, <lizard.FunctionInfo object at 0x7f137fc6b128>, <lizard.FunctionInfo object at 0x7f137fc6b2b0>, <lizard.FunctionInfo object at 0x7f137fc6b208>, <lizard.FunctionInfo object at 0x7f137fc6b3c8>, <lizard.FunctionInfo object at 0x7f137fc6b470>, <lizard.FunctionInfo object at 0x7f137fc6b550>, <lizard.FunctionInfo object at 0x7f137fc6b5c0>, <lizard.FunctionInfo object at 0x7f137fc6b668>, <lizard.FunctionInfo object at 0x7f137fc6b6d8>, <lizard.FunctionInfo object at 0x7f137fc6b7b8>, <lizard.FunctionInfo object at 0x7f137fc6b860>, <lizard.FunctionInfo object at 0x7f137fc6b8d0>, <lizard.FunctionInfo object at 0x7f137fc6b978>, <lizard.FunctionInfo object at 0x7f137fc6b7f0>, <lizard.FunctionInfo object at 0x7f137fc6ba58>, <lizard.FunctionInfo object at 0x7f137fc6b9b0>, <lizard.FunctionInfo object at 0x7f137fc6bb70>, <lizard.FunctionInfo object at 0x7f137fc6bc50>, <lizard.FunctionInfo object at 0x7f137fc6bd68>, <lizard.FunctionInfo object at 0x7f137fc6be10>, <lizard.FunctionInfo object at 0x7f137fc6bf28>, <lizard.FunctionInfo object at 0x7f137fc6bef0>, <lizard.FunctionInfo object at 0x7f137fc6bf98>, <lizard.FunctionInfo object at 0x7f137fc70048>, <lizard.FunctionInfo object at 0x7f137fc700b8>, <lizard.FunctionInfo object at 0x7f137fc70160>], 'token_count': 5801}\n"
          ],
          "name": "stdout"
        }
      ]
    },
    {
      "cell_type": "code",
      "metadata": {
        "id": "VPZ8QedNNosG",
        "colab_type": "code",
        "outputId": "6be62c2e-80eb-4fd3-d73c-cb752876f075",
        "colab": {
          "base_uri": "https://localhost:8080/",
          "height": 130
        }
      },
      "source": [
        "for i in range(len(i.function_list)):\n",
        "  "
      ],
      "execution_count": 0,
      "outputs": [
        {
          "output_type": "error",
          "ename": "SyntaxError",
          "evalue": "ignored",
          "traceback": [
            "\u001b[0;36m  File \u001b[0;32m\"<ipython-input-49-9158b71b1056>\"\u001b[0;36m, line \u001b[0;32m1\u001b[0m\n\u001b[0;31m    for i in range(len(i.CCN))\u001b[0m\n\u001b[0m                              ^\u001b[0m\n\u001b[0;31mSyntaxError\u001b[0m\u001b[0;31m:\u001b[0m invalid syntax\n"
          ]
        }
      ]
    },
    {
      "cell_type": "code",
      "metadata": {
        "id": "aKjlOh7rOSSa",
        "colab_type": "code",
        "outputId": "af5b56ff-5896-48e5-b0e9-d973865fd470",
        "colab": {
          "base_uri": "https://localhost:8080/",
          "height": 54
        }
      },
      "source": [
        "print(i.function_list[0].__dict__)"
      ],
      "execution_count": 0,
      "outputs": [
        {
          "output_type": "stream",
          "text": [
            "{'cyclomatic_complexity': 3, 'nloc': 8, 'token_count': 35, 'name': 'func', 'long_name': 'func( )', 'start_line': 1, 'end_line': 10, 'parameters': [], 'filename': 'thing.py', 'top_nesting_level': 0, 'length': 10, 'fan_in': 0, 'fan_out': 0, 'general_fan_out': 0}\n"
          ],
          "name": "stdout"
        }
      ]
    },
    {
      "cell_type": "code",
      "metadata": {
        "id": "yR-WuVsYOd2n",
        "colab_type": "code",
        "outputId": "1db421ee-21a2-457d-c116-b4405ed473df",
        "colab": {
          "base_uri": "https://localhost:8080/",
          "height": 34
        }
      },
      "source": [
        "print(len(i.function_list))"
      ],
      "execution_count": 0,
      "outputs": [
        {
          "output_type": "stream",
          "text": [
            "37\n"
          ],
          "name": "stdout"
        }
      ]
    },
    {
      "cell_type": "code",
      "metadata": {
        "id": "U2aTR9AZOvOq",
        "colab_type": "code",
        "outputId": "93779f00-7215-4d9f-d67b-1d2dd1573d4d",
        "colab": {
          "base_uri": "https://localhost:8080/",
          "height": 34
        }
      },
      "source": [
        "i"
      ],
      "execution_count": 0,
      "outputs": [
        {
          "output_type": "execute_result",
          "data": {
            "text/plain": [
              "<lizard.FileInformation at 0x7f137fc5fc88>"
            ]
          },
          "metadata": {
            "tags": []
          },
          "execution_count": 48
        }
      ]
    },
    {
      "cell_type": "code",
      "metadata": {
        "id": "Ybq-MxTYPCiO",
        "colab_type": "code",
        "outputId": "63dfb79d-846d-4ca9-f7b2-910362c778f2",
        "colab": {
          "base_uri": "https://localhost:8080/",
          "height": 119
        }
      },
      "source": [
        "!metrics thing.py"
      ],
      "execution_count": 0,
      "outputs": [
        {
          "output_type": "stream",
          "text": [
            "Metrics Summary:\n",
            "Files                       Language        SLOC Comment McCabe \n",
            "----- ------------------------------ ----------- ------- ------ \n",
            "    1                         Python           3      18      1 \n",
            "----- ------------------------------ ----------- ------- ------ \n",
            "    1                          Total           3      18      1 \n"
          ],
          "name": "stdout"
        }
      ]
    },
    {
      "cell_type": "code",
      "metadata": {
        "id": "6iPhiFXnP19m",
        "colab_type": "code",
        "outputId": "e75cee25-8e7a-48e0-8391-670eb4ef7a6b",
        "colab": {
          "base_uri": "https://localhost:8080/",
          "height": 71
        }
      },
      "source": [
        "thing = lizard.analyze_file(\"source_code/est.c\")\n",
        "print(thing.__dict__)\n",
        "print(thing.CCN)"
      ],
      "execution_count": 25,
      "outputs": [
        {
          "output_type": "stream",
          "text": [
            "{'filename': 'source_code/est.c', 'nloc': 1005, 'function_list': [<lizard.FunctionInfo object at 0x7f5ed8fa9320>, <lizard.FunctionInfo object at 0x7f5ed8fa9f60>, <lizard.FunctionInfo object at 0x7f5ed8fa9518>, <lizard.FunctionInfo object at 0x7f5ed8fa9550>, <lizard.FunctionInfo object at 0x7f5ed8fa9630>, <lizard.FunctionInfo object at 0x7f5ed8fa94a8>, <lizard.FunctionInfo object at 0x7f5ed8fa9710>, <lizard.FunctionInfo object at 0x7f5ed8fa9668>, <lizard.FunctionInfo object at 0x7f5ed8fa95f8>, <lizard.FunctionInfo object at 0x7f5ed8fa9160>, <lizard.FunctionInfo object at 0x7f5ed8fa97f0>, <lizard.FunctionInfo object at 0x7f5ed8fa98d0>, <lizard.FunctionInfo object at 0x7f5ed8fa99e8>, <lizard.FunctionInfo object at 0x7f5ed8fa9860>, <lizard.FunctionInfo object at 0x7f5ed8fa9ac8>, <lizard.FunctionInfo object at 0x7f5ed8fa9b70>, <lizard.FunctionInfo object at 0x7f5ed8fa9c88>, <lizard.FunctionInfo object at 0x7f5ed8fa9cc0>, <lizard.FunctionInfo object at 0x7f5ed8fa9c50>, <lizard.FunctionInfo object at 0x7f5ed8fa9dd8>, <lizard.FunctionInfo object at 0x7f5ed8fa9e48>, <lizard.FunctionInfo object at 0x7f5ed8fa9ef0>, <lizard.FunctionInfo object at 0x7f5ed8fa9f98>, <lizard.FunctionInfo object at 0x7f5ed8fbf080>, <lizard.FunctionInfo object at 0x7f5ed8fbf0f0>, <lizard.FunctionInfo object at 0x7f5ed8fbf160>, <lizard.FunctionInfo object at 0x7f5ed8fbf0b8>, <lizard.FunctionInfo object at 0x7f5ed8fbf278>, <lizard.FunctionInfo object at 0x7f5ed8fbf358>, <lizard.FunctionInfo object at 0x7f5ed8fbf470>, <lizard.FunctionInfo object at 0x7f5ed8fbf518>, <lizard.FunctionInfo object at 0x7f5ed8fbf630>, <lizard.FunctionInfo object at 0x7f5ed8fbf5f8>, <lizard.FunctionInfo object at 0x7f5ed8fbf6a0>, <lizard.FunctionInfo object at 0x7f5ed8fbf6d8>, <lizard.FunctionInfo object at 0x7f5ed8fbf780>, <lizard.FunctionInfo object at 0x7f5ed8fbf828>], 'token_count': 5801}\n",
            "204\n"
          ],
          "name": "stdout"
        }
      ]
    },
    {
      "cell_type": "code",
      "metadata": {
        "id": "bAccxclu4pVN",
        "colab_type": "code",
        "colab": {
          "base_uri": "https://localhost:8080/",
          "height": 34
        },
        "outputId": "434e6aaf-7f13-43cd-b91c-fbccf792c65e"
      },
      "source": [
        "thing.filename"
      ],
      "execution_count": 26,
      "outputs": [
        {
          "output_type": "execute_result",
          "data": {
            "text/plain": [
              "'source_code/est.c'"
            ]
          },
          "metadata": {
            "tags": []
          },
          "execution_count": 26
        }
      ]
    },
    {
      "cell_type": "code",
      "metadata": {
        "id": "FDO_C0Yy40k3",
        "colab_type": "code",
        "colab": {
          "base_uri": "https://localhost:8080/",
          "height": 34
        },
        "outputId": "0eb8a1ce-08d0-4ff1-af9b-7dc5383509a4"
      },
      "source": [
        "thing.nloc"
      ],
      "execution_count": 28,
      "outputs": [
        {
          "output_type": "execute_result",
          "data": {
            "text/plain": [
              "1005"
            ]
          },
          "metadata": {
            "tags": []
          },
          "execution_count": 28
        }
      ]
    },
    {
      "cell_type": "code",
      "metadata": {
        "id": "QpZwf-tE403r",
        "colab_type": "code",
        "colab": {
          "base_uri": "https://localhost:8080/",
          "height": 34
        },
        "outputId": "60eda8af-6b8c-4eb8-f964-5823dd8a6fa6"
      },
      "source": [
        "print(thing.functions_average)"
      ],
      "execution_count": 32,
      "outputs": [
        {
          "output_type": "stream",
          "text": [
            "<bound method FileInformation.functions_average of <lizard.FileInformation object at 0x7f5ed935c978>>\n"
          ],
          "name": "stdout"
        }
      ]
    },
    {
      "cell_type": "code",
      "metadata": {
        "id": "xQjQ9krR41H0",
        "colab_type": "code",
        "colab": {}
      },
      "source": [
        ""
      ],
      "execution_count": 0,
      "outputs": []
    },
    {
      "cell_type": "code",
      "metadata": {
        "id": "QSNSF-D7QLwu",
        "colab_type": "code",
        "colab": {}
      },
      "source": [
        "i = lizard.analyze_file.analyze_source_code(\"AllTests.cpp\", \"int foo(){}\")"
      ],
      "execution_count": 0,
      "outputs": []
    },
    {
      "cell_type": "code",
      "metadata": {
        "id": "lGxFXQJWQpt-",
        "colab_type": "code",
        "outputId": "aa37c19d-59c1-4c6f-8505-604ed7dcaa9a",
        "colab": {
          "base_uri": "https://localhost:8080/",
          "height": 85
        }
      },
      "source": [
        "i.__dict__"
      ],
      "execution_count": 0,
      "outputs": [
        {
          "output_type": "execute_result",
          "data": {
            "text/plain": [
              "{'filename': 'AllTests.cpp',\n",
              " 'function_list': [<lizard.FunctionInfo at 0x7f137fbacc18>],\n",
              " 'nloc': 1,\n",
              " 'token_count': 6}"
            ]
          },
          "metadata": {
            "tags": []
          },
          "execution_count": 61
        }
      ]
    },
    {
      "cell_type": "code",
      "metadata": {
        "id": "duDyG-kMQr4f",
        "colab_type": "code",
        "outputId": "283ec169-7807-42e0-b669-1faf7214ddf2",
        "colab": {
          "base_uri": "https://localhost:8080/",
          "height": 34
        }
      },
      "source": [
        "i.CCN"
      ],
      "execution_count": 0,
      "outputs": [
        {
          "output_type": "execute_result",
          "data": {
            "text/plain": [
              "1"
            ]
          },
          "metadata": {
            "tags": []
          },
          "execution_count": 62
        }
      ]
    },
    {
      "cell_type": "code",
      "metadata": {
        "id": "-8xm-5f0QvsQ",
        "colab_type": "code",
        "outputId": "082158ce-7fe6-44e9-d589-e2403081e7fd",
        "colab": {
          "base_uri": "https://localhost:8080/",
          "height": 34
        }
      },
      "source": [
        "lizard.analyze_file.analyze_source_code(\"AllTests.py\", \"def foo():\\n\\tif (True): \\n\\tprint('HI')\").CCN"
      ],
      "execution_count": 0,
      "outputs": [
        {
          "output_type": "execute_result",
          "data": {
            "text/plain": [
              "2"
            ]
          },
          "metadata": {
            "tags": []
          },
          "execution_count": 70
        }
      ]
    },
    {
      "cell_type": "code",
      "metadata": {
        "id": "l5WsVWLDTtlX",
        "colab_type": "code",
        "colab": {}
      },
      "source": [
        "import subprocess\n",
        "import json\n",
        "def add_mccabe_metrics(df, col):\n",
        "    mccabe = []\n",
        "    sloc = []\n",
        "    comments = []\n",
        "    ratio = []\n",
        "    for i in range(len(df)):\n",
        "        if i == 99:\n",
        "            print(\"At file #100\", end=\"\")\n",
        "        if ((i + 1) % 200) == 0:\n",
        "            print(\", file #\" + str(i + 1), end=\"\")\n",
        "        ext = df[\"file_name\"][i].split('.')[-1]\n",
        "        if ext == 'h':\n",
        "            ext = 'c'\n",
        "        with open(f\"temp_file.{ext}\", \"w\", encoding='UTF-8') as fp:\n",
        "            fp.write(df[col][i])\n",
        "        out = subprocess.Popen(['metrics', '-q', '--format=json', f\"temp_file.{ext}\"], \n",
        "                               stdout=subprocess.PIPE, \n",
        "                               stderr=subprocess.STDOUT)\n",
        "        stdout,stderr = out.communicate()\n",
        "        metrics_data = json.loads(stdout)\n",
        "        mccabe.append(metrics_data['files'][f\"temp_file.{ext}\"]['mccabe'])\n",
        "        sloc.append(metrics_data['files'][f\"temp_file.{ext}\"]['sloc'])\n",
        "        comments.append(metrics_data['files'][f\"temp_file.{ext}\"]['comments'])\n",
        "        ratio.append(metrics_data['files'][f\"temp_file.{ext}\"]['ratio_comment_to_code'])\n",
        "#         print(mccabe_data['files'][f'temp_file.{LANGUAGE}'].keys())\n",
        "        os.remove(f\"temp_file.{ext}\")\n",
        "    df[\"complexity\"] = mccabe\n",
        "    df[\"code_lines\"] = sloc\n",
        "    df[\"comments\"] = comments\n",
        "    df[\"ratio_comment_to_code\"] = ratio\n",
        "    return df"
      ],
      "execution_count": 0,
      "outputs": []
    }
  ]
}