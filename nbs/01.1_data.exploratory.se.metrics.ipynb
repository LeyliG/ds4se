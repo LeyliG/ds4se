{
  "nbformat": 4,
  "nbformat_minor": 0,
  "metadata": {
    "kernelspec": {
      "display_name": "Python 3",
      "language": "python",
      "name": "python3"
    },
    "language_info": {
      "codemirror_mode": {
        "name": "ipython",
        "version": 3
      },
      "file_extension": ".py",
      "mimetype": "text/x-python",
      "name": "python",
      "nbconvert_exporter": "python",
      "pygments_lexer": "ipython3",
      "version": "3.6.8"
    },
    "colab": {
      "name": "01.1_data.exploratory.se.metrics.ipynb",
      "provenance": [],
      "toc_visible": true
    }
  },
  "cells": [
    {
      "cell_type": "code",
      "metadata": {
        "id": "iiU_wJelvSeJ",
        "colab_type": "code",
        "colab": {}
      },
      "source": [
        "# default_exp data.exploratory.se.metrics"
      ],
      "execution_count": 0,
      "outputs": []
    },
    {
      "cell_type": "markdown",
      "metadata": {
        "id": "3D-SNetwvSea",
        "colab_type": "text"
      },
      "source": [
        "# Exploration of your data\n",
        "\n",
        "> This module comprises some of the statistical and inference techniques to describe the inner properties of software data. The submodules might include:\n",
        ">\n",
        "> - Descriptive statistics\n",
        "> - Software Metrics\n",
        "> - Information Theory\n",
        "> - Learning Principels Detection (Occams' Razor, Biased data, and Data Snooping)\n",
        "> - Inference: Probabilistic and Causal"
      ]
    },
    {
      "cell_type": "markdown",
      "metadata": {
        "id": "2buKCA0I01Cn",
        "colab_type": "text"
      },
      "source": [
        "### Specifically in this module\n",
        "\n",
        "> - Cyclomatic complexity (CYCLO)\n",
        "> - Coupling Between Objects (CBO)\n",
        "> - Lack of Cohesion of Methods 5 (LCOM5)\n",
        "> - Top/Least 20 Occurring Tokens\n",
        "> - Percentage of redundancy (just Java)\n",
        "> - How many Type I and Type II clones are in Java datasets?"
      ]
    },
    {
      "cell_type": "code",
      "metadata": {
        "id": "jjkOCTMxvSed",
        "colab_type": "code",
        "colab": {}
      },
      "source": [
        "# #hide\n",
        "# from nbdev.showdoc import *"
      ],
      "execution_count": 0,
      "outputs": []
    },
    {
      "cell_type": "code",
      "metadata": {
        "id": "dmqIlUc01iz8",
        "colab_type": "code",
        "outputId": "42478d71-6b42-4036-b173-cdc9e30ec26a",
        "colab": {
          "base_uri": "https://localhost:8080/",
          "height": 139
        }
      },
      "source": [
        "!pip install sentencepiece\n",
        "!pip install metrics"
      ],
      "execution_count": 3,
      "outputs": [
        {
          "output_type": "stream",
          "text": [
            "Requirement already satisfied: sentencepiece in /usr/local/lib/python3.6/dist-packages (0.1.85)\n",
            "Requirement already satisfied: metrics in /usr/local/lib/python3.6/dist-packages (0.3.3)\n",
            "Requirement already satisfied: Pygments==2.2.0 in /usr/local/lib/python3.6/dist-packages (from metrics) (2.2.0)\n",
            "Requirement already satisfied: pathspec==0.5.5 in /usr/local/lib/python3.6/dist-packages (from metrics) (0.5.5)\n",
            "Requirement already satisfied: pathlib2>=2.3.0 in /usr/local/lib/python3.6/dist-packages (from metrics) (2.3.5)\n",
            "Requirement already satisfied: six in /usr/local/lib/python3.6/dist-packages (from pathlib2>=2.3.0->metrics) (1.12.0)\n"
          ],
          "name": "stdout"
        }
      ]
    },
    {
      "cell_type": "code",
      "metadata": {
        "id": "GZfgmd8qvrVX",
        "colab_type": "code",
        "colab": {}
      },
      "source": [
        "# export\n",
        "# Imports\n",
        "import pandas as pd\n",
        "import sentencepiece as sp\n",
        "from numpy import mean, std\n",
        "from statistics import median\n",
        "from scipy.stats import sem, t\n",
        "\n",
        "# TODO: Remove when mongo call is implemented\n",
        "import os"
      ],
      "execution_count": 0,
      "outputs": []
    },
    {
      "cell_type": "code",
      "metadata": {
        "id": "SCBPfIyqvSev",
        "colab_type": "code",
        "colab": {}
      },
      "source": [
        "# TODO: Replace with actual mongo call\n",
        "def simulate_getting_dataframes_from_mongo():\n",
        "    corpus_data = {'file_name': [], 'data_type': [], 'contents': []}\n",
        "    path = \"./source_code\"\n",
        "    for file in os.listdir(path):\n",
        "        corpus_data['file_name'].append(file)\n",
        "        corpus_data['data_type'].append('src')\n",
        "        with open (os.path.join(path, file), \"r\") as f:\n",
        "            corpus_data['contents'].append(f.read())\n",
        "    path = \"./tests\"\n",
        "    for file in os.listdir(path):\n",
        "        corpus_data['file_name'].append(file)\n",
        "        corpus_data['data_type'].append('test')\n",
        "        with open (os.path.join(path, file), \"r\") as f:\n",
        "            corpus_data['contents'].append(f.read())\n",
        "    corpus_df = pd.DataFrame(data = corpus_data)\n",
        "    return corpus_df"
      ],
      "execution_count": 0,
      "outputs": []
    },
    {
      "cell_type": "code",
      "metadata": {
        "id": "XoAHdPTi1oFm",
        "colab_type": "code",
        "colab": {}
      },
      "source": [
        "# export\n",
        "# TODO: Change based on format of input data from Mongo\n",
        "def df_to_txt_file(df, output, cols):\n",
        "    \"\"\"Converts a dataframe into a text file that SentencePiece can use to train a BPE model\"\"\"\n",
        "    if cols is None: cols = list(df.columns)\n",
        "    merged_df = pd.concat([df[col] for col in cols])\n",
        "    \n",
        "    with open(output + '_text.txt', 'w') as f:\n",
        "        f.write('\\n'.join(list(merged_df)))\n",
        "    return output + '_text.txt'"
      ],
      "execution_count": 0,
      "outputs": []
    },
    {
      "cell_type": "code",
      "metadata": {
        "id": "OjHlb8dxv3oj",
        "colab_type": "code",
        "colab": {}
      },
      "source": [
        "# export\n",
        "# TODO: Change based on format of input data from Mongo\n",
        "def gen_sp_model(df, output, model_name, cols=None):\n",
        "    \"\"\"Trains a SentencePiece BPE model from a pandas dataframe\"\"\"\n",
        "    fname = df_to_txt_file(df, output, cols)\n",
        "    sp.SentencePieceTrainer.train(f'--input={fname} --model_prefix={output + model_name} --hard_vocab_limit=false --model_type=bpe')\n",
        "    return output + model_name"
      ],
      "execution_count": 0,
      "outputs": []
    },
    {
      "cell_type": "code",
      "metadata": {
        "id": "twT8CJYECVxT",
        "colab_type": "code",
        "colab": {}
      },
      "source": [
        "# export\n",
        "def add_length_col(df, col, length_col_name='length'):\n",
        "    \"\"\"Adds a length column with the length of entries in the specified column of a dataframe\"\"\"\n",
        "    df[length_col_name] = df[col].astype(str).apply(len)\n",
        "    return df"
      ],
      "execution_count": 0,
      "outputs": []
    },
    {
      "cell_type": "code",
      "metadata": {
        "id": "m8zM9rtr1f-n",
        "colab_type": "code",
        "colab": {}
      },
      "source": [
        "# export\n",
        "def stat_metrics(df, col, data_types=None, conf = 0.95, sig_figs = 4):\n",
        "    \"\"\"Computes statistical metrics about the entries in a dataframe column\"\"\"\n",
        "    if data_types != None: \n",
        "        df = df[df['data_type'].isin(data_types)]\n",
        "        print(f\"~~Printing metrics for {data_types} in column [{col}]~~\")\n",
        "    else:\n",
        "        print(f\"~~Printing metrics for all data in column [{col}]~~\")\n",
        "\n",
        "    print(\"Min =\", round(df[col].min(), sig_figs))\n",
        "    print(\"Max =\", round(df[col].max(), sig_figs))\n",
        "    print(\"Average =\", round(df[col].mean(), sig_figs))\n",
        "    print(\"Median =\", round(median(df[col]), sig_figs))\n",
        "    print(\"Standard Deviation =\", round(std(df[col]), sig_figs))\n",
        "    \n",
        "    n = len(df[col])\n",
        "    m = mean(df[col])\n",
        "    std_err = sem(df[col])\n",
        "    h = std_err * t.ppf((1 + conf) / 2, n - 1)\n",
        "\n",
        "    start = m - h\n",
        "    end = m + h\n",
        "    print(f\"{conf} of data points fall between {round(start, sig_figs)} and {round(end, sig_figs)}\")"
      ],
      "execution_count": 0,
      "outputs": []
    },
    {
      "cell_type": "code",
      "metadata": {
        "id": "Zrcs5Js-CR7T",
        "colab_type": "code",
        "colab": {}
      },
      "source": [
        "import subprocess\n",
        "import json\n",
        "def add_mccabe_metrics(df, col):\n",
        "    mccabe = []\n",
        "    sloc = []\n",
        "    comments = []\n",
        "    ratio = []\n",
        "    for i in range(len(df)):\n",
        "        if i == 99:\n",
        "            print(\"At file #100\", end=\"\")\n",
        "        if ((i + 1) % 200) == 0:\n",
        "            print(\", file #\" + str(i + 1), end=\"\")\n",
        "        with open('temp_file.c', \"w\", encoding='UTF-8') as fp:\n",
        "            fp.write(df[col][i])\n",
        "        out = subprocess.Popen(['metrics', '-q', '--format=json', 'temp_file.c'], \n",
        "                               stdout=subprocess.PIPE, \n",
        "                               stderr=subprocess.STDOUT)\n",
        "        stdout,stderr = out.communicate()\n",
        "        metrics_data = json.loads(stdout)\n",
        "        mccabe.append(metrics_data['files']['temp_file.c']['mccabe'])\n",
        "        sloc.append(metrics_data['files']['temp_file.c']['sloc'])\n",
        "        comments.append(metrics_data['files']['temp_file.c']['comments'])\n",
        "        ratio.append(metrics_data['files']['temp_file.c']['ratio_comment_to_code'])\n",
        "#         print(mccabe_data['files'][f'temp_file.{LANGUAGE}'].keys())\n",
        "        os.remove(\"temp_file.c\")\n",
        "    df[\"complexity\"] = mccabe\n",
        "    df[\"code_lines\"] = sloc\n",
        "    df[\"comments\"] = comments\n",
        "    df[\"ratio_comment_to_code\"] = ratio\n",
        "    return df"
      ],
      "execution_count": 0,
      "outputs": []
    },
    {
      "cell_type": "markdown",
      "metadata": {
        "id": "y3lwzryRwjxI",
        "colab_type": "text"
      },
      "source": [
        "# Analysis & Visualization"
      ]
    },
    {
      "cell_type": "code",
      "metadata": {
        "id": "W13webAlwoKA",
        "colab_type": "code",
        "outputId": "654976be-1747-490f-fc39-923ea158f725",
        "colab": {
          "base_uri": "https://localhost:8080/",
          "height": 68
        }
      },
      "source": [
        "# Retrieve the data\n",
        "corpus_df = simulate_getting_dataframes_from_mongo()\n",
        "src_df = corpus_df.loc[corpus_df['data_type'] == 'src']\n",
        "test_df = corpus_df.loc[corpus_df['data_type'] == 'test']\n",
        "\n",
        "total_file_count = len(corpus_df)\n",
        "src_files_count = len(src_df)\n",
        "test_files_count = len(test_df)\n",
        "print(\"Source Code Files:\", src_files_count, \"(\" + str(round(src_files_count/total_file_count, 4)*100) + \"%)\")\n",
        "print(\"Test Code Files:\", test_files_count, \"(\" + str(round(test_files_count/total_file_count, 4)*100) + \"%)\")\n",
        "print(\"Total files:\", total_file_count)"
      ],
      "execution_count": 11,
      "outputs": [
        {
          "output_type": "stream",
          "text": [
            "Source Code Files: 14 (40.0%)\n",
            "Test Code Files: 21 (60.0%)\n",
            "Total files: 35\n"
          ],
          "name": "stdout"
        }
      ]
    },
    {
      "cell_type": "code",
      "metadata": {
        "id": "2cad1lQIx3Ks",
        "colab_type": "code",
        "colab": {}
      },
      "source": [
        "# Generate the SP Models\n",
        "model = gen_sp_model(corpus_df, output='LIBest', model_name='_sp_bpe_modal', cols=['contents'])"
      ],
      "execution_count": 0,
      "outputs": []
    },
    {
      "cell_type": "code",
      "metadata": {
        "id": "T9wPtN2B2oJ9",
        "colab_type": "code",
        "outputId": "3b54e918-b0b2-45b6-9f06-d2adb97e79eb",
        "colab": {
          "base_uri": "https://localhost:8080/",
          "height": 136
        }
      },
      "source": [
        "corpus_df = add_length_col(corpus_df, 'contents', 'code_length')\n",
        "stat_metrics(corpus_df, 'code_length')"
      ],
      "execution_count": 13,
      "outputs": [
        {
          "output_type": "stream",
          "text": [
            "~~Printing metrics for all data in column [code_length]~~\n",
            "Min = 178\n",
            "Max = 149212\n",
            "Average = 29901.8857\n",
            "Median = 28111\n",
            "Standard Deviation = 26290.3033\n",
            "0.95 of data points fall between 20739.0036 and 39064.7678\n"
          ],
          "name": "stdout"
        }
      ]
    },
    {
      "cell_type": "code",
      "metadata": {
        "id": "dEDjqDXmitj8",
        "colab_type": "code",
        "colab": {
          "base_uri": "https://localhost:8080/",
          "height": 663
        },
        "outputId": "99ae30d4-a1b9-4e17-bbe1-23fdc8cffd81"
      },
      "source": [
        "print(corpus_df)"
      ],
      "execution_count": 14,
      "outputs": [
        {
          "output_type": "stream",
          "text": [
            "             file_name  ... code_length\n",
            "0    est_server_http.c  ...       58103\n",
            "1         est_client.c  ...      149212\n",
            "2           est_locl.h  ...        3189\n",
            "3   est_client_proxy.c  ...       16838\n",
            "4      est_ossl_util.h  ...         214\n",
            "5   est_client_proxy.h  ...         178\n",
            "6    est_client_http.c  ...       33067\n",
            "7    est_server_http.h  ...         332\n",
            "8                est.c  ...       50650\n",
            "9         est_server.c  ...       73443\n",
            "10     est_ossl_util.c  ...        8931\n",
            "11         est_proxy.c  ...       47546\n",
            "12               est.h  ...       26660\n",
            "13        est_server.h  ...        1237\n",
            "14            us1060.c  ...       21254\n",
            "15            us3612.c  ...       14782\n",
            "16             us900.c  ...       32706\n",
            "17             us748.c  ...       21134\n",
            "18            us4020.c  ...       34256\n",
            "19            us1864.c  ...       11522\n",
            "20             us894.c  ...       38371\n",
            "21             us896.c  ...       10526\n",
            "22             us898.c  ...       33735\n",
            "23             us899.c  ...       42269\n",
            "24             us901.c  ...       26909\n",
            "25             us897.c  ...       38280\n",
            "26            us3512.c  ...       32055\n",
            "27             us903.c  ...       21959\n",
            "28             us893.c  ...       34107\n",
            "29            us1005.c  ...       19276\n",
            "30            us1159.c  ...       28944\n",
            "31             us895.c  ...       29112\n",
            "32            us2174.c  ...       28111\n",
            "33            us3496.c  ...       22756\n",
            "34            us1883.c  ...       34902\n",
            "\n",
            "[35 rows x 4 columns]\n"
          ],
          "name": "stdout"
        }
      ]
    },
    {
      "cell_type": "code",
      "metadata": {
        "id": "AaFF77FNBDsx",
        "colab_type": "code",
        "colab": {}
      },
      "source": [
        "corpus_df = add_mccabe_metrics(corpus_df, 'contents')"
      ],
      "execution_count": 0,
      "outputs": []
    },
    {
      "cell_type": "code",
      "metadata": {
        "id": "ZzWNnYS1BDz-",
        "colab_type": "code",
        "colab": {
          "base_uri": "https://localhost:8080/",
          "height": 629
        },
        "outputId": "7ffc56f7-6e88-4d1b-db69-52f1124e4235"
      },
      "source": [
        "print(corpus_df['complexity'])"
      ],
      "execution_count": 16,
      "outputs": [
        {
          "output_type": "stream",
          "text": [
            "0     217\n",
            "1     403\n",
            "2       0\n",
            "3      70\n",
            "4       0\n",
            "5       0\n",
            "6     191\n",
            "7       0\n",
            "8     174\n",
            "9     249\n",
            "10     26\n",
            "11    119\n",
            "12      0\n",
            "13      0\n",
            "14     24\n",
            "15     24\n",
            "16     18\n",
            "17      9\n",
            "18     11\n",
            "19      5\n",
            "20     11\n",
            "21      9\n",
            "22     34\n",
            "23     31\n",
            "24     24\n",
            "25     80\n",
            "26     32\n",
            "27      8\n",
            "28     14\n",
            "29     19\n",
            "30     54\n",
            "31     19\n",
            "32     21\n",
            "33     52\n",
            "34     22\n",
            "Name: complexity, dtype: int64\n"
          ],
          "name": "stdout"
        }
      ]
    },
    {
      "cell_type": "code",
      "metadata": {
        "id": "aqpxj8CkBD7G",
        "colab_type": "code",
        "colab": {}
      },
      "source": [
        ""
      ],
      "execution_count": 0,
      "outputs": []
    },
    {
      "cell_type": "code",
      "metadata": {
        "id": "oy8UDLApBEB5",
        "colab_type": "code",
        "colab": {}
      },
      "source": [
        ""
      ],
      "execution_count": 0,
      "outputs": []
    },
    {
      "cell_type": "code",
      "metadata": {
        "id": "Z5_wYi7BBEIf",
        "colab_type": "code",
        "colab": {}
      },
      "source": [
        ""
      ],
      "execution_count": 0,
      "outputs": []
    },
    {
      "cell_type": "code",
      "metadata": {
        "id": "IrjHDBhuBEP4",
        "colab_type": "code",
        "colab": {}
      },
      "source": [
        ""
      ],
      "execution_count": 0,
      "outputs": []
    },
    {
      "cell_type": "code",
      "metadata": {
        "id": "dSQu6S_-BEYk",
        "colab_type": "code",
        "colab": {}
      },
      "source": [
        ""
      ],
      "execution_count": 0,
      "outputs": []
    },
    {
      "cell_type": "code",
      "metadata": {
        "id": "hHCznRPSBEqO",
        "colab_type": "code",
        "colab": {}
      },
      "source": [
        ""
      ],
      "execution_count": 0,
      "outputs": []
    },
    {
      "cell_type": "code",
      "metadata": {
        "id": "_OpoQ2JFBEWo",
        "colab_type": "code",
        "colab": {}
      },
      "source": [
        ""
      ],
      "execution_count": 0,
      "outputs": []
    },
    {
      "cell_type": "markdown",
      "metadata": {
        "id": "JR2EHr85BBNG",
        "colab_type": "text"
      },
      "source": [
        "# Scratch Code (Testing)"
      ]
    },
    {
      "cell_type": "code",
      "metadata": {
        "id": "hoddzqvt4wnY",
        "colab_type": "code",
        "colab": {
          "base_uri": "https://localhost:8080/",
          "height": 34
        },
        "outputId": "672b15e5-c2e9-4bb0-ba44-e500c3976d4c"
      },
      "source": [
        "print(round(1236721.8237468732, 3))"
      ],
      "execution_count": 17,
      "outputs": [
        {
          "output_type": "stream",
          "text": [
            "1236721.824\n"
          ],
          "name": "stdout"
        }
      ]
    },
    {
      "cell_type": "code",
      "metadata": {
        "id": "EDaHWDYZAFkM",
        "colab_type": "code",
        "colab": {}
      },
      "source": [
        ""
      ],
      "execution_count": 0,
      "outputs": []
    }
  ]
}