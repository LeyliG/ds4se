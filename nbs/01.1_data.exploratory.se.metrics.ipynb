{
  "nbformat": 4,
  "nbformat_minor": 0,
  "metadata": {
    "kernelspec": {
      "display_name": "Python 3",
      "language": "python",
      "name": "python3"
    },
    "language_info": {
      "codemirror_mode": {
        "name": "ipython",
        "version": 3
      },
      "file_extension": ".py",
      "mimetype": "text/x-python",
      "name": "python",
      "nbconvert_exporter": "python",
      "pygments_lexer": "ipython3",
      "version": "3.6.8"
    },
    "colab": {
      "name": "01.1_data.exploratory.se.metrics.ipynb",
      "provenance": []
    }
  },
  "cells": [
    {
      "cell_type": "code",
      "metadata": {
        "id": "iiU_wJelvSeJ",
        "colab_type": "code",
        "colab": {}
      },
      "source": [
        "# default_exp data.exploratory.se.metrics"
      ],
      "execution_count": 0,
      "outputs": []
    },
    {
      "cell_type": "markdown",
      "metadata": {
        "id": "3D-SNetwvSea",
        "colab_type": "text"
      },
      "source": [
        "# Exploration of your data\n",
        "\n",
        "> This module comprises some of the statistical and inference techniques to describe the inner properties of software data. The submodules might include:\n",
        ">\n",
        "> - Descriptive statistics\n",
        "> - Software Metrics\n",
        "> - Information Theory\n",
        "> - Learning Principels Detection (Occams' Razor, Biased data, and Data Snooping)\n",
        "> - Inference: Probabilistic and Causal"
      ]
    },
    {
      "cell_type": "markdown",
      "metadata": {
        "id": "2buKCA0I01Cn",
        "colab_type": "text"
      },
      "source": [
        "### Specifically in this module\n",
        "\n",
        "> - Cyclomatic complexity (CYCLO)\n",
        "> - Coupling Between Objects (CBO)\n",
        "> - Lack of Cohesion of Methods 5 (LCOM5)\n",
        "> - Top/Least 20 Occurring Tokens\n",
        "> - Percentage of redundancy (just Java)\n",
        "> - How many Type I and Type II clones are in Java datasets?"
      ]
    },
    {
      "cell_type": "code",
      "metadata": {
        "id": "jjkOCTMxvSed",
        "colab_type": "code",
        "colab": {}
      },
      "source": [
        "# #hide\n",
        "# from nbdev.showdoc import *"
      ],
      "execution_count": 0,
      "outputs": []
    },
    {
      "cell_type": "code",
      "metadata": {
        "id": "dmqIlUc01iz8",
        "colab_type": "code",
        "outputId": "b07c9558-8bf9-4f59-c161-becb57083df7",
        "colab": {
          "base_uri": "https://localhost:8080/",
          "height": 68
        }
      },
      "source": [
        "!pip install sentencepiece\n",
        "# !pip install metrics # Outdated Cyclomatic Complexity tool\n",
        "!pip install lizard\n",
        "!pip install tree_sitter"
      ],
      "execution_count": 3,
      "outputs": [
        {
          "output_type": "stream",
          "text": [
            "Requirement already satisfied: sentencepiece in /usr/local/lib/python3.6/dist-packages (0.1.85)\n",
            "Requirement already satisfied: lizard in /usr/local/lib/python3.6/dist-packages (1.17.3)\n",
            "Requirement already satisfied: tree_sitter in /usr/local/lib/python3.6/dist-packages (0.1.0)\n"
          ],
          "name": "stdout"
        }
      ]
    },
    {
      "cell_type": "code",
      "metadata": {
        "id": "GZfgmd8qvrVX",
        "colab_type": "code",
        "colab": {}
      },
      "source": [
        "# export\n",
        "# Imports\n",
        "import pandas as pd\n",
        "import sentencepiece as sp\n",
        "from numpy import mean, std\n",
        "from statistics import median\n",
        "from scipy.stats import sem, t\n",
        "import lizard\n",
        "import matplotlib.pyplot as plt\n",
        "from tree_sitter import Language, Parser\n",
        "\n",
        "# TODO: Remove when mongo call is implemented\n",
        "import os"
      ],
      "execution_count": 0,
      "outputs": []
    },
    {
      "cell_type": "code",
      "metadata": {
        "id": "jYB4MevPoqut",
        "colab_type": "code",
        "outputId": "e0aaf284-45cd-46aa-c78f-c522902566f4",
        "colab": {
          "base_uri": "https://localhost:8080/",
          "height": 51
        }
      },
      "source": [
        "!git clone https://github.com/tree-sitter/tree-sitter-c\n",
        "# !git clone https://github.com/tree-sitter/tree-sitter-cpp\n",
        "!git clone https://github.com/tree-sitter/tree-sitter-java\n",
        "# !git clone https://github.com/tree-sitter/tree-sitter-javascript\n",
        "# !git clone https://github.com/tree-sitter/tree-sitter-python"
      ],
      "execution_count": 5,
      "outputs": [
        {
          "output_type": "stream",
          "text": [
            "fatal: destination path 'tree-sitter-c' already exists and is not an empty directory.\n",
            "fatal: destination path 'tree-sitter-java' already exists and is not an empty directory.\n"
          ],
          "name": "stdout"
        }
      ]
    },
    {
      "cell_type": "code",
      "metadata": {
        "id": "SCBPfIyqvSev",
        "colab_type": "code",
        "colab": {}
      },
      "source": [
        "# TODO: Replace with actual mongo call\n",
        "def simulate_getting_dataframes_from_mongo():\n",
        "    corpus_data = {\"system\": [], \"name\": [], \"ground_truth\": [], \"contents\": []}\n",
        "    path = \"./source_code\"\n",
        "    for file in os.listdir(path):\n",
        "        corpus_data[\"system\"].append(None)\n",
        "        corpus_data[\"name\"].append(file)\n",
        "        corpus_data[\"ground_truth\"].append(\"src\")\n",
        "        try:\n",
        "            with open (os.path.join(path, file), \"r\", encoding='utf-8') as f:\n",
        "                corpus_data['contents'].append(f.read())\n",
        "        except UnicodeDecodeError:\n",
        "            with open (os.path.join(path, file), \"r\", encoding='iso-8859-15') as f:\n",
        "                corpus_data['contents'].append(f.read())\n",
        "    corpus_df = pd.DataFrame(data = corpus_data)\n",
        "    return corpus_df"
      ],
      "execution_count": 0,
      "outputs": []
    },
    {
      "cell_type": "code",
      "metadata": {
        "id": "twT8CJYECVxT",
        "colab_type": "code",
        "colab": {}
      },
      "source": [
        "# export\n",
        "def add_length_col(df, col, length_col_name='length'):\n",
        "    \"\"\"Adds a length column with the length of entries in the specified column of a dataframe\"\"\"\n",
        "    df[length_col_name] = df[col].astype(str).apply(len)\n",
        "    return df"
      ],
      "execution_count": 0,
      "outputs": []
    },
    {
      "cell_type": "code",
      "metadata": {
        "id": "6Cj1GByJAyVQ",
        "colab_type": "code",
        "colab": {}
      },
      "source": [
        "# export\n",
        "def add_mccabe_metrics(df, col):\n",
        "    \"\"\"Adds information about function length and cyclomatic complexity to the corpus dataframe\"\"\"\n",
        "    file_ccn = []\n",
        "    file_nloc = []\n",
        "    num_funcs = []\n",
        "    avg_func_ccn = []\n",
        "    avg_func_nloc = []\n",
        "    # avg_func_tok_count = [] # TODO: Figure out how lizard tokenizes\n",
        "    for i in range(len(df)):\n",
        "        metrics = lizard.analyze_file.analyze_source_code(df[\"name\"][i], df[\"contents\"][i])\n",
        "        file_ccn.append(metrics.CCN)\n",
        "        file_nloc.append(metrics.nloc)\n",
        "        num_funcs.append(len(metrics.function_list))\n",
        "        avg_func_ccn.append(metrics.average_cyclomatic_complexity)\n",
        "        avg_func_nloc.append(metrics.average_nloc)\n",
        "        # avg_func_tok_count.append(metrics.average_token_count) # TODO: Figure out how lizard tokenizes\n",
        "    df[\"file_ccn\"] = file_ccn\n",
        "    df[\"file_nloc\"] = file_nloc\n",
        "    df[\"num_funcs\"] = num_funcs\n",
        "    df[\"avg_func_ccn\"] = avg_func_ccn\n",
        "    df[\"avg_func_nloc\"] = avg_func_nloc\n",
        "    # df[\"avg_func_tok_count\"] = avg_func_tok_count # TODO: Figure out how lizard tokenizes\n",
        "    return df"
      ],
      "execution_count": 0,
      "outputs": []
    },
    {
      "cell_type": "code",
      "metadata": {
        "id": "BlcPAt8PqTto",
        "colab_type": "code",
        "colab": {}
      },
      "source": [
        "#export\n",
        "def create_parser_builds(path=None):\n",
        "    '''Creates a dictionary of tree-sitter parsers for select languages'''\n",
        "    Language.build_library(\n",
        "        # Store the library in the `build` directory\n",
        "        'build/my-languages.so',\n",
        "\n",
        "        # Include one or more languages\n",
        "        [\n",
        "            'tree-sitter-c',\n",
        "            # 'tree-sitter-cpp',\n",
        "            'tree-sitter-java',\n",
        "            # 'tree-sitter-javascript',\n",
        "            # 'tree-sitter-python'\n",
        "        ]\n",
        "    )\n",
        "\n",
        "    C_LANGUAGE = Language('build/my-languages.so', 'c')\n",
        "    # CPP_LANGUAGE = Language('build/my-languages.so', 'cpp')\n",
        "    JAVA_LANGUAGE = Language('build/my-languages.so', 'java')\n",
        "    # JS_LANGUAGE = Language('build/my-languages.so', 'javascript')\n",
        "    # PY_LANGUAGE = Language('build/my-languages.so', 'python')\n",
        "    \n",
        "    return {'c':C_LANGUAGE, 'java':JAVA_LANGUAGE}"
      ],
      "execution_count": 0,
      "outputs": []
    },
    {
      "cell_type": "code",
      "metadata": {
        "id": "elku58aJJNx0",
        "colab_type": "code",
        "colab": {}
      },
      "source": [
        "#export\n",
        "def class_attributes_c(tree, text):\n",
        "    return 0"
      ],
      "execution_count": 0,
      "outputs": []
    },
    {
      "cell_type": "code",
      "metadata": {
        "id": "VEUOtqwYJQ5d",
        "colab_type": "code",
        "colab": {}
      },
      "source": [
        "#export\n",
        "def num_methods_c(tree):\n",
        "    return 0"
      ],
      "execution_count": 0,
      "outputs": []
    },
    {
      "cell_type": "code",
      "metadata": {
        "id": "JcbFBRkjJTBq",
        "colab_type": "code",
        "colab": {}
      },
      "source": [
        "#export\n",
        "def distinct_class_attribute_calls_c(tree, atts, file_text):\n",
        "    return 0"
      ],
      "execution_count": 0,
      "outputs": []
    },
    {
      "cell_type": "code",
      "metadata": {
        "id": "y7Yo56J1FoGi",
        "colab_type": "code",
        "colab": {}
      },
      "source": [
        "#export\n",
        "def class_attributes_java(tree, text):\n",
        "    root_node = tree.root_node\n",
        "    class_atts = []\n",
        "    for a in range(len(root_node.children)):\n",
        "        if root_node.children[a].type == \"class_declaration\":\n",
        "            atts = []\n",
        "            class_dec = root_node.children[a]\n",
        "            for b in range(len(class_dec.children)):\n",
        "                if class_dec.children[b].type == \"class_body\":\n",
        "                    class_body = class_dec.children[b]\n",
        "                    for c in range(len(class_body.children)):\n",
        "                        if class_body.children[c].type == \"field_declaration\":\n",
        "                            field_dec = class_body.children[c]\n",
        "                            for d in range(len(field_dec.children)):\n",
        "                                if field_dec.children[d].type == \"variable_declarator\":\n",
        "                                    word = \"\"\n",
        "                                    for i in range(field_dec.children[d].start_byte, field_dec.children[d].end_byte):\n",
        "                                        word += text[i]\n",
        "                                    atts.append(word)\n",
        "            class_atts.append(atts)\n",
        "    return class_atts"
      ],
      "execution_count": 0,
      "outputs": []
    },
    {
      "cell_type": "code",
      "metadata": {
        "id": "vP2yM95PFouK",
        "colab_type": "code",
        "colab": {}
      },
      "source": [
        "#export\n",
        "def num_methods_java(tree):\n",
        "    root_node = tree.root_node\n",
        "    class_methods = []\n",
        "    for a in range(len(root_node.children)):\n",
        "        if root_node.children[a].type == \"class_declaration\":\n",
        "            num_methods = 0\n",
        "            class_dec = root_node.children[a]\n",
        "            for b in range(len(class_dec.children)):\n",
        "                if class_dec.children[b].type == \"class_body\":\n",
        "                    class_body = class_dec.children[b]\n",
        "                    for c in range(len(class_body.children)):\n",
        "                        if class_body.children[c].type == \"method_declaration\":\n",
        "                            num_methods += 1\n",
        "            class_methods.append(num_methods)\n",
        "    return class_methods"
      ],
      "execution_count": 0,
      "outputs": []
    },
    {
      "cell_type": "code",
      "metadata": {
        "id": "GFv9W-s1oKt2",
        "colab_type": "code",
        "colab": {}
      },
      "source": [
        "#export\n",
        "def find_string_in_file(node, pattern, text):\n",
        "    if len(node.children) > 0:\n",
        "        count = 0\n",
        "        for i in node.children:\n",
        "            count += find_string_in_file(i, pattern, text)\n",
        "        return count\n",
        "    else:\n",
        "        word = \"\"\n",
        "        for i in range(node.start_byte, node.end_byte):\n",
        "            word += text[i]\n",
        "        if word == pattern:\n",
        "            # print(f\"Found. Start byte: {node.start_point}, end byte: {node.end_point}\")\n",
        "            return 1\n",
        "        else:\n",
        "            return 0"
      ],
      "execution_count": 0,
      "outputs": []
    },
    {
      "cell_type": "code",
      "metadata": {
        "id": "fVrvZehFFobL",
        "colab_type": "code",
        "colab": {}
      },
      "source": [
        "#export\n",
        "def distinct_class_attribute_calls_java(tree, atts, file_text):\n",
        "    class_index = -1\n",
        "    class_totals_list = []\n",
        "    root_node = tree.root_node\n",
        "    for a in range(len(root_node.children)):\n",
        "        if root_node.children[a].type == \"class_declaration\":\n",
        "            class_index += 1\n",
        "            class_distinct_att_calls = 0\n",
        "            class_dec = root_node.children[a]\n",
        "            for b in range(len(class_dec.children)):\n",
        "                if class_dec.children[b].type == \"class_body\":\n",
        "                    class_body = class_dec.children[b]\n",
        "                    for c in range(len(class_body.children)):\n",
        "                        if class_body.children[c].type == \"method_declaration\":\n",
        "                            distinct_attribute_calls = 0\n",
        "                            for attribute in atts[class_index]:\n",
        "                                if find_string_in_file(class_body.children[c], attribute, file_text):\n",
        "                                    distinct_attribute_calls += 1\n",
        "                            class_distinct_att_calls += distinct_attribute_calls\n",
        "            class_totals_list.append(class_distinct_att_calls)\n",
        "    return class_totals_list"
      ],
      "execution_count": 0,
      "outputs": []
    },
    {
      "cell_type": "code",
      "metadata": {
        "id": "rYvkfU-A1WWR",
        "colab_type": "code",
        "colab": {}
      },
      "source": [
        "#export\n",
        "def get_lcom5(tree, extension, file_text):\n",
        "    '''Takes in the syntax tree of a file and parses it to calculate the LCOM5 of its classes'''\n",
        "    num_atts_func_dict = {'c':class_attributes_c, 'java':class_attributes_java}\n",
        "    num_methods_func_dict = {'c':num_methods_c, 'java':num_methods_java}\n",
        "    num_att_calls_func_dict = {'c':distinct_class_attribute_calls_c, 'java':distinct_class_attribute_calls_java}\n",
        "    if extension not in num_atts_func_dict:\n",
        "        print(f\"Tried to get LCOM5 of file with extension '.{extension}', that language is not supported, 0 assigned to column.\")\n",
        "        return [0]\n",
        "    cursor = tree.walk()\n",
        "    atts = num_atts_func_dict[extension](tree, file_text)\n",
        "    meths = num_methods_func_dict[extension](tree)\n",
        "    dist_att_calls = num_att_calls_func_dict[extension](tree, atts, file_text)\n",
        "    if len(atts) != len(meths) or len(meths) != len(dist_att_calls):\n",
        "        print(f\"Parser error, inconsistent number of classes found. Returning '0'\")\n",
        "        return [0]\n",
        "    lcom5_list = []\n",
        "    for i in range(len(atts)):\n",
        "        lcom5_list.append((dist_att_calls[i] - (meths[i]*len(atts[i])))/(len(atts[i]) - (meths[i]*len(atts[i]))))\n",
        "    return lcom5_list\n",
        "        "
      ],
      "execution_count": 0,
      "outputs": []
    },
    {
      "cell_type": "code",
      "metadata": {
        "id": "yLt1IRuWrjEK",
        "colab_type": "code",
        "colab": {}
      },
      "source": [
        "#export\n",
        "def add_lcom5(df, col):\n",
        "    '''Adds a column with the LCOM5 of each class of each file to the dataframe'''\n",
        "    lang_builds = create_parser_builds()\n",
        "    parser = Parser()\n",
        "    file_lcom5 = []\n",
        "    for i in range(len(df)):\n",
        "        ext = df[\"name\"][i].split('.')[-1]\n",
        "        parser.set_language(lang_builds[ext])\n",
        "        tree = parser.parse(bytes(df[\"contents\"][i], \"utf8\"))\n",
        "        file_lcom5.append(get_lcom5(tree, ext, df[\"contents\"][i]))\n",
        "    df[\"file_lcom5\"] = file_lcom5\n",
        "    return df"
      ],
      "execution_count": 0,
      "outputs": []
    },
    {
      "cell_type": "code",
      "metadata": {
        "id": "W86YBaLhSCi3",
        "colab_type": "code",
        "colab": {}
      },
      "source": [
        "#export\n",
        "def flatten_list_of_lists(list_list):\n",
        "    '''Takes in a list of lists and flattens it, returning a list of each entry'''\n",
        "    flattened_list = []\n",
        "    for sublist in list_list:\n",
        "        for entry in sublist:\n",
        "            flattened_list.append(entry)\n",
        "    return flattened_list"
      ],
      "execution_count": 0,
      "outputs": []
    },
    {
      "cell_type": "code",
      "metadata": {
        "id": "m8zM9rtr1f-n",
        "colab_type": "code",
        "colab": {}
      },
      "source": [
        "# export\n",
        "def display_numeric_col_stats(col, conf = 0.95, sig_figs = 4):\n",
        "    \"\"\"Computes statistical metrics about the entries in a dataframe column\"\"\"\n",
        "    print(\"Min =\", round(col.min(), sig_figs))\n",
        "    print(\"Max =\", round(col.max(), sig_figs))\n",
        "    print(\"Average =\", round(col.mean(), sig_figs))\n",
        "    print(\"Median =\", round(median(col), sig_figs))\n",
        "    print(\"Standard Deviation =\", round(std(col), sig_figs))\n",
        "    \n",
        "    n = len(col)\n",
        "    m = mean(col)\n",
        "    std_err = sem(col)\n",
        "    h = std_err * t.ppf((1 + conf) / 2, n - 1)\n",
        "\n",
        "    start = m - h\n",
        "    end = m + h\n",
        "    print(f\"{conf} of data points fall between {round(start, sig_figs)} and {round(end, sig_figs)}\")"
      ],
      "execution_count": 0,
      "outputs": []
    },
    {
      "cell_type": "code",
      "metadata": {
        "id": "Zrcs5Js-CR7T",
        "colab_type": "code",
        "colab": {}
      },
      "source": [
        "#export\n",
        "def display_numeric_col_hist(col, col_name=\"measure\", num_bins=None):\n",
        "    '''Displays a histogram with a customized number of bins for the data in a specified dataframe column'''\n",
        "    rng = col.max() - col.min()\n",
        "    num = len(col)\n",
        "    stnd_dev = std(col)\n",
        "    # num_bins = round((rng*(pow(num,1/3)))/(3.49*stnd_dev)) # Bins calculated according to https://academic.oup.com/biomet/article-abstract/66/3/605/232642\n",
        "    if not num_bins:\n",
        "        num_bins = 20\n",
        "    plt.hist(col, num_bins, color=\"blue\", alpha=0.5, edgecolor=\"black\", linewidth=1.0)\n",
        "    plt.title(col_name + \" Histogram\")\n",
        "    plt.ylabel(\"Value Occurrences\")\n",
        "    plt.xlabel(col_name)\n",
        "    plt.show()"
      ],
      "execution_count": 0,
      "outputs": []
    },
    {
      "cell_type": "markdown",
      "metadata": {
        "id": "y3lwzryRwjxI",
        "colab_type": "text"
      },
      "source": [
        "# Analysis & Visualization"
      ]
    },
    {
      "cell_type": "code",
      "metadata": {
        "id": "W13webAlwoKA",
        "colab_type": "code",
        "outputId": "39e96faa-b686-483f-952f-9f81a81f42e9",
        "colab": {
          "base_uri": "https://localhost:8080/",
          "height": 34
        }
      },
      "source": [
        "# Retrieve the data\n",
        "corpus_df = simulate_getting_dataframes_from_mongo()\n",
        "total_file_count = len(corpus_df)\n",
        "print(\"Total files:\", total_file_count)"
      ],
      "execution_count": 23,
      "outputs": [
        {
          "output_type": "stream",
          "text": [
            "Total files: 55\n"
          ],
          "name": "stdout"
        }
      ]
    },
    {
      "cell_type": "code",
      "metadata": {
        "id": "T9wPtN2B2oJ9",
        "colab_type": "code",
        "colab": {
          "base_uri": "https://localhost:8080/",
          "height": 361
        },
        "outputId": "7cf75280-b299-45a1-c144-c11c3a7da678"
      },
      "source": [
        "# Add the new metric columns to the corpus dataframe\n",
        "corpus_df = add_length_col(corpus_df, 'contents', 'code_length')\n",
        "corpus_df = add_mccabe_metrics(corpus_df, 'contents')\n",
        "corpus_df = add_lcom5(corpus_df, 'contents')"
      ],
      "execution_count": 32,
      "outputs": [
        {
          "output_type": "error",
          "ename": "ZeroDivisionError",
          "evalue": "ignored",
          "traceback": [
            "\u001b[0;31m---------------------------------------------------------------------------\u001b[0m",
            "\u001b[0;31mZeroDivisionError\u001b[0m                         Traceback (most recent call last)",
            "\u001b[0;32m<ipython-input-32-b462491c7f18>\u001b[0m in \u001b[0;36m<module>\u001b[0;34m()\u001b[0m\n\u001b[1;32m      1\u001b[0m \u001b[0mcorpus_df\u001b[0m \u001b[0;34m=\u001b[0m \u001b[0madd_length_col\u001b[0m\u001b[0;34m(\u001b[0m\u001b[0mcorpus_df\u001b[0m\u001b[0;34m,\u001b[0m \u001b[0;34m'contents'\u001b[0m\u001b[0;34m,\u001b[0m \u001b[0;34m'code_length'\u001b[0m\u001b[0;34m)\u001b[0m\u001b[0;34m\u001b[0m\u001b[0;34m\u001b[0m\u001b[0m\n\u001b[1;32m      2\u001b[0m \u001b[0mcorpus_df\u001b[0m \u001b[0;34m=\u001b[0m \u001b[0madd_mccabe_metrics\u001b[0m\u001b[0;34m(\u001b[0m\u001b[0mcorpus_df\u001b[0m\u001b[0;34m,\u001b[0m \u001b[0;34m'contents'\u001b[0m\u001b[0;34m)\u001b[0m\u001b[0;34m\u001b[0m\u001b[0;34m\u001b[0m\u001b[0m\n\u001b[0;32m----> 3\u001b[0;31m \u001b[0mcorpus_df\u001b[0m \u001b[0;34m=\u001b[0m \u001b[0madd_lcom5\u001b[0m\u001b[0;34m(\u001b[0m\u001b[0mcorpus_df\u001b[0m\u001b[0;34m,\u001b[0m \u001b[0;34m'contents'\u001b[0m\u001b[0;34m)\u001b[0m\u001b[0;34m\u001b[0m\u001b[0;34m\u001b[0m\u001b[0m\n\u001b[0m",
            "\u001b[0;32m<ipython-input-18-be47062625fe>\u001b[0m in \u001b[0;36madd_lcom5\u001b[0;34m(df, col)\u001b[0m\n\u001b[1;32m      8\u001b[0m         \u001b[0mparser\u001b[0m\u001b[0;34m.\u001b[0m\u001b[0mset_language\u001b[0m\u001b[0;34m(\u001b[0m\u001b[0mlang_builds\u001b[0m\u001b[0;34m[\u001b[0m\u001b[0mext\u001b[0m\u001b[0;34m]\u001b[0m\u001b[0;34m)\u001b[0m\u001b[0;34m\u001b[0m\u001b[0;34m\u001b[0m\u001b[0m\n\u001b[1;32m      9\u001b[0m         \u001b[0mtree\u001b[0m \u001b[0;34m=\u001b[0m \u001b[0mparser\u001b[0m\u001b[0;34m.\u001b[0m\u001b[0mparse\u001b[0m\u001b[0;34m(\u001b[0m\u001b[0mbytes\u001b[0m\u001b[0;34m(\u001b[0m\u001b[0mdf\u001b[0m\u001b[0;34m[\u001b[0m\u001b[0;34m\"contents\"\u001b[0m\u001b[0;34m]\u001b[0m\u001b[0;34m[\u001b[0m\u001b[0mi\u001b[0m\u001b[0;34m]\u001b[0m\u001b[0;34m,\u001b[0m \u001b[0;34m\"utf8\"\u001b[0m\u001b[0;34m)\u001b[0m\u001b[0;34m)\u001b[0m\u001b[0;34m\u001b[0m\u001b[0;34m\u001b[0m\u001b[0m\n\u001b[0;32m---> 10\u001b[0;31m         \u001b[0mfile_lcom5\u001b[0m\u001b[0;34m.\u001b[0m\u001b[0mappend\u001b[0m\u001b[0;34m(\u001b[0m\u001b[0mget_lcom5\u001b[0m\u001b[0;34m(\u001b[0m\u001b[0mtree\u001b[0m\u001b[0;34m,\u001b[0m \u001b[0mext\u001b[0m\u001b[0;34m,\u001b[0m \u001b[0mdf\u001b[0m\u001b[0;34m[\u001b[0m\u001b[0;34m\"contents\"\u001b[0m\u001b[0;34m]\u001b[0m\u001b[0;34m[\u001b[0m\u001b[0mi\u001b[0m\u001b[0;34m]\u001b[0m\u001b[0;34m)\u001b[0m\u001b[0;34m)\u001b[0m\u001b[0;34m\u001b[0m\u001b[0;34m\u001b[0m\u001b[0m\n\u001b[0m\u001b[1;32m     11\u001b[0m     \u001b[0mdf\u001b[0m\u001b[0;34m[\u001b[0m\u001b[0;34m\"file_lcom5\"\u001b[0m\u001b[0;34m]\u001b[0m \u001b[0;34m=\u001b[0m \u001b[0mfile_lcom5\u001b[0m\u001b[0;34m\u001b[0m\u001b[0;34m\u001b[0m\u001b[0m\n\u001b[1;32m     12\u001b[0m     \u001b[0;32mreturn\u001b[0m \u001b[0mdf\u001b[0m\u001b[0;34m\u001b[0m\u001b[0;34m\u001b[0m\u001b[0m\n",
            "\u001b[0;32m<ipython-input-31-6950bf2ce9fb>\u001b[0m in \u001b[0;36mget_lcom5\u001b[0;34m(tree, extension, file_text)\u001b[0m\n\u001b[1;32m     16\u001b[0m     \u001b[0mlcom5_list\u001b[0m \u001b[0;34m=\u001b[0m \u001b[0;34m[\u001b[0m\u001b[0;34m]\u001b[0m\u001b[0;34m\u001b[0m\u001b[0;34m\u001b[0m\u001b[0m\n\u001b[1;32m     17\u001b[0m     \u001b[0;32mfor\u001b[0m \u001b[0mi\u001b[0m \u001b[0;32min\u001b[0m \u001b[0mrange\u001b[0m\u001b[0;34m(\u001b[0m\u001b[0mlen\u001b[0m\u001b[0;34m(\u001b[0m\u001b[0matts\u001b[0m\u001b[0;34m)\u001b[0m\u001b[0;34m)\u001b[0m\u001b[0;34m:\u001b[0m\u001b[0;34m\u001b[0m\u001b[0;34m\u001b[0m\u001b[0m\n\u001b[0;32m---> 18\u001b[0;31m         \u001b[0mlcom5_list\u001b[0m\u001b[0;34m.\u001b[0m\u001b[0mappend\u001b[0m\u001b[0;34m(\u001b[0m\u001b[0;34m(\u001b[0m\u001b[0mdist_att_calls\u001b[0m\u001b[0;34m[\u001b[0m\u001b[0mi\u001b[0m\u001b[0;34m]\u001b[0m \u001b[0;34m-\u001b[0m \u001b[0;34m(\u001b[0m\u001b[0mmeths\u001b[0m\u001b[0;34m[\u001b[0m\u001b[0mi\u001b[0m\u001b[0;34m]\u001b[0m\u001b[0;34m*\u001b[0m\u001b[0mlen\u001b[0m\u001b[0;34m(\u001b[0m\u001b[0matts\u001b[0m\u001b[0;34m[\u001b[0m\u001b[0mi\u001b[0m\u001b[0;34m]\u001b[0m\u001b[0;34m)\u001b[0m\u001b[0;34m)\u001b[0m\u001b[0;34m)\u001b[0m\u001b[0;34m/\u001b[0m\u001b[0;34m(\u001b[0m\u001b[0mlen\u001b[0m\u001b[0;34m(\u001b[0m\u001b[0matts\u001b[0m\u001b[0;34m[\u001b[0m\u001b[0mi\u001b[0m\u001b[0;34m]\u001b[0m\u001b[0;34m)\u001b[0m \u001b[0;34m-\u001b[0m \u001b[0;34m(\u001b[0m\u001b[0mmeths\u001b[0m\u001b[0;34m[\u001b[0m\u001b[0mi\u001b[0m\u001b[0;34m]\u001b[0m\u001b[0;34m*\u001b[0m\u001b[0mlen\u001b[0m\u001b[0;34m(\u001b[0m\u001b[0matts\u001b[0m\u001b[0;34m[\u001b[0m\u001b[0mi\u001b[0m\u001b[0;34m]\u001b[0m\u001b[0;34m)\u001b[0m\u001b[0;34m)\u001b[0m\u001b[0;34m)\u001b[0m\u001b[0;34m)\u001b[0m\u001b[0;34m\u001b[0m\u001b[0;34m\u001b[0m\u001b[0m\n\u001b[0m\u001b[1;32m     19\u001b[0m     \u001b[0;32mreturn\u001b[0m \u001b[0mlcom5_list\u001b[0m\u001b[0;34m\u001b[0m\u001b[0;34m\u001b[0m\u001b[0m\n\u001b[1;32m     20\u001b[0m \u001b[0;34m\u001b[0m\u001b[0m\n",
            "\u001b[0;31mZeroDivisionError\u001b[0m: division by zero"
          ]
        }
      ]
    },
    {
      "cell_type": "code",
      "metadata": {
        "id": "ZZfN_Rv_snFV",
        "colab_type": "code",
        "colab": {}
      },
      "source": [
        ""
      ],
      "execution_count": 0,
      "outputs": []
    },
    {
      "cell_type": "code",
      "metadata": {
        "id": "apSJhPyzsnXI",
        "colab_type": "code",
        "colab": {}
      },
      "source": [
        ""
      ],
      "execution_count": 0,
      "outputs": []
    },
    {
      "cell_type": "code",
      "metadata": {
        "id": "wLUpOlmjsnoX",
        "colab_type": "code",
        "colab": {}
      },
      "source": [
        ""
      ],
      "execution_count": 0,
      "outputs": []
    },
    {
      "cell_type": "code",
      "metadata": {
        "id": "AaFF77FNBDsx",
        "colab_type": "code",
        "outputId": "87f26e09-fd3a-43a0-8b93-04fb18623a0c",
        "colab": {
          "base_uri": "https://localhost:8080/",
          "height": 397
        }
      },
      "source": [
        "# Print statistical information about the length of each file\n",
        "display_numeric_col_stats(corpus_df['code_length'])\n",
        "display_numeric_col_hist(corpus_df['code_length'], \"Code Length\")"
      ],
      "execution_count": 0,
      "outputs": [
        {
          "output_type": "stream",
          "text": [
            "Min = 979\n",
            "Max = 35035\n",
            "Average = 6980.3273\n",
            "Median = 4406\n",
            "Standard Deviation = 6470.9868\n",
            "0.95 of data points fall between 5214.8511 and 8745.8035\n"
          ],
          "name": "stdout"
        },
        {
          "output_type": "display_data",
          "data": {
            "image/png": "[encoded data removed]",
            "text/plain": [
              "<Figure size 432x288 with 1 Axes>"
            ]
          },
          "metadata": {
            "tags": []
          }
        }
      ]
    },
    {
      "cell_type": "code",
      "metadata": {
        "id": "TmXuuwU5077r",
        "colab_type": "code",
        "outputId": "f6e7245d-a195-418f-d9c9-595f600e682f",
        "colab": {
          "base_uri": "https://localhost:8080/",
          "height": 397
        }
      },
      "source": [
        "# Print statistical information about the cyclomatic complexity per file\n",
        "display_numeric_col_stats(corpus_df['file_ccn'])\n",
        "display_numeric_col_hist(corpus_df['file_ccn'], \"Cyclomatic Complexity\")"
      ],
      "execution_count": 0,
      "outputs": [
        {
          "output_type": "stream",
          "text": [
            "Min = 2\n",
            "Max = 98\n",
            "Average = 20.1091\n",
            "Median = 10\n",
            "Standard Deviation = 20.2598\n",
            "0.95 of data points fall between 14.5816 and 25.6366\n"
          ],
          "name": "stdout"
        },
        {
          "output_type": "display_data",
          "data": {
            "image/png": "[encoded data removed]",
            "text/plain": [
              "<Figure size 432x288 with 1 Axes>"
            ]
          },
          "metadata": {
            "tags": []
          }
        }
      ]
    },
    {
      "cell_type": "code",
      "metadata": {
        "id": "ZzWNnYS1BDz-",
        "colab_type": "code",
        "outputId": "bd7a7113-79e9-4383-fc07-f4fe7dc5b777",
        "colab": {
          "base_uri": "https://localhost:8080/",
          "height": 397
        }
      },
      "source": [
        "# Print statistical information about the number of lines of code per file\n",
        "display_numeric_col_stats(corpus_df['file_nloc'])\n",
        "display_numeric_col_hist(corpus_df['file_nloc'], \"Lines of Code\")"
      ],
      "execution_count": 0,
      "outputs": [
        {
          "output_type": "stream",
          "text": [
            "Min = 33\n",
            "Max = 781\n",
            "Average = 190.2545\n",
            "Median = 127\n",
            "Standard Deviation = 149.8379\n",
            "0.95 of data points fall between 149.3743 and 231.1347\n"
          ],
          "name": "stdout"
        },
        {
          "output_type": "display_data",
          "data": {
            "image/png": "[encoded data removed]",
            "text/plain": [
              "<Figure size 432x288 with 1 Axes>"
            ]
          },
          "metadata": {
            "tags": []
          }
        }
      ]
    },
    {
      "cell_type": "code",
      "metadata": {
        "id": "_XOs7cA0BRMX",
        "colab_type": "code",
        "outputId": "57893df4-a168-4b39-a552-277b24d209ce",
        "colab": {
          "base_uri": "https://localhost:8080/",
          "height": 397
        }
      },
      "source": [
        "# Print statistical information about the number of functions per file\n",
        "display_numeric_col_stats(corpus_df['num_funcs'])\n",
        "display_numeric_col_hist(corpus_df['num_funcs'], \"Number of Functions\")"
      ],
      "execution_count": 0,
      "outputs": [
        {
          "output_type": "stream",
          "text": [
            "Min = 2\n",
            "Max = 22\n",
            "Average = 6.4727\n",
            "Median = 5\n",
            "Standard Deviation = 3.8934\n",
            "0.95 of data points fall between 5.4105 and 7.535\n"
          ],
          "name": "stdout"
        },
        {
          "output_type": "display_data",
          "data": {
            "image/png": "[encoded data removed]",
            "text/plain": [
              "<Figure size 432x288 with 1 Axes>"
            ]
          },
          "metadata": {
            "tags": []
          }
        }
      ]
    },
    {
      "cell_type": "code",
      "metadata": {
        "id": "ceYj929fBRXq",
        "colab_type": "code",
        "outputId": "1737e075-752c-48da-a977-b97a849096d0",
        "colab": {
          "base_uri": "https://localhost:8080/",
          "height": 397
        }
      },
      "source": [
        "# Print statistical information about the average function cyclomatic complexities per file\n",
        "display_numeric_col_stats(corpus_df['avg_func_ccn'])\n",
        "display_numeric_col_hist(corpus_df['avg_func_ccn'], \"Avg Function Cyclomatic Complexity\")"
      ],
      "execution_count": 0,
      "outputs": [
        {
          "output_type": "stream",
          "text": [
            "Min = 1.0\n",
            "Max = 6.5333\n",
            "Average = 2.6903\n",
            "Median = 2.0\n",
            "Standard Deviation = 1.5997\n",
            "0.95 of data points fall between 2.2538 and 3.1267\n"
          ],
          "name": "stdout"
        },
        {
          "output_type": "display_data",
          "data": {
            "image/png": "[encoded data removed]",
            "text/plain": [
              "<Figure size 432x288 with 1 Axes>"
            ]
          },
          "metadata": {
            "tags": []
          }
        }
      ]
    },
    {
      "cell_type": "code",
      "metadata": {
        "id": "FFuB7nUnBRiA",
        "colab_type": "code",
        "colab": {}
      },
      "source": [
        "# Print statistical information about the average function cyclomatic complexity per file\n",
        "display_numeric_col_stats(corpus_df['avg_func_nloc'])\n",
        "display_numeric_col_hist(corpus_df['avg_func_nloc'], \"Avg Function Lines of Code\")"
      ],
      "execution_count": 0,
      "outputs": []
    },
    {
      "cell_type": "code",
      "metadata": {
        "id": "J-4u0kq63K73",
        "colab_type": "code",
        "outputId": "fece30dd-01f5-4843-b6e2-2f07e524950e",
        "colab": {
          "base_uri": "https://localhost:8080/",
          "height": 375
        }
      },
      "source": [
        "# # Print statistical information about the average LCOM5 per file\n",
        "display_numeric_col_stats(corpus_df['file_lcom5'])\n",
        "display_numeric_col_hist(corpus_df['file_lcom5'], \"Class LCOM5\")"
      ],
      "execution_count": 0,
      "outputs": [
        {
          "output_type": "stream",
          "text": [
            "Min = nan\n",
            "Max = nan\n",
            "Average = nan\n"
          ],
          "name": "stdout"
        },
        {
          "output_type": "error",
          "ename": "TypeError",
          "evalue": "ignored",
          "traceback": [
            "\u001b[0;31m---------------------------------------------------------------------------\u001b[0m",
            "\u001b[0;31mTypeError\u001b[0m                                 Traceback (most recent call last)",
            "\u001b[0;32m<ipython-input-37-38ac03ce2c9a>\u001b[0m in \u001b[0;36m<module>\u001b[0;34m()\u001b[0m\n\u001b[0;32m----> 1\u001b[0;31m \u001b[0mdisplay_numeric_col_stats\u001b[0m\u001b[0;34m(\u001b[0m\u001b[0mcorpus_df\u001b[0m\u001b[0;34m[\u001b[0m\u001b[0;34m'file_lcom5'\u001b[0m\u001b[0;34m]\u001b[0m\u001b[0;34m)\u001b[0m\u001b[0;34m\u001b[0m\u001b[0;34m\u001b[0m\u001b[0m\n\u001b[0m\u001b[1;32m      2\u001b[0m \u001b[0mdisplay_numeric_col_hist\u001b[0m\u001b[0;34m(\u001b[0m\u001b[0mcorpus_df\u001b[0m\u001b[0;34m[\u001b[0m\u001b[0;34m'file_lcom5'\u001b[0m\u001b[0;34m]\u001b[0m\u001b[0;34m,\u001b[0m \u001b[0;34m\"Class LCOM5\"\u001b[0m\u001b[0;34m)\u001b[0m\u001b[0;34m\u001b[0m\u001b[0;34m\u001b[0m\u001b[0m\n",
            "\u001b[0;32m<ipython-input-28-50ef85b98e90>\u001b[0m in \u001b[0;36mdisplay_numeric_col_stats\u001b[0;34m(col, conf, sig_figs)\u001b[0m\n\u001b[1;32m      4\u001b[0m     \u001b[0mprint\u001b[0m\u001b[0;34m(\u001b[0m\u001b[0;34m\"Max =\"\u001b[0m\u001b[0;34m,\u001b[0m \u001b[0mround\u001b[0m\u001b[0;34m(\u001b[0m\u001b[0mcol\u001b[0m\u001b[0;34m.\u001b[0m\u001b[0mmax\u001b[0m\u001b[0;34m(\u001b[0m\u001b[0;34m)\u001b[0m\u001b[0;34m,\u001b[0m \u001b[0msig_figs\u001b[0m\u001b[0;34m)\u001b[0m\u001b[0;34m)\u001b[0m\u001b[0;34m\u001b[0m\u001b[0;34m\u001b[0m\u001b[0m\n\u001b[1;32m      5\u001b[0m     \u001b[0mprint\u001b[0m\u001b[0;34m(\u001b[0m\u001b[0;34m\"Average =\"\u001b[0m\u001b[0;34m,\u001b[0m \u001b[0mround\u001b[0m\u001b[0;34m(\u001b[0m\u001b[0mcol\u001b[0m\u001b[0;34m.\u001b[0m\u001b[0mmean\u001b[0m\u001b[0;34m(\u001b[0m\u001b[0;34m)\u001b[0m\u001b[0;34m,\u001b[0m \u001b[0msig_figs\u001b[0m\u001b[0;34m)\u001b[0m\u001b[0;34m)\u001b[0m\u001b[0;34m\u001b[0m\u001b[0;34m\u001b[0m\u001b[0m\n\u001b[0;32m----> 6\u001b[0;31m     \u001b[0mprint\u001b[0m\u001b[0;34m(\u001b[0m\u001b[0;34m\"Median =\"\u001b[0m\u001b[0;34m,\u001b[0m \u001b[0mround\u001b[0m\u001b[0;34m(\u001b[0m\u001b[0mmedian\u001b[0m\u001b[0;34m(\u001b[0m\u001b[0mcol\u001b[0m\u001b[0;34m)\u001b[0m\u001b[0;34m,\u001b[0m \u001b[0msig_figs\u001b[0m\u001b[0;34m)\u001b[0m\u001b[0;34m)\u001b[0m\u001b[0;34m\u001b[0m\u001b[0;34m\u001b[0m\u001b[0m\n\u001b[0m\u001b[1;32m      7\u001b[0m     \u001b[0mprint\u001b[0m\u001b[0;34m(\u001b[0m\u001b[0;34m\"Standard Deviation =\"\u001b[0m\u001b[0;34m,\u001b[0m \u001b[0mround\u001b[0m\u001b[0;34m(\u001b[0m\u001b[0mstd\u001b[0m\u001b[0;34m(\u001b[0m\u001b[0mcol\u001b[0m\u001b[0;34m)\u001b[0m\u001b[0;34m,\u001b[0m \u001b[0msig_figs\u001b[0m\u001b[0;34m)\u001b[0m\u001b[0;34m)\u001b[0m\u001b[0;34m\u001b[0m\u001b[0;34m\u001b[0m\u001b[0m\n\u001b[1;32m      8\u001b[0m \u001b[0;34m\u001b[0m\u001b[0m\n",
            "\u001b[0;32m/usr/lib/python3.6/statistics.py\u001b[0m in \u001b[0;36mmedian\u001b[0;34m(data)\u001b[0m\n\u001b[1;32m    375\u001b[0m \u001b[0;34m\u001b[0m\u001b[0m\n\u001b[1;32m    376\u001b[0m     \"\"\"\n\u001b[0;32m--> 377\u001b[0;31m     \u001b[0mdata\u001b[0m \u001b[0;34m=\u001b[0m \u001b[0msorted\u001b[0m\u001b[0;34m(\u001b[0m\u001b[0mdata\u001b[0m\u001b[0;34m)\u001b[0m\u001b[0;34m\u001b[0m\u001b[0;34m\u001b[0m\u001b[0m\n\u001b[0m\u001b[1;32m    378\u001b[0m     \u001b[0mn\u001b[0m \u001b[0;34m=\u001b[0m \u001b[0mlen\u001b[0m\u001b[0;34m(\u001b[0m\u001b[0mdata\u001b[0m\u001b[0;34m)\u001b[0m\u001b[0;34m\u001b[0m\u001b[0;34m\u001b[0m\u001b[0m\n\u001b[1;32m    379\u001b[0m     \u001b[0;32mif\u001b[0m \u001b[0mn\u001b[0m \u001b[0;34m==\u001b[0m \u001b[0;36m0\u001b[0m\u001b[0;34m:\u001b[0m\u001b[0;34m\u001b[0m\u001b[0;34m\u001b[0m\u001b[0m\n",
            "\u001b[0;31mTypeError\u001b[0m: '<' not supported between instances of 'NoneType' and 'NoneType'"
          ]
        }
      ]
    },
    {
      "cell_type": "code",
      "metadata": {
        "id": "aqpxj8CkBD7G",
        "colab_type": "code",
        "colab": {}
      },
      "source": [
        "pd.set_option('display.expand_frame_repr', False)\n",
        "corpus_df.head(20)"
      ],
      "execution_count": 0,
      "outputs": []
    },
    {
      "cell_type": "code",
      "metadata": {
        "id": "oy8UDLApBEB5",
        "colab_type": "code",
        "colab": {}
      },
      "source": [
        "# pd.set_option('display.expand_frame_repr', False)\n",
        "# corpus_df"
      ],
      "execution_count": 0,
      "outputs": []
    },
    {
      "cell_type": "code",
      "metadata": {
        "id": "Z5_wYi7BBEIf",
        "colab_type": "code",
        "colab": {}
      },
      "source": [
        ""
      ],
      "execution_count": 0,
      "outputs": []
    },
    {
      "cell_type": "code",
      "metadata": {
        "id": "IrjHDBhuBEP4",
        "colab_type": "code",
        "colab": {}
      },
      "source": [
        ""
      ],
      "execution_count": 0,
      "outputs": []
    },
    {
      "cell_type": "code",
      "metadata": {
        "id": "dSQu6S_-BEYk",
        "colab_type": "code",
        "colab": {}
      },
      "source": [
        ""
      ],
      "execution_count": 0,
      "outputs": []
    },
    {
      "cell_type": "code",
      "metadata": {
        "id": "izARMcDcmn_3",
        "colab_type": "code",
        "colab": {}
      },
      "source": [
        ""
      ],
      "execution_count": 0,
      "outputs": []
    },
    {
      "cell_type": "code",
      "metadata": {
        "id": "sdnqg6xumoHW",
        "colab_type": "code",
        "colab": {}
      },
      "source": [
        ""
      ],
      "execution_count": 0,
      "outputs": []
    },
    {
      "cell_type": "code",
      "metadata": {
        "id": "hHCznRPSBEqO",
        "colab_type": "code",
        "colab": {}
      },
      "source": [
        "# https://github.com/priv-kweihmann/multimetric\n",
        "# The above link is another possible tool to easily calculate code metrics for various languages"
      ],
      "execution_count": 0,
      "outputs": []
    },
    {
      "cell_type": "code",
      "metadata": {
        "id": "_OpoQ2JFBEWo",
        "colab_type": "code",
        "colab": {}
      },
      "source": [
        "# https://books.google.com/books?id=DxuGi5h2-HEC&pg=PA140&lpg=PA140&dq=do+header+files+in+c+have+a+cyclomatic+complexity&source=bl&ots=0WxxjeX9rR&sig=ACfU3U1QnoKnwrsj4YbSQxATeaoYMvBWwg&hl=en&sa=X&ved=2ahUKEwijtqKxhJXoAhUSXa0KHctQD38Q6AEwAnoECAkQAQ#v=onepage&q=do%20header%20files%20in%20c%20have%20a%20cyclomatic%20complexity&f=false\n",
        "# The abover link goes to an article discussing cyclomatic complexity and c header files"
      ],
      "execution_count": 0,
      "outputs": []
    },
    {
      "cell_type": "code",
      "metadata": {
        "id": "TLOHxFDOmork",
        "colab_type": "code",
        "colab": {}
      },
      "source": [
        "# http://site.iugaza.edu.ps/mroos/files/Software-Metrics1.pdf\n",
        "# The above link is a pdf that explains every LCOM metric"
      ],
      "execution_count": 0,
      "outputs": []
    },
    {
      "cell_type": "code",
      "metadata": {
        "id": "5EnDIeUJmoxW",
        "colab_type": "code",
        "colab": {}
      },
      "source": [
        ""
      ],
      "execution_count": 0,
      "outputs": []
    },
    {
      "cell_type": "code",
      "metadata": {
        "id": "Rv5IN2Q9mo3H",
        "colab_type": "code",
        "colab": {}
      },
      "source": [
        ""
      ],
      "execution_count": 0,
      "outputs": []
    },
    {
      "cell_type": "code",
      "metadata": {
        "id": "NuGNaoUgmo8f",
        "colab_type": "code",
        "colab": {}
      },
      "source": [
        ""
      ],
      "execution_count": 0,
      "outputs": []
    },
    {
      "cell_type": "code",
      "metadata": {
        "id": "f6F-82LFmpBA",
        "colab_type": "code",
        "colab": {}
      },
      "source": [
        ""
      ],
      "execution_count": 0,
      "outputs": []
    },
    {
      "cell_type": "code",
      "metadata": {
        "id": "mTxQhe4impGQ",
        "colab_type": "code",
        "colab": {}
      },
      "source": [
        ""
      ],
      "execution_count": 0,
      "outputs": []
    },
    {
      "cell_type": "code",
      "metadata": {
        "id": "k6Cwsj3dmpLs",
        "colab_type": "code",
        "colab": {}
      },
      "source": [
        ""
      ],
      "execution_count": 0,
      "outputs": []
    },
    {
      "cell_type": "code",
      "metadata": {
        "id": "TdKF-cJnaUB_",
        "colab_type": "code",
        "colab": {}
      },
      "source": [
        ""
      ],
      "execution_count": 0,
      "outputs": []
    },
    {
      "cell_type": "code",
      "metadata": {
        "id": "R6aCrEY3aUPi",
        "colab_type": "code",
        "colab": {}
      },
      "source": [
        ""
      ],
      "execution_count": 0,
      "outputs": []
    },
    {
      "cell_type": "code",
      "metadata": {
        "id": "PbzE_DalaUbw",
        "colab_type": "code",
        "colab": {}
      },
      "source": [
        ""
      ],
      "execution_count": 0,
      "outputs": []
    },
    {
      "cell_type": "code",
      "metadata": {
        "id": "ElseMaJhmpRL",
        "colab_type": "code",
        "colab": {}
      },
      "source": [
        ""
      ],
      "execution_count": 0,
      "outputs": []
    },
    {
      "cell_type": "markdown",
      "metadata": {
        "id": "JR2EHr85BBNG",
        "colab_type": "text"
      },
      "source": [
        "# Scratch Code (Testing)"
      ]
    },
    {
      "cell_type": "code",
      "metadata": {
        "id": "vYWGBNRXmsD3",
        "colab_type": "code",
        "colab": {}
      },
      "source": [
        ""
      ],
      "execution_count": 0,
      "outputs": []
    },
    {
      "cell_type": "code",
      "metadata": {
        "id": "sI3z463_mtSm",
        "colab_type": "code",
        "colab": {}
      },
      "source": [
        "Language.build_library(\n",
        "    # Store the library in the `build` directory\n",
        "    'build/my-languages.so',\n",
        "\n",
        "    # Include one or more languages\n",
        "    [\n",
        "        'tree-sitter-c',\n",
        "        'tree-sitter-cpp',\n",
        "        'tree-sitter-java',\n",
        "        'tree-sitter-javascript',\n",
        "        'tree-sitter-python'\n",
        "    ]\n",
        ")\n",
        "\n",
        "C_LANGUAGE = Language('build/my-languages.so', 'c')\n",
        "CPP_LANGUAGE = Language('build/my-languages.so', 'cpp')\n",
        "JAVA_LANGUAGE = Language('build/my-languages.so', 'java')\n",
        "JS_LANGUAGE = Language('build/my-languages.so', 'javascript')\n",
        "PY_LANGUAGE = Language('build/my-languages.so', 'python')\n",
        "\n",
        "lang_builds = {'c':C_LANGUAGE, 'cpp':CPP_LANGUAGE, 'java':JAVA_LANGUAGE, 'js':JS_LANGUAGE, 'py':PY_LANGUAGE}\n",
        "\n",
        "parser = Parser()\n",
        "ext = 'java'\n",
        "parser.set_language(lang_builds[ext])\n",
        "test_df = simulate_getting_dataframes_from_mongo()\n",
        "tree = parser.parse(bytes(test_df[\"contents\"][1], \"utf8\"))\n",
        "# print(test_df[\"contents\"][1])\n",
        "# root_node = tree.root_node\n",
        "# num_atts = 0\n",
        "# for a in range(len(root_node.children)):\n",
        "#     if root_node.children[a].type == \"class_declaration\":\n",
        "#         class_dec = root_node.children[a]\n",
        "#         for b in range(len(class_dec.children)):\n",
        "#             if class_dec.children[b].type == \"class_body\":\n",
        "#                 class_body = class_dec.children[b]\n",
        "#                 for c in range(len(class_body.children)):\n",
        "#                     if class_body.children[c].type == \"field_declaration\":\n",
        "#                         field_dec = class_body.children[c]\n",
        "#                         for d in range(len(field_dec.children)):\n",
        "#                             if field_dec.children[d].type == \"variable_declarator\":\n",
        "#                                 num_atts += 1\n",
        "# print(num_atts)"
      ],
      "execution_count": 0,
      "outputs": []
    },
    {
      "cell_type": "code",
      "metadata": {
        "id": "fVEzMgUfrQDm",
        "colab_type": "code",
        "colab": {}
      },
      "source": [
        "root_node = tree.root_node\n",
        "for a in range(len(root_node.children)):\n",
        "    if root_node.children[a].type == \"class_declaration\":\n",
        "        class_dec = root_node.children[a]\n",
        "        for b in range(len(class_dec.children)):\n",
        "            if class_dec.children[b].type == \"class_body\":\n",
        "                class_body = class_dec.children[b]\n",
        "                for c in range(len(class_body.children)):\n",
        "                    if class_body.children[c].type == \"method_declaration\":\n",
        "                        method = class_body.children[c]"
      ],
      "execution_count": 0,
      "outputs": []
    },
    {
      "cell_type": "code",
      "metadata": {
        "id": "2z9K1nYHrtg2",
        "colab_type": "code",
        "outputId": "fc06db23-4809-4451-b055-17c535d2edde",
        "colab": {
          "base_uri": "https://localhost:8080/",
          "height": 102
        }
      },
      "source": [
        "print(method.start_point)\n",
        "print(method.end_point)\n",
        "print(method.start_byte)\n",
        "print(method.end_byte)\n",
        "# print(test_df[\"contents\"][1][558])\n",
        "# print(test_df[\"contents\"][1])\n",
        "lines = test_df[\"contents\"][1].split(\"\\n\")\n",
        "print(lines[33])\n"
      ],
      "execution_count": 30,
      "outputs": [
        {
          "output_type": "stream",
          "text": [
            "(22, 4)\n",
            "(35, 5)\n",
            "558\n",
            "975\n",
            "    \ttesto[9].setText(DateUtils.parseDate(DateUtils.giveStringOfDate(p.getDataPren())));\t    \n"
          ],
          "name": "stdout"
        }
      ]
    },
    {
      "cell_type": "code",
      "metadata": {
        "id": "1DXIFc2wkTMZ",
        "colab_type": "code",
        "outputId": "419ee5b2-4c19-49a4-c49f-5a1f9e1be24a",
        "colab": {
          "base_uri": "https://localhost:8080/",
          "height": 102
        }
      },
      "source": [
        "\n",
        "def find_string_in_file(node, pattern, text):\n",
        "    if len(node.children) > 0:\n",
        "        count = 0\n",
        "        for i in node.children:\n",
        "            count += find_string_in_file(i, pattern, text)\n",
        "        return count\n",
        "    else:\n",
        "        word = \"\"\n",
        "        for i in range(node.start_byte, node.end_byte):\n",
        "            # print(text[i], end=\"\")\n",
        "            word += text[i]\n",
        "        # print()\n",
        "        if word == pattern:\n",
        "            print(f\"Found. Start byte: {node.start_point}, end byte: {node.end_point}\")\n",
        "            return 1\n",
        "        else:\n",
        "            return 0\n",
        "node = tree.root_node\n",
        "num_found = find_string_in_file(node, \"p\", test_df[\"contents\"][1])\n",
        "print(num_found)"
      ],
      "execution_count": 23,
      "outputs": [
        {
          "output_type": "stream",
          "text": [
            "Found. Start byte: (10, 14), end byte: (10, 15)\n",
            "Found. Start byte: (17, 8), end byte: (17, 9)\n",
            "Found. Start byte: (26, 19), end byte: (26, 20)\n",
            "Found. Start byte: (33, 69), end byte: (33, 70)\n",
            "4\n"
          ],
          "name": "stdout"
        }
      ]
    },
    {
      "cell_type": "code",
      "metadata": {
        "id": "h9i6U50-n_8p",
        "colab_type": "code",
        "outputId": "6025427b-bb5d-4c65-f397-8f3e71d1db13",
        "colab": {
          "base_uri": "https://localhost:8080/",
          "height": 96
        }
      },
      "source": [
        "query = JAVA_LANGUAGE.query(\"\"\"\n",
        "(binary_expression\n",
        "    left: (\"etichetta\")\n",
        "\"\"\")\n",
        "\n",
        "captures = query.captures(tree.root_node)"
      ],
      "execution_count": 0,
      "outputs": [
        {
          "output_type": "error",
          "ename": "SyntaxError",
          "evalue": "ignored",
          "traceback": [
            "\u001b[0;36m  File \u001b[0;32m\"<string>\"\u001b[0;36m, line \u001b[0;32munknown\u001b[0m\n\u001b[0;31mSyntaxError\u001b[0m\u001b[0;31m:\u001b[0m Invalid syntax at offset 31\n"
          ]
        }
      ]
    },
    {
      "cell_type": "code",
      "metadata": {
        "id": "3Fe9_j8roY_P",
        "colab_type": "code",
        "colab": {}
      },
      "source": [
        "assert len(captures) == 2\n",
        "assert captures[0][0] == function_name_node\n",
        "assert captures[0][1] == \"function.def\""
      ],
      "execution_count": 0,
      "outputs": []
    },
    {
      "cell_type": "code",
      "metadata": {
        "id": "Y13lf9JgmtAo",
        "colab_type": "code",
        "outputId": "346b8876-5c44-4ca7-f4f1-0d32f0875cd0",
        "colab": {
          "base_uri": "https://localhost:8080/",
          "height": 51
        }
      },
      "source": [
        "cursor = tree.walk()\n",
        "print(cursor.node.type)\n",
        "cursor.goto_next_sibling\n",
        "cursor"
      ],
      "execution_count": 0,
      "outputs": [
        {
          "output_type": "stream",
          "text": [
            "program\n"
          ],
          "name": "stdout"
        },
        {
          "output_type": "execute_result",
          "data": {
            "text/plain": [
              "<tree_sitter.TreeCursor at 0x7fb7cefaa840>"
            ]
          },
          "metadata": {
            "tags": []
          },
          "execution_count": 55
        }
      ]
    },
    {
      "cell_type": "code",
      "metadata": {
        "id": "tcRvzOqMmsxh",
        "colab_type": "code",
        "outputId": "722120b1-0a16-4196-bd55-f4a174a1bdb6",
        "colab": {
          "base_uri": "https://localhost:8080/",
          "height": 34
        }
      },
      "source": [
        "print(cursor.node.type)\n",
        "print(cursor.goto_first_child)"
      ],
      "execution_count": 0,
      "outputs": [
        {
          "output_type": "stream",
          "text": [
            "program\n"
          ],
          "name": "stdout"
        }
      ]
    },
    {
      "cell_type": "code",
      "metadata": {
        "id": "Zes3rth5msta",
        "colab_type": "code",
        "colab": {}
      },
      "source": [
        ""
      ],
      "execution_count": 0,
      "outputs": []
    },
    {
      "cell_type": "code",
      "metadata": {
        "id": "Z9085tHzmsfH",
        "colab_type": "code",
        "colab": {}
      },
      "source": [
        ""
      ],
      "execution_count": 0,
      "outputs": []
    },
    {
      "cell_type": "code",
      "metadata": {
        "id": "JnJ8LLlsmsQ6",
        "colab_type": "code",
        "colab": {}
      },
      "source": [
        ""
      ],
      "execution_count": 0,
      "outputs": []
    },
    {
      "cell_type": "code",
      "metadata": {
        "id": "RiN7ZZdDF3TB",
        "colab_type": "code",
        "outputId": "2cbb99a2-8ebb-4815-eca2-638c85e8977e",
        "colab": {
          "base_uri": "https://localhost:8080/",
          "height": 412
        }
      },
      "source": [
        "!pip install multimetric"
      ],
      "execution_count": 0,
      "outputs": [
        {
          "output_type": "stream",
          "text": [
            "Collecting multimetric\n",
            "  Downloading https://files.pythonhosted.org/packages/25/2b/8aaad12a46c58102cf7cb0861031cc2cf4e620fc9fd941616713a434f4e0/multimetric-1.1.3.tar.gz\n",
            "Requirement already satisfied: chardet>=3.0.0 in /usr/local/lib/python3.6/dist-packages (from multimetric) (3.0.4)\n",
            "Collecting pygments>=2.5.0\n",
            "\u001b[?25l  Downloading https://files.pythonhosted.org/packages/2d/68/106af3ae51daf807e9cdcba6a90e518954eb8b70341cee52995540a53ead/Pygments-2.6.1-py3-none-any.whl (914kB)\n",
            "\u001b[K     |████████████████████████████████| 921kB 6.8MB/s \n",
            "\u001b[?25hBuilding wheels for collected packages: multimetric\n",
            "  Building wheel for multimetric (setup.py) ... \u001b[?25l\u001b[?25hdone\n",
            "  Created wheel for multimetric: filename=multimetric-1.1.3-cp36-none-any.whl size=20170 sha256=0d755e6c6634a50c74264bff0a29dab99642f5051bf7c6ad1c2d3d637a2b1403\n",
            "  Stored in directory: /root/.cache/pip/wheels/6d/c7/81/52b4323f26674931ea81e0d7589a71081e05e88426004c5331\n",
            "Successfully built multimetric\n",
            "\u001b[31mERROR: datascience 0.10.6 has requirement folium==0.2.1, but you'll have folium 0.8.3 which is incompatible.\u001b[0m\n",
            "Installing collected packages: pygments, multimetric\n",
            "  Found existing installation: Pygments 2.1.3\n",
            "    Uninstalling Pygments-2.1.3:\n",
            "      Successfully uninstalled Pygments-2.1.3\n",
            "Successfully installed multimetric-1.1.3 pygments-2.6.1\n"
          ],
          "name": "stdout"
        },
        {
          "output_type": "display_data",
          "data": {
            "application/vnd.colab-display-data+json": {
              "pip_warning": {
                "packages": [
                  "pygments"
                ]
              }
            }
          },
          "metadata": {
            "tags": []
          }
        }
      ]
    },
    {
      "cell_type": "code",
      "metadata": {
        "id": "y8DxIIifF3ju",
        "colab_type": "code",
        "colab": {}
      },
      "source": [
        "import multimetric"
      ],
      "execution_count": 0,
      "outputs": []
    },
    {
      "cell_type": "code",
      "metadata": {
        "id": "upwV4nMdF4nq",
        "colab_type": "code",
        "colab": {}
      },
      "source": [
        "multimetric.rea"
      ],
      "execution_count": 0,
      "outputs": []
    },
    {
      "cell_type": "code",
      "metadata": {
        "id": "Cr6Hp3cSF4jp",
        "colab_type": "code",
        "colab": {}
      },
      "source": [
        ""
      ],
      "execution_count": 0,
      "outputs": []
    },
    {
      "cell_type": "code",
      "metadata": {
        "id": "TmtLr2YFF4Np",
        "colab_type": "code",
        "colab": {}
      },
      "source": [
        ""
      ],
      "execution_count": 0,
      "outputs": []
    },
    {
      "cell_type": "code",
      "metadata": {
        "id": "oiKKeTCcF4Kg",
        "colab_type": "code",
        "colab": {}
      },
      "source": [
        "if 0:\n",
        "    print(\"Hey\")"
      ],
      "execution_count": 0,
      "outputs": []
    },
    {
      "cell_type": "code",
      "metadata": {
        "id": "KnzLcjMMF31L",
        "colab_type": "code",
        "colab": {}
      },
      "source": [
        ""
      ],
      "execution_count": 0,
      "outputs": []
    },
    {
      "cell_type": "code",
      "metadata": {
        "id": "O4ECQmLtF3yE",
        "colab_type": "code",
        "colab": {}
      },
      "source": [
        ""
      ],
      "execution_count": 0,
      "outputs": []
    },
    {
      "cell_type": "code",
      "metadata": {
        "id": "hoddzqvt4wnY",
        "colab_type": "code",
        "outputId": "672b15e5-c2e9-4bb0-ba44-e500c3976d4c",
        "colab": {
          "base_uri": "https://localhost:8080/",
          "height": 34
        }
      },
      "source": [
        "print(round(1236721.8237468732, 3))"
      ],
      "execution_count": 0,
      "outputs": [
        {
          "output_type": "stream",
          "text": [
            "1236721.824\n"
          ],
          "name": "stdout"
        }
      ]
    },
    {
      "cell_type": "code",
      "metadata": {
        "id": "XQe5TlTT5W2_",
        "colab_type": "code",
        "colab": {}
      },
      "source": [
        "!pip install lizard"
      ],
      "execution_count": 0,
      "outputs": []
    },
    {
      "cell_type": "code",
      "metadata": {
        "id": "EDaHWDYZAFkM",
        "colab_type": "code",
        "colab": {}
      },
      "source": [
        "import subprocess\n",
        "import json\n",
        "def add_lizard_mccabe_metrics(df, col):\n",
        "    mccabe = []\n",
        "    sloc = []\n",
        "    comments = []\n",
        "    ratio = []\n",
        "    for i in range(len(df)):\n",
        "        if i == 99:\n",
        "            print(\"At file #100\", end=\"\")\n",
        "        if ((i + 1) % 200) == 0:\n",
        "            print(\", file #\" + str(i + 1), end=\"\")\n",
        "        ext = df[\"file_name\"][i].split('.')[-1]\n",
        "        if ext == 'h':\n",
        "            ext = 'c'\n",
        "        with open(f\"temp_file.{ext}\", \"w\", encoding='UTF-8') as fp:\n",
        "            fp.write(df[col][i])\n",
        "        out = subprocess.Popen(['metrics', '-q', '--format=json', f\"temp_file.{ext}\"], \n",
        "                               stdout=subprocess.PIPE, \n",
        "                               stderr=subprocess.STDOUT)\n",
        "        stdout,stderr = out.communicate()\n",
        "        metrics_data = json.loads(stdout)\n",
        "        mccabe.append(metrics_data['files'][f\"temp_file.{ext}\"]['mccabe'])\n",
        "        sloc.append(metrics_data['files'][f\"temp_file.{ext}\"]['sloc'])\n",
        "        comments.append(metrics_data['files'][f\"temp_file.{ext}\"]['comments'])\n",
        "        ratio.append(metrics_data['files'][f\"temp_file.{ext}\"]['ratio_comment_to_code'])\n",
        "#         print(mccabe_data['files'][f'temp_file.{LANGUAGE}'].keys())\n",
        "        os.remove(f\"temp_file.{ext}\")\n",
        "    df[\"complexity\"] = mccabe\n",
        "    df[\"code_lines\"] = sloc\n",
        "    df[\"comments\"] = comments\n",
        "    df[\"ratio_comment_to_code\"] = ratio\n",
        "    return df"
      ],
      "execution_count": 0,
      "outputs": []
    },
    {
      "cell_type": "code",
      "metadata": {
        "id": "WC4OK2bD5Uv6",
        "colab_type": "code",
        "colab": {}
      },
      "source": [
        ""
      ],
      "execution_count": 0,
      "outputs": []
    },
    {
      "cell_type": "code",
      "metadata": {
        "id": "zlCs-Q5O5hBo",
        "colab_type": "code",
        "outputId": "4ec0cafe-8c01-440b-e972-6009e45922e1",
        "colab": {
          "base_uri": "https://localhost:8080/",
          "height": 1000
        }
      },
      "source": [
        "!lizard source_code/est.c"
      ],
      "execution_count": 0,
      "outputs": [
        {
          "output_type": "stream",
          "text": [
            "================================================\n",
            "  NLOC    CCN   token  PARAM  length  location  \n",
            "------------------------------------------------\n",
            "       7      1     35      2      11 est_logger_stderr@9-19@source_code/est.c\n",
            "      11      2     53      2      16 est_log_msg@27-42@source_code/est.c\n",
            "      14      3     66      3      24 est_log@46-69@source_code/est.c\n",
            "      18      2    154      1      23 printStackTrace@73-95@source_code/est.c\n",
            "      18      5     91      1      31 est_log_backtrace@99-129@source_code/est.c\n",
            "       3      1      9      1       3 est_get_version@136-138@source_code/est.c\n",
            "       3      1      9      1       3 est_get_api_level@148-150@source_code/est.c\n",
            "       7      2     43      1       9 est_log_version@156-164@source_code/est.c\n",
            "      10      2     46      2      16 est_init_logger@181-196@source_code/est.c\n",
            "       4      1     11      1       4 est_enable_backtrace@213-216@source_code/est.c\n",
            "      42      9    202      3      52 est_read_x509_request@239-290@source_code/est.c\n",
            "      29      5    135      3      33 est_load_key@313-345@source_code/est.c\n",
            "      62     11    323      2     101 est_get_certs_pkcs7@357-457@source_code/est.c\n",
            "      38      6    223      3      51 est_load_ca_certs@467-517@source_code/est.c\n",
            "      16      3     92      3      22 est_load_trusted_certs@528-549@source_code/est.c\n",
            "      11      3     48      2      11 est_set_ex_data@570-580@source_code/est.c\n",
            "       7      2     27      1       7 est_get_ex_data@593-599@source_code/est.c\n",
            "      45     16    230      1      69 est_destroy@610-678@source_code/est.c\n",
            "      13      4     60      2      23 est_base64_contains_nl@688-710@source_code/est.c\n",
            "      38      6    219      3      59 est_base64_decode@719-777@source_code/est.c\n",
            "      44      5    245      4      68 est_base64_encode@786-853@source_code/est.c\n",
            "      46      9    282      2      59 est_get_tls_uid@862-920@source_code/est.c\n",
            "       9      2     69      3      10 est_hex_to_str@926-935@source_code/est.c\n",
            "       9      2     36      1      10 est_enable_crl@953-962@source_code/est.c\n",
            "      51     11    253      3      60 est_asn1_sanity_test@971-1030@source_code/est.c\n",
            "       8      3     54      3      12 est_is_challengePassword_present@1038-1049@source_code/est.c\n",
            "      27      5    151      3      35 est_asn1_parse_attributes@1056-1090@source_code/est.c\n",
            "      92     14    687      4     108 est_add_challengePassword@1097-1204@source_code/est.c\n",
            "      21      6    108      4      27 est_add_attributes_helper@1218-1244@source_code/est.c\n",
            "      28      8    159      4      42 est_decode_attributes_helper@1258-1299@source_code/est.c\n",
            "      51     10    273      3      60 est_get_attributes_helper@1313-1372@source_code/est.c\n",
            "      55     11    353      1      66 cleanse_auth_credentials@1377-1442@source_code/est.c\n",
            "      16      5     90      1      18 est_parse_operation@1446-1463@source_code/est.c\n",
            "     103     17    620      3     165 est_parse_uri@1467-1631@source_code/est.c\n",
            "      19      5    124      3      25 est_parse_uri@1635-1659@source_code/est.c\n",
            "      18      4    101      3      24 est_store_path_segment@1663-1686@source_code/est.c\n",
            "      10      2     55      2      16 est_strcasecmp_s@1690-1705@source_code/est.c\n",
            "1 file analyzed.\n",
            "==============================================================\n",
            "NLOC    Avg.NLOC  AvgCCN  Avg.token  function_cnt    file\n",
            "--------------------------------------------------------------\n",
            "   1005      27.1     5.5      155.0        37     source_code/est.c\n",
            "\n",
            "===========================================================================================================\n",
            "!!!! Warnings (cyclomatic_complexity > 15 or length > 1000 or nloc > 1000000 or parameter_count > 100) !!!!\n",
            "================================================\n",
            "  NLOC    CCN   token  PARAM  length  location  \n",
            "------------------------------------------------\n",
            "      45     16    230      1      69 est_destroy@610-678@source_code/est.c\n",
            "     103     17    620      3     165 est_parse_uri@1467-1631@source_code/est.c\n",
            "==========================================================================================\n",
            "Total nloc   Avg.NLOC  AvgCCN  Avg.token   Fun Cnt  Warning cnt   Fun Rt   nloc Rt\n",
            "------------------------------------------------------------------------------------------\n",
            "      1005      27.1     5.5      155.0       37            2      0.05    0.15\n"
          ],
          "name": "stdout"
        }
      ]
    },
    {
      "cell_type": "code",
      "metadata": {
        "id": "TcRGJP7TM1Aq",
        "colab_type": "code",
        "outputId": "8d8ddab9-2518-453c-b4b3-395d0fb62874",
        "colab": {
          "base_uri": "https://localhost:8080/",
          "height": 119
        }
      },
      "source": [
        "!metrics source_code/est.c"
      ],
      "execution_count": 0,
      "outputs": [
        {
          "output_type": "stream",
          "text": [
            "Metrics Summary:\n",
            "Files                       Language        SLOC Comment McCabe \n",
            "----- ------------------------------ ----------- ------- ------ \n",
            "    1                         Python           9       0      3 \n",
            "----- ------------------------------ ----------- ------- ------ \n",
            "    1                          Total           9       0      3 \n"
          ],
          "name": "stdout"
        }
      ]
    },
    {
      "cell_type": "code",
      "metadata": {
        "id": "zn9XeYQmM-jc",
        "colab_type": "code",
        "colab": {}
      },
      "source": [
        "import lizard"
      ],
      "execution_count": 0,
      "outputs": []
    },
    {
      "cell_type": "code",
      "metadata": {
        "id": "M0QAuYLeNk9I",
        "colab_type": "code",
        "colab": {}
      },
      "source": [
        "i = lizard.analyze_file(\"source_code/est.c\")"
      ],
      "execution_count": 0,
      "outputs": []
    },
    {
      "cell_type": "code",
      "metadata": {
        "id": "67zSrLWmPQBa",
        "colab_type": "code",
        "outputId": "efa0674d-eae8-40c8-8447-0aa9f44e3039",
        "colab": {
          "base_uri": "https://localhost:8080/",
          "height": 34
        }
      },
      "source": [
        "print(i.CCN)"
      ],
      "execution_count": 0,
      "outputs": [
        {
          "output_type": "stream",
          "text": [
            "204\n"
          ],
          "name": "stdout"
        }
      ]
    },
    {
      "cell_type": "code",
      "metadata": {
        "id": "0Xpt4ksvNm17",
        "colab_type": "code",
        "outputId": "a28c0c17-ade3-43ee-955d-b3e6297aec58",
        "colab": {
          "base_uri": "https://localhost:8080/",
          "height": 54
        }
      },
      "source": [
        "print(i.__dict__)"
      ],
      "execution_count": 0,
      "outputs": [
        {
          "output_type": "stream",
          "text": [
            "{'filename': 'source_code/est.c', 'nloc': 1005, 'function_list': [<lizard.FunctionInfo object at 0x7f137fc5fc18>, <lizard.FunctionInfo object at 0x7f137fc5fd68>, <lizard.FunctionInfo object at 0x7f137fc5fb00>, <lizard.FunctionInfo object at 0x7f137fc5ff28>, <lizard.FunctionInfo object at 0x7f137fc5ff98>, <lizard.FunctionInfo object at 0x7f137fc5ffd0>, <lizard.FunctionInfo object at 0x7f137fc5f978>, <lizard.FunctionInfo object at 0x7f137fc6b898>, <lizard.FunctionInfo object at 0x7f137fc6b080>, <lizard.FunctionInfo object at 0x7f137fc6b0f0>, <lizard.FunctionInfo object at 0x7f137fc6b160>, <lizard.FunctionInfo object at 0x7f137fc6b128>, <lizard.FunctionInfo object at 0x7f137fc6b2b0>, <lizard.FunctionInfo object at 0x7f137fc6b208>, <lizard.FunctionInfo object at 0x7f137fc6b3c8>, <lizard.FunctionInfo object at 0x7f137fc6b470>, <lizard.FunctionInfo object at 0x7f137fc6b550>, <lizard.FunctionInfo object at 0x7f137fc6b5c0>, <lizard.FunctionInfo object at 0x7f137fc6b668>, <lizard.FunctionInfo object at 0x7f137fc6b6d8>, <lizard.FunctionInfo object at 0x7f137fc6b7b8>, <lizard.FunctionInfo object at 0x7f137fc6b860>, <lizard.FunctionInfo object at 0x7f137fc6b8d0>, <lizard.FunctionInfo object at 0x7f137fc6b978>, <lizard.FunctionInfo object at 0x7f137fc6b7f0>, <lizard.FunctionInfo object at 0x7f137fc6ba58>, <lizard.FunctionInfo object at 0x7f137fc6b9b0>, <lizard.FunctionInfo object at 0x7f137fc6bb70>, <lizard.FunctionInfo object at 0x7f137fc6bc50>, <lizard.FunctionInfo object at 0x7f137fc6bd68>, <lizard.FunctionInfo object at 0x7f137fc6be10>, <lizard.FunctionInfo object at 0x7f137fc6bf28>, <lizard.FunctionInfo object at 0x7f137fc6bef0>, <lizard.FunctionInfo object at 0x7f137fc6bf98>, <lizard.FunctionInfo object at 0x7f137fc70048>, <lizard.FunctionInfo object at 0x7f137fc700b8>, <lizard.FunctionInfo object at 0x7f137fc70160>], 'token_count': 5801}\n"
          ],
          "name": "stdout"
        }
      ]
    },
    {
      "cell_type": "code",
      "metadata": {
        "id": "VPZ8QedNNosG",
        "colab_type": "code",
        "outputId": "6be62c2e-80eb-4fd3-d73c-cb752876f075",
        "colab": {
          "base_uri": "https://localhost:8080/",
          "height": 130
        }
      },
      "source": [
        "for i in range(len(i.function_list)):\n",
        "  "
      ],
      "execution_count": 0,
      "outputs": [
        {
          "output_type": "error",
          "ename": "SyntaxError",
          "evalue": "ignored",
          "traceback": [
            "\u001b[0;36m  File \u001b[0;32m\"<ipython-input-49-9158b71b1056>\"\u001b[0;36m, line \u001b[0;32m1\u001b[0m\n\u001b[0;31m    for i in range(len(i.CCN))\u001b[0m\n\u001b[0m                              ^\u001b[0m\n\u001b[0;31mSyntaxError\u001b[0m\u001b[0;31m:\u001b[0m invalid syntax\n"
          ]
        }
      ]
    },
    {
      "cell_type": "code",
      "metadata": {
        "id": "aKjlOh7rOSSa",
        "colab_type": "code",
        "outputId": "af5b56ff-5896-48e5-b0e9-d973865fd470",
        "colab": {
          "base_uri": "https://localhost:8080/",
          "height": 54
        }
      },
      "source": [
        "print(i.function_list[0].__dict__)"
      ],
      "execution_count": 0,
      "outputs": [
        {
          "output_type": "stream",
          "text": [
            "{'cyclomatic_complexity': 3, 'nloc': 8, 'token_count': 35, 'name': 'func', 'long_name': 'func( )', 'start_line': 1, 'end_line': 10, 'parameters': [], 'filename': 'thing.py', 'top_nesting_level': 0, 'length': 10, 'fan_in': 0, 'fan_out': 0, 'general_fan_out': 0}\n"
          ],
          "name": "stdout"
        }
      ]
    },
    {
      "cell_type": "code",
      "metadata": {
        "id": "yR-WuVsYOd2n",
        "colab_type": "code",
        "outputId": "1db421ee-21a2-457d-c116-b4405ed473df",
        "colab": {
          "base_uri": "https://localhost:8080/",
          "height": 34
        }
      },
      "source": [
        "print(len(i.function_list))"
      ],
      "execution_count": 0,
      "outputs": [
        {
          "output_type": "stream",
          "text": [
            "37\n"
          ],
          "name": "stdout"
        }
      ]
    },
    {
      "cell_type": "code",
      "metadata": {
        "id": "U2aTR9AZOvOq",
        "colab_type": "code",
        "outputId": "93779f00-7215-4d9f-d67b-1d2dd1573d4d",
        "colab": {
          "base_uri": "https://localhost:8080/",
          "height": 34
        }
      },
      "source": [
        "i"
      ],
      "execution_count": 0,
      "outputs": [
        {
          "output_type": "execute_result",
          "data": {
            "text/plain": [
              "<lizard.FileInformation at 0x7f137fc5fc88>"
            ]
          },
          "metadata": {
            "tags": []
          },
          "execution_count": 48
        }
      ]
    },
    {
      "cell_type": "code",
      "metadata": {
        "id": "Ybq-MxTYPCiO",
        "colab_type": "code",
        "outputId": "b520aa56-912f-417f-c634-9440d87c57ce",
        "colab": {
          "base_uri": "https://localhost:8080/",
          "height": 119
        }
      },
      "source": [
        "!metrics thing.py"
      ],
      "execution_count": 0,
      "outputs": [
        {
          "output_type": "stream",
          "text": [
            "Metrics Summary:\n",
            "Files                       Language        SLOC Comment McCabe \n",
            "----- ------------------------------ ----------- ------- ------ \n",
            "    1                         Python          32       0      9 \n",
            "----- ------------------------------ ----------- ------- ------ \n",
            "    1                          Total          32       0      9 \n"
          ],
          "name": "stdout"
        }
      ]
    },
    {
      "cell_type": "code",
      "metadata": {
        "id": "6iPhiFXnP19m",
        "colab_type": "code",
        "outputId": "53ea785e-8cd0-4e45-a70a-d7a91dff1669",
        "colab": {
          "base_uri": "https://localhost:8080/",
          "height": 173
        }
      },
      "source": [
        "thing = lizard.analyze_file(\"thing.py\")\n",
        "print(thing.__dict__)\n",
        "print(thing.CCN)\n",
        "for i in range(len(thing.function_list)):\n",
        "    print(thing.function_list[i].__dict__)\n"
      ],
      "execution_count": 0,
      "outputs": [
        {
          "output_type": "stream",
          "text": [
            "{'filename': 'thing.py', 'nloc': 32, 'function_list': [<lizard.FunctionInfo object at 0x7f47bee93198>, <lizard.FunctionInfo object at 0x7f47bee932e8>, <lizard.FunctionInfo object at 0x7f47bee933c8>, <lizard.FunctionInfo object at 0x7f47bee93630>, <lizard.FunctionInfo object at 0x7f47bee935f8>, <lizard.FunctionInfo object at 0x7f47bee93400>], 'token_count': 145}\n",
            "12\n",
            "{'cyclomatic_complexity': 1, 'nloc': 2, 'token_count': 10, 'name': '__init__', 'long_name': '__init__( self )', 'start_line': 5, 'end_line': 6, 'parameters': ['self'], 'filename': 'thing.py', 'top_nesting_level': 1, 'length': 2, 'fan_in': 0, 'fan_out': 0, 'general_fan_out': 0}\n",
            "{'cyclomatic_complexity': 1, 'nloc': 2, 'token_count': 10, 'name': '__init__', 'long_name': '__init__( self )', 'start_line': 9, 'end_line': 10, 'parameters': ['self'], 'filename': 'thing.py', 'top_nesting_level': 2, 'length': 2, 'fan_in': 0, 'fan_out': 0, 'general_fan_out': 0}\n",
            "{'cyclomatic_complexity': 1, 'nloc': 2, 'token_count': 10, 'name': 'delete', 'long_name': 'delete( self )', 'start_line': 12, 'end_line': 13, 'parameters': ['self'], 'filename': 'thing.py', 'top_nesting_level': 1, 'length': 2, 'fan_in': 0, 'fan_out': 0, 'general_fan_out': 0}\n",
            "{'cyclomatic_complexity': 1, 'nloc': 2, 'token_count': 12, 'name': '__init__', 'long_name': '__init__( self , name )', 'start_line': 16, 'end_line': 17, 'parameters': ['self', 'name'], 'filename': 'thing.py', 'top_nesting_level': 1, 'length': 2, 'fan_in': 0, 'fan_out': 0, 'general_fan_out': 0}\n",
            "{'cyclomatic_complexity': 5, 'nloc': 11, 'token_count': 45, 'name': 'complex_func', 'long_name': 'complex_func( self )', 'start_line': 19, 'end_line': 29, 'parameters': ['self'], 'filename': 'thing.py', 'top_nesting_level': 1, 'length': 11, 'fan_in': 0, 'fan_out': 0, 'general_fan_out': 0}\n",
            "{'cyclomatic_complexity': 3, 'nloc': 8, 'token_count': 35, 'name': 'func', 'long_name': 'func( )', 'start_line': 38, 'end_line': 47, 'parameters': [], 'filename': 'thing.py', 'top_nesting_level': 0, 'length': 10, 'fan_in': 0, 'fan_out': 0, 'general_fan_out': 0}\n"
          ],
          "name": "stdout"
        }
      ]
    },
    {
      "cell_type": "code",
      "metadata": {
        "id": "bAccxclu4pVN",
        "colab_type": "code",
        "outputId": "434e6aaf-7f13-43cd-b91c-fbccf792c65e",
        "colab": {
          "base_uri": "https://localhost:8080/",
          "height": 34
        }
      },
      "source": [
        "thing.filename"
      ],
      "execution_count": 0,
      "outputs": [
        {
          "output_type": "execute_result",
          "data": {
            "text/plain": [
              "'source_code/est.c'"
            ]
          },
          "metadata": {
            "tags": []
          },
          "execution_count": 26
        }
      ]
    },
    {
      "cell_type": "code",
      "metadata": {
        "id": "FDO_C0Yy40k3",
        "colab_type": "code",
        "outputId": "0eb8a1ce-08d0-4ff1-af9b-7dc5383509a4",
        "colab": {
          "base_uri": "https://localhost:8080/",
          "height": 34
        }
      },
      "source": [
        "thing.nloc"
      ],
      "execution_count": 0,
      "outputs": [
        {
          "output_type": "execute_result",
          "data": {
            "text/plain": [
              "1005"
            ]
          },
          "metadata": {
            "tags": []
          },
          "execution_count": 28
        }
      ]
    },
    {
      "cell_type": "code",
      "metadata": {
        "id": "QpZwf-tE403r",
        "colab_type": "code",
        "outputId": "60eda8af-6b8c-4eb8-f964-5823dd8a6fa6",
        "colab": {
          "base_uri": "https://localhost:8080/",
          "height": 34
        }
      },
      "source": [
        "print(thing.functions_average)"
      ],
      "execution_count": 0,
      "outputs": [
        {
          "output_type": "stream",
          "text": [
            "<bound method FileInformation.functions_average of <lizard.FileInformation object at 0x7f5ed935c978>>\n"
          ],
          "name": "stdout"
        }
      ]
    },
    {
      "cell_type": "code",
      "metadata": {
        "id": "xQjQ9krR41H0",
        "colab_type": "code",
        "colab": {}
      },
      "source": [
        ""
      ],
      "execution_count": 0,
      "outputs": []
    },
    {
      "cell_type": "code",
      "metadata": {
        "id": "QSNSF-D7QLwu",
        "colab_type": "code",
        "colab": {}
      },
      "source": [
        "i = lizard.analyze_file.analyze_source_code(\"AllTests.cpp\", \"int foo(){}\")"
      ],
      "execution_count": 0,
      "outputs": []
    },
    {
      "cell_type": "code",
      "metadata": {
        "id": "lGxFXQJWQpt-",
        "colab_type": "code",
        "outputId": "aa37c19d-59c1-4c6f-8505-604ed7dcaa9a",
        "colab": {
          "base_uri": "https://localhost:8080/",
          "height": 85
        }
      },
      "source": [
        "i.__dict__"
      ],
      "execution_count": 0,
      "outputs": [
        {
          "output_type": "execute_result",
          "data": {
            "text/plain": [
              "{'filename': 'AllTests.cpp',\n",
              " 'function_list': [<lizard.FunctionInfo at 0x7f137fbacc18>],\n",
              " 'nloc': 1,\n",
              " 'token_count': 6}"
            ]
          },
          "metadata": {
            "tags": []
          },
          "execution_count": 61
        }
      ]
    },
    {
      "cell_type": "code",
      "metadata": {
        "id": "duDyG-kMQr4f",
        "colab_type": "code",
        "outputId": "283ec169-7807-42e0-b669-1faf7214ddf2",
        "colab": {
          "base_uri": "https://localhost:8080/",
          "height": 34
        }
      },
      "source": [
        "i.CCN"
      ],
      "execution_count": 0,
      "outputs": [
        {
          "output_type": "execute_result",
          "data": {
            "text/plain": [
              "1"
            ]
          },
          "metadata": {
            "tags": []
          },
          "execution_count": 62
        }
      ]
    },
    {
      "cell_type": "code",
      "metadata": {
        "id": "-8xm-5f0QvsQ",
        "colab_type": "code",
        "outputId": "082158ce-7fe6-44e9-d589-e2403081e7fd",
        "colab": {
          "base_uri": "https://localhost:8080/",
          "height": 34
        }
      },
      "source": [
        "lizard.analyze_file.analyze_source_code(\"AllTests.py\", \"def foo():\\n\\tif (True): \\n\\tprint('HI')\").CCN"
      ],
      "execution_count": 0,
      "outputs": [
        {
          "output_type": "execute_result",
          "data": {
            "text/plain": [
              "2"
            ]
          },
          "metadata": {
            "tags": []
          },
          "execution_count": 70
        }
      ]
    },
    {
      "cell_type": "code",
      "metadata": {
        "id": "l5WsVWLDTtlX",
        "colab_type": "code",
        "colab": {}
      },
      "source": [
        "import subprocess\n",
        "import json\n",
        "def add_mccabe_metrics(df, col):\n",
        "    mccabe = []\n",
        "    sloc = []\n",
        "    comments = []\n",
        "    ratio = []\n",
        "    for i in range(len(df)):\n",
        "        if i == 99:\n",
        "            print(\"At file #100\", end=\"\")\n",
        "        if ((i + 1) % 200) == 0:\n",
        "            print(\", file #\" + str(i + 1), end=\"\")\n",
        "        ext = df[\"file_name\"][i].split('.')[-1]\n",
        "        if ext == 'h':\n",
        "            ext = 'c'\n",
        "        with open(f\"temp_file.{ext}\", \"w\", encoding='UTF-8') as fp:\n",
        "            fp.write(df[col][i])\n",
        "        out = subprocess.Popen(['metrics', '-q', '--format=json', f\"temp_file.{ext}\"], \n",
        "                               stdout=subprocess.PIPE, \n",
        "                               stderr=subprocess.STDOUT)\n",
        "        stdout,stderr = out.communicate()\n",
        "        metrics_data = json.loads(stdout)\n",
        "        mccabe.append(metrics_data['files'][f\"temp_file.{ext}\"]['mccabe'])\n",
        "        sloc.append(metrics_data['files'][f\"temp_file.{ext}\"]['sloc'])\n",
        "        comments.append(metrics_data['files'][f\"temp_file.{ext}\"]['comments'])\n",
        "        ratio.append(metrics_data['files'][f\"temp_file.{ext}\"]['ratio_comment_to_code'])\n",
        "#         print(mccabe_data['files'][f'temp_file.{LANGUAGE}'].keys())\n",
        "        os.remove(f\"temp_file.{ext}\")\n",
        "    df[\"complexity\"] = mccabe\n",
        "    df[\"code_lines\"] = sloc\n",
        "    df[\"comments\"] = comments\n",
        "    df[\"ratio_comment_to_code\"] = ratio\n",
        "    return df"
      ],
      "execution_count": 0,
      "outputs": []
    }
  ]
}