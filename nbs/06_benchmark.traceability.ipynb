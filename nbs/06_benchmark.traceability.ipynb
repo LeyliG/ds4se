{
 "cells": [
  {
   "cell_type": "code",
   "execution_count": null,
   "metadata": {},
   "outputs": [],
   "source": [
    "# default_exp benchmark.traceability"
   ]
  },
  {
   "cell_type": "code",
   "execution_count": null,
   "metadata": {},
   "outputs": [],
   "source": [
    "# hide\n",
    "%load_ext autoreload\n",
    "%autoreload 2"
   ]
  },
  {
   "cell_type": "markdown",
   "metadata": {},
   "source": [
    "# Traceability Benchmark\n",
    "\n",
    "> This module is dedicated benchmarking"
   ]
  },
  {
   "cell_type": "code",
   "execution_count": null,
   "metadata": {},
   "outputs": [],
   "source": [
    "#export\n",
    "# Imports\n",
    "import matplotlib.pyplot as plt\n",
    "import pandas as pd\n",
    "import sentencepiece as sp\n",
    "\n",
    "# ds4se\n",
    "from ds4se.data.preprocessing import *\n",
    "from ds4se.data.exploratory.information import *\n",
    "from ds4se.data.exploratory.stats import *\n",
    "\n",
    "from pathlib import Path"
   ]
  },
  {
   "cell_type": "code",
   "execution_count": null,
   "metadata": {},
   "outputs": [],
   "source": [
    "#hide\n",
    "from nbdev.showdoc import *"
   ]
  },
  {
   "cell_type": "code",
   "execution_count": null,
   "metadata": {},
   "outputs": [],
   "source": [
    "path = Path('../benchmarking/traceability/')"
   ]
  },
  {
   "cell_type": "markdown",
   "metadata": {},
   "source": [
    "## BPE Testbed"
   ]
  },
  {
   "cell_type": "code",
   "execution_count": null,
   "metadata": {},
   "outputs": [],
   "source": [
    "english_bpe = 'english_bpe'\n",
    "italian_bpe = 'italian_bpe'"
   ]
  },
  {
   "cell_type": "code",
   "execution_count": null,
   "metadata": {},
   "outputs": [],
   "source": [
    "sp_model_from_glob(path/'datasets/english','*/*all*', english_bpe)\n",
    "sp_model_from_glob(path/'datasets/italian','*/*all*', italian_bpe)"
   ]
  },
  {
   "cell_type": "code",
   "execution_count": null,
   "metadata": {},
   "outputs": [
    {
     "data": {
      "text/plain": [
       "PosixPath('../benchmarking/traceability/datasets')"
      ]
     },
     "execution_count": null,
     "metadata": {},
     "output_type": "execute_result"
    }
   ],
   "source": [
    "path/'datasets'"
   ]
  },
  {
   "cell_type": "code",
   "execution_count": null,
   "metadata": {},
   "outputs": [],
   "source": [
    "def output_bpe_tokenization(path, languages):\n",
    "    for language in languages:\n",
    "        req_fns = list((path/'datasets'/language).glob('**/*req]'))\n",
    "        src_fns = list((path/'datasets'/language).glob('**/*src]'))\n",
    "        tc_fns = list((path/'datasets'/language).glob('**/*tc]'))\n",
    "\n",
    "        spm = sp.SentencePieceProcessor()\n",
    "        spm.Load(str((path/'datasets'/language/f\"{language}_bpe.model\")))\n",
    "        \n",
    "        output = path/'testbeds'/'bpe'/language\n",
    "        req_docs = tokenize_fns(req_fns, spm, ['txt'], output, 'req')\n",
    "        src_docs = tokenize_fns(src_fns, spm, ['c', 'java'], output, 'src')\n",
    "        tc_docs = tokenize_fns(tc_fns, spm, ['c', 'java'], output, 'tc')"
   ]
  },
  {
   "cell_type": "code",
   "execution_count": null,
   "metadata": {},
   "outputs": [],
   "source": [
    "languages = ['english', 'italian']\n",
    "output_bpe_tokenization(path, languages)"
   ]
  },
  {
   "cell_type": "code",
   "execution_count": null,
   "metadata": {},
   "outputs": [],
   "source": []
  },
  {
   "cell_type": "markdown",
   "metadata": {},
   "source": [
    "# Entropy Benchmark"
   ]
  },
  {
   "cell_type": "markdown",
   "metadata": {},
   "source": [
    "## Read in the data"
   ]
  },
  {
   "cell_type": "code",
   "execution_count": null,
   "metadata": {},
   "outputs": [],
   "source": []
  },
  {
   "cell_type": "code",
   "execution_count": null,
   "metadata": {},
   "outputs": [],
   "source": []
  },
  {
   "cell_type": "code",
   "execution_count": null,
   "metadata": {},
   "outputs": [],
   "source": []
  },
  {
   "cell_type": "code",
   "execution_count": null,
   "metadata": {},
   "outputs": [],
   "source": []
  },
  {
   "cell_type": "code",
   "execution_count": null,
   "metadata": {},
   "outputs": [],
   "source": []
  },
  {
   "cell_type": "code",
   "execution_count": null,
   "metadata": {},
   "outputs": [],
   "source": []
  },
  {
   "cell_type": "code",
   "execution_count": null,
   "metadata": {},
   "outputs": [],
   "source": []
  },
  {
   "cell_type": "code",
   "execution_count": null,
   "metadata": {},
   "outputs": [],
   "source": []
  },
  {
   "cell_type": "markdown",
   "metadata": {},
   "source": [
    "# SCRATCH WORK"
   ]
  },
  {
   "cell_type": "code",
   "execution_count": null,
   "metadata": {},
   "outputs": [],
   "source": [
    "\n",
    "for language in languages:\n",
    "    req_fns = list((path/'datasets'/language).glob('**/*req]'))\n",
    "    src_fns = list((path/'datasets'/language).glob('**/*src]'))\n",
    "    tst_fns = list((path/'datasets'/language).glob('**/*tc]'))\n",
    "    \n",
    "    spm = sp.SentencePieceProcessor()\n",
    "    spm.Load(str((path/'datasets'/language/f\"{model_name}_bpe.model\"))\\\n",
    "    \n",
    "    all_fns = flatten(req_fns + src_fns + tst_fns)\n",
    "    all_docs = tokenize_fns(all_fns, spm)"
   ]
  },
  {
   "cell_type": "code",
   "execution_count": null,
   "metadata": {},
   "outputs": [
    {
     "data": {
      "text/plain": [
       "([PosixPath('../benchmarking/traceability/datasets/english/libest/[libest-raw-req]'),\n",
       "  PosixPath('../benchmarking/traceability/datasets/english/itrust/[itrust-raw-req]')],\n",
       " [PosixPath('../benchmarking/traceability/datasets/english/libest/[libest-raw-src]'),\n",
       "  PosixPath('../benchmarking/traceability/datasets/english/itrust/[itrust-raw-src]')],\n",
       " [PosixPath('../benchmarking/traceability/datasets/english/libest/[libest-raw-tc]')])"
      ]
     },
     "execution_count": null,
     "metadata": {},
     "output_type": "execute_result"
    }
   ],
   "source": [
    "req_fns = list((path/'datasets/english').glob('**/*req]'))\n",
    "src_fns = list((path/'datasets/english').glob('**/*src]'))\n",
    "tst_fns = list((path/'datasets/english').glob('**/*tc]'))\n",
    "req_fns[:5], src_fns[:5], tst_fns[:5]"
   ]
  },
  {
   "cell_type": "code",
   "execution_count": null,
   "metadata": {},
   "outputs": [],
   "source": []
  },
  {
   "cell_type": "code",
   "execution_count": null,
   "metadata": {},
   "outputs": [],
   "source": []
  },
  {
   "cell_type": "code",
   "execution_count": null,
   "metadata": {},
   "outputs": [],
   "source": [
    "all_fns = flatten(req_fns + src_fns + tst_fns)\n",
    "all_docs = tokenize_fns(all_fns, spm)"
   ]
  },
  {
   "cell_type": "code",
   "execution_count": null,
   "metadata": {},
   "outputs": [],
   "source": [
    "req_docs = "
   ]
  },
  {
   "cell_type": "code",
   "execution_count": null,
   "metadata": {},
   "outputs": [],
   "source": []
  },
  {
   "cell_type": "code",
   "execution_count": null,
   "metadata": {},
   "outputs": [],
   "source": []
  },
  {
   "cell_type": "code",
   "execution_count": null,
   "metadata": {},
   "outputs": [],
   "source": []
  },
  {
   "cell_type": "code",
   "execution_count": null,
   "metadata": {},
   "outputs": [],
   "source": []
  },
  {
   "cell_type": "code",
   "execution_count": null,
   "metadata": {},
   "outputs": [
    {
     "data": {
      "text/plain": [
       "'libest'"
      ]
     },
     "execution_count": null,
     "metadata": {},
     "output_type": "execute_result"
    }
   ],
   "source": [
    "src_fns[0].parent.name"
   ]
  },
  {
   "cell_type": "code",
   "execution_count": null,
   "metadata": {},
   "outputs": [
    {
     "data": {
      "text/plain": [
       "[PosixPath('../benchmarking/traceability/datasets/italian/smos/[smos-raw-src]'),\n",
       " PosixPath('../benchmarking/traceability/datasets/italian/smos/[smos-raw-req]'),\n",
       " PosixPath('../benchmarking/traceability/datasets/italian/smos/[smos-all].txt'),\n",
       " PosixPath('../benchmarking/traceability/datasets/italian/albergate/[albergate-all].txt'),\n",
       " PosixPath('../benchmarking/traceability/datasets/italian/albergate/[albergate-raw-src]'),\n",
       " PosixPath('../benchmarking/traceability/datasets/italian/albergate/[albergate-raw-req]'),\n",
       " PosixPath('../benchmarking/traceability/datasets/italian/ebt/[ebt-all].txt'),\n",
       " PosixPath('../benchmarking/traceability/datasets/italian/ebt/[ebt-raw-src]'),\n",
       " PosixPath('../benchmarking/traceability/datasets/italian/ebt/[ebt-raw-tc].txt'),\n",
       " PosixPath('../benchmarking/traceability/datasets/italian/ebt/[ebt-raw-req].txt'),\n",
       " PosixPath('../benchmarking/traceability/datasets/italian/etour/[etour-raw-src]'),\n",
       " PosixPath('../benchmarking/traceability/datasets/italian/etour/[etour-raw-req]'),\n",
       " PosixPath('../benchmarking/traceability/datasets/italian/etour/[etour-all].txt')]"
      ]
     },
     "execution_count": null,
     "metadata": {},
     "output_type": "execute_result"
    }
   ],
   "source": [
    "list(path.glob('datasets/italian/*/*'))"
   ]
  },
  {
   "cell_type": "code",
   "execution_count": null,
   "metadata": {},
   "outputs": [],
   "source": []
  },
  {
   "cell_type": "code",
   "execution_count": null,
   "metadata": {},
   "outputs": [],
   "source": []
  },
  {
   "cell_type": "code",
   "execution_count": null,
   "metadata": {},
   "outputs": [],
   "source": [
    "from nbdev.export import notebook2script\n",
    "notebook2script()"
   ]
  }
 ],
 "metadata": {
  "kernelspec": {
   "display_name": "Python 3",
   "language": "python",
   "name": "python3"
  }
 },
 "nbformat": 4,
 "nbformat_minor": 2
}
