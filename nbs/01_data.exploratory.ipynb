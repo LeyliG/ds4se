{
  "nbformat": 4,
  "nbformat_minor": 0,
  "metadata": {
    "kernelspec": {
      "display_name": "Python 3",
      "language": "python",
      "name": "python3"
    },
    "language_info": {
      "codemirror_mode": {
        "name": "ipython",
        "version": 3
      },
      "file_extension": ".py",
      "mimetype": "text/x-python",
      "name": "python",
      "nbconvert_exporter": "python",
      "pygments_lexer": "ipython3",
      "version": "3.6.8"
    },
    "colab": {
      "name": "01_data.exploratory.ipynb",
      "provenance": [],
      "toc_visible": true
    }
  },
  "cells": [
    {
      "cell_type": "code",
      "metadata": {
        "id": "U126SlRFD_uB",
        "colab_type": "code",
        "colab": {}
      },
      "source": [
        "# default_exp data.exploratory"
      ],
      "execution_count": 0,
      "outputs": []
    },
    {
      "cell_type": "markdown",
      "metadata": {
        "id": "bbi0boL5D_uQ",
        "colab_type": "text"
      },
      "source": [
        "# Exploration of your data\n",
        "\n",
        "> This module comprises all the statistical and inference techniques to describe the inner properties of software data. The submodules might include:\n",
        ">\n",
        "> - Descriptive statistics\n",
        "> - Software Metrics\n",
        "> - Information Theory\n",
        "> - Learning Principels Detection (Occams' Razor, Biased data, and Data Snooping)\n",
        "> - Inference: Probabilistic and Causal"
      ]
    },
    {
      "cell_type": "code",
      "metadata": {
        "id": "Y-sHbVxx1_-E",
        "colab_type": "code",
        "colab": {}
      },
      "source": [
        "# export\n",
        "# Imports\n",
        "import pandas as pd\n",
        "# import sentencepiece as sp"
      ],
      "execution_count": 0,
      "outputs": []
    },
    {
      "cell_type": "code",
      "metadata": {
        "id": "EirQw8HqD_uT",
        "colab_type": "code",
        "colab": {}
      },
      "source": [
        "#hide\n",
        "from nbdev.showdoc import *"
      ],
      "execution_count": 0,
      "outputs": []
    },
    {
      "cell_type": "code",
      "metadata": {
        "id": "6TFOIobLD_ue",
        "colab_type": "code",
        "outputId": "8d087548-f780-4928-bac2-4fdc7d99ad7f",
        "colab": {
          "base_uri": "https://localhost:8080/",
          "height": 34
        }
      },
      "source": [
        "#Import dataframe from MongoDB\n",
        "def get_dataframes_from_mongo():\n",
        "  requirements = {'file_name': [], 'contents': []}\n",
        "  for file in os.listdir(./requirements):\n",
        "    print(file)\n",
        "  source_code = {'file_name': [], 'contents': []}\n",
        "  for line in \n",
        "  req_df = pd.DataFrame(data = )\n",
        "  src_df = pd.DataFrame(data = )\n",
        "\n",
        "  return req_df, src_df"
      ],
      "execution_count": 0,
      "outputs": [
        {
          "output_type": "stream",
          "text": [
            "This is test code, please ignore!\n"
          ],
          "name": "stdout"
        }
      ]
    },
    {
      "cell_type": "code",
      "metadata": {
        "id": "_gy9Mn-h2oPi",
        "colab_type": "code",
        "colab": {
          "base_uri": "https://localhost:8080/",
          "height": 71
        },
        "outputId": "1a35f706-bf5d-413c-9141-f302a14672ea"
      },
      "source": [
        "import os\n",
        "print(os.getcwd())\n",
        "print(os.listdir(os.getcwd() + '/requirements'))"
      ],
      "execution_count": 22,
      "outputs": [
        {
          "output_type": "stream",
          "text": [
            "/content\n",
            "['RQ11.txt', 'RQ24.txt', 'RQ38.txt', 'RQ4.txt', 'RQ18.txt', 'RQ22.txt', 'RQ21.txt', 'RQ26.txt', 'RQ40.txt', 'RQ58.txt', 'RQ37.txt', 'RQ39.txt', 'RQ14.txt', 'RQ7.txt', 'RQ31.txt', 'RQ56.txt', 'RQ48.txt', 'RQ9.txt', 'RQ45.txt', 'RQ36.txt', 'RQ33.txt', 'RQ57.txt', 'RQ51.txt', 'RQ16.txt', 'RQ5.txt', 'RQ29.txt', 'RQ19.txt', 'RQ34.txt', 'RQ25.txt', 'RQ32.txt', 'RQ46.txt', 'RQ13.txt', 'RQ53.txt', 'RQ15.txt', 'RQ20.txt', 'RQ50.txt', 'RQ2.txt', 'RQ27.txt', 'RQ8.txt', 'RQ55.txt', 'RQ35.txt', 'RQ23.txt', 'RQ17.txt', 'RQ49.txt', 'RQ42.txt', 'RQ28.txt', 'RQ41.txt', 'RQ10.txt', 'RQ1.txt', 'RQ6.txt', 'RQ52.txt', 'RQ47.txt']\n"
          ],
          "name": "stdout"
        }
      ]
    },
    {
      "cell_type": "code",
      "metadata": {
        "id": "UJxMpyFn2oUJ",
        "colab_type": "code",
        "colab": {}
      },
      "source": [
        ""
      ],
      "execution_count": 0,
      "outputs": []
    },
    {
      "cell_type": "code",
      "metadata": {
        "id": "mXSfVlVo2oYS",
        "colab_type": "code",
        "colab": {}
      },
      "source": [
        ""
      ],
      "execution_count": 0,
      "outputs": []
    },
    {
      "cell_type": "code",
      "metadata": {
        "id": "WATI7Fng2PdI",
        "colab_type": "code",
        "colab": {}
      },
      "source": [
        "Run metrics"
      ],
      "execution_count": 0,
      "outputs": []
    },
    {
      "cell_type": "code",
      "metadata": {
        "id": "SU3QLYSd2RAo",
        "colab_type": "code",
        "colab": {}
      },
      "source": [
        "Visualize"
      ],
      "execution_count": 0,
      "outputs": []
    },
    {
      "cell_type": "code",
      "metadata": {
        "id": "KFr71USN2Sod",
        "colab_type": "code",
        "colab": {}
      },
      "source": [
        "Push updated fields to Mongo"
      ],
      "execution_count": 0,
      "outputs": []
    }
  ]
}