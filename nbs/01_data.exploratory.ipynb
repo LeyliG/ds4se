{
  "nbformat": 4,
  "nbformat_minor": 0,
  "metadata": {
    "kernelspec": {
      "display_name": "Python 3",
      "language": "python",
      "name": "python3"
    },
    "language_info": {
      "codemirror_mode": {
        "name": "ipython",
        "version": 3
      },
      "file_extension": ".py",
      "mimetype": "text/x-python",
      "name": "python",
      "nbconvert_exporter": "python",
      "pygments_lexer": "ipython3",
      "version": "3.6.8"
    },
    "colab": {
      "name": "01_data.exploratory.ipynb",
      "provenance": [],
      "toc_visible": true
    }
  },
  "cells": [
    {
      "cell_type": "code",
      "metadata": {
        "id": "U126SlRFD_uB",
        "colab_type": "code",
        "colab": {}
      },
      "source": [
        "# default_exp data.exploratory"
      ],
      "execution_count": 0,
      "outputs": []
    },
    {
      "cell_type": "markdown",
      "metadata": {
        "id": "bbi0boL5D_uQ",
        "colab_type": "text"
      },
      "source": [
        "# Exploration of your data\n",
        "\n",
        "> This module comprises all the statistical and inference techniques to describe the inner properties of software data. The submodules might include:\n",
        ">\n",
        "> - Descriptive statistics\n",
        "> - Software Metrics\n",
        "> - Information Theory\n",
        "> - Learning Principels Detection (Occams' Razor, Biased data, and Data Snooping)\n",
        "> - Inference: Probabilistic and Causal"
      ]
    },
    {
      "cell_type": "code",
      "metadata": {
        "id": "O6q5FioqIt8S",
        "colab_type": "code",
        "outputId": "a2c3b2fc-a33a-4d78-c827-5c770df24828",
        "colab": {
          "base_uri": "https://localhost:8080/",
          "height": 258
        }
      },
      "source": [
        "!pip install dit\n",
        "!pip install sentencepiece"
      ],
      "execution_count": 2,
      "outputs": [
        {
          "output_type": "stream",
          "text": [
            "Requirement already satisfied: dit in /usr/local/lib/python3.6/dist-packages (1.2.3)\n",
            "Requirement already satisfied: scipy>=0.15.0 in /usr/local/lib/python3.6/dist-packages (from dit) (1.4.1)\n",
            "Requirement already satisfied: networkx in /usr/local/lib/python3.6/dist-packages (from dit) (2.4)\n",
            "Requirement already satisfied: contextlib2 in /usr/local/lib/python3.6/dist-packages (from dit) (0.5.5)\n",
            "Requirement already satisfied: numpy>=1.11 in /usr/local/lib/python3.6/dist-packages (from dit) (1.17.5)\n",
            "Requirement already satisfied: boltons in /usr/local/lib/python3.6/dist-packages (from dit) (20.0.0)\n",
            "Requirement already satisfied: debtcollector in /usr/local/lib/python3.6/dist-packages (from dit) (2.0.0)\n",
            "Requirement already satisfied: six>=1.4.0 in /usr/local/lib/python3.6/dist-packages (from dit) (1.12.0)\n",
            "Requirement already satisfied: prettytable in /usr/local/lib/python3.6/dist-packages (from dit) (0.7.2)\n",
            "Requirement already satisfied: decorator>=4.3.0 in /usr/local/lib/python3.6/dist-packages (from networkx->dit) (4.4.1)\n",
            "Requirement already satisfied: wrapt>=1.7.0 in /usr/local/lib/python3.6/dist-packages (from debtcollector->dit) (1.11.2)\n",
            "Requirement already satisfied: pbr!=2.1.0,>=2.0.0 in /usr/local/lib/python3.6/dist-packages (from debtcollector->dit) (5.4.4)\n",
            "Requirement already satisfied: sentencepiece in /usr/local/lib/python3.6/dist-packages (0.1.85)\n"
          ],
          "name": "stdout"
        }
      ]
    },
    {
      "cell_type": "code",
      "metadata": {
        "id": "Y-sHbVxx1_-E",
        "colab_type": "code",
        "colab": {}
      },
      "source": [
        "# export\n",
        "# Imports\n",
        "import pandas as pd\n",
        "import sentencepiece as sp\n",
        "import dit\n",
        "\n",
        "from collections import Counter\n",
        "from scipy.stats import sem, t\n",
        "from numpy import mean\n",
        "from numpy import std\n",
        "import statistics as stat\n",
        "import matplotlib.pyplot as plt\n",
        "\n",
        "\n",
        "# TODO: Remove when mongo call is implemented\n",
        "import os"
      ],
      "execution_count": 0,
      "outputs": []
    },
    {
      "cell_type": "code",
      "metadata": {
        "id": "EirQw8HqD_uT",
        "colab_type": "code",
        "colab": {}
      },
      "source": [
        "# #hide\n",
        "# from nbdev.showdoc import *"
      ],
      "execution_count": 0,
      "outputs": []
    },
    {
      "cell_type": "code",
      "metadata": {
        "id": "6TFOIobLD_ue",
        "colab_type": "code",
        "colab": {}
      },
      "source": [
        "# TODO: Replace with actual mongo call\n",
        "def simulate_getting_dataframes_from_mongo():\n",
        "    corpus_data = {'file_name': [], 'data_type': [], 'contents': []}\n",
        "    path = \"./requirements\"\n",
        "    for file in os.listdir(path):\n",
        "        corpus_data['file_name'].append(file)\n",
        "        corpus_data['data_type'].append('req')\n",
        "        with open (os.path.join(path, file), \"r\") as f:\n",
        "            corpus_data['contents'].append(f.read())\n",
        "    path = \"./source_code\"\n",
        "    for file in os.listdir(path):\n",
        "        corpus_data['file_name'].append(file)\n",
        "        corpus_data['data_type'].append('src')\n",
        "        with open (os.path.join(path, file), \"r\") as f:\n",
        "            corpus_data['contents'].append(f.read())\n",
        "    path = \"./tests\"\n",
        "    for file in os.listdir(path):\n",
        "        corpus_data['file_name'].append(file)\n",
        "        corpus_data['data_type'].append('test')\n",
        "        with open (os.path.join(path, file), \"r\") as f:\n",
        "            corpus_data['contents'].append(f.read())\n",
        "    corpus_df = pd.DataFrame(data = corpus_data)\n",
        "    return corpus_df"
      ],
      "execution_count": 0,
      "outputs": []
    },
    {
      "cell_type": "code",
      "metadata": {
        "id": "_gy9Mn-h2oPi",
        "colab_type": "code",
        "colab": {}
      },
      "source": [
        "# export\n",
        "def df_to_txt_file(df, output, cols):\n",
        "    \"\"\"Converts a dataframe into a text file that SentencePiece can use to train a BPE model\"\"\"\n",
        "    if cols is None: cols = list(df.columns)\n",
        "    merged_df = pd.concat([df[col] for col in cols])\n",
        "    \n",
        "    with open(output + '_text.txt', 'w') as f:\n",
        "        f.write('\\n'.join(list(merged_df)))\n",
        "    return output + '_text.txt'"
      ],
      "execution_count": 0,
      "outputs": []
    },
    {
      "cell_type": "code",
      "metadata": {
        "id": "AGfft5S6IldP",
        "colab_type": "code",
        "colab": {}
      },
      "source": [
        "# export\n",
        "def gen_sp_model(df, output, model_name, cols=None):\n",
        "    \"\"\"Trains a SentencePiece BPE model from a pandas dataframe\"\"\"\n",
        "    fname = df_to_txt_file(df, output, cols)\n",
        "    sp.SentencePieceTrainer.train(f'--input={fname} --model_prefix={output + model_name} --hard_vocab_limit=false --model_type=bpe')\n",
        "    return output + model_name"
      ],
      "execution_count": 0,
      "outputs": []
    },
    {
      "cell_type": "code",
      "metadata": {
        "id": "A_NEGx9_cHsQ",
        "colab_type": "code",
        "colab": {}
      },
      "source": [
        "# export\n",
        "def encode_text(text, model_prefix):\n",
        "    '''Encodes text using a pre-trained sp model, returns the occurrences of each token in the text'''\n",
        "    sp_processor = sp.SentencePieceProcessor()\n",
        "    sp_processor.Load(f\"{model_prefix}.model\")\n",
        "    token_counts = Counter()\n",
        "    encoding = sp_processor.encode_as_pieces(text)\n",
        "    for piece in encoding:\n",
        "        token_counts[piece] += 1\n",
        "    return token_counts"
      ],
      "execution_count": 0,
      "outputs": []
    },
    {
      "cell_type": "code",
      "metadata": {
        "id": "25Ew5a3RuVf5",
        "colab_type": "code",
        "colab": {}
      },
      "source": [
        "def dit_shannon(token_counts):\n",
        "    '''Takes in a counter object of token occurrences, computes the entropy of the corpus that produced it'''\n",
        "    num_tokens = 0\n",
        "    for token in token_counts:\n",
        "        num_tokens += token_counts[token]\n",
        "    outcomes = list(set(token_counts.elements()))\n",
        "    frequencies = []\n",
        "    for token in token_counts:\n",
        "        frequencies.append((token_counts[token])/num_tokens)\n",
        "    d = dit.ScalarDistribution(outcomes, frequencies)\n",
        "    return dit.shannon.entropy(d)"
      ],
      "execution_count": 0,
      "outputs": []
    },
    {
      "cell_type": "code",
      "metadata": {
        "id": "yFW6FFo9qew-",
        "colab_type": "code",
        "colab": {}
      },
      "source": [
        "def entropies_of_df_entries(df, col, model_prefix):\n",
        "    '''Returns a list of the entropies of each entry in a dataframe column'''\n",
        "    entropies = []\n",
        "    for data in df[col]:\n",
        "        token_counts= encode_text(data, model_prefix)\n",
        "        entropies.append(dit_shannon(token_counts))\n",
        "    return entropies"
      ],
      "execution_count": 0,
      "outputs": []
    },
    {
      "cell_type": "code",
      "metadata": {
        "id": "II374cPv4otR",
        "colab_type": "code",
        "colab": {}
      },
      "source": [
        "# TODO: Finish this such that is finds the entropy of the entire corpus \\\n",
        "#       and preserves the individual token frequencies so that we can   \\\n",
        "#      compute the most common tokens\n",
        "\n",
        "# def entropy_of_whole_corpus(df, col, model_prefix):\n",
        "#     '''Returns a dictionary of the entropies of each token in a dataframe corpus'''\n",
        "#     entropies = {}\n",
        "#     token_counts = encode_text(pd.concat[col], model_prefix)\n",
        "#     entropies.append(dit_shannon(token_counts))\n",
        "#     return entropies"
      ],
      "execution_count": 0,
      "outputs": []
    },
    {
      "cell_type": "code",
      "metadata": {
        "id": "Q9KbUN3qhDPm",
        "colab_type": "code",
        "colab": {}
      },
      "source": [
        "# export\n",
        "# TODO: Do we need this function?\n",
        "import math\n",
        "def manual_shannon(token_freqs):\n",
        "    sum = 0\n",
        "    for i in token_freqs:\n",
        "        sum += i * math.log(1/i, 2)\n",
        "    return sum"
      ],
      "execution_count": 0,
      "outputs": []
    },
    {
      "cell_type": "code",
      "metadata": {
        "id": "hMrQhFX8mpvd",
        "colab_type": "code",
        "colab": {}
      },
      "source": [
        "#export\n",
        "# TODO: Do we need this function?\n",
        "def sort_token_data(token_data):\n",
        "    return sorted(token_data.items() ,  key=lambda x: x[1][\"Occurrences\"])"
      ],
      "execution_count": 0,
      "outputs": []
    },
    {
      "cell_type": "markdown",
      "metadata": {
        "id": "-O1nGNb_0Cxm",
        "colab_type": "text"
      },
      "source": [
        "# EXPLORATORY ANALYSIS"
      ]
    },
    {
      "cell_type": "markdown",
      "metadata": {
        "id": "5nvEgzwK1EQE",
        "colab_type": "text"
      },
      "source": [
        "## LIBest Corpus"
      ]
    },
    {
      "cell_type": "code",
      "metadata": {
        "id": "nQY0L10G1S0H",
        "colab_type": "code",
        "colab": {}
      },
      "source": [
        "# Create a dataframe of the requirements, source code and test case data for LIBest\n",
        "# Create a sentencepiece model using the entire LIBest corpus\n",
        "LIB_corpus_df = simulate_getting_dataframes_from_mongo()\n",
        "LIB_model = gen_sp_model(LIB_corpus_df, output='LIBest', model_name='_sp_bpe_modal', cols=['contents'])"
      ],
      "execution_count": 0,
      "outputs": []
    },
    {
      "cell_type": "markdown",
      "metadata": {
        "id": "UzCajrQm4Kbr",
        "colab_type": "text"
      },
      "source": [
        "## Looking at Individual Files"
      ]
    },
    {
      "cell_type": "code",
      "metadata": {
        "id": "UJxMpyFn2oUJ",
        "colab_type": "code",
        "colab": {}
      },
      "source": [
        "# Use the model to compute each file's entropy\n",
        "LIB_entropies = entropies_of_df_entries(LIB_corpus_df, 'contents', LIB_model)"
      ],
      "execution_count": 0,
      "outputs": []
    },
    {
      "cell_type": "code",
      "metadata": {
        "id": "OoUfTdJo1-Wh",
        "colab_type": "code",
        "colab": {
          "base_uri": "https://localhost:8080/",
          "height": 119
        },
        "outputId": "fd617f2f-6d01-4976-a1f9-d25dea4a5ccf"
      },
      "source": [
        "# Calculate metrics on the LIBest corpus entropies\n",
        "print(\"Max entropy:\", max(LIB_entropies))\n",
        "print(\"Min entropy:\", min(LIB_entropies))\n",
        "print(\"Average entropy:\", mean(LIB_entropies))\n",
        "print(\"Median entropy:\", stat.median(LIB_entropies))\n",
        "\n",
        "print(\"Entropy Standard Deviation:\", std(LIB_entropies))\n",
        "\n",
        "confidence = 0.95\n",
        "n = len(LIB_entropies)\n",
        "m = mean(LIB_entropies)\n",
        "std_err = sem(LIB_entropies)\n",
        "h = std_err * t.ppf((1 + confidence) / 2, n - 1)\n",
        "\n",
        "start = m - h\n",
        "end = m + h\n",
        "print(f\"95% of entropies fall within {start} and {end}\")"
      ],
      "execution_count": 16,
      "outputs": [
        {
          "output_type": "stream",
          "text": [
            "Max entropy: 8.737176307586141\n",
            "Min entropy: 3.979797585487148\n",
            "Average entropy: 6.910210324792078\n",
            "Median entropy: 7.086176924292342\n",
            "Entropy Standard Deviation: 1.0693292402540278\n",
            "95% of entropies fall within 6.680984141366826 and 7.1394365082173294\n"
          ],
          "name": "stdout"
        }
      ]
    },
    {
      "cell_type": "code",
      "metadata": {
        "id": "bTxSsPyD2M32",
        "colab_type": "code",
        "colab": {
          "base_uri": "https://localhost:8080/",
          "height": 279
        },
        "outputId": "289d315f-6bfd-4ca8-d06b-87061acb4180"
      },
      "source": [
        "# Create a histogram of the entropy distribution\n",
        "plt.hist(LIB_entropies, bins = 20)\n",
        "plt.ylabel(\"Num Files\")\n",
        "plt.xlabel(\"Entropy\")\n",
        "plt.show()"
      ],
      "execution_count": 17,
      "outputs": [
        {
          "output_type": "display_data",
          "data": {
            "image/png": "[encoded data removed]",
            "text/plain": [
              "<Figure size 432x288 with 1 Axes>"
            ]
          },
          "metadata": {
            "tags": []
          }
        }
      ]
    },
    {
      "cell_type": "markdown",
      "metadata": {
        "id": "DDQ-_75T4Q1-",
        "colab_type": "text"
      },
      "source": [
        "## Looking at the Corpus as a Whole"
      ]
    },
    {
      "cell_type": "code",
      "metadata": {
        "id": "aJb-RUyA2Z0t",
        "colab_type": "code",
        "colab": {}
      },
      "source": [
        ""
      ],
      "execution_count": 0,
      "outputs": []
    },
    {
      "cell_type": "code",
      "metadata": {
        "id": "YhGd4Xfm2aHk",
        "colab_type": "code",
        "colab": {}
      },
      "source": [
        ""
      ],
      "execution_count": 0,
      "outputs": []
    },
    {
      "cell_type": "code",
      "metadata": {
        "id": "sSNV2yTV2a32",
        "colab_type": "code",
        "colab": {}
      },
      "source": [
        ""
      ],
      "execution_count": 0,
      "outputs": []
    },
    {
      "cell_type": "code",
      "metadata": {
        "id": "OBrJFutD2aow",
        "colab_type": "code",
        "colab": {}
      },
      "source": [
        ""
      ],
      "execution_count": 0,
      "outputs": []
    },
    {
      "cell_type": "code",
      "metadata": {
        "id": "d00NLqvY2aky",
        "colab_type": "code",
        "colab": {}
      },
      "source": [
        ""
      ],
      "execution_count": 0,
      "outputs": []
    },
    {
      "cell_type": "code",
      "metadata": {
        "id": "DFMXcM5v2acU",
        "colab_type": "code",
        "colab": {}
      },
      "source": [
        ""
      ],
      "execution_count": 0,
      "outputs": []
    },
    {
      "cell_type": "code",
      "metadata": {
        "id": "sXe1MhQ92aZt",
        "colab_type": "code",
        "colab": {}
      },
      "source": [
        ""
      ],
      "execution_count": 0,
      "outputs": []
    },
    {
      "cell_type": "code",
      "metadata": {
        "id": "cHB0GmQb2aRN",
        "colab_type": "code",
        "colab": {}
      },
      "source": [
        ""
      ],
      "execution_count": 0,
      "outputs": []
    },
    {
      "cell_type": "markdown",
      "metadata": {
        "id": "ghxhH7YS0Pd3",
        "colab_type": "text"
      },
      "source": [
        "# Scratch Code (Testing)"
      ]
    },
    {
      "cell_type": "code",
      "metadata": {
        "id": "V0S874aVu5cl",
        "colab_type": "code",
        "colab": {
          "base_uri": "https://localhost:8080/",
          "height": 34
        },
        "outputId": "eb2a21fa-351f-45c8-cdfc-2586d5e83e35"
      },
      "source": [
        "from collections import Counter\n",
        "tok_counts = Counter()\n",
        "tok_counts['hi'] += 1\n",
        "tok_counts['ooooo'] += 1\n",
        "tok_counts['ooooo'] += 1\n",
        "# print(p)\n",
        "# print(len(p))\n",
        "# for i in p.elements():\n",
        "#   print(i)\n",
        "print(list(set(tok_counts.elements())))\n",
        "\n",
        "\n",
        "\n",
        "num_tokens = 3\n",
        "frequencies = [count/num_tokens for token in outcomes for count in ]"
      ],
      "execution_count": 11,
      "outputs": [
        {
          "output_type": "stream",
          "text": [
            "['ooooo', 'hi']\n"
          ],
          "name": "stdout"
        }
      ]
    },
    {
      "cell_type": "code",
      "metadata": {
        "id": "xUYLZvQqqjv8",
        "colab_type": "code",
        "colab": {}
      },
      "source": [
        ""
      ],
      "execution_count": 0,
      "outputs": []
    },
    {
      "cell_type": "code",
      "metadata": {
        "id": "b9OCCktriZoU",
        "colab_type": "code",
        "outputId": "7806da67-69ab-4a74-80f5-cbd31ce64734",
        "colab": {
          "base_uri": "https://localhost:8080/",
          "height": 51
        }
      },
      "source": [
        "freq = [.8, .1, .1]\n",
        "# toks = [str(i) for i in range(len(freq))]\n",
        "toks = ('a', 'bb', 'ccc')\n",
        "\n",
        "d = dit.ScalarDistribution(toks, freq)\n",
        "print(dit.shannon.entropy(d))\n",
        "print(manual_shannon(freq))\n",
        "\n"
      ],
      "execution_count": 17,
      "outputs": [
        {
          "output_type": "stream",
          "text": [
            "0.9219280948873623\n",
            "0.9219280948873625\n"
          ],
          "name": "stdout"
        }
      ]
    },
    {
      "cell_type": "code",
      "metadata": {
        "id": "1bFycFx-ihkg",
        "colab_type": "code",
        "colab": {
          "base_uri": "https://localhost:8080/",
          "height": 187
        },
        "outputId": "5beb2a8b-8378-4f1f-c065-127f3da3b99a"
      },
      "source": [
        "a_corpus = {'file_name': [\"aa\", \"ab\", \"ac\"], 'contents': [1, 2, 3]}\n",
        "a_df = pd.DataFrame(data = a_corpus)\n",
        "b_corpus = {'file_name': [\"ba\", \"bb\", \"bc\"], 'contents': [4, 5, 6]}\n",
        "b_df = pd.DataFrame(data = b_corpus)\n",
        "c_corpus = {'file_name': [\"ca\", \"cb\", \"cc\"], 'contents': [7, 8, 9]}\n",
        "c_df = pd.DataFrame(data = c_corpus)\n",
        "\n",
        "corpus_data = {'a':a_df, 'b':b_df, 'd':c_df}\n",
        "\n",
        "# corpus_contents = pd.Series([])\n",
        "corpus_contents = []\n",
        "for data_type in corpus_data.keys():\n",
        "    corpus_contents.append(corpus_data[data_type].contents)\n",
        "print(pd.concat(corpus_contents))\n",
        "\n",
        "\n",
        "# print([corpus_data[i] for i in corpus_data.keys()])\n",
        "\n",
        "# merged_corpus = pd.concat([df.contents for df in corpus_data[data_type] for data_type in corpus_data.keys()])\n",
        "# merged_corpus = pd.concat([df for data_type in corpus_data.keys() for df in corpus_data[data_type].contents])\n",
        "# flatten_matrix = [val for sublist in matrix for val in sublist] \n",
        "\n",
        "# something = [df[\"contents\"] for data_type in corpus_data.keys() for df in corpus_data[data_type]]\n",
        "# print(something)\n",
        "# print(pd.concat(something))\n",
        "# print([i for i in range(10)])\n",
        "\n",
        "# print(merged_df)\n",
        "# print(pd.concat([a_df.contents, b_df.contents]))"
      ],
      "execution_count": 43,
      "outputs": [
        {
          "output_type": "stream",
          "text": [
            "0    1\n",
            "1    2\n",
            "2    3\n",
            "0    4\n",
            "1    5\n",
            "2    6\n",
            "0    7\n",
            "1    8\n",
            "2    9\n",
            "Name: contents, dtype: int64\n"
          ],
          "name": "stdout"
        }
      ]
    },
    {
      "cell_type": "code",
      "metadata": {
        "id": "mXSfVlVo2oYS",
        "colab_type": "code",
        "colab": {}
      },
      "source": [
        "#Rank the system/datasets according to the confidence intervals\n",
        "#Compute the confidence intervals for all cross-entropy values\n",
        "#Rank the systems/datasets according to cross-entropy values\n",
        "#Top 50 most frequent tokens of each system and corpus (one system has generally two corpora)\n",
        "#Top 50 least frequent tokes of each system and corpus\n",
        "#What are the tokens that are in the target and not in the source (and the other way around)? Compute the distribution for those tokens\n",
        "#What are the mutual tokens (source and target)? please compute distribution\n",
        "#-Compute confidence intervals for the software metrics on source code (e.g., cyclo, loc, lcom5)\n"
      ],
      "execution_count": 0,
      "outputs": []
    },
    {
      "cell_type": "code",
      "metadata": {
        "id": "SU3QLYSd2RAo",
        "colab_type": "code",
        "colab": {}
      },
      "source": [
        "Visualize"
      ],
      "execution_count": 0,
      "outputs": []
    },
    {
      "cell_type": "code",
      "metadata": {
        "id": "KFr71USN2Sod",
        "colab_type": "code",
        "colab": {}
      },
      "source": [
        "Push updated fields to Mongo"
      ],
      "execution_count": 0,
      "outputs": []
    }
  ]
}