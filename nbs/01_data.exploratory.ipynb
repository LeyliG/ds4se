{
  "nbformat": 4,
  "nbformat_minor": 0,
  "metadata": {
    "kernelspec": {
      "display_name": "Python 3",
      "language": "python",
      "name": "python3"
    },
    "language_info": {
      "codemirror_mode": {
        "name": "ipython",
        "version": 3
      },
      "file_extension": ".py",
      "mimetype": "text/x-python",
      "name": "python",
      "nbconvert_exporter": "python",
      "pygments_lexer": "ipython3",
      "version": "3.6.8"
    },
    "colab": {
      "name": "01_data.exploratory.ipynb",
      "provenance": [],
      "toc_visible": true
    }
  },
  "cells": [
    {
      "cell_type": "code",
      "metadata": {
        "id": "U126SlRFD_uB",
        "colab_type": "code",
        "colab": {}
      },
      "source": [
        "# default_exp data.exploratory"
      ],
      "execution_count": 0,
      "outputs": []
    },
    {
      "cell_type": "markdown",
      "metadata": {
        "id": "bbi0boL5D_uQ",
        "colab_type": "text"
      },
      "source": [
        "# Exploration of your data\n",
        "\n",
        "> This module comprises all the statistical and inference techniques to describe the inner properties of software data. The submodules might include:\n",
        ">\n",
        "> - Descriptive statistics\n",
        "> - Software Metrics\n",
        "> - Information Theory\n",
        "> - Learning Principels Detection (Occams' Razor, Biased data, and Data Snooping)\n",
        "> - Inference: Probabilistic and Causal"
      ]
    },
    {
      "cell_type": "code",
      "metadata": {
        "id": "Y-sHbVxx1_-E",
        "colab_type": "code",
        "colab": {}
      },
      "source": [
        "# export\n",
        "# Imports\n",
        "import pandas as pd\n",
        "# import sentencepiece as sp"
      ],
      "execution_count": 0,
      "outputs": []
    },
    {
      "cell_type": "code",
      "metadata": {
        "id": "EirQw8HqD_uT",
        "colab_type": "code",
        "colab": {}
      },
      "source": [
        "# #hide\n",
        "# from nbdev.showdoc import *"
      ],
      "execution_count": 0,
      "outputs": []
    },
    {
      "cell_type": "code",
      "metadata": {
        "id": "6TFOIobLD_ue",
        "colab_type": "code",
        "colab": {}
      },
      "source": [
        "#Import dataframe from MongoDB\n",
        "import os\n",
        "def get_dataframes_from_mongo():\n",
        "  requirements = {'file_name': [], 'contents': []}\n",
        "  path = \"./requirements\"\n",
        "  for file in os.listdir(path):\n",
        "    requirements['file_name'].append(file)\n",
        "    with open (os.path.join(path, file), \"r\") as f:\n",
        "      requirements['contents'].append(f.read())\n",
        "  source_code = {'file_name': [], 'contents': []}\n",
        "  path = \"./source_code\"\n",
        "  for file in os.listdir(\"./source_code\"):\n",
        "    source_code['file_name'].append(file)\n",
        "    with open (os.path.join(path, file), \"r\") as f:\n",
        "      source_code['contents'].append(f.read())\n",
        "  req_df = pd.DataFrame(data = requirements)\n",
        "  src_df = pd.DataFrame(data = source_code)\n",
        "  return req_df, src_df\n",
        "\n",
        "a, b = get_dataframes_from_mongo()"
      ],
      "execution_count": 0,
      "outputs": []
    },
    {
      "cell_type": "code",
      "metadata": {
        "id": "_gy9Mn-h2oPi",
        "colab_type": "code",
        "outputId": "546e479c-ae5f-433b-9ec0-6e3ff644b366",
        "colab": {
          "base_uri": "https://localhost:8080/",
          "height": 918
        }
      },
      "source": [
        "print(a)"
      ],
      "execution_count": 16,
      "outputs": [
        {
          "output_type": "stream",
          "text": [
            "   file_name                                           contents\n",
            "0   RQ11.txt  REQUIREMENT 11: FULL PKI REQUEST MESSAGES\\n   ...\n",
            "1   RQ24.txt  REQUIREMENT 24: PROOF-OF-POSSESSION\\n     \\nAs...\n",
            "2   RQ38.txt  REQUIREMENT 38: SIMPLE ENROLL AND RE-ENROLL RE...\n",
            "3    RQ4.txt  REQUIREMENT 4: OBTAINING CA CERTIFICATES\\n    ...\n",
            "4   RQ18.txt  REQUIREMENT 18: HTTP-BASED CLIENT AUTHENTICATI...\n",
            "5   RQ22.txt  REQUIREMENT 22:\\n     \\nTLS client authenticat...\n",
            "6   RQ21.txt  REQUIREMENT 21: TLS-BASED SERVER AUTHENTICATIO...\n",
            "7   RQ26.txt  REQUIREMENT 26: SERVER AUTHORIZATION\\n     \\nT...\n",
            "8   RQ40.txt  REQUIREMENT 40: FULL CMC REQUEST\\n     \\nIf th...\n",
            "9   RQ58.txt  REQUIREMENT 58: SERVER KEY GENERATION\\n     \\n...\n",
            "10  RQ37.txt  REQUIREMENT 37: SIMPLE RE-ENROLLMENT OF CLIENT...\n",
            "11  RQ39.txt  REQUIREMENT 39: FULL CMC\\n     \\nAn EST client...\n",
            "12  RQ14.txt  REQUIREMENT 14: APPLICATION LAYER\\n     \\nThe ...\n",
            "13   RQ7.txt  REQUIREMENT 7: CERTIFICATE-LESS TLS AUTHENTICA...\n",
            "14  RQ31.txt  REQUIREMENT 31: DISTRIBUTION OF CA CERTIFICATE...\n",
            "15  RQ56.txt  REQUIREMENT 56: CSR ATTRIBUTES\\n     \\nThe fol...\n",
            "16  RQ48.txt  REQUIREMENT 48: CSR ATTRIBUTES REQUEST\\n     \\...\n",
            "17   RQ9.txt  REQUIREMENT 9: CLIENT CERTIFICATE REISSUANCE\\n...\n",
            "18  RQ45.txt  REQUIREMENT 45: REQUESTS FOR ASYMMETRIC ENCRYP...\n",
            "19  RQ36.txt  REQUIREMENT 36: SIMPLE ENROLLMENT OF CLIENTS\\n...\n",
            "20  RQ33.txt  REQUIREMENT 33: CA CERTIFICATES REQUEST\\n     ...\n",
            "21  RQ57.txt  REQUIREMENT 57: ENROLL/RE-ENROLL\\n     \\nThe f...\n",
            "22  RQ51.txt  REQUIREMENT 51: SECURITY CONSIDERATIONS\\n     ...\n",
            "23  RQ16.txt  REQUIREMENT 16: HTTP HEADERS FOR CONTROL\\n    ...\n",
            "24   RQ5.txt  REQUIREMENT 5: INTIAL ENROLLMENT\\n     \\nAfter...\n",
            "25  RQ29.txt  REQUIREMENT 29: CLIENT AUTHORIZATION\\n     \\nT...\n",
            "26  RQ19.txt  REQUIREMENT 19: MESSAGE TYPES\\n     \\nThis doc...\n",
            "27  RQ34.txt  REQUIREMENT 34: CA CERTIFICATES RESPONSE\\n    ...\n",
            "28  RQ25.txt  REQUIREMENT 25: LINKING IDENTITY AND POP INFOR...\n",
            "29  RQ32.txt  REQUIREMENT 32: BOOTSTRAP DISTRIBUTION OF CA C...\n",
            "30  RQ46.txt  REQUIREMENT 46: SERVER-SIDE KEY GENERATION RES...\n",
            "31  RQ13.txt  REQUIREMENT 13: PROTOCOL DESIGN AND LAYERING\\n...\n",
            "32  RQ53.txt  REQUIREMENT 53: INFORMATIVE REFERENCES\\n     \\...\n",
            "33  RQ15.txt  REQUIREMENT 15: HTTP LAYER\\n     \\nHTTP is use...\n",
            "34  RQ20.txt  REQUIREMENT 20: TLS LAYER\\n     \\nTLS provides...\n",
            "35  RQ50.txt  REQUIREMENT 50: IANA CONSIDERATIONS\\n     \\nSe...\n",
            "36   RQ2.txt  REQUIREMENT 2: TERMINOLOGY\\n     \\nThe key wor...\n",
            "37  RQ27.txt  REQUIREMENT 27: CLIENT USE OF EXPLICIT TA DATA...\n",
            "38   RQ8.txt  REQUIREMENT 8: HTTP-BASED CLIENT AUTHENTICATIO...\n",
            "39  RQ55.txt  REQUIREMENT 55: OBTAINING CA CERTIFICATES\\n   ...\n",
            "40  RQ35.txt  REQUIREMENT 35: CLIENT CERTIFICATE REQUEST FUN...\n",
            "41  RQ23.txt  REQUIREMENT 23: CERTIFICATE-LESS TLS MUTUAL AU...\n",
            "42  RQ17.txt  REQUIREMENT 17: HTTP URIS FOR CONTROL\\n     \\n...\n",
            "43  RQ49.txt  REQUIREMENT 49: CSR ATTRIBUTES RESPONSE\\n     ...\n",
            "44  RQ42.txt  REQUIREMENT 42: SERVER-SIDE KEY GENERATION\\n  ...\n",
            "45  RQ28.txt  REQUIREMENT 28: CLIENT USE OF IMPLICIT TA DATA...\n",
            "46  RQ41.txt  REQUIREMENT 41: FULL CMC RESPONSE\\n     \\nIf t...\n",
            "47  RQ10.txt  REQUIREMENT 10: SERVER KEY GENERATION\\n     \\n...\n",
            "48   RQ1.txt  REQUIREMENT 1\\n     \\nThis document profiles c...\n",
            "49   RQ6.txt  REQUIREMENT 6: CERTIFICATE TLS AUTHENTICATION\\...\n",
            "50  RQ52.txt  REQUIREMENT 52: REFERENCES\\n     \\n           ...\n",
            "51  RQ47.txt  REQUIREMENT 47: CSR ATTRIBUTES\\n     \\nCA poli...\n"
          ],
          "name": "stdout"
        }
      ]
    },
    {
      "cell_type": "code",
      "metadata": {
        "id": "p447Hhm0B8nD",
        "colab_type": "code",
        "colab": {
          "base_uri": "https://localhost:8080/",
          "height": 272
        },
        "outputId": "cb2d7e4d-e25d-407a-8b40-df49607d718f"
      },
      "source": [
        "print(b)"
      ],
      "execution_count": 17,
      "outputs": [
        {
          "output_type": "stream",
          "text": [
            "             file_name                                           contents\n",
            "0    est_server_http.h  // MINGW typedefs pid_t to int. Using #define ...\n",
            "1      est_ossl_util.c  /*********************************************...\n",
            "2    est_client_http.c  /*\\n** signed long to signed int\\n*/\\nint curl...\n",
            "3      est_ossl_util.h  int ossl_verify_cb(int ok, X509_STORE_CTX *ctx...\n",
            "4    est_server_http.c  static pthread_t pthread_self (void)\\n{\\n    r...\n",
            "5          est_proxy.c  /*\\n * Since we hijack the OpenSSL BUF_MEM wit...\n",
            "6           est_locl.h  LIBEST_TEST_API void est_log (EST_LOG_LEVEL lv...\n",
            "7         est_server.h  /*\\n * These prototypes are private to est_ser...\n",
            "8         est_server.c  /*\\n * This function sends EST specific HTTP e...\n",
            "9   est_client_proxy.c  /* Use WSAAddressToStringA instead of inet_nto...\n",
            "10               est.c  static void (*est_log_func)(char *, va_list) =...\n",
            "11  est_client_proxy.h  tcw_err_t tcw_connect(tcw_sock_t *sock, tcw_op...\n",
            "12               est.h  /** @file */\\n/*------------------------------...\n",
            "13        est_client.c  /*\\n * Utility function to set the certificate...\n"
          ],
          "name": "stdout"
        }
      ]
    },
    {
      "cell_type": "code",
      "metadata": {
        "id": "UJxMpyFn2oUJ",
        "colab_type": "code",
        "colab": {
          "base_uri": "https://localhost:8080/",
          "height": 394
        },
        "outputId": "aeb05790-39c4-4cf8-fbd0-6acd936bd279"
      },
      "source": [
        "#Compute entropy of all the files per system and calculate mean, std, median, and std for median absolute deviation. The idea is to create confidence intervals for each system/dataset\n",
        "!pip install dit\n",
        "import dit"
      ],
      "execution_count": 19,
      "outputs": [
        {
          "output_type": "stream",
          "text": [
            "Collecting dit\n",
            "\u001b[?25l  Downloading https://files.pythonhosted.org/packages/ac/29/8172e0ea15be3966196e8a1a4078564f4246803dd4f09b1871881e118467/dit-1.2.3-py2.py3-none-any.whl (397kB)\n",
            "\u001b[K     |████████████████████████████████| 399kB 2.8MB/s \n",
            "\u001b[?25hRequirement already satisfied: six>=1.4.0 in /usr/local/lib/python3.6/dist-packages (from dit) (1.12.0)\n",
            "Requirement already satisfied: networkx in /usr/local/lib/python3.6/dist-packages (from dit) (2.4)\n",
            "Requirement already satisfied: numpy>=1.11 in /usr/local/lib/python3.6/dist-packages (from dit) (1.17.5)\n",
            "Requirement already satisfied: contextlib2 in /usr/local/lib/python3.6/dist-packages (from dit) (0.5.5)\n",
            "Requirement already satisfied: prettytable in /usr/local/lib/python3.6/dist-packages (from dit) (0.7.2)\n",
            "Requirement already satisfied: scipy>=0.15.0 in /usr/local/lib/python3.6/dist-packages (from dit) (1.4.1)\n",
            "Collecting boltons\n",
            "\u001b[?25l  Downloading https://files.pythonhosted.org/packages/da/53/87bd0ccbf59e760bd2817b5895cbed91b3e573732f8cc40ae299ff9bf886/boltons-20.0.0-py2.py3-none-any.whl (168kB)\n",
            "\u001b[K     |████████████████████████████████| 174kB 47.9MB/s \n",
            "\u001b[?25hCollecting debtcollector\n",
            "  Downloading https://files.pythonhosted.org/packages/bf/f5/0591d1fd42a546e543cff78d264511b63a176d2b406a94c6bec111cf25fa/debtcollector-2.0.0-py3-none-any.whl\n",
            "Requirement already satisfied: decorator>=4.3.0 in /usr/local/lib/python3.6/dist-packages (from networkx->dit) (4.4.1)\n",
            "Requirement already satisfied: wrapt>=1.7.0 in /usr/local/lib/python3.6/dist-packages (from debtcollector->dit) (1.11.2)\n",
            "Collecting pbr!=2.1.0,>=2.0.0\n",
            "\u001b[?25l  Downloading https://files.pythonhosted.org/packages/7a/db/a968fd7beb9fe06901c1841cb25c9ccb666ca1b9a19b114d1bbedf1126fc/pbr-5.4.4-py2.py3-none-any.whl (110kB)\n",
            "\u001b[K     |████████████████████████████████| 112kB 50.7MB/s \n",
            "\u001b[?25hInstalling collected packages: boltons, pbr, debtcollector, dit\n",
            "Successfully installed boltons-20.0.0 debtcollector-2.0.0 dit-1.2.3 pbr-5.4.4\n"
          ],
          "name": "stdout"
        }
      ]
    },
    {
      "cell_type": "code",
      "metadata": {
        "id": "FqfrsNY3FGbo",
        "colab_type": "code",
        "colab": {
          "base_uri": "https://localhost:8080/",
          "height": 34
        },
        "outputId": "7d0f720a-dceb-42cb-ae4b-7a2b51be3205"
      },
      "source": [
        "d = dit.Distribution(['1', '2', '3', '4'], [0.125, 0.125, 0.25, 0.5])\n",
        "print(dit.shannon.entropy(d))"
      ],
      "execution_count": 25,
      "outputs": [
        {
          "output_type": "stream",
          "text": [
            "1.75\n"
          ],
          "name": "stdout"
        }
      ]
    },
    {
      "cell_type": "code",
      "metadata": {
        "id": "mXSfVlVo2oYS",
        "colab_type": "code",
        "colab": {}
      },
      "source": [
        "#Rank the system/datasets according to the confidence intervals\n",
        "#Compute the confidence intervals for all cross-entropy values\n",
        "#Rank the systems/datasets according to cross-entropy values\n",
        "#Top 50 most frequent tokens of each system and corpus (one system has generally two corpora)\n",
        "#Top 50 least frequent tokes of each system and corpus\n",
        "#What are the tokens that are in the target and not in the source (and the other way around)? Compute the distribution for those tokens\n",
        "#What are the mutual tokens (source and target)? please compute distribution\n",
        "#-Compute confidence intervals for the software metrics on source code (e.g., cyclo, loc, lcom5)\n"
      ],
      "execution_count": 0,
      "outputs": []
    },
    {
      "cell_type": "code",
      "metadata": {
        "id": "WATI7Fng2PdI",
        "colab_type": "code",
        "colab": {}
      },
      "source": [
        "Run metrics"
      ],
      "execution_count": 0,
      "outputs": []
    },
    {
      "cell_type": "code",
      "metadata": {
        "id": "SU3QLYSd2RAo",
        "colab_type": "code",
        "colab": {}
      },
      "source": [
        "Visualize"
      ],
      "execution_count": 0,
      "outputs": []
    },
    {
      "cell_type": "code",
      "metadata": {
        "id": "KFr71USN2Sod",
        "colab_type": "code",
        "colab": {}
      },
      "source": [
        "Push updated fields to Mongo"
      ],
      "execution_count": 0,
      "outputs": []
    }
  ]
}