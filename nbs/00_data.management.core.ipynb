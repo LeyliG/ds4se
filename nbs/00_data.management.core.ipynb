{
 "cells": [
  {
   "cell_type": "code",
   "execution_count": null,
   "metadata": {},
   "outputs": [],
   "source": [
    "# default_exp data.management.core"
   ]
  },
  {
   "cell_type": "markdown",
   "metadata": {},
   "source": [
    "# Data Management Core\n",
    "\n",
    "> This module contains all of the core functionality and wrappers for code related data."
   ]
  },
  {
   "cell_type": "code",
   "execution_count": null,
   "metadata": {},
   "outputs": [],
   "source": [
    "# export\n",
    "from pathlib import Path\n",
    "from pydantic import BaseModel\n",
    "from typing import List, Optional"
   ]
  },
  {
   "cell_type": "code",
   "execution_count": null,
   "metadata": {},
   "outputs": [],
   "source": [
    "# export\n",
    "F_EXT_TO_LANG = {\n",
    "    \".java\": \"Java\",\n",
    "    \".py\": \"Python\",\n",
    "    \".cpp\": \"C++\",\n",
    "    \".c\": \"C\",\n",
    "    \".js\": \"Javascript\",\n",
    "}"
   ]
  },
  {
   "cell_type": "code",
   "execution_count": null,
   "metadata": {},
   "outputs": [],
   "source": [
    "# export\n",
    "class Class(BaseModel):\n",
    "    text: str\n",
    "    lang: str\n",
    "    instance_vars: Optional[List[str]] = []\n",
    "    methods: Optional[List[str]] = []\n",
    "\n",
    "    @staticmethod\n",
    "    def from_file(fpath: Path):\n",
    "        with open(fpath, \"r\") as f:\n",
    "            text = f.read()\n",
    "        lang = F_EXT_TO_LANG[fpath.suffix]\n",
    "        return Class(text=text, lang=lang)\n",
    "\n",
    "\n",
    "class Method:\n",
    "    text: str\n",
    "    lang: str"
   ]
  },
  {
   "cell_type": "code",
   "execution_count": null,
   "metadata": {},
   "outputs": [],
   "source": [
    "import tempfile\n",
    "\n",
    "tmp = tempfile.NamedTemporaryFile(prefix=\"tmpClass\", suffix=\".java\")\n",
    "class_str = \"\"\"public class tmpClass {\n",
    "    public static void main(String[] args) {\n",
    "    \n",
    "    }\n",
    "}\"\"\"\n",
    "try:\n",
    "    tmp.write(bytes(class_str, encoding=\"utf-8\"))\n",
    "    tmp.seek(0)\n",
    "\n",
    "    new_class = Class.from_file(Path(tmp.name))\n",
    "finally:\n",
    "    tmp.close()\n",
    "\n",
    "assert new_class.text == class_str\n",
    "assert new_class.lang == \"Java\""
   ]
  },
  {
   "cell_type": "code",
   "execution_count": null,
   "metadata": {},
   "outputs": [],
   "source": [
    "# export\n",
    "class Document:\n",
    "    text: str\n",
    "    lang: str\n",
    "\n",
    "\n",
    "class Requirement:\n",
    "    text: str\n",
    "    pass"
   ]
  },
  {
   "cell_type": "code",
   "execution_count": null,
   "metadata": {},
   "outputs": [],
   "source": [
    "# hide\n",
    "from nbdev.export import notebook2script\n",
    "\n",
    "notebook2script()"
   ]
  }
 ],
 "metadata": {
  "kernelspec": {
   "display_name": "Python 3",
   "language": "python",
   "name": "python3"
  }
 },
 "nbformat": 4,
 "nbformat_minor": 4
}
