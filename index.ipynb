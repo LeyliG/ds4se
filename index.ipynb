{
 "cells": [
  {
   "cell_type": "code",
   "execution_count": 1,
   "metadata": {},
   "outputs": [],
   "source": [
    "#hide\n",
    "from ds4se import facade"
   ]
  },
  {
   "cell_type": "markdown",
   "metadata": {},
   "source": [
    "# ds4se\n",
    "\n",
    "> Data Science for Software Engieering (ds4se) is an academic initiative to perform exploratory analysis on software engineering artifacts and metadata. Data Management, Analysis, and Benchmarking for DL and Traceability."
   ]
  },
  {
   "cell_type": "markdown",
   "metadata": {},
   "source": [
    "This file will become your README and also the index of your documentation."
   ]
  },
  {
   "cell_type": "markdown",
   "metadata": {},
   "source": [
    "## Install"
   ]
  },
  {
   "cell_type": "markdown",
   "metadata": {},
   "source": [
    "`pip install ds4se`"
   ]
  },
  {
   "cell_type": "markdown",
   "metadata": {},
   "source": [
    "## How to use"
   ]
  },
  {
   "cell_type": "markdown",
   "metadata": {},
   "source": [
    "## Traceability"
   ]
  },
  {
   "cell_type": "markdown",
   "metadata": {},
   "source": [
    "To use the ds4se library to calculate trace link value of proposed trace link with given."
   ]
  },
  {
   "cell_type": "markdown",
   "metadata": {},
   "source": [
    "    Supported technique model:\n",
    "        VSM\n",
    "        LDA\n",
    "        orthogonal \n",
    "        LSA\n",
    "        JS\n",
    "        word2vec\n",
    "        doc2vec"
   ]
  },
  {
   "cell_type": "code",
   "execution_count": 21,
   "metadata": {},
   "outputs": [
    {
     "data": {
      "text/plain": [
       "1"
      ]
     },
     "execution_count": 21,
     "metadata": {},
     "output_type": "execute_result"
    }
   ],
   "source": [
    "facade.TraceLinkValue(\"textfile.txt\",\"source\",\"techinque\")"
   ]
  },
  {
   "cell_type": "markdown",
   "metadata": {},
   "source": [
    "## Analysis"
   ]
  },
  {
   "cell_type": "markdown",
   "metadata": {},
   "source": [
    "### Usage of ds4se model to calculate the number of documents of either source or target class"
   ]
  },
  {
   "cell_type": "markdown",
   "metadata": {},
   "source": [
    "    The method takes in two parameters, source artifacts and target artifacts, and it will do calculation for both classes.\n",
    "    \n",
    "    The method returns a list of 4 integers:\n",
    "    1: number of documents for source artifacts;\n",
    "    2: number of documents for target artifacts;\n",
    "    3: source difference;\n",
    "    4: target difference."
   ]
  },
  {
   "cell_type": "code",
   "execution_count": 70,
   "metadata": {},
   "outputs": [
    {
     "name": "stdout",
     "output_type": "stream",
     "text": [
      "The number of documents for source is 108 , with -24 source difference\n",
      "The number of documents for target is 132 , with 24 target difference\n"
     ]
    }
   ],
   "source": [
    "result = facade.NumDoc(\"source\",\"target\")\n",
    "source_doc = result[0]\n",
    "target_doc = result[1]\n",
    "difference_source = result[2]\n",
    "difference_target = result[3]\n",
    "print(\"The number of documents for source is {} , with {} source difference\".format(source_doc, difference_source))\n",
    "print(\"The number of documents for target is {} , with {} target difference\".format(target_doc, difference_target))"
   ]
  },
  {
   "cell_type": "markdown",
   "metadata": {},
   "source": [
    "### Usage of ds4se model to calculate the vocabulary size of either source or target class"
   ]
  },
  {
   "cell_type": "markdown",
   "metadata": {},
   "source": [
    "    The method takes in two parameters, source artifacts and target artifacts, and it will do calculation for both classes.\n",
    "    \n",
    "    The method returns a list of 4 integers:\n",
    "    1: vocabulary size for source artifacts;\n",
    "    2: vocabulary size for target artifacts;\n",
    "    3: source difference;\n",
    "    4: target difference."
   ]
  },
  {
   "cell_type": "code",
   "execution_count": 71,
   "metadata": {},
   "outputs": [
    {
     "name": "stdout",
     "output_type": "stream",
     "text": [
      "The vocabulary size for source is 177 , with 48 target difference\n",
      "The vocabulary size for target is 129 , with -48 target difference\n"
     ]
    }
   ],
   "source": [
    "vocab_result = facade.VocabSize(\"source\", \"target\")\n",
    "source = vocab_result[0]\n",
    "target = vocab_result[1]\n",
    "difference_source = vocab_result[2]\n",
    "difference_target = vocab_result[3]\n",
    "print(\"The vocabulary size for source is {} , with {} target difference\".format(source, difference_source))\n",
    "print(\"The vocabulary size for target is {} , with {} target difference\".format(target, difference_target))"
   ]
  },
  {
   "cell_type": "markdown",
   "metadata": {},
   "source": [
    "### Usage of ds4se model to calculate the average number of token of either source or target class"
   ]
  },
  {
   "cell_type": "markdown",
   "metadata": {},
   "source": [
    "    The method takes in two parameters, source artifacts and target artifacts, and it will do calculation for both classes.\n",
    "    \n",
    "    The method returns a list of 4 integers:\n",
    "    1: average number of token for source artifacts;\n",
    "    2: average number of token for target artifacts;\n",
    "    3: source difference;\n",
    "    4: target difference."
   ]
  },
  {
   "cell_type": "code",
   "execution_count": 73,
   "metadata": {},
   "outputs": [
    {
     "name": "stdout",
     "output_type": "stream",
     "text": [
      "The number of average token for source is 100 , with 48 source difference\n",
      "The number of average token for target is 139 , with -48 target difference\n"
     ]
    }
   ],
   "source": [
    "token_result = facade.AverageToken(\"source\", \"target\")\n",
    "source = token_result[0]\n",
    "target = token_result[1]\n",
    "difference_source = vocab_result[2]\n",
    "difference_target = vocab_result[3]\n",
    "print(\"The number of average token for source is {} , with {} source difference\".format(source, difference_source))\n",
    "print(\"The number of average token for target is {} , with {} target difference\".format(target, difference_target))"
   ]
  },
  {
   "cell_type": "markdown",
   "metadata": {},
   "source": [
    "### Usage of ds4se model to retriev term frequency"
   ]
  },
  {
   "cell_type": "markdown",
   "metadata": {},
   "source": [
    "    The method takes in two parameters, \n",
    "    1： source artifacts,\n",
    "    2： target artifacts, \n",
    "    and it will do calculation for both classes.\n",
    "    \n",
    "    The method returns a dictonary with \n",
    "    key: token\n",
    "    value: a list of count and frequency"
   ]
  },
  {
   "cell_type": "code",
   "execution_count": 77,
   "metadata": {},
   "outputs": [
    {
     "data": {
      "text/plain": [
       "{'est': [183, 0.183], 'http': [173, 0.173], 'frequnecy': [133, 0.133]}"
      ]
     },
     "execution_count": 77,
     "metadata": {},
     "output_type": "execute_result"
    }
   ],
   "source": [
    "facade.VocabShared(\"source\",\"target\")"
   ]
  },
  {
   "cell_type": "markdown",
   "metadata": {},
   "source": [
    "If we only need the term frequency of one of two classes, we can use Vocab() function"
   ]
  },
  {
   "cell_type": "code",
   "execution_count": 79,
   "metadata": {},
   "outputs": [
    {
     "data": {
      "text/plain": [
       "{'est': [118, 0.118], 'http': [127, 0.127], 'frequnecy': [162, 0.162]}"
      ]
     },
     "execution_count": 79,
     "metadata": {},
     "output_type": "execute_result"
    }
   ],
   "source": [
    "facade.Vocab(\"filename\")"
   ]
  },
  {
   "cell_type": "markdown",
   "metadata": {},
   "source": [
    "### For Shared Metrics"
   ]
  },
  {
   "cell_type": "markdown",
   "metadata": {},
   "source": [
    "Using the following metrics to compute using both source and target artifacts, use the following funtions. \n",
    "\n",
    "They all require two parameters: source and target artifacts. \n",
    "\n",
    "And return one int value"
   ]
  },
  {
   "cell_type": "markdown",
   "metadata": {},
   "source": [
    "Shared vocabulary size"
   ]
  },
  {
   "cell_type": "code",
   "execution_count": 82,
   "metadata": {},
   "outputs": [
    {
     "ename": "NameError",
     "evalue": "name 'size' is not defined",
     "output_type": "error",
     "traceback": [
      "\u001b[1;31m---------------------------------------------------------------------------\u001b[0m",
      "\u001b[1;31mNameError\u001b[0m                                 Traceback (most recent call last)",
      "\u001b[1;32m<ipython-input-82-dd8557688b52>\u001b[0m in \u001b[0;36m<module>\u001b[1;34m\u001b[0m\n\u001b[1;32m----> 1\u001b[1;33m \u001b[0mfacade\u001b[0m\u001b[1;33m.\u001b[0m\u001b[0mSharedVocabSize\u001b[0m\u001b[1;33m(\u001b[0m\u001b[1;34m\"source\"\u001b[0m\u001b[1;33m,\u001b[0m \u001b[1;34m\"target\"\u001b[0m\u001b[1;33m)\u001b[0m\u001b[1;33m\u001b[0m\u001b[1;33m\u001b[0m\u001b[0m\n\u001b[0m",
      "\u001b[1;32m~\\Desktop\\10_3\\ds4se\\ds4se\\facade.py\u001b[0m in \u001b[0;36mSharedVocabSize\u001b[1;34m(source, target)\u001b[0m\n\u001b[0;32m     61\u001b[0m \u001b[1;32mdef\u001b[0m \u001b[0mSharedVocabSize\u001b[0m\u001b[1;33m(\u001b[0m\u001b[0msource\u001b[0m\u001b[1;33m,\u001b[0m \u001b[0mtarget\u001b[0m\u001b[1;33m)\u001b[0m\u001b[1;33m:\u001b[0m\u001b[1;33m\u001b[0m\u001b[1;33m\u001b[0m\u001b[0m\n\u001b[0;32m     62\u001b[0m     \u001b[0mshared_size\u001b[0m \u001b[1;33m=\u001b[0m \u001b[0mrandom\u001b[0m\u001b[1;33m.\u001b[0m\u001b[0mrandint\u001b[0m\u001b[1;33m(\u001b[0m\u001b[1;36m100\u001b[0m\u001b[1;33m,\u001b[0m\u001b[1;36m200\u001b[0m\u001b[1;33m)\u001b[0m\u001b[1;33m\u001b[0m\u001b[1;33m\u001b[0m\u001b[0m\n\u001b[1;32m---> 63\u001b[1;33m     \u001b[1;32mreturn\u001b[0m \u001b[0msize\u001b[0m\u001b[1;33m\u001b[0m\u001b[1;33m\u001b[0m\u001b[0m\n\u001b[0m\u001b[0;32m     64\u001b[0m \u001b[1;33m\u001b[0m\u001b[0m\n\u001b[0;32m     65\u001b[0m \u001b[1;31m#export\u001b[0m\u001b[1;33m\u001b[0m\u001b[1;33m\u001b[0m\u001b[1;33m\u001b[0m\u001b[0m\n",
      "\u001b[1;31mNameError\u001b[0m: name 'size' is not defined"
     ]
    }
   ],
   "source": [
    "facade.SharedVocabSize(\"source\", \"target\")"
   ]
  },
  {
   "cell_type": "markdown",
   "metadata": {},
   "source": [
    "Mutual information"
   ]
  },
  {
   "cell_type": "code",
   "execution_count": null,
   "metadata": {},
   "outputs": [],
   "source": [
    "facade.MutualInformation(\"source\", \"target\")"
   ]
  },
  {
   "cell_type": "markdown",
   "metadata": {},
   "source": [
    "Corss Entropy"
   ]
  },
  {
   "cell_type": "code",
   "execution_count": null,
   "metadata": {},
   "outputs": [],
   "source": []
  }
 ],
 "metadata": {
  "kernelspec": {
   "display_name": "Python 3",
   "language": "python",
   "name": "python3"
  },
  "language_info": {
   "codemirror_mode": {
    "name": "ipython",
    "version": 3
   },
   "file_extension": ".py",
   "mimetype": "text/x-python",
   "name": "python",
   "nbconvert_exporter": "python",
   "pygments_lexer": "ipython3",
   "version": "3.8.5"
  }
 },
 "nbformat": 4,
 "nbformat_minor": 2
}
